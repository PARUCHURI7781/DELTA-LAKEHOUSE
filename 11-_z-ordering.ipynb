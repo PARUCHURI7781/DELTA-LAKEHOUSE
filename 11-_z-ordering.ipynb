{
 "cells": [
  {
   "cell_type": "code",
   "execution_count": 0,
   "metadata": {
    "application/vnd.databricks.v1+cell": {
     "cellMetadata": {
      "byteLimit": 2048000,
      "rowLimit": 10000
     },
     "inputWidgets": {},
     "nuid": "dbc6d535-12bd-4bef-9740-6cbbda19c2db",
     "showTitle": false,
     "title": ""
    }
   },
   "outputs": [],
   "source": [
    "from pyspark.sql.functions import * \n",
    "\n",
    "from pyspark.sql.types import * \n",
    "\n",
    "from delta.tables import *"
   ]
  },
  {
   "cell_type": "code",
   "execution_count": 0,
   "metadata": {
    "application/vnd.databricks.v1+cell": {
     "cellMetadata": {
      "byteLimit": 2048000,
      "implicitDf": true,
      "rowLimit": 10000
     },
     "inputWidgets": {},
     "nuid": "9defcfc3-8d7a-4bc6-a013-989b7b4cf711",
     "showTitle": false,
     "title": ""
    }
   },
   "outputs": [
    {
     "output_type": "display_data",
     "data": {
      "text/html": [
       "<style scoped>\n",
       "  .table-result-container {\n",
       "    max-height: 300px;\n",
       "    overflow: auto;\n",
       "  }\n",
       "  table, th, td {\n",
       "    border: 1px solid black;\n",
       "    border-collapse: collapse;\n",
       "  }\n",
       "  th, td {\n",
       "    padding: 5px;\n",
       "  }\n",
       "  th {\n",
       "    text-align: left;\n",
       "  }\n",
       "</style><div class='table-result-container'><table class='table-result'><thead style='background-color: white'><tr></tr></thead><tbody></tbody></table></div>"
      ]
     },
     "metadata": {
      "application/vnd.databricks.v1+output": {
       "addedWidgets": {},
       "aggData": [],
       "aggError": "",
       "aggOverflow": false,
       "aggSchema": [],
       "aggSeriesLimitReached": false,
       "aggType": "",
       "arguments": {},
       "columnCustomDisplayInfos": {},
       "data": [],
       "datasetInfos": [],
       "dbfsResultPath": null,
       "isJsonSchema": true,
       "metadata": {},
       "overflow": false,
       "plotOptions": {
        "customPlotOptions": {},
        "displayType": "table",
        "pivotAggregation": null,
        "pivotColumns": null,
        "xColumns": null,
        "yColumns": null
       },
       "removedWidgets": [],
       "schema": [],
       "type": "table"
      }
     },
     "output_type": "display_data"
    }
   ],
   "source": [
    "%sql\n",
    "CREATE or replace TABLE employees_zorder (\n",
    "    EmployeeID INT,\n",
    "    FirstName STRING,\n",
    "    LastName STRING,\n",
    "    Department STRING,\n",
    "    Title STRING,\n",
    "    Salary DECIMAL(10,2),\n",
    "    EffectiveDate DATE,\n",
    "    EndDate DATE,\n",
    "    IsCurrent BOOLEAN\n",
    ")using delta \n",
    " location '/Filestore/tables/z_order'; \n",
    "\n"
   ]
  },
  {
   "cell_type": "code",
   "execution_count": 0,
   "metadata": {
    "application/vnd.databricks.v1+cell": {
     "cellMetadata": {
      "byteLimit": 2048000,
      "rowLimit": 10000
     },
     "inputWidgets": {},
     "nuid": "f45ea7da-fc01-4753-a264-9e2b9122fb22",
     "showTitle": false,
     "title": ""
    }
   },
   "outputs": [],
   "source": [
    "path=\"/FileStore/tables/flight_time.json\""
   ]
  },
  {
   "cell_type": "code",
   "execution_count": 0,
   "metadata": {
    "application/vnd.databricks.v1+cell": {
     "cellMetadata": {
      "byteLimit": 2048000,
      "rowLimit": 10000
     },
     "inputWidgets": {},
     "nuid": "8d1c4195-4b48-4cf8-b1e1-fe5e02b0f7f7",
     "showTitle": false,
     "title": ""
    }
   },
   "outputs": [],
   "source": [
    "df=spark.read.format(\"json\")\\\n",
    "                      .load(path)"
   ]
  },
  {
   "cell_type": "code",
   "execution_count": 0,
   "metadata": {
    "application/vnd.databricks.v1+cell": {
     "cellMetadata": {
      "byteLimit": 2048000,
      "rowLimit": 10000
     },
     "inputWidgets": {},
     "nuid": "7a967b39-99cf-474e-9c1f-2a9b69ce37d5",
     "showTitle": false,
     "title": ""
    }
   },
   "outputs": [
    {
     "output_type": "stream",
     "name": "stdout",
     "output_type": "stream",
     "text": [
      "+--------+---------+------------+------------+--------+----+--------------+--------+--------+----------+-----------------+------+----------------+-------+---------+\n|ARR_TIME|CANCELLED|CRS_ARR_TIME|CRS_DEP_TIME|DEP_TIME|DEST|DEST_CITY_NAME|DISTANCE| FL_DATE|OP_CARRIER|OP_CARRIER_FL_NUM|ORIGIN|ORIGIN_CITY_NAME|TAXI_IN|WHEELS_ON|\n+--------+---------+------------+------------+--------+----+--------------+--------+--------+----------+-----------------+------+----------------+-------+---------+\n|    1348|        0|        1400|        1115|    1113| ATL|   Atlanta, GA|     946|1/1/2000|        DL|             1451|   BOS|      Boston, MA|      5|     1343|\n|    1543|        0|        1559|        1315|    1311| ATL|   Atlanta, GA|     946|1/1/2000|        DL|             1479|   BOS|      Boston, MA|      7|     1536|\n|    1651|        0|        1721|        1415|    1414| ATL|   Atlanta, GA|     946|1/1/2000|        DL|             1857|   BOS|      Boston, MA|      9|     1642|\n|    2005|        0|        2013|        1715|    1720| ATL|   Atlanta, GA|     946|1/1/2000|        DL|             1997|   BOS|      Boston, MA|     10|     1955|\n|    2240|        0|        2300|        2015|    2010| ATL|   Atlanta, GA|     946|1/1/2000|        DL|             2065|   BOS|      Boston, MA|     10|     2230|\n|    1003|        0|         955|         650|     649| ATL|   Atlanta, GA|     946|1/1/2000|        US|             2619|   BOS|      Boston, MA|      7|      956|\n|    1717|        0|        1738|        1440|    1446| ATL|   Atlanta, GA|     946|1/1/2000|        US|             2621|   BOS|      Boston, MA|      4|     1713|\n|    2006|        0|        2008|        1740|    1744| ATL|   Atlanta, GA|     449|1/1/2000|        DL|              346|   BTR| Baton Rouge, LA|      9|     1957|\n|    1601|        0|        1622|        1345|    1345| ATL|   Atlanta, GA|     449|1/1/2000|        DL|              412|   BTR| Baton Rouge, LA|      9|     1552|\n|    1448|        0|        1455|        1245|    1245| ATL|   Atlanta, GA|     712|1/1/2000|        DL|              299|   BUF|     Buffalo, NY|      5|     1443|\n|    2235|        0|        2241|        2035|    2035| ATL|   Atlanta, GA|     712|1/1/2000|        DL|              495|   BUF|     Buffalo, NY|      9|     2226|\n|     947|        0|         925|         710|     710| ATL|   Atlanta, GA|     712|1/1/2000|        DL|              677|   BUF|     Buffalo, NY|      7|      940|\n|    2242|        0|        2233|        2040|    2100| ATL|   Atlanta, GA|     576|1/1/2000|        DL|              251|   BWI|   Baltimore, MD|      7|     2235|\n|    2032|        0|        1832|        1635|    1838| ATL|   Atlanta, GA|     576|1/1/2000|        DL|             1003|   BWI|   Baltimore, MD|     12|     2020|\n|    1635|        0|        1634|        1430|    1435| ATL|   Atlanta, GA|     576|1/1/2000|        DL|             1501|   BWI|   Baltimore, MD|     12|     1623|\n|     720|        0|         723|         530|     530| ATL|   Atlanta, GA|     576|1/1/2000|        DL|             1907|   BWI|   Baltimore, MD|      4|      716|\n|    null|        1|        1449|        1250|    null| ATL|   Atlanta, GA|     576|1/1/2000|        DL|             2063|   BWI|   Baltimore, MD|   null|     null|\n|    2050|        0|        2046|        1845|    1855| ATL|   Atlanta, GA|     576|1/1/2000|        DL|             2111|   BWI|   Baltimore, MD|      9|     2041|\n|    null|        0|         905|         710|     710| ATL|   Atlanta, GA|     576|1/1/2000|        US|             2632|   BWI|   Baltimore, MD|   null|     null|\n|    1851|        0|        1853|        1700|    1700| ATL|   Atlanta, GA|     576|1/1/2000|        US|             2967|   BWI|   Baltimore, MD|      6|     1845|\n+--------+---------+------------+------------+--------+----+--------------+--------+--------+----------+-----------------+------+----------------+-------+---------+\nonly showing top 20 rows\n\n"
     ]
    }
   ],
   "source": [
    "df.show()"
   ]
  },
  {
   "cell_type": "code",
   "execution_count": 0,
   "metadata": {
    "application/vnd.databricks.v1+cell": {
     "cellMetadata": {
      "byteLimit": 2048000,
      "rowLimit": 10000
     },
     "inputWidgets": {},
     "nuid": "2db0f69f-ae37-4cb9-a222-f73d4d6829f1",
     "showTitle": false,
     "title": ""
    }
   },
   "outputs": [],
   "source": [
    "df.write.format(\"delta\").mode(\"append\").saveAsTable(\"flight_data\")"
   ]
  },
  {
   "cell_type": "code",
   "execution_count": 0,
   "metadata": {
    "application/vnd.databricks.v1+cell": {
     "cellMetadata": {
      "byteLimit": 2048000,
      "implicitDf": true,
      "rowLimit": 10000
     },
     "inputWidgets": {},
     "nuid": "3730f4d2-3b07-467e-b930-8e42af67e5f2",
     "showTitle": false,
     "title": ""
    }
   },
   "outputs": [
    {
     "output_type": "display_data",
     "data": {
      "text/html": [
       "<style scoped>\n",
       "  .table-result-container {\n",
       "    max-height: 300px;\n",
       "    overflow: auto;\n",
       "  }\n",
       "  table, th, td {\n",
       "    border: 1px solid black;\n",
       "    border-collapse: collapse;\n",
       "  }\n",
       "  th, td {\n",
       "    padding: 5px;\n",
       "  }\n",
       "  th {\n",
       "    text-align: left;\n",
       "  }\n",
       "</style><div class='table-result-container'><table class='table-result'><thead style='background-color: white'><tr><th>version</th><th>timestamp</th><th>userId</th><th>userName</th><th>operation</th><th>operationParameters</th><th>job</th><th>notebook</th><th>clusterId</th><th>readVersion</th><th>isolationLevel</th><th>isBlindAppend</th><th>operationMetrics</th><th>userMetadata</th><th>engineInfo</th></tr></thead><tbody><tr><td>0</td><td>2024-06-10T22:30:14.000+0000</td><td>8432478468657958</td><td>paruchuri7781@gmail.com</td><td>CREATE TABLE AS SELECT</td><td>Map(isManaged -> true, description -> null, partitionBy -> [], properties -> {})</td><td>null</td><td>List(3716997364654545)</td><td>0610-221119-ommi850r</td><td>null</td><td>WriteSerializable</td><td>true</td><td>Map(numFiles -> 8, numOutputRows -> 300000, numOutputBytes -> 3784455)</td><td>null</td><td>Databricks-Runtime/12.2.x-scala2.12</td></tr></tbody></table></div>"
      ]
     },
     "metadata": {
      "application/vnd.databricks.v1+output": {
       "addedWidgets": {},
       "aggData": [],
       "aggError": "",
       "aggOverflow": false,
       "aggSchema": [],
       "aggSeriesLimitReached": false,
       "aggType": "",
       "arguments": {},
       "columnCustomDisplayInfos": {},
       "data": [
        [
         0,
         "2024-06-10T22:30:14.000+0000",
         "8432478468657958",
         "paruchuri7781@gmail.com",
         "CREATE TABLE AS SELECT",
         {
          "description": null,
          "isManaged": "true",
          "partitionBy": "[]",
          "properties": "{}"
         },
         null,
         [
          "3716997364654545"
         ],
         "0610-221119-ommi850r",
         null,
         "WriteSerializable",
         true,
         {
          "numFiles": "8",
          "numOutputBytes": "3784455",
          "numOutputRows": "300000"
         },
         null,
         "Databricks-Runtime/12.2.x-scala2.12"
        ]
       ],
       "datasetInfos": [],
       "dbfsResultPath": null,
       "isJsonSchema": true,
       "metadata": {},
       "overflow": false,
       "plotOptions": {
        "customPlotOptions": {},
        "displayType": "table",
        "pivotAggregation": null,
        "pivotColumns": null,
        "xColumns": null,
        "yColumns": null
       },
       "removedWidgets": [],
       "schema": [
        {
         "metadata": "{}",
         "name": "version",
         "type": "\"long\""
        },
        {
         "metadata": "{}",
         "name": "timestamp",
         "type": "\"timestamp\""
        },
        {
         "metadata": "{}",
         "name": "userId",
         "type": "\"string\""
        },
        {
         "metadata": "{}",
         "name": "userName",
         "type": "\"string\""
        },
        {
         "metadata": "{}",
         "name": "operation",
         "type": "\"string\""
        },
        {
         "metadata": "{}",
         "name": "operationParameters",
         "type": "{\"type\":\"map\",\"keyType\":\"string\",\"valueType\":\"string\",\"valueContainsNull\":true}"
        },
        {
         "metadata": "{}",
         "name": "job",
         "type": "{\"type\":\"struct\",\"fields\":[{\"name\":\"jobId\",\"type\":\"string\",\"nullable\":true,\"metadata\":{}},{\"name\":\"jobName\",\"type\":\"string\",\"nullable\":true,\"metadata\":{}},{\"name\":\"jobRunId\",\"type\":\"string\",\"nullable\":true,\"metadata\":{}},{\"name\":\"runId\",\"type\":\"string\",\"nullable\":true,\"metadata\":{}},{\"name\":\"jobOwnerId\",\"type\":\"string\",\"nullable\":true,\"metadata\":{}},{\"name\":\"triggerType\",\"type\":\"string\",\"nullable\":true,\"metadata\":{}}]}"
        },
        {
         "metadata": "{}",
         "name": "notebook",
         "type": "{\"type\":\"struct\",\"fields\":[{\"name\":\"notebookId\",\"type\":\"string\",\"nullable\":true,\"metadata\":{}}]}"
        },
        {
         "metadata": "{}",
         "name": "clusterId",
         "type": "\"string\""
        },
        {
         "metadata": "{}",
         "name": "readVersion",
         "type": "\"long\""
        },
        {
         "metadata": "{}",
         "name": "isolationLevel",
         "type": "\"string\""
        },
        {
         "metadata": "{}",
         "name": "isBlindAppend",
         "type": "\"boolean\""
        },
        {
         "metadata": "{}",
         "name": "operationMetrics",
         "type": "{\"type\":\"map\",\"keyType\":\"string\",\"valueType\":\"string\",\"valueContainsNull\":true}"
        },
        {
         "metadata": "{}",
         "name": "userMetadata",
         "type": "\"string\""
        },
        {
         "metadata": "{}",
         "name": "engineInfo",
         "type": "\"string\""
        }
       ],
       "type": "table"
      }
     },
     "output_type": "display_data"
    }
   ],
   "source": [
    "%sql \n",
    "\n",
    "describe history flight_data"
   ]
  },
  {
   "cell_type": "code",
   "execution_count": 0,
   "metadata": {
    "application/vnd.databricks.v1+cell": {
     "cellMetadata": {
      "byteLimit": 2048000,
      "implicitDf": true,
      "rowLimit": 10000
     },
     "inputWidgets": {},
     "nuid": "7c86412c-8f65-4322-93a3-cd1f3c0aef6d",
     "showTitle": false,
     "title": ""
    }
   },
   "outputs": [
    {
     "output_type": "display_data",
     "data": {
      "text/html": [
       "<style scoped>\n",
       "  .table-result-container {\n",
       "    max-height: 300px;\n",
       "    overflow: auto;\n",
       "  }\n",
       "  table, th, td {\n",
       "    border: 1px solid black;\n",
       "    border-collapse: collapse;\n",
       "  }\n",
       "  th, td {\n",
       "    padding: 5px;\n",
       "  }\n",
       "  th {\n",
       "    text-align: left;\n",
       "  }\n",
       "</style><div class='table-result-container'><table class='table-result'><thead style='background-color: white'><tr><th>path</th><th>metrics</th></tr></thead><tbody><tr><td>dbfs:/user/hive/warehouse/flight_data</td><td>List(0, 0, List(null, null, 0.0, 0, 0), List(null, null, 0.0, 0, 0), 0, List(minCubeSize(107374182400), List(1, 3470286), List(0, 0), 1, List(0, 0), 0, null), 0, 1, 1, false, 0, 0, 1718058877494, 1718058881146, 8, 0, null, List(0, 0), 15, 15, 0)</td></tr></tbody></table></div>"
      ]
     },
     "metadata": {
      "application/vnd.databricks.v1+output": {
       "addedWidgets": {},
       "aggData": [],
       "aggError": "",
       "aggOverflow": false,
       "aggSchema": [],
       "aggSeriesLimitReached": false,
       "aggType": "",
       "arguments": {},
       "columnCustomDisplayInfos": {},
       "data": [
        [
         "dbfs:/user/hive/warehouse/flight_data",
         [
          0,
          0,
          [
           null,
           null,
           0.0,
           0,
           0
          ],
          [
           null,
           null,
           0.0,
           0,
           0
          ],
          0,
          [
           "minCubeSize(107374182400)",
           [
            1,
            3470286
           ],
           [
            0,
            0
           ],
           1,
           [
            0,
            0
           ],
           0,
           null
          ],
          0,
          1,
          1,
          false,
          0,
          0,
          1718058877494,
          1718058881146,
          8,
          0,
          null,
          [
           0,
           0
          ],
          15,
          15,
          0
         ]
        ]
       ],
       "datasetInfos": [],
       "dbfsResultPath": null,
       "isJsonSchema": true,
       "metadata": {},
       "overflow": false,
       "plotOptions": {
        "customPlotOptions": {},
        "displayType": "table",
        "pivotAggregation": null,
        "pivotColumns": null,
        "xColumns": null,
        "yColumns": null
       },
       "removedWidgets": [],
       "schema": [
        {
         "metadata": "{}",
         "name": "path",
         "type": "\"string\""
        },
        {
         "metadata": "{}",
         "name": "metrics",
         "type": "{\"type\":\"struct\",\"fields\":[{\"name\":\"numFilesAdded\",\"type\":\"long\",\"nullable\":false,\"metadata\":{}},{\"name\":\"numFilesRemoved\",\"type\":\"long\",\"nullable\":false,\"metadata\":{}},{\"name\":\"filesAdded\",\"type\":{\"type\":\"struct\",\"fields\":[{\"name\":\"min\",\"type\":\"long\",\"nullable\":true,\"metadata\":{}},{\"name\":\"max\",\"type\":\"long\",\"nullable\":true,\"metadata\":{}},{\"name\":\"avg\",\"type\":\"double\",\"nullable\":false,\"metadata\":{}},{\"name\":\"totalFiles\",\"type\":\"long\",\"nullable\":false,\"metadata\":{}},{\"name\":\"totalSize\",\"type\":\"long\",\"nullable\":false,\"metadata\":{}}]},\"nullable\":true,\"metadata\":{}},{\"name\":\"filesRemoved\",\"type\":{\"type\":\"struct\",\"fields\":[{\"name\":\"min\",\"type\":\"long\",\"nullable\":true,\"metadata\":{}},{\"name\":\"max\",\"type\":\"long\",\"nullable\":true,\"metadata\":{}},{\"name\":\"avg\",\"type\":\"double\",\"nullable\":false,\"metadata\":{}},{\"name\":\"totalFiles\",\"type\":\"long\",\"nullable\":false,\"metadata\":{}},{\"name\":\"totalSize\",\"type\":\"long\",\"nullable\":false,\"metadata\":{}}]},\"nullable\":true,\"metadata\":{}},{\"name\":\"partitionsOptimized\",\"type\":\"long\",\"nullable\":false,\"metadata\":{}},{\"name\":\"zOrderStats\",\"type\":{\"type\":\"struct\",\"fields\":[{\"name\":\"strategyName\",\"type\":\"string\",\"nullable\":true,\"metadata\":{}},{\"name\":\"inputCubeFiles\",\"type\":{\"type\":\"struct\",\"fields\":[{\"name\":\"num\",\"type\":\"long\",\"nullable\":false,\"metadata\":{}},{\"name\":\"size\",\"type\":\"long\",\"nullable\":false,\"metadata\":{}}]},\"nullable\":true,\"metadata\":{}},{\"name\":\"inputOtherFiles\",\"type\":{\"type\":\"struct\",\"fields\":[{\"name\":\"num\",\"type\":\"long\",\"nullable\":false,\"metadata\":{}},{\"name\":\"size\",\"type\":\"long\",\"nullable\":false,\"metadata\":{}}]},\"nullable\":true,\"metadata\":{}},{\"name\":\"inputNumCubes\",\"type\":\"long\",\"nullable\":false,\"metadata\":{}},{\"name\":\"mergedFiles\",\"type\":{\"type\":\"struct\",\"fields\":[{\"name\":\"num\",\"type\":\"long\",\"nullable\":false,\"metadata\":{}},{\"name\":\"size\",\"type\":\"long\",\"nullable\":false,\"metadata\":{}}]},\"nullable\":true,\"metadata\":{}},{\"name\":\"numOutputCubes\",\"type\":\"long\",\"nullable\":false,\"metadata\":{}},{\"name\":\"mergedNumCubes\",\"type\":\"long\",\"nullable\":true,\"metadata\":{}}]},\"nullable\":true,\"metadata\":{}},{\"name\":\"numBatches\",\"type\":\"long\",\"nullable\":false,\"metadata\":{}},{\"name\":\"totalConsideredFiles\",\"type\":\"long\",\"nullable\":false,\"metadata\":{}},{\"name\":\"totalFilesSkipped\",\"type\":\"long\",\"nullable\":false,\"metadata\":{}},{\"name\":\"preserveInsertionOrder\",\"type\":\"boolean\",\"nullable\":false,\"metadata\":{}},{\"name\":\"numFilesSkippedToReduceWriteAmplification\",\"type\":\"long\",\"nullable\":false,\"metadata\":{}},{\"name\":\"numBytesSkippedToReduceWriteAmplification\",\"type\":\"long\",\"nullable\":false,\"metadata\":{}},{\"name\":\"startTimeMs\",\"type\":\"long\",\"nullable\":false,\"metadata\":{}},{\"name\":\"endTimeMs\",\"type\":\"long\",\"nullable\":false,\"metadata\":{}},{\"name\":\"totalClusterParallelism\",\"type\":\"long\",\"nullable\":false,\"metadata\":{}},{\"name\":\"totalScheduledTasks\",\"type\":\"long\",\"nullable\":false,\"metadata\":{}},{\"name\":\"autoCompactParallelismStats\",\"type\":{\"type\":\"struct\",\"fields\":[{\"name\":\"maxClusterActiveParallelism\",\"type\":\"long\",\"nullable\":true,\"metadata\":{}},{\"name\":\"minClusterActiveParallelism\",\"type\":\"long\",\"nullable\":true,\"metadata\":{}},{\"name\":\"maxSessionActiveParallelism\",\"type\":\"long\",\"nullable\":true,\"metadata\":{}},{\"name\":\"minSessionActiveParallelism\",\"type\":\"long\",\"nullable\":true,\"metadata\":{}}]},\"nullable\":true,\"metadata\":{}},{\"name\":\"deletionVectorStats\",\"type\":{\"type\":\"struct\",\"fields\":[{\"name\":\"numDeletionVectorsRemoved\",\"type\":\"long\",\"nullable\":false,\"metadata\":{}},{\"name\":\"numDeletionVectorRowsRemoved\",\"type\":\"long\",\"nullable\":false,\"metadata\":{}}]},\"nullable\":true,\"metadata\":{}},{\"name\":\"numTableColumns\",\"type\":\"long\",\"nullable\":false,\"metadata\":{}},{\"name\":\"numTableColumnsWithStats\",\"type\":\"long\",\"nullable\":false,\"metadata\":{}},{\"name\":\"totalTaskExecutionTimeMs\",\"type\":\"long\",\"nullable\":false,\"metadata\":{}}]}"
        }
       ],
       "type": "table"
      }
     },
     "output_type": "display_data"
    }
   ],
   "source": [
    "%sql \n",
    "\n",
    "optimize flight_data \n",
    "zorder by (FL_DATE);"
   ]
  },
  {
   "cell_type": "code",
   "execution_count": 0,
   "metadata": {
    "application/vnd.databricks.v1+cell": {
     "cellMetadata": {
      "byteLimit": 2048000,
      "rowLimit": 10000
     },
     "inputWidgets": {},
     "nuid": "cb0e663a-1d11-41aa-b36d-aec900ff3801",
     "showTitle": false,
     "title": ""
    }
   },
   "outputs": [
    {
     "output_type": "display_data",
     "data": {
      "text/html": [
       "<style scoped>\n",
       "  .table-result-container {\n",
       "    max-height: 300px;\n",
       "    overflow: auto;\n",
       "  }\n",
       "  table, th, td {\n",
       "    border: 1px solid black;\n",
       "    border-collapse: collapse;\n",
       "  }\n",
       "  th, td {\n",
       "    padding: 5px;\n",
       "  }\n",
       "  th {\n",
       "    text-align: left;\n",
       "  }\n",
       "</style><div class='table-result-container'><table class='table-result'><thead style='background-color: white'><tr><th>path</th><th>name</th><th>size</th><th>modificationTime</th></tr></thead><tbody><tr><td>dbfs:/user/hive/warehouse/flight_data/_delta_log/</td><td>_delta_log/</td><td>0</td><td>0</td></tr><tr><td>dbfs:/user/hive/warehouse/flight_data/part-00000-20ce6d99-d3ee-4629-b34f-7bbff89af806-c000.snappy.parquet</td><td>part-00000-20ce6d99-d3ee-4629-b34f-7bbff89af806-c000.snappy.parquet</td><td>3470286</td><td>1718058759000</td></tr><tr><td>dbfs:/user/hive/warehouse/flight_data/part-00000-add9bfec-332c-40be-8aa7-ac06835b0cde-c000.snappy.parquet</td><td>part-00000-add9bfec-332c-40be-8aa7-ac06835b0cde-c000.snappy.parquet</td><td>501787</td><td>1718058611000</td></tr><tr><td>dbfs:/user/hive/warehouse/flight_data/part-00001-85016a24-840a-449f-be82-8a4b37f98e3c-c000.snappy.parquet</td><td>part-00001-85016a24-840a-449f-be82-8a4b37f98e3c-c000.snappy.parquet</td><td>493362</td><td>1718058611000</td></tr><tr><td>dbfs:/user/hive/warehouse/flight_data/part-00002-b3112cd5-d30c-4b11-bc3d-b9eb3b3e6df2-c000.snappy.parquet</td><td>part-00002-b3112cd5-d30c-4b11-bc3d-b9eb3b3e6df2-c000.snappy.parquet</td><td>485792</td><td>1718058611000</td></tr><tr><td>dbfs:/user/hive/warehouse/flight_data/part-00003-62836bab-ae69-4bf9-ba1e-3dff1b6611c8-c000.snappy.parquet</td><td>part-00003-62836bab-ae69-4bf9-ba1e-3dff1b6611c8-c000.snappy.parquet</td><td>488968</td><td>1718058611000</td></tr><tr><td>dbfs:/user/hive/warehouse/flight_data/part-00004-84975b8f-f4aa-4531-8115-7b687ead59e2-c000.snappy.parquet</td><td>part-00004-84975b8f-f4aa-4531-8115-7b687ead59e2-c000.snappy.parquet</td><td>489921</td><td>1718058611000</td></tr><tr><td>dbfs:/user/hive/warehouse/flight_data/part-00005-75e3a0d0-8b3b-42b0-8027-23a3666776c3-c000.snappy.parquet</td><td>part-00005-75e3a0d0-8b3b-42b0-8027-23a3666776c3-c000.snappy.parquet</td><td>502554</td><td>1718058612000</td></tr><tr><td>dbfs:/user/hive/warehouse/flight_data/part-00006-aed79470-e6a4-4858-a7ba-aa63bfa7d9d8-c000.snappy.parquet</td><td>part-00006-aed79470-e6a4-4858-a7ba-aa63bfa7d9d8-c000.snappy.parquet</td><td>498271</td><td>1718058611000</td></tr><tr><td>dbfs:/user/hive/warehouse/flight_data/part-00007-b91cfd49-0e87-407f-832a-737768f2f1ac-c000.snappy.parquet</td><td>part-00007-b91cfd49-0e87-407f-832a-737768f2f1ac-c000.snappy.parquet</td><td>323800</td><td>1718058611000</td></tr></tbody></table></div>"
      ]
     },
     "metadata": {
      "application/vnd.databricks.v1+output": {
       "addedWidgets": {},
       "aggData": [],
       "aggError": "",
       "aggOverflow": false,
       "aggSchema": [],
       "aggSeriesLimitReached": false,
       "aggType": "",
       "arguments": {},
       "columnCustomDisplayInfos": {},
       "data": [
        [
         "dbfs:/user/hive/warehouse/flight_data/_delta_log/",
         "_delta_log/",
         0,
         0
        ],
        [
         "dbfs:/user/hive/warehouse/flight_data/part-00000-20ce6d99-d3ee-4629-b34f-7bbff89af806-c000.snappy.parquet",
         "part-00000-20ce6d99-d3ee-4629-b34f-7bbff89af806-c000.snappy.parquet",
         3470286,
         1718058759000
        ],
        [
         "dbfs:/user/hive/warehouse/flight_data/part-00000-add9bfec-332c-40be-8aa7-ac06835b0cde-c000.snappy.parquet",
         "part-00000-add9bfec-332c-40be-8aa7-ac06835b0cde-c000.snappy.parquet",
         501787,
         1718058611000
        ],
        [
         "dbfs:/user/hive/warehouse/flight_data/part-00001-85016a24-840a-449f-be82-8a4b37f98e3c-c000.snappy.parquet",
         "part-00001-85016a24-840a-449f-be82-8a4b37f98e3c-c000.snappy.parquet",
         493362,
         1718058611000
        ],
        [
         "dbfs:/user/hive/warehouse/flight_data/part-00002-b3112cd5-d30c-4b11-bc3d-b9eb3b3e6df2-c000.snappy.parquet",
         "part-00002-b3112cd5-d30c-4b11-bc3d-b9eb3b3e6df2-c000.snappy.parquet",
         485792,
         1718058611000
        ],
        [
         "dbfs:/user/hive/warehouse/flight_data/part-00003-62836bab-ae69-4bf9-ba1e-3dff1b6611c8-c000.snappy.parquet",
         "part-00003-62836bab-ae69-4bf9-ba1e-3dff1b6611c8-c000.snappy.parquet",
         488968,
         1718058611000
        ],
        [
         "dbfs:/user/hive/warehouse/flight_data/part-00004-84975b8f-f4aa-4531-8115-7b687ead59e2-c000.snappy.parquet",
         "part-00004-84975b8f-f4aa-4531-8115-7b687ead59e2-c000.snappy.parquet",
         489921,
         1718058611000
        ],
        [
         "dbfs:/user/hive/warehouse/flight_data/part-00005-75e3a0d0-8b3b-42b0-8027-23a3666776c3-c000.snappy.parquet",
         "part-00005-75e3a0d0-8b3b-42b0-8027-23a3666776c3-c000.snappy.parquet",
         502554,
         1718058612000
        ],
        [
         "dbfs:/user/hive/warehouse/flight_data/part-00006-aed79470-e6a4-4858-a7ba-aa63bfa7d9d8-c000.snappy.parquet",
         "part-00006-aed79470-e6a4-4858-a7ba-aa63bfa7d9d8-c000.snappy.parquet",
         498271,
         1718058611000
        ],
        [
         "dbfs:/user/hive/warehouse/flight_data/part-00007-b91cfd49-0e87-407f-832a-737768f2f1ac-c000.snappy.parquet",
         "part-00007-b91cfd49-0e87-407f-832a-737768f2f1ac-c000.snappy.parquet",
         323800,
         1718058611000
        ]
       ],
       "datasetInfos": [],
       "dbfsResultPath": null,
       "isJsonSchema": true,
       "metadata": {
        "isDbfsCommandResult": false
       },
       "overflow": false,
       "plotOptions": {
        "customPlotOptions": {},
        "displayType": "table",
        "pivotAggregation": null,
        "pivotColumns": null,
        "xColumns": null,
        "yColumns": null
       },
       "removedWidgets": [],
       "schema": [
        {
         "metadata": "{}",
         "name": "path",
         "type": "\"string\""
        },
        {
         "metadata": "{}",
         "name": "name",
         "type": "\"string\""
        },
        {
         "metadata": "{}",
         "name": "size",
         "type": "\"long\""
        },
        {
         "metadata": "{}",
         "name": "modificationTime",
         "type": "\"long\""
        }
       ],
       "type": "table"
      }
     },
     "output_type": "display_data"
    }
   ],
   "source": [
    "%fs \n",
    "\n",
    "ls /user/hive/warehouse/flight_data"
   ]
  },
  {
   "cell_type": "code",
   "execution_count": 0,
   "metadata": {
    "application/vnd.databricks.v1+cell": {
     "cellMetadata": {},
     "inputWidgets": {},
     "nuid": "62755638-1b89-4104-8a04-8fa7e06dd89a",
     "showTitle": false,
     "title": ""
    }
   },
   "outputs": [],
   "source": []
  }
 ],
 "metadata": {
  "application/vnd.databricks.v1+notebook": {
   "dashboards": [],
   "environmentMetadata": null,
   "language": "python",
   "notebookMetadata": {
    "mostRecentlyExecutedCommandWithImplicitDF": {
     "commandId": 3799662741334840,
     "dataframes": [
      "_sqldf"
     ]
    },
    "pythonIndentUnit": 4
   },
   "notebookName": "11->z-ordering",
   "widgets": {}
  }
 },
 "nbformat": 4,
 "nbformat_minor": 0
}
