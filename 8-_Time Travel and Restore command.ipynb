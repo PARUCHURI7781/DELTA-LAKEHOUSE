{
 "cells": [
  {
   "cell_type": "markdown",
   "metadata": {
    "application/vnd.databricks.v1+cell": {
     "cellMetadata": {},
     "inputWidgets": {},
     "nuid": "f889a9a5-177c-4b30-b9ec-cb4d7f3154a5",
     "showTitle": false,
     "title": ""
    }
   },
   "source": [
    "we use table used in previous example"
   ]
  },
  {
   "cell_type": "code",
   "execution_count": 0,
   "metadata": {
    "application/vnd.databricks.v1+cell": {
     "cellMetadata": {
      "byteLimit": 2048000,
      "implicitDf": true,
      "rowLimit": 10000
     },
     "inputWidgets": {},
     "nuid": "7e9f8b6e-77bd-4fea-b911-64f1e843c5c0",
     "showTitle": false,
     "title": ""
    }
   },
   "outputs": [
    {
     "output_type": "display_data",
     "data": {
      "text/html": [
       "<style scoped>\n",
       "  .table-result-container {\n",
       "    max-height: 300px;\n",
       "    overflow: auto;\n",
       "  }\n",
       "  table, th, td {\n",
       "    border: 1px solid black;\n",
       "    border-collapse: collapse;\n",
       "  }\n",
       "  th, td {\n",
       "    padding: 5px;\n",
       "  }\n",
       "  th {\n",
       "    text-align: left;\n",
       "  }\n",
       "</style><div class='table-result-container'><table class='table-result'><thead style='background-color: white'><tr><th>EmployeeID</th><th>FirstName</th><th>LastName</th><th>Department</th><th>Title</th><th>Salary</th><th>EffectiveDate</th><th>EndDate</th><th>IsCurrent</th></tr></thead><tbody><tr><td>1003</td><td>Emily</td><td>Jones</td><td>HR</td><td>Analyst</td><td>65000.00</td><td>2023-01-01</td><td>null</td><td>true</td></tr><tr><td>1004</td><td>Michael</td><td>Brown</td><td>IT</td><td>Developer</td><td>72000.00</td><td>2023-01-01</td><td>null</td><td>true</td></tr><tr><td>1005</td><td>Rachel</td><td>Green</td><td>Finance</td><td>Accountant</td><td>58000.00</td><td>2023-01-01</td><td>null</td><td>true</td></tr><tr><td>1006</td><td>Ross</td><td>Geller</td><td>Science</td><td>Researcher</td><td>76000.00</td><td>2023-01-01</td><td>null</td><td>true</td></tr><tr><td>1007</td><td>Monica</td><td>Geller</td><td>Culinary</td><td>Chef</td><td>62000.00</td><td>2023-01-01</td><td>null</td><td>true</td></tr><tr><td>1008</td><td>Joey</td><td>Tribbiani</td><td>Acting</td><td>Actor</td><td>55000.00</td><td>2023-01-01</td><td>null</td><td>true</td></tr><tr><td>1009</td><td>Chandler</td><td>Bing</td><td>Advertising</td><td>Copywriter</td><td>64000.00</td><td>2023-01-01</td><td>null</td><td>true</td></tr><tr><td>1010</td><td>Phoebe</td><td>Buffay</td><td>Music</td><td>Singer</td><td>50000.00</td><td>2023-01-01</td><td>null</td><td>true</td></tr><tr><td>1001</td><td>John</td><td>Doe</td><td>Engineering</td><td>Senior Engineer</td><td>90000.00</td><td>2023-01-01</td><td>2024-06-10</td><td>false</td></tr><tr><td>1011</td><td>Alex</td><td>Taylor</td><td>Marketing</td><td>Marketing Analyst</td><td>58000.00</td><td>2024-06-10</td><td>null</td><td>true</td></tr><tr><td>1001</td><td>John</td><td>Doe</td><td>Engineering</td><td>Lead Engineer</td><td>95000.00</td><td>2024-06-10</td><td>null</td><td>true</td></tr><tr><td>1002</td><td>Jane</td><td>Smith</td><td>Marketing</td><td>Manager</td><td>75000.00</td><td>2023-01-01</td><td>2024-06-10</td><td>false</td></tr><tr><td>1002</td><td>Jane</td><td>Smith</td><td>Sales</td><td>Sales Manager</td><td>78000.00</td><td>2024-06-10</td><td>null</td><td>true</td></tr></tbody></table></div>"
      ]
     },
     "metadata": {
      "application/vnd.databricks.v1+output": {
       "addedWidgets": {},
       "aggData": [],
       "aggError": "",
       "aggOverflow": false,
       "aggSchema": [],
       "aggSeriesLimitReached": false,
       "aggType": "",
       "arguments": {},
       "columnCustomDisplayInfos": {},
       "data": [
        [
         1003,
         "Emily",
         "Jones",
         "HR",
         "Analyst",
         "65000.00",
         "2023-01-01",
         null,
         true
        ],
        [
         1004,
         "Michael",
         "Brown",
         "IT",
         "Developer",
         "72000.00",
         "2023-01-01",
         null,
         true
        ],
        [
         1005,
         "Rachel",
         "Green",
         "Finance",
         "Accountant",
         "58000.00",
         "2023-01-01",
         null,
         true
        ],
        [
         1006,
         "Ross",
         "Geller",
         "Science",
         "Researcher",
         "76000.00",
         "2023-01-01",
         null,
         true
        ],
        [
         1007,
         "Monica",
         "Geller",
         "Culinary",
         "Chef",
         "62000.00",
         "2023-01-01",
         null,
         true
        ],
        [
         1008,
         "Joey",
         "Tribbiani",
         "Acting",
         "Actor",
         "55000.00",
         "2023-01-01",
         null,
         true
        ],
        [
         1009,
         "Chandler",
         "Bing",
         "Advertising",
         "Copywriter",
         "64000.00",
         "2023-01-01",
         null,
         true
        ],
        [
         1010,
         "Phoebe",
         "Buffay",
         "Music",
         "Singer",
         "50000.00",
         "2023-01-01",
         null,
         true
        ],
        [
         1001,
         "John",
         "Doe",
         "Engineering",
         "Senior Engineer",
         "90000.00",
         "2023-01-01",
         "2024-06-10",
         false
        ],
        [
         1011,
         "Alex",
         "Taylor",
         "Marketing",
         "Marketing Analyst",
         "58000.00",
         "2024-06-10",
         null,
         true
        ],
        [
         1001,
         "John",
         "Doe",
         "Engineering",
         "Lead Engineer",
         "95000.00",
         "2024-06-10",
         null,
         true
        ],
        [
         1002,
         "Jane",
         "Smith",
         "Marketing",
         "Manager",
         "75000.00",
         "2023-01-01",
         "2024-06-10",
         false
        ],
        [
         1002,
         "Jane",
         "Smith",
         "Sales",
         "Sales Manager",
         "78000.00",
         "2024-06-10",
         null,
         true
        ]
       ],
       "datasetInfos": [],
       "dbfsResultPath": null,
       "isJsonSchema": true,
       "metadata": {},
       "overflow": false,
       "plotOptions": {
        "customPlotOptions": {},
        "displayType": "table",
        "pivotAggregation": null,
        "pivotColumns": null,
        "xColumns": null,
        "yColumns": null
       },
       "removedWidgets": [],
       "schema": [
        {
         "metadata": "{}",
         "name": "EmployeeID",
         "type": "\"integer\""
        },
        {
         "metadata": "{}",
         "name": "FirstName",
         "type": "\"string\""
        },
        {
         "metadata": "{}",
         "name": "LastName",
         "type": "\"string\""
        },
        {
         "metadata": "{}",
         "name": "Department",
         "type": "\"string\""
        },
        {
         "metadata": "{}",
         "name": "Title",
         "type": "\"string\""
        },
        {
         "metadata": "{}",
         "name": "Salary",
         "type": "\"decimal(10,2)\""
        },
        {
         "metadata": "{}",
         "name": "EffectiveDate",
         "type": "\"date\""
        },
        {
         "metadata": "{}",
         "name": "EndDate",
         "type": "\"date\""
        },
        {
         "metadata": "{}",
         "name": "IsCurrent",
         "type": "\"boolean\""
        }
       ],
       "type": "table"
      }
     },
     "output_type": "display_data"
    }
   ],
   "source": [
    "%sql \n",
    "\n",
    "select * from employees"
   ]
  },
  {
   "cell_type": "markdown",
   "metadata": {
    "application/vnd.databricks.v1+cell": {
     "cellMetadata": {},
     "inputWidgets": {},
     "nuid": "9ac12210-1ba8-4840-92ed-8aa10f4de3d4",
     "showTitle": false,
     "title": ""
    }
   },
   "source": [
    "Table History"
   ]
  },
  {
   "cell_type": "code",
   "execution_count": 0,
   "metadata": {
    "application/vnd.databricks.v1+cell": {
     "cellMetadata": {
      "byteLimit": 2048000,
      "implicitDf": true,
      "rowLimit": 10000
     },
     "inputWidgets": {},
     "nuid": "21906eab-f886-4d38-87e9-c9f45eb9b1bf",
     "showTitle": false,
     "title": ""
    }
   },
   "outputs": [
    {
     "output_type": "display_data",
     "data": {
      "text/html": [
       "<style scoped>\n",
       "  .table-result-container {\n",
       "    max-height: 300px;\n",
       "    overflow: auto;\n",
       "  }\n",
       "  table, th, td {\n",
       "    border: 1px solid black;\n",
       "    border-collapse: collapse;\n",
       "  }\n",
       "  th, td {\n",
       "    padding: 5px;\n",
       "  }\n",
       "  th {\n",
       "    text-align: left;\n",
       "  }\n",
       "</style><div class='table-result-container'><table class='table-result'><thead style='background-color: white'><tr><th>version</th><th>timestamp</th><th>userId</th><th>userName</th><th>operation</th><th>operationParameters</th><th>job</th><th>notebook</th><th>clusterId</th><th>readVersion</th><th>isolationLevel</th><th>isBlindAppend</th><th>operationMetrics</th><th>userMetadata</th><th>engineInfo</th></tr></thead><tbody><tr><td>10</td><td>2024-06-10T14:50:20.000+0000</td><td>8432478468657958</td><td>paruchuri7781@gmail.com</td><td>WRITE</td><td>Map(mode -> Append, partitionBy -> [])</td><td>null</td><td>List(2138961590306633)</td><td>0610-135555-y0o4beyi</td><td>9</td><td>WriteSerializable</td><td>true</td><td>Map(numFiles -> 2, numOutputRows -> 2, numOutputBytes -> 5242)</td><td>null</td><td>Databricks-Runtime/12.2.x-scala2.12</td></tr><tr><td>9</td><td>2024-06-10T14:09:34.000+0000</td><td>8432478468657958</td><td>paruchuri7781@gmail.com</td><td>MERGE</td><td>Map(predicate -> [\"(EmployeeID#5059 = EmployeeID#4802)\"], matchedPredicates -> [{\"predicate\":\"((NOT (Department#5062 = Department#4805) OR NOT (Title#5063 = Title#4806)) OR (NOT (cast(Salary#5064 as double) = Salary#4807) AND IsCurrent#5067))\",\"actionType\":\"update\"}], notMatchedPredicates -> [{\"actionType\":\"insert\"}], notMatchedBySourcePredicates -> [])</td><td>null</td><td>List(2138961590306633)</td><td>0610-135555-y0o4beyi</td><td>8</td><td>WriteSerializable</td><td>false</td><td>Map(numTargetRowsCopied -> 8, numTargetRowsDeleted -> 0, numTargetFilesAdded -> 4, numTargetBytesAdded -> 10930, numTargetBytesRemoved -> 3034, numTargetDeletionVectorsAdded -> 0, numTargetRowsMatchedUpdated -> 2, executionTimeMs -> 8956, numTargetRowsInserted -> 1, numTargetRowsMatchedDeleted -> 0, scanTimeMs -> 3077, numTargetRowsUpdated -> 2, numOutputRows -> 11, numTargetDeletionVectorsRemoved -> 0, numTargetRowsNotMatchedBySourceUpdated -> 0, numTargetChangeFilesAdded -> 0, numSourceRows -> 3, numTargetFilesRemoved -> 1, numTargetRowsNotMatchedBySourceDeleted -> 0, rewriteTimeMs -> 4620)</td><td>null</td><td>Databricks-Runtime/12.2.x-scala2.12</td></tr><tr><td>8</td><td>2024-06-10T14:09:07.000+0000</td><td>8432478468657958</td><td>paruchuri7781@gmail.com</td><td>WRITE</td><td>Map(mode -> Append, partitionBy -> [])</td><td>null</td><td>List(2138961590306633)</td><td>0610-135555-y0o4beyi</td><td>7</td><td>WriteSerializable</td><td>true</td><td>Map(numFiles -> 1, numOutputRows -> 10, numOutputBytes -> 3034)</td><td>null</td><td>Databricks-Runtime/12.2.x-scala2.12</td></tr><tr><td>7</td><td>2024-06-10T14:08:58.000+0000</td><td>8432478468657958</td><td>paruchuri7781@gmail.com</td><td>CREATE OR REPLACE TABLE</td><td>Map(isManaged -> false, description -> null, partitionBy -> [], properties -> {})</td><td>null</td><td>List(2138961590306633)</td><td>0610-135555-y0o4beyi</td><td>6</td><td>WriteSerializable</td><td>false</td><td>Map()</td><td>null</td><td>Databricks-Runtime/12.2.x-scala2.12</td></tr><tr><td>6</td><td>2024-06-10T14:08:28.000+0000</td><td>8432478468657958</td><td>paruchuri7781@gmail.com</td><td>MERGE</td><td>Map(predicate -> [\"(EmployeeID#1922 = EmployeeID#1665)\"], matchedPredicates -> [{\"predicate\":\"((NOT (Department#1925 = Department#1668) OR NOT (Title#1926 = Title#1669)) OR (NOT (cast(Salary#1927 as double) = Salary#1670) AND IsCurrent#1930))\",\"actionType\":\"update\"}], notMatchedPredicates -> [{\"actionType\":\"insert\"}], notMatchedBySourcePredicates -> [])</td><td>null</td><td>List(2138961590306633)</td><td>0610-135555-y0o4beyi</td><td>5</td><td>WriteSerializable</td><td>false</td><td>Map(numTargetRowsCopied -> 8, numTargetRowsDeleted -> 0, numTargetFilesAdded -> 4, numTargetBytesAdded -> 10930, numTargetBytesRemoved -> 3034, numTargetDeletionVectorsAdded -> 0, numTargetRowsMatchedUpdated -> 2, executionTimeMs -> 13312, numTargetRowsInserted -> 1, numTargetRowsMatchedDeleted -> 0, scanTimeMs -> 5556, numTargetRowsUpdated -> 2, numOutputRows -> 11, numTargetDeletionVectorsRemoved -> 0, numTargetRowsNotMatchedBySourceUpdated -> 0, numTargetChangeFilesAdded -> 0, numSourceRows -> 3, numTargetFilesRemoved -> 1, numTargetRowsNotMatchedBySourceDeleted -> 0, rewriteTimeMs -> 5681)</td><td>null</td><td>Databricks-Runtime/12.2.x-scala2.12</td></tr><tr><td>5</td><td>2024-06-10T14:01:36.000+0000</td><td>8432478468657958</td><td>paruchuri7781@gmail.com</td><td>WRITE</td><td>Map(mode -> Append, partitionBy -> [])</td><td>null</td><td>List(2138961590306633)</td><td>0610-135555-y0o4beyi</td><td>4</td><td>WriteSerializable</td><td>true</td><td>Map(numFiles -> 1, numOutputRows -> 10, numOutputBytes -> 3034)</td><td>null</td><td>Databricks-Runtime/12.2.x-scala2.12</td></tr><tr><td>4</td><td>2024-06-10T14:01:20.000+0000</td><td>8432478468657958</td><td>paruchuri7781@gmail.com</td><td>TRUNCATE</td><td>Map()</td><td>null</td><td>List(2138961590306633)</td><td>0610-135555-y0o4beyi</td><td>3</td><td>WriteSerializable</td><td>false</td><td>Map(numRemovedFiles -> 4, numDeletedRows -> 11, executionTimeMs -> 2685, numRemovedBytes -> 10931)</td><td>null</td><td>Databricks-Runtime/12.2.x-scala2.12</td></tr><tr><td>3</td><td>2024-06-07T20:58:30.000+0000</td><td>8432478468657958</td><td>paruchuri7781@gmail.com</td><td>MERGE</td><td>Map(predicate -> [\"(EmployeeID#20152 = EmployeeID#14174)\"], matchedPredicates -> [{\"predicate\":\"((NOT (Department#20155 = Department#14177) OR NOT (Title#20156 = Title#14178)) OR (NOT (cast(Salary#20157 as double) = Salary#14179) AND IsCurrent#20160))\",\"actionType\":\"update\"}], notMatchedPredicates -> [{\"actionType\":\"insert\"}], notMatchedBySourcePredicates -> [])</td><td>null</td><td>List(2138961590306633)</td><td>0607-140626-dbonvaq0</td><td>2</td><td>WriteSerializable</td><td>false</td><td>Map(numTargetRowsCopied -> 0, numTargetRowsDeleted -> 0, numTargetFilesAdded -> 0, numTargetBytesAdded -> 0, numTargetBytesRemoved -> 0, numTargetDeletionVectorsAdded -> 0, numTargetRowsMatchedUpdated -> 0, executionTimeMs -> 5645, numTargetRowsInserted -> 0, numTargetRowsMatchedDeleted -> 0, scanTimeMs -> 2617, numTargetRowsUpdated -> 0, numOutputRows -> 0, numTargetDeletionVectorsRemoved -> 0, numTargetRowsNotMatchedBySourceUpdated -> 0, numTargetChangeFilesAdded -> 0, numSourceRows -> 3, numTargetFilesRemoved -> 0, numTargetRowsNotMatchedBySourceDeleted -> 0, rewriteTimeMs -> 2173)</td><td>null</td><td>Databricks-Runtime/12.2.x-scala2.12</td></tr><tr><td>2</td><td>2024-06-07T20:49:24.000+0000</td><td>8432478468657958</td><td>paruchuri7781@gmail.com</td><td>MERGE</td><td>Map(predicate -> [\"(EmployeeID#17866 = EmployeeID#14174)\"], matchedPredicates -> [{\"predicate\":\"((NOT (Department#17869 = Department#14177) OR NOT (Title#17870 = Title#14178)) OR (NOT (cast(Salary#17871 as double) = Salary#14179) AND IsCurrent#17874))\",\"actionType\":\"update\"}], notMatchedPredicates -> [{\"actionType\":\"insert\"}], notMatchedBySourcePredicates -> [])</td><td>null</td><td>List(2138961590306633)</td><td>0607-140626-dbonvaq0</td><td>1</td><td>WriteSerializable</td><td>false</td><td>Map(numTargetRowsCopied -> 8, numTargetRowsDeleted -> 0, numTargetFilesAdded -> 4, numTargetBytesAdded -> 10931, numTargetBytesRemoved -> 3034, numTargetDeletionVectorsAdded -> 0, numTargetRowsMatchedUpdated -> 2, executionTimeMs -> 6222, numTargetRowsInserted -> 1, numTargetRowsMatchedDeleted -> 0, scanTimeMs -> 2358, numTargetRowsUpdated -> 2, numOutputRows -> 11, numTargetDeletionVectorsRemoved -> 0, numTargetRowsNotMatchedBySourceUpdated -> 0, numTargetChangeFilesAdded -> 0, numSourceRows -> 3, numTargetFilesRemoved -> 1, numTargetRowsNotMatchedBySourceDeleted -> 0, rewriteTimeMs -> 3054)</td><td>null</td><td>Databricks-Runtime/12.2.x-scala2.12</td></tr><tr><td>1</td><td>2024-06-07T19:38:10.000+0000</td><td>8432478468657958</td><td>paruchuri7781@gmail.com</td><td>WRITE</td><td>Map(mode -> Append, partitionBy -> [])</td><td>null</td><td>List(2138961590306633)</td><td>0607-140626-dbonvaq0</td><td>0</td><td>WriteSerializable</td><td>true</td><td>Map(numFiles -> 1, numOutputRows -> 10, numOutputBytes -> 3034)</td><td>null</td><td>Databricks-Runtime/12.2.x-scala2.12</td></tr><tr><td>0</td><td>2024-06-07T19:37:16.000+0000</td><td>8432478468657958</td><td>paruchuri7781@gmail.com</td><td>CREATE TABLE</td><td>Map(isManaged -> false, description -> null, partitionBy -> [], properties -> {})</td><td>null</td><td>List(2138961590306633)</td><td>0607-140626-dbonvaq0</td><td>null</td><td>WriteSerializable</td><td>true</td><td>Map()</td><td>null</td><td>Databricks-Runtime/12.2.x-scala2.12</td></tr></tbody></table></div>"
      ]
     },
     "metadata": {
      "application/vnd.databricks.v1+output": {
       "addedWidgets": {},
       "aggData": [],
       "aggError": "",
       "aggOverflow": false,
       "aggSchema": [],
       "aggSeriesLimitReached": false,
       "aggType": "",
       "arguments": {},
       "columnCustomDisplayInfos": {},
       "data": [
        [
         10,
         "2024-06-10T14:50:20.000+0000",
         "8432478468657958",
         "paruchuri7781@gmail.com",
         "WRITE",
         {
          "mode": "Append",
          "partitionBy": "[]"
         },
         null,
         [
          "2138961590306633"
         ],
         "0610-135555-y0o4beyi",
         9,
         "WriteSerializable",
         true,
         {
          "numFiles": "2",
          "numOutputBytes": "5242",
          "numOutputRows": "2"
         },
         null,
         "Databricks-Runtime/12.2.x-scala2.12"
        ],
        [
         9,
         "2024-06-10T14:09:34.000+0000",
         "8432478468657958",
         "paruchuri7781@gmail.com",
         "MERGE",
         {
          "matchedPredicates": "[{\"predicate\":\"((NOT (Department#5062 = Department#4805) OR NOT (Title#5063 = Title#4806)) OR (NOT (cast(Salary#5064 as double) = Salary#4807) AND IsCurrent#5067))\",\"actionType\":\"update\"}]",
          "notMatchedBySourcePredicates": "[]",
          "notMatchedPredicates": "[{\"actionType\":\"insert\"}]",
          "predicate": "[\"(EmployeeID#5059 = EmployeeID#4802)\"]"
         },
         null,
         [
          "2138961590306633"
         ],
         "0610-135555-y0o4beyi",
         8,
         "WriteSerializable",
         false,
         {
          "executionTimeMs": "8956",
          "numOutputRows": "11",
          "numSourceRows": "3",
          "numTargetBytesAdded": "10930",
          "numTargetBytesRemoved": "3034",
          "numTargetChangeFilesAdded": "0",
          "numTargetDeletionVectorsAdded": "0",
          "numTargetDeletionVectorsRemoved": "0",
          "numTargetFilesAdded": "4",
          "numTargetFilesRemoved": "1",
          "numTargetRowsCopied": "8",
          "numTargetRowsDeleted": "0",
          "numTargetRowsInserted": "1",
          "numTargetRowsMatchedDeleted": "0",
          "numTargetRowsMatchedUpdated": "2",
          "numTargetRowsNotMatchedBySourceDeleted": "0",
          "numTargetRowsNotMatchedBySourceUpdated": "0",
          "numTargetRowsUpdated": "2",
          "rewriteTimeMs": "4620",
          "scanTimeMs": "3077"
         },
         null,
         "Databricks-Runtime/12.2.x-scala2.12"
        ],
        [
         8,
         "2024-06-10T14:09:07.000+0000",
         "8432478468657958",
         "paruchuri7781@gmail.com",
         "WRITE",
         {
          "mode": "Append",
          "partitionBy": "[]"
         },
         null,
         [
          "2138961590306633"
         ],
         "0610-135555-y0o4beyi",
         7,
         "WriteSerializable",
         true,
         {
          "numFiles": "1",
          "numOutputBytes": "3034",
          "numOutputRows": "10"
         },
         null,
         "Databricks-Runtime/12.2.x-scala2.12"
        ],
        [
         7,
         "2024-06-10T14:08:58.000+0000",
         "8432478468657958",
         "paruchuri7781@gmail.com",
         "CREATE OR REPLACE TABLE",
         {
          "description": null,
          "isManaged": "false",
          "partitionBy": "[]",
          "properties": "{}"
         },
         null,
         [
          "2138961590306633"
         ],
         "0610-135555-y0o4beyi",
         6,
         "WriteSerializable",
         false,
         {},
         null,
         "Databricks-Runtime/12.2.x-scala2.12"
        ],
        [
         6,
         "2024-06-10T14:08:28.000+0000",
         "8432478468657958",
         "paruchuri7781@gmail.com",
         "MERGE",
         {
          "matchedPredicates": "[{\"predicate\":\"((NOT (Department#1925 = Department#1668) OR NOT (Title#1926 = Title#1669)) OR (NOT (cast(Salary#1927 as double) = Salary#1670) AND IsCurrent#1930))\",\"actionType\":\"update\"}]",
          "notMatchedBySourcePredicates": "[]",
          "notMatchedPredicates": "[{\"actionType\":\"insert\"}]",
          "predicate": "[\"(EmployeeID#1922 = EmployeeID#1665)\"]"
         },
         null,
         [
          "2138961590306633"
         ],
         "0610-135555-y0o4beyi",
         5,
         "WriteSerializable",
         false,
         {
          "executionTimeMs": "13312",
          "numOutputRows": "11",
          "numSourceRows": "3",
          "numTargetBytesAdded": "10930",
          "numTargetBytesRemoved": "3034",
          "numTargetChangeFilesAdded": "0",
          "numTargetDeletionVectorsAdded": "0",
          "numTargetDeletionVectorsRemoved": "0",
          "numTargetFilesAdded": "4",
          "numTargetFilesRemoved": "1",
          "numTargetRowsCopied": "8",
          "numTargetRowsDeleted": "0",
          "numTargetRowsInserted": "1",
          "numTargetRowsMatchedDeleted": "0",
          "numTargetRowsMatchedUpdated": "2",
          "numTargetRowsNotMatchedBySourceDeleted": "0",
          "numTargetRowsNotMatchedBySourceUpdated": "0",
          "numTargetRowsUpdated": "2",
          "rewriteTimeMs": "5681",
          "scanTimeMs": "5556"
         },
         null,
         "Databricks-Runtime/12.2.x-scala2.12"
        ],
        [
         5,
         "2024-06-10T14:01:36.000+0000",
         "8432478468657958",
         "paruchuri7781@gmail.com",
         "WRITE",
         {
          "mode": "Append",
          "partitionBy": "[]"
         },
         null,
         [
          "2138961590306633"
         ],
         "0610-135555-y0o4beyi",
         4,
         "WriteSerializable",
         true,
         {
          "numFiles": "1",
          "numOutputBytes": "3034",
          "numOutputRows": "10"
         },
         null,
         "Databricks-Runtime/12.2.x-scala2.12"
        ],
        [
         4,
         "2024-06-10T14:01:20.000+0000",
         "8432478468657958",
         "paruchuri7781@gmail.com",
         "TRUNCATE",
         {},
         null,
         [
          "2138961590306633"
         ],
         "0610-135555-y0o4beyi",
         3,
         "WriteSerializable",
         false,
         {
          "executionTimeMs": "2685",
          "numDeletedRows": "11",
          "numRemovedBytes": "10931",
          "numRemovedFiles": "4"
         },
         null,
         "Databricks-Runtime/12.2.x-scala2.12"
        ],
        [
         3,
         "2024-06-07T20:58:30.000+0000",
         "8432478468657958",
         "paruchuri7781@gmail.com",
         "MERGE",
         {
          "matchedPredicates": "[{\"predicate\":\"((NOT (Department#20155 = Department#14177) OR NOT (Title#20156 = Title#14178)) OR (NOT (cast(Salary#20157 as double) = Salary#14179) AND IsCurrent#20160))\",\"actionType\":\"update\"}]",
          "notMatchedBySourcePredicates": "[]",
          "notMatchedPredicates": "[{\"actionType\":\"insert\"}]",
          "predicate": "[\"(EmployeeID#20152 = EmployeeID#14174)\"]"
         },
         null,
         [
          "2138961590306633"
         ],
         "0607-140626-dbonvaq0",
         2,
         "WriteSerializable",
         false,
         {
          "executionTimeMs": "5645",
          "numOutputRows": "0",
          "numSourceRows": "3",
          "numTargetBytesAdded": "0",
          "numTargetBytesRemoved": "0",
          "numTargetChangeFilesAdded": "0",
          "numTargetDeletionVectorsAdded": "0",
          "numTargetDeletionVectorsRemoved": "0",
          "numTargetFilesAdded": "0",
          "numTargetFilesRemoved": "0",
          "numTargetRowsCopied": "0",
          "numTargetRowsDeleted": "0",
          "numTargetRowsInserted": "0",
          "numTargetRowsMatchedDeleted": "0",
          "numTargetRowsMatchedUpdated": "0",
          "numTargetRowsNotMatchedBySourceDeleted": "0",
          "numTargetRowsNotMatchedBySourceUpdated": "0",
          "numTargetRowsUpdated": "0",
          "rewriteTimeMs": "2173",
          "scanTimeMs": "2617"
         },
         null,
         "Databricks-Runtime/12.2.x-scala2.12"
        ],
        [
         2,
         "2024-06-07T20:49:24.000+0000",
         "8432478468657958",
         "paruchuri7781@gmail.com",
         "MERGE",
         {
          "matchedPredicates": "[{\"predicate\":\"((NOT (Department#17869 = Department#14177) OR NOT (Title#17870 = Title#14178)) OR (NOT (cast(Salary#17871 as double) = Salary#14179) AND IsCurrent#17874))\",\"actionType\":\"update\"}]",
          "notMatchedBySourcePredicates": "[]",
          "notMatchedPredicates": "[{\"actionType\":\"insert\"}]",
          "predicate": "[\"(EmployeeID#17866 = EmployeeID#14174)\"]"
         },
         null,
         [
          "2138961590306633"
         ],
         "0607-140626-dbonvaq0",
         1,
         "WriteSerializable",
         false,
         {
          "executionTimeMs": "6222",
          "numOutputRows": "11",
          "numSourceRows": "3",
          "numTargetBytesAdded": "10931",
          "numTargetBytesRemoved": "3034",
          "numTargetChangeFilesAdded": "0",
          "numTargetDeletionVectorsAdded": "0",
          "numTargetDeletionVectorsRemoved": "0",
          "numTargetFilesAdded": "4",
          "numTargetFilesRemoved": "1",
          "numTargetRowsCopied": "8",
          "numTargetRowsDeleted": "0",
          "numTargetRowsInserted": "1",
          "numTargetRowsMatchedDeleted": "0",
          "numTargetRowsMatchedUpdated": "2",
          "numTargetRowsNotMatchedBySourceDeleted": "0",
          "numTargetRowsNotMatchedBySourceUpdated": "0",
          "numTargetRowsUpdated": "2",
          "rewriteTimeMs": "3054",
          "scanTimeMs": "2358"
         },
         null,
         "Databricks-Runtime/12.2.x-scala2.12"
        ],
        [
         1,
         "2024-06-07T19:38:10.000+0000",
         "8432478468657958",
         "paruchuri7781@gmail.com",
         "WRITE",
         {
          "mode": "Append",
          "partitionBy": "[]"
         },
         null,
         [
          "2138961590306633"
         ],
         "0607-140626-dbonvaq0",
         0,
         "WriteSerializable",
         true,
         {
          "numFiles": "1",
          "numOutputBytes": "3034",
          "numOutputRows": "10"
         },
         null,
         "Databricks-Runtime/12.2.x-scala2.12"
        ],
        [
         0,
         "2024-06-07T19:37:16.000+0000",
         "8432478468657958",
         "paruchuri7781@gmail.com",
         "CREATE TABLE",
         {
          "description": null,
          "isManaged": "false",
          "partitionBy": "[]",
          "properties": "{}"
         },
         null,
         [
          "2138961590306633"
         ],
         "0607-140626-dbonvaq0",
         null,
         "WriteSerializable",
         true,
         {},
         null,
         "Databricks-Runtime/12.2.x-scala2.12"
        ]
       ],
       "datasetInfos": [],
       "dbfsResultPath": null,
       "isJsonSchema": true,
       "metadata": {},
       "overflow": false,
       "plotOptions": {
        "customPlotOptions": {},
        "displayType": "table",
        "pivotAggregation": null,
        "pivotColumns": null,
        "xColumns": null,
        "yColumns": null
       },
       "removedWidgets": [],
       "schema": [
        {
         "metadata": "{}",
         "name": "version",
         "type": "\"long\""
        },
        {
         "metadata": "{}",
         "name": "timestamp",
         "type": "\"timestamp\""
        },
        {
         "metadata": "{}",
         "name": "userId",
         "type": "\"string\""
        },
        {
         "metadata": "{}",
         "name": "userName",
         "type": "\"string\""
        },
        {
         "metadata": "{}",
         "name": "operation",
         "type": "\"string\""
        },
        {
         "metadata": "{}",
         "name": "operationParameters",
         "type": "{\"type\":\"map\",\"keyType\":\"string\",\"valueType\":\"string\",\"valueContainsNull\":true}"
        },
        {
         "metadata": "{}",
         "name": "job",
         "type": "{\"type\":\"struct\",\"fields\":[{\"name\":\"jobId\",\"type\":\"string\",\"nullable\":true,\"metadata\":{}},{\"name\":\"jobName\",\"type\":\"string\",\"nullable\":true,\"metadata\":{}},{\"name\":\"jobRunId\",\"type\":\"string\",\"nullable\":true,\"metadata\":{}},{\"name\":\"runId\",\"type\":\"string\",\"nullable\":true,\"metadata\":{}},{\"name\":\"jobOwnerId\",\"type\":\"string\",\"nullable\":true,\"metadata\":{}},{\"name\":\"triggerType\",\"type\":\"string\",\"nullable\":true,\"metadata\":{}}]}"
        },
        {
         "metadata": "{}",
         "name": "notebook",
         "type": "{\"type\":\"struct\",\"fields\":[{\"name\":\"notebookId\",\"type\":\"string\",\"nullable\":true,\"metadata\":{}}]}"
        },
        {
         "metadata": "{}",
         "name": "clusterId",
         "type": "\"string\""
        },
        {
         "metadata": "{}",
         "name": "readVersion",
         "type": "\"long\""
        },
        {
         "metadata": "{}",
         "name": "isolationLevel",
         "type": "\"string\""
        },
        {
         "metadata": "{}",
         "name": "isBlindAppend",
         "type": "\"boolean\""
        },
        {
         "metadata": "{}",
         "name": "operationMetrics",
         "type": "{\"type\":\"map\",\"keyType\":\"string\",\"valueType\":\"string\",\"valueContainsNull\":true}"
        },
        {
         "metadata": "{}",
         "name": "userMetadata",
         "type": "\"string\""
        },
        {
         "metadata": "{}",
         "name": "engineInfo",
         "type": "\"string\""
        }
       ],
       "type": "table"
      }
     },
     "output_type": "display_data"
    }
   ],
   "source": [
    "%sql \n",
    "\n",
    "describe history employees"
   ]
  },
  {
   "cell_type": "markdown",
   "metadata": {
    "application/vnd.databricks.v1+cell": {
     "cellMetadata": {},
     "inputWidgets": {},
     "nuid": "52cfdfa1-ae92-4fc8-bd6b-fe96620a6982",
     "showTitle": false,
     "title": ""
    }
   },
   "source": [
    "#Pyspark approaches"
   ]
  },
  {
   "cell_type": "markdown",
   "metadata": {
    "application/vnd.databricks.v1+cell": {
     "cellMetadata": {
      "byteLimit": 2048000,
      "rowLimit": 10000
     },
     "inputWidgets": {},
     "nuid": "d8db01dc-bba9-4d31-8ceb-0b279399f6eb",
     "showTitle": false,
     "title": ""
    }
   },
   "source": [
    "M1:pyspark timestamps+ table"
   ]
  },
  {
   "cell_type": "code",
   "execution_count": 0,
   "metadata": {
    "application/vnd.databricks.v1+cell": {
     "cellMetadata": {
      "byteLimit": 2048000,
      "rowLimit": 10000
     },
     "inputWidgets": {},
     "nuid": "53b87d51-219d-4358-b072-8cb8c7d48b91",
     "showTitle": false,
     "title": ""
    }
   },
   "outputs": [
    {
     "output_type": "display_data",
     "data": {
      "text/html": [
       "<style scoped>\n",
       "  .table-result-container {\n",
       "    max-height: 300px;\n",
       "    overflow: auto;\n",
       "  }\n",
       "  table, th, td {\n",
       "    border: 1px solid black;\n",
       "    border-collapse: collapse;\n",
       "  }\n",
       "  th, td {\n",
       "    padding: 5px;\n",
       "  }\n",
       "  th {\n",
       "    text-align: left;\n",
       "  }\n",
       "</style><div class='table-result-container'><table class='table-result'><thead style='background-color: white'><tr><th>EmployeeID</th><th>FirstName</th><th>LastName</th><th>Department</th><th>Title</th><th>Salary</th><th>EffectiveDate</th><th>EndDate</th><th>IsCurrent</th></tr></thead><tbody><tr><td>1003</td><td>Emily</td><td>Jones</td><td>HR</td><td>Analyst</td><td>65000.00</td><td>2023-01-01</td><td>null</td><td>true</td></tr><tr><td>1004</td><td>Michael</td><td>Brown</td><td>IT</td><td>Developer</td><td>72000.00</td><td>2023-01-01</td><td>null</td><td>true</td></tr><tr><td>1005</td><td>Rachel</td><td>Green</td><td>Finance</td><td>Accountant</td><td>58000.00</td><td>2023-01-01</td><td>null</td><td>true</td></tr><tr><td>1006</td><td>Ross</td><td>Geller</td><td>Science</td><td>Researcher</td><td>76000.00</td><td>2023-01-01</td><td>null</td><td>true</td></tr><tr><td>1007</td><td>Monica</td><td>Geller</td><td>Culinary</td><td>Chef</td><td>62000.00</td><td>2023-01-01</td><td>null</td><td>true</td></tr><tr><td>1008</td><td>Joey</td><td>Tribbiani</td><td>Acting</td><td>Actor</td><td>55000.00</td><td>2023-01-01</td><td>null</td><td>true</td></tr><tr><td>1009</td><td>Chandler</td><td>Bing</td><td>Advertising</td><td>Copywriter</td><td>64000.00</td><td>2023-01-01</td><td>null</td><td>true</td></tr><tr><td>1010</td><td>Phoebe</td><td>Buffay</td><td>Music</td><td>Singer</td><td>50000.00</td><td>2023-01-01</td><td>null</td><td>true</td></tr><tr><td>1001</td><td>John</td><td>Doe</td><td>Engineering</td><td>Lead Engineer</td><td>95000.00</td><td>2023-01-01</td><td>2024-06-07</td><td>false</td></tr><tr><td>1011</td><td>Alex</td><td>Taylor</td><td>Marketing</td><td>Marketing Analyst</td><td>58000.00</td><td>2024-06-07</td><td>null</td><td>true</td></tr><tr><td>1002</td><td>Jane</td><td>Smith</td><td>Sales</td><td>Sales Manager</td><td>78000.00</td><td>2023-01-01</td><td>2024-06-07</td><td>false</td></tr></tbody></table></div>"
      ]
     },
     "metadata": {
      "application/vnd.databricks.v1+output": {
       "addedWidgets": {},
       "aggData": [],
       "aggError": "",
       "aggOverflow": false,
       "aggSchema": [],
       "aggSeriesLimitReached": false,
       "aggType": "",
       "arguments": {},
       "columnCustomDisplayInfos": {},
       "data": [
        [
         1003,
         "Emily",
         "Jones",
         "HR",
         "Analyst",
         "65000.00",
         "2023-01-01",
         null,
         true
        ],
        [
         1004,
         "Michael",
         "Brown",
         "IT",
         "Developer",
         "72000.00",
         "2023-01-01",
         null,
         true
        ],
        [
         1005,
         "Rachel",
         "Green",
         "Finance",
         "Accountant",
         "58000.00",
         "2023-01-01",
         null,
         true
        ],
        [
         1006,
         "Ross",
         "Geller",
         "Science",
         "Researcher",
         "76000.00",
         "2023-01-01",
         null,
         true
        ],
        [
         1007,
         "Monica",
         "Geller",
         "Culinary",
         "Chef",
         "62000.00",
         "2023-01-01",
         null,
         true
        ],
        [
         1008,
         "Joey",
         "Tribbiani",
         "Acting",
         "Actor",
         "55000.00",
         "2023-01-01",
         null,
         true
        ],
        [
         1009,
         "Chandler",
         "Bing",
         "Advertising",
         "Copywriter",
         "64000.00",
         "2023-01-01",
         null,
         true
        ],
        [
         1010,
         "Phoebe",
         "Buffay",
         "Music",
         "Singer",
         "50000.00",
         "2023-01-01",
         null,
         true
        ],
        [
         1001,
         "John",
         "Doe",
         "Engineering",
         "Lead Engineer",
         "95000.00",
         "2023-01-01",
         "2024-06-07",
         false
        ],
        [
         1011,
         "Alex",
         "Taylor",
         "Marketing",
         "Marketing Analyst",
         "58000.00",
         "2024-06-07",
         null,
         true
        ],
        [
         1002,
         "Jane",
         "Smith",
         "Sales",
         "Sales Manager",
         "78000.00",
         "2023-01-01",
         "2024-06-07",
         false
        ]
       ],
       "datasetInfos": [],
       "dbfsResultPath": null,
       "isJsonSchema": true,
       "metadata": {},
       "overflow": false,
       "plotOptions": {
        "customPlotOptions": {},
        "displayType": "table",
        "pivotAggregation": null,
        "pivotColumns": null,
        "xColumns": null,
        "yColumns": null
       },
       "removedWidgets": [],
       "schema": [
        {
         "metadata": "{}",
         "name": "EmployeeID",
         "type": "\"integer\""
        },
        {
         "metadata": "{}",
         "name": "FirstName",
         "type": "\"string\""
        },
        {
         "metadata": "{}",
         "name": "LastName",
         "type": "\"string\""
        },
        {
         "metadata": "{}",
         "name": "Department",
         "type": "\"string\""
        },
        {
         "metadata": "{}",
         "name": "Title",
         "type": "\"string\""
        },
        {
         "metadata": "{}",
         "name": "Salary",
         "type": "\"decimal(10,2)\""
        },
        {
         "metadata": "{}",
         "name": "EffectiveDate",
         "type": "\"date\""
        },
        {
         "metadata": "{}",
         "name": "EndDate",
         "type": "\"date\""
        },
        {
         "metadata": "{}",
         "name": "IsCurrent",
         "type": "\"boolean\""
        }
       ],
       "type": "table"
      }
     },
     "output_type": "display_data"
    }
   ],
   "source": [
    "df=spark.read.format(\"delta\")\\\n",
    "          .option(\"timestampAsOf\",\"2024-06-07T20:58:30.000+0000\")\\\n",
    "          .table(\"employees\")\n",
    "\n",
    "display(df)"
   ]
  },
  {
   "cell_type": "markdown",
   "metadata": {
    "application/vnd.databricks.v1+cell": {
     "cellMetadata": {},
     "inputWidgets": {},
     "nuid": "0003dac4-f840-465e-83f8-e38a69694b06",
     "showTitle": false,
     "title": ""
    }
   },
   "source": [
    "M2:pyspark timestamps+ path\n",
    "\n"
   ]
  },
  {
   "cell_type": "code",
   "execution_count": 0,
   "metadata": {
    "application/vnd.databricks.v1+cell": {
     "cellMetadata": {
      "byteLimit": 2048000,
      "rowLimit": 10000
     },
     "inputWidgets": {},
     "nuid": "54cfc394-033e-42f3-8eeb-3479ede1a823",
     "showTitle": false,
     "title": ""
    }
   },
   "outputs": [
    {
     "output_type": "stream",
     "name": "stdout",
     "output_type": "stream",
     "text": [
      "+----------+---------+---------+-----------+---------------+--------+-------------+-------+---------+\n|EmployeeID|FirstName| LastName| Department|          Title|  Salary|EffectiveDate|EndDate|IsCurrent|\n+----------+---------+---------+-----------+---------------+--------+-------------+-------+---------+\n|      1001|     John|      Doe|Engineering|Senior Engineer|90000.00|   2023-01-01|   null|     true|\n|      1002|     Jane|    Smith|  Marketing|        Manager|75000.00|   2023-01-01|   null|     true|\n|      1003|    Emily|    Jones|         HR|        Analyst|65000.00|   2023-01-01|   null|     true|\n|      1004|  Michael|    Brown|         IT|      Developer|72000.00|   2023-01-01|   null|     true|\n|      1005|   Rachel|    Green|    Finance|     Accountant|58000.00|   2023-01-01|   null|     true|\n|      1006|     Ross|   Geller|    Science|     Researcher|76000.00|   2023-01-01|   null|     true|\n|      1007|   Monica|   Geller|   Culinary|           Chef|62000.00|   2023-01-01|   null|     true|\n|      1008|     Joey|Tribbiani|     Acting|          Actor|55000.00|   2023-01-01|   null|     true|\n|      1009| Chandler|     Bing|Advertising|     Copywriter|64000.00|   2023-01-01|   null|     true|\n|      1010|   Phoebe|   Buffay|      Music|         Singer|50000.00|   2023-01-01|   null|     true|\n+----------+---------+---------+-----------+---------------+--------+-------------+-------+---------+\n\n"
     ]
    }
   ],
   "source": [
    "df=spark.read.format(\"delta\")\\\n",
    "          .option(\"timestampAsOf\",\"2024-06-07T19:38:10.000+0000\")\\\n",
    "          .load(\"/Filestore/tables/scd_2\")\n",
    "\n",
    "df.show()"
   ]
  },
  {
   "cell_type": "markdown",
   "metadata": {
    "application/vnd.databricks.v1+cell": {
     "cellMetadata": {},
     "inputWidgets": {},
     "nuid": "d0aaba13-7649-487f-a29e-ff44597a4aa4",
     "showTitle": false,
     "title": ""
    }
   },
   "source": [
    "M3:pyspark version+ table\n",
    "\n"
   ]
  },
  {
   "cell_type": "code",
   "execution_count": 0,
   "metadata": {
    "application/vnd.databricks.v1+cell": {
     "cellMetadata": {
      "byteLimit": 2048000,
      "rowLimit": 10000
     },
     "inputWidgets": {},
     "nuid": "6e61a47d-a659-4469-8814-95d75e83c822",
     "showTitle": false,
     "title": ""
    }
   },
   "outputs": [
    {
     "output_type": "display_data",
     "data": {
      "text/html": [
       "<style scoped>\n",
       "  .table-result-container {\n",
       "    max-height: 300px;\n",
       "    overflow: auto;\n",
       "  }\n",
       "  table, th, td {\n",
       "    border: 1px solid black;\n",
       "    border-collapse: collapse;\n",
       "  }\n",
       "  th, td {\n",
       "    padding: 5px;\n",
       "  }\n",
       "  th {\n",
       "    text-align: left;\n",
       "  }\n",
       "</style><div class='table-result-container'><table class='table-result'><thead style='background-color: white'><tr><th>EmployeeID</th><th>FirstName</th><th>LastName</th><th>Department</th><th>Title</th><th>Salary</th><th>EffectiveDate</th><th>EndDate</th><th>IsCurrent</th></tr></thead><tbody><tr><td>1001</td><td>John</td><td>Doe</td><td>Engineering</td><td>Senior Engineer</td><td>90000.00</td><td>2023-01-01</td><td>null</td><td>true</td></tr><tr><td>1002</td><td>Jane</td><td>Smith</td><td>Marketing</td><td>Manager</td><td>75000.00</td><td>2023-01-01</td><td>null</td><td>true</td></tr><tr><td>1003</td><td>Emily</td><td>Jones</td><td>HR</td><td>Analyst</td><td>65000.00</td><td>2023-01-01</td><td>null</td><td>true</td></tr><tr><td>1004</td><td>Michael</td><td>Brown</td><td>IT</td><td>Developer</td><td>72000.00</td><td>2023-01-01</td><td>null</td><td>true</td></tr><tr><td>1005</td><td>Rachel</td><td>Green</td><td>Finance</td><td>Accountant</td><td>58000.00</td><td>2023-01-01</td><td>null</td><td>true</td></tr><tr><td>1006</td><td>Ross</td><td>Geller</td><td>Science</td><td>Researcher</td><td>76000.00</td><td>2023-01-01</td><td>null</td><td>true</td></tr><tr><td>1007</td><td>Monica</td><td>Geller</td><td>Culinary</td><td>Chef</td><td>62000.00</td><td>2023-01-01</td><td>null</td><td>true</td></tr><tr><td>1008</td><td>Joey</td><td>Tribbiani</td><td>Acting</td><td>Actor</td><td>55000.00</td><td>2023-01-01</td><td>null</td><td>true</td></tr><tr><td>1009</td><td>Chandler</td><td>Bing</td><td>Advertising</td><td>Copywriter</td><td>64000.00</td><td>2023-01-01</td><td>null</td><td>true</td></tr><tr><td>1010</td><td>Phoebe</td><td>Buffay</td><td>Music</td><td>Singer</td><td>50000.00</td><td>2023-01-01</td><td>null</td><td>true</td></tr></tbody></table></div>"
      ]
     },
     "metadata": {
      "application/vnd.databricks.v1+output": {
       "addedWidgets": {},
       "aggData": [],
       "aggError": "",
       "aggOverflow": false,
       "aggSchema": [],
       "aggSeriesLimitReached": false,
       "aggType": "",
       "arguments": {},
       "columnCustomDisplayInfos": {},
       "data": [
        [
         1001,
         "John",
         "Doe",
         "Engineering",
         "Senior Engineer",
         "90000.00",
         "2023-01-01",
         null,
         true
        ],
        [
         1002,
         "Jane",
         "Smith",
         "Marketing",
         "Manager",
         "75000.00",
         "2023-01-01",
         null,
         true
        ],
        [
         1003,
         "Emily",
         "Jones",
         "HR",
         "Analyst",
         "65000.00",
         "2023-01-01",
         null,
         true
        ],
        [
         1004,
         "Michael",
         "Brown",
         "IT",
         "Developer",
         "72000.00",
         "2023-01-01",
         null,
         true
        ],
        [
         1005,
         "Rachel",
         "Green",
         "Finance",
         "Accountant",
         "58000.00",
         "2023-01-01",
         null,
         true
        ],
        [
         1006,
         "Ross",
         "Geller",
         "Science",
         "Researcher",
         "76000.00",
         "2023-01-01",
         null,
         true
        ],
        [
         1007,
         "Monica",
         "Geller",
         "Culinary",
         "Chef",
         "62000.00",
         "2023-01-01",
         null,
         true
        ],
        [
         1008,
         "Joey",
         "Tribbiani",
         "Acting",
         "Actor",
         "55000.00",
         "2023-01-01",
         null,
         true
        ],
        [
         1009,
         "Chandler",
         "Bing",
         "Advertising",
         "Copywriter",
         "64000.00",
         "2023-01-01",
         null,
         true
        ],
        [
         1010,
         "Phoebe",
         "Buffay",
         "Music",
         "Singer",
         "50000.00",
         "2023-01-01",
         null,
         true
        ]
       ],
       "datasetInfos": [],
       "dbfsResultPath": null,
       "isJsonSchema": true,
       "metadata": {},
       "overflow": false,
       "plotOptions": {
        "customPlotOptions": {},
        "displayType": "table",
        "pivotAggregation": null,
        "pivotColumns": null,
        "xColumns": null,
        "yColumns": null
       },
       "removedWidgets": [],
       "schema": [
        {
         "metadata": "{}",
         "name": "EmployeeID",
         "type": "\"integer\""
        },
        {
         "metadata": "{}",
         "name": "FirstName",
         "type": "\"string\""
        },
        {
         "metadata": "{}",
         "name": "LastName",
         "type": "\"string\""
        },
        {
         "metadata": "{}",
         "name": "Department",
         "type": "\"string\""
        },
        {
         "metadata": "{}",
         "name": "Title",
         "type": "\"string\""
        },
        {
         "metadata": "{}",
         "name": "Salary",
         "type": "\"decimal(10,2)\""
        },
        {
         "metadata": "{}",
         "name": "EffectiveDate",
         "type": "\"date\""
        },
        {
         "metadata": "{}",
         "name": "EndDate",
         "type": "\"date\""
        },
        {
         "metadata": "{}",
         "name": "IsCurrent",
         "type": "\"boolean\""
        }
       ],
       "type": "table"
      }
     },
     "output_type": "display_data"
    }
   ],
   "source": [
    "df=spark.read.format(\"delta\")\\\n",
    "          .option(\"versionAsOf\",5)\\\n",
    "          .table(\"employees\")\n",
    "\n",
    "display(df)"
   ]
  },
  {
   "cell_type": "markdown",
   "metadata": {
    "application/vnd.databricks.v1+cell": {
     "cellMetadata": {},
     "inputWidgets": {},
     "nuid": "277b7c65-4bb7-436f-83ea-6ea57a7064fb",
     "showTitle": false,
     "title": ""
    }
   },
   "source": [
    "M3:pyspark version+ path"
   ]
  },
  {
   "cell_type": "code",
   "execution_count": 0,
   "metadata": {
    "application/vnd.databricks.v1+cell": {
     "cellMetadata": {
      "byteLimit": 2048000,
      "rowLimit": 10000
     },
     "inputWidgets": {},
     "nuid": "90c73cf1-39d3-41f7-a981-4b0a51441bf1",
     "showTitle": false,
     "title": ""
    }
   },
   "outputs": [
    {
     "output_type": "stream",
     "name": "stdout",
     "output_type": "stream",
     "text": [
      "+----------+---------+---------+-----------+---------------+--------+-------------+-------+---------+\n|EmployeeID|FirstName| LastName| Department|          Title|  Salary|EffectiveDate|EndDate|IsCurrent|\n+----------+---------+---------+-----------+---------------+--------+-------------+-------+---------+\n|      1001|     John|      Doe|Engineering|Senior Engineer|90000.00|   2023-01-01|   null|     true|\n|      1002|     Jane|    Smith|  Marketing|        Manager|75000.00|   2023-01-01|   null|     true|\n|      1003|    Emily|    Jones|         HR|        Analyst|65000.00|   2023-01-01|   null|     true|\n|      1004|  Michael|    Brown|         IT|      Developer|72000.00|   2023-01-01|   null|     true|\n|      1005|   Rachel|    Green|    Finance|     Accountant|58000.00|   2023-01-01|   null|     true|\n|      1006|     Ross|   Geller|    Science|     Researcher|76000.00|   2023-01-01|   null|     true|\n|      1007|   Monica|   Geller|   Culinary|           Chef|62000.00|   2023-01-01|   null|     true|\n|      1008|     Joey|Tribbiani|     Acting|          Actor|55000.00|   2023-01-01|   null|     true|\n|      1009| Chandler|     Bing|Advertising|     Copywriter|64000.00|   2023-01-01|   null|     true|\n|      1010|   Phoebe|   Buffay|      Music|         Singer|50000.00|   2023-01-01|   null|     true|\n+----------+---------+---------+-----------+---------------+--------+-------------+-------+---------+\n\n"
     ]
    }
   ],
   "source": [
    "df=spark.read.format(\"delta\")\\\n",
    "          .option(\"versionAsOf\",5)\\\n",
    "          .load(\"/Filestore/tables/scd_2\")\n",
    "df.show()"
   ]
  },
  {
   "cell_type": "markdown",
   "metadata": {
    "application/vnd.databricks.v1+cell": {
     "cellMetadata": {},
     "inputWidgets": {},
     "nuid": "0fadbe0a-d21e-429b-8655-6ba046129360",
     "showTitle": false,
     "title": ""
    }
   },
   "source": [
    "#SQL APPROACHES"
   ]
  },
  {
   "cell_type": "markdown",
   "metadata": {
    "application/vnd.databricks.v1+cell": {
     "cellMetadata": {
      "byteLimit": 2048000,
      "rowLimit": 10000
     },
     "inputWidgets": {},
     "nuid": "bd078a4f-f411-4688-b7ae-f73ab8400e3d",
     "showTitle": false,
     "title": ""
    }
   },
   "source": [
    "m1:version+table"
   ]
  },
  {
   "cell_type": "code",
   "execution_count": 0,
   "metadata": {
    "application/vnd.databricks.v1+cell": {
     "cellMetadata": {
      "byteLimit": 2048000,
      "implicitDf": true,
      "rowLimit": 10000
     },
     "inputWidgets": {},
     "nuid": "6e710496-d2a0-4ecb-b2cd-dd1b905c2256",
     "showTitle": false,
     "title": ""
    }
   },
   "outputs": [
    {
     "output_type": "display_data",
     "data": {
      "text/html": [
       "<style scoped>\n",
       "  .table-result-container {\n",
       "    max-height: 300px;\n",
       "    overflow: auto;\n",
       "  }\n",
       "  table, th, td {\n",
       "    border: 1px solid black;\n",
       "    border-collapse: collapse;\n",
       "  }\n",
       "  th, td {\n",
       "    padding: 5px;\n",
       "  }\n",
       "  th {\n",
       "    text-align: left;\n",
       "  }\n",
       "</style><div class='table-result-container'><table class='table-result'><thead style='background-color: white'><tr><th>EmployeeID</th><th>FirstName</th><th>LastName</th><th>Department</th><th>Title</th><th>Salary</th><th>EffectiveDate</th><th>EndDate</th><th>IsCurrent</th></tr></thead><tbody><tr><td>1003</td><td>Emily</td><td>Jones</td><td>HR</td><td>Analyst</td><td>65000.00</td><td>2023-01-01</td><td>null</td><td>true</td></tr><tr><td>1004</td><td>Michael</td><td>Brown</td><td>IT</td><td>Developer</td><td>72000.00</td><td>2023-01-01</td><td>null</td><td>true</td></tr><tr><td>1005</td><td>Rachel</td><td>Green</td><td>Finance</td><td>Accountant</td><td>58000.00</td><td>2023-01-01</td><td>null</td><td>true</td></tr><tr><td>1006</td><td>Ross</td><td>Geller</td><td>Science</td><td>Researcher</td><td>76000.00</td><td>2023-01-01</td><td>null</td><td>true</td></tr><tr><td>1007</td><td>Monica</td><td>Geller</td><td>Culinary</td><td>Chef</td><td>62000.00</td><td>2023-01-01</td><td>null</td><td>true</td></tr><tr><td>1008</td><td>Joey</td><td>Tribbiani</td><td>Acting</td><td>Actor</td><td>55000.00</td><td>2023-01-01</td><td>null</td><td>true</td></tr><tr><td>1009</td><td>Chandler</td><td>Bing</td><td>Advertising</td><td>Copywriter</td><td>64000.00</td><td>2023-01-01</td><td>null</td><td>true</td></tr><tr><td>1010</td><td>Phoebe</td><td>Buffay</td><td>Music</td><td>Singer</td><td>50000.00</td><td>2023-01-01</td><td>null</td><td>true</td></tr><tr><td>1001</td><td>John</td><td>Doe</td><td>Engineering</td><td>Senior Engineer</td><td>90000.00</td><td>2023-01-01</td><td>2024-06-10</td><td>false</td></tr><tr><td>1011</td><td>Alex</td><td>Taylor</td><td>Marketing</td><td>Marketing Analyst</td><td>58000.00</td><td>2024-06-10</td><td>null</td><td>true</td></tr><tr><td>1002</td><td>Jane</td><td>Smith</td><td>Marketing</td><td>Manager</td><td>75000.00</td><td>2023-01-01</td><td>2024-06-10</td><td>false</td></tr></tbody></table></div>"
      ]
     },
     "metadata": {
      "application/vnd.databricks.v1+output": {
       "addedWidgets": {},
       "aggData": [],
       "aggError": "",
       "aggOverflow": false,
       "aggSchema": [],
       "aggSeriesLimitReached": false,
       "aggType": "",
       "arguments": {},
       "columnCustomDisplayInfos": {},
       "data": [
        [
         1003,
         "Emily",
         "Jones",
         "HR",
         "Analyst",
         "65000.00",
         "2023-01-01",
         null,
         true
        ],
        [
         1004,
         "Michael",
         "Brown",
         "IT",
         "Developer",
         "72000.00",
         "2023-01-01",
         null,
         true
        ],
        [
         1005,
         "Rachel",
         "Green",
         "Finance",
         "Accountant",
         "58000.00",
         "2023-01-01",
         null,
         true
        ],
        [
         1006,
         "Ross",
         "Geller",
         "Science",
         "Researcher",
         "76000.00",
         "2023-01-01",
         null,
         true
        ],
        [
         1007,
         "Monica",
         "Geller",
         "Culinary",
         "Chef",
         "62000.00",
         "2023-01-01",
         null,
         true
        ],
        [
         1008,
         "Joey",
         "Tribbiani",
         "Acting",
         "Actor",
         "55000.00",
         "2023-01-01",
         null,
         true
        ],
        [
         1009,
         "Chandler",
         "Bing",
         "Advertising",
         "Copywriter",
         "64000.00",
         "2023-01-01",
         null,
         true
        ],
        [
         1010,
         "Phoebe",
         "Buffay",
         "Music",
         "Singer",
         "50000.00",
         "2023-01-01",
         null,
         true
        ],
        [
         1001,
         "John",
         "Doe",
         "Engineering",
         "Senior Engineer",
         "90000.00",
         "2023-01-01",
         "2024-06-10",
         false
        ],
        [
         1011,
         "Alex",
         "Taylor",
         "Marketing",
         "Marketing Analyst",
         "58000.00",
         "2024-06-10",
         null,
         true
        ],
        [
         1002,
         "Jane",
         "Smith",
         "Marketing",
         "Manager",
         "75000.00",
         "2023-01-01",
         "2024-06-10",
         false
        ]
       ],
       "datasetInfos": [],
       "dbfsResultPath": null,
       "isJsonSchema": true,
       "metadata": {},
       "overflow": false,
       "plotOptions": {
        "customPlotOptions": {},
        "displayType": "table",
        "pivotAggregation": null,
        "pivotColumns": null,
        "xColumns": null,
        "yColumns": null
       },
       "removedWidgets": [],
       "schema": [
        {
         "metadata": "{}",
         "name": "EmployeeID",
         "type": "\"integer\""
        },
        {
         "metadata": "{}",
         "name": "FirstName",
         "type": "\"string\""
        },
        {
         "metadata": "{}",
         "name": "LastName",
         "type": "\"string\""
        },
        {
         "metadata": "{}",
         "name": "Department",
         "type": "\"string\""
        },
        {
         "metadata": "{}",
         "name": "Title",
         "type": "\"string\""
        },
        {
         "metadata": "{}",
         "name": "Salary",
         "type": "\"decimal(10,2)\""
        },
        {
         "metadata": "{}",
         "name": "EffectiveDate",
         "type": "\"date\""
        },
        {
         "metadata": "{}",
         "name": "EndDate",
         "type": "\"date\""
        },
        {
         "metadata": "{}",
         "name": "IsCurrent",
         "type": "\"boolean\""
        }
       ],
       "type": "table"
      }
     },
     "output_type": "display_data"
    }
   ],
   "source": [
    "%sql \n",
    "\n",
    "select * from employees \n",
    "version as of 6"
   ]
  },
  {
   "cell_type": "markdown",
   "metadata": {
    "application/vnd.databricks.v1+cell": {
     "cellMetadata": {},
     "inputWidgets": {},
     "nuid": "c2bf0b30-2bea-4abd-8c01-0ca101a11e3b",
     "showTitle": false,
     "title": ""
    }
   },
   "source": [
    "m2:version+path"
   ]
  },
  {
   "cell_type": "code",
   "execution_count": 0,
   "metadata": {
    "application/vnd.databricks.v1+cell": {
     "cellMetadata": {
      "byteLimit": 2048000,
      "implicitDf": true,
      "rowLimit": 10000
     },
     "inputWidgets": {},
     "nuid": "cc57357a-f43e-4542-b7f7-126ab9301ade",
     "showTitle": false,
     "title": ""
    }
   },
   "outputs": [
    {
     "output_type": "display_data",
     "data": {
      "text/html": [
       "<style scoped>\n",
       "  .table-result-container {\n",
       "    max-height: 300px;\n",
       "    overflow: auto;\n",
       "  }\n",
       "  table, th, td {\n",
       "    border: 1px solid black;\n",
       "    border-collapse: collapse;\n",
       "  }\n",
       "  th, td {\n",
       "    padding: 5px;\n",
       "  }\n",
       "  th {\n",
       "    text-align: left;\n",
       "  }\n",
       "</style><div class='table-result-container'><table class='table-result'><thead style='background-color: white'><tr><th>EmployeeID</th><th>FirstName</th><th>LastName</th><th>Department</th><th>Title</th><th>Salary</th><th>EffectiveDate</th><th>EndDate</th><th>IsCurrent</th></tr></thead><tbody><tr><td>1003</td><td>Emily</td><td>Jones</td><td>HR</td><td>Analyst</td><td>65000.00</td><td>2023-01-01</td><td>null</td><td>true</td></tr><tr><td>1004</td><td>Michael</td><td>Brown</td><td>IT</td><td>Developer</td><td>72000.00</td><td>2023-01-01</td><td>null</td><td>true</td></tr><tr><td>1005</td><td>Rachel</td><td>Green</td><td>Finance</td><td>Accountant</td><td>58000.00</td><td>2023-01-01</td><td>null</td><td>true</td></tr><tr><td>1006</td><td>Ross</td><td>Geller</td><td>Science</td><td>Researcher</td><td>76000.00</td><td>2023-01-01</td><td>null</td><td>true</td></tr><tr><td>1007</td><td>Monica</td><td>Geller</td><td>Culinary</td><td>Chef</td><td>62000.00</td><td>2023-01-01</td><td>null</td><td>true</td></tr><tr><td>1008</td><td>Joey</td><td>Tribbiani</td><td>Acting</td><td>Actor</td><td>55000.00</td><td>2023-01-01</td><td>null</td><td>true</td></tr><tr><td>1009</td><td>Chandler</td><td>Bing</td><td>Advertising</td><td>Copywriter</td><td>64000.00</td><td>2023-01-01</td><td>null</td><td>true</td></tr><tr><td>1010</td><td>Phoebe</td><td>Buffay</td><td>Music</td><td>Singer</td><td>50000.00</td><td>2023-01-01</td><td>null</td><td>true</td></tr><tr><td>1001</td><td>John</td><td>Doe</td><td>Engineering</td><td>Lead Engineer</td><td>95000.00</td><td>2023-01-01</td><td>2024-06-07</td><td>false</td></tr><tr><td>1011</td><td>Alex</td><td>Taylor</td><td>Marketing</td><td>Marketing Analyst</td><td>58000.00</td><td>2024-06-07</td><td>null</td><td>true</td></tr><tr><td>1002</td><td>Jane</td><td>Smith</td><td>Sales</td><td>Sales Manager</td><td>78000.00</td><td>2023-01-01</td><td>2024-06-07</td><td>false</td></tr></tbody></table></div>"
      ]
     },
     "metadata": {
      "application/vnd.databricks.v1+output": {
       "addedWidgets": {},
       "aggData": [],
       "aggError": "",
       "aggOverflow": false,
       "aggSchema": [],
       "aggSeriesLimitReached": false,
       "aggType": "",
       "arguments": {},
       "columnCustomDisplayInfos": {},
       "data": [
        [
         1003,
         "Emily",
         "Jones",
         "HR",
         "Analyst",
         "65000.00",
         "2023-01-01",
         null,
         true
        ],
        [
         1004,
         "Michael",
         "Brown",
         "IT",
         "Developer",
         "72000.00",
         "2023-01-01",
         null,
         true
        ],
        [
         1005,
         "Rachel",
         "Green",
         "Finance",
         "Accountant",
         "58000.00",
         "2023-01-01",
         null,
         true
        ],
        [
         1006,
         "Ross",
         "Geller",
         "Science",
         "Researcher",
         "76000.00",
         "2023-01-01",
         null,
         true
        ],
        [
         1007,
         "Monica",
         "Geller",
         "Culinary",
         "Chef",
         "62000.00",
         "2023-01-01",
         null,
         true
        ],
        [
         1008,
         "Joey",
         "Tribbiani",
         "Acting",
         "Actor",
         "55000.00",
         "2023-01-01",
         null,
         true
        ],
        [
         1009,
         "Chandler",
         "Bing",
         "Advertising",
         "Copywriter",
         "64000.00",
         "2023-01-01",
         null,
         true
        ],
        [
         1010,
         "Phoebe",
         "Buffay",
         "Music",
         "Singer",
         "50000.00",
         "2023-01-01",
         null,
         true
        ],
        [
         1001,
         "John",
         "Doe",
         "Engineering",
         "Lead Engineer",
         "95000.00",
         "2023-01-01",
         "2024-06-07",
         false
        ],
        [
         1011,
         "Alex",
         "Taylor",
         "Marketing",
         "Marketing Analyst",
         "58000.00",
         "2024-06-07",
         null,
         true
        ],
        [
         1002,
         "Jane",
         "Smith",
         "Sales",
         "Sales Manager",
         "78000.00",
         "2023-01-01",
         "2024-06-07",
         false
        ]
       ],
       "datasetInfos": [],
       "dbfsResultPath": null,
       "isJsonSchema": true,
       "metadata": {},
       "overflow": false,
       "plotOptions": {
        "customPlotOptions": {},
        "displayType": "table",
        "pivotAggregation": null,
        "pivotColumns": null,
        "xColumns": null,
        "yColumns": null
       },
       "removedWidgets": [],
       "schema": [
        {
         "metadata": "{}",
         "name": "EmployeeID",
         "type": "\"integer\""
        },
        {
         "metadata": "{}",
         "name": "FirstName",
         "type": "\"string\""
        },
        {
         "metadata": "{}",
         "name": "LastName",
         "type": "\"string\""
        },
        {
         "metadata": "{}",
         "name": "Department",
         "type": "\"string\""
        },
        {
         "metadata": "{}",
         "name": "Title",
         "type": "\"string\""
        },
        {
         "metadata": "{}",
         "name": "Salary",
         "type": "\"decimal(10,2)\""
        },
        {
         "metadata": "{}",
         "name": "EffectiveDate",
         "type": "\"date\""
        },
        {
         "metadata": "{}",
         "name": "EndDate",
         "type": "\"date\""
        },
        {
         "metadata": "{}",
         "name": "IsCurrent",
         "type": "\"boolean\""
        }
       ],
       "type": "table"
      }
     },
     "output_type": "display_data"
    }
   ],
   "source": [
    "%sql\n",
    "\n",
    "select * \n",
    "from delta.`/Filestore/tables/scd_2` \n",
    "version as of 2"
   ]
  },
  {
   "cell_type": "markdown",
   "metadata": {
    "application/vnd.databricks.v1+cell": {
     "cellMetadata": {},
     "inputWidgets": {},
     "nuid": "6b3a6a58-43b7-4e60-8a4e-9a4c0a8e853d",
     "showTitle": false,
     "title": ""
    }
   },
   "source": [
    "m3:time_stamp+table\n",
    "\n"
   ]
  },
  {
   "cell_type": "code",
   "execution_count": 0,
   "metadata": {
    "application/vnd.databricks.v1+cell": {
     "cellMetadata": {
      "byteLimit": 2048000,
      "implicitDf": true,
      "rowLimit": 10000
     },
     "inputWidgets": {},
     "nuid": "7a532ec6-4e17-448c-ac30-9118c0925e40",
     "showTitle": false,
     "title": ""
    }
   },
   "outputs": [
    {
     "output_type": "display_data",
     "data": {
      "text/html": [
       "<style scoped>\n",
       "  .table-result-container {\n",
       "    max-height: 300px;\n",
       "    overflow: auto;\n",
       "  }\n",
       "  table, th, td {\n",
       "    border: 1px solid black;\n",
       "    border-collapse: collapse;\n",
       "  }\n",
       "  th, td {\n",
       "    padding: 5px;\n",
       "  }\n",
       "  th {\n",
       "    text-align: left;\n",
       "  }\n",
       "</style><div class='table-result-container'><table class='table-result'><thead style='background-color: white'><tr><th>EmployeeID</th><th>FirstName</th><th>LastName</th><th>Department</th><th>Title</th><th>Salary</th><th>EffectiveDate</th><th>EndDate</th><th>IsCurrent</th></tr></thead><tbody><tr><td>1003</td><td>Emily</td><td>Jones</td><td>HR</td><td>Analyst</td><td>65000.00</td><td>2023-01-01</td><td>null</td><td>true</td></tr><tr><td>1004</td><td>Michael</td><td>Brown</td><td>IT</td><td>Developer</td><td>72000.00</td><td>2023-01-01</td><td>null</td><td>true</td></tr><tr><td>1005</td><td>Rachel</td><td>Green</td><td>Finance</td><td>Accountant</td><td>58000.00</td><td>2023-01-01</td><td>null</td><td>true</td></tr><tr><td>1006</td><td>Ross</td><td>Geller</td><td>Science</td><td>Researcher</td><td>76000.00</td><td>2023-01-01</td><td>null</td><td>true</td></tr><tr><td>1007</td><td>Monica</td><td>Geller</td><td>Culinary</td><td>Chef</td><td>62000.00</td><td>2023-01-01</td><td>null</td><td>true</td></tr><tr><td>1008</td><td>Joey</td><td>Tribbiani</td><td>Acting</td><td>Actor</td><td>55000.00</td><td>2023-01-01</td><td>null</td><td>true</td></tr><tr><td>1009</td><td>Chandler</td><td>Bing</td><td>Advertising</td><td>Copywriter</td><td>64000.00</td><td>2023-01-01</td><td>null</td><td>true</td></tr><tr><td>1010</td><td>Phoebe</td><td>Buffay</td><td>Music</td><td>Singer</td><td>50000.00</td><td>2023-01-01</td><td>null</td><td>true</td></tr><tr><td>1001</td><td>John</td><td>Doe</td><td>Engineering</td><td>Lead Engineer</td><td>95000.00</td><td>2023-01-01</td><td>2024-06-07</td><td>false</td></tr><tr><td>1011</td><td>Alex</td><td>Taylor</td><td>Marketing</td><td>Marketing Analyst</td><td>58000.00</td><td>2024-06-07</td><td>null</td><td>true</td></tr><tr><td>1002</td><td>Jane</td><td>Smith</td><td>Sales</td><td>Sales Manager</td><td>78000.00</td><td>2023-01-01</td><td>2024-06-07</td><td>false</td></tr></tbody></table></div>"
      ]
     },
     "metadata": {
      "application/vnd.databricks.v1+output": {
       "addedWidgets": {},
       "aggData": [],
       "aggError": "",
       "aggOverflow": false,
       "aggSchema": [],
       "aggSeriesLimitReached": false,
       "aggType": "",
       "arguments": {},
       "columnCustomDisplayInfos": {},
       "data": [
        [
         1003,
         "Emily",
         "Jones",
         "HR",
         "Analyst",
         "65000.00",
         "2023-01-01",
         null,
         true
        ],
        [
         1004,
         "Michael",
         "Brown",
         "IT",
         "Developer",
         "72000.00",
         "2023-01-01",
         null,
         true
        ],
        [
         1005,
         "Rachel",
         "Green",
         "Finance",
         "Accountant",
         "58000.00",
         "2023-01-01",
         null,
         true
        ],
        [
         1006,
         "Ross",
         "Geller",
         "Science",
         "Researcher",
         "76000.00",
         "2023-01-01",
         null,
         true
        ],
        [
         1007,
         "Monica",
         "Geller",
         "Culinary",
         "Chef",
         "62000.00",
         "2023-01-01",
         null,
         true
        ],
        [
         1008,
         "Joey",
         "Tribbiani",
         "Acting",
         "Actor",
         "55000.00",
         "2023-01-01",
         null,
         true
        ],
        [
         1009,
         "Chandler",
         "Bing",
         "Advertising",
         "Copywriter",
         "64000.00",
         "2023-01-01",
         null,
         true
        ],
        [
         1010,
         "Phoebe",
         "Buffay",
         "Music",
         "Singer",
         "50000.00",
         "2023-01-01",
         null,
         true
        ],
        [
         1001,
         "John",
         "Doe",
         "Engineering",
         "Lead Engineer",
         "95000.00",
         "2023-01-01",
         "2024-06-07",
         false
        ],
        [
         1011,
         "Alex",
         "Taylor",
         "Marketing",
         "Marketing Analyst",
         "58000.00",
         "2024-06-07",
         null,
         true
        ],
        [
         1002,
         "Jane",
         "Smith",
         "Sales",
         "Sales Manager",
         "78000.00",
         "2023-01-01",
         "2024-06-07",
         false
        ]
       ],
       "datasetInfos": [],
       "dbfsResultPath": null,
       "isJsonSchema": true,
       "metadata": {},
       "overflow": false,
       "plotOptions": {
        "customPlotOptions": {},
        "displayType": "table",
        "pivotAggregation": null,
        "pivotColumns": null,
        "xColumns": null,
        "yColumns": null
       },
       "removedWidgets": [],
       "schema": [
        {
         "metadata": "{}",
         "name": "EmployeeID",
         "type": "\"integer\""
        },
        {
         "metadata": "{}",
         "name": "FirstName",
         "type": "\"string\""
        },
        {
         "metadata": "{}",
         "name": "LastName",
         "type": "\"string\""
        },
        {
         "metadata": "{}",
         "name": "Department",
         "type": "\"string\""
        },
        {
         "metadata": "{}",
         "name": "Title",
         "type": "\"string\""
        },
        {
         "metadata": "{}",
         "name": "Salary",
         "type": "\"decimal(10,2)\""
        },
        {
         "metadata": "{}",
         "name": "EffectiveDate",
         "type": "\"date\""
        },
        {
         "metadata": "{}",
         "name": "EndDate",
         "type": "\"date\""
        },
        {
         "metadata": "{}",
         "name": "IsCurrent",
         "type": "\"boolean\""
        }
       ],
       "type": "table"
      }
     },
     "output_type": "display_data"
    }
   ],
   "source": [
    "%sql\n",
    "\n",
    "select * \n",
    "from employees \n",
    "timestamp as of \"2024-06-07T20:49:24.000+0000\" "
   ]
  },
  {
   "cell_type": "markdown",
   "metadata": {
    "application/vnd.databricks.v1+cell": {
     "cellMetadata": {},
     "inputWidgets": {},
     "nuid": "9ccb90b0-3d0b-4437-8f8a-4da91d86d997",
     "showTitle": false,
     "title": ""
    }
   },
   "source": [
    "m4:timestamp+path"
   ]
  },
  {
   "cell_type": "code",
   "execution_count": 0,
   "metadata": {
    "application/vnd.databricks.v1+cell": {
     "cellMetadata": {
      "byteLimit": 2048000,
      "implicitDf": true,
      "rowLimit": 10000
     },
     "inputWidgets": {},
     "nuid": "40bbc911-d5be-4655-a702-8200a749b9a2",
     "showTitle": false,
     "title": ""
    }
   },
   "outputs": [
    {
     "output_type": "display_data",
     "data": {
      "text/html": [
       "<style scoped>\n",
       "  .table-result-container {\n",
       "    max-height: 300px;\n",
       "    overflow: auto;\n",
       "  }\n",
       "  table, th, td {\n",
       "    border: 1px solid black;\n",
       "    border-collapse: collapse;\n",
       "  }\n",
       "  th, td {\n",
       "    padding: 5px;\n",
       "  }\n",
       "  th {\n",
       "    text-align: left;\n",
       "  }\n",
       "</style><div class='table-result-container'><table class='table-result'><thead style='background-color: white'><tr><th>EmployeeID</th><th>FirstName</th><th>LastName</th><th>Department</th><th>Title</th><th>Salary</th><th>EffectiveDate</th><th>EndDate</th><th>IsCurrent</th></tr></thead><tbody><tr><td>1003</td><td>Emily</td><td>Jones</td><td>HR</td><td>Analyst</td><td>65000.00</td><td>2023-01-01</td><td>null</td><td>true</td></tr><tr><td>1004</td><td>Michael</td><td>Brown</td><td>IT</td><td>Developer</td><td>72000.00</td><td>2023-01-01</td><td>null</td><td>true</td></tr><tr><td>1005</td><td>Rachel</td><td>Green</td><td>Finance</td><td>Accountant</td><td>58000.00</td><td>2023-01-01</td><td>null</td><td>true</td></tr><tr><td>1006</td><td>Ross</td><td>Geller</td><td>Science</td><td>Researcher</td><td>76000.00</td><td>2023-01-01</td><td>null</td><td>true</td></tr><tr><td>1007</td><td>Monica</td><td>Geller</td><td>Culinary</td><td>Chef</td><td>62000.00</td><td>2023-01-01</td><td>null</td><td>true</td></tr><tr><td>1008</td><td>Joey</td><td>Tribbiani</td><td>Acting</td><td>Actor</td><td>55000.00</td><td>2023-01-01</td><td>null</td><td>true</td></tr><tr><td>1009</td><td>Chandler</td><td>Bing</td><td>Advertising</td><td>Copywriter</td><td>64000.00</td><td>2023-01-01</td><td>null</td><td>true</td></tr><tr><td>1010</td><td>Phoebe</td><td>Buffay</td><td>Music</td><td>Singer</td><td>50000.00</td><td>2023-01-01</td><td>null</td><td>true</td></tr><tr><td>1001</td><td>John</td><td>Doe</td><td>Engineering</td><td>Lead Engineer</td><td>95000.00</td><td>2023-01-01</td><td>2024-06-07</td><td>false</td></tr><tr><td>1011</td><td>Alex</td><td>Taylor</td><td>Marketing</td><td>Marketing Analyst</td><td>58000.00</td><td>2024-06-07</td><td>null</td><td>true</td></tr><tr><td>1002</td><td>Jane</td><td>Smith</td><td>Sales</td><td>Sales Manager</td><td>78000.00</td><td>2023-01-01</td><td>2024-06-07</td><td>false</td></tr></tbody></table></div>"
      ]
     },
     "metadata": {
      "application/vnd.databricks.v1+output": {
       "addedWidgets": {},
       "aggData": [],
       "aggError": "",
       "aggOverflow": false,
       "aggSchema": [],
       "aggSeriesLimitReached": false,
       "aggType": "",
       "arguments": {},
       "columnCustomDisplayInfos": {},
       "data": [
        [
         1003,
         "Emily",
         "Jones",
         "HR",
         "Analyst",
         "65000.00",
         "2023-01-01",
         null,
         true
        ],
        [
         1004,
         "Michael",
         "Brown",
         "IT",
         "Developer",
         "72000.00",
         "2023-01-01",
         null,
         true
        ],
        [
         1005,
         "Rachel",
         "Green",
         "Finance",
         "Accountant",
         "58000.00",
         "2023-01-01",
         null,
         true
        ],
        [
         1006,
         "Ross",
         "Geller",
         "Science",
         "Researcher",
         "76000.00",
         "2023-01-01",
         null,
         true
        ],
        [
         1007,
         "Monica",
         "Geller",
         "Culinary",
         "Chef",
         "62000.00",
         "2023-01-01",
         null,
         true
        ],
        [
         1008,
         "Joey",
         "Tribbiani",
         "Acting",
         "Actor",
         "55000.00",
         "2023-01-01",
         null,
         true
        ],
        [
         1009,
         "Chandler",
         "Bing",
         "Advertising",
         "Copywriter",
         "64000.00",
         "2023-01-01",
         null,
         true
        ],
        [
         1010,
         "Phoebe",
         "Buffay",
         "Music",
         "Singer",
         "50000.00",
         "2023-01-01",
         null,
         true
        ],
        [
         1001,
         "John",
         "Doe",
         "Engineering",
         "Lead Engineer",
         "95000.00",
         "2023-01-01",
         "2024-06-07",
         false
        ],
        [
         1011,
         "Alex",
         "Taylor",
         "Marketing",
         "Marketing Analyst",
         "58000.00",
         "2024-06-07",
         null,
         true
        ],
        [
         1002,
         "Jane",
         "Smith",
         "Sales",
         "Sales Manager",
         "78000.00",
         "2023-01-01",
         "2024-06-07",
         false
        ]
       ],
       "datasetInfos": [],
       "dbfsResultPath": null,
       "isJsonSchema": true,
       "metadata": {},
       "overflow": false,
       "plotOptions": {
        "customPlotOptions": {},
        "displayType": "table",
        "pivotAggregation": null,
        "pivotColumns": null,
        "xColumns": null,
        "yColumns": null
       },
       "removedWidgets": [],
       "schema": [
        {
         "metadata": "{}",
         "name": "EmployeeID",
         "type": "\"integer\""
        },
        {
         "metadata": "{}",
         "name": "FirstName",
         "type": "\"string\""
        },
        {
         "metadata": "{}",
         "name": "LastName",
         "type": "\"string\""
        },
        {
         "metadata": "{}",
         "name": "Department",
         "type": "\"string\""
        },
        {
         "metadata": "{}",
         "name": "Title",
         "type": "\"string\""
        },
        {
         "metadata": "{}",
         "name": "Salary",
         "type": "\"decimal(10,2)\""
        },
        {
         "metadata": "{}",
         "name": "EffectiveDate",
         "type": "\"date\""
        },
        {
         "metadata": "{}",
         "name": "EndDate",
         "type": "\"date\""
        },
        {
         "metadata": "{}",
         "name": "IsCurrent",
         "type": "\"boolean\""
        }
       ],
       "type": "table"
      }
     },
     "output_type": "display_data"
    }
   ],
   "source": [
    "%sql\n",
    "select * \n",
    "from delta.`/Filestore/tables/scd_2` \n",
    "timestamp as of \"2024-06-07T20:49:24.000+0000\""
   ]
  },
  {
   "cell_type": "markdown",
   "metadata": {
    "application/vnd.databricks.v1+cell": {
     "cellMetadata": {},
     "inputWidgets": {},
     "nuid": "b5cfd233-0981-480d-bed6-79601bd93ba9",
     "showTitle": false,
     "title": ""
    }
   },
   "source": [
    "#RESTORE COMMAND"
   ]
  },
  {
   "cell_type": "code",
   "execution_count": 0,
   "metadata": {
    "application/vnd.databricks.v1+cell": {
     "cellMetadata": {
      "byteLimit": 2048000,
      "rowLimit": 10000
     },
     "inputWidgets": {},
     "nuid": "298898a1-4aca-46ef-8b25-49a1e4eb57cc",
     "showTitle": false,
     "title": ""
    }
   },
   "outputs": [],
   "source": [
    "from delta.tables import *"
   ]
  },
  {
   "cell_type": "code",
   "execution_count": 0,
   "metadata": {
    "application/vnd.databricks.v1+cell": {
     "cellMetadata": {
      "byteLimit": 2048000,
      "rowLimit": 10000
     },
     "inputWidgets": {},
     "nuid": "f4ef26e0-f35b-4d79-a69b-a719a00e63ce",
     "showTitle": false,
     "title": ""
    }
   },
   "outputs": [],
   "source": [
    "dt_instance=DeltaTable.forPath(spark,'/Filestore/tables/scd_2')"
   ]
  },
  {
   "cell_type": "code",
   "execution_count": 0,
   "metadata": {
    "application/vnd.databricks.v1+cell": {
     "cellMetadata": {
      "byteLimit": 2048000,
      "rowLimit": 10000
     },
     "inputWidgets": {},
     "nuid": "c74172fb-15b2-4b28-bf1d-0e8dff09bff2",
     "showTitle": false,
     "title": ""
    }
   },
   "outputs": [
    {
     "output_type": "display_data",
     "data": {
      "text/html": [
       "<style scoped>\n",
       "  .table-result-container {\n",
       "    max-height: 300px;\n",
       "    overflow: auto;\n",
       "  }\n",
       "  table, th, td {\n",
       "    border: 1px solid black;\n",
       "    border-collapse: collapse;\n",
       "  }\n",
       "  th, td {\n",
       "    padding: 5px;\n",
       "  }\n",
       "  th {\n",
       "    text-align: left;\n",
       "  }\n",
       "</style><div class='table-result-container'><table class='table-result'><thead style='background-color: white'><tr><th>version</th><th>timestamp</th><th>userId</th><th>userName</th><th>operation</th><th>operationParameters</th><th>job</th><th>notebook</th><th>clusterId</th><th>readVersion</th><th>isolationLevel</th><th>isBlindAppend</th><th>operationMetrics</th><th>userMetadata</th><th>engineInfo</th></tr></thead><tbody><tr><td>10</td><td>2024-06-10T14:50:20.000+0000</td><td>8432478468657958</td><td>paruchuri7781@gmail.com</td><td>WRITE</td><td>Map(mode -> Append, partitionBy -> [])</td><td>null</td><td>List(2138961590306633)</td><td>0610-135555-y0o4beyi</td><td>9</td><td>WriteSerializable</td><td>true</td><td>Map(numFiles -> 2, numOutputRows -> 2, numOutputBytes -> 5242)</td><td>null</td><td>Databricks-Runtime/12.2.x-scala2.12</td></tr><tr><td>9</td><td>2024-06-10T14:09:34.000+0000</td><td>8432478468657958</td><td>paruchuri7781@gmail.com</td><td>MERGE</td><td>Map(predicate -> [\"(EmployeeID#5059 = EmployeeID#4802)\"], matchedPredicates -> [{\"predicate\":\"((NOT (Department#5062 = Department#4805) OR NOT (Title#5063 = Title#4806)) OR (NOT (cast(Salary#5064 as double) = Salary#4807) AND IsCurrent#5067))\",\"actionType\":\"update\"}], notMatchedPredicates -> [{\"actionType\":\"insert\"}], notMatchedBySourcePredicates -> [])</td><td>null</td><td>List(2138961590306633)</td><td>0610-135555-y0o4beyi</td><td>8</td><td>WriteSerializable</td><td>false</td><td>Map(numTargetRowsCopied -> 8, numTargetRowsDeleted -> 0, numTargetFilesAdded -> 4, numTargetBytesAdded -> 10930, numTargetBytesRemoved -> 3034, numTargetDeletionVectorsAdded -> 0, numTargetRowsMatchedUpdated -> 2, executionTimeMs -> 8956, numTargetRowsInserted -> 1, numTargetRowsMatchedDeleted -> 0, scanTimeMs -> 3077, numTargetRowsUpdated -> 2, numOutputRows -> 11, numTargetDeletionVectorsRemoved -> 0, numTargetRowsNotMatchedBySourceUpdated -> 0, numTargetChangeFilesAdded -> 0, numSourceRows -> 3, numTargetFilesRemoved -> 1, numTargetRowsNotMatchedBySourceDeleted -> 0, rewriteTimeMs -> 4620)</td><td>null</td><td>Databricks-Runtime/12.2.x-scala2.12</td></tr><tr><td>8</td><td>2024-06-10T14:09:07.000+0000</td><td>8432478468657958</td><td>paruchuri7781@gmail.com</td><td>WRITE</td><td>Map(mode -> Append, partitionBy -> [])</td><td>null</td><td>List(2138961590306633)</td><td>0610-135555-y0o4beyi</td><td>7</td><td>WriteSerializable</td><td>true</td><td>Map(numFiles -> 1, numOutputRows -> 10, numOutputBytes -> 3034)</td><td>null</td><td>Databricks-Runtime/12.2.x-scala2.12</td></tr><tr><td>7</td><td>2024-06-10T14:08:58.000+0000</td><td>8432478468657958</td><td>paruchuri7781@gmail.com</td><td>CREATE OR REPLACE TABLE</td><td>Map(isManaged -> false, description -> null, partitionBy -> [], properties -> {})</td><td>null</td><td>List(2138961590306633)</td><td>0610-135555-y0o4beyi</td><td>6</td><td>WriteSerializable</td><td>false</td><td>Map()</td><td>null</td><td>Databricks-Runtime/12.2.x-scala2.12</td></tr><tr><td>6</td><td>2024-06-10T14:08:28.000+0000</td><td>8432478468657958</td><td>paruchuri7781@gmail.com</td><td>MERGE</td><td>Map(predicate -> [\"(EmployeeID#1922 = EmployeeID#1665)\"], matchedPredicates -> [{\"predicate\":\"((NOT (Department#1925 = Department#1668) OR NOT (Title#1926 = Title#1669)) OR (NOT (cast(Salary#1927 as double) = Salary#1670) AND IsCurrent#1930))\",\"actionType\":\"update\"}], notMatchedPredicates -> [{\"actionType\":\"insert\"}], notMatchedBySourcePredicates -> [])</td><td>null</td><td>List(2138961590306633)</td><td>0610-135555-y0o4beyi</td><td>5</td><td>WriteSerializable</td><td>false</td><td>Map(numTargetRowsCopied -> 8, numTargetRowsDeleted -> 0, numTargetFilesAdded -> 4, numTargetBytesAdded -> 10930, numTargetBytesRemoved -> 3034, numTargetDeletionVectorsAdded -> 0, numTargetRowsMatchedUpdated -> 2, executionTimeMs -> 13312, numTargetRowsInserted -> 1, numTargetRowsMatchedDeleted -> 0, scanTimeMs -> 5556, numTargetRowsUpdated -> 2, numOutputRows -> 11, numTargetDeletionVectorsRemoved -> 0, numTargetRowsNotMatchedBySourceUpdated -> 0, numTargetChangeFilesAdded -> 0, numSourceRows -> 3, numTargetFilesRemoved -> 1, numTargetRowsNotMatchedBySourceDeleted -> 0, rewriteTimeMs -> 5681)</td><td>null</td><td>Databricks-Runtime/12.2.x-scala2.12</td></tr><tr><td>5</td><td>2024-06-10T14:01:36.000+0000</td><td>8432478468657958</td><td>paruchuri7781@gmail.com</td><td>WRITE</td><td>Map(mode -> Append, partitionBy -> [])</td><td>null</td><td>List(2138961590306633)</td><td>0610-135555-y0o4beyi</td><td>4</td><td>WriteSerializable</td><td>true</td><td>Map(numFiles -> 1, numOutputRows -> 10, numOutputBytes -> 3034)</td><td>null</td><td>Databricks-Runtime/12.2.x-scala2.12</td></tr><tr><td>4</td><td>2024-06-10T14:01:20.000+0000</td><td>8432478468657958</td><td>paruchuri7781@gmail.com</td><td>TRUNCATE</td><td>Map()</td><td>null</td><td>List(2138961590306633)</td><td>0610-135555-y0o4beyi</td><td>3</td><td>WriteSerializable</td><td>false</td><td>Map(numRemovedFiles -> 4, numDeletedRows -> 11, executionTimeMs -> 2685, numRemovedBytes -> 10931)</td><td>null</td><td>Databricks-Runtime/12.2.x-scala2.12</td></tr><tr><td>3</td><td>2024-06-07T20:58:30.000+0000</td><td>8432478468657958</td><td>paruchuri7781@gmail.com</td><td>MERGE</td><td>Map(predicate -> [\"(EmployeeID#20152 = EmployeeID#14174)\"], matchedPredicates -> [{\"predicate\":\"((NOT (Department#20155 = Department#14177) OR NOT (Title#20156 = Title#14178)) OR (NOT (cast(Salary#20157 as double) = Salary#14179) AND IsCurrent#20160))\",\"actionType\":\"update\"}], notMatchedPredicates -> [{\"actionType\":\"insert\"}], notMatchedBySourcePredicates -> [])</td><td>null</td><td>List(2138961590306633)</td><td>0607-140626-dbonvaq0</td><td>2</td><td>WriteSerializable</td><td>false</td><td>Map(numTargetRowsCopied -> 0, numTargetRowsDeleted -> 0, numTargetFilesAdded -> 0, numTargetBytesAdded -> 0, numTargetBytesRemoved -> 0, numTargetDeletionVectorsAdded -> 0, numTargetRowsMatchedUpdated -> 0, executionTimeMs -> 5645, numTargetRowsInserted -> 0, numTargetRowsMatchedDeleted -> 0, scanTimeMs -> 2617, numTargetRowsUpdated -> 0, numOutputRows -> 0, numTargetDeletionVectorsRemoved -> 0, numTargetRowsNotMatchedBySourceUpdated -> 0, numTargetChangeFilesAdded -> 0, numSourceRows -> 3, numTargetFilesRemoved -> 0, numTargetRowsNotMatchedBySourceDeleted -> 0, rewriteTimeMs -> 2173)</td><td>null</td><td>Databricks-Runtime/12.2.x-scala2.12</td></tr><tr><td>2</td><td>2024-06-07T20:49:24.000+0000</td><td>8432478468657958</td><td>paruchuri7781@gmail.com</td><td>MERGE</td><td>Map(predicate -> [\"(EmployeeID#17866 = EmployeeID#14174)\"], matchedPredicates -> [{\"predicate\":\"((NOT (Department#17869 = Department#14177) OR NOT (Title#17870 = Title#14178)) OR (NOT (cast(Salary#17871 as double) = Salary#14179) AND IsCurrent#17874))\",\"actionType\":\"update\"}], notMatchedPredicates -> [{\"actionType\":\"insert\"}], notMatchedBySourcePredicates -> [])</td><td>null</td><td>List(2138961590306633)</td><td>0607-140626-dbonvaq0</td><td>1</td><td>WriteSerializable</td><td>false</td><td>Map(numTargetRowsCopied -> 8, numTargetRowsDeleted -> 0, numTargetFilesAdded -> 4, numTargetBytesAdded -> 10931, numTargetBytesRemoved -> 3034, numTargetDeletionVectorsAdded -> 0, numTargetRowsMatchedUpdated -> 2, executionTimeMs -> 6222, numTargetRowsInserted -> 1, numTargetRowsMatchedDeleted -> 0, scanTimeMs -> 2358, numTargetRowsUpdated -> 2, numOutputRows -> 11, numTargetDeletionVectorsRemoved -> 0, numTargetRowsNotMatchedBySourceUpdated -> 0, numTargetChangeFilesAdded -> 0, numSourceRows -> 3, numTargetFilesRemoved -> 1, numTargetRowsNotMatchedBySourceDeleted -> 0, rewriteTimeMs -> 3054)</td><td>null</td><td>Databricks-Runtime/12.2.x-scala2.12</td></tr><tr><td>1</td><td>2024-06-07T19:38:10.000+0000</td><td>8432478468657958</td><td>paruchuri7781@gmail.com</td><td>WRITE</td><td>Map(mode -> Append, partitionBy -> [])</td><td>null</td><td>List(2138961590306633)</td><td>0607-140626-dbonvaq0</td><td>0</td><td>WriteSerializable</td><td>true</td><td>Map(numFiles -> 1, numOutputRows -> 10, numOutputBytes -> 3034)</td><td>null</td><td>Databricks-Runtime/12.2.x-scala2.12</td></tr><tr><td>0</td><td>2024-06-07T19:37:16.000+0000</td><td>8432478468657958</td><td>paruchuri7781@gmail.com</td><td>CREATE TABLE</td><td>Map(isManaged -> false, description -> null, partitionBy -> [], properties -> {})</td><td>null</td><td>List(2138961590306633)</td><td>0607-140626-dbonvaq0</td><td>null</td><td>WriteSerializable</td><td>true</td><td>Map()</td><td>null</td><td>Databricks-Runtime/12.2.x-scala2.12</td></tr></tbody></table></div>"
      ]
     },
     "metadata": {
      "application/vnd.databricks.v1+output": {
       "addedWidgets": {},
       "aggData": [],
       "aggError": "",
       "aggOverflow": false,
       "aggSchema": [],
       "aggSeriesLimitReached": false,
       "aggType": "",
       "arguments": {},
       "columnCustomDisplayInfos": {},
       "data": [
        [
         10,
         "2024-06-10T14:50:20.000+0000",
         "8432478468657958",
         "paruchuri7781@gmail.com",
         "WRITE",
         {
          "mode": "Append",
          "partitionBy": "[]"
         },
         null,
         [
          "2138961590306633"
         ],
         "0610-135555-y0o4beyi",
         9,
         "WriteSerializable",
         true,
         {
          "numFiles": "2",
          "numOutputBytes": "5242",
          "numOutputRows": "2"
         },
         null,
         "Databricks-Runtime/12.2.x-scala2.12"
        ],
        [
         9,
         "2024-06-10T14:09:34.000+0000",
         "8432478468657958",
         "paruchuri7781@gmail.com",
         "MERGE",
         {
          "matchedPredicates": "[{\"predicate\":\"((NOT (Department#5062 = Department#4805) OR NOT (Title#5063 = Title#4806)) OR (NOT (cast(Salary#5064 as double) = Salary#4807) AND IsCurrent#5067))\",\"actionType\":\"update\"}]",
          "notMatchedBySourcePredicates": "[]",
          "notMatchedPredicates": "[{\"actionType\":\"insert\"}]",
          "predicate": "[\"(EmployeeID#5059 = EmployeeID#4802)\"]"
         },
         null,
         [
          "2138961590306633"
         ],
         "0610-135555-y0o4beyi",
         8,
         "WriteSerializable",
         false,
         {
          "executionTimeMs": "8956",
          "numOutputRows": "11",
          "numSourceRows": "3",
          "numTargetBytesAdded": "10930",
          "numTargetBytesRemoved": "3034",
          "numTargetChangeFilesAdded": "0",
          "numTargetDeletionVectorsAdded": "0",
          "numTargetDeletionVectorsRemoved": "0",
          "numTargetFilesAdded": "4",
          "numTargetFilesRemoved": "1",
          "numTargetRowsCopied": "8",
          "numTargetRowsDeleted": "0",
          "numTargetRowsInserted": "1",
          "numTargetRowsMatchedDeleted": "0",
          "numTargetRowsMatchedUpdated": "2",
          "numTargetRowsNotMatchedBySourceDeleted": "0",
          "numTargetRowsNotMatchedBySourceUpdated": "0",
          "numTargetRowsUpdated": "2",
          "rewriteTimeMs": "4620",
          "scanTimeMs": "3077"
         },
         null,
         "Databricks-Runtime/12.2.x-scala2.12"
        ],
        [
         8,
         "2024-06-10T14:09:07.000+0000",
         "8432478468657958",
         "paruchuri7781@gmail.com",
         "WRITE",
         {
          "mode": "Append",
          "partitionBy": "[]"
         },
         null,
         [
          "2138961590306633"
         ],
         "0610-135555-y0o4beyi",
         7,
         "WriteSerializable",
         true,
         {
          "numFiles": "1",
          "numOutputBytes": "3034",
          "numOutputRows": "10"
         },
         null,
         "Databricks-Runtime/12.2.x-scala2.12"
        ],
        [
         7,
         "2024-06-10T14:08:58.000+0000",
         "8432478468657958",
         "paruchuri7781@gmail.com",
         "CREATE OR REPLACE TABLE",
         {
          "description": null,
          "isManaged": "false",
          "partitionBy": "[]",
          "properties": "{}"
         },
         null,
         [
          "2138961590306633"
         ],
         "0610-135555-y0o4beyi",
         6,
         "WriteSerializable",
         false,
         {},
         null,
         "Databricks-Runtime/12.2.x-scala2.12"
        ],
        [
         6,
         "2024-06-10T14:08:28.000+0000",
         "8432478468657958",
         "paruchuri7781@gmail.com",
         "MERGE",
         {
          "matchedPredicates": "[{\"predicate\":\"((NOT (Department#1925 = Department#1668) OR NOT (Title#1926 = Title#1669)) OR (NOT (cast(Salary#1927 as double) = Salary#1670) AND IsCurrent#1930))\",\"actionType\":\"update\"}]",
          "notMatchedBySourcePredicates": "[]",
          "notMatchedPredicates": "[{\"actionType\":\"insert\"}]",
          "predicate": "[\"(EmployeeID#1922 = EmployeeID#1665)\"]"
         },
         null,
         [
          "2138961590306633"
         ],
         "0610-135555-y0o4beyi",
         5,
         "WriteSerializable",
         false,
         {
          "executionTimeMs": "13312",
          "numOutputRows": "11",
          "numSourceRows": "3",
          "numTargetBytesAdded": "10930",
          "numTargetBytesRemoved": "3034",
          "numTargetChangeFilesAdded": "0",
          "numTargetDeletionVectorsAdded": "0",
          "numTargetDeletionVectorsRemoved": "0",
          "numTargetFilesAdded": "4",
          "numTargetFilesRemoved": "1",
          "numTargetRowsCopied": "8",
          "numTargetRowsDeleted": "0",
          "numTargetRowsInserted": "1",
          "numTargetRowsMatchedDeleted": "0",
          "numTargetRowsMatchedUpdated": "2",
          "numTargetRowsNotMatchedBySourceDeleted": "0",
          "numTargetRowsNotMatchedBySourceUpdated": "0",
          "numTargetRowsUpdated": "2",
          "rewriteTimeMs": "5681",
          "scanTimeMs": "5556"
         },
         null,
         "Databricks-Runtime/12.2.x-scala2.12"
        ],
        [
         5,
         "2024-06-10T14:01:36.000+0000",
         "8432478468657958",
         "paruchuri7781@gmail.com",
         "WRITE",
         {
          "mode": "Append",
          "partitionBy": "[]"
         },
         null,
         [
          "2138961590306633"
         ],
         "0610-135555-y0o4beyi",
         4,
         "WriteSerializable",
         true,
         {
          "numFiles": "1",
          "numOutputBytes": "3034",
          "numOutputRows": "10"
         },
         null,
         "Databricks-Runtime/12.2.x-scala2.12"
        ],
        [
         4,
         "2024-06-10T14:01:20.000+0000",
         "8432478468657958",
         "paruchuri7781@gmail.com",
         "TRUNCATE",
         {},
         null,
         [
          "2138961590306633"
         ],
         "0610-135555-y0o4beyi",
         3,
         "WriteSerializable",
         false,
         {
          "executionTimeMs": "2685",
          "numDeletedRows": "11",
          "numRemovedBytes": "10931",
          "numRemovedFiles": "4"
         },
         null,
         "Databricks-Runtime/12.2.x-scala2.12"
        ],
        [
         3,
         "2024-06-07T20:58:30.000+0000",
         "8432478468657958",
         "paruchuri7781@gmail.com",
         "MERGE",
         {
          "matchedPredicates": "[{\"predicate\":\"((NOT (Department#20155 = Department#14177) OR NOT (Title#20156 = Title#14178)) OR (NOT (cast(Salary#20157 as double) = Salary#14179) AND IsCurrent#20160))\",\"actionType\":\"update\"}]",
          "notMatchedBySourcePredicates": "[]",
          "notMatchedPredicates": "[{\"actionType\":\"insert\"}]",
          "predicate": "[\"(EmployeeID#20152 = EmployeeID#14174)\"]"
         },
         null,
         [
          "2138961590306633"
         ],
         "0607-140626-dbonvaq0",
         2,
         "WriteSerializable",
         false,
         {
          "executionTimeMs": "5645",
          "numOutputRows": "0",
          "numSourceRows": "3",
          "numTargetBytesAdded": "0",
          "numTargetBytesRemoved": "0",
          "numTargetChangeFilesAdded": "0",
          "numTargetDeletionVectorsAdded": "0",
          "numTargetDeletionVectorsRemoved": "0",
          "numTargetFilesAdded": "0",
          "numTargetFilesRemoved": "0",
          "numTargetRowsCopied": "0",
          "numTargetRowsDeleted": "0",
          "numTargetRowsInserted": "0",
          "numTargetRowsMatchedDeleted": "0",
          "numTargetRowsMatchedUpdated": "0",
          "numTargetRowsNotMatchedBySourceDeleted": "0",
          "numTargetRowsNotMatchedBySourceUpdated": "0",
          "numTargetRowsUpdated": "0",
          "rewriteTimeMs": "2173",
          "scanTimeMs": "2617"
         },
         null,
         "Databricks-Runtime/12.2.x-scala2.12"
        ],
        [
         2,
         "2024-06-07T20:49:24.000+0000",
         "8432478468657958",
         "paruchuri7781@gmail.com",
         "MERGE",
         {
          "matchedPredicates": "[{\"predicate\":\"((NOT (Department#17869 = Department#14177) OR NOT (Title#17870 = Title#14178)) OR (NOT (cast(Salary#17871 as double) = Salary#14179) AND IsCurrent#17874))\",\"actionType\":\"update\"}]",
          "notMatchedBySourcePredicates": "[]",
          "notMatchedPredicates": "[{\"actionType\":\"insert\"}]",
          "predicate": "[\"(EmployeeID#17866 = EmployeeID#14174)\"]"
         },
         null,
         [
          "2138961590306633"
         ],
         "0607-140626-dbonvaq0",
         1,
         "WriteSerializable",
         false,
         {
          "executionTimeMs": "6222",
          "numOutputRows": "11",
          "numSourceRows": "3",
          "numTargetBytesAdded": "10931",
          "numTargetBytesRemoved": "3034",
          "numTargetChangeFilesAdded": "0",
          "numTargetDeletionVectorsAdded": "0",
          "numTargetDeletionVectorsRemoved": "0",
          "numTargetFilesAdded": "4",
          "numTargetFilesRemoved": "1",
          "numTargetRowsCopied": "8",
          "numTargetRowsDeleted": "0",
          "numTargetRowsInserted": "1",
          "numTargetRowsMatchedDeleted": "0",
          "numTargetRowsMatchedUpdated": "2",
          "numTargetRowsNotMatchedBySourceDeleted": "0",
          "numTargetRowsNotMatchedBySourceUpdated": "0",
          "numTargetRowsUpdated": "2",
          "rewriteTimeMs": "3054",
          "scanTimeMs": "2358"
         },
         null,
         "Databricks-Runtime/12.2.x-scala2.12"
        ],
        [
         1,
         "2024-06-07T19:38:10.000+0000",
         "8432478468657958",
         "paruchuri7781@gmail.com",
         "WRITE",
         {
          "mode": "Append",
          "partitionBy": "[]"
         },
         null,
         [
          "2138961590306633"
         ],
         "0607-140626-dbonvaq0",
         0,
         "WriteSerializable",
         true,
         {
          "numFiles": "1",
          "numOutputBytes": "3034",
          "numOutputRows": "10"
         },
         null,
         "Databricks-Runtime/12.2.x-scala2.12"
        ],
        [
         0,
         "2024-06-07T19:37:16.000+0000",
         "8432478468657958",
         "paruchuri7781@gmail.com",
         "CREATE TABLE",
         {
          "description": null,
          "isManaged": "false",
          "partitionBy": "[]",
          "properties": "{}"
         },
         null,
         [
          "2138961590306633"
         ],
         "0607-140626-dbonvaq0",
         null,
         "WriteSerializable",
         true,
         {},
         null,
         "Databricks-Runtime/12.2.x-scala2.12"
        ]
       ],
       "datasetInfos": [],
       "dbfsResultPath": null,
       "isJsonSchema": true,
       "metadata": {},
       "overflow": false,
       "plotOptions": {
        "customPlotOptions": {},
        "displayType": "table",
        "pivotAggregation": null,
        "pivotColumns": null,
        "xColumns": null,
        "yColumns": null
       },
       "removedWidgets": [],
       "schema": [
        {
         "metadata": "{}",
         "name": "version",
         "type": "\"long\""
        },
        {
         "metadata": "{}",
         "name": "timestamp",
         "type": "\"timestamp\""
        },
        {
         "metadata": "{}",
         "name": "userId",
         "type": "\"string\""
        },
        {
         "metadata": "{}",
         "name": "userName",
         "type": "\"string\""
        },
        {
         "metadata": "{}",
         "name": "operation",
         "type": "\"string\""
        },
        {
         "metadata": "{}",
         "name": "operationParameters",
         "type": "{\"type\":\"map\",\"keyType\":\"string\",\"valueType\":\"string\",\"valueContainsNull\":true}"
        },
        {
         "metadata": "{}",
         "name": "job",
         "type": "{\"type\":\"struct\",\"fields\":[{\"name\":\"jobId\",\"type\":\"string\",\"nullable\":true,\"metadata\":{}},{\"name\":\"jobName\",\"type\":\"string\",\"nullable\":true,\"metadata\":{}},{\"name\":\"jobRunId\",\"type\":\"string\",\"nullable\":true,\"metadata\":{}},{\"name\":\"runId\",\"type\":\"string\",\"nullable\":true,\"metadata\":{}},{\"name\":\"jobOwnerId\",\"type\":\"string\",\"nullable\":true,\"metadata\":{}},{\"name\":\"triggerType\",\"type\":\"string\",\"nullable\":true,\"metadata\":{}}]}"
        },
        {
         "metadata": "{}",
         "name": "notebook",
         "type": "{\"type\":\"struct\",\"fields\":[{\"name\":\"notebookId\",\"type\":\"string\",\"nullable\":true,\"metadata\":{}}]}"
        },
        {
         "metadata": "{}",
         "name": "clusterId",
         "type": "\"string\""
        },
        {
         "metadata": "{}",
         "name": "readVersion",
         "type": "\"long\""
        },
        {
         "metadata": "{}",
         "name": "isolationLevel",
         "type": "\"string\""
        },
        {
         "metadata": "{}",
         "name": "isBlindAppend",
         "type": "\"boolean\""
        },
        {
         "metadata": "{}",
         "name": "operationMetrics",
         "type": "{\"type\":\"map\",\"keyType\":\"string\",\"valueType\":\"string\",\"valueContainsNull\":true}"
        },
        {
         "metadata": "{}",
         "name": "userMetadata",
         "type": "\"string\""
        },
        {
         "metadata": "{}",
         "name": "engineInfo",
         "type": "\"string\""
        }
       ],
       "type": "table"
      }
     },
     "output_type": "display_data"
    }
   ],
   "source": [
    "display(dt_instance.history())"
   ]
  },
  {
   "cell_type": "code",
   "execution_count": 0,
   "metadata": {
    "application/vnd.databricks.v1+cell": {
     "cellMetadata": {
      "byteLimit": 2048000,
      "rowLimit": 10000
     },
     "inputWidgets": {},
     "nuid": "1438a34c-3b2e-44f8-845c-9585d47ab268",
     "showTitle": false,
     "title": ""
    }
   },
   "outputs": [
    {
     "output_type": "display_data",
     "data": {
      "text/html": [
       "<style scoped>\n",
       "  .table-result-container {\n",
       "    max-height: 300px;\n",
       "    overflow: auto;\n",
       "  }\n",
       "  table, th, td {\n",
       "    border: 1px solid black;\n",
       "    border-collapse: collapse;\n",
       "  }\n",
       "  th, td {\n",
       "    padding: 5px;\n",
       "  }\n",
       "  th {\n",
       "    text-align: left;\n",
       "  }\n",
       "</style><div class='table-result-container'><table class='table-result'><thead style='background-color: white'><tr><th>EmployeeID</th><th>FirstName</th><th>LastName</th><th>Department</th><th>Title</th><th>Salary</th><th>EffectiveDate</th><th>EndDate</th><th>IsCurrent</th></tr></thead><tbody><tr><td>1003</td><td>Emily</td><td>Jones</td><td>HR</td><td>Analyst</td><td>65000.00</td><td>2023-01-01</td><td>null</td><td>true</td></tr><tr><td>1004</td><td>Michael</td><td>Brown</td><td>IT</td><td>Developer</td><td>72000.00</td><td>2023-01-01</td><td>null</td><td>true</td></tr><tr><td>1005</td><td>Rachel</td><td>Green</td><td>Finance</td><td>Accountant</td><td>58000.00</td><td>2023-01-01</td><td>null</td><td>true</td></tr><tr><td>1006</td><td>Ross</td><td>Geller</td><td>Science</td><td>Researcher</td><td>76000.00</td><td>2023-01-01</td><td>null</td><td>true</td></tr><tr><td>1007</td><td>Monica</td><td>Geller</td><td>Culinary</td><td>Chef</td><td>62000.00</td><td>2023-01-01</td><td>null</td><td>true</td></tr><tr><td>1008</td><td>Joey</td><td>Tribbiani</td><td>Acting</td><td>Actor</td><td>55000.00</td><td>2023-01-01</td><td>null</td><td>true</td></tr><tr><td>1009</td><td>Chandler</td><td>Bing</td><td>Advertising</td><td>Copywriter</td><td>64000.00</td><td>2023-01-01</td><td>null</td><td>true</td></tr><tr><td>1010</td><td>Phoebe</td><td>Buffay</td><td>Music</td><td>Singer</td><td>50000.00</td><td>2023-01-01</td><td>null</td><td>true</td></tr><tr><td>1001</td><td>John</td><td>Doe</td><td>Engineering</td><td>Senior Engineer</td><td>90000.00</td><td>2023-01-01</td><td>2024-06-10</td><td>false</td></tr><tr><td>1011</td><td>Alex</td><td>Taylor</td><td>Marketing</td><td>Marketing Analyst</td><td>58000.00</td><td>2024-06-10</td><td>null</td><td>true</td></tr><tr><td>1001</td><td>John</td><td>Doe</td><td>Engineering</td><td>Lead Engineer</td><td>95000.00</td><td>2024-06-10</td><td>null</td><td>true</td></tr><tr><td>1002</td><td>Jane</td><td>Smith</td><td>Marketing</td><td>Manager</td><td>75000.00</td><td>2023-01-01</td><td>2024-06-10</td><td>false</td></tr><tr><td>1002</td><td>Jane</td><td>Smith</td><td>Sales</td><td>Sales Manager</td><td>78000.00</td><td>2024-06-10</td><td>null</td><td>true</td></tr></tbody></table></div>"
      ]
     },
     "metadata": {
      "application/vnd.databricks.v1+output": {
       "addedWidgets": {},
       "aggData": [],
       "aggError": "",
       "aggOverflow": false,
       "aggSchema": [],
       "aggSeriesLimitReached": false,
       "aggType": "",
       "arguments": {},
       "columnCustomDisplayInfos": {},
       "data": [
        [
         1003,
         "Emily",
         "Jones",
         "HR",
         "Analyst",
         "65000.00",
         "2023-01-01",
         null,
         true
        ],
        [
         1004,
         "Michael",
         "Brown",
         "IT",
         "Developer",
         "72000.00",
         "2023-01-01",
         null,
         true
        ],
        [
         1005,
         "Rachel",
         "Green",
         "Finance",
         "Accountant",
         "58000.00",
         "2023-01-01",
         null,
         true
        ],
        [
         1006,
         "Ross",
         "Geller",
         "Science",
         "Researcher",
         "76000.00",
         "2023-01-01",
         null,
         true
        ],
        [
         1007,
         "Monica",
         "Geller",
         "Culinary",
         "Chef",
         "62000.00",
         "2023-01-01",
         null,
         true
        ],
        [
         1008,
         "Joey",
         "Tribbiani",
         "Acting",
         "Actor",
         "55000.00",
         "2023-01-01",
         null,
         true
        ],
        [
         1009,
         "Chandler",
         "Bing",
         "Advertising",
         "Copywriter",
         "64000.00",
         "2023-01-01",
         null,
         true
        ],
        [
         1010,
         "Phoebe",
         "Buffay",
         "Music",
         "Singer",
         "50000.00",
         "2023-01-01",
         null,
         true
        ],
        [
         1001,
         "John",
         "Doe",
         "Engineering",
         "Senior Engineer",
         "90000.00",
         "2023-01-01",
         "2024-06-10",
         false
        ],
        [
         1011,
         "Alex",
         "Taylor",
         "Marketing",
         "Marketing Analyst",
         "58000.00",
         "2024-06-10",
         null,
         true
        ],
        [
         1001,
         "John",
         "Doe",
         "Engineering",
         "Lead Engineer",
         "95000.00",
         "2024-06-10",
         null,
         true
        ],
        [
         1002,
         "Jane",
         "Smith",
         "Marketing",
         "Manager",
         "75000.00",
         "2023-01-01",
         "2024-06-10",
         false
        ],
        [
         1002,
         "Jane",
         "Smith",
         "Sales",
         "Sales Manager",
         "78000.00",
         "2024-06-10",
         null,
         true
        ]
       ],
       "datasetInfos": [],
       "dbfsResultPath": null,
       "isJsonSchema": true,
       "metadata": {},
       "overflow": false,
       "plotOptions": {
        "customPlotOptions": {},
        "displayType": "table",
        "pivotAggregation": null,
        "pivotColumns": null,
        "xColumns": null,
        "yColumns": null
       },
       "removedWidgets": [],
       "schema": [
        {
         "metadata": "{}",
         "name": "EmployeeID",
         "type": "\"integer\""
        },
        {
         "metadata": "{}",
         "name": "FirstName",
         "type": "\"string\""
        },
        {
         "metadata": "{}",
         "name": "LastName",
         "type": "\"string\""
        },
        {
         "metadata": "{}",
         "name": "Department",
         "type": "\"string\""
        },
        {
         "metadata": "{}",
         "name": "Title",
         "type": "\"string\""
        },
        {
         "metadata": "{}",
         "name": "Salary",
         "type": "\"decimal(10,2)\""
        },
        {
         "metadata": "{}",
         "name": "EffectiveDate",
         "type": "\"date\""
        },
        {
         "metadata": "{}",
         "name": "EndDate",
         "type": "\"date\""
        },
        {
         "metadata": "{}",
         "name": "IsCurrent",
         "type": "\"boolean\""
        }
       ],
       "type": "table"
      }
     },
     "output_type": "display_data"
    }
   ],
   "source": [
    "#data before restoreing to old version\n",
    "\n",
    "display(dt_instance.toDF())"
   ]
  },
  {
   "cell_type": "code",
   "execution_count": 0,
   "metadata": {
    "application/vnd.databricks.v1+cell": {
     "cellMetadata": {
      "byteLimit": 2048000,
      "rowLimit": 10000
     },
     "inputWidgets": {},
     "nuid": "90d22f9b-f80e-4422-8c09-18f9bbfa0281",
     "showTitle": false,
     "title": ""
    }
   },
   "outputs": [
    {
     "output_type": "stream",
     "name": "stdout",
     "output_type": "stream",
     "text": [
      "Out[26]: DataFrame[table_size_after_restore: bigint, num_of_files_after_restore: bigint, num_removed_files: bigint, num_restored_files: bigint, removed_files_size: bigint, restored_files_size: bigint]"
     ]
    }
   ],
   "source": [
    "dt_instance.restoreToVersion(6)"
   ]
  },
  {
   "cell_type": "code",
   "execution_count": 0,
   "metadata": {
    "application/vnd.databricks.v1+cell": {
     "cellMetadata": {
      "byteLimit": 2048000,
      "implicitDf": true,
      "rowLimit": 10000
     },
     "inputWidgets": {},
     "nuid": "215b3e84-94e7-42af-a54b-e918099ff7a7",
     "showTitle": false,
     "title": ""
    }
   },
   "outputs": [
    {
     "output_type": "display_data",
     "data": {
      "text/html": [
       "<style scoped>\n",
       "  .table-result-container {\n",
       "    max-height: 300px;\n",
       "    overflow: auto;\n",
       "  }\n",
       "  table, th, td {\n",
       "    border: 1px solid black;\n",
       "    border-collapse: collapse;\n",
       "  }\n",
       "  th, td {\n",
       "    padding: 5px;\n",
       "  }\n",
       "  th {\n",
       "    text-align: left;\n",
       "  }\n",
       "</style><div class='table-result-container'><table class='table-result'><thead style='background-color: white'><tr><th>EmployeeID</th><th>FirstName</th><th>LastName</th><th>Department</th><th>Title</th><th>Salary</th><th>EffectiveDate</th><th>EndDate</th><th>IsCurrent</th></tr></thead><tbody><tr><td>1003</td><td>Emily</td><td>Jones</td><td>HR</td><td>Analyst</td><td>65000.00</td><td>2023-01-01</td><td>null</td><td>true</td></tr><tr><td>1004</td><td>Michael</td><td>Brown</td><td>IT</td><td>Developer</td><td>72000.00</td><td>2023-01-01</td><td>null</td><td>true</td></tr><tr><td>1005</td><td>Rachel</td><td>Green</td><td>Finance</td><td>Accountant</td><td>58000.00</td><td>2023-01-01</td><td>null</td><td>true</td></tr><tr><td>1006</td><td>Ross</td><td>Geller</td><td>Science</td><td>Researcher</td><td>76000.00</td><td>2023-01-01</td><td>null</td><td>true</td></tr><tr><td>1007</td><td>Monica</td><td>Geller</td><td>Culinary</td><td>Chef</td><td>62000.00</td><td>2023-01-01</td><td>null</td><td>true</td></tr><tr><td>1008</td><td>Joey</td><td>Tribbiani</td><td>Acting</td><td>Actor</td><td>55000.00</td><td>2023-01-01</td><td>null</td><td>true</td></tr><tr><td>1009</td><td>Chandler</td><td>Bing</td><td>Advertising</td><td>Copywriter</td><td>64000.00</td><td>2023-01-01</td><td>null</td><td>true</td></tr><tr><td>1010</td><td>Phoebe</td><td>Buffay</td><td>Music</td><td>Singer</td><td>50000.00</td><td>2023-01-01</td><td>null</td><td>true</td></tr><tr><td>1001</td><td>John</td><td>Doe</td><td>Engineering</td><td>Senior Engineer</td><td>90000.00</td><td>2023-01-01</td><td>2024-06-10</td><td>false</td></tr><tr><td>1011</td><td>Alex</td><td>Taylor</td><td>Marketing</td><td>Marketing Analyst</td><td>58000.00</td><td>2024-06-10</td><td>null</td><td>true</td></tr><tr><td>1002</td><td>Jane</td><td>Smith</td><td>Marketing</td><td>Manager</td><td>75000.00</td><td>2023-01-01</td><td>2024-06-10</td><td>false</td></tr></tbody></table></div>"
      ]
     },
     "metadata": {
      "application/vnd.databricks.v1+output": {
       "addedWidgets": {},
       "aggData": [],
       "aggError": "",
       "aggOverflow": false,
       "aggSchema": [],
       "aggSeriesLimitReached": false,
       "aggType": "",
       "arguments": {},
       "columnCustomDisplayInfos": {},
       "data": [
        [
         1003,
         "Emily",
         "Jones",
         "HR",
         "Analyst",
         "65000.00",
         "2023-01-01",
         null,
         true
        ],
        [
         1004,
         "Michael",
         "Brown",
         "IT",
         "Developer",
         "72000.00",
         "2023-01-01",
         null,
         true
        ],
        [
         1005,
         "Rachel",
         "Green",
         "Finance",
         "Accountant",
         "58000.00",
         "2023-01-01",
         null,
         true
        ],
        [
         1006,
         "Ross",
         "Geller",
         "Science",
         "Researcher",
         "76000.00",
         "2023-01-01",
         null,
         true
        ],
        [
         1007,
         "Monica",
         "Geller",
         "Culinary",
         "Chef",
         "62000.00",
         "2023-01-01",
         null,
         true
        ],
        [
         1008,
         "Joey",
         "Tribbiani",
         "Acting",
         "Actor",
         "55000.00",
         "2023-01-01",
         null,
         true
        ],
        [
         1009,
         "Chandler",
         "Bing",
         "Advertising",
         "Copywriter",
         "64000.00",
         "2023-01-01",
         null,
         true
        ],
        [
         1010,
         "Phoebe",
         "Buffay",
         "Music",
         "Singer",
         "50000.00",
         "2023-01-01",
         null,
         true
        ],
        [
         1001,
         "John",
         "Doe",
         "Engineering",
         "Senior Engineer",
         "90000.00",
         "2023-01-01",
         "2024-06-10",
         false
        ],
        [
         1011,
         "Alex",
         "Taylor",
         "Marketing",
         "Marketing Analyst",
         "58000.00",
         "2024-06-10",
         null,
         true
        ],
        [
         1002,
         "Jane",
         "Smith",
         "Marketing",
         "Manager",
         "75000.00",
         "2023-01-01",
         "2024-06-10",
         false
        ]
       ],
       "datasetInfos": [],
       "dbfsResultPath": null,
       "isJsonSchema": true,
       "metadata": {},
       "overflow": false,
       "plotOptions": {
        "customPlotOptions": {},
        "displayType": "table",
        "pivotAggregation": null,
        "pivotColumns": null,
        "xColumns": null,
        "yColumns": null
       },
       "removedWidgets": [],
       "schema": [
        {
         "metadata": "{}",
         "name": "EmployeeID",
         "type": "\"integer\""
        },
        {
         "metadata": "{}",
         "name": "FirstName",
         "type": "\"string\""
        },
        {
         "metadata": "{}",
         "name": "LastName",
         "type": "\"string\""
        },
        {
         "metadata": "{}",
         "name": "Department",
         "type": "\"string\""
        },
        {
         "metadata": "{}",
         "name": "Title",
         "type": "\"string\""
        },
        {
         "metadata": "{}",
         "name": "Salary",
         "type": "\"decimal(10,2)\""
        },
        {
         "metadata": "{}",
         "name": "EffectiveDate",
         "type": "\"date\""
        },
        {
         "metadata": "{}",
         "name": "EndDate",
         "type": "\"date\""
        },
        {
         "metadata": "{}",
         "name": "IsCurrent",
         "type": "\"boolean\""
        }
       ],
       "type": "table"
      }
     },
     "output_type": "display_data"
    }
   ],
   "source": [
    "%sql \n",
    "/*data after using restore*/\n",
    "select * from employees;"
   ]
  },
  {
   "cell_type": "code",
   "execution_count": 0,
   "metadata": {
    "application/vnd.databricks.v1+cell": {
     "cellMetadata": {
      "byteLimit": 2048000,
      "rowLimit": 10000
     },
     "inputWidgets": {},
     "nuid": "772c2de2-02a9-4d7c-9caf-e6ca3ced9fce",
     "showTitle": false,
     "title": ""
    }
   },
   "outputs": [
    {
     "output_type": "display_data",
     "data": {
      "text/html": [
       "<style scoped>\n",
       "  .table-result-container {\n",
       "    max-height: 300px;\n",
       "    overflow: auto;\n",
       "  }\n",
       "  table, th, td {\n",
       "    border: 1px solid black;\n",
       "    border-collapse: collapse;\n",
       "  }\n",
       "  th, td {\n",
       "    padding: 5px;\n",
       "  }\n",
       "  th {\n",
       "    text-align: left;\n",
       "  }\n",
       "</style><div class='table-result-container'><table class='table-result'><thead style='background-color: white'><tr><th>EmployeeID</th><th>FirstName</th><th>LastName</th><th>Department</th><th>Title</th><th>Salary</th><th>EffectiveDate</th><th>EndDate</th><th>IsCurrent</th></tr></thead><tbody><tr><td>1003</td><td>Emily</td><td>Jones</td><td>HR</td><td>Analyst</td><td>65000.00</td><td>2023-01-01</td><td>null</td><td>true</td></tr><tr><td>1004</td><td>Michael</td><td>Brown</td><td>IT</td><td>Developer</td><td>72000.00</td><td>2023-01-01</td><td>null</td><td>true</td></tr><tr><td>1005</td><td>Rachel</td><td>Green</td><td>Finance</td><td>Accountant</td><td>58000.00</td><td>2023-01-01</td><td>null</td><td>true</td></tr><tr><td>1006</td><td>Ross</td><td>Geller</td><td>Science</td><td>Researcher</td><td>76000.00</td><td>2023-01-01</td><td>null</td><td>true</td></tr><tr><td>1007</td><td>Monica</td><td>Geller</td><td>Culinary</td><td>Chef</td><td>62000.00</td><td>2023-01-01</td><td>null</td><td>true</td></tr><tr><td>1008</td><td>Joey</td><td>Tribbiani</td><td>Acting</td><td>Actor</td><td>55000.00</td><td>2023-01-01</td><td>null</td><td>true</td></tr><tr><td>1009</td><td>Chandler</td><td>Bing</td><td>Advertising</td><td>Copywriter</td><td>64000.00</td><td>2023-01-01</td><td>null</td><td>true</td></tr><tr><td>1010</td><td>Phoebe</td><td>Buffay</td><td>Music</td><td>Singer</td><td>50000.00</td><td>2023-01-01</td><td>null</td><td>true</td></tr><tr><td>1001</td><td>John</td><td>Doe</td><td>Engineering</td><td>Senior Engineer</td><td>90000.00</td><td>2023-01-01</td><td>2024-06-10</td><td>false</td></tr><tr><td>1011</td><td>Alex</td><td>Taylor</td><td>Marketing</td><td>Marketing Analyst</td><td>58000.00</td><td>2024-06-10</td><td>null</td><td>true</td></tr><tr><td>1002</td><td>Jane</td><td>Smith</td><td>Marketing</td><td>Manager</td><td>75000.00</td><td>2023-01-01</td><td>2024-06-10</td><td>false</td></tr></tbody></table></div>"
      ]
     },
     "metadata": {
      "application/vnd.databricks.v1+output": {
       "addedWidgets": {},
       "aggData": [],
       "aggError": "",
       "aggOverflow": false,
       "aggSchema": [],
       "aggSeriesLimitReached": false,
       "aggType": "",
       "arguments": {},
       "columnCustomDisplayInfos": {},
       "data": [
        [
         1003,
         "Emily",
         "Jones",
         "HR",
         "Analyst",
         "65000.00",
         "2023-01-01",
         null,
         true
        ],
        [
         1004,
         "Michael",
         "Brown",
         "IT",
         "Developer",
         "72000.00",
         "2023-01-01",
         null,
         true
        ],
        [
         1005,
         "Rachel",
         "Green",
         "Finance",
         "Accountant",
         "58000.00",
         "2023-01-01",
         null,
         true
        ],
        [
         1006,
         "Ross",
         "Geller",
         "Science",
         "Researcher",
         "76000.00",
         "2023-01-01",
         null,
         true
        ],
        [
         1007,
         "Monica",
         "Geller",
         "Culinary",
         "Chef",
         "62000.00",
         "2023-01-01",
         null,
         true
        ],
        [
         1008,
         "Joey",
         "Tribbiani",
         "Acting",
         "Actor",
         "55000.00",
         "2023-01-01",
         null,
         true
        ],
        [
         1009,
         "Chandler",
         "Bing",
         "Advertising",
         "Copywriter",
         "64000.00",
         "2023-01-01",
         null,
         true
        ],
        [
         1010,
         "Phoebe",
         "Buffay",
         "Music",
         "Singer",
         "50000.00",
         "2023-01-01",
         null,
         true
        ],
        [
         1001,
         "John",
         "Doe",
         "Engineering",
         "Senior Engineer",
         "90000.00",
         "2023-01-01",
         "2024-06-10",
         false
        ],
        [
         1011,
         "Alex",
         "Taylor",
         "Marketing",
         "Marketing Analyst",
         "58000.00",
         "2024-06-10",
         null,
         true
        ],
        [
         1002,
         "Jane",
         "Smith",
         "Marketing",
         "Manager",
         "75000.00",
         "2023-01-01",
         "2024-06-10",
         false
        ]
       ],
       "datasetInfos": [],
       "dbfsResultPath": null,
       "isJsonSchema": true,
       "metadata": {},
       "overflow": false,
       "plotOptions": {
        "customPlotOptions": {},
        "displayType": "table",
        "pivotAggregation": null,
        "pivotColumns": null,
        "xColumns": null,
        "yColumns": null
       },
       "removedWidgets": [],
       "schema": [
        {
         "metadata": "{}",
         "name": "EmployeeID",
         "type": "\"integer\""
        },
        {
         "metadata": "{}",
         "name": "FirstName",
         "type": "\"string\""
        },
        {
         "metadata": "{}",
         "name": "LastName",
         "type": "\"string\""
        },
        {
         "metadata": "{}",
         "name": "Department",
         "type": "\"string\""
        },
        {
         "metadata": "{}",
         "name": "Title",
         "type": "\"string\""
        },
        {
         "metadata": "{}",
         "name": "Salary",
         "type": "\"decimal(10,2)\""
        },
        {
         "metadata": "{}",
         "name": "EffectiveDate",
         "type": "\"date\""
        },
        {
         "metadata": "{}",
         "name": "EndDate",
         "type": "\"date\""
        },
        {
         "metadata": "{}",
         "name": "IsCurrent",
         "type": "\"boolean\""
        }
       ],
       "type": "table"
      }
     },
     "output_type": "display_data"
    }
   ],
   "source": [
    "#we can see data has completely changed to version 6\n",
    "display(dt_instance.toDF())"
   ]
  },
  {
   "cell_type": "code",
   "execution_count": 0,
   "metadata": {
    "application/vnd.databricks.v1+cell": {
     "cellMetadata": {
      "byteLimit": 2048000,
      "rowLimit": 10000
     },
     "inputWidgets": {},
     "nuid": "db526578-d0e9-4c0a-88b4-fbdf034fc3a0",
     "showTitle": false,
     "title": ""
    }
   },
   "outputs": [
    {
     "output_type": "display_data",
     "data": {
      "text/html": [
       "<style scoped>\n",
       "  .table-result-container {\n",
       "    max-height: 300px;\n",
       "    overflow: auto;\n",
       "  }\n",
       "  table, th, td {\n",
       "    border: 1px solid black;\n",
       "    border-collapse: collapse;\n",
       "  }\n",
       "  th, td {\n",
       "    padding: 5px;\n",
       "  }\n",
       "  th {\n",
       "    text-align: left;\n",
       "  }\n",
       "</style><div class='table-result-container'><table class='table-result'><thead style='background-color: white'><tr><th>version</th><th>timestamp</th><th>userId</th><th>userName</th><th>operation</th><th>operationParameters</th><th>job</th><th>notebook</th><th>clusterId</th><th>readVersion</th><th>isolationLevel</th><th>isBlindAppend</th><th>operationMetrics</th><th>userMetadata</th><th>engineInfo</th></tr></thead><tbody><tr><td>11</td><td>2024-06-10T16:14:07.000+0000</td><td>8432478468657958</td><td>paruchuri7781@gmail.com</td><td>RESTORE</td><td>Map(version -> 6, timestamp -> null)</td><td>null</td><td>List(3128984471938779)</td><td>0610-135555-y0o4beyi</td><td>10</td><td>Serializable</td><td>false</td><td>Map(numRestoredFiles -> 4, removedFilesSize -> 16172, numRemovedFiles -> 6, restoredFilesSize -> 10930, numOfFilesAfterRestore -> 4, tableSizeAfterRestore -> 10930)</td><td>null</td><td>Databricks-Runtime/12.2.x-scala2.12</td></tr><tr><td>10</td><td>2024-06-10T14:50:20.000+0000</td><td>8432478468657958</td><td>paruchuri7781@gmail.com</td><td>WRITE</td><td>Map(mode -> Append, partitionBy -> [])</td><td>null</td><td>List(2138961590306633)</td><td>0610-135555-y0o4beyi</td><td>9</td><td>WriteSerializable</td><td>true</td><td>Map(numFiles -> 2, numOutputRows -> 2, numOutputBytes -> 5242)</td><td>null</td><td>Databricks-Runtime/12.2.x-scala2.12</td></tr><tr><td>9</td><td>2024-06-10T14:09:34.000+0000</td><td>8432478468657958</td><td>paruchuri7781@gmail.com</td><td>MERGE</td><td>Map(predicate -> [\"(EmployeeID#5059 = EmployeeID#4802)\"], matchedPredicates -> [{\"predicate\":\"((NOT (Department#5062 = Department#4805) OR NOT (Title#5063 = Title#4806)) OR (NOT (cast(Salary#5064 as double) = Salary#4807) AND IsCurrent#5067))\",\"actionType\":\"update\"}], notMatchedPredicates -> [{\"actionType\":\"insert\"}], notMatchedBySourcePredicates -> [])</td><td>null</td><td>List(2138961590306633)</td><td>0610-135555-y0o4beyi</td><td>8</td><td>WriteSerializable</td><td>false</td><td>Map(numTargetRowsCopied -> 8, numTargetRowsDeleted -> 0, numTargetFilesAdded -> 4, numTargetBytesAdded -> 10930, numTargetBytesRemoved -> 3034, numTargetDeletionVectorsAdded -> 0, numTargetRowsMatchedUpdated -> 2, executionTimeMs -> 8956, numTargetRowsInserted -> 1, numTargetRowsMatchedDeleted -> 0, scanTimeMs -> 3077, numTargetRowsUpdated -> 2, numOutputRows -> 11, numTargetDeletionVectorsRemoved -> 0, numTargetRowsNotMatchedBySourceUpdated -> 0, numTargetChangeFilesAdded -> 0, numSourceRows -> 3, numTargetFilesRemoved -> 1, numTargetRowsNotMatchedBySourceDeleted -> 0, rewriteTimeMs -> 4620)</td><td>null</td><td>Databricks-Runtime/12.2.x-scala2.12</td></tr><tr><td>8</td><td>2024-06-10T14:09:07.000+0000</td><td>8432478468657958</td><td>paruchuri7781@gmail.com</td><td>WRITE</td><td>Map(mode -> Append, partitionBy -> [])</td><td>null</td><td>List(2138961590306633)</td><td>0610-135555-y0o4beyi</td><td>7</td><td>WriteSerializable</td><td>true</td><td>Map(numFiles -> 1, numOutputRows -> 10, numOutputBytes -> 3034)</td><td>null</td><td>Databricks-Runtime/12.2.x-scala2.12</td></tr><tr><td>7</td><td>2024-06-10T14:08:58.000+0000</td><td>8432478468657958</td><td>paruchuri7781@gmail.com</td><td>CREATE OR REPLACE TABLE</td><td>Map(isManaged -> false, description -> null, partitionBy -> [], properties -> {})</td><td>null</td><td>List(2138961590306633)</td><td>0610-135555-y0o4beyi</td><td>6</td><td>WriteSerializable</td><td>false</td><td>Map()</td><td>null</td><td>Databricks-Runtime/12.2.x-scala2.12</td></tr><tr><td>6</td><td>2024-06-10T14:08:28.000+0000</td><td>8432478468657958</td><td>paruchuri7781@gmail.com</td><td>MERGE</td><td>Map(predicate -> [\"(EmployeeID#1922 = EmployeeID#1665)\"], matchedPredicates -> [{\"predicate\":\"((NOT (Department#1925 = Department#1668) OR NOT (Title#1926 = Title#1669)) OR (NOT (cast(Salary#1927 as double) = Salary#1670) AND IsCurrent#1930))\",\"actionType\":\"update\"}], notMatchedPredicates -> [{\"actionType\":\"insert\"}], notMatchedBySourcePredicates -> [])</td><td>null</td><td>List(2138961590306633)</td><td>0610-135555-y0o4beyi</td><td>5</td><td>WriteSerializable</td><td>false</td><td>Map(numTargetRowsCopied -> 8, numTargetRowsDeleted -> 0, numTargetFilesAdded -> 4, numTargetBytesAdded -> 10930, numTargetBytesRemoved -> 3034, numTargetDeletionVectorsAdded -> 0, numTargetRowsMatchedUpdated -> 2, executionTimeMs -> 13312, numTargetRowsInserted -> 1, numTargetRowsMatchedDeleted -> 0, scanTimeMs -> 5556, numTargetRowsUpdated -> 2, numOutputRows -> 11, numTargetDeletionVectorsRemoved -> 0, numTargetRowsNotMatchedBySourceUpdated -> 0, numTargetChangeFilesAdded -> 0, numSourceRows -> 3, numTargetFilesRemoved -> 1, numTargetRowsNotMatchedBySourceDeleted -> 0, rewriteTimeMs -> 5681)</td><td>null</td><td>Databricks-Runtime/12.2.x-scala2.12</td></tr><tr><td>5</td><td>2024-06-10T14:01:36.000+0000</td><td>8432478468657958</td><td>paruchuri7781@gmail.com</td><td>WRITE</td><td>Map(mode -> Append, partitionBy -> [])</td><td>null</td><td>List(2138961590306633)</td><td>0610-135555-y0o4beyi</td><td>4</td><td>WriteSerializable</td><td>true</td><td>Map(numFiles -> 1, numOutputRows -> 10, numOutputBytes -> 3034)</td><td>null</td><td>Databricks-Runtime/12.2.x-scala2.12</td></tr><tr><td>4</td><td>2024-06-10T14:01:20.000+0000</td><td>8432478468657958</td><td>paruchuri7781@gmail.com</td><td>TRUNCATE</td><td>Map()</td><td>null</td><td>List(2138961590306633)</td><td>0610-135555-y0o4beyi</td><td>3</td><td>WriteSerializable</td><td>false</td><td>Map(numRemovedFiles -> 4, numDeletedRows -> 11, executionTimeMs -> 2685, numRemovedBytes -> 10931)</td><td>null</td><td>Databricks-Runtime/12.2.x-scala2.12</td></tr><tr><td>3</td><td>2024-06-07T20:58:30.000+0000</td><td>8432478468657958</td><td>paruchuri7781@gmail.com</td><td>MERGE</td><td>Map(predicate -> [\"(EmployeeID#20152 = EmployeeID#14174)\"], matchedPredicates -> [{\"predicate\":\"((NOT (Department#20155 = Department#14177) OR NOT (Title#20156 = Title#14178)) OR (NOT (cast(Salary#20157 as double) = Salary#14179) AND IsCurrent#20160))\",\"actionType\":\"update\"}], notMatchedPredicates -> [{\"actionType\":\"insert\"}], notMatchedBySourcePredicates -> [])</td><td>null</td><td>List(2138961590306633)</td><td>0607-140626-dbonvaq0</td><td>2</td><td>WriteSerializable</td><td>false</td><td>Map(numTargetRowsCopied -> 0, numTargetRowsDeleted -> 0, numTargetFilesAdded -> 0, numTargetBytesAdded -> 0, numTargetBytesRemoved -> 0, numTargetDeletionVectorsAdded -> 0, numTargetRowsMatchedUpdated -> 0, executionTimeMs -> 5645, numTargetRowsInserted -> 0, numTargetRowsMatchedDeleted -> 0, scanTimeMs -> 2617, numTargetRowsUpdated -> 0, numOutputRows -> 0, numTargetDeletionVectorsRemoved -> 0, numTargetRowsNotMatchedBySourceUpdated -> 0, numTargetChangeFilesAdded -> 0, numSourceRows -> 3, numTargetFilesRemoved -> 0, numTargetRowsNotMatchedBySourceDeleted -> 0, rewriteTimeMs -> 2173)</td><td>null</td><td>Databricks-Runtime/12.2.x-scala2.12</td></tr><tr><td>2</td><td>2024-06-07T20:49:24.000+0000</td><td>8432478468657958</td><td>paruchuri7781@gmail.com</td><td>MERGE</td><td>Map(predicate -> [\"(EmployeeID#17866 = EmployeeID#14174)\"], matchedPredicates -> [{\"predicate\":\"((NOT (Department#17869 = Department#14177) OR NOT (Title#17870 = Title#14178)) OR (NOT (cast(Salary#17871 as double) = Salary#14179) AND IsCurrent#17874))\",\"actionType\":\"update\"}], notMatchedPredicates -> [{\"actionType\":\"insert\"}], notMatchedBySourcePredicates -> [])</td><td>null</td><td>List(2138961590306633)</td><td>0607-140626-dbonvaq0</td><td>1</td><td>WriteSerializable</td><td>false</td><td>Map(numTargetRowsCopied -> 8, numTargetRowsDeleted -> 0, numTargetFilesAdded -> 4, numTargetBytesAdded -> 10931, numTargetBytesRemoved -> 3034, numTargetDeletionVectorsAdded -> 0, numTargetRowsMatchedUpdated -> 2, executionTimeMs -> 6222, numTargetRowsInserted -> 1, numTargetRowsMatchedDeleted -> 0, scanTimeMs -> 2358, numTargetRowsUpdated -> 2, numOutputRows -> 11, numTargetDeletionVectorsRemoved -> 0, numTargetRowsNotMatchedBySourceUpdated -> 0, numTargetChangeFilesAdded -> 0, numSourceRows -> 3, numTargetFilesRemoved -> 1, numTargetRowsNotMatchedBySourceDeleted -> 0, rewriteTimeMs -> 3054)</td><td>null</td><td>Databricks-Runtime/12.2.x-scala2.12</td></tr><tr><td>1</td><td>2024-06-07T19:38:10.000+0000</td><td>8432478468657958</td><td>paruchuri7781@gmail.com</td><td>WRITE</td><td>Map(mode -> Append, partitionBy -> [])</td><td>null</td><td>List(2138961590306633)</td><td>0607-140626-dbonvaq0</td><td>0</td><td>WriteSerializable</td><td>true</td><td>Map(numFiles -> 1, numOutputRows -> 10, numOutputBytes -> 3034)</td><td>null</td><td>Databricks-Runtime/12.2.x-scala2.12</td></tr><tr><td>0</td><td>2024-06-07T19:37:16.000+0000</td><td>8432478468657958</td><td>paruchuri7781@gmail.com</td><td>CREATE TABLE</td><td>Map(isManaged -> false, description -> null, partitionBy -> [], properties -> {})</td><td>null</td><td>List(2138961590306633)</td><td>0607-140626-dbonvaq0</td><td>null</td><td>WriteSerializable</td><td>true</td><td>Map()</td><td>null</td><td>Databricks-Runtime/12.2.x-scala2.12</td></tr></tbody></table></div>"
      ]
     },
     "metadata": {
      "application/vnd.databricks.v1+output": {
       "addedWidgets": {},
       "aggData": [],
       "aggError": "",
       "aggOverflow": false,
       "aggSchema": [],
       "aggSeriesLimitReached": false,
       "aggType": "",
       "arguments": {},
       "columnCustomDisplayInfos": {},
       "data": [
        [
         11,
         "2024-06-10T16:14:07.000+0000",
         "8432478468657958",
         "paruchuri7781@gmail.com",
         "RESTORE",
         {
          "timestamp": null,
          "version": "6"
         },
         null,
         [
          "3128984471938779"
         ],
         "0610-135555-y0o4beyi",
         10,
         "Serializable",
         false,
         {
          "numOfFilesAfterRestore": "4",
          "numRemovedFiles": "6",
          "numRestoredFiles": "4",
          "removedFilesSize": "16172",
          "restoredFilesSize": "10930",
          "tableSizeAfterRestore": "10930"
         },
         null,
         "Databricks-Runtime/12.2.x-scala2.12"
        ],
        [
         10,
         "2024-06-10T14:50:20.000+0000",
         "8432478468657958",
         "paruchuri7781@gmail.com",
         "WRITE",
         {
          "mode": "Append",
          "partitionBy": "[]"
         },
         null,
         [
          "2138961590306633"
         ],
         "0610-135555-y0o4beyi",
         9,
         "WriteSerializable",
         true,
         {
          "numFiles": "2",
          "numOutputBytes": "5242",
          "numOutputRows": "2"
         },
         null,
         "Databricks-Runtime/12.2.x-scala2.12"
        ],
        [
         9,
         "2024-06-10T14:09:34.000+0000",
         "8432478468657958",
         "paruchuri7781@gmail.com",
         "MERGE",
         {
          "matchedPredicates": "[{\"predicate\":\"((NOT (Department#5062 = Department#4805) OR NOT (Title#5063 = Title#4806)) OR (NOT (cast(Salary#5064 as double) = Salary#4807) AND IsCurrent#5067))\",\"actionType\":\"update\"}]",
          "notMatchedBySourcePredicates": "[]",
          "notMatchedPredicates": "[{\"actionType\":\"insert\"}]",
          "predicate": "[\"(EmployeeID#5059 = EmployeeID#4802)\"]"
         },
         null,
         [
          "2138961590306633"
         ],
         "0610-135555-y0o4beyi",
         8,
         "WriteSerializable",
         false,
         {
          "executionTimeMs": "8956",
          "numOutputRows": "11",
          "numSourceRows": "3",
          "numTargetBytesAdded": "10930",
          "numTargetBytesRemoved": "3034",
          "numTargetChangeFilesAdded": "0",
          "numTargetDeletionVectorsAdded": "0",
          "numTargetDeletionVectorsRemoved": "0",
          "numTargetFilesAdded": "4",
          "numTargetFilesRemoved": "1",
          "numTargetRowsCopied": "8",
          "numTargetRowsDeleted": "0",
          "numTargetRowsInserted": "1",
          "numTargetRowsMatchedDeleted": "0",
          "numTargetRowsMatchedUpdated": "2",
          "numTargetRowsNotMatchedBySourceDeleted": "0",
          "numTargetRowsNotMatchedBySourceUpdated": "0",
          "numTargetRowsUpdated": "2",
          "rewriteTimeMs": "4620",
          "scanTimeMs": "3077"
         },
         null,
         "Databricks-Runtime/12.2.x-scala2.12"
        ],
        [
         8,
         "2024-06-10T14:09:07.000+0000",
         "8432478468657958",
         "paruchuri7781@gmail.com",
         "WRITE",
         {
          "mode": "Append",
          "partitionBy": "[]"
         },
         null,
         [
          "2138961590306633"
         ],
         "0610-135555-y0o4beyi",
         7,
         "WriteSerializable",
         true,
         {
          "numFiles": "1",
          "numOutputBytes": "3034",
          "numOutputRows": "10"
         },
         null,
         "Databricks-Runtime/12.2.x-scala2.12"
        ],
        [
         7,
         "2024-06-10T14:08:58.000+0000",
         "8432478468657958",
         "paruchuri7781@gmail.com",
         "CREATE OR REPLACE TABLE",
         {
          "description": null,
          "isManaged": "false",
          "partitionBy": "[]",
          "properties": "{}"
         },
         null,
         [
          "2138961590306633"
         ],
         "0610-135555-y0o4beyi",
         6,
         "WriteSerializable",
         false,
         {},
         null,
         "Databricks-Runtime/12.2.x-scala2.12"
        ],
        [
         6,
         "2024-06-10T14:08:28.000+0000",
         "8432478468657958",
         "paruchuri7781@gmail.com",
         "MERGE",
         {
          "matchedPredicates": "[{\"predicate\":\"((NOT (Department#1925 = Department#1668) OR NOT (Title#1926 = Title#1669)) OR (NOT (cast(Salary#1927 as double) = Salary#1670) AND IsCurrent#1930))\",\"actionType\":\"update\"}]",
          "notMatchedBySourcePredicates": "[]",
          "notMatchedPredicates": "[{\"actionType\":\"insert\"}]",
          "predicate": "[\"(EmployeeID#1922 = EmployeeID#1665)\"]"
         },
         null,
         [
          "2138961590306633"
         ],
         "0610-135555-y0o4beyi",
         5,
         "WriteSerializable",
         false,
         {
          "executionTimeMs": "13312",
          "numOutputRows": "11",
          "numSourceRows": "3",
          "numTargetBytesAdded": "10930",
          "numTargetBytesRemoved": "3034",
          "numTargetChangeFilesAdded": "0",
          "numTargetDeletionVectorsAdded": "0",
          "numTargetDeletionVectorsRemoved": "0",
          "numTargetFilesAdded": "4",
          "numTargetFilesRemoved": "1",
          "numTargetRowsCopied": "8",
          "numTargetRowsDeleted": "0",
          "numTargetRowsInserted": "1",
          "numTargetRowsMatchedDeleted": "0",
          "numTargetRowsMatchedUpdated": "2",
          "numTargetRowsNotMatchedBySourceDeleted": "0",
          "numTargetRowsNotMatchedBySourceUpdated": "0",
          "numTargetRowsUpdated": "2",
          "rewriteTimeMs": "5681",
          "scanTimeMs": "5556"
         },
         null,
         "Databricks-Runtime/12.2.x-scala2.12"
        ],
        [
         5,
         "2024-06-10T14:01:36.000+0000",
         "8432478468657958",
         "paruchuri7781@gmail.com",
         "WRITE",
         {
          "mode": "Append",
          "partitionBy": "[]"
         },
         null,
         [
          "2138961590306633"
         ],
         "0610-135555-y0o4beyi",
         4,
         "WriteSerializable",
         true,
         {
          "numFiles": "1",
          "numOutputBytes": "3034",
          "numOutputRows": "10"
         },
         null,
         "Databricks-Runtime/12.2.x-scala2.12"
        ],
        [
         4,
         "2024-06-10T14:01:20.000+0000",
         "8432478468657958",
         "paruchuri7781@gmail.com",
         "TRUNCATE",
         {},
         null,
         [
          "2138961590306633"
         ],
         "0610-135555-y0o4beyi",
         3,
         "WriteSerializable",
         false,
         {
          "executionTimeMs": "2685",
          "numDeletedRows": "11",
          "numRemovedBytes": "10931",
          "numRemovedFiles": "4"
         },
         null,
         "Databricks-Runtime/12.2.x-scala2.12"
        ],
        [
         3,
         "2024-06-07T20:58:30.000+0000",
         "8432478468657958",
         "paruchuri7781@gmail.com",
         "MERGE",
         {
          "matchedPredicates": "[{\"predicate\":\"((NOT (Department#20155 = Department#14177) OR NOT (Title#20156 = Title#14178)) OR (NOT (cast(Salary#20157 as double) = Salary#14179) AND IsCurrent#20160))\",\"actionType\":\"update\"}]",
          "notMatchedBySourcePredicates": "[]",
          "notMatchedPredicates": "[{\"actionType\":\"insert\"}]",
          "predicate": "[\"(EmployeeID#20152 = EmployeeID#14174)\"]"
         },
         null,
         [
          "2138961590306633"
         ],
         "0607-140626-dbonvaq0",
         2,
         "WriteSerializable",
         false,
         {
          "executionTimeMs": "5645",
          "numOutputRows": "0",
          "numSourceRows": "3",
          "numTargetBytesAdded": "0",
          "numTargetBytesRemoved": "0",
          "numTargetChangeFilesAdded": "0",
          "numTargetDeletionVectorsAdded": "0",
          "numTargetDeletionVectorsRemoved": "0",
          "numTargetFilesAdded": "0",
          "numTargetFilesRemoved": "0",
          "numTargetRowsCopied": "0",
          "numTargetRowsDeleted": "0",
          "numTargetRowsInserted": "0",
          "numTargetRowsMatchedDeleted": "0",
          "numTargetRowsMatchedUpdated": "0",
          "numTargetRowsNotMatchedBySourceDeleted": "0",
          "numTargetRowsNotMatchedBySourceUpdated": "0",
          "numTargetRowsUpdated": "0",
          "rewriteTimeMs": "2173",
          "scanTimeMs": "2617"
         },
         null,
         "Databricks-Runtime/12.2.x-scala2.12"
        ],
        [
         2,
         "2024-06-07T20:49:24.000+0000",
         "8432478468657958",
         "paruchuri7781@gmail.com",
         "MERGE",
         {
          "matchedPredicates": "[{\"predicate\":\"((NOT (Department#17869 = Department#14177) OR NOT (Title#17870 = Title#14178)) OR (NOT (cast(Salary#17871 as double) = Salary#14179) AND IsCurrent#17874))\",\"actionType\":\"update\"}]",
          "notMatchedBySourcePredicates": "[]",
          "notMatchedPredicates": "[{\"actionType\":\"insert\"}]",
          "predicate": "[\"(EmployeeID#17866 = EmployeeID#14174)\"]"
         },
         null,
         [
          "2138961590306633"
         ],
         "0607-140626-dbonvaq0",
         1,
         "WriteSerializable",
         false,
         {
          "executionTimeMs": "6222",
          "numOutputRows": "11",
          "numSourceRows": "3",
          "numTargetBytesAdded": "10931",
          "numTargetBytesRemoved": "3034",
          "numTargetChangeFilesAdded": "0",
          "numTargetDeletionVectorsAdded": "0",
          "numTargetDeletionVectorsRemoved": "0",
          "numTargetFilesAdded": "4",
          "numTargetFilesRemoved": "1",
          "numTargetRowsCopied": "8",
          "numTargetRowsDeleted": "0",
          "numTargetRowsInserted": "1",
          "numTargetRowsMatchedDeleted": "0",
          "numTargetRowsMatchedUpdated": "2",
          "numTargetRowsNotMatchedBySourceDeleted": "0",
          "numTargetRowsNotMatchedBySourceUpdated": "0",
          "numTargetRowsUpdated": "2",
          "rewriteTimeMs": "3054",
          "scanTimeMs": "2358"
         },
         null,
         "Databricks-Runtime/12.2.x-scala2.12"
        ],
        [
         1,
         "2024-06-07T19:38:10.000+0000",
         "8432478468657958",
         "paruchuri7781@gmail.com",
         "WRITE",
         {
          "mode": "Append",
          "partitionBy": "[]"
         },
         null,
         [
          "2138961590306633"
         ],
         "0607-140626-dbonvaq0",
         0,
         "WriteSerializable",
         true,
         {
          "numFiles": "1",
          "numOutputBytes": "3034",
          "numOutputRows": "10"
         },
         null,
         "Databricks-Runtime/12.2.x-scala2.12"
        ],
        [
         0,
         "2024-06-07T19:37:16.000+0000",
         "8432478468657958",
         "paruchuri7781@gmail.com",
         "CREATE TABLE",
         {
          "description": null,
          "isManaged": "false",
          "partitionBy": "[]",
          "properties": "{}"
         },
         null,
         [
          "2138961590306633"
         ],
         "0607-140626-dbonvaq0",
         null,
         "WriteSerializable",
         true,
         {},
         null,
         "Databricks-Runtime/12.2.x-scala2.12"
        ]
       ],
       "datasetInfos": [],
       "dbfsResultPath": null,
       "isJsonSchema": true,
       "metadata": {},
       "overflow": false,
       "plotOptions": {
        "customPlotOptions": {},
        "displayType": "table",
        "pivotAggregation": null,
        "pivotColumns": null,
        "xColumns": null,
        "yColumns": null
       },
       "removedWidgets": [],
       "schema": [
        {
         "metadata": "{}",
         "name": "version",
         "type": "\"long\""
        },
        {
         "metadata": "{}",
         "name": "timestamp",
         "type": "\"timestamp\""
        },
        {
         "metadata": "{}",
         "name": "userId",
         "type": "\"string\""
        },
        {
         "metadata": "{}",
         "name": "userName",
         "type": "\"string\""
        },
        {
         "metadata": "{}",
         "name": "operation",
         "type": "\"string\""
        },
        {
         "metadata": "{}",
         "name": "operationParameters",
         "type": "{\"type\":\"map\",\"keyType\":\"string\",\"valueType\":\"string\",\"valueContainsNull\":true}"
        },
        {
         "metadata": "{}",
         "name": "job",
         "type": "{\"type\":\"struct\",\"fields\":[{\"name\":\"jobId\",\"type\":\"string\",\"nullable\":true,\"metadata\":{}},{\"name\":\"jobName\",\"type\":\"string\",\"nullable\":true,\"metadata\":{}},{\"name\":\"jobRunId\",\"type\":\"string\",\"nullable\":true,\"metadata\":{}},{\"name\":\"runId\",\"type\":\"string\",\"nullable\":true,\"metadata\":{}},{\"name\":\"jobOwnerId\",\"type\":\"string\",\"nullable\":true,\"metadata\":{}},{\"name\":\"triggerType\",\"type\":\"string\",\"nullable\":true,\"metadata\":{}}]}"
        },
        {
         "metadata": "{}",
         "name": "notebook",
         "type": "{\"type\":\"struct\",\"fields\":[{\"name\":\"notebookId\",\"type\":\"string\",\"nullable\":true,\"metadata\":{}}]}"
        },
        {
         "metadata": "{}",
         "name": "clusterId",
         "type": "\"string\""
        },
        {
         "metadata": "{}",
         "name": "readVersion",
         "type": "\"long\""
        },
        {
         "metadata": "{}",
         "name": "isolationLevel",
         "type": "\"string\""
        },
        {
         "metadata": "{}",
         "name": "isBlindAppend",
         "type": "\"boolean\""
        },
        {
         "metadata": "{}",
         "name": "operationMetrics",
         "type": "{\"type\":\"map\",\"keyType\":\"string\",\"valueType\":\"string\",\"valueContainsNull\":true}"
        },
        {
         "metadata": "{}",
         "name": "userMetadata",
         "type": "\"string\""
        },
        {
         "metadata": "{}",
         "name": "engineInfo",
         "type": "\"string\""
        }
       ],
       "type": "table"
      }
     },
     "output_type": "display_data"
    }
   ],
   "source": [
    "\n",
    "#we can see that a new version created on which we used restore operation\n",
    "display(dt_instance.history())"
   ]
  },
  {
   "cell_type": "markdown",
   "metadata": {
    "application/vnd.databricks.v1+cell": {
     "cellMetadata": {},
     "inputWidgets": {},
     "nuid": "57009808-28aa-4c7e-891e-a3674bddadfe",
     "showTitle": false,
     "title": ""
    }
   },
   "source": [
    "using timestamp"
   ]
  },
  {
   "cell_type": "code",
   "execution_count": 0,
   "metadata": {
    "application/vnd.databricks.v1+cell": {
     "cellMetadata": {
      "byteLimit": 2048000,
      "rowLimit": 10000
     },
     "inputWidgets": {},
     "nuid": "29772ec5-8101-4856-b710-357ac5686d42",
     "showTitle": false,
     "title": ""
    }
   },
   "outputs": [
    {
     "output_type": "stream",
     "name": "stdout",
     "output_type": "stream",
     "text": [
      "Out[30]: DataFrame[table_size_after_restore: bigint, num_of_files_after_restore: bigint, num_removed_files: bigint, num_restored_files: bigint, removed_files_size: bigint, restored_files_size: bigint]"
     ]
    }
   ],
   "source": [
    "dt_instance.restoreToTimestamp('2024-06-10T14:09:07.000+0000')"
   ]
  },
  {
   "cell_type": "code",
   "execution_count": 0,
   "metadata": {
    "application/vnd.databricks.v1+cell": {
     "cellMetadata": {
      "byteLimit": 2048000,
      "implicitDf": true,
      "rowLimit": 10000
     },
     "inputWidgets": {},
     "nuid": "c3fa8d7a-257e-4c07-b0a6-071129fb2a6f",
     "showTitle": false,
     "title": ""
    }
   },
   "outputs": [
    {
     "output_type": "display_data",
     "data": {
      "text/html": [
       "<style scoped>\n",
       "  .table-result-container {\n",
       "    max-height: 300px;\n",
       "    overflow: auto;\n",
       "  }\n",
       "  table, th, td {\n",
       "    border: 1px solid black;\n",
       "    border-collapse: collapse;\n",
       "  }\n",
       "  th, td {\n",
       "    padding: 5px;\n",
       "  }\n",
       "  th {\n",
       "    text-align: left;\n",
       "  }\n",
       "</style><div class='table-result-container'><table class='table-result'><thead style='background-color: white'><tr><th>EmployeeID</th><th>FirstName</th><th>LastName</th><th>Department</th><th>Title</th><th>Salary</th><th>EffectiveDate</th><th>EndDate</th><th>IsCurrent</th></tr></thead><tbody><tr><td>1001</td><td>John</td><td>Doe</td><td>Engineering</td><td>Senior Engineer</td><td>90000.00</td><td>2023-01-01</td><td>null</td><td>true</td></tr><tr><td>1002</td><td>Jane</td><td>Smith</td><td>Marketing</td><td>Manager</td><td>75000.00</td><td>2023-01-01</td><td>null</td><td>true</td></tr><tr><td>1003</td><td>Emily</td><td>Jones</td><td>HR</td><td>Analyst</td><td>65000.00</td><td>2023-01-01</td><td>null</td><td>true</td></tr><tr><td>1004</td><td>Michael</td><td>Brown</td><td>IT</td><td>Developer</td><td>72000.00</td><td>2023-01-01</td><td>null</td><td>true</td></tr><tr><td>1005</td><td>Rachel</td><td>Green</td><td>Finance</td><td>Accountant</td><td>58000.00</td><td>2023-01-01</td><td>null</td><td>true</td></tr><tr><td>1006</td><td>Ross</td><td>Geller</td><td>Science</td><td>Researcher</td><td>76000.00</td><td>2023-01-01</td><td>null</td><td>true</td></tr><tr><td>1007</td><td>Monica</td><td>Geller</td><td>Culinary</td><td>Chef</td><td>62000.00</td><td>2023-01-01</td><td>null</td><td>true</td></tr><tr><td>1008</td><td>Joey</td><td>Tribbiani</td><td>Acting</td><td>Actor</td><td>55000.00</td><td>2023-01-01</td><td>null</td><td>true</td></tr><tr><td>1009</td><td>Chandler</td><td>Bing</td><td>Advertising</td><td>Copywriter</td><td>64000.00</td><td>2023-01-01</td><td>null</td><td>true</td></tr><tr><td>1010</td><td>Phoebe</td><td>Buffay</td><td>Music</td><td>Singer</td><td>50000.00</td><td>2023-01-01</td><td>null</td><td>true</td></tr></tbody></table></div>"
      ]
     },
     "metadata": {
      "application/vnd.databricks.v1+output": {
       "addedWidgets": {},
       "aggData": [],
       "aggError": "",
       "aggOverflow": false,
       "aggSchema": [],
       "aggSeriesLimitReached": false,
       "aggType": "",
       "arguments": {},
       "columnCustomDisplayInfos": {},
       "data": [
        [
         1001,
         "John",
         "Doe",
         "Engineering",
         "Senior Engineer",
         "90000.00",
         "2023-01-01",
         null,
         true
        ],
        [
         1002,
         "Jane",
         "Smith",
         "Marketing",
         "Manager",
         "75000.00",
         "2023-01-01",
         null,
         true
        ],
        [
         1003,
         "Emily",
         "Jones",
         "HR",
         "Analyst",
         "65000.00",
         "2023-01-01",
         null,
         true
        ],
        [
         1004,
         "Michael",
         "Brown",
         "IT",
         "Developer",
         "72000.00",
         "2023-01-01",
         null,
         true
        ],
        [
         1005,
         "Rachel",
         "Green",
         "Finance",
         "Accountant",
         "58000.00",
         "2023-01-01",
         null,
         true
        ],
        [
         1006,
         "Ross",
         "Geller",
         "Science",
         "Researcher",
         "76000.00",
         "2023-01-01",
         null,
         true
        ],
        [
         1007,
         "Monica",
         "Geller",
         "Culinary",
         "Chef",
         "62000.00",
         "2023-01-01",
         null,
         true
        ],
        [
         1008,
         "Joey",
         "Tribbiani",
         "Acting",
         "Actor",
         "55000.00",
         "2023-01-01",
         null,
         true
        ],
        [
         1009,
         "Chandler",
         "Bing",
         "Advertising",
         "Copywriter",
         "64000.00",
         "2023-01-01",
         null,
         true
        ],
        [
         1010,
         "Phoebe",
         "Buffay",
         "Music",
         "Singer",
         "50000.00",
         "2023-01-01",
         null,
         true
        ]
       ],
       "datasetInfos": [],
       "dbfsResultPath": null,
       "isJsonSchema": true,
       "metadata": {},
       "overflow": false,
       "plotOptions": {
        "customPlotOptions": {},
        "displayType": "table",
        "pivotAggregation": null,
        "pivotColumns": null,
        "xColumns": null,
        "yColumns": null
       },
       "removedWidgets": [],
       "schema": [
        {
         "metadata": "{}",
         "name": "EmployeeID",
         "type": "\"integer\""
        },
        {
         "metadata": "{}",
         "name": "FirstName",
         "type": "\"string\""
        },
        {
         "metadata": "{}",
         "name": "LastName",
         "type": "\"string\""
        },
        {
         "metadata": "{}",
         "name": "Department",
         "type": "\"string\""
        },
        {
         "metadata": "{}",
         "name": "Title",
         "type": "\"string\""
        },
        {
         "metadata": "{}",
         "name": "Salary",
         "type": "\"decimal(10,2)\""
        },
        {
         "metadata": "{}",
         "name": "EffectiveDate",
         "type": "\"date\""
        },
        {
         "metadata": "{}",
         "name": "EndDate",
         "type": "\"date\""
        },
        {
         "metadata": "{}",
         "name": "IsCurrent",
         "type": "\"boolean\""
        }
       ],
       "type": "table"
      }
     },
     "output_type": "display_data"
    }
   ],
   "source": [
    "%sql \n",
    "/*data after using restore*/\n",
    "select * from employees;"
   ]
  },
  {
   "cell_type": "code",
   "execution_count": 0,
   "metadata": {
    "application/vnd.databricks.v1+cell": {
     "cellMetadata": {
      "byteLimit": 2048000,
      "rowLimit": 10000
     },
     "inputWidgets": {},
     "nuid": "f38a2cd9-dd9a-4cdf-82a5-8b17e5f4460e",
     "showTitle": false,
     "title": ""
    }
   },
   "outputs": [
    {
     "output_type": "display_data",
     "data": {
      "text/html": [
       "<style scoped>\n",
       "  .table-result-container {\n",
       "    max-height: 300px;\n",
       "    overflow: auto;\n",
       "  }\n",
       "  table, th, td {\n",
       "    border: 1px solid black;\n",
       "    border-collapse: collapse;\n",
       "  }\n",
       "  th, td {\n",
       "    padding: 5px;\n",
       "  }\n",
       "  th {\n",
       "    text-align: left;\n",
       "  }\n",
       "</style><div class='table-result-container'><table class='table-result'><thead style='background-color: white'><tr><th>version</th><th>timestamp</th><th>userId</th><th>userName</th><th>operation</th><th>operationParameters</th><th>job</th><th>notebook</th><th>clusterId</th><th>readVersion</th><th>isolationLevel</th><th>isBlindAppend</th><th>operationMetrics</th><th>userMetadata</th><th>engineInfo</th></tr></thead><tbody><tr><td>12</td><td>2024-06-10T16:18:48.000+0000</td><td>8432478468657958</td><td>paruchuri7781@gmail.com</td><td>RESTORE</td><td>Map(version -> null, timestamp -> 2024-06-10 14:09:07.0)</td><td>null</td><td>List(3128984471938779)</td><td>0610-135555-y0o4beyi</td><td>11</td><td>Serializable</td><td>false</td><td>Map(numRestoredFiles -> 1, removedFilesSize -> 10930, numRemovedFiles -> 4, restoredFilesSize -> 3034, numOfFilesAfterRestore -> 1, tableSizeAfterRestore -> 3034)</td><td>null</td><td>Databricks-Runtime/12.2.x-scala2.12</td></tr><tr><td>11</td><td>2024-06-10T16:14:07.000+0000</td><td>8432478468657958</td><td>paruchuri7781@gmail.com</td><td>RESTORE</td><td>Map(version -> 6, timestamp -> null)</td><td>null</td><td>List(3128984471938779)</td><td>0610-135555-y0o4beyi</td><td>10</td><td>Serializable</td><td>false</td><td>Map(numRestoredFiles -> 4, removedFilesSize -> 16172, numRemovedFiles -> 6, restoredFilesSize -> 10930, numOfFilesAfterRestore -> 4, tableSizeAfterRestore -> 10930)</td><td>null</td><td>Databricks-Runtime/12.2.x-scala2.12</td></tr><tr><td>10</td><td>2024-06-10T14:50:20.000+0000</td><td>8432478468657958</td><td>paruchuri7781@gmail.com</td><td>WRITE</td><td>Map(mode -> Append, partitionBy -> [])</td><td>null</td><td>List(2138961590306633)</td><td>0610-135555-y0o4beyi</td><td>9</td><td>WriteSerializable</td><td>true</td><td>Map(numFiles -> 2, numOutputRows -> 2, numOutputBytes -> 5242)</td><td>null</td><td>Databricks-Runtime/12.2.x-scala2.12</td></tr><tr><td>9</td><td>2024-06-10T14:09:34.000+0000</td><td>8432478468657958</td><td>paruchuri7781@gmail.com</td><td>MERGE</td><td>Map(predicate -> [\"(EmployeeID#5059 = EmployeeID#4802)\"], matchedPredicates -> [{\"predicate\":\"((NOT (Department#5062 = Department#4805) OR NOT (Title#5063 = Title#4806)) OR (NOT (cast(Salary#5064 as double) = Salary#4807) AND IsCurrent#5067))\",\"actionType\":\"update\"}], notMatchedPredicates -> [{\"actionType\":\"insert\"}], notMatchedBySourcePredicates -> [])</td><td>null</td><td>List(2138961590306633)</td><td>0610-135555-y0o4beyi</td><td>8</td><td>WriteSerializable</td><td>false</td><td>Map(numTargetRowsCopied -> 8, numTargetRowsDeleted -> 0, numTargetFilesAdded -> 4, numTargetBytesAdded -> 10930, numTargetBytesRemoved -> 3034, numTargetDeletionVectorsAdded -> 0, numTargetRowsMatchedUpdated -> 2, executionTimeMs -> 8956, numTargetRowsInserted -> 1, numTargetRowsMatchedDeleted -> 0, scanTimeMs -> 3077, numTargetRowsUpdated -> 2, numOutputRows -> 11, numTargetDeletionVectorsRemoved -> 0, numTargetRowsNotMatchedBySourceUpdated -> 0, numTargetChangeFilesAdded -> 0, numSourceRows -> 3, numTargetFilesRemoved -> 1, numTargetRowsNotMatchedBySourceDeleted -> 0, rewriteTimeMs -> 4620)</td><td>null</td><td>Databricks-Runtime/12.2.x-scala2.12</td></tr><tr><td>8</td><td>2024-06-10T14:09:07.000+0000</td><td>8432478468657958</td><td>paruchuri7781@gmail.com</td><td>WRITE</td><td>Map(mode -> Append, partitionBy -> [])</td><td>null</td><td>List(2138961590306633)</td><td>0610-135555-y0o4beyi</td><td>7</td><td>WriteSerializable</td><td>true</td><td>Map(numFiles -> 1, numOutputRows -> 10, numOutputBytes -> 3034)</td><td>null</td><td>Databricks-Runtime/12.2.x-scala2.12</td></tr><tr><td>7</td><td>2024-06-10T14:08:58.000+0000</td><td>8432478468657958</td><td>paruchuri7781@gmail.com</td><td>CREATE OR REPLACE TABLE</td><td>Map(isManaged -> false, description -> null, partitionBy -> [], properties -> {})</td><td>null</td><td>List(2138961590306633)</td><td>0610-135555-y0o4beyi</td><td>6</td><td>WriteSerializable</td><td>false</td><td>Map()</td><td>null</td><td>Databricks-Runtime/12.2.x-scala2.12</td></tr><tr><td>6</td><td>2024-06-10T14:08:28.000+0000</td><td>8432478468657958</td><td>paruchuri7781@gmail.com</td><td>MERGE</td><td>Map(predicate -> [\"(EmployeeID#1922 = EmployeeID#1665)\"], matchedPredicates -> [{\"predicate\":\"((NOT (Department#1925 = Department#1668) OR NOT (Title#1926 = Title#1669)) OR (NOT (cast(Salary#1927 as double) = Salary#1670) AND IsCurrent#1930))\",\"actionType\":\"update\"}], notMatchedPredicates -> [{\"actionType\":\"insert\"}], notMatchedBySourcePredicates -> [])</td><td>null</td><td>List(2138961590306633)</td><td>0610-135555-y0o4beyi</td><td>5</td><td>WriteSerializable</td><td>false</td><td>Map(numTargetRowsCopied -> 8, numTargetRowsDeleted -> 0, numTargetFilesAdded -> 4, numTargetBytesAdded -> 10930, numTargetBytesRemoved -> 3034, numTargetDeletionVectorsAdded -> 0, numTargetRowsMatchedUpdated -> 2, executionTimeMs -> 13312, numTargetRowsInserted -> 1, numTargetRowsMatchedDeleted -> 0, scanTimeMs -> 5556, numTargetRowsUpdated -> 2, numOutputRows -> 11, numTargetDeletionVectorsRemoved -> 0, numTargetRowsNotMatchedBySourceUpdated -> 0, numTargetChangeFilesAdded -> 0, numSourceRows -> 3, numTargetFilesRemoved -> 1, numTargetRowsNotMatchedBySourceDeleted -> 0, rewriteTimeMs -> 5681)</td><td>null</td><td>Databricks-Runtime/12.2.x-scala2.12</td></tr><tr><td>5</td><td>2024-06-10T14:01:36.000+0000</td><td>8432478468657958</td><td>paruchuri7781@gmail.com</td><td>WRITE</td><td>Map(mode -> Append, partitionBy -> [])</td><td>null</td><td>List(2138961590306633)</td><td>0610-135555-y0o4beyi</td><td>4</td><td>WriteSerializable</td><td>true</td><td>Map(numFiles -> 1, numOutputRows -> 10, numOutputBytes -> 3034)</td><td>null</td><td>Databricks-Runtime/12.2.x-scala2.12</td></tr><tr><td>4</td><td>2024-06-10T14:01:20.000+0000</td><td>8432478468657958</td><td>paruchuri7781@gmail.com</td><td>TRUNCATE</td><td>Map()</td><td>null</td><td>List(2138961590306633)</td><td>0610-135555-y0o4beyi</td><td>3</td><td>WriteSerializable</td><td>false</td><td>Map(numRemovedFiles -> 4, numDeletedRows -> 11, executionTimeMs -> 2685, numRemovedBytes -> 10931)</td><td>null</td><td>Databricks-Runtime/12.2.x-scala2.12</td></tr><tr><td>3</td><td>2024-06-07T20:58:30.000+0000</td><td>8432478468657958</td><td>paruchuri7781@gmail.com</td><td>MERGE</td><td>Map(predicate -> [\"(EmployeeID#20152 = EmployeeID#14174)\"], matchedPredicates -> [{\"predicate\":\"((NOT (Department#20155 = Department#14177) OR NOT (Title#20156 = Title#14178)) OR (NOT (cast(Salary#20157 as double) = Salary#14179) AND IsCurrent#20160))\",\"actionType\":\"update\"}], notMatchedPredicates -> [{\"actionType\":\"insert\"}], notMatchedBySourcePredicates -> [])</td><td>null</td><td>List(2138961590306633)</td><td>0607-140626-dbonvaq0</td><td>2</td><td>WriteSerializable</td><td>false</td><td>Map(numTargetRowsCopied -> 0, numTargetRowsDeleted -> 0, numTargetFilesAdded -> 0, numTargetBytesAdded -> 0, numTargetBytesRemoved -> 0, numTargetDeletionVectorsAdded -> 0, numTargetRowsMatchedUpdated -> 0, executionTimeMs -> 5645, numTargetRowsInserted -> 0, numTargetRowsMatchedDeleted -> 0, scanTimeMs -> 2617, numTargetRowsUpdated -> 0, numOutputRows -> 0, numTargetDeletionVectorsRemoved -> 0, numTargetRowsNotMatchedBySourceUpdated -> 0, numTargetChangeFilesAdded -> 0, numSourceRows -> 3, numTargetFilesRemoved -> 0, numTargetRowsNotMatchedBySourceDeleted -> 0, rewriteTimeMs -> 2173)</td><td>null</td><td>Databricks-Runtime/12.2.x-scala2.12</td></tr><tr><td>2</td><td>2024-06-07T20:49:24.000+0000</td><td>8432478468657958</td><td>paruchuri7781@gmail.com</td><td>MERGE</td><td>Map(predicate -> [\"(EmployeeID#17866 = EmployeeID#14174)\"], matchedPredicates -> [{\"predicate\":\"((NOT (Department#17869 = Department#14177) OR NOT (Title#17870 = Title#14178)) OR (NOT (cast(Salary#17871 as double) = Salary#14179) AND IsCurrent#17874))\",\"actionType\":\"update\"}], notMatchedPredicates -> [{\"actionType\":\"insert\"}], notMatchedBySourcePredicates -> [])</td><td>null</td><td>List(2138961590306633)</td><td>0607-140626-dbonvaq0</td><td>1</td><td>WriteSerializable</td><td>false</td><td>Map(numTargetRowsCopied -> 8, numTargetRowsDeleted -> 0, numTargetFilesAdded -> 4, numTargetBytesAdded -> 10931, numTargetBytesRemoved -> 3034, numTargetDeletionVectorsAdded -> 0, numTargetRowsMatchedUpdated -> 2, executionTimeMs -> 6222, numTargetRowsInserted -> 1, numTargetRowsMatchedDeleted -> 0, scanTimeMs -> 2358, numTargetRowsUpdated -> 2, numOutputRows -> 11, numTargetDeletionVectorsRemoved -> 0, numTargetRowsNotMatchedBySourceUpdated -> 0, numTargetChangeFilesAdded -> 0, numSourceRows -> 3, numTargetFilesRemoved -> 1, numTargetRowsNotMatchedBySourceDeleted -> 0, rewriteTimeMs -> 3054)</td><td>null</td><td>Databricks-Runtime/12.2.x-scala2.12</td></tr><tr><td>1</td><td>2024-06-07T19:38:10.000+0000</td><td>8432478468657958</td><td>paruchuri7781@gmail.com</td><td>WRITE</td><td>Map(mode -> Append, partitionBy -> [])</td><td>null</td><td>List(2138961590306633)</td><td>0607-140626-dbonvaq0</td><td>0</td><td>WriteSerializable</td><td>true</td><td>Map(numFiles -> 1, numOutputRows -> 10, numOutputBytes -> 3034)</td><td>null</td><td>Databricks-Runtime/12.2.x-scala2.12</td></tr><tr><td>0</td><td>2024-06-07T19:37:16.000+0000</td><td>8432478468657958</td><td>paruchuri7781@gmail.com</td><td>CREATE TABLE</td><td>Map(isManaged -> false, description -> null, partitionBy -> [], properties -> {})</td><td>null</td><td>List(2138961590306633)</td><td>0607-140626-dbonvaq0</td><td>null</td><td>WriteSerializable</td><td>true</td><td>Map()</td><td>null</td><td>Databricks-Runtime/12.2.x-scala2.12</td></tr></tbody></table></div>"
      ]
     },
     "metadata": {
      "application/vnd.databricks.v1+output": {
       "addedWidgets": {},
       "aggData": [],
       "aggError": "",
       "aggOverflow": false,
       "aggSchema": [],
       "aggSeriesLimitReached": false,
       "aggType": "",
       "arguments": {},
       "columnCustomDisplayInfos": {},
       "data": [
        [
         12,
         "2024-06-10T16:18:48.000+0000",
         "8432478468657958",
         "paruchuri7781@gmail.com",
         "RESTORE",
         {
          "timestamp": "2024-06-10 14:09:07.0",
          "version": null
         },
         null,
         [
          "3128984471938779"
         ],
         "0610-135555-y0o4beyi",
         11,
         "Serializable",
         false,
         {
          "numOfFilesAfterRestore": "1",
          "numRemovedFiles": "4",
          "numRestoredFiles": "1",
          "removedFilesSize": "10930",
          "restoredFilesSize": "3034",
          "tableSizeAfterRestore": "3034"
         },
         null,
         "Databricks-Runtime/12.2.x-scala2.12"
        ],
        [
         11,
         "2024-06-10T16:14:07.000+0000",
         "8432478468657958",
         "paruchuri7781@gmail.com",
         "RESTORE",
         {
          "timestamp": null,
          "version": "6"
         },
         null,
         [
          "3128984471938779"
         ],
         "0610-135555-y0o4beyi",
         10,
         "Serializable",
         false,
         {
          "numOfFilesAfterRestore": "4",
          "numRemovedFiles": "6",
          "numRestoredFiles": "4",
          "removedFilesSize": "16172",
          "restoredFilesSize": "10930",
          "tableSizeAfterRestore": "10930"
         },
         null,
         "Databricks-Runtime/12.2.x-scala2.12"
        ],
        [
         10,
         "2024-06-10T14:50:20.000+0000",
         "8432478468657958",
         "paruchuri7781@gmail.com",
         "WRITE",
         {
          "mode": "Append",
          "partitionBy": "[]"
         },
         null,
         [
          "2138961590306633"
         ],
         "0610-135555-y0o4beyi",
         9,
         "WriteSerializable",
         true,
         {
          "numFiles": "2",
          "numOutputBytes": "5242",
          "numOutputRows": "2"
         },
         null,
         "Databricks-Runtime/12.2.x-scala2.12"
        ],
        [
         9,
         "2024-06-10T14:09:34.000+0000",
         "8432478468657958",
         "paruchuri7781@gmail.com",
         "MERGE",
         {
          "matchedPredicates": "[{\"predicate\":\"((NOT (Department#5062 = Department#4805) OR NOT (Title#5063 = Title#4806)) OR (NOT (cast(Salary#5064 as double) = Salary#4807) AND IsCurrent#5067))\",\"actionType\":\"update\"}]",
          "notMatchedBySourcePredicates": "[]",
          "notMatchedPredicates": "[{\"actionType\":\"insert\"}]",
          "predicate": "[\"(EmployeeID#5059 = EmployeeID#4802)\"]"
         },
         null,
         [
          "2138961590306633"
         ],
         "0610-135555-y0o4beyi",
         8,
         "WriteSerializable",
         false,
         {
          "executionTimeMs": "8956",
          "numOutputRows": "11",
          "numSourceRows": "3",
          "numTargetBytesAdded": "10930",
          "numTargetBytesRemoved": "3034",
          "numTargetChangeFilesAdded": "0",
          "numTargetDeletionVectorsAdded": "0",
          "numTargetDeletionVectorsRemoved": "0",
          "numTargetFilesAdded": "4",
          "numTargetFilesRemoved": "1",
          "numTargetRowsCopied": "8",
          "numTargetRowsDeleted": "0",
          "numTargetRowsInserted": "1",
          "numTargetRowsMatchedDeleted": "0",
          "numTargetRowsMatchedUpdated": "2",
          "numTargetRowsNotMatchedBySourceDeleted": "0",
          "numTargetRowsNotMatchedBySourceUpdated": "0",
          "numTargetRowsUpdated": "2",
          "rewriteTimeMs": "4620",
          "scanTimeMs": "3077"
         },
         null,
         "Databricks-Runtime/12.2.x-scala2.12"
        ],
        [
         8,
         "2024-06-10T14:09:07.000+0000",
         "8432478468657958",
         "paruchuri7781@gmail.com",
         "WRITE",
         {
          "mode": "Append",
          "partitionBy": "[]"
         },
         null,
         [
          "2138961590306633"
         ],
         "0610-135555-y0o4beyi",
         7,
         "WriteSerializable",
         true,
         {
          "numFiles": "1",
          "numOutputBytes": "3034",
          "numOutputRows": "10"
         },
         null,
         "Databricks-Runtime/12.2.x-scala2.12"
        ],
        [
         7,
         "2024-06-10T14:08:58.000+0000",
         "8432478468657958",
         "paruchuri7781@gmail.com",
         "CREATE OR REPLACE TABLE",
         {
          "description": null,
          "isManaged": "false",
          "partitionBy": "[]",
          "properties": "{}"
         },
         null,
         [
          "2138961590306633"
         ],
         "0610-135555-y0o4beyi",
         6,
         "WriteSerializable",
         false,
         {},
         null,
         "Databricks-Runtime/12.2.x-scala2.12"
        ],
        [
         6,
         "2024-06-10T14:08:28.000+0000",
         "8432478468657958",
         "paruchuri7781@gmail.com",
         "MERGE",
         {
          "matchedPredicates": "[{\"predicate\":\"((NOT (Department#1925 = Department#1668) OR NOT (Title#1926 = Title#1669)) OR (NOT (cast(Salary#1927 as double) = Salary#1670) AND IsCurrent#1930))\",\"actionType\":\"update\"}]",
          "notMatchedBySourcePredicates": "[]",
          "notMatchedPredicates": "[{\"actionType\":\"insert\"}]",
          "predicate": "[\"(EmployeeID#1922 = EmployeeID#1665)\"]"
         },
         null,
         [
          "2138961590306633"
         ],
         "0610-135555-y0o4beyi",
         5,
         "WriteSerializable",
         false,
         {
          "executionTimeMs": "13312",
          "numOutputRows": "11",
          "numSourceRows": "3",
          "numTargetBytesAdded": "10930",
          "numTargetBytesRemoved": "3034",
          "numTargetChangeFilesAdded": "0",
          "numTargetDeletionVectorsAdded": "0",
          "numTargetDeletionVectorsRemoved": "0",
          "numTargetFilesAdded": "4",
          "numTargetFilesRemoved": "1",
          "numTargetRowsCopied": "8",
          "numTargetRowsDeleted": "0",
          "numTargetRowsInserted": "1",
          "numTargetRowsMatchedDeleted": "0",
          "numTargetRowsMatchedUpdated": "2",
          "numTargetRowsNotMatchedBySourceDeleted": "0",
          "numTargetRowsNotMatchedBySourceUpdated": "0",
          "numTargetRowsUpdated": "2",
          "rewriteTimeMs": "5681",
          "scanTimeMs": "5556"
         },
         null,
         "Databricks-Runtime/12.2.x-scala2.12"
        ],
        [
         5,
         "2024-06-10T14:01:36.000+0000",
         "8432478468657958",
         "paruchuri7781@gmail.com",
         "WRITE",
         {
          "mode": "Append",
          "partitionBy": "[]"
         },
         null,
         [
          "2138961590306633"
         ],
         "0610-135555-y0o4beyi",
         4,
         "WriteSerializable",
         true,
         {
          "numFiles": "1",
          "numOutputBytes": "3034",
          "numOutputRows": "10"
         },
         null,
         "Databricks-Runtime/12.2.x-scala2.12"
        ],
        [
         4,
         "2024-06-10T14:01:20.000+0000",
         "8432478468657958",
         "paruchuri7781@gmail.com",
         "TRUNCATE",
         {},
         null,
         [
          "2138961590306633"
         ],
         "0610-135555-y0o4beyi",
         3,
         "WriteSerializable",
         false,
         {
          "executionTimeMs": "2685",
          "numDeletedRows": "11",
          "numRemovedBytes": "10931",
          "numRemovedFiles": "4"
         },
         null,
         "Databricks-Runtime/12.2.x-scala2.12"
        ],
        [
         3,
         "2024-06-07T20:58:30.000+0000",
         "8432478468657958",
         "paruchuri7781@gmail.com",
         "MERGE",
         {
          "matchedPredicates": "[{\"predicate\":\"((NOT (Department#20155 = Department#14177) OR NOT (Title#20156 = Title#14178)) OR (NOT (cast(Salary#20157 as double) = Salary#14179) AND IsCurrent#20160))\",\"actionType\":\"update\"}]",
          "notMatchedBySourcePredicates": "[]",
          "notMatchedPredicates": "[{\"actionType\":\"insert\"}]",
          "predicate": "[\"(EmployeeID#20152 = EmployeeID#14174)\"]"
         },
         null,
         [
          "2138961590306633"
         ],
         "0607-140626-dbonvaq0",
         2,
         "WriteSerializable",
         false,
         {
          "executionTimeMs": "5645",
          "numOutputRows": "0",
          "numSourceRows": "3",
          "numTargetBytesAdded": "0",
          "numTargetBytesRemoved": "0",
          "numTargetChangeFilesAdded": "0",
          "numTargetDeletionVectorsAdded": "0",
          "numTargetDeletionVectorsRemoved": "0",
          "numTargetFilesAdded": "0",
          "numTargetFilesRemoved": "0",
          "numTargetRowsCopied": "0",
          "numTargetRowsDeleted": "0",
          "numTargetRowsInserted": "0",
          "numTargetRowsMatchedDeleted": "0",
          "numTargetRowsMatchedUpdated": "0",
          "numTargetRowsNotMatchedBySourceDeleted": "0",
          "numTargetRowsNotMatchedBySourceUpdated": "0",
          "numTargetRowsUpdated": "0",
          "rewriteTimeMs": "2173",
          "scanTimeMs": "2617"
         },
         null,
         "Databricks-Runtime/12.2.x-scala2.12"
        ],
        [
         2,
         "2024-06-07T20:49:24.000+0000",
         "8432478468657958",
         "paruchuri7781@gmail.com",
         "MERGE",
         {
          "matchedPredicates": "[{\"predicate\":\"((NOT (Department#17869 = Department#14177) OR NOT (Title#17870 = Title#14178)) OR (NOT (cast(Salary#17871 as double) = Salary#14179) AND IsCurrent#17874))\",\"actionType\":\"update\"}]",
          "notMatchedBySourcePredicates": "[]",
          "notMatchedPredicates": "[{\"actionType\":\"insert\"}]",
          "predicate": "[\"(EmployeeID#17866 = EmployeeID#14174)\"]"
         },
         null,
         [
          "2138961590306633"
         ],
         "0607-140626-dbonvaq0",
         1,
         "WriteSerializable",
         false,
         {
          "executionTimeMs": "6222",
          "numOutputRows": "11",
          "numSourceRows": "3",
          "numTargetBytesAdded": "10931",
          "numTargetBytesRemoved": "3034",
          "numTargetChangeFilesAdded": "0",
          "numTargetDeletionVectorsAdded": "0",
          "numTargetDeletionVectorsRemoved": "0",
          "numTargetFilesAdded": "4",
          "numTargetFilesRemoved": "1",
          "numTargetRowsCopied": "8",
          "numTargetRowsDeleted": "0",
          "numTargetRowsInserted": "1",
          "numTargetRowsMatchedDeleted": "0",
          "numTargetRowsMatchedUpdated": "2",
          "numTargetRowsNotMatchedBySourceDeleted": "0",
          "numTargetRowsNotMatchedBySourceUpdated": "0",
          "numTargetRowsUpdated": "2",
          "rewriteTimeMs": "3054",
          "scanTimeMs": "2358"
         },
         null,
         "Databricks-Runtime/12.2.x-scala2.12"
        ],
        [
         1,
         "2024-06-07T19:38:10.000+0000",
         "8432478468657958",
         "paruchuri7781@gmail.com",
         "WRITE",
         {
          "mode": "Append",
          "partitionBy": "[]"
         },
         null,
         [
          "2138961590306633"
         ],
         "0607-140626-dbonvaq0",
         0,
         "WriteSerializable",
         true,
         {
          "numFiles": "1",
          "numOutputBytes": "3034",
          "numOutputRows": "10"
         },
         null,
         "Databricks-Runtime/12.2.x-scala2.12"
        ],
        [
         0,
         "2024-06-07T19:37:16.000+0000",
         "8432478468657958",
         "paruchuri7781@gmail.com",
         "CREATE TABLE",
         {
          "description": null,
          "isManaged": "false",
          "partitionBy": "[]",
          "properties": "{}"
         },
         null,
         [
          "2138961590306633"
         ],
         "0607-140626-dbonvaq0",
         null,
         "WriteSerializable",
         true,
         {},
         null,
         "Databricks-Runtime/12.2.x-scala2.12"
        ]
       ],
       "datasetInfos": [],
       "dbfsResultPath": null,
       "isJsonSchema": true,
       "metadata": {},
       "overflow": false,
       "plotOptions": {
        "customPlotOptions": {},
        "displayType": "table",
        "pivotAggregation": null,
        "pivotColumns": null,
        "xColumns": null,
        "yColumns": null
       },
       "removedWidgets": [],
       "schema": [
        {
         "metadata": "{}",
         "name": "version",
         "type": "\"long\""
        },
        {
         "metadata": "{}",
         "name": "timestamp",
         "type": "\"timestamp\""
        },
        {
         "metadata": "{}",
         "name": "userId",
         "type": "\"string\""
        },
        {
         "metadata": "{}",
         "name": "userName",
         "type": "\"string\""
        },
        {
         "metadata": "{}",
         "name": "operation",
         "type": "\"string\""
        },
        {
         "metadata": "{}",
         "name": "operationParameters",
         "type": "{\"type\":\"map\",\"keyType\":\"string\",\"valueType\":\"string\",\"valueContainsNull\":true}"
        },
        {
         "metadata": "{}",
         "name": "job",
         "type": "{\"type\":\"struct\",\"fields\":[{\"name\":\"jobId\",\"type\":\"string\",\"nullable\":true,\"metadata\":{}},{\"name\":\"jobName\",\"type\":\"string\",\"nullable\":true,\"metadata\":{}},{\"name\":\"jobRunId\",\"type\":\"string\",\"nullable\":true,\"metadata\":{}},{\"name\":\"runId\",\"type\":\"string\",\"nullable\":true,\"metadata\":{}},{\"name\":\"jobOwnerId\",\"type\":\"string\",\"nullable\":true,\"metadata\":{}},{\"name\":\"triggerType\",\"type\":\"string\",\"nullable\":true,\"metadata\":{}}]}"
        },
        {
         "metadata": "{}",
         "name": "notebook",
         "type": "{\"type\":\"struct\",\"fields\":[{\"name\":\"notebookId\",\"type\":\"string\",\"nullable\":true,\"metadata\":{}}]}"
        },
        {
         "metadata": "{}",
         "name": "clusterId",
         "type": "\"string\""
        },
        {
         "metadata": "{}",
         "name": "readVersion",
         "type": "\"long\""
        },
        {
         "metadata": "{}",
         "name": "isolationLevel",
         "type": "\"string\""
        },
        {
         "metadata": "{}",
         "name": "isBlindAppend",
         "type": "\"boolean\""
        },
        {
         "metadata": "{}",
         "name": "operationMetrics",
         "type": "{\"type\":\"map\",\"keyType\":\"string\",\"valueType\":\"string\",\"valueContainsNull\":true}"
        },
        {
         "metadata": "{}",
         "name": "userMetadata",
         "type": "\"string\""
        },
        {
         "metadata": "{}",
         "name": "engineInfo",
         "type": "\"string\""
        }
       ],
       "type": "table"
      }
     },
     "output_type": "display_data"
    }
   ],
   "source": [
    "\n",
    "#we can see that a new version created on which we used restore operation\n",
    "display(dt_instance.history())"
   ]
  },
  {
   "cell_type": "code",
   "execution_count": 0,
   "metadata": {
    "application/vnd.databricks.v1+cell": {
     "cellMetadata": {},
     "inputWidgets": {},
     "nuid": "6b9b3228-3232-412d-a59a-4862ff9170ed",
     "showTitle": false,
     "title": ""
    }
   },
   "outputs": [],
   "source": []
  }
 ],
 "metadata": {
  "application/vnd.databricks.v1+notebook": {
   "dashboards": [],
   "environmentMetadata": null,
   "language": "python",
   "notebookMetadata": {
    "mostRecentlyExecutedCommandWithImplicitDF": {
     "commandId": 3128984471938813,
     "dataframes": [
      "_sqldf"
     ]
    },
    "pythonIndentUnit": 4
   },
   "notebookName": "8->Time Travel and Restore command",
   "widgets": {}
  }
 },
 "nbformat": 4,
 "nbformat_minor": 0
}
