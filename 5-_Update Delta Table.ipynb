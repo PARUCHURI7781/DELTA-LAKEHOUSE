{
 "cells": [
  {
   "cell_type": "markdown",
   "metadata": {
    "application/vnd.databricks.v1+cell": {
     "cellMetadata": {},
     "inputWidgets": {},
     "nuid": "208aa8c2-de5a-4f91-ae78-dfd9cfc0054f",
     "showTitle": false,
     "title": ""
    }
   },
   "source": [
    "#create delta table"
   ]
  },
  {
   "cell_type": "code",
   "execution_count": 0,
   "metadata": {
    "application/vnd.databricks.v1+cell": {
     "cellMetadata": {
      "byteLimit": 2048000,
      "implicitDf": true,
      "rowLimit": 10000
     },
     "inputWidgets": {},
     "nuid": "41e498df-074a-4058-8706-5a575a1b19ac",
     "showTitle": false,
     "title": ""
    }
   },
   "outputs": [
    {
     "output_type": "display_data",
     "data": {
      "text/html": [
       "<style scoped>\n",
       "  .table-result-container {\n",
       "    max-height: 300px;\n",
       "    overflow: auto;\n",
       "  }\n",
       "  table, th, td {\n",
       "    border: 1px solid black;\n",
       "    border-collapse: collapse;\n",
       "  }\n",
       "  th, td {\n",
       "    padding: 5px;\n",
       "  }\n",
       "  th {\n",
       "    text-align: left;\n",
       "  }\n",
       "</style><div class='table-result-container'><table class='table-result'><thead style='background-color: white'><tr></tr></thead><tbody></tbody></table></div>"
      ]
     },
     "metadata": {
      "application/vnd.databricks.v1+output": {
       "addedWidgets": {},
       "aggData": [],
       "aggError": "",
       "aggOverflow": false,
       "aggSchema": [],
       "aggSeriesLimitReached": false,
       "aggType": "",
       "arguments": {},
       "columnCustomDisplayInfos": {},
       "data": [],
       "datasetInfos": [],
       "dbfsResultPath": null,
       "isJsonSchema": true,
       "metadata": {},
       "overflow": false,
       "plotOptions": {
        "customPlotOptions": {},
        "displayType": "table",
        "pivotAggregation": null,
        "pivotColumns": null,
        "xColumns": null,
        "yColumns": null
       },
       "removedWidgets": [],
       "schema": [],
       "type": "table"
      }
     },
     "output_type": "display_data"
    }
   ],
   "source": [
    "%sql \n",
    "\n",
    "create or replace table employee_demo\n",
    "(\n",
    "  emp_id int,\n",
    "  emp_name string,\n",
    "  gender string,\n",
    "  sal int,\n",
    "  dept string\n",
    ")using delta \n",
    " location '/FileStore/tables/delta/practice_delta'"
   ]
  },
  {
   "cell_type": "code",
   "execution_count": 0,
   "metadata": {
    "application/vnd.databricks.v1+cell": {
     "cellMetadata": {
      "byteLimit": 2048000,
      "rowLimit": 10000
     },
     "inputWidgets": {},
     "nuid": "52b37d8d-ac83-497d-9a7c-dba2aefe481f",
     "showTitle": false,
     "title": ""
    }
   },
   "outputs": [
    {
     "output_type": "display_data",
     "data": {
      "text/html": [
       "<style scoped>\n",
       "  .table-result-container {\n",
       "    max-height: 300px;\n",
       "    overflow: auto;\n",
       "  }\n",
       "  table, th, td {\n",
       "    border: 1px solid black;\n",
       "    border-collapse: collapse;\n",
       "  }\n",
       "  th, td {\n",
       "    padding: 5px;\n",
       "  }\n",
       "  th {\n",
       "    text-align: left;\n",
       "  }\n",
       "</style><div class='table-result-container'><table class='table-result'><thead style='background-color: white'><tr><th>emp_id</th><th>emp_name</th><th>gender</th><th>sal</th><th>dept</th></tr></thead><tbody></tbody></table></div>"
      ]
     },
     "metadata": {
      "application/vnd.databricks.v1+output": {
       "addedWidgets": {},
       "aggData": [],
       "aggError": "",
       "aggOverflow": false,
       "aggSchema": [],
       "aggSeriesLimitReached": false,
       "aggType": "",
       "arguments": {},
       "columnCustomDisplayInfos": {},
       "data": [],
       "datasetInfos": [],
       "dbfsResultPath": null,
       "isJsonSchema": true,
       "metadata": {},
       "overflow": false,
       "plotOptions": {
        "customPlotOptions": {},
        "displayType": "table",
        "pivotAggregation": null,
        "pivotColumns": null,
        "xColumns": null,
        "yColumns": null
       },
       "removedWidgets": [],
       "schema": [
        {
         "metadata": "{}",
         "name": "emp_id",
         "type": "\"integer\""
        },
        {
         "metadata": "{}",
         "name": "emp_name",
         "type": "\"string\""
        },
        {
         "metadata": "{}",
         "name": "gender",
         "type": "\"string\""
        },
        {
         "metadata": "{}",
         "name": "sal",
         "type": "\"integer\""
        },
        {
         "metadata": "{}",
         "name": "dept",
         "type": "\"string\""
        }
       ],
       "type": "table"
      }
     },
     "output_type": "display_data"
    }
   ],
   "source": [
    "emp_df=spark.read.format('delta').options(path='/FileStore/tables/delta/practice_delta').load()\n",
    "display(emp_df)"
   ]
  },
  {
   "cell_type": "code",
   "execution_count": 0,
   "metadata": {
    "application/vnd.databricks.v1+cell": {
     "cellMetadata": {
      "byteLimit": 2048000,
      "implicitDf": true,
      "rowLimit": 10000
     },
     "inputWidgets": {},
     "nuid": "e0b52782-7d7f-49cf-8c69-c49fe7537f16",
     "showTitle": false,
     "title": ""
    }
   },
   "outputs": [
    {
     "output_type": "display_data",
     "data": {
      "text/html": [
       "<style scoped>\n",
       "  .table-result-container {\n",
       "    max-height: 300px;\n",
       "    overflow: auto;\n",
       "  }\n",
       "  table, th, td {\n",
       "    border: 1px solid black;\n",
       "    border-collapse: collapse;\n",
       "  }\n",
       "  th, td {\n",
       "    padding: 5px;\n",
       "  }\n",
       "  th {\n",
       "    text-align: left;\n",
       "  }\n",
       "</style><div class='table-result-container'><table class='table-result'><thead style='background-color: white'><tr><th>num_affected_rows</th><th>num_inserted_rows</th></tr></thead><tbody><tr><td>1</td><td>1</td></tr></tbody></table></div>"
      ]
     },
     "metadata": {
      "application/vnd.databricks.v1+output": {
       "addedWidgets": {},
       "aggData": [],
       "aggError": "",
       "aggOverflow": false,
       "aggSchema": [],
       "aggSeriesLimitReached": false,
       "aggType": "",
       "arguments": {},
       "columnCustomDisplayInfos": {},
       "data": [
        [
         1,
         1
        ]
       ],
       "datasetInfos": [],
       "dbfsResultPath": null,
       "isJsonSchema": true,
       "metadata": {},
       "overflow": false,
       "plotOptions": {
        "customPlotOptions": {},
        "displayType": "table",
        "pivotAggregation": null,
        "pivotColumns": null,
        "xColumns": null,
        "yColumns": null
       },
       "removedWidgets": [],
       "schema": [
        {
         "metadata": "{}",
         "name": "num_affected_rows",
         "type": "\"long\""
        },
        {
         "metadata": "{}",
         "name": "num_inserted_rows",
         "type": "\"long\""
        }
       ],
       "type": "table"
      }
     },
     "output_type": "display_data"
    }
   ],
   "source": [
    "%sql \n",
    "\n",
    "INSERT INTO employee_demo VALUES (1, 'John Doe', 'Male', 5000, 'IT');\n",
    "INSERT INTO employee_demo VALUES (2, 'Jane Smith', 'Female', 6000, 'HR');\n",
    "INSERT INTO employee_demo VALUES (3, 'Michael Johnson', 'Male', 5500, 'Finance');\n",
    "INSERT INTO employee_demo VALUES (4, 'Emily Davis', 'Female', 7000, 'Marketing');\n",
    "INSERT INTO employee_demo VALUES (5, 'Chris Lee', 'Male', 4800, 'IT');\n",
    "INSERT INTO employee_demo VALUES (6, 'Emma Wilson', 'Female', 6200, 'HR');\n",
    "INSERT INTO employee_demo VALUES (7, 'David Brown', 'Male', 5300, 'Finance');"
   ]
  },
  {
   "cell_type": "code",
   "execution_count": 0,
   "metadata": {
    "application/vnd.databricks.v1+cell": {
     "cellMetadata": {
      "byteLimit": 2048000,
      "rowLimit": 10000
     },
     "inputWidgets": {},
     "nuid": "ff3d4265-3804-4a66-a4a0-a2f9b433fa7a",
     "showTitle": false,
     "title": ""
    }
   },
   "outputs": [
    {
     "output_type": "stream",
     "name": "stdout",
     "output_type": "stream",
     "text": [
      "+------+---------------+------+----+---------+\n|emp_id|       emp_name|gender| sal|     dept|\n+------+---------------+------+----+---------+\n|     3|Michael Johnson|  Male|5500|  Finance|\n|     4|    Emily Davis|Female|7000|Marketing|\n|     7|    David Brown|  Male|5300|  Finance|\n|     6|    Emma Wilson|Female|6200|       HR|\n|     2|     Jane Smith|Female|6000|       HR|\n|     5|      Chris Lee|  Male|4800|       IT|\n|     1|       John Doe|  Male|5000|       IT|\n+------+---------------+------+----+---------+\n\n"
     ]
    }
   ],
   "source": [
    "emp_df.show()"
   ]
  },
  {
   "cell_type": "markdown",
   "metadata": {
    "application/vnd.databricks.v1+cell": {
     "cellMetadata": {},
     "inputWidgets": {},
     "nuid": "e1aba5c0-c7bc-40c1-ac64-8c9bba822210",
     "showTitle": false,
     "title": ""
    }
   },
   "source": [
    "#Standard SQL using Table Name"
   ]
  },
  {
   "cell_type": "code",
   "execution_count": 0,
   "metadata": {
    "application/vnd.databricks.v1+cell": {
     "cellMetadata": {
      "byteLimit": 2048000,
      "implicitDf": true,
      "rowLimit": 10000
     },
     "inputWidgets": {},
     "nuid": "1c83812b-4881-4f89-9803-020c67e51331",
     "showTitle": false,
     "title": ""
    }
   },
   "outputs": [
    {
     "output_type": "display_data",
     "data": {
      "text/html": [
       "<style scoped>\n",
       "  .table-result-container {\n",
       "    max-height: 300px;\n",
       "    overflow: auto;\n",
       "  }\n",
       "  table, th, td {\n",
       "    border: 1px solid black;\n",
       "    border-collapse: collapse;\n",
       "  }\n",
       "  th, td {\n",
       "    padding: 5px;\n",
       "  }\n",
       "  th {\n",
       "    text-align: left;\n",
       "  }\n",
       "</style><div class='table-result-container'><table class='table-result'><thead style='background-color: white'><tr><th>emp_id</th><th>emp_name</th><th>gender</th><th>sal</th><th>dept</th></tr></thead><tbody><tr><td>3</td><td>Michael Johnson</td><td>Male</td><td>5500</td><td>Finance</td></tr><tr><td>4</td><td>Emily Davis</td><td>Female</td><td>7000</td><td>Marketing</td></tr><tr><td>7</td><td>David Brown</td><td>Male</td><td>5300</td><td>Finance</td></tr><tr><td>6</td><td>Emma Wilson</td><td>Female</td><td>7200</td><td>HR</td></tr><tr><td>2</td><td>Jane Smith</td><td>Female</td><td>6000</td><td>HR</td></tr><tr><td>5</td><td>Chris Lee</td><td>Male</td><td>4800</td><td>IT</td></tr><tr><td>1</td><td>John Doe</td><td>Male</td><td>5000</td><td>IT</td></tr></tbody></table></div>"
      ]
     },
     "metadata": {
      "application/vnd.databricks.v1+output": {
       "addedWidgets": {},
       "aggData": [],
       "aggError": "",
       "aggOverflow": false,
       "aggSchema": [],
       "aggSeriesLimitReached": false,
       "aggType": "",
       "arguments": {},
       "columnCustomDisplayInfos": {},
       "data": [
        [
         3,
         "Michael Johnson",
         "Male",
         5500,
         "Finance"
        ],
        [
         4,
         "Emily Davis",
         "Female",
         7000,
         "Marketing"
        ],
        [
         7,
         "David Brown",
         "Male",
         5300,
         "Finance"
        ],
        [
         6,
         "Emma Wilson",
         "Female",
         7200,
         "HR"
        ],
        [
         2,
         "Jane Smith",
         "Female",
         6000,
         "HR"
        ],
        [
         5,
         "Chris Lee",
         "Male",
         4800,
         "IT"
        ],
        [
         1,
         "John Doe",
         "Male",
         5000,
         "IT"
        ]
       ],
       "datasetInfos": [],
       "dbfsResultPath": null,
       "isJsonSchema": true,
       "metadata": {},
       "overflow": false,
       "plotOptions": {
        "customPlotOptions": {},
        "displayType": "table",
        "pivotAggregation": null,
        "pivotColumns": null,
        "xColumns": null,
        "yColumns": null
       },
       "removedWidgets": [],
       "schema": [
        {
         "metadata": "{}",
         "name": "emp_id",
         "type": "\"integer\""
        },
        {
         "metadata": "{}",
         "name": "emp_name",
         "type": "\"string\""
        },
        {
         "metadata": "{}",
         "name": "gender",
         "type": "\"string\""
        },
        {
         "metadata": "{}",
         "name": "sal",
         "type": "\"integer\""
        },
        {
         "metadata": "{}",
         "name": "dept",
         "type": "\"string\""
        }
       ],
       "type": "table"
      }
     },
     "output_type": "display_data"
    }
   ],
   "source": [
    "%sql \n",
    "\n",
    "update employee_demo \n",
    "set sal=sal+500\n",
    "where emp_id=6;\n",
    "\n",
    "\n",
    "select * from employee_demo;"
   ]
  },
  {
   "cell_type": "markdown",
   "metadata": {
    "application/vnd.databricks.v1+cell": {
     "cellMetadata": {},
     "inputWidgets": {},
     "nuid": "69375494-382d-4764-bfec-45e740eacc7e",
     "showTitle": false,
     "title": ""
    }
   },
   "source": [
    "#using table path in sql\n"
   ]
  },
  {
   "cell_type": "code",
   "execution_count": 0,
   "metadata": {
    "application/vnd.databricks.v1+cell": {
     "cellMetadata": {
      "byteLimit": 2048000,
      "implicitDf": true,
      "rowLimit": 10000
     },
     "inputWidgets": {},
     "nuid": "497953bd-b1e3-4fa7-b67c-b06c9328f55f",
     "showTitle": false,
     "title": ""
    }
   },
   "outputs": [
    {
     "output_type": "display_data",
     "data": {
      "text/html": [
       "<style scoped>\n",
       "  .table-result-container {\n",
       "    max-height: 300px;\n",
       "    overflow: auto;\n",
       "  }\n",
       "  table, th, td {\n",
       "    border: 1px solid black;\n",
       "    border-collapse: collapse;\n",
       "  }\n",
       "  th, td {\n",
       "    padding: 5px;\n",
       "  }\n",
       "  th {\n",
       "    text-align: left;\n",
       "  }\n",
       "</style><div class='table-result-container'><table class='table-result'><thead style='background-color: white'><tr><th>emp_id</th><th>emp_name</th><th>gender</th><th>sal</th><th>dept</th></tr></thead><tbody><tr><td>3</td><td>Michael Johnson</td><td>Male</td><td>5500</td><td>Finance</td></tr><tr><td>4</td><td>Emily Davis</td><td>Female</td><td>7000</td><td>Marketing</td></tr><tr><td>7</td><td>David Brown</td><td>Male</td><td>5300</td><td>Finance</td></tr><tr><td>6</td><td>Emma Wilson</td><td>Female</td><td>5000</td><td>HR</td></tr><tr><td>2</td><td>Jane Smith</td><td>Female</td><td>6000</td><td>HR</td></tr><tr><td>5</td><td>Chris Lee</td><td>Male</td><td>4800</td><td>IT</td></tr><tr><td>1</td><td>John Doe</td><td>Male</td><td>5000</td><td>IT</td></tr></tbody></table></div>"
      ]
     },
     "metadata": {
      "application/vnd.databricks.v1+output": {
       "addedWidgets": {},
       "aggData": [],
       "aggError": "",
       "aggOverflow": false,
       "aggSchema": [],
       "aggSeriesLimitReached": false,
       "aggType": "",
       "arguments": {},
       "columnCustomDisplayInfos": {},
       "data": [
        [
         3,
         "Michael Johnson",
         "Male",
         5500,
         "Finance"
        ],
        [
         4,
         "Emily Davis",
         "Female",
         7000,
         "Marketing"
        ],
        [
         7,
         "David Brown",
         "Male",
         5300,
         "Finance"
        ],
        [
         6,
         "Emma Wilson",
         "Female",
         5000,
         "HR"
        ],
        [
         2,
         "Jane Smith",
         "Female",
         6000,
         "HR"
        ],
        [
         5,
         "Chris Lee",
         "Male",
         4800,
         "IT"
        ],
        [
         1,
         "John Doe",
         "Male",
         5000,
         "IT"
        ]
       ],
       "datasetInfos": [],
       "dbfsResultPath": null,
       "isJsonSchema": true,
       "metadata": {},
       "overflow": false,
       "plotOptions": {
        "customPlotOptions": {},
        "displayType": "table",
        "pivotAggregation": null,
        "pivotColumns": null,
        "xColumns": null,
        "yColumns": null
       },
       "removedWidgets": [],
       "schema": [
        {
         "metadata": "{}",
         "name": "emp_id",
         "type": "\"integer\""
        },
        {
         "metadata": "{}",
         "name": "emp_name",
         "type": "\"string\""
        },
        {
         "metadata": "{}",
         "name": "gender",
         "type": "\"string\""
        },
        {
         "metadata": "{}",
         "name": "sal",
         "type": "\"integer\""
        },
        {
         "metadata": "{}",
         "name": "dept",
         "type": "\"string\""
        }
       ],
       "type": "table"
      }
     },
     "output_type": "display_data"
    }
   ],
   "source": [
    "%sql\n",
    "\n",
    "update delta.`/FileStore/tables/delta/practice_delta`\n",
    "set sal=5000 \n",
    "where emp_id=6;\n",
    "\n",
    "select * from employee_demo;"
   ]
  },
  {
   "cell_type": "markdown",
   "metadata": {
    "application/vnd.databricks.v1+cell": {
     "cellMetadata": {},
     "inputWidgets": {},
     "nuid": "7a341139-9b31-4126-82b1-5a03f60adc57",
     "showTitle": false,
     "title": ""
    }
   },
   "source": [
    "#using tableInstance"
   ]
  },
  {
   "cell_type": "code",
   "execution_count": 0,
   "metadata": {
    "application/vnd.databricks.v1+cell": {
     "cellMetadata": {
      "byteLimit": 2048000,
      "rowLimit": 10000
     },
     "inputWidgets": {},
     "nuid": "c5f1a207-66f3-4512-9679-cf0dcaf8c2a3",
     "showTitle": false,
     "title": ""
    }
   },
   "outputs": [],
   "source": [
    "from delta.tables import * \n",
    "\n",
    "from pyspark.sql.functions import *"
   ]
  },
  {
   "cell_type": "code",
   "execution_count": 0,
   "metadata": {
    "application/vnd.databricks.v1+cell": {
     "cellMetadata": {
      "byteLimit": 2048000,
      "rowLimit": 10000
     },
     "inputWidgets": {},
     "nuid": "f71901e2-658f-47f9-b6fc-61fda27e6418",
     "showTitle": false,
     "title": ""
    }
   },
   "outputs": [],
   "source": [
    "emp_table_instance=DeltaTable.forName(spark,'employee_demo')"
   ]
  },
  {
   "cell_type": "code",
   "execution_count": 0,
   "metadata": {
    "application/vnd.databricks.v1+cell": {
     "cellMetadata": {
      "byteLimit": 2048000,
      "rowLimit": 10000
     },
     "inputWidgets": {},
     "nuid": "a8d6f06f-a6ab-497d-ac8e-cd2fa5994345",
     "showTitle": false,
     "title": ""
    }
   },
   "outputs": [],
   "source": [
    "emp_table_instance.update(\n",
    "                             condition=\"emp_id = 3\",\n",
    "                             set={'gender': \"'F'\"}\n",
    "                         )"
   ]
  },
  {
   "cell_type": "code",
   "execution_count": 0,
   "metadata": {
    "application/vnd.databricks.v1+cell": {
     "cellMetadata": {
      "byteLimit": 2048000,
      "rowLimit": 10000
     },
     "inputWidgets": {},
     "nuid": "0820fa06-f217-4af3-b52a-415f26c2ef50",
     "showTitle": false,
     "title": ""
    }
   },
   "outputs": [
    {
     "output_type": "display_data",
     "data": {
      "text/html": [
       "<style scoped>\n",
       "  .table-result-container {\n",
       "    max-height: 300px;\n",
       "    overflow: auto;\n",
       "  }\n",
       "  table, th, td {\n",
       "    border: 1px solid black;\n",
       "    border-collapse: collapse;\n",
       "  }\n",
       "  th, td {\n",
       "    padding: 5px;\n",
       "  }\n",
       "  th {\n",
       "    text-align: left;\n",
       "  }\n",
       "</style><div class='table-result-container'><table class='table-result'><thead style='background-color: white'><tr><th>emp_id</th><th>emp_name</th><th>gender</th><th>sal</th><th>dept</th></tr></thead><tbody><tr><td>4</td><td>Emily Davis</td><td>Female</td><td>7000</td><td>Marketing</td></tr><tr><td>3</td><td>Michael Johnson</td><td>F</td><td>5500</td><td>Finance</td></tr><tr><td>7</td><td>David Brown</td><td>Male</td><td>5300</td><td>Finance</td></tr><tr><td>6</td><td>Emma Wilson</td><td>Female</td><td>5000</td><td>HR</td></tr><tr><td>2</td><td>Jane Smith</td><td>Female</td><td>6000</td><td>HR</td></tr><tr><td>5</td><td>Chris Lee</td><td>Male</td><td>4800</td><td>IT</td></tr><tr><td>1</td><td>John Doe</td><td>Male</td><td>5000</td><td>IT</td></tr></tbody></table></div>"
      ]
     },
     "metadata": {
      "application/vnd.databricks.v1+output": {
       "addedWidgets": {},
       "aggData": [],
       "aggError": "",
       "aggOverflow": false,
       "aggSchema": [],
       "aggSeriesLimitReached": false,
       "aggType": "",
       "arguments": {},
       "columnCustomDisplayInfos": {},
       "data": [
        [
         4,
         "Emily Davis",
         "Female",
         7000,
         "Marketing"
        ],
        [
         3,
         "Michael Johnson",
         "F",
         5500,
         "Finance"
        ],
        [
         7,
         "David Brown",
         "Male",
         5300,
         "Finance"
        ],
        [
         6,
         "Emma Wilson",
         "Female",
         5000,
         "HR"
        ],
        [
         2,
         "Jane Smith",
         "Female",
         6000,
         "HR"
        ],
        [
         5,
         "Chris Lee",
         "Male",
         4800,
         "IT"
        ],
        [
         1,
         "John Doe",
         "Male",
         5000,
         "IT"
        ]
       ],
       "datasetInfos": [],
       "dbfsResultPath": null,
       "isJsonSchema": true,
       "metadata": {},
       "overflow": false,
       "plotOptions": {
        "customPlotOptions": {},
        "displayType": "table",
        "pivotAggregation": null,
        "pivotColumns": null,
        "xColumns": null,
        "yColumns": null
       },
       "removedWidgets": [],
       "schema": [
        {
         "metadata": "{}",
         "name": "emp_id",
         "type": "\"integer\""
        },
        {
         "metadata": "{}",
         "name": "emp_name",
         "type": "\"string\""
        },
        {
         "metadata": "{}",
         "name": "gender",
         "type": "\"string\""
        },
        {
         "metadata": "{}",
         "name": "sal",
         "type": "\"integer\""
        },
        {
         "metadata": "{}",
         "name": "dept",
         "type": "\"string\""
        }
       ],
       "type": "table"
      }
     },
     "output_type": "display_data"
    }
   ],
   "source": [
    "display(emp_table_instance.toDF())"
   ]
  },
  {
   "cell_type": "code",
   "execution_count": 0,
   "metadata": {
    "application/vnd.databricks.v1+cell": {
     "cellMetadata": {
      "byteLimit": 2048000,
      "rowLimit": 10000
     },
     "inputWidgets": {},
     "nuid": "c03f9b13-a8e6-4ffd-af2f-e11d2afae0c2",
     "showTitle": false,
     "title": ""
    }
   },
   "outputs": [],
   "source": [
    "emp_table_instance.update(\n",
    "                             condition= col('emp_name')=='Emma Wilson',\n",
    "                             set={'dept':lit('sales')}\n",
    "                         )\n",
    "\n"
   ]
  },
  {
   "cell_type": "code",
   "execution_count": 0,
   "metadata": {
    "application/vnd.databricks.v1+cell": {
     "cellMetadata": {
      "byteLimit": 2048000,
      "implicitDf": true,
      "rowLimit": 10000
     },
     "inputWidgets": {},
     "nuid": "b4c82863-9197-4dea-98d7-12fafac22131",
     "showTitle": false,
     "title": ""
    }
   },
   "outputs": [
    {
     "output_type": "display_data",
     "data": {
      "text/html": [
       "<style scoped>\n",
       "  .table-result-container {\n",
       "    max-height: 300px;\n",
       "    overflow: auto;\n",
       "  }\n",
       "  table, th, td {\n",
       "    border: 1px solid black;\n",
       "    border-collapse: collapse;\n",
       "  }\n",
       "  th, td {\n",
       "    padding: 5px;\n",
       "  }\n",
       "  th {\n",
       "    text-align: left;\n",
       "  }\n",
       "</style><div class='table-result-container'><table class='table-result'><thead style='background-color: white'><tr><th>emp_id</th><th>emp_name</th><th>gender</th><th>sal</th><th>dept</th></tr></thead><tbody><tr><td>4</td><td>Emily Davis</td><td>Female</td><td>7000</td><td>Marketing</td></tr><tr><td>3</td><td>Michael Johnson</td><td>F</td><td>5500</td><td>Finance</td></tr><tr><td>7</td><td>David Brown</td><td>Male</td><td>5300</td><td>Finance</td></tr><tr><td>6</td><td>Emma Wilson</td><td>Female</td><td>5000</td><td>sales</td></tr><tr><td>2</td><td>Jane Smith</td><td>Female</td><td>6000</td><td>HR</td></tr><tr><td>5</td><td>Chris Lee</td><td>Male</td><td>4800</td><td>IT</td></tr><tr><td>1</td><td>John Doe</td><td>Male</td><td>5000</td><td>IT</td></tr></tbody></table></div>"
      ]
     },
     "metadata": {
      "application/vnd.databricks.v1+output": {
       "addedWidgets": {},
       "aggData": [],
       "aggError": "",
       "aggOverflow": false,
       "aggSchema": [],
       "aggSeriesLimitReached": false,
       "aggType": "",
       "arguments": {},
       "columnCustomDisplayInfos": {},
       "data": [
        [
         4,
         "Emily Davis",
         "Female",
         7000,
         "Marketing"
        ],
        [
         3,
         "Michael Johnson",
         "F",
         5500,
         "Finance"
        ],
        [
         7,
         "David Brown",
         "Male",
         5300,
         "Finance"
        ],
        [
         6,
         "Emma Wilson",
         "Female",
         5000,
         "sales"
        ],
        [
         2,
         "Jane Smith",
         "Female",
         6000,
         "HR"
        ],
        [
         5,
         "Chris Lee",
         "Male",
         4800,
         "IT"
        ],
        [
         1,
         "John Doe",
         "Male",
         5000,
         "IT"
        ]
       ],
       "datasetInfos": [],
       "dbfsResultPath": null,
       "isJsonSchema": true,
       "metadata": {},
       "overflow": false,
       "plotOptions": {
        "customPlotOptions": {},
        "displayType": "table",
        "pivotAggregation": null,
        "pivotColumns": null,
        "xColumns": null,
        "yColumns": null
       },
       "removedWidgets": [],
       "schema": [
        {
         "metadata": "{}",
         "name": "emp_id",
         "type": "\"integer\""
        },
        {
         "metadata": "{}",
         "name": "emp_name",
         "type": "\"string\""
        },
        {
         "metadata": "{}",
         "name": "gender",
         "type": "\"string\""
        },
        {
         "metadata": "{}",
         "name": "sal",
         "type": "\"integer\""
        },
        {
         "metadata": "{}",
         "name": "dept",
         "type": "\"string\""
        }
       ],
       "type": "table"
      }
     },
     "output_type": "display_data"
    }
   ],
   "source": [
    "%sql\n",
    "select * from employee_demo;"
   ]
  },
  {
   "cell_type": "code",
   "execution_count": 0,
   "metadata": {
    "application/vnd.databricks.v1+cell": {
     "cellMetadata": {
      "byteLimit": 2048000,
      "rowLimit": 10000
     },
     "inputWidgets": {},
     "nuid": "079cdc96-c5cb-4435-b668-0e6b869e7988",
     "showTitle": false,
     "title": ""
    }
   },
   "outputs": [],
   "source": [
    "emp_df=emp_table_instance.toDF()"
   ]
  },
  {
   "cell_type": "code",
   "execution_count": 0,
   "metadata": {
    "application/vnd.databricks.v1+cell": {
     "cellMetadata": {
      "byteLimit": 2048000,
      "rowLimit": 10000
     },
     "inputWidgets": {},
     "nuid": "4da44908-8b28-46c4-973c-b7b891bbd1b1",
     "showTitle": false,
     "title": ""
    }
   },
   "outputs": [
    {
     "output_type": "stream",
     "name": "stdout",
     "output_type": "stream",
     "text": [
      "+------+---------------+------+----+---------+\n|emp_id|       emp_name|gender| sal|     dept|\n+------+---------------+------+----+---------+\n|     4|    Emily Davis|Female|7000|Marketing|\n|     3|Michael Johnson|     F|5500|Economics|\n|     6|    Emma Wilson|Female|5000|    sales|\n|     7|    David Brown|  Male|5300|Economics|\n|     2|     Jane Smith|Female|6000|       HR|\n|     5|      Chris Lee|  Male|4800|       IT|\n|     1|       John Doe|  Male|5000|       IT|\n+------+---------------+------+----+---------+\n\n"
     ]
    }
   ],
   "source": [
    "emp_df=emp_df.withColumn('dept',when(col('dept')=='Finance','Economics').otherwise(col('dept')))\n",
    "\n",
    "emp_df.show(7)"
   ]
  },
  {
   "cell_type": "code",
   "execution_count": 0,
   "metadata": {
    "application/vnd.databricks.v1+cell": {
     "cellMetadata": {},
     "inputWidgets": {},
     "nuid": "b46f5629-5579-4033-9179-dbfccaf84dfc",
     "showTitle": false,
     "title": ""
    }
   },
   "outputs": [],
   "source": []
  }
 ],
 "metadata": {
  "application/vnd.databricks.v1+notebook": {
   "dashboards": [],
   "environmentMetadata": null,
   "language": "python",
   "notebookMetadata": {
    "mostRecentlyExecutedCommandWithImplicitDF": {
     "commandId": 4218367033587792,
     "dataframes": [
      "_sqldf"
     ]
    },
    "pythonIndentUnit": 4
   },
   "notebookName": "5->Update Delta Table",
   "widgets": {}
  }
 },
 "nbformat": 4,
 "nbformat_minor": 0
}
