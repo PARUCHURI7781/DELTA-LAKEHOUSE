{
 "cells": [
  {
   "cell_type": "code",
   "execution_count": 0,
   "metadata": {
    "application/vnd.databricks.v1+cell": {
     "cellMetadata": {
      "byteLimit": 2048000,
      "rowLimit": 10000
     },
     "inputWidgets": {},
     "nuid": "3c17fb66-3350-4bea-8b12-8cec1c77604f",
     "showTitle": false,
     "title": ""
    }
   },
   "outputs": [],
   "source": [
    "from delta.tables import *"
   ]
  },
  {
   "cell_type": "code",
   "execution_count": 0,
   "metadata": {
    "application/vnd.databricks.v1+cell": {
     "cellMetadata": {
      "byteLimit": 2048000,
      "implicitDf": true,
      "rowLimit": 10000
     },
     "inputWidgets": {},
     "nuid": "57df48ea-b081-4513-9e8b-514966810e9b",
     "showTitle": false,
     "title": ""
    }
   },
   "outputs": [
    {
     "output_type": "display_data",
     "data": {
      "text/html": [
       "<style scoped>\n",
       "  .table-result-container {\n",
       "    max-height: 300px;\n",
       "    overflow: auto;\n",
       "  }\n",
       "  table, th, td {\n",
       "    border: 1px solid black;\n",
       "    border-collapse: collapse;\n",
       "  }\n",
       "  th, td {\n",
       "    padding: 5px;\n",
       "  }\n",
       "  th {\n",
       "    text-align: left;\n",
       "  }\n",
       "</style><div class='table-result-container'><table class='table-result'><thead style='background-color: white'><tr></tr></thead><tbody></tbody></table></div>"
      ]
     },
     "metadata": {
      "application/vnd.databricks.v1+output": {
       "addedWidgets": {},
       "aggData": [],
       "aggError": "",
       "aggOverflow": false,
       "aggSchema": [],
       "aggSeriesLimitReached": false,
       "aggType": "",
       "arguments": {},
       "columnCustomDisplayInfos": {},
       "data": [],
       "datasetInfos": [],
       "dbfsResultPath": null,
       "isJsonSchema": true,
       "metadata": {},
       "overflow": false,
       "plotOptions": {
        "customPlotOptions": {},
        "displayType": "table",
        "pivotAggregation": null,
        "pivotColumns": null,
        "xColumns": null,
        "yColumns": null
       },
       "removedWidgets": [],
       "schema": [],
       "type": "table"
      }
     },
     "output_type": "display_data"
    }
   ],
   "source": [
    "%sql\n",
    "\n",
    "CREATE TABLE column_reordering_table (\n",
    "     col_1 LONG, col_2 LONG, col_3 LONG, col_4 LONG, col_5 LONG,\n",
    "    col_6 LONG, col_7 LONG, col_8 LONG, col_9 LONG, col_10 LONG,\n",
    "    col_11 LONG, col_12 LONG, col_13 LONG, col_14 LONG, col_15 LONG,\n",
    "    col_16 LONG, col_17 LONG, col_18 LONG, col_19 LONG, col_20 LONG,\n",
    "    col_21 LONG, col_22 LONG, col_23 LONG, col_24 LONG, col_25 LONG,\n",
    "    col_26 LONG, col_27 LONG, col_28 LONG, col_29 LONG, col_30 LONG,\n",
    "    col_31 LONG, col_32 LONG, col_33 LONG, col_34 LONG, col_35 LONG\n",
    ") USING DELTA \n",
    "  location \"/FileStore/tables/column_reordering_example\""
   ]
  },
  {
   "cell_type": "code",
   "execution_count": 0,
   "metadata": {
    "application/vnd.databricks.v1+cell": {
     "cellMetadata": {
      "byteLimit": 2048000,
      "rowLimit": 10000
     },
     "inputWidgets": {},
     "nuid": "27564bdc-35ba-4a06-b285-10eca4ee0cbf",
     "showTitle": false,
     "title": ""
    }
   },
   "outputs": [
    {
     "output_type": "display_data",
     "data": {
      "text/html": [
       "<style scoped>\n",
       "  .table-result-container {\n",
       "    max-height: 300px;\n",
       "    overflow: auto;\n",
       "  }\n",
       "  table, th, td {\n",
       "    border: 1px solid black;\n",
       "    border-collapse: collapse;\n",
       "  }\n",
       "  th, td {\n",
       "    padding: 5px;\n",
       "  }\n",
       "  th {\n",
       "    text-align: left;\n",
       "  }\n",
       "</style><div class='table-result-container'><table class='table-result'><thead style='background-color: white'><tr><th>path</th><th>name</th><th>size</th><th>modificationTime</th></tr></thead><tbody><tr><td>dbfs:/FileStore/tables/Orders-1.csv</td><td>Orders-1.csv</td><td>2999944</td><td>1707786176000</td></tr><tr><td>dbfs:/FileStore/tables/Orders-2.csv</td><td>Orders-2.csv</td><td>2999944</td><td>1708391822000</td></tr><tr><td>dbfs:/FileStore/tables/Orders.csv</td><td>Orders.csv</td><td>2999944</td><td>1707784189000</td></tr><tr><td>dbfs:/FileStore/tables/Orders.json</td><td>Orders.json</td><td>6512890</td><td>1708548627000</td></tr><tr><td>dbfs:/FileStore/tables/address.parquet</td><td>address.parquet</td><td>622007</td><td>1653541015000</td></tr><tr><td>dbfs:/FileStore/tables/airportCodes.csv</td><td>airportCodes.csv</td><td>564</td><td>1708262989000</td></tr><tr><td>dbfs:/FileStore/tables/auto_loan.csv</td><td>auto_loan.csv</td><td>72976</td><td>1709158987000</td></tr><tr><td>dbfs:/FileStore/tables/auto_loan.json</td><td>auto_loan.json</td><td>137</td><td>1709159419000</td></tr><tr><td>dbfs:/FileStore/tables/categories.csv</td><td>categories.csv</td><td>1029</td><td>1707784157000</td></tr><tr><td>dbfs:/FileStore/tables/categories.json</td><td>categories.json</td><td>2329</td><td>1708548600000</td></tr><tr><td>dbfs:/FileStore/tables/column_reordering/</td><td>column_reordering/</td><td>0</td><td>0</td></tr><tr><td>dbfs:/FileStore/tables/complex_log_data.txt</td><td>complex_log_data.txt</td><td>503841</td><td>1709083592000</td></tr><tr><td>dbfs:/FileStore/tables/customer.json</td><td>customer.json</td><td>40315809</td><td>1653283002000</td></tr><tr><td>dbfs:/FileStore/tables/customer_complete_detais/</td><td>customer_complete_detais/</td><td>0</td><td>0</td></tr><tr><td>dbfs:/FileStore/tables/customer_records.json</td><td>customer_records.json</td><td>45089291</td><td>1707517243000</td></tr><tr><td>dbfs:/FileStore/tables/customers-1.json</td><td>customers-1.json</td><td>2385828</td><td>1708549917000</td></tr><tr><td>dbfs:/FileStore/tables/customers.csv</td><td>customers.csv</td><td>953719</td><td>1707784164000</td></tr><tr><td>dbfs:/FileStore/tables/customers.json</td><td>customers.json</td><td>2385828</td><td>1708548607000</td></tr><tr><td>dbfs:/FileStore/tables/customers_corrected.json</td><td>customers_corrected.json</td><td>2261674</td><td>1708550137000</td></tr><tr><td>dbfs:/FileStore/tables/delta/</td><td>delta/</td><td>0</td><td>0</td></tr><tr><td>dbfs:/FileStore/tables/departments-1.csv</td><td>departments-1.csv</td><td>709</td><td>1707754576000</td></tr><tr><td>dbfs:/FileStore/tables/departments-2.csv</td><td>departments-2.csv</td><td>60</td><td>1707784167000</td></tr><tr><td>dbfs:/FileStore/tables/departments.csv</td><td>departments.csv</td><td>709</td><td>1707747887000</td></tr><tr><td>dbfs:/FileStore/tables/departments.json</td><td>departments.json</td><td>141</td><td>1708548607000</td></tr><tr><td>dbfs:/FileStore/tables/ebook.txt</td><td>ebook.txt</td><td>69513</td><td>1708993458000</td></tr><tr><td>dbfs:/FileStore/tables/flight_data_10k.csv</td><td>flight_data_10k.csv</td><td>1149578</td><td>1707937558000</td></tr><tr><td>dbfs:/FileStore/tables/flight_time.json</td><td>flight_time.json</td><td>86850442</td><td>1718058323000</td></tr><tr><td>dbfs:/FileStore/tables/healthcare_dataset_stroke_data.csv</td><td>healthcare_dataset_stroke_data.csv</td><td>316971</td><td>1709070760000</td></tr><tr><td>dbfs:/FileStore/tables/healthcare_dataset_stroke_data_csv.csv</td><td>healthcare_dataset_stroke_data_csv.csv</td><td>316971</td><td>1652437787000</td></tr><tr><td>dbfs:/FileStore/tables/item.dat</td><td>item.dat</td><td>9431085</td><td>1653567665000</td></tr><tr><td>dbfs:/FileStore/tables/library_data.csv</td><td>library_data.csv</td><td>7795</td><td>1710027542000</td></tr><tr><td>dbfs:/FileStore/tables/nyse_daily.tsv</td><td>nyse_daily.tsv</td><td>3194098</td><td>1709003166000</td></tr><tr><td>dbfs:/FileStore/tables/nyse_dividends.tsv</td><td>nyse_dividends.tsv</td><td>17026</td><td>1709003161000</td></tr><tr><td>dbfs:/FileStore/tables/olympics_data___olympics_data_csv.csv</td><td>olympics_data___olympics_data_csv.csv</td><td>45113</td><td>1708898322000</td></tr><tr><td>dbfs:/FileStore/tables/order_items-1.csv</td><td>order_items-1.csv</td><td>5408880</td><td>1707786121000</td></tr><tr><td>dbfs:/FileStore/tables/order_items.csv</td><td>order_items.csv</td><td>5408880</td><td>1707784187000</td></tr><tr><td>dbfs:/FileStore/tables/order_items.json</td><td>order_items.json</td><td>12985525</td><td>1708548623000</td></tr><tr><td>dbfs:/FileStore/tables/parquet_op_1/</td><td>parquet_op_1/</td><td>0</td><td>0</td></tr><tr><td>dbfs:/FileStore/tables/parquet_op_2/</td><td>parquet_op_2/</td><td>0</td><td>0</td></tr><tr><td>dbfs:/FileStore/tables/partitioned_order/</td><td>partitioned_order/</td><td>0</td><td>0</td></tr><tr><td>dbfs:/FileStore/tables/partitioned_orders/</td><td>partitioned_orders/</td><td>0</td><td>0</td></tr><tr><td>dbfs:/FileStore/tables/partitioned_orders_/</td><td>partitioned_orders_/</td><td>0</td><td>0</td></tr><tr><td>dbfs:/FileStore/tables/people-1.json</td><td>people-1.json</td><td>257</td><td>1718119096000</td></tr><tr><td>dbfs:/FileStore/tables/people.json</td><td>people.json</td><td>73</td><td>1653022885000</td></tr><tr><td>dbfs:/FileStore/tables/people_2.json</td><td>people_2.json</td><td>164</td><td>1718119099000</td></tr><tr><td>dbfs:/FileStore/tables/people_3.json</td><td>people_3.json</td><td>166</td><td>1718119102000</td></tr><tr><td>dbfs:/FileStore/tables/products.csv</td><td>products.csv</td><td>174155</td><td>1707784190000</td></tr><tr><td>dbfs:/FileStore/tables/products.json</td><td>products.json</td><td>417182</td><td>1708548630000</td></tr><tr><td>dbfs:/FileStore/tables/pyspark_practice.csv</td><td>pyspark_practice.csv</td><td>104674</td><td>1707761575000</td></tr><tr><td>dbfs:/FileStore/tables/sample_web_activity_data.csv</td><td>sample_web_activity_data.csv</td><td>498</td><td>1709080907000</td></tr><tr><td>dbfs:/FileStore/tables/weather-1.csv</td><td>weather-1.csv</td><td>2079</td><td>1708998488000</td></tr><tr><td>dbfs:/FileStore/tables/weather.csv</td><td>weather.csv</td><td>2079</td><td>1708982328000</td></tr><tr><td>dbfs:/FileStore/tables/web_sales.csv</td><td>web_sales.csv</td><td>146169257</td><td>1653281464000</td></tr><tr><td>dbfs:/FileStore/tables/zips_city.csv</td><td>zips_city.csv</td><td>158</td><td>1708998353000</td></tr></tbody></table></div>"
      ]
     },
     "metadata": {
      "application/vnd.databricks.v1+output": {
       "addedWidgets": {},
       "aggData": [],
       "aggError": "",
       "aggOverflow": false,
       "aggSchema": [],
       "aggSeriesLimitReached": false,
       "aggType": "",
       "arguments": {},
       "columnCustomDisplayInfos": {},
       "data": [
        [
         "dbfs:/FileStore/tables/Orders-1.csv",
         "Orders-1.csv",
         2999944,
         1707786176000
        ],
        [
         "dbfs:/FileStore/tables/Orders-2.csv",
         "Orders-2.csv",
         2999944,
         1708391822000
        ],
        [
         "dbfs:/FileStore/tables/Orders.csv",
         "Orders.csv",
         2999944,
         1707784189000
        ],
        [
         "dbfs:/FileStore/tables/Orders.json",
         "Orders.json",
         6512890,
         1708548627000
        ],
        [
         "dbfs:/FileStore/tables/address.parquet",
         "address.parquet",
         622007,
         1653541015000
        ],
        [
         "dbfs:/FileStore/tables/airportCodes.csv",
         "airportCodes.csv",
         564,
         1708262989000
        ],
        [
         "dbfs:/FileStore/tables/auto_loan.csv",
         "auto_loan.csv",
         72976,
         1709158987000
        ],
        [
         "dbfs:/FileStore/tables/auto_loan.json",
         "auto_loan.json",
         137,
         1709159419000
        ],
        [
         "dbfs:/FileStore/tables/categories.csv",
         "categories.csv",
         1029,
         1707784157000
        ],
        [
         "dbfs:/FileStore/tables/categories.json",
         "categories.json",
         2329,
         1708548600000
        ],
        [
         "dbfs:/FileStore/tables/column_reordering/",
         "column_reordering/",
         0,
         0
        ],
        [
         "dbfs:/FileStore/tables/complex_log_data.txt",
         "complex_log_data.txt",
         503841,
         1709083592000
        ],
        [
         "dbfs:/FileStore/tables/customer.json",
         "customer.json",
         40315809,
         1653283002000
        ],
        [
         "dbfs:/FileStore/tables/customer_complete_detais/",
         "customer_complete_detais/",
         0,
         0
        ],
        [
         "dbfs:/FileStore/tables/customer_records.json",
         "customer_records.json",
         45089291,
         1707517243000
        ],
        [
         "dbfs:/FileStore/tables/customers-1.json",
         "customers-1.json",
         2385828,
         1708549917000
        ],
        [
         "dbfs:/FileStore/tables/customers.csv",
         "customers.csv",
         953719,
         1707784164000
        ],
        [
         "dbfs:/FileStore/tables/customers.json",
         "customers.json",
         2385828,
         1708548607000
        ],
        [
         "dbfs:/FileStore/tables/customers_corrected.json",
         "customers_corrected.json",
         2261674,
         1708550137000
        ],
        [
         "dbfs:/FileStore/tables/delta/",
         "delta/",
         0,
         0
        ],
        [
         "dbfs:/FileStore/tables/departments-1.csv",
         "departments-1.csv",
         709,
         1707754576000
        ],
        [
         "dbfs:/FileStore/tables/departments-2.csv",
         "departments-2.csv",
         60,
         1707784167000
        ],
        [
         "dbfs:/FileStore/tables/departments.csv",
         "departments.csv",
         709,
         1707747887000
        ],
        [
         "dbfs:/FileStore/tables/departments.json",
         "departments.json",
         141,
         1708548607000
        ],
        [
         "dbfs:/FileStore/tables/ebook.txt",
         "ebook.txt",
         69513,
         1708993458000
        ],
        [
         "dbfs:/FileStore/tables/flight_data_10k.csv",
         "flight_data_10k.csv",
         1149578,
         1707937558000
        ],
        [
         "dbfs:/FileStore/tables/flight_time.json",
         "flight_time.json",
         86850442,
         1718058323000
        ],
        [
         "dbfs:/FileStore/tables/healthcare_dataset_stroke_data.csv",
         "healthcare_dataset_stroke_data.csv",
         316971,
         1709070760000
        ],
        [
         "dbfs:/FileStore/tables/healthcare_dataset_stroke_data_csv.csv",
         "healthcare_dataset_stroke_data_csv.csv",
         316971,
         1652437787000
        ],
        [
         "dbfs:/FileStore/tables/item.dat",
         "item.dat",
         9431085,
         1653567665000
        ],
        [
         "dbfs:/FileStore/tables/library_data.csv",
         "library_data.csv",
         7795,
         1710027542000
        ],
        [
         "dbfs:/FileStore/tables/nyse_daily.tsv",
         "nyse_daily.tsv",
         3194098,
         1709003166000
        ],
        [
         "dbfs:/FileStore/tables/nyse_dividends.tsv",
         "nyse_dividends.tsv",
         17026,
         1709003161000
        ],
        [
         "dbfs:/FileStore/tables/olympics_data___olympics_data_csv.csv",
         "olympics_data___olympics_data_csv.csv",
         45113,
         1708898322000
        ],
        [
         "dbfs:/FileStore/tables/order_items-1.csv",
         "order_items-1.csv",
         5408880,
         1707786121000
        ],
        [
         "dbfs:/FileStore/tables/order_items.csv",
         "order_items.csv",
         5408880,
         1707784187000
        ],
        [
         "dbfs:/FileStore/tables/order_items.json",
         "order_items.json",
         12985525,
         1708548623000
        ],
        [
         "dbfs:/FileStore/tables/parquet_op_1/",
         "parquet_op_1/",
         0,
         0
        ],
        [
         "dbfs:/FileStore/tables/parquet_op_2/",
         "parquet_op_2/",
         0,
         0
        ],
        [
         "dbfs:/FileStore/tables/partitioned_order/",
         "partitioned_order/",
         0,
         0
        ],
        [
         "dbfs:/FileStore/tables/partitioned_orders/",
         "partitioned_orders/",
         0,
         0
        ],
        [
         "dbfs:/FileStore/tables/partitioned_orders_/",
         "partitioned_orders_/",
         0,
         0
        ],
        [
         "dbfs:/FileStore/tables/people-1.json",
         "people-1.json",
         257,
         1718119096000
        ],
        [
         "dbfs:/FileStore/tables/people.json",
         "people.json",
         73,
         1653022885000
        ],
        [
         "dbfs:/FileStore/tables/people_2.json",
         "people_2.json",
         164,
         1718119099000
        ],
        [
         "dbfs:/FileStore/tables/people_3.json",
         "people_3.json",
         166,
         1718119102000
        ],
        [
         "dbfs:/FileStore/tables/products.csv",
         "products.csv",
         174155,
         1707784190000
        ],
        [
         "dbfs:/FileStore/tables/products.json",
         "products.json",
         417182,
         1708548630000
        ],
        [
         "dbfs:/FileStore/tables/pyspark_practice.csv",
         "pyspark_practice.csv",
         104674,
         1707761575000
        ],
        [
         "dbfs:/FileStore/tables/sample_web_activity_data.csv",
         "sample_web_activity_data.csv",
         498,
         1709080907000
        ],
        [
         "dbfs:/FileStore/tables/weather-1.csv",
         "weather-1.csv",
         2079,
         1708998488000
        ],
        [
         "dbfs:/FileStore/tables/weather.csv",
         "weather.csv",
         2079,
         1708982328000
        ],
        [
         "dbfs:/FileStore/tables/web_sales.csv",
         "web_sales.csv",
         146169257,
         1653281464000
        ],
        [
         "dbfs:/FileStore/tables/zips_city.csv",
         "zips_city.csv",
         158,
         1708998353000
        ]
       ],
       "datasetInfos": [],
       "dbfsResultPath": null,
       "isJsonSchema": true,
       "metadata": {
        "isDbfsCommandResult": false
       },
       "overflow": false,
       "plotOptions": {
        "customPlotOptions": {},
        "displayType": "table",
        "pivotAggregation": null,
        "pivotColumns": null,
        "xColumns": null,
        "yColumns": null
       },
       "removedWidgets": [],
       "schema": [
        {
         "metadata": "{}",
         "name": "path",
         "type": "\"string\""
        },
        {
         "metadata": "{}",
         "name": "name",
         "type": "\"string\""
        },
        {
         "metadata": "{}",
         "name": "size",
         "type": "\"long\""
        },
        {
         "metadata": "{}",
         "name": "modificationTime",
         "type": "\"long\""
        }
       ],
       "type": "table"
      }
     },
     "output_type": "display_data"
    }
   ],
   "source": [
    "%fs\n",
    "\n",
    "ls /FileStore/tables/"
   ]
  },
  {
   "cell_type": "code",
   "execution_count": 0,
   "metadata": {
    "application/vnd.databricks.v1+cell": {
     "cellMetadata": {
      "byteLimit": 2048000,
      "rowLimit": 10000
     },
     "inputWidgets": {},
     "nuid": "bb3fcb8a-6642-41e8-ac1a-a6932bfd4014",
     "showTitle": false,
     "title": ""
    }
   },
   "outputs": [
    {
     "output_type": "stream",
     "name": "stdout",
     "output_type": "stream",
     "text": [
      "+-----+-----+-----+-----+-----+-----+-----+-----+-----+------+------+------+------+------+------+------+------+------+------+------+------+------+------+------+------+------+------+------+------+------+------+------+------+------+------+\n|col_1|col_2|col_3|col_4|col_5|col_6|col_7|col_8|col_9|col_10|col_11|col_12|col_13|col_14|col_15|col_16|col_17|col_18|col_19|col_20|col_21|col_22|col_23|col_24|col_25|col_26|col_27|col_28|col_29|col_30|col_31|col_32|col_33|col_34|col_35|\n+-----+-----+-----+-----+-----+-----+-----+-----+-----+------+------+------+------+------+------+------+------+------+------+------+------+------+------+------+------+------+------+------+------+------+------+------+------+------+------+\n|    1|    2|    3|    4|    5|    6|    7|    8|    9|    10|    11|    12|    13|    14|    15|    16|    17|    18|    19|    20|    21|    22|    23|    24|    25|    26|    27|    28|    29|    30|    31|    32|    33|    34|    35|\n|   10|   20|   30|   40|   50|   60|   70|   80|   90|   100|   110|   120|   130|   140|   150|   160|   170|   180|   190|   200|   210|   220|   230|   240|   250|   260|   270|   280|   290|   300|   310|   320|   330|   340|   350|\n+-----+-----+-----+-----+-----+-----+-----+-----+-----+------+------+------+------+------+------+------+------+------+------+------+------+------+------+------+------+------+------+------+------+------+------+------+------+------+------+\n\n"
     ]
    }
   ],
   "source": [
    "data=[(1, 2, 3, 4, 5, 6, 7, 8, 9, 10,11, 12, 13, 14, 15, 16, 17, 18, 19, 20,21, 22, 23, 24, 25, 26, 27, 28, 29, 30,31, 32, 33, 34, 35),\n",
    "      (10, 20, 30, 40, 50, 60, 70, 80, 90, 100,110, 120, 130, 140, 150, 160, 170, 180, 190, 200,210, 220, 230, 240, 250, 260, 270, 280, 290, 300,310, 320, 330, 340, 350)\n",
    "     ]\n",
    "\n",
    "columns=['col_1', 'col_2', 'col_3', 'col_4', 'col_5','col_6', 'col_7', 'col_8', 'col_9', 'col_10','col_11', 'col_12', 'col_13', 'col_14', 'col_15',\n",
    "         'col_16', 'col_17', 'col_18', 'col_19', 'col_20','col_21', 'col_22', 'col_23', 'col_24', 'col_25','col_26', 'col_27', 'col_28', 'col_29', 'col_30','col_31', 'col_32', 'col_33', 'col_34', 'col_35'\n",
    "        ] \n",
    "\n",
    "df=spark.createDataFrame(data,columns)\n",
    "\n",
    "df.show()"
   ]
  },
  {
   "cell_type": "code",
   "execution_count": 0,
   "metadata": {
    "application/vnd.databricks.v1+cell": {
     "cellMetadata": {
      "byteLimit": 2048000,
      "rowLimit": 10000
     },
     "inputWidgets": {},
     "nuid": "9a523442-8296-4f84-86ed-89990fcbf84c",
     "showTitle": false,
     "title": ""
    }
   },
   "outputs": [],
   "source": [
    "df.write.format('delta')\\\n",
    "        .mode(\"append\")\\\n",
    "        .saveAsTable('column_reordering_table')"
   ]
  },
  {
   "cell_type": "code",
   "execution_count": 0,
   "metadata": {
    "application/vnd.databricks.v1+cell": {
     "cellMetadata": {
      "byteLimit": 2048000,
      "implicitDf": true,
      "rowLimit": 10000
     },
     "inputWidgets": {},
     "nuid": "ae10da72-edc0-42cd-b47c-1dfa5282378a",
     "showTitle": false,
     "title": ""
    }
   },
   "outputs": [
    {
     "output_type": "display_data",
     "data": {
      "text/html": [
       "<style scoped>\n",
       "  .table-result-container {\n",
       "    max-height: 300px;\n",
       "    overflow: auto;\n",
       "  }\n",
       "  table, th, td {\n",
       "    border: 1px solid black;\n",
       "    border-collapse: collapse;\n",
       "  }\n",
       "  th, td {\n",
       "    padding: 5px;\n",
       "  }\n",
       "  th {\n",
       "    text-align: left;\n",
       "  }\n",
       "</style><div class='table-result-container'><table class='table-result'><thead style='background-color: white'><tr><th>col_1</th><th>col_2</th><th>col_3</th><th>col_4</th><th>col_5</th><th>col_6</th><th>col_7</th><th>col_8</th><th>col_9</th><th>col_10</th><th>col_11</th><th>col_12</th><th>col_13</th><th>col_14</th><th>col_15</th><th>col_16</th><th>col_17</th><th>col_18</th><th>col_19</th><th>col_20</th><th>col_21</th><th>col_22</th><th>col_23</th><th>col_24</th><th>col_25</th><th>col_26</th><th>col_27</th><th>col_28</th><th>col_29</th><th>col_30</th><th>col_31</th><th>col_32</th><th>col_33</th><th>col_34</th><th>col_35</th></tr></thead><tbody><tr><td>1</td><td>2</td><td>3</td><td>4</td><td>5</td><td>6</td><td>7</td><td>8</td><td>9</td><td>10</td><td>11</td><td>12</td><td>13</td><td>14</td><td>15</td><td>16</td><td>17</td><td>18</td><td>19</td><td>20</td><td>21</td><td>22</td><td>23</td><td>24</td><td>25</td><td>26</td><td>27</td><td>28</td><td>29</td><td>30</td><td>31</td><td>32</td><td>33</td><td>34</td><td>35</td></tr><tr><td>10</td><td>20</td><td>30</td><td>40</td><td>50</td><td>60</td><td>70</td><td>80</td><td>90</td><td>100</td><td>110</td><td>120</td><td>130</td><td>140</td><td>150</td><td>160</td><td>170</td><td>180</td><td>190</td><td>200</td><td>210</td><td>220</td><td>230</td><td>240</td><td>250</td><td>260</td><td>270</td><td>280</td><td>290</td><td>300</td><td>310</td><td>320</td><td>330</td><td>340</td><td>350</td></tr></tbody></table></div>"
      ]
     },
     "metadata": {
      "application/vnd.databricks.v1+output": {
       "addedWidgets": {},
       "aggData": [],
       "aggError": "",
       "aggOverflow": false,
       "aggSchema": [],
       "aggSeriesLimitReached": false,
       "aggType": "",
       "arguments": {},
       "columnCustomDisplayInfos": {},
       "data": [
        [
         1,
         2,
         3,
         4,
         5,
         6,
         7,
         8,
         9,
         10,
         11,
         12,
         13,
         14,
         15,
         16,
         17,
         18,
         19,
         20,
         21,
         22,
         23,
         24,
         25,
         26,
         27,
         28,
         29,
         30,
         31,
         32,
         33,
         34,
         35
        ],
        [
         10,
         20,
         30,
         40,
         50,
         60,
         70,
         80,
         90,
         100,
         110,
         120,
         130,
         140,
         150,
         160,
         170,
         180,
         190,
         200,
         210,
         220,
         230,
         240,
         250,
         260,
         270,
         280,
         290,
         300,
         310,
         320,
         330,
         340,
         350
        ]
       ],
       "datasetInfos": [],
       "dbfsResultPath": null,
       "isJsonSchema": true,
       "metadata": {},
       "overflow": false,
       "plotOptions": {
        "customPlotOptions": {},
        "displayType": "table",
        "pivotAggregation": null,
        "pivotColumns": null,
        "xColumns": null,
        "yColumns": null
       },
       "removedWidgets": [],
       "schema": [
        {
         "metadata": "{}",
         "name": "col_1",
         "type": "\"long\""
        },
        {
         "metadata": "{}",
         "name": "col_2",
         "type": "\"long\""
        },
        {
         "metadata": "{}",
         "name": "col_3",
         "type": "\"long\""
        },
        {
         "metadata": "{}",
         "name": "col_4",
         "type": "\"long\""
        },
        {
         "metadata": "{}",
         "name": "col_5",
         "type": "\"long\""
        },
        {
         "metadata": "{}",
         "name": "col_6",
         "type": "\"long\""
        },
        {
         "metadata": "{}",
         "name": "col_7",
         "type": "\"long\""
        },
        {
         "metadata": "{}",
         "name": "col_8",
         "type": "\"long\""
        },
        {
         "metadata": "{}",
         "name": "col_9",
         "type": "\"long\""
        },
        {
         "metadata": "{}",
         "name": "col_10",
         "type": "\"long\""
        },
        {
         "metadata": "{}",
         "name": "col_11",
         "type": "\"long\""
        },
        {
         "metadata": "{}",
         "name": "col_12",
         "type": "\"long\""
        },
        {
         "metadata": "{}",
         "name": "col_13",
         "type": "\"long\""
        },
        {
         "metadata": "{}",
         "name": "col_14",
         "type": "\"long\""
        },
        {
         "metadata": "{}",
         "name": "col_15",
         "type": "\"long\""
        },
        {
         "metadata": "{}",
         "name": "col_16",
         "type": "\"long\""
        },
        {
         "metadata": "{}",
         "name": "col_17",
         "type": "\"long\""
        },
        {
         "metadata": "{}",
         "name": "col_18",
         "type": "\"long\""
        },
        {
         "metadata": "{}",
         "name": "col_19",
         "type": "\"long\""
        },
        {
         "metadata": "{}",
         "name": "col_20",
         "type": "\"long\""
        },
        {
         "metadata": "{}",
         "name": "col_21",
         "type": "\"long\""
        },
        {
         "metadata": "{}",
         "name": "col_22",
         "type": "\"long\""
        },
        {
         "metadata": "{}",
         "name": "col_23",
         "type": "\"long\""
        },
        {
         "metadata": "{}",
         "name": "col_24",
         "type": "\"long\""
        },
        {
         "metadata": "{}",
         "name": "col_25",
         "type": "\"long\""
        },
        {
         "metadata": "{}",
         "name": "col_26",
         "type": "\"long\""
        },
        {
         "metadata": "{}",
         "name": "col_27",
         "type": "\"long\""
        },
        {
         "metadata": "{}",
         "name": "col_28",
         "type": "\"long\""
        },
        {
         "metadata": "{}",
         "name": "col_29",
         "type": "\"long\""
        },
        {
         "metadata": "{}",
         "name": "col_30",
         "type": "\"long\""
        },
        {
         "metadata": "{}",
         "name": "col_31",
         "type": "\"long\""
        },
        {
         "metadata": "{}",
         "name": "col_32",
         "type": "\"long\""
        },
        {
         "metadata": "{}",
         "name": "col_33",
         "type": "\"long\""
        },
        {
         "metadata": "{}",
         "name": "col_34",
         "type": "\"long\""
        },
        {
         "metadata": "{}",
         "name": "col_35",
         "type": "\"long\""
        }
       ],
       "type": "table"
      }
     },
     "output_type": "display_data"
    }
   ],
   "source": [
    "%sql \n",
    "\n",
    "select * \n",
    "from column_reordering_table;"
   ]
  },
  {
   "cell_type": "code",
   "execution_count": 0,
   "metadata": {
    "application/vnd.databricks.v1+cell": {
     "cellMetadata": {
      "byteLimit": 2048000,
      "rowLimit": 10000
     },
     "inputWidgets": {},
     "nuid": "c42ce592-26c6-4d7d-acee-b0235a7593e2",
     "showTitle": false,
     "title": ""
    }
   },
   "outputs": [
    {
     "output_type": "display_data",
     "data": {
      "text/html": [
       "<style scoped>\n",
       "  .ansiout {\n",
       "    display: block;\n",
       "    unicode-bidi: embed;\n",
       "    white-space: pre-wrap;\n",
       "    word-wrap: break-word;\n",
       "    word-break: break-all;\n",
       "    font-family: \"Menlo\", \"Monaco\", \"Consolas\", \"Ubuntu Mono\", \"Source Code Pro\", monospace;\n",
       "    font-size: 13px;\n",
       "    color: #555;\n",
       "    margin-left: 4px;\n",
       "    line-height: 19px;\n",
       "  }\n",
       "</style>\n",
       "<div class=\"ansiout\">{&quot;commitInfo&quot;:{&quot;timestamp&quot;:1718138354041,&quot;userId&quot;:&quot;8432478468657958&quot;,&quot;userName&quot;:&quot;paruchuri7781@gmail.com&quot;,&quot;operation&quot;:&quot;WRITE&quot;,&quot;operationParameters&quot;:{&quot;mode&quot;:&quot;Append&quot;,&quot;partitionBy&quot;:&quot;[]&quot;},&quot;notebook&quot;:{&quot;notebookId&quot;:&quot;1505408737210300&quot;},&quot;clusterId&quot;:&quot;0611-194349-ryz6cr1c&quot;,&quot;readVersion&quot;:0,&quot;isolationLevel&quot;:&quot;WriteSerializable&quot;,&quot;isBlindAppend&quot;:true,&quot;operationMetrics&quot;:{&quot;numFiles&quot;:&quot;2&quot;,&quot;numOutputRows&quot;:&quot;2&quot;,&quot;numOutputBytes&quot;:&quot;18513&quot;},&quot;engineInfo&quot;:&quot;Databricks-Runtime/12.2.x-scala2.12&quot;,&quot;txnId&quot;:&quot;048ec28d-5f2e-4efa-b47a-ad6c69dc2940&quot;}}\n",
       "{&quot;add&quot;:{&quot;path&quot;:&quot;part-00003-29a98480-ec8d-4427-bef8-13459af2cdbf-c000.snappy.parquet&quot;,&quot;partitionValues&quot;:{},&quot;size&quot;:9257,&quot;modificationTime&quot;:1718138354000,&quot;dataChange&quot;:true,&quot;stats&quot;:&quot;{\\&quot;numRecords\\&quot;:1,\\&quot;minValues\\&quot;:{\\&quot;col_1\\&quot;:1,\\&quot;col_2\\&quot;:2,\\&quot;col_3\\&quot;:3,\\&quot;col_4\\&quot;:4,\\&quot;col_5\\&quot;:5,\\&quot;col_6\\&quot;:6,\\&quot;col_7\\&quot;:7,\\&quot;col_8\\&quot;:8,\\&quot;col_9\\&quot;:9,\\&quot;col_10\\&quot;:10,\\&quot;col_11\\&quot;:11,\\&quot;col_12\\&quot;:12,\\&quot;col_13\\&quot;:13,\\&quot;col_14\\&quot;:14,\\&quot;col_15\\&quot;:15,\\&quot;col_16\\&quot;:16,\\&quot;col_17\\&quot;:17,\\&quot;col_18\\&quot;:18,\\&quot;col_19\\&quot;:19,\\&quot;col_20\\&quot;:20,\\&quot;col_21\\&quot;:21,\\&quot;col_22\\&quot;:22,\\&quot;col_23\\&quot;:23,\\&quot;col_24\\&quot;:24,\\&quot;col_25\\&quot;:25,\\&quot;col_26\\&quot;:26,\\&quot;col_27\\&quot;:27,\\&quot;col_28\\&quot;:28,\\&quot;col_29\\&quot;:29,\\&quot;col_30\\&quot;:30,\\&quot;col_31\\&quot;:31,\\&quot;col_32\\&quot;:32},\\&quot;maxValues\\&quot;:{\\&quot;col_1\\&quot;:1,\\&quot;col_2\\&quot;:2,\\&quot;col_3\\&quot;:3,\\&quot;col_4\\&quot;:4,\\&quot;col_5\\&quot;:5,\\&quot;col_6\\&quot;:6,\\&quot;col_7\\&quot;:7,\\&quot;col_8\\&quot;:8,\\&quot;col_9\\&quot;:9,\\&quot;col_10\\&quot;:10,\\&quot;col_11\\&quot;:11,\\&quot;col_12\\&quot;:12,\\&quot;col_13\\&quot;:13,\\&quot;col_14\\&quot;:14,\\&quot;col_15\\&quot;:15,\\&quot;col_16\\&quot;:16,\\&quot;col_17\\&quot;:17,\\&quot;col_18\\&quot;:18,\\&quot;col_19\\&quot;:19,\\&quot;col_20\\&quot;:20,\\&quot;col_21\\&quot;:21,\\&quot;col_22\\&quot;:22,\\&quot;col_23\\&quot;:23,\\&quot;col_24\\&quot;:24,\\&quot;col_25\\&quot;:25,\\&quot;col_26\\&quot;:26,\\&quot;col_27\\&quot;:27,\\&quot;col_28\\&quot;:28,\\&quot;col_29\\&quot;:29,\\&quot;col_30\\&quot;:30,\\&quot;col_31\\&quot;:31,\\&quot;col_32\\&quot;:32},\\&quot;nullCount\\&quot;:{\\&quot;col_1\\&quot;:0,\\&quot;col_2\\&quot;:0,\\&quot;col_3\\&quot;:0,\\&quot;col_4\\&quot;:0,\\&quot;col_5\\&quot;:0,\\&quot;col_6\\&quot;:0,\\&quot;col_7\\&quot;:0,\\&quot;col_8\\&quot;:0,\\&quot;col_9\\&quot;:0,\\&quot;col_10\\&quot;:0,\\&quot;col_11\\&quot;:0,\\&quot;col_12\\&quot;:0,\\&quot;col_13\\&quot;:0,\\&quot;col_14\\&quot;:0,\\&quot;col_15\\&quot;:0,\\&quot;col_16\\&quot;:0,\\&quot;col_17\\&quot;:0,\\&quot;col_18\\&quot;:0,\\&quot;col_19\\&quot;:0,\\&quot;col_20\\&quot;:0,\\&quot;col_21\\&quot;:0,\\&quot;col_22\\&quot;:0,\\&quot;col_23\\&quot;:0,\\&quot;col_24\\&quot;:0,\\&quot;col_25\\&quot;:0,\\&quot;col_26\\&quot;:0,\\&quot;col_27\\&quot;:0,\\&quot;col_28\\&quot;:0,\\&quot;col_29\\&quot;:0,\\&quot;col_30\\&quot;:0,\\&quot;col_31\\&quot;:0,\\&quot;col_32\\&quot;:0}}&quot;,&quot;tags&quot;:{&quot;INSERTION_TIME&quot;:&quot;1718138354000000&quot;,&quot;MIN_INSERTION_TIME&quot;:&quot;1718138354000000&quot;,&quot;MAX_INSERTION_TIME&quot;:&quot;1718138354000000&quot;,&quot;OPTIMIZE_TARGET_SIZE&quot;:&quot;268435456&quot;}}}\n",
       "{&quot;add&quot;:{&quot;path&quot;:&quot;part-00007-6a4c4764-b36f-4842-ac23-d1de1d09d54a-c000.snappy.parquet&quot;,&quot;partitionValues&quot;:{},&quot;size&quot;:9256,&quot;modificationTime&quot;:1718138354000,&quot;dataChange&quot;:true,&quot;stats&quot;:&quot;{\\&quot;numRecords\\&quot;:1,\\&quot;minValues\\&quot;:{\\&quot;col_1\\&quot;:10,\\&quot;col_2\\&quot;:20,\\&quot;col_3\\&quot;:30,\\&quot;col_4\\&quot;:40,\\&quot;col_5\\&quot;:50,\\&quot;col_6\\&quot;:60,\\&quot;col_7\\&quot;:70,\\&quot;col_8\\&quot;:80,\\&quot;col_9\\&quot;:90,\\&quot;col_10\\&quot;:100,\\&quot;col_11\\&quot;:110,\\&quot;col_12\\&quot;:120,\\&quot;col_13\\&quot;:130,\\&quot;col_14\\&quot;:140,\\&quot;col_15\\&quot;:150,\\&quot;col_16\\&quot;:160,\\&quot;col_17\\&quot;:170,\\&quot;col_18\\&quot;:180,\\&quot;col_19\\&quot;:190,\\&quot;col_20\\&quot;:200,\\&quot;col_21\\&quot;:210,\\&quot;col_22\\&quot;:220,\\&quot;col_23\\&quot;:230,\\&quot;col_24\\&quot;:240,\\&quot;col_25\\&quot;:250,\\&quot;col_26\\&quot;:260,\\&quot;col_27\\&quot;:270,\\&quot;col_28\\&quot;:280,\\&quot;col_29\\&quot;:290,\\&quot;col_30\\&quot;:300,\\&quot;col_31\\&quot;:310,\\&quot;col_32\\&quot;:320},\\&quot;maxValues\\&quot;:{\\&quot;col_1\\&quot;:10,\\&quot;col_2\\&quot;:20,\\&quot;col_3\\&quot;:30,\\&quot;col_4\\&quot;:40,\\&quot;col_5\\&quot;:50,\\&quot;col_6\\&quot;:60,\\&quot;col_7\\&quot;:70,\\&quot;col_8\\&quot;:80,\\&quot;col_9\\&quot;:90,\\&quot;col_10\\&quot;:100,\\&quot;col_11\\&quot;:110,\\&quot;col_12\\&quot;:120,\\&quot;col_13\\&quot;:130,\\&quot;col_14\\&quot;:140,\\&quot;col_15\\&quot;:150,\\&quot;col_16\\&quot;:160,\\&quot;col_17\\&quot;:170,\\&quot;col_18\\&quot;:180,\\&quot;col_19\\&quot;:190,\\&quot;col_20\\&quot;:200,\\&quot;col_21\\&quot;:210,\\&quot;col_22\\&quot;:220,\\&quot;col_23\\&quot;:230,\\&quot;col_24\\&quot;:240,\\&quot;col_25\\&quot;:250,\\&quot;col_26\\&quot;:260,\\&quot;col_27\\&quot;:270,\\&quot;col_28\\&quot;:280,\\&quot;col_29\\&quot;:290,\\&quot;col_30\\&quot;:300,\\&quot;col_31\\&quot;:310,\\&quot;col_32\\&quot;:320},\\&quot;nullCount\\&quot;:{\\&quot;col_1\\&quot;:0,\\&quot;col_2\\&quot;:0,\\&quot;col_3\\&quot;:0,\\&quot;col_4\\&quot;:0,\\&quot;col_5\\&quot;:0,\\&quot;col_6\\&quot;:0,\\&quot;col_7\\&quot;:0,\\&quot;col_8\\&quot;:0,\\&quot;col_9\\&quot;:0,\\&quot;col_10\\&quot;:0,\\&quot;col_11\\&quot;:0,\\&quot;col_12\\&quot;:0,\\&quot;col_13\\&quot;:0,\\&quot;col_14\\&quot;:0,\\&quot;col_15\\&quot;:0,\\&quot;col_16\\&quot;:0,\\&quot;col_17\\&quot;:0,\\&quot;col_18\\&quot;:0,\\&quot;col_19\\&quot;:0,\\&quot;col_20\\&quot;:0,\\&quot;col_21\\&quot;:0,\\&quot;col_22\\&quot;:0,\\&quot;col_23\\&quot;:0,\\&quot;col_24\\&quot;:0,\\&quot;col_25\\&quot;:0,\\&quot;col_26\\&quot;:0,\\&quot;col_27\\&quot;:0,\\&quot;col_28\\&quot;:0,\\&quot;col_29\\&quot;:0,\\&quot;col_30\\&quot;:0,\\&quot;col_31\\&quot;:0,\\&quot;col_32\\&quot;:0}}&quot;,&quot;tags&quot;:{&quot;INSERTION_TIME&quot;:&quot;1718138354000001&quot;,&quot;MIN_INSERTION_TIME&quot;:&quot;1718138354000001&quot;,&quot;MAX_INSERTION_TIME&quot;:&quot;1718138354000001&quot;,&quot;OPTIMIZE_TARGET_SIZE&quot;:&quot;268435456&quot;}}}\n",
       "\n",
       "</div>"
      ]
     },
     "metadata": {
      "application/vnd.databricks.v1+output": {
       "addedWidgets": {},
       "arguments": {},
       "data": "<div class=\"ansiout\">{&quot;commitInfo&quot;:{&quot;timestamp&quot;:1718138354041,&quot;userId&quot;:&quot;8432478468657958&quot;,&quot;userName&quot;:&quot;paruchuri7781@gmail.com&quot;,&quot;operation&quot;:&quot;WRITE&quot;,&quot;operationParameters&quot;:{&quot;mode&quot;:&quot;Append&quot;,&quot;partitionBy&quot;:&quot;[]&quot;},&quot;notebook&quot;:{&quot;notebookId&quot;:&quot;1505408737210300&quot;},&quot;clusterId&quot;:&quot;0611-194349-ryz6cr1c&quot;,&quot;readVersion&quot;:0,&quot;isolationLevel&quot;:&quot;WriteSerializable&quot;,&quot;isBlindAppend&quot;:true,&quot;operationMetrics&quot;:{&quot;numFiles&quot;:&quot;2&quot;,&quot;numOutputRows&quot;:&quot;2&quot;,&quot;numOutputBytes&quot;:&quot;18513&quot;},&quot;engineInfo&quot;:&quot;Databricks-Runtime/12.2.x-scala2.12&quot;,&quot;txnId&quot;:&quot;048ec28d-5f2e-4efa-b47a-ad6c69dc2940&quot;}}\n{&quot;add&quot;:{&quot;path&quot;:&quot;part-00003-29a98480-ec8d-4427-bef8-13459af2cdbf-c000.snappy.parquet&quot;,&quot;partitionValues&quot;:{},&quot;size&quot;:9257,&quot;modificationTime&quot;:1718138354000,&quot;dataChange&quot;:true,&quot;stats&quot;:&quot;{\\&quot;numRecords\\&quot;:1,\\&quot;minValues\\&quot;:{\\&quot;col_1\\&quot;:1,\\&quot;col_2\\&quot;:2,\\&quot;col_3\\&quot;:3,\\&quot;col_4\\&quot;:4,\\&quot;col_5\\&quot;:5,\\&quot;col_6\\&quot;:6,\\&quot;col_7\\&quot;:7,\\&quot;col_8\\&quot;:8,\\&quot;col_9\\&quot;:9,\\&quot;col_10\\&quot;:10,\\&quot;col_11\\&quot;:11,\\&quot;col_12\\&quot;:12,\\&quot;col_13\\&quot;:13,\\&quot;col_14\\&quot;:14,\\&quot;col_15\\&quot;:15,\\&quot;col_16\\&quot;:16,\\&quot;col_17\\&quot;:17,\\&quot;col_18\\&quot;:18,\\&quot;col_19\\&quot;:19,\\&quot;col_20\\&quot;:20,\\&quot;col_21\\&quot;:21,\\&quot;col_22\\&quot;:22,\\&quot;col_23\\&quot;:23,\\&quot;col_24\\&quot;:24,\\&quot;col_25\\&quot;:25,\\&quot;col_26\\&quot;:26,\\&quot;col_27\\&quot;:27,\\&quot;col_28\\&quot;:28,\\&quot;col_29\\&quot;:29,\\&quot;col_30\\&quot;:30,\\&quot;col_31\\&quot;:31,\\&quot;col_32\\&quot;:32},\\&quot;maxValues\\&quot;:{\\&quot;col_1\\&quot;:1,\\&quot;col_2\\&quot;:2,\\&quot;col_3\\&quot;:3,\\&quot;col_4\\&quot;:4,\\&quot;col_5\\&quot;:5,\\&quot;col_6\\&quot;:6,\\&quot;col_7\\&quot;:7,\\&quot;col_8\\&quot;:8,\\&quot;col_9\\&quot;:9,\\&quot;col_10\\&quot;:10,\\&quot;col_11\\&quot;:11,\\&quot;col_12\\&quot;:12,\\&quot;col_13\\&quot;:13,\\&quot;col_14\\&quot;:14,\\&quot;col_15\\&quot;:15,\\&quot;col_16\\&quot;:16,\\&quot;col_17\\&quot;:17,\\&quot;col_18\\&quot;:18,\\&quot;col_19\\&quot;:19,\\&quot;col_20\\&quot;:20,\\&quot;col_21\\&quot;:21,\\&quot;col_22\\&quot;:22,\\&quot;col_23\\&quot;:23,\\&quot;col_24\\&quot;:24,\\&quot;col_25\\&quot;:25,\\&quot;col_26\\&quot;:26,\\&quot;col_27\\&quot;:27,\\&quot;col_28\\&quot;:28,\\&quot;col_29\\&quot;:29,\\&quot;col_30\\&quot;:30,\\&quot;col_31\\&quot;:31,\\&quot;col_32\\&quot;:32},\\&quot;nullCount\\&quot;:{\\&quot;col_1\\&quot;:0,\\&quot;col_2\\&quot;:0,\\&quot;col_3\\&quot;:0,\\&quot;col_4\\&quot;:0,\\&quot;col_5\\&quot;:0,\\&quot;col_6\\&quot;:0,\\&quot;col_7\\&quot;:0,\\&quot;col_8\\&quot;:0,\\&quot;col_9\\&quot;:0,\\&quot;col_10\\&quot;:0,\\&quot;col_11\\&quot;:0,\\&quot;col_12\\&quot;:0,\\&quot;col_13\\&quot;:0,\\&quot;col_14\\&quot;:0,\\&quot;col_15\\&quot;:0,\\&quot;col_16\\&quot;:0,\\&quot;col_17\\&quot;:0,\\&quot;col_18\\&quot;:0,\\&quot;col_19\\&quot;:0,\\&quot;col_20\\&quot;:0,\\&quot;col_21\\&quot;:0,\\&quot;col_22\\&quot;:0,\\&quot;col_23\\&quot;:0,\\&quot;col_24\\&quot;:0,\\&quot;col_25\\&quot;:0,\\&quot;col_26\\&quot;:0,\\&quot;col_27\\&quot;:0,\\&quot;col_28\\&quot;:0,\\&quot;col_29\\&quot;:0,\\&quot;col_30\\&quot;:0,\\&quot;col_31\\&quot;:0,\\&quot;col_32\\&quot;:0}}&quot;,&quot;tags&quot;:{&quot;INSERTION_TIME&quot;:&quot;1718138354000000&quot;,&quot;MIN_INSERTION_TIME&quot;:&quot;1718138354000000&quot;,&quot;MAX_INSERTION_TIME&quot;:&quot;1718138354000000&quot;,&quot;OPTIMIZE_TARGET_SIZE&quot;:&quot;268435456&quot;}}}\n{&quot;add&quot;:{&quot;path&quot;:&quot;part-00007-6a4c4764-b36f-4842-ac23-d1de1d09d54a-c000.snappy.parquet&quot;,&quot;partitionValues&quot;:{},&quot;size&quot;:9256,&quot;modificationTime&quot;:1718138354000,&quot;dataChange&quot;:true,&quot;stats&quot;:&quot;{\\&quot;numRecords\\&quot;:1,\\&quot;minValues\\&quot;:{\\&quot;col_1\\&quot;:10,\\&quot;col_2\\&quot;:20,\\&quot;col_3\\&quot;:30,\\&quot;col_4\\&quot;:40,\\&quot;col_5\\&quot;:50,\\&quot;col_6\\&quot;:60,\\&quot;col_7\\&quot;:70,\\&quot;col_8\\&quot;:80,\\&quot;col_9\\&quot;:90,\\&quot;col_10\\&quot;:100,\\&quot;col_11\\&quot;:110,\\&quot;col_12\\&quot;:120,\\&quot;col_13\\&quot;:130,\\&quot;col_14\\&quot;:140,\\&quot;col_15\\&quot;:150,\\&quot;col_16\\&quot;:160,\\&quot;col_17\\&quot;:170,\\&quot;col_18\\&quot;:180,\\&quot;col_19\\&quot;:190,\\&quot;col_20\\&quot;:200,\\&quot;col_21\\&quot;:210,\\&quot;col_22\\&quot;:220,\\&quot;col_23\\&quot;:230,\\&quot;col_24\\&quot;:240,\\&quot;col_25\\&quot;:250,\\&quot;col_26\\&quot;:260,\\&quot;col_27\\&quot;:270,\\&quot;col_28\\&quot;:280,\\&quot;col_29\\&quot;:290,\\&quot;col_30\\&quot;:300,\\&quot;col_31\\&quot;:310,\\&quot;col_32\\&quot;:320},\\&quot;maxValues\\&quot;:{\\&quot;col_1\\&quot;:10,\\&quot;col_2\\&quot;:20,\\&quot;col_3\\&quot;:30,\\&quot;col_4\\&quot;:40,\\&quot;col_5\\&quot;:50,\\&quot;col_6\\&quot;:60,\\&quot;col_7\\&quot;:70,\\&quot;col_8\\&quot;:80,\\&quot;col_9\\&quot;:90,\\&quot;col_10\\&quot;:100,\\&quot;col_11\\&quot;:110,\\&quot;col_12\\&quot;:120,\\&quot;col_13\\&quot;:130,\\&quot;col_14\\&quot;:140,\\&quot;col_15\\&quot;:150,\\&quot;col_16\\&quot;:160,\\&quot;col_17\\&quot;:170,\\&quot;col_18\\&quot;:180,\\&quot;col_19\\&quot;:190,\\&quot;col_20\\&quot;:200,\\&quot;col_21\\&quot;:210,\\&quot;col_22\\&quot;:220,\\&quot;col_23\\&quot;:230,\\&quot;col_24\\&quot;:240,\\&quot;col_25\\&quot;:250,\\&quot;col_26\\&quot;:260,\\&quot;col_27\\&quot;:270,\\&quot;col_28\\&quot;:280,\\&quot;col_29\\&quot;:290,\\&quot;col_30\\&quot;:300,\\&quot;col_31\\&quot;:310,\\&quot;col_32\\&quot;:320},\\&quot;nullCount\\&quot;:{\\&quot;col_1\\&quot;:0,\\&quot;col_2\\&quot;:0,\\&quot;col_3\\&quot;:0,\\&quot;col_4\\&quot;:0,\\&quot;col_5\\&quot;:0,\\&quot;col_6\\&quot;:0,\\&quot;col_7\\&quot;:0,\\&quot;col_8\\&quot;:0,\\&quot;col_9\\&quot;:0,\\&quot;col_10\\&quot;:0,\\&quot;col_11\\&quot;:0,\\&quot;col_12\\&quot;:0,\\&quot;col_13\\&quot;:0,\\&quot;col_14\\&quot;:0,\\&quot;col_15\\&quot;:0,\\&quot;col_16\\&quot;:0,\\&quot;col_17\\&quot;:0,\\&quot;col_18\\&quot;:0,\\&quot;col_19\\&quot;:0,\\&quot;col_20\\&quot;:0,\\&quot;col_21\\&quot;:0,\\&quot;col_22\\&quot;:0,\\&quot;col_23\\&quot;:0,\\&quot;col_24\\&quot;:0,\\&quot;col_25\\&quot;:0,\\&quot;col_26\\&quot;:0,\\&quot;col_27\\&quot;:0,\\&quot;col_28\\&quot;:0,\\&quot;col_29\\&quot;:0,\\&quot;col_30\\&quot;:0,\\&quot;col_31\\&quot;:0,\\&quot;col_32\\&quot;:0}}&quot;,&quot;tags&quot;:{&quot;INSERTION_TIME&quot;:&quot;1718138354000001&quot;,&quot;MIN_INSERTION_TIME&quot;:&quot;1718138354000001&quot;,&quot;MAX_INSERTION_TIME&quot;:&quot;1718138354000001&quot;,&quot;OPTIMIZE_TARGET_SIZE&quot;:&quot;268435456&quot;}}}\n\n</div>",
       "datasetInfos": [],
       "metadata": {
        "isDbfsCommandResult": false
       },
       "removedWidgets": [],
       "type": "html"
      }
     },
     "output_type": "display_data"
    }
   ],
   "source": [
    "%fs\n",
    "\n",
    "head /FileStore/tables/column_reordering_example/_delta_log/00000000000000000001.json"
   ]
  },
  {
   "cell_type": "markdown",
   "metadata": {
    "application/vnd.databricks.v1+cell": {
     "cellMetadata": {},
     "inputWidgets": {},
     "nuid": "e6ab5abc-20c5-4cef-8fa5-23f7930da763",
     "showTitle": false,
     "title": ""
    }
   },
   "source": [
    "#reorder col_35 to 1st column in order"
   ]
  },
  {
   "cell_type": "code",
   "execution_count": 0,
   "metadata": {
    "application/vnd.databricks.v1+cell": {
     "cellMetadata": {
      "byteLimit": 2048000,
      "implicitDf": true,
      "rowLimit": 10000
     },
     "inputWidgets": {},
     "nuid": "1fe53b7b-126b-468b-b9fb-91bf9bebb0c0",
     "showTitle": false,
     "title": ""
    }
   },
   "outputs": [
    {
     "output_type": "display_data",
     "data": {
      "text/html": [
       "<style scoped>\n",
       "  .table-result-container {\n",
       "    max-height: 300px;\n",
       "    overflow: auto;\n",
       "  }\n",
       "  table, th, td {\n",
       "    border: 1px solid black;\n",
       "    border-collapse: collapse;\n",
       "  }\n",
       "  th, td {\n",
       "    padding: 5px;\n",
       "  }\n",
       "  th {\n",
       "    text-align: left;\n",
       "  }\n",
       "</style><div class='table-result-container'><table class='table-result'><thead style='background-color: white'><tr></tr></thead><tbody></tbody></table></div>"
      ]
     },
     "metadata": {
      "application/vnd.databricks.v1+output": {
       "addedWidgets": {},
       "aggData": [],
       "aggError": "",
       "aggOverflow": false,
       "aggSchema": [],
       "aggSeriesLimitReached": false,
       "aggType": "",
       "arguments": {},
       "columnCustomDisplayInfos": {},
       "data": [],
       "datasetInfos": [],
       "dbfsResultPath": null,
       "isJsonSchema": true,
       "metadata": {},
       "overflow": false,
       "plotOptions": {
        "customPlotOptions": {},
        "displayType": "table",
        "pivotAggregation": null,
        "pivotColumns": null,
        "xColumns": null,
        "yColumns": null
       },
       "removedWidgets": [],
       "schema": [],
       "type": "table"
      }
     },
     "output_type": "display_data"
    }
   ],
   "source": [
    "%sql \n",
    "\n",
    "alter table column_reordering_table \n",
    "change column col_35 first "
   ]
  },
  {
   "cell_type": "code",
   "execution_count": 0,
   "metadata": {
    "application/vnd.databricks.v1+cell": {
     "cellMetadata": {
      "byteLimit": 2048000,
      "implicitDf": true,
      "rowLimit": 10000
     },
     "inputWidgets": {},
     "nuid": "eb866404-be94-4e8d-acc6-73ae7e488c9b",
     "showTitle": false,
     "title": ""
    }
   },
   "outputs": [
    {
     "output_type": "display_data",
     "data": {
      "text/html": [
       "<style scoped>\n",
       "  .table-result-container {\n",
       "    max-height: 300px;\n",
       "    overflow: auto;\n",
       "  }\n",
       "  table, th, td {\n",
       "    border: 1px solid black;\n",
       "    border-collapse: collapse;\n",
       "  }\n",
       "  th, td {\n",
       "    padding: 5px;\n",
       "  }\n",
       "  th {\n",
       "    text-align: left;\n",
       "  }\n",
       "</style><div class='table-result-container'><table class='table-result'><thead style='background-color: white'><tr><th>col_name</th><th>data_type</th><th>comment</th></tr></thead><tbody><tr><td>col_35</td><td>bigint</td><td>null</td></tr><tr><td>col_1</td><td>bigint</td><td>null</td></tr><tr><td>col_2</td><td>bigint</td><td>null</td></tr><tr><td>col_3</td><td>bigint</td><td>null</td></tr><tr><td>col_4</td><td>bigint</td><td>null</td></tr><tr><td>col_5</td><td>bigint</td><td>null</td></tr><tr><td>col_6</td><td>bigint</td><td>null</td></tr><tr><td>col_7</td><td>bigint</td><td>null</td></tr><tr><td>col_8</td><td>bigint</td><td>null</td></tr><tr><td>col_9</td><td>bigint</td><td>null</td></tr><tr><td>col_10</td><td>bigint</td><td>null</td></tr><tr><td>col_11</td><td>bigint</td><td>null</td></tr><tr><td>col_12</td><td>bigint</td><td>null</td></tr><tr><td>col_13</td><td>bigint</td><td>null</td></tr><tr><td>col_14</td><td>bigint</td><td>null</td></tr><tr><td>col_15</td><td>bigint</td><td>null</td></tr><tr><td>col_16</td><td>bigint</td><td>null</td></tr><tr><td>col_17</td><td>bigint</td><td>null</td></tr><tr><td>col_18</td><td>bigint</td><td>null</td></tr><tr><td>col_19</td><td>bigint</td><td>null</td></tr><tr><td>col_20</td><td>bigint</td><td>null</td></tr><tr><td>col_21</td><td>bigint</td><td>null</td></tr><tr><td>col_22</td><td>bigint</td><td>null</td></tr><tr><td>col_23</td><td>bigint</td><td>null</td></tr><tr><td>col_24</td><td>bigint</td><td>null</td></tr><tr><td>col_25</td><td>bigint</td><td>null</td></tr><tr><td>col_26</td><td>bigint</td><td>null</td></tr><tr><td>col_27</td><td>bigint</td><td>null</td></tr><tr><td>col_28</td><td>bigint</td><td>null</td></tr><tr><td>col_29</td><td>bigint</td><td>null</td></tr><tr><td>col_30</td><td>bigint</td><td>null</td></tr><tr><td>col_31</td><td>bigint</td><td>null</td></tr><tr><td>col_32</td><td>bigint</td><td>null</td></tr><tr><td>col_33</td><td>bigint</td><td>null</td></tr><tr><td>col_34</td><td>bigint</td><td>null</td></tr></tbody></table></div>"
      ]
     },
     "metadata": {
      "application/vnd.databricks.v1+output": {
       "addedWidgets": {},
       "aggData": [],
       "aggError": "",
       "aggOverflow": false,
       "aggSchema": [],
       "aggSeriesLimitReached": false,
       "aggType": "",
       "arguments": {},
       "columnCustomDisplayInfos": {},
       "data": [
        [
         "col_35",
         "bigint",
         null
        ],
        [
         "col_1",
         "bigint",
         null
        ],
        [
         "col_2",
         "bigint",
         null
        ],
        [
         "col_3",
         "bigint",
         null
        ],
        [
         "col_4",
         "bigint",
         null
        ],
        [
         "col_5",
         "bigint",
         null
        ],
        [
         "col_6",
         "bigint",
         null
        ],
        [
         "col_7",
         "bigint",
         null
        ],
        [
         "col_8",
         "bigint",
         null
        ],
        [
         "col_9",
         "bigint",
         null
        ],
        [
         "col_10",
         "bigint",
         null
        ],
        [
         "col_11",
         "bigint",
         null
        ],
        [
         "col_12",
         "bigint",
         null
        ],
        [
         "col_13",
         "bigint",
         null
        ],
        [
         "col_14",
         "bigint",
         null
        ],
        [
         "col_15",
         "bigint",
         null
        ],
        [
         "col_16",
         "bigint",
         null
        ],
        [
         "col_17",
         "bigint",
         null
        ],
        [
         "col_18",
         "bigint",
         null
        ],
        [
         "col_19",
         "bigint",
         null
        ],
        [
         "col_20",
         "bigint",
         null
        ],
        [
         "col_21",
         "bigint",
         null
        ],
        [
         "col_22",
         "bigint",
         null
        ],
        [
         "col_23",
         "bigint",
         null
        ],
        [
         "col_24",
         "bigint",
         null
        ],
        [
         "col_25",
         "bigint",
         null
        ],
        [
         "col_26",
         "bigint",
         null
        ],
        [
         "col_27",
         "bigint",
         null
        ],
        [
         "col_28",
         "bigint",
         null
        ],
        [
         "col_29",
         "bigint",
         null
        ],
        [
         "col_30",
         "bigint",
         null
        ],
        [
         "col_31",
         "bigint",
         null
        ],
        [
         "col_32",
         "bigint",
         null
        ],
        [
         "col_33",
         "bigint",
         null
        ],
        [
         "col_34",
         "bigint",
         null
        ]
       ],
       "datasetInfos": [],
       "dbfsResultPath": null,
       "isJsonSchema": true,
       "metadata": {},
       "overflow": false,
       "plotOptions": {
        "customPlotOptions": {},
        "displayType": "table",
        "pivotAggregation": null,
        "pivotColumns": null,
        "xColumns": null,
        "yColumns": null
       },
       "removedWidgets": [],
       "schema": [
        {
         "metadata": "{\"comment\":\"name of the column\"}",
         "name": "col_name",
         "type": "\"string\""
        },
        {
         "metadata": "{\"comment\":\"data type of the column\"}",
         "name": "data_type",
         "type": "\"string\""
        },
        {
         "metadata": "{\"comment\":\"comment of the column\"}",
         "name": "comment",
         "type": "\"string\""
        }
       ],
       "type": "table"
      }
     },
     "output_type": "display_data"
    }
   ],
   "source": [
    "%sql \n",
    "\n",
    "describe column_reordering_table"
   ]
  },
  {
   "cell_type": "code",
   "execution_count": 0,
   "metadata": {
    "application/vnd.databricks.v1+cell": {
     "cellMetadata": {
      "byteLimit": 2048000,
      "rowLimit": 10000
     },
     "inputWidgets": {},
     "nuid": "98e47524-800a-44ab-b4ea-cc43dd4870ee",
     "showTitle": false,
     "title": ""
    }
   },
   "outputs": [
    {
     "output_type": "display_data",
     "data": {
      "text/html": [
       "<style scoped>\n",
       "  .table-result-container {\n",
       "    max-height: 300px;\n",
       "    overflow: auto;\n",
       "  }\n",
       "  table, th, td {\n",
       "    border: 1px solid black;\n",
       "    border-collapse: collapse;\n",
       "  }\n",
       "  th, td {\n",
       "    padding: 5px;\n",
       "  }\n",
       "  th {\n",
       "    text-align: left;\n",
       "  }\n",
       "</style><div class='table-result-container'><table class='table-result'><thead style='background-color: white'><tr><th>path</th><th>name</th><th>size</th><th>modificationTime</th></tr></thead><tbody><tr><td>dbfs:/FileStore/tables/column_reordering_example/_delta_log/.s3-optimization-0</td><td>.s3-optimization-0</td><td>0</td><td>1718138329000</td></tr><tr><td>dbfs:/FileStore/tables/column_reordering_example/_delta_log/.s3-optimization-1</td><td>.s3-optimization-1</td><td>0</td><td>1718138329000</td></tr><tr><td>dbfs:/FileStore/tables/column_reordering_example/_delta_log/.s3-optimization-2</td><td>.s3-optimization-2</td><td>0</td><td>1718138329000</td></tr><tr><td>dbfs:/FileStore/tables/column_reordering_example/_delta_log/00000000000000000000.crc</td><td>00000000000000000000.crc</td><td>4386</td><td>1718138334000</td></tr><tr><td>dbfs:/FileStore/tables/column_reordering_example/_delta_log/00000000000000000000.json</td><td>00000000000000000000.json</td><td>3356</td><td>1718138329000</td></tr><tr><td>dbfs:/FileStore/tables/column_reordering_example/_delta_log/00000000000000000001.crc</td><td>00000000000000000001.crc</td><td>7793</td><td>1718138358000</td></tr><tr><td>dbfs:/FileStore/tables/column_reordering_example/_delta_log/00000000000000000001.json</td><td>00000000000000000001.json</td><td>3934</td><td>1718138355000</td></tr><tr><td>dbfs:/FileStore/tables/column_reordering_example/_delta_log/00000000000000000002.crc</td><td>00000000000000000002.crc</td><td>4380</td><td>1718138756000</td></tr><tr><td>dbfs:/FileStore/tables/column_reordering_example/_delta_log/00000000000000000002.json</td><td>00000000000000000002.json</td><td>3344</td><td>1718138752000</td></tr></tbody></table></div>"
      ]
     },
     "metadata": {
      "application/vnd.databricks.v1+output": {
       "addedWidgets": {},
       "aggData": [],
       "aggError": "",
       "aggOverflow": false,
       "aggSchema": [],
       "aggSeriesLimitReached": false,
       "aggType": "",
       "arguments": {},
       "columnCustomDisplayInfos": {},
       "data": [
        [
         "dbfs:/FileStore/tables/column_reordering_example/_delta_log/.s3-optimization-0",
         ".s3-optimization-0",
         0,
         1718138329000
        ],
        [
         "dbfs:/FileStore/tables/column_reordering_example/_delta_log/.s3-optimization-1",
         ".s3-optimization-1",
         0,
         1718138329000
        ],
        [
         "dbfs:/FileStore/tables/column_reordering_example/_delta_log/.s3-optimization-2",
         ".s3-optimization-2",
         0,
         1718138329000
        ],
        [
         "dbfs:/FileStore/tables/column_reordering_example/_delta_log/00000000000000000000.crc",
         "00000000000000000000.crc",
         4386,
         1718138334000
        ],
        [
         "dbfs:/FileStore/tables/column_reordering_example/_delta_log/00000000000000000000.json",
         "00000000000000000000.json",
         3356,
         1718138329000
        ],
        [
         "dbfs:/FileStore/tables/column_reordering_example/_delta_log/00000000000000000001.crc",
         "00000000000000000001.crc",
         7793,
         1718138358000
        ],
        [
         "dbfs:/FileStore/tables/column_reordering_example/_delta_log/00000000000000000001.json",
         "00000000000000000001.json",
         3934,
         1718138355000
        ],
        [
         "dbfs:/FileStore/tables/column_reordering_example/_delta_log/00000000000000000002.crc",
         "00000000000000000002.crc",
         4380,
         1718138756000
        ],
        [
         "dbfs:/FileStore/tables/column_reordering_example/_delta_log/00000000000000000002.json",
         "00000000000000000002.json",
         3344,
         1718138752000
        ]
       ],
       "datasetInfos": [],
       "dbfsResultPath": null,
       "isJsonSchema": true,
       "metadata": {
        "isDbfsCommandResult": false
       },
       "overflow": false,
       "plotOptions": {
        "customPlotOptions": {},
        "displayType": "table",
        "pivotAggregation": null,
        "pivotColumns": null,
        "xColumns": null,
        "yColumns": null
       },
       "removedWidgets": [],
       "schema": [
        {
         "metadata": "{}",
         "name": "path",
         "type": "\"string\""
        },
        {
         "metadata": "{}",
         "name": "name",
         "type": "\"string\""
        },
        {
         "metadata": "{}",
         "name": "size",
         "type": "\"long\""
        },
        {
         "metadata": "{}",
         "name": "modificationTime",
         "type": "\"long\""
        }
       ],
       "type": "table"
      }
     },
     "output_type": "display_data"
    }
   ],
   "source": [
    "%fs\n",
    "\n",
    "ls /FileStore/tables/column_reordering_example/_delta_log/"
   ]
  },
  {
   "cell_type": "code",
   "execution_count": 0,
   "metadata": {
    "application/vnd.databricks.v1+cell": {
     "cellMetadata": {
      "byteLimit": 2048000,
      "rowLimit": 10000
     },
     "inputWidgets": {},
     "nuid": "4d4b42d4-33cc-4fb0-bd6d-a4d8f2dd75c0",
     "showTitle": false,
     "title": ""
    }
   },
   "outputs": [
    {
     "output_type": "display_data",
     "data": {
      "text/html": [
       "<style scoped>\n",
       "  .ansiout {\n",
       "    display: block;\n",
       "    unicode-bidi: embed;\n",
       "    white-space: pre-wrap;\n",
       "    word-wrap: break-word;\n",
       "    word-break: break-all;\n",
       "    font-family: \"Menlo\", \"Monaco\", \"Consolas\", \"Ubuntu Mono\", \"Source Code Pro\", monospace;\n",
       "    font-size: 13px;\n",
       "    color: #555;\n",
       "    margin-left: 4px;\n",
       "    line-height: 19px;\n",
       "  }\n",
       "</style>\n",
       "<div class=\"ansiout\">{&quot;commitInfo&quot;:{&quot;timestamp&quot;:1718138751332,&quot;userId&quot;:&quot;8432478468657958&quot;,&quot;userName&quot;:&quot;paruchuri7781@gmail.com&quot;,&quot;operation&quot;:&quot;CHANGE COLUMN&quot;,&quot;operationParameters&quot;:{&quot;column&quot;:&quot;{\\&quot;name\\&quot;:\\&quot;col_35\\&quot;,\\&quot;type\\&quot;:\\&quot;long\\&quot;,\\&quot;nullable\\&quot;:true,\\&quot;metadata\\&quot;:{}}&quot;,&quot;position&quot;:&quot;FIRST&quot;},&quot;notebook&quot;:{&quot;notebookId&quot;:&quot;1505408737210300&quot;},&quot;clusterId&quot;:&quot;0611-194349-ryz6cr1c&quot;,&quot;readVersion&quot;:1,&quot;isolationLevel&quot;:&quot;WriteSerializable&quot;,&quot;isBlindAppend&quot;:true,&quot;operationMetrics&quot;:{},&quot;engineInfo&quot;:&quot;Databricks-Runtime/12.2.x-scala2.12&quot;,&quot;txnId&quot;:&quot;df704fd7-6b8e-4761-8f11-deed51083ab8&quot;}}\n",
       "{&quot;metaData&quot;:{&quot;id&quot;:&quot;6a0dcaca-a6c0-4d12-ac38-e5628a9a0fba&quot;,&quot;format&quot;:{&quot;provider&quot;:&quot;parquet&quot;,&quot;options&quot;:{}},&quot;schemaString&quot;:&quot;{\\&quot;type\\&quot;:\\&quot;struct\\&quot;,\\&quot;fields\\&quot;:[{\\&quot;name\\&quot;:\\&quot;col_35\\&quot;,\\&quot;type\\&quot;:\\&quot;long\\&quot;,\\&quot;nullable\\&quot;:true,\\&quot;metadata\\&quot;:{}},{\\&quot;name\\&quot;:\\&quot;col_1\\&quot;,\\&quot;type\\&quot;:\\&quot;long\\&quot;,\\&quot;nullable\\&quot;:true,\\&quot;metadata\\&quot;:{}},{\\&quot;name\\&quot;:\\&quot;col_2\\&quot;,\\&quot;type\\&quot;:\\&quot;long\\&quot;,\\&quot;nullable\\&quot;:true,\\&quot;metadata\\&quot;:{}},{\\&quot;name\\&quot;:\\&quot;col_3\\&quot;,\\&quot;type\\&quot;:\\&quot;long\\&quot;,\\&quot;nullable\\&quot;:true,\\&quot;metadata\\&quot;:{}},{\\&quot;name\\&quot;:\\&quot;col_4\\&quot;,\\&quot;type\\&quot;:\\&quot;long\\&quot;,\\&quot;nullable\\&quot;:true,\\&quot;metadata\\&quot;:{}},{\\&quot;name\\&quot;:\\&quot;col_5\\&quot;,\\&quot;type\\&quot;:\\&quot;long\\&quot;,\\&quot;nullable\\&quot;:true,\\&quot;metadata\\&quot;:{}},{\\&quot;name\\&quot;:\\&quot;col_6\\&quot;,\\&quot;type\\&quot;:\\&quot;long\\&quot;,\\&quot;nullable\\&quot;:true,\\&quot;metadata\\&quot;:{}},{\\&quot;name\\&quot;:\\&quot;col_7\\&quot;,\\&quot;type\\&quot;:\\&quot;long\\&quot;,\\&quot;nullable\\&quot;:true,\\&quot;metadata\\&quot;:{}},{\\&quot;name\\&quot;:\\&quot;col_8\\&quot;,\\&quot;type\\&quot;:\\&quot;long\\&quot;,\\&quot;nullable\\&quot;:true,\\&quot;metadata\\&quot;:{}},{\\&quot;name\\&quot;:\\&quot;col_9\\&quot;,\\&quot;type\\&quot;:\\&quot;long\\&quot;,\\&quot;nullable\\&quot;:true,\\&quot;metadata\\&quot;:{}},{\\&quot;name\\&quot;:\\&quot;col_10\\&quot;,\\&quot;type\\&quot;:\\&quot;long\\&quot;,\\&quot;nullable\\&quot;:true,\\&quot;metadata\\&quot;:{}},{\\&quot;name\\&quot;:\\&quot;col_11\\&quot;,\\&quot;type\\&quot;:\\&quot;long\\&quot;,\\&quot;nullable\\&quot;:true,\\&quot;metadata\\&quot;:{}},{\\&quot;name\\&quot;:\\&quot;col_12\\&quot;,\\&quot;type\\&quot;:\\&quot;long\\&quot;,\\&quot;nullable\\&quot;:true,\\&quot;metadata\\&quot;:{}},{\\&quot;name\\&quot;:\\&quot;col_13\\&quot;,\\&quot;type\\&quot;:\\&quot;long\\&quot;,\\&quot;nullable\\&quot;:true,\\&quot;metadata\\&quot;:{}},{\\&quot;name\\&quot;:\\&quot;col_14\\&quot;,\\&quot;type\\&quot;:\\&quot;long\\&quot;,\\&quot;nullable\\&quot;:true,\\&quot;metadata\\&quot;:{}},{\\&quot;name\\&quot;:\\&quot;col_15\\&quot;,\\&quot;type\\&quot;:\\&quot;long\\&quot;,\\&quot;nullable\\&quot;:true,\\&quot;metadata\\&quot;:{}},{\\&quot;name\\&quot;:\\&quot;col_16\\&quot;,\\&quot;type\\&quot;:\\&quot;long\\&quot;,\\&quot;nullable\\&quot;:true,\\&quot;metadata\\&quot;:{}},{\\&quot;name\\&quot;:\\&quot;col_17\\&quot;,\\&quot;type\\&quot;:\\&quot;long\\&quot;,\\&quot;nullable\\&quot;:true,\\&quot;metadata\\&quot;:{}},{\\&quot;name\\&quot;:\\&quot;col_18\\&quot;,\\&quot;type\\&quot;:\\&quot;long\\&quot;,\\&quot;nullable\\&quot;:true,\\&quot;metadata\\&quot;:{}},{\\&quot;name\\&quot;:\\&quot;col_19\\&quot;,\\&quot;type\\&quot;:\\&quot;long\\&quot;,\\&quot;nullable\\&quot;:true,\\&quot;metadata\\&quot;:{}},{\\&quot;name\\&quot;:\\&quot;col_20\\&quot;,\\&quot;type\\&quot;:\\&quot;long\\&quot;,\\&quot;nullable\\&quot;:true,\\&quot;metadata\\&quot;:{}},{\\&quot;name\\&quot;:\\&quot;col_21\\&quot;,\\&quot;type\\&quot;:\\&quot;long\\&quot;,\\&quot;nullable\\&quot;:true,\\&quot;metadata\\&quot;:{}},{\\&quot;name\\&quot;:\\&quot;col_22\\&quot;,\\&quot;type\\&quot;:\\&quot;long\\&quot;,\\&quot;nullable\\&quot;:true,\\&quot;metadata\\&quot;:{}},{\\&quot;name\\&quot;:\\&quot;col_23\\&quot;,\\&quot;type\\&quot;:\\&quot;long\\&quot;,\\&quot;nullable\\&quot;:true,\\&quot;metadata\\&quot;:{}},{\\&quot;name\\&quot;:\\&quot;col_24\\&quot;,\\&quot;type\\&quot;:\\&quot;long\\&quot;,\\&quot;nullable\\&quot;:true,\\&quot;metadata\\&quot;:{}},{\\&quot;name\\&quot;:\\&quot;col_25\\&quot;,\\&quot;type\\&quot;:\\&quot;long\\&quot;,\\&quot;nullable\\&quot;:true,\\&quot;metadata\\&quot;:{}},{\\&quot;name\\&quot;:\\&quot;col_26\\&quot;,\\&quot;type\\&quot;:\\&quot;long\\&quot;,\\&quot;nullable\\&quot;:true,\\&quot;metadata\\&quot;:{}},{\\&quot;name\\&quot;:\\&quot;col_27\\&quot;,\\&quot;type\\&quot;:\\&quot;long\\&quot;,\\&quot;nullable\\&quot;:true,\\&quot;metadata\\&quot;:{}},{\\&quot;name\\&quot;:\\&quot;col_28\\&quot;,\\&quot;type\\&quot;:\\&quot;long\\&quot;,\\&quot;nullable\\&quot;:true,\\&quot;metadata\\&quot;:{}},{\\&quot;name\\&quot;:\\&quot;col_29\\&quot;,\\&quot;type\\&quot;:\\&quot;long\\&quot;,\\&quot;nullable\\&quot;:true,\\&quot;metadata\\&quot;:{}},{\\&quot;name\\&quot;:\\&quot;col_30\\&quot;,\\&quot;type\\&quot;:\\&quot;long\\&quot;,\\&quot;nullable\\&quot;:true,\\&quot;metadata\\&quot;:{}},{\\&quot;name\\&quot;:\\&quot;col_31\\&quot;,\\&quot;type\\&quot;:\\&quot;long\\&quot;,\\&quot;nullable\\&quot;:true,\\&quot;metadata\\&quot;:{}},{\\&quot;name\\&quot;:\\&quot;col_32\\&quot;,\\&quot;type\\&quot;:\\&quot;long\\&quot;,\\&quot;nullable\\&quot;:true,\\&quot;metadata\\&quot;:{}},{\\&quot;name\\&quot;:\\&quot;col_33\\&quot;,\\&quot;type\\&quot;:\\&quot;long\\&quot;,\\&quot;nullable\\&quot;:true,\\&quot;metadata\\&quot;:{}},{\\&quot;name\\&quot;:\\&quot;col_34\\&quot;,\\&quot;type\\&quot;:\\&quot;long\\&quot;,\\&quot;nullable\\&quot;:true,\\&quot;metadata\\&quot;:{}}]}&quot;,&quot;partitionColumns&quot;:[],&quot;configuration&quot;:{},&quot;createdTime&quot;:1718138327854}}\n",
       "\n",
       "</div>"
      ]
     },
     "metadata": {
      "application/vnd.databricks.v1+output": {
       "addedWidgets": {},
       "arguments": {},
       "data": "<div class=\"ansiout\">{&quot;commitInfo&quot;:{&quot;timestamp&quot;:1718138751332,&quot;userId&quot;:&quot;8432478468657958&quot;,&quot;userName&quot;:&quot;paruchuri7781@gmail.com&quot;,&quot;operation&quot;:&quot;CHANGE COLUMN&quot;,&quot;operationParameters&quot;:{&quot;column&quot;:&quot;{\\&quot;name\\&quot;:\\&quot;col_35\\&quot;,\\&quot;type\\&quot;:\\&quot;long\\&quot;,\\&quot;nullable\\&quot;:true,\\&quot;metadata\\&quot;:{}}&quot;,&quot;position&quot;:&quot;FIRST&quot;},&quot;notebook&quot;:{&quot;notebookId&quot;:&quot;1505408737210300&quot;},&quot;clusterId&quot;:&quot;0611-194349-ryz6cr1c&quot;,&quot;readVersion&quot;:1,&quot;isolationLevel&quot;:&quot;WriteSerializable&quot;,&quot;isBlindAppend&quot;:true,&quot;operationMetrics&quot;:{},&quot;engineInfo&quot;:&quot;Databricks-Runtime/12.2.x-scala2.12&quot;,&quot;txnId&quot;:&quot;df704fd7-6b8e-4761-8f11-deed51083ab8&quot;}}\n{&quot;metaData&quot;:{&quot;id&quot;:&quot;6a0dcaca-a6c0-4d12-ac38-e5628a9a0fba&quot;,&quot;format&quot;:{&quot;provider&quot;:&quot;parquet&quot;,&quot;options&quot;:{}},&quot;schemaString&quot;:&quot;{\\&quot;type\\&quot;:\\&quot;struct\\&quot;,\\&quot;fields\\&quot;:[{\\&quot;name\\&quot;:\\&quot;col_35\\&quot;,\\&quot;type\\&quot;:\\&quot;long\\&quot;,\\&quot;nullable\\&quot;:true,\\&quot;metadata\\&quot;:{}},{\\&quot;name\\&quot;:\\&quot;col_1\\&quot;,\\&quot;type\\&quot;:\\&quot;long\\&quot;,\\&quot;nullable\\&quot;:true,\\&quot;metadata\\&quot;:{}},{\\&quot;name\\&quot;:\\&quot;col_2\\&quot;,\\&quot;type\\&quot;:\\&quot;long\\&quot;,\\&quot;nullable\\&quot;:true,\\&quot;metadata\\&quot;:{}},{\\&quot;name\\&quot;:\\&quot;col_3\\&quot;,\\&quot;type\\&quot;:\\&quot;long\\&quot;,\\&quot;nullable\\&quot;:true,\\&quot;metadata\\&quot;:{}},{\\&quot;name\\&quot;:\\&quot;col_4\\&quot;,\\&quot;type\\&quot;:\\&quot;long\\&quot;,\\&quot;nullable\\&quot;:true,\\&quot;metadata\\&quot;:{}},{\\&quot;name\\&quot;:\\&quot;col_5\\&quot;,\\&quot;type\\&quot;:\\&quot;long\\&quot;,\\&quot;nullable\\&quot;:true,\\&quot;metadata\\&quot;:{}},{\\&quot;name\\&quot;:\\&quot;col_6\\&quot;,\\&quot;type\\&quot;:\\&quot;long\\&quot;,\\&quot;nullable\\&quot;:true,\\&quot;metadata\\&quot;:{}},{\\&quot;name\\&quot;:\\&quot;col_7\\&quot;,\\&quot;type\\&quot;:\\&quot;long\\&quot;,\\&quot;nullable\\&quot;:true,\\&quot;metadata\\&quot;:{}},{\\&quot;name\\&quot;:\\&quot;col_8\\&quot;,\\&quot;type\\&quot;:\\&quot;long\\&quot;,\\&quot;nullable\\&quot;:true,\\&quot;metadata\\&quot;:{}},{\\&quot;name\\&quot;:\\&quot;col_9\\&quot;,\\&quot;type\\&quot;:\\&quot;long\\&quot;,\\&quot;nullable\\&quot;:true,\\&quot;metadata\\&quot;:{}},{\\&quot;name\\&quot;:\\&quot;col_10\\&quot;,\\&quot;type\\&quot;:\\&quot;long\\&quot;,\\&quot;nullable\\&quot;:true,\\&quot;metadata\\&quot;:{}},{\\&quot;name\\&quot;:\\&quot;col_11\\&quot;,\\&quot;type\\&quot;:\\&quot;long\\&quot;,\\&quot;nullable\\&quot;:true,\\&quot;metadata\\&quot;:{}},{\\&quot;name\\&quot;:\\&quot;col_12\\&quot;,\\&quot;type\\&quot;:\\&quot;long\\&quot;,\\&quot;nullable\\&quot;:true,\\&quot;metadata\\&quot;:{}},{\\&quot;name\\&quot;:\\&quot;col_13\\&quot;,\\&quot;type\\&quot;:\\&quot;long\\&quot;,\\&quot;nullable\\&quot;:true,\\&quot;metadata\\&quot;:{}},{\\&quot;name\\&quot;:\\&quot;col_14\\&quot;,\\&quot;type\\&quot;:\\&quot;long\\&quot;,\\&quot;nullable\\&quot;:true,\\&quot;metadata\\&quot;:{}},{\\&quot;name\\&quot;:\\&quot;col_15\\&quot;,\\&quot;type\\&quot;:\\&quot;long\\&quot;,\\&quot;nullable\\&quot;:true,\\&quot;metadata\\&quot;:{}},{\\&quot;name\\&quot;:\\&quot;col_16\\&quot;,\\&quot;type\\&quot;:\\&quot;long\\&quot;,\\&quot;nullable\\&quot;:true,\\&quot;metadata\\&quot;:{}},{\\&quot;name\\&quot;:\\&quot;col_17\\&quot;,\\&quot;type\\&quot;:\\&quot;long\\&quot;,\\&quot;nullable\\&quot;:true,\\&quot;metadata\\&quot;:{}},{\\&quot;name\\&quot;:\\&quot;col_18\\&quot;,\\&quot;type\\&quot;:\\&quot;long\\&quot;,\\&quot;nullable\\&quot;:true,\\&quot;metadata\\&quot;:{}},{\\&quot;name\\&quot;:\\&quot;col_19\\&quot;,\\&quot;type\\&quot;:\\&quot;long\\&quot;,\\&quot;nullable\\&quot;:true,\\&quot;metadata\\&quot;:{}},{\\&quot;name\\&quot;:\\&quot;col_20\\&quot;,\\&quot;type\\&quot;:\\&quot;long\\&quot;,\\&quot;nullable\\&quot;:true,\\&quot;metadata\\&quot;:{}},{\\&quot;name\\&quot;:\\&quot;col_21\\&quot;,\\&quot;type\\&quot;:\\&quot;long\\&quot;,\\&quot;nullable\\&quot;:true,\\&quot;metadata\\&quot;:{}},{\\&quot;name\\&quot;:\\&quot;col_22\\&quot;,\\&quot;type\\&quot;:\\&quot;long\\&quot;,\\&quot;nullable\\&quot;:true,\\&quot;metadata\\&quot;:{}},{\\&quot;name\\&quot;:\\&quot;col_23\\&quot;,\\&quot;type\\&quot;:\\&quot;long\\&quot;,\\&quot;nullable\\&quot;:true,\\&quot;metadata\\&quot;:{}},{\\&quot;name\\&quot;:\\&quot;col_24\\&quot;,\\&quot;type\\&quot;:\\&quot;long\\&quot;,\\&quot;nullable\\&quot;:true,\\&quot;metadata\\&quot;:{}},{\\&quot;name\\&quot;:\\&quot;col_25\\&quot;,\\&quot;type\\&quot;:\\&quot;long\\&quot;,\\&quot;nullable\\&quot;:true,\\&quot;metadata\\&quot;:{}},{\\&quot;name\\&quot;:\\&quot;col_26\\&quot;,\\&quot;type\\&quot;:\\&quot;long\\&quot;,\\&quot;nullable\\&quot;:true,\\&quot;metadata\\&quot;:{}},{\\&quot;name\\&quot;:\\&quot;col_27\\&quot;,\\&quot;type\\&quot;:\\&quot;long\\&quot;,\\&quot;nullable\\&quot;:true,\\&quot;metadata\\&quot;:{}},{\\&quot;name\\&quot;:\\&quot;col_28\\&quot;,\\&quot;type\\&quot;:\\&quot;long\\&quot;,\\&quot;nullable\\&quot;:true,\\&quot;metadata\\&quot;:{}},{\\&quot;name\\&quot;:\\&quot;col_29\\&quot;,\\&quot;type\\&quot;:\\&quot;long\\&quot;,\\&quot;nullable\\&quot;:true,\\&quot;metadata\\&quot;:{}},{\\&quot;name\\&quot;:\\&quot;col_30\\&quot;,\\&quot;type\\&quot;:\\&quot;long\\&quot;,\\&quot;nullable\\&quot;:true,\\&quot;metadata\\&quot;:{}},{\\&quot;name\\&quot;:\\&quot;col_31\\&quot;,\\&quot;type\\&quot;:\\&quot;long\\&quot;,\\&quot;nullable\\&quot;:true,\\&quot;metadata\\&quot;:{}},{\\&quot;name\\&quot;:\\&quot;col_32\\&quot;,\\&quot;type\\&quot;:\\&quot;long\\&quot;,\\&quot;nullable\\&quot;:true,\\&quot;metadata\\&quot;:{}},{\\&quot;name\\&quot;:\\&quot;col_33\\&quot;,\\&quot;type\\&quot;:\\&quot;long\\&quot;,\\&quot;nullable\\&quot;:true,\\&quot;metadata\\&quot;:{}},{\\&quot;name\\&quot;:\\&quot;col_34\\&quot;,\\&quot;type\\&quot;:\\&quot;long\\&quot;,\\&quot;nullable\\&quot;:true,\\&quot;metadata\\&quot;:{}}]}&quot;,&quot;partitionColumns&quot;:[],&quot;configuration&quot;:{},&quot;createdTime&quot;:1718138327854}}\n\n</div>",
       "datasetInfos": [],
       "metadata": {
        "isDbfsCommandResult": false
       },
       "removedWidgets": [],
       "type": "html"
      }
     },
     "output_type": "display_data"
    }
   ],
   "source": [
    "%fs\n",
    "\n",
    "head /FileStore/tables/column_reordering_example/_delta_log/00000000000000000002.json"
   ]
  },
  {
   "cell_type": "markdown",
   "metadata": {
    "application/vnd.databricks.v1+cell": {
     "cellMetadata": {},
     "inputWidgets": {},
     "nuid": "dd5159bb-cb56-4ee6-9371-c6efbbf5879f",
     "showTitle": false,
     "title": ""
    }
   },
   "source": [
    "re-order col_35 after c_10"
   ]
  },
  {
   "cell_type": "code",
   "execution_count": 0,
   "metadata": {
    "application/vnd.databricks.v1+cell": {
     "cellMetadata": {
      "byteLimit": 2048000,
      "implicitDf": true,
      "rowLimit": 10000
     },
     "inputWidgets": {},
     "nuid": "63312f0f-8565-4557-81a7-f541d6169fb8",
     "showTitle": false,
     "title": ""
    }
   },
   "outputs": [
    {
     "output_type": "display_data",
     "data": {
      "text/html": [
       "<style scoped>\n",
       "  .table-result-container {\n",
       "    max-height: 300px;\n",
       "    overflow: auto;\n",
       "  }\n",
       "  table, th, td {\n",
       "    border: 1px solid black;\n",
       "    border-collapse: collapse;\n",
       "  }\n",
       "  th, td {\n",
       "    padding: 5px;\n",
       "  }\n",
       "  th {\n",
       "    text-align: left;\n",
       "  }\n",
       "</style><div class='table-result-container'><table class='table-result'><thead style='background-color: white'><tr></tr></thead><tbody></tbody></table></div>"
      ]
     },
     "metadata": {
      "application/vnd.databricks.v1+output": {
       "addedWidgets": {},
       "aggData": [],
       "aggError": "",
       "aggOverflow": false,
       "aggSchema": [],
       "aggSeriesLimitReached": false,
       "aggType": "",
       "arguments": {},
       "columnCustomDisplayInfos": {},
       "data": [],
       "datasetInfos": [],
       "dbfsResultPath": null,
       "isJsonSchema": true,
       "metadata": {},
       "overflow": false,
       "plotOptions": {
        "customPlotOptions": {},
        "displayType": "table",
        "pivotAggregation": null,
        "pivotColumns": null,
        "xColumns": null,
        "yColumns": null
       },
       "removedWidgets": [],
       "schema": [],
       "type": "table"
      }
     },
     "output_type": "display_data"
    }
   ],
   "source": [
    "%sql \n",
    "\n",
    "alter table column_reordering_table \n",
    "change column col_35 after col_10;"
   ]
  },
  {
   "cell_type": "code",
   "execution_count": 0,
   "metadata": {
    "application/vnd.databricks.v1+cell": {
     "cellMetadata": {
      "byteLimit": 2048000,
      "implicitDf": true,
      "rowLimit": 10000
     },
     "inputWidgets": {},
     "nuid": "a422e9ee-deaa-4e1a-a749-789c5d5230cd",
     "showTitle": false,
     "title": ""
    }
   },
   "outputs": [
    {
     "output_type": "display_data",
     "data": {
      "text/html": [
       "<style scoped>\n",
       "  .table-result-container {\n",
       "    max-height: 300px;\n",
       "    overflow: auto;\n",
       "  }\n",
       "  table, th, td {\n",
       "    border: 1px solid black;\n",
       "    border-collapse: collapse;\n",
       "  }\n",
       "  th, td {\n",
       "    padding: 5px;\n",
       "  }\n",
       "  th {\n",
       "    text-align: left;\n",
       "  }\n",
       "</style><div class='table-result-container'><table class='table-result'><thead style='background-color: white'><tr><th>col_name</th><th>data_type</th><th>comment</th></tr></thead><tbody><tr><td>col_1</td><td>bigint</td><td>null</td></tr><tr><td>col_2</td><td>bigint</td><td>null</td></tr><tr><td>col_3</td><td>bigint</td><td>null</td></tr><tr><td>col_4</td><td>bigint</td><td>null</td></tr><tr><td>col_5</td><td>bigint</td><td>null</td></tr><tr><td>col_6</td><td>bigint</td><td>null</td></tr><tr><td>col_7</td><td>bigint</td><td>null</td></tr><tr><td>col_8</td><td>bigint</td><td>null</td></tr><tr><td>col_9</td><td>bigint</td><td>null</td></tr><tr><td>col_10</td><td>bigint</td><td>null</td></tr><tr><td>col_35</td><td>bigint</td><td>null</td></tr><tr><td>col_11</td><td>bigint</td><td>null</td></tr><tr><td>col_12</td><td>bigint</td><td>null</td></tr><tr><td>col_13</td><td>bigint</td><td>null</td></tr><tr><td>col_14</td><td>bigint</td><td>null</td></tr><tr><td>col_15</td><td>bigint</td><td>null</td></tr><tr><td>col_16</td><td>bigint</td><td>null</td></tr><tr><td>col_17</td><td>bigint</td><td>null</td></tr><tr><td>col_18</td><td>bigint</td><td>null</td></tr><tr><td>col_19</td><td>bigint</td><td>null</td></tr><tr><td>col_20</td><td>bigint</td><td>null</td></tr><tr><td>col_21</td><td>bigint</td><td>null</td></tr><tr><td>col_22</td><td>bigint</td><td>null</td></tr><tr><td>col_23</td><td>bigint</td><td>null</td></tr><tr><td>col_24</td><td>bigint</td><td>null</td></tr><tr><td>col_25</td><td>bigint</td><td>null</td></tr><tr><td>col_26</td><td>bigint</td><td>null</td></tr><tr><td>col_27</td><td>bigint</td><td>null</td></tr><tr><td>col_28</td><td>bigint</td><td>null</td></tr><tr><td>col_29</td><td>bigint</td><td>null</td></tr><tr><td>col_30</td><td>bigint</td><td>null</td></tr><tr><td>col_31</td><td>bigint</td><td>null</td></tr><tr><td>col_32</td><td>bigint</td><td>null</td></tr><tr><td>col_33</td><td>bigint</td><td>null</td></tr><tr><td>col_34</td><td>bigint</td><td>null</td></tr></tbody></table></div>"
      ]
     },
     "metadata": {
      "application/vnd.databricks.v1+output": {
       "addedWidgets": {},
       "aggData": [],
       "aggError": "",
       "aggOverflow": false,
       "aggSchema": [],
       "aggSeriesLimitReached": false,
       "aggType": "",
       "arguments": {},
       "columnCustomDisplayInfos": {},
       "data": [
        [
         "col_1",
         "bigint",
         null
        ],
        [
         "col_2",
         "bigint",
         null
        ],
        [
         "col_3",
         "bigint",
         null
        ],
        [
         "col_4",
         "bigint",
         null
        ],
        [
         "col_5",
         "bigint",
         null
        ],
        [
         "col_6",
         "bigint",
         null
        ],
        [
         "col_7",
         "bigint",
         null
        ],
        [
         "col_8",
         "bigint",
         null
        ],
        [
         "col_9",
         "bigint",
         null
        ],
        [
         "col_10",
         "bigint",
         null
        ],
        [
         "col_35",
         "bigint",
         null
        ],
        [
         "col_11",
         "bigint",
         null
        ],
        [
         "col_12",
         "bigint",
         null
        ],
        [
         "col_13",
         "bigint",
         null
        ],
        [
         "col_14",
         "bigint",
         null
        ],
        [
         "col_15",
         "bigint",
         null
        ],
        [
         "col_16",
         "bigint",
         null
        ],
        [
         "col_17",
         "bigint",
         null
        ],
        [
         "col_18",
         "bigint",
         null
        ],
        [
         "col_19",
         "bigint",
         null
        ],
        [
         "col_20",
         "bigint",
         null
        ],
        [
         "col_21",
         "bigint",
         null
        ],
        [
         "col_22",
         "bigint",
         null
        ],
        [
         "col_23",
         "bigint",
         null
        ],
        [
         "col_24",
         "bigint",
         null
        ],
        [
         "col_25",
         "bigint",
         null
        ],
        [
         "col_26",
         "bigint",
         null
        ],
        [
         "col_27",
         "bigint",
         null
        ],
        [
         "col_28",
         "bigint",
         null
        ],
        [
         "col_29",
         "bigint",
         null
        ],
        [
         "col_30",
         "bigint",
         null
        ],
        [
         "col_31",
         "bigint",
         null
        ],
        [
         "col_32",
         "bigint",
         null
        ],
        [
         "col_33",
         "bigint",
         null
        ],
        [
         "col_34",
         "bigint",
         null
        ]
       ],
       "datasetInfos": [],
       "dbfsResultPath": null,
       "isJsonSchema": true,
       "metadata": {},
       "overflow": false,
       "plotOptions": {
        "customPlotOptions": {},
        "displayType": "table",
        "pivotAggregation": null,
        "pivotColumns": null,
        "xColumns": null,
        "yColumns": null
       },
       "removedWidgets": [],
       "schema": [
        {
         "metadata": "{\"comment\":\"name of the column\"}",
         "name": "col_name",
         "type": "\"string\""
        },
        {
         "metadata": "{\"comment\":\"data type of the column\"}",
         "name": "data_type",
         "type": "\"string\""
        },
        {
         "metadata": "{\"comment\":\"comment of the column\"}",
         "name": "comment",
         "type": "\"string\""
        }
       ],
       "type": "table"
      }
     },
     "output_type": "display_data"
    }
   ],
   "source": [
    "%sql \n",
    "\n",
    "describe column_reordering_table"
   ]
  },
  {
   "cell_type": "markdown",
   "metadata": {
    "application/vnd.databricks.v1+cell": {
     "cellMetadata": {},
     "inputWidgets": {},
     "nuid": "ab858ccc-1228-4ca0-8826-fe9514b8320e",
     "showTitle": false,
     "title": ""
    }
   },
   "source": [
    "creating new dataframe"
   ]
  },
  {
   "cell_type": "code",
   "execution_count": 0,
   "metadata": {
    "application/vnd.databricks.v1+cell": {
     "cellMetadata": {
      "byteLimit": 2048000,
      "rowLimit": 10000
     },
     "inputWidgets": {},
     "nuid": "1c860818-7992-43f7-9641-2cd8b182a3c1",
     "showTitle": false,
     "title": ""
    }
   },
   "outputs": [
    {
     "output_type": "stream",
     "name": "stdout",
     "output_type": "stream",
     "text": [
      "+-----+-----+-----+-----+-----+-----+-----+-----+-----+------+------+------+------+------+------+------+------+------+------+------+------+------+------+------+------+------+------+------+------+------+------+------+------+------+------+\n|col_1|col_2|col_3|col_4|col_5|col_6|col_7|col_8|col_9|col_10|col_11|col_12|col_13|col_14|col_15|col_16|col_17|col_18|col_19|col_20|col_21|col_22|col_23|col_24|col_25|col_26|col_27|col_28|col_29|col_30|col_31|col_32|col_33|col_34|col_35|\n+-----+-----+-----+-----+-----+-----+-----+-----+-----+------+------+------+------+------+------+------+------+------+------+------+------+------+------+------+------+------+------+------+------+------+------+------+------+------+------+\n|  100|  200|  300|  400|  500|  600|  700|  800|  900|  1000|  1100|  1200|  1300|  1400|  1500|  1600|  1700|  1800|  1900|  2000|  2100|  2200|  2300|  2400|  2500|  2600|  2700|  2800|  2900|  3000|  3100|  3200|  3300|  3400|  3500|\n| 1000| 2000| 3000| 4000| 5000| 6000| 7000| 8000| 9000| 10000| 11000| 12000| 13000| 14000| 15000| 16000| 17000| 18000| 19000| 20000| 21000| 22000| 23000| 24000| 25000| 26000| 27000| 28000| 29000| 30000| 31000| 32000| 33000| 34000| 35000|\n+-----+-----+-----+-----+-----+-----+-----+-----+-----+------+------+------+------+------+------+------+------+------+------+------+------+------+------+------+------+------+------+------+------+------+------+------+------+------+------+\n\n"
     ]
    }
   ],
   "source": [
    "data=[(100, 200, 300, 400, 500, 600, 700, 800, 900, 1000,1100, 1200, 1300, 1400, 1500, 1600, 1700, 1800, 1900, 2000,2100, 2200, 2300, 2400, 2500, 2600, \n",
    "       2700, 2800, 2900, 3000,3100, 3200, 3300, 3400, 3500),\n",
    "      (1000, 2000, 3000, 4000, 5000, 6000, 7000, 8000, 9000, 10000,11000, 12000, 13000, 14000, 15000, 16000, 17000, 18000, 19000, 20000,21000, 22000, 23000, 24000, 25000, 26000, 27000, 28000, 29000, 30000,31000, 32000, 33000, 34000, 35000)\n",
    "    ]\n",
    "\n",
    "columns=['col_1', 'col_2', 'col_3', 'col_4', 'col_5','col_6', 'col_7', 'col_8', 'col_9', 'col_10','col_11', 'col_12', 'col_13', 'col_14', 'col_15',\n",
    "         'col_16', 'col_17', 'col_18', 'col_19', 'col_20','col_21', 'col_22', 'col_23', 'col_24', 'col_25','col_26', 'col_27', 'col_28', 'col_29', 'col_30','col_31', 'col_32', 'col_33', 'col_34', 'col_35'\n",
    "        ] \n",
    "\n",
    "df=spark.createDataFrame(data,columns)\n",
    "\n",
    "df.show()"
   ]
  },
  {
   "cell_type": "markdown",
   "metadata": {
    "application/vnd.databricks.v1+cell": {
     "cellMetadata": {},
     "inputWidgets": {},
     "nuid": "9fca6ecd-752e-4c6d-ab10-84a37fba038a",
     "showTitle": false,
     "title": ""
    }
   },
   "source": [
    "load dataframe into delta table"
   ]
  },
  {
   "cell_type": "code",
   "execution_count": 0,
   "metadata": {
    "application/vnd.databricks.v1+cell": {
     "cellMetadata": {
      "byteLimit": 2048000,
      "rowLimit": 10000
     },
     "inputWidgets": {},
     "nuid": "fc67faaa-65f9-4814-8fac-ff127889ac0a",
     "showTitle": false,
     "title": ""
    }
   },
   "outputs": [],
   "source": [
    "df.write.format('delta')\\\n",
    "        .mode(\"append\")\\\n",
    "        .saveAsTable(\"column_reordering_table\")"
   ]
  },
  {
   "cell_type": "code",
   "execution_count": 0,
   "metadata": {
    "application/vnd.databricks.v1+cell": {
     "cellMetadata": {
      "byteLimit": 2048000,
      "rowLimit": 10000
     },
     "inputWidgets": {},
     "nuid": "34847dd5-4ed6-4849-9f29-eae74f0cb728",
     "showTitle": false,
     "title": ""
    }
   },
   "outputs": [
    {
     "output_type": "display_data",
     "data": {
      "text/html": [
       "<style scoped>\n",
       "  .table-result-container {\n",
       "    max-height: 300px;\n",
       "    overflow: auto;\n",
       "  }\n",
       "  table, th, td {\n",
       "    border: 1px solid black;\n",
       "    border-collapse: collapse;\n",
       "  }\n",
       "  th, td {\n",
       "    padding: 5px;\n",
       "  }\n",
       "  th {\n",
       "    text-align: left;\n",
       "  }\n",
       "</style><div class='table-result-container'><table class='table-result'><thead style='background-color: white'><tr><th>path</th><th>name</th><th>size</th><th>modificationTime</th></tr></thead><tbody><tr><td>dbfs:/FileStore/tables/column_reordering_example/_delta_log/.s3-optimization-0</td><td>.s3-optimization-0</td><td>0</td><td>1718138329000</td></tr><tr><td>dbfs:/FileStore/tables/column_reordering_example/_delta_log/.s3-optimization-1</td><td>.s3-optimization-1</td><td>0</td><td>1718138329000</td></tr><tr><td>dbfs:/FileStore/tables/column_reordering_example/_delta_log/.s3-optimization-2</td><td>.s3-optimization-2</td><td>0</td><td>1718138329000</td></tr><tr><td>dbfs:/FileStore/tables/column_reordering_example/_delta_log/00000000000000000000.crc</td><td>00000000000000000000.crc</td><td>4386</td><td>1718138334000</td></tr><tr><td>dbfs:/FileStore/tables/column_reordering_example/_delta_log/00000000000000000000.json</td><td>00000000000000000000.json</td><td>3356</td><td>1718138329000</td></tr><tr><td>dbfs:/FileStore/tables/column_reordering_example/_delta_log/00000000000000000001.crc</td><td>00000000000000000001.crc</td><td>7793</td><td>1718138358000</td></tr><tr><td>dbfs:/FileStore/tables/column_reordering_example/_delta_log/00000000000000000001.json</td><td>00000000000000000001.json</td><td>3934</td><td>1718138355000</td></tr><tr><td>dbfs:/FileStore/tables/column_reordering_example/_delta_log/00000000000000000002.crc</td><td>00000000000000000002.crc</td><td>4380</td><td>1718138756000</td></tr><tr><td>dbfs:/FileStore/tables/column_reordering_example/_delta_log/00000000000000000002.json</td><td>00000000000000000002.json</td><td>3344</td><td>1718138752000</td></tr><tr><td>dbfs:/FileStore/tables/column_reordering_example/_delta_log/00000000000000000003.crc</td><td>00000000000000000003.crc</td><td>4380</td><td>1718139046000</td></tr><tr><td>dbfs:/FileStore/tables/column_reordering_example/_delta_log/00000000000000000003.json</td><td>00000000000000000003.json</td><td>3351</td><td>1718139043000</td></tr><tr><td>dbfs:/FileStore/tables/column_reordering_example/_delta_log/00000000000000000004.crc</td><td>00000000000000000004.crc</td><td>11449</td><td>1718139892000</td></tr><tr><td>dbfs:/FileStore/tables/column_reordering_example/_delta_log/00000000000000000004.json</td><td>00000000000000000004.json</td><td>4190</td><td>1718139887000</td></tr></tbody></table></div>"
      ]
     },
     "metadata": {
      "application/vnd.databricks.v1+output": {
       "addedWidgets": {},
       "aggData": [],
       "aggError": "",
       "aggOverflow": false,
       "aggSchema": [],
       "aggSeriesLimitReached": false,
       "aggType": "",
       "arguments": {},
       "columnCustomDisplayInfos": {},
       "data": [
        [
         "dbfs:/FileStore/tables/column_reordering_example/_delta_log/.s3-optimization-0",
         ".s3-optimization-0",
         0,
         1718138329000
        ],
        [
         "dbfs:/FileStore/tables/column_reordering_example/_delta_log/.s3-optimization-1",
         ".s3-optimization-1",
         0,
         1718138329000
        ],
        [
         "dbfs:/FileStore/tables/column_reordering_example/_delta_log/.s3-optimization-2",
         ".s3-optimization-2",
         0,
         1718138329000
        ],
        [
         "dbfs:/FileStore/tables/column_reordering_example/_delta_log/00000000000000000000.crc",
         "00000000000000000000.crc",
         4386,
         1718138334000
        ],
        [
         "dbfs:/FileStore/tables/column_reordering_example/_delta_log/00000000000000000000.json",
         "00000000000000000000.json",
         3356,
         1718138329000
        ],
        [
         "dbfs:/FileStore/tables/column_reordering_example/_delta_log/00000000000000000001.crc",
         "00000000000000000001.crc",
         7793,
         1718138358000
        ],
        [
         "dbfs:/FileStore/tables/column_reordering_example/_delta_log/00000000000000000001.json",
         "00000000000000000001.json",
         3934,
         1718138355000
        ],
        [
         "dbfs:/FileStore/tables/column_reordering_example/_delta_log/00000000000000000002.crc",
         "00000000000000000002.crc",
         4380,
         1718138756000
        ],
        [
         "dbfs:/FileStore/tables/column_reordering_example/_delta_log/00000000000000000002.json",
         "00000000000000000002.json",
         3344,
         1718138752000
        ],
        [
         "dbfs:/FileStore/tables/column_reordering_example/_delta_log/00000000000000000003.crc",
         "00000000000000000003.crc",
         4380,
         1718139046000
        ],
        [
         "dbfs:/FileStore/tables/column_reordering_example/_delta_log/00000000000000000003.json",
         "00000000000000000003.json",
         3351,
         1718139043000
        ],
        [
         "dbfs:/FileStore/tables/column_reordering_example/_delta_log/00000000000000000004.crc",
         "00000000000000000004.crc",
         11449,
         1718139892000
        ],
        [
         "dbfs:/FileStore/tables/column_reordering_example/_delta_log/00000000000000000004.json",
         "00000000000000000004.json",
         4190,
         1718139887000
        ]
       ],
       "datasetInfos": [],
       "dbfsResultPath": null,
       "isJsonSchema": true,
       "metadata": {
        "isDbfsCommandResult": false
       },
       "overflow": false,
       "plotOptions": {
        "customPlotOptions": {},
        "displayType": "table",
        "pivotAggregation": null,
        "pivotColumns": null,
        "xColumns": null,
        "yColumns": null
       },
       "removedWidgets": [],
       "schema": [
        {
         "metadata": "{}",
         "name": "path",
         "type": "\"string\""
        },
        {
         "metadata": "{}",
         "name": "name",
         "type": "\"string\""
        },
        {
         "metadata": "{}",
         "name": "size",
         "type": "\"long\""
        },
        {
         "metadata": "{}",
         "name": "modificationTime",
         "type": "\"long\""
        }
       ],
       "type": "table"
      }
     },
     "output_type": "display_data"
    }
   ],
   "source": [
    "%fs\n",
    "\n",
    "ls /FileStore/tables/column_reordering_example/_delta_log/"
   ]
  },
  {
   "cell_type": "code",
   "execution_count": 0,
   "metadata": {
    "application/vnd.databricks.v1+cell": {
     "cellMetadata": {
      "byteLimit": 2048000,
      "rowLimit": 10000
     },
     "inputWidgets": {},
     "nuid": "8576f7a6-d7aa-4a4f-b4c0-1333997390a8",
     "showTitle": false,
     "title": ""
    }
   },
   "outputs": [
    {
     "output_type": "display_data",
     "data": {
      "text/html": [
       "<style scoped>\n",
       "  .ansiout {\n",
       "    display: block;\n",
       "    unicode-bidi: embed;\n",
       "    white-space: pre-wrap;\n",
       "    word-wrap: break-word;\n",
       "    word-break: break-all;\n",
       "    font-family: \"Menlo\", \"Monaco\", \"Consolas\", \"Ubuntu Mono\", \"Source Code Pro\", monospace;\n",
       "    font-size: 13px;\n",
       "    color: #555;\n",
       "    margin-left: 4px;\n",
       "    line-height: 19px;\n",
       "  }\n",
       "</style>\n",
       "<div class=\"ansiout\">{&quot;commitInfo&quot;:{&quot;timestamp&quot;:1718139886070,&quot;userId&quot;:&quot;8432478468657958&quot;,&quot;userName&quot;:&quot;paruchuri7781@gmail.com&quot;,&quot;operation&quot;:&quot;WRITE&quot;,&quot;operationParameters&quot;:{&quot;mode&quot;:&quot;Append&quot;,&quot;partitionBy&quot;:&quot;[]&quot;},&quot;notebook&quot;:{&quot;notebookId&quot;:&quot;1505408737210300&quot;},&quot;clusterId&quot;:&quot;0611-194349-ryz6cr1c&quot;,&quot;readVersion&quot;:3,&quot;isolationLevel&quot;:&quot;WriteSerializable&quot;,&quot;isBlindAppend&quot;:true,&quot;operationMetrics&quot;:{&quot;numFiles&quot;:&quot;2&quot;,&quot;numOutputRows&quot;:&quot;2&quot;,&quot;numOutputBytes&quot;:&quot;18515&quot;},&quot;engineInfo&quot;:&quot;Databricks-Runtime/12.2.x-scala2.12&quot;,&quot;txnId&quot;:&quot;8c45cf91-de06-4ccf-b4b3-5c30358ae2b7&quot;}}\n",
       "{&quot;add&quot;:{&quot;path&quot;:&quot;part-00003-273d6e31-aa98-4567-9a70-0a6603ab5aff-c000.snappy.parquet&quot;,&quot;partitionValues&quot;:{},&quot;size&quot;:9257,&quot;modificationTime&quot;:1718139886000,&quot;dataChange&quot;:true,&quot;stats&quot;:&quot;{\\&quot;numRecords\\&quot;:1,\\&quot;minValues\\&quot;:{\\&quot;col_1\\&quot;:100,\\&quot;col_2\\&quot;:200,\\&quot;col_3\\&quot;:300,\\&quot;col_4\\&quot;:400,\\&quot;col_5\\&quot;:500,\\&quot;col_6\\&quot;:600,\\&quot;col_7\\&quot;:700,\\&quot;col_8\\&quot;:800,\\&quot;col_9\\&quot;:900,\\&quot;col_10\\&quot;:1000,\\&quot;col_35\\&quot;:3500,\\&quot;col_11\\&quot;:1100,\\&quot;col_12\\&quot;:1200,\\&quot;col_13\\&quot;:1300,\\&quot;col_14\\&quot;:1400,\\&quot;col_15\\&quot;:1500,\\&quot;col_16\\&quot;:1600,\\&quot;col_17\\&quot;:1700,\\&quot;col_18\\&quot;:1800,\\&quot;col_19\\&quot;:1900,\\&quot;col_20\\&quot;:2000,\\&quot;col_21\\&quot;:2100,\\&quot;col_22\\&quot;:2200,\\&quot;col_23\\&quot;:2300,\\&quot;col_24\\&quot;:2400,\\&quot;col_25\\&quot;:2500,\\&quot;col_26\\&quot;:2600,\\&quot;col_27\\&quot;:2700,\\&quot;col_28\\&quot;:2800,\\&quot;col_29\\&quot;:2900,\\&quot;col_30\\&quot;:3000,\\&quot;col_31\\&quot;:3100},\\&quot;maxValues\\&quot;:{\\&quot;col_1\\&quot;:100,\\&quot;col_2\\&quot;:200,\\&quot;col_3\\&quot;:300,\\&quot;col_4\\&quot;:400,\\&quot;col_5\\&quot;:500,\\&quot;col_6\\&quot;:600,\\&quot;col_7\\&quot;:700,\\&quot;col_8\\&quot;:800,\\&quot;col_9\\&quot;:900,\\&quot;col_10\\&quot;:1000,\\&quot;col_35\\&quot;:3500,\\&quot;col_11\\&quot;:1100,\\&quot;col_12\\&quot;:1200,\\&quot;col_13\\&quot;:1300,\\&quot;col_14\\&quot;:1400,\\&quot;col_15\\&quot;:1500,\\&quot;col_16\\&quot;:1600,\\&quot;col_17\\&quot;:1700,\\&quot;col_18\\&quot;:1800,\\&quot;col_19\\&quot;:1900,\\&quot;col_20\\&quot;:2000,\\&quot;col_21\\&quot;:2100,\\&quot;col_22\\&quot;:2200,\\&quot;col_23\\&quot;:2300,\\&quot;col_24\\&quot;:2400,\\&quot;col_25\\&quot;:2500,\\&quot;col_26\\&quot;:2600,\\&quot;col_27\\&quot;:2700,\\&quot;col_28\\&quot;:2800,\\&quot;col_29\\&quot;:2900,\\&quot;col_30\\&quot;:3000,\\&quot;col_31\\&quot;:3100},\\&quot;nullCount\\&quot;:{\\&quot;col_1\\&quot;:0,\\&quot;col_2\\&quot;:0,\\&quot;col_3\\&quot;:0,\\&quot;col_4\\&quot;:0,\\&quot;col_5\\&quot;:0,\\&quot;col_6\\&quot;:0,\\&quot;col_7\\&quot;:0,\\&quot;col_8\\&quot;:0,\\&quot;col_9\\&quot;:0,\\&quot;col_10\\&quot;:0,\\&quot;col_35\\&quot;:0,\\&quot;col_11\\&quot;:0,\\&quot;col_12\\&quot;:0,\\&quot;col_13\\&quot;:0,\\&quot;col_14\\&quot;:0,\\&quot;col_15\\&quot;:0,\\&quot;col_16\\&quot;:0,\\&quot;col_17\\&quot;:0,\\&quot;col_18\\&quot;:0,\\&quot;col_19\\&quot;:0,\\&quot;col_20\\&quot;:0,\\&quot;col_21\\&quot;:0,\\&quot;col_22\\&quot;:0,\\&quot;col_23\\&quot;:0,\\&quot;col_24\\&quot;:0,\\&quot;col_25\\&quot;:0,\\&quot;col_26\\&quot;:0,\\&quot;col_27\\&quot;:0,\\&quot;col_28\\&quot;:0,\\&quot;col_29\\&quot;:0,\\&quot;col_30\\&quot;:0,\\&quot;col_31\\&quot;:0}}&quot;,&quot;tags&quot;:{&quot;INSERTION_TIME&quot;:&quot;1718139886000000&quot;,&quot;MIN_INSERTION_TIME&quot;:&quot;1718139886000000&quot;,&quot;MAX_INSERTION_TIME&quot;:&quot;1718139886000000&quot;,&quot;OPTIMIZE_TARGET_SIZE&quot;:&quot;268435456&quot;}}}\n",
       "{&quot;add&quot;:{&quot;path&quot;:&quot;part-00007-07844419-1344-4995-bacb-610d2b7e2370-c000.snappy.parquet&quot;,&quot;partitionValues&quot;:{},&quot;size&quot;:9258,&quot;modificationTime&quot;:1718139886000,&quot;dataChange&quot;:true,&quot;stats&quot;:&quot;{\\&quot;numRecords\\&quot;:1,\\&quot;minValues\\&quot;:{\\&quot;col_1\\&quot;:1000,\\&quot;col_2\\&quot;:2000,\\&quot;col_3\\&quot;:3000,\\&quot;col_4\\&quot;:4000,\\&quot;col_5\\&quot;:5000,\\&quot;col_6\\&quot;:6000,\\&quot;col_7\\&quot;:7000,\\&quot;col_8\\&quot;:8000,\\&quot;col_9\\&quot;:9000,\\&quot;col_10\\&quot;:10000,\\&quot;col_35\\&quot;:35000,\\&quot;col_11\\&quot;:11000,\\&quot;col_12\\&quot;:12000,\\&quot;col_13\\&quot;:13000,\\&quot;col_14\\&quot;:14000,\\&quot;col_15\\&quot;:15000,\\&quot;col_16\\&quot;:16000,\\&quot;col_17\\&quot;:17000,\\&quot;col_18\\&quot;:18000,\\&quot;col_19\\&quot;:19000,\\&quot;col_20\\&quot;:20000,\\&quot;col_21\\&quot;:21000,\\&quot;col_22\\&quot;:22000,\\&quot;col_23\\&quot;:23000,\\&quot;col_24\\&quot;:24000,\\&quot;col_25\\&quot;:25000,\\&quot;col_26\\&quot;:26000,\\&quot;col_27\\&quot;:27000,\\&quot;col_28\\&quot;:28000,\\&quot;col_29\\&quot;:29000,\\&quot;col_30\\&quot;:30000,\\&quot;col_31\\&quot;:31000},\\&quot;maxValues\\&quot;:{\\&quot;col_1\\&quot;:1000,\\&quot;col_2\\&quot;:2000,\\&quot;col_3\\&quot;:3000,\\&quot;col_4\\&quot;:4000,\\&quot;col_5\\&quot;:5000,\\&quot;col_6\\&quot;:6000,\\&quot;col_7\\&quot;:7000,\\&quot;col_8\\&quot;:8000,\\&quot;col_9\\&quot;:9000,\\&quot;col_10\\&quot;:10000,\\&quot;col_35\\&quot;:35000,\\&quot;col_11\\&quot;:11000,\\&quot;col_12\\&quot;:12000,\\&quot;col_13\\&quot;:13000,\\&quot;col_14\\&quot;:14000,\\&quot;col_15\\&quot;:15000,\\&quot;col_16\\&quot;:16000,\\&quot;col_17\\&quot;:17000,\\&quot;col_18\\&quot;:18000,\\&quot;col_19\\&quot;:19000,\\&quot;col_20\\&quot;:20000,\\&quot;col_21\\&quot;:21000,\\&quot;col_22\\&quot;:22000,\\&quot;col_23\\&quot;:23000,\\&quot;col_24\\&quot;:24000,\\&quot;col_25\\&quot;:25000,\\&quot;col_26\\&quot;:26000,\\&quot;col_27\\&quot;:27000,\\&quot;col_28\\&quot;:28000,\\&quot;col_29\\&quot;:29000,\\&quot;col_30\\&quot;:30000,\\&quot;col_31\\&quot;:31000},\\&quot;nullCount\\&quot;:{\\&quot;col_1\\&quot;:0,\\&quot;col_2\\&quot;:0,\\&quot;col_3\\&quot;:0,\\&quot;col_4\\&quot;:0,\\&quot;col_5\\&quot;:0,\\&quot;col_6\\&quot;:0,\\&quot;col_7\\&quot;:0,\\&quot;col_8\\&quot;:0,\\&quot;col_9\\&quot;:0,\\&quot;col_10\\&quot;:0,\\&quot;col_35\\&quot;:0,\\&quot;col_11\\&quot;:0,\\&quot;col_12\\&quot;:0,\\&quot;col_13\\&quot;:0,\\&quot;col_14\\&quot;:0,\\&quot;col_15\\&quot;:0,\\&quot;col_16\\&quot;:0,\\&quot;col_17\\&quot;:0,\\&quot;col_18\\&quot;:0,\\&quot;col_19\\&quot;:0,\\&quot;col_20\\&quot;:0,\\&quot;col_21\\&quot;:0,\\&quot;col_22\\&quot;:0,\\&quot;col_23\\&quot;:0,\\&quot;col_24\\&quot;:0,\\&quot;col_25\\&quot;:0,\\&quot;col_26\\&quot;:0,\\&quot;col_27\\&quot;:0,\\&quot;col_28\\&quot;:0,\\&quot;col_29\\&quot;:0,\\&quot;col_30\\&quot;:0,\\&quot;col_31\\&quot;:0}}&quot;,&quot;tags&quot;:{&quot;INSERTION_TIME&quot;:&quot;1718139886000001&quot;,&quot;MIN_INSERTION_TIME&quot;:&quot;1718139886000001&quot;,&quot;MAX_INSERTION_TIME&quot;:&quot;1718139886000001&quot;,&quot;OPTIMIZE_TARGET_SIZE&quot;:&quot;268435456&quot;}}}\n",
       "\n",
       "</div>"
      ]
     },
     "metadata": {
      "application/vnd.databricks.v1+output": {
       "addedWidgets": {},
       "arguments": {},
       "data": "<div class=\"ansiout\">{&quot;commitInfo&quot;:{&quot;timestamp&quot;:1718139886070,&quot;userId&quot;:&quot;8432478468657958&quot;,&quot;userName&quot;:&quot;paruchuri7781@gmail.com&quot;,&quot;operation&quot;:&quot;WRITE&quot;,&quot;operationParameters&quot;:{&quot;mode&quot;:&quot;Append&quot;,&quot;partitionBy&quot;:&quot;[]&quot;},&quot;notebook&quot;:{&quot;notebookId&quot;:&quot;1505408737210300&quot;},&quot;clusterId&quot;:&quot;0611-194349-ryz6cr1c&quot;,&quot;readVersion&quot;:3,&quot;isolationLevel&quot;:&quot;WriteSerializable&quot;,&quot;isBlindAppend&quot;:true,&quot;operationMetrics&quot;:{&quot;numFiles&quot;:&quot;2&quot;,&quot;numOutputRows&quot;:&quot;2&quot;,&quot;numOutputBytes&quot;:&quot;18515&quot;},&quot;engineInfo&quot;:&quot;Databricks-Runtime/12.2.x-scala2.12&quot;,&quot;txnId&quot;:&quot;8c45cf91-de06-4ccf-b4b3-5c30358ae2b7&quot;}}\n{&quot;add&quot;:{&quot;path&quot;:&quot;part-00003-273d6e31-aa98-4567-9a70-0a6603ab5aff-c000.snappy.parquet&quot;,&quot;partitionValues&quot;:{},&quot;size&quot;:9257,&quot;modificationTime&quot;:1718139886000,&quot;dataChange&quot;:true,&quot;stats&quot;:&quot;{\\&quot;numRecords\\&quot;:1,\\&quot;minValues\\&quot;:{\\&quot;col_1\\&quot;:100,\\&quot;col_2\\&quot;:200,\\&quot;col_3\\&quot;:300,\\&quot;col_4\\&quot;:400,\\&quot;col_5\\&quot;:500,\\&quot;col_6\\&quot;:600,\\&quot;col_7\\&quot;:700,\\&quot;col_8\\&quot;:800,\\&quot;col_9\\&quot;:900,\\&quot;col_10\\&quot;:1000,\\&quot;col_35\\&quot;:3500,\\&quot;col_11\\&quot;:1100,\\&quot;col_12\\&quot;:1200,\\&quot;col_13\\&quot;:1300,\\&quot;col_14\\&quot;:1400,\\&quot;col_15\\&quot;:1500,\\&quot;col_16\\&quot;:1600,\\&quot;col_17\\&quot;:1700,\\&quot;col_18\\&quot;:1800,\\&quot;col_19\\&quot;:1900,\\&quot;col_20\\&quot;:2000,\\&quot;col_21\\&quot;:2100,\\&quot;col_22\\&quot;:2200,\\&quot;col_23\\&quot;:2300,\\&quot;col_24\\&quot;:2400,\\&quot;col_25\\&quot;:2500,\\&quot;col_26\\&quot;:2600,\\&quot;col_27\\&quot;:2700,\\&quot;col_28\\&quot;:2800,\\&quot;col_29\\&quot;:2900,\\&quot;col_30\\&quot;:3000,\\&quot;col_31\\&quot;:3100},\\&quot;maxValues\\&quot;:{\\&quot;col_1\\&quot;:100,\\&quot;col_2\\&quot;:200,\\&quot;col_3\\&quot;:300,\\&quot;col_4\\&quot;:400,\\&quot;col_5\\&quot;:500,\\&quot;col_6\\&quot;:600,\\&quot;col_7\\&quot;:700,\\&quot;col_8\\&quot;:800,\\&quot;col_9\\&quot;:900,\\&quot;col_10\\&quot;:1000,\\&quot;col_35\\&quot;:3500,\\&quot;col_11\\&quot;:1100,\\&quot;col_12\\&quot;:1200,\\&quot;col_13\\&quot;:1300,\\&quot;col_14\\&quot;:1400,\\&quot;col_15\\&quot;:1500,\\&quot;col_16\\&quot;:1600,\\&quot;col_17\\&quot;:1700,\\&quot;col_18\\&quot;:1800,\\&quot;col_19\\&quot;:1900,\\&quot;col_20\\&quot;:2000,\\&quot;col_21\\&quot;:2100,\\&quot;col_22\\&quot;:2200,\\&quot;col_23\\&quot;:2300,\\&quot;col_24\\&quot;:2400,\\&quot;col_25\\&quot;:2500,\\&quot;col_26\\&quot;:2600,\\&quot;col_27\\&quot;:2700,\\&quot;col_28\\&quot;:2800,\\&quot;col_29\\&quot;:2900,\\&quot;col_30\\&quot;:3000,\\&quot;col_31\\&quot;:3100},\\&quot;nullCount\\&quot;:{\\&quot;col_1\\&quot;:0,\\&quot;col_2\\&quot;:0,\\&quot;col_3\\&quot;:0,\\&quot;col_4\\&quot;:0,\\&quot;col_5\\&quot;:0,\\&quot;col_6\\&quot;:0,\\&quot;col_7\\&quot;:0,\\&quot;col_8\\&quot;:0,\\&quot;col_9\\&quot;:0,\\&quot;col_10\\&quot;:0,\\&quot;col_35\\&quot;:0,\\&quot;col_11\\&quot;:0,\\&quot;col_12\\&quot;:0,\\&quot;col_13\\&quot;:0,\\&quot;col_14\\&quot;:0,\\&quot;col_15\\&quot;:0,\\&quot;col_16\\&quot;:0,\\&quot;col_17\\&quot;:0,\\&quot;col_18\\&quot;:0,\\&quot;col_19\\&quot;:0,\\&quot;col_20\\&quot;:0,\\&quot;col_21\\&quot;:0,\\&quot;col_22\\&quot;:0,\\&quot;col_23\\&quot;:0,\\&quot;col_24\\&quot;:0,\\&quot;col_25\\&quot;:0,\\&quot;col_26\\&quot;:0,\\&quot;col_27\\&quot;:0,\\&quot;col_28\\&quot;:0,\\&quot;col_29\\&quot;:0,\\&quot;col_30\\&quot;:0,\\&quot;col_31\\&quot;:0}}&quot;,&quot;tags&quot;:{&quot;INSERTION_TIME&quot;:&quot;1718139886000000&quot;,&quot;MIN_INSERTION_TIME&quot;:&quot;1718139886000000&quot;,&quot;MAX_INSERTION_TIME&quot;:&quot;1718139886000000&quot;,&quot;OPTIMIZE_TARGET_SIZE&quot;:&quot;268435456&quot;}}}\n{&quot;add&quot;:{&quot;path&quot;:&quot;part-00007-07844419-1344-4995-bacb-610d2b7e2370-c000.snappy.parquet&quot;,&quot;partitionValues&quot;:{},&quot;size&quot;:9258,&quot;modificationTime&quot;:1718139886000,&quot;dataChange&quot;:true,&quot;stats&quot;:&quot;{\\&quot;numRecords\\&quot;:1,\\&quot;minValues\\&quot;:{\\&quot;col_1\\&quot;:1000,\\&quot;col_2\\&quot;:2000,\\&quot;col_3\\&quot;:3000,\\&quot;col_4\\&quot;:4000,\\&quot;col_5\\&quot;:5000,\\&quot;col_6\\&quot;:6000,\\&quot;col_7\\&quot;:7000,\\&quot;col_8\\&quot;:8000,\\&quot;col_9\\&quot;:9000,\\&quot;col_10\\&quot;:10000,\\&quot;col_35\\&quot;:35000,\\&quot;col_11\\&quot;:11000,\\&quot;col_12\\&quot;:12000,\\&quot;col_13\\&quot;:13000,\\&quot;col_14\\&quot;:14000,\\&quot;col_15\\&quot;:15000,\\&quot;col_16\\&quot;:16000,\\&quot;col_17\\&quot;:17000,\\&quot;col_18\\&quot;:18000,\\&quot;col_19\\&quot;:19000,\\&quot;col_20\\&quot;:20000,\\&quot;col_21\\&quot;:21000,\\&quot;col_22\\&quot;:22000,\\&quot;col_23\\&quot;:23000,\\&quot;col_24\\&quot;:24000,\\&quot;col_25\\&quot;:25000,\\&quot;col_26\\&quot;:26000,\\&quot;col_27\\&quot;:27000,\\&quot;col_28\\&quot;:28000,\\&quot;col_29\\&quot;:29000,\\&quot;col_30\\&quot;:30000,\\&quot;col_31\\&quot;:31000},\\&quot;maxValues\\&quot;:{\\&quot;col_1\\&quot;:1000,\\&quot;col_2\\&quot;:2000,\\&quot;col_3\\&quot;:3000,\\&quot;col_4\\&quot;:4000,\\&quot;col_5\\&quot;:5000,\\&quot;col_6\\&quot;:6000,\\&quot;col_7\\&quot;:7000,\\&quot;col_8\\&quot;:8000,\\&quot;col_9\\&quot;:9000,\\&quot;col_10\\&quot;:10000,\\&quot;col_35\\&quot;:35000,\\&quot;col_11\\&quot;:11000,\\&quot;col_12\\&quot;:12000,\\&quot;col_13\\&quot;:13000,\\&quot;col_14\\&quot;:14000,\\&quot;col_15\\&quot;:15000,\\&quot;col_16\\&quot;:16000,\\&quot;col_17\\&quot;:17000,\\&quot;col_18\\&quot;:18000,\\&quot;col_19\\&quot;:19000,\\&quot;col_20\\&quot;:20000,\\&quot;col_21\\&quot;:21000,\\&quot;col_22\\&quot;:22000,\\&quot;col_23\\&quot;:23000,\\&quot;col_24\\&quot;:24000,\\&quot;col_25\\&quot;:25000,\\&quot;col_26\\&quot;:26000,\\&quot;col_27\\&quot;:27000,\\&quot;col_28\\&quot;:28000,\\&quot;col_29\\&quot;:29000,\\&quot;col_30\\&quot;:30000,\\&quot;col_31\\&quot;:31000},\\&quot;nullCount\\&quot;:{\\&quot;col_1\\&quot;:0,\\&quot;col_2\\&quot;:0,\\&quot;col_3\\&quot;:0,\\&quot;col_4\\&quot;:0,\\&quot;col_5\\&quot;:0,\\&quot;col_6\\&quot;:0,\\&quot;col_7\\&quot;:0,\\&quot;col_8\\&quot;:0,\\&quot;col_9\\&quot;:0,\\&quot;col_10\\&quot;:0,\\&quot;col_35\\&quot;:0,\\&quot;col_11\\&quot;:0,\\&quot;col_12\\&quot;:0,\\&quot;col_13\\&quot;:0,\\&quot;col_14\\&quot;:0,\\&quot;col_15\\&quot;:0,\\&quot;col_16\\&quot;:0,\\&quot;col_17\\&quot;:0,\\&quot;col_18\\&quot;:0,\\&quot;col_19\\&quot;:0,\\&quot;col_20\\&quot;:0,\\&quot;col_21\\&quot;:0,\\&quot;col_22\\&quot;:0,\\&quot;col_23\\&quot;:0,\\&quot;col_24\\&quot;:0,\\&quot;col_25\\&quot;:0,\\&quot;col_26\\&quot;:0,\\&quot;col_27\\&quot;:0,\\&quot;col_28\\&quot;:0,\\&quot;col_29\\&quot;:0,\\&quot;col_30\\&quot;:0,\\&quot;col_31\\&quot;:0}}&quot;,&quot;tags&quot;:{&quot;INSERTION_TIME&quot;:&quot;1718139886000001&quot;,&quot;MIN_INSERTION_TIME&quot;:&quot;1718139886000001&quot;,&quot;MAX_INSERTION_TIME&quot;:&quot;1718139886000001&quot;,&quot;OPTIMIZE_TARGET_SIZE&quot;:&quot;268435456&quot;}}}\n\n</div>",
       "datasetInfos": [],
       "metadata": {
        "isDbfsCommandResult": false
       },
       "removedWidgets": [],
       "type": "html"
      }
     },
     "output_type": "display_data"
    }
   ],
   "source": [
    "%fs\n",
    "\n",
    "head /FileStore/tables/column_reordering_example/_delta_log/00000000000000000004.json"
   ]
  },
  {
   "cell_type": "markdown",
   "metadata": {
    "application/vnd.databricks.v1+cell": {
     "cellMetadata": {},
     "inputWidgets": {},
     "nuid": "a542bfec-abaa-486b-8e42-9a113b9104d7",
     "showTitle": false,
     "title": ""
    }
   },
   "source": [
    "recomputing stats"
   ]
  },
  {
   "cell_type": "code",
   "execution_count": 0,
   "metadata": {
    "application/vnd.databricks.v1+cell": {
     "cellMetadata": {
      "byteLimit": 2048000,
      "rowLimit": 10000
     },
     "inputWidgets": {},
     "nuid": "255610e1-b1d3-4b50-89e6-dcf72887cf6b",
     "showTitle": false,
     "title": ""
    }
   },
   "outputs": [
    {
     "output_type": "display_data",
     "data": {
      "text/html": [
       "<style scoped>\n",
       "  .ansiout {\n",
       "    display: block;\n",
       "    unicode-bidi: embed;\n",
       "    white-space: pre-wrap;\n",
       "    word-wrap: break-word;\n",
       "    word-break: break-all;\n",
       "    font-family: \"Menlo\", \"Monaco\", \"Consolas\", \"Ubuntu Mono\", \"Source Code Pro\", monospace;\n",
       "    font-size: 13px;\n",
       "    color: #555;\n",
       "    margin-left: 4px;\n",
       "    line-height: 19px;\n",
       "  }\n",
       "</style>\n",
       "<div class=\"ansiout\">import com.databricks.sql.transaction.tahoe._\n",
       "import org.apache.spark.sql.catalyst.TableIdentifier\n",
       "import com.databricks.sql.transaction.tahoe.stats.StatisticsCollection\n",
       "tableName: String = column_reordering_table\n",
       "deltaLog: com.databricks.sql.transaction.tahoe.DeltaLog = com.databricks.sql.transaction.tahoe.DeltaLog@ff5f67d\n",
       "</div>"
      ]
     },
     "metadata": {
      "application/vnd.databricks.v1+output": {
       "addedWidgets": {},
       "arguments": {},
       "data": "<div class=\"ansiout\">import com.databricks.sql.transaction.tahoe._\nimport org.apache.spark.sql.catalyst.TableIdentifier\nimport com.databricks.sql.transaction.tahoe.stats.StatisticsCollection\ntableName: String = column_reordering_table\ndeltaLog: com.databricks.sql.transaction.tahoe.DeltaLog = com.databricks.sql.transaction.tahoe.DeltaLog@ff5f67d\n</div>",
       "datasetInfos": [],
       "metadata": {
        "isDbfsCommandResult": false
       },
       "removedWidgets": [],
       "type": "html"
      }
     },
     "output_type": "display_data"
    }
   ],
   "source": [
    "%scala\n",
    "\n",
    "import com.databricks.sql.transaction.tahoe._\n",
    "import org.apache.spark.sql.catalyst.TableIdentifier\n",
    "import com.databricks.sql.transaction.tahoe.stats.StatisticsCollection\n",
    "\n",
    "val tableName = \"column_reordering_table\"\n",
    "val deltaLog = DeltaLog.forTable(spark, TableIdentifier(tableName))\n",
    "StatisticsCollection.recompute(spark, deltaLog)\n"
   ]
  },
  {
   "cell_type": "code",
   "execution_count": 0,
   "metadata": {
    "application/vnd.databricks.v1+cell": {
     "cellMetadata": {
      "byteLimit": 2048000,
      "rowLimit": 10000
     },
     "inputWidgets": {},
     "nuid": "c22b4341-1807-48da-ad33-566b8a30a674",
     "showTitle": false,
     "title": ""
    }
   },
   "outputs": [
    {
     "output_type": "display_data",
     "data": {
      "text/html": [
       "<style scoped>\n",
       "  .table-result-container {\n",
       "    max-height: 300px;\n",
       "    overflow: auto;\n",
       "  }\n",
       "  table, th, td {\n",
       "    border: 1px solid black;\n",
       "    border-collapse: collapse;\n",
       "  }\n",
       "  th, td {\n",
       "    padding: 5px;\n",
       "  }\n",
       "  th {\n",
       "    text-align: left;\n",
       "  }\n",
       "</style><div class='table-result-container'><table class='table-result'><thead style='background-color: white'><tr><th>path</th><th>name</th><th>size</th><th>modificationTime</th></tr></thead><tbody><tr><td>dbfs:/FileStore/tables/column_reordering_example/_delta_log/.s3-optimization-0</td><td>.s3-optimization-0</td><td>0</td><td>1718138329000</td></tr><tr><td>dbfs:/FileStore/tables/column_reordering_example/_delta_log/.s3-optimization-1</td><td>.s3-optimization-1</td><td>0</td><td>1718138329000</td></tr><tr><td>dbfs:/FileStore/tables/column_reordering_example/_delta_log/.s3-optimization-2</td><td>.s3-optimization-2</td><td>0</td><td>1718138329000</td></tr><tr><td>dbfs:/FileStore/tables/column_reordering_example/_delta_log/00000000000000000000.crc</td><td>00000000000000000000.crc</td><td>4386</td><td>1718138334000</td></tr><tr><td>dbfs:/FileStore/tables/column_reordering_example/_delta_log/00000000000000000000.json</td><td>00000000000000000000.json</td><td>3356</td><td>1718138329000</td></tr><tr><td>dbfs:/FileStore/tables/column_reordering_example/_delta_log/00000000000000000001.crc</td><td>00000000000000000001.crc</td><td>7793</td><td>1718138358000</td></tr><tr><td>dbfs:/FileStore/tables/column_reordering_example/_delta_log/00000000000000000001.json</td><td>00000000000000000001.json</td><td>3934</td><td>1718138355000</td></tr><tr><td>dbfs:/FileStore/tables/column_reordering_example/_delta_log/00000000000000000002.crc</td><td>00000000000000000002.crc</td><td>4380</td><td>1718138756000</td></tr><tr><td>dbfs:/FileStore/tables/column_reordering_example/_delta_log/00000000000000000002.json</td><td>00000000000000000002.json</td><td>3344</td><td>1718138752000</td></tr><tr><td>dbfs:/FileStore/tables/column_reordering_example/_delta_log/00000000000000000003.crc</td><td>00000000000000000003.crc</td><td>4380</td><td>1718139046000</td></tr><tr><td>dbfs:/FileStore/tables/column_reordering_example/_delta_log/00000000000000000003.json</td><td>00000000000000000003.json</td><td>3351</td><td>1718139043000</td></tr><tr><td>dbfs:/FileStore/tables/column_reordering_example/_delta_log/00000000000000000004.crc</td><td>00000000000000000004.crc</td><td>11449</td><td>1718139892000</td></tr><tr><td>dbfs:/FileStore/tables/column_reordering_example/_delta_log/00000000000000000004.json</td><td>00000000000000000004.json</td><td>4190</td><td>1718139887000</td></tr><tr><td>dbfs:/FileStore/tables/column_reordering_example/_delta_log/00000000000000000005.crc</td><td>00000000000000000005.crc</td><td>11449</td><td>1718141426000</td></tr><tr><td>dbfs:/FileStore/tables/column_reordering_example/_delta_log/00000000000000000005.json</td><td>00000000000000000005.json</td><td>7548</td><td>1718141422000</td></tr></tbody></table></div>"
      ]
     },
     "metadata": {
      "application/vnd.databricks.v1+output": {
       "addedWidgets": {},
       "aggData": [],
       "aggError": "",
       "aggOverflow": false,
       "aggSchema": [],
       "aggSeriesLimitReached": false,
       "aggType": "",
       "arguments": {},
       "columnCustomDisplayInfos": {},
       "data": [
        [
         "dbfs:/FileStore/tables/column_reordering_example/_delta_log/.s3-optimization-0",
         ".s3-optimization-0",
         0,
         1718138329000
        ],
        [
         "dbfs:/FileStore/tables/column_reordering_example/_delta_log/.s3-optimization-1",
         ".s3-optimization-1",
         0,
         1718138329000
        ],
        [
         "dbfs:/FileStore/tables/column_reordering_example/_delta_log/.s3-optimization-2",
         ".s3-optimization-2",
         0,
         1718138329000
        ],
        [
         "dbfs:/FileStore/tables/column_reordering_example/_delta_log/00000000000000000000.crc",
         "00000000000000000000.crc",
         4386,
         1718138334000
        ],
        [
         "dbfs:/FileStore/tables/column_reordering_example/_delta_log/00000000000000000000.json",
         "00000000000000000000.json",
         3356,
         1718138329000
        ],
        [
         "dbfs:/FileStore/tables/column_reordering_example/_delta_log/00000000000000000001.crc",
         "00000000000000000001.crc",
         7793,
         1718138358000
        ],
        [
         "dbfs:/FileStore/tables/column_reordering_example/_delta_log/00000000000000000001.json",
         "00000000000000000001.json",
         3934,
         1718138355000
        ],
        [
         "dbfs:/FileStore/tables/column_reordering_example/_delta_log/00000000000000000002.crc",
         "00000000000000000002.crc",
         4380,
         1718138756000
        ],
        [
         "dbfs:/FileStore/tables/column_reordering_example/_delta_log/00000000000000000002.json",
         "00000000000000000002.json",
         3344,
         1718138752000
        ],
        [
         "dbfs:/FileStore/tables/column_reordering_example/_delta_log/00000000000000000003.crc",
         "00000000000000000003.crc",
         4380,
         1718139046000
        ],
        [
         "dbfs:/FileStore/tables/column_reordering_example/_delta_log/00000000000000000003.json",
         "00000000000000000003.json",
         3351,
         1718139043000
        ],
        [
         "dbfs:/FileStore/tables/column_reordering_example/_delta_log/00000000000000000004.crc",
         "00000000000000000004.crc",
         11449,
         1718139892000
        ],
        [
         "dbfs:/FileStore/tables/column_reordering_example/_delta_log/00000000000000000004.json",
         "00000000000000000004.json",
         4190,
         1718139887000
        ],
        [
         "dbfs:/FileStore/tables/column_reordering_example/_delta_log/00000000000000000005.crc",
         "00000000000000000005.crc",
         11449,
         1718141426000
        ],
        [
         "dbfs:/FileStore/tables/column_reordering_example/_delta_log/00000000000000000005.json",
         "00000000000000000005.json",
         7548,
         1718141422000
        ]
       ],
       "datasetInfos": [],
       "dbfsResultPath": null,
       "isJsonSchema": true,
       "metadata": {
        "isDbfsCommandResult": false
       },
       "overflow": false,
       "plotOptions": {
        "customPlotOptions": {},
        "displayType": "table",
        "pivotAggregation": null,
        "pivotColumns": null,
        "xColumns": null,
        "yColumns": null
       },
       "removedWidgets": [],
       "schema": [
        {
         "metadata": "{}",
         "name": "path",
         "type": "\"string\""
        },
        {
         "metadata": "{}",
         "name": "name",
         "type": "\"string\""
        },
        {
         "metadata": "{}",
         "name": "size",
         "type": "\"long\""
        },
        {
         "metadata": "{}",
         "name": "modificationTime",
         "type": "\"long\""
        }
       ],
       "type": "table"
      }
     },
     "output_type": "display_data"
    }
   ],
   "source": [
    "%fs\n",
    "\n",
    "ls /FileStore/tables/column_reordering_example/_delta_log/"
   ]
  },
  {
   "cell_type": "code",
   "execution_count": 0,
   "metadata": {
    "application/vnd.databricks.v1+cell": {
     "cellMetadata": {
      "byteLimit": 2048000,
      "rowLimit": 10000
     },
     "inputWidgets": {},
     "nuid": "5c09d504-62bb-42f6-9947-74c3cddcd2c0",
     "showTitle": false,
     "title": ""
    }
   },
   "outputs": [
    {
     "output_type": "display_data",
     "data": {
      "text/html": [
       "<style scoped>\n",
       "  .ansiout {\n",
       "    display: block;\n",
       "    unicode-bidi: embed;\n",
       "    white-space: pre-wrap;\n",
       "    word-wrap: break-word;\n",
       "    word-break: break-all;\n",
       "    font-family: \"Menlo\", \"Monaco\", \"Consolas\", \"Ubuntu Mono\", \"Source Code Pro\", monospace;\n",
       "    font-size: 13px;\n",
       "    color: #555;\n",
       "    margin-left: 4px;\n",
       "    line-height: 19px;\n",
       "  }\n",
       "</style>\n",
       "<div class=\"ansiout\">{&quot;commitInfo&quot;:{&quot;timestamp&quot;:1718141421155,&quot;userId&quot;:&quot;8432478468657958&quot;,&quot;userName&quot;:&quot;paruchuri7781@gmail.com&quot;,&quot;operation&quot;:&quot;COMPUTE STATS&quot;,&quot;operationParameters&quot;:{&quot;predicate&quot;:&quot;[\\&quot;true\\&quot;]&quot;},&quot;notebook&quot;:{&quot;notebookId&quot;:&quot;1505408737210300&quot;},&quot;clusterId&quot;:&quot;0611-194349-ryz6cr1c&quot;,&quot;readVersion&quot;:4,&quot;isolationLevel&quot;:&quot;SnapshotIsolation&quot;,&quot;isBlindAppend&quot;:false,&quot;operationMetrics&quot;:{},&quot;engineInfo&quot;:&quot;Databricks-Runtime/12.2.x-scala2.12&quot;,&quot;txnId&quot;:&quot;4f8e07e2-2a48-45fa-86f4-3b8b9d75f26b&quot;}}\n",
       "{&quot;add&quot;:{&quot;path&quot;:&quot;part-00007-07844419-1344-4995-bacb-610d2b7e2370-c000.snappy.parquet&quot;,&quot;partitionValues&quot;:{},&quot;size&quot;:9258,&quot;modificationTime&quot;:1718139886000,&quot;dataChange&quot;:false,&quot;stats&quot;:&quot;{\\&quot;numRecords\\&quot;:1,\\&quot;minValues\\&quot;:{\\&quot;col_1\\&quot;:1000,\\&quot;col_2\\&quot;:2000,\\&quot;col_3\\&quot;:3000,\\&quot;col_4\\&quot;:4000,\\&quot;col_5\\&quot;:5000,\\&quot;col_6\\&quot;:6000,\\&quot;col_7\\&quot;:7000,\\&quot;col_8\\&quot;:8000,\\&quot;col_9\\&quot;:9000,\\&quot;col_10\\&quot;:10000,\\&quot;col_35\\&quot;:35000,\\&quot;col_11\\&quot;:11000,\\&quot;col_12\\&quot;:12000,\\&quot;col_13\\&quot;:13000,\\&quot;col_14\\&quot;:14000,\\&quot;col_15\\&quot;:15000,\\&quot;col_16\\&quot;:16000,\\&quot;col_17\\&quot;:17000,\\&quot;col_18\\&quot;:18000,\\&quot;col_19\\&quot;:19000,\\&quot;col_20\\&quot;:20000,\\&quot;col_21\\&quot;:21000,\\&quot;col_22\\&quot;:22000,\\&quot;col_23\\&quot;:23000,\\&quot;col_24\\&quot;:24000,\\&quot;col_25\\&quot;:25000,\\&quot;col_26\\&quot;:26000,\\&quot;col_27\\&quot;:27000,\\&quot;col_28\\&quot;:28000,\\&quot;col_29\\&quot;:29000,\\&quot;col_30\\&quot;:30000,\\&quot;col_31\\&quot;:31000},\\&quot;maxValues\\&quot;:{\\&quot;col_1\\&quot;:1000,\\&quot;col_2\\&quot;:2000,\\&quot;col_3\\&quot;:3000,\\&quot;col_4\\&quot;:4000,\\&quot;col_5\\&quot;:5000,\\&quot;col_6\\&quot;:6000,\\&quot;col_7\\&quot;:7000,\\&quot;col_8\\&quot;:8000,\\&quot;col_9\\&quot;:9000,\\&quot;col_10\\&quot;:10000,\\&quot;col_35\\&quot;:35000,\\&quot;col_11\\&quot;:11000,\\&quot;col_12\\&quot;:12000,\\&quot;col_13\\&quot;:13000,\\&quot;col_14\\&quot;:14000,\\&quot;col_15\\&quot;:15000,\\&quot;col_16\\&quot;:16000,\\&quot;col_17\\&quot;:17000,\\&quot;col_18\\&quot;:18000,\\&quot;col_19\\&quot;:19000,\\&quot;col_20\\&quot;:20000,\\&quot;col_21\\&quot;:21000,\\&quot;col_22\\&quot;:22000,\\&quot;col_23\\&quot;:23000,\\&quot;col_24\\&quot;:24000,\\&quot;col_25\\&quot;:25000,\\&quot;col_26\\&quot;:26000,\\&quot;col_27\\&quot;:27000,\\&quot;col_28\\&quot;:28000,\\&quot;col_29\\&quot;:29000,\\&quot;col_30\\&quot;:30000,\\&quot;col_31\\&quot;:31000},\\&quot;nullCount\\&quot;:{\\&quot;col_1\\&quot;:0,\\&quot;col_2\\&quot;:0,\\&quot;col_3\\&quot;:0,\\&quot;col_4\\&quot;:0,\\&quot;col_5\\&quot;:0,\\&quot;col_6\\&quot;:0,\\&quot;col_7\\&quot;:0,\\&quot;col_8\\&quot;:0,\\&quot;col_9\\&quot;:0,\\&quot;col_10\\&quot;:0,\\&quot;col_35\\&quot;:0,\\&quot;col_11\\&quot;:0,\\&quot;col_12\\&quot;:0,\\&quot;col_13\\&quot;:0,\\&quot;col_14\\&quot;:0,\\&quot;col_15\\&quot;:0,\\&quot;col_16\\&quot;:0,\\&quot;col_17\\&quot;:0,\\&quot;col_18\\&quot;:0,\\&quot;col_19\\&quot;:0,\\&quot;col_20\\&quot;:0,\\&quot;col_21\\&quot;:0,\\&quot;col_22\\&quot;:0,\\&quot;col_23\\&quot;:0,\\&quot;col_24\\&quot;:0,\\&quot;col_25\\&quot;:0,\\&quot;col_26\\&quot;:0,\\&quot;col_27\\&quot;:0,\\&quot;col_28\\&quot;:0,\\&quot;col_29\\&quot;:0,\\&quot;col_30\\&quot;:0,\\&quot;col_31\\&quot;:0}}&quot;,&quot;tags&quot;:{&quot;INSERTION_TIME&quot;:&quot;1718139886000001&quot;,&quot;MIN_INSERTION_TIME&quot;:&quot;1718139886000001&quot;,&quot;MAX_INSERTION_TIME&quot;:&quot;1718139886000001&quot;,&quot;OPTIMIZE_TARGET_SIZE&quot;:&quot;268435456&quot;}}}\n",
       "{&quot;add&quot;:{&quot;path&quot;:&quot;part-00003-273d6e31-aa98-4567-9a70-0a6603ab5aff-c000.snappy.parquet&quot;,&quot;partitionValues&quot;:{},&quot;size&quot;:9257,&quot;modificationTime&quot;:1718139886000,&quot;dataChange&quot;:false,&quot;stats&quot;:&quot;{\\&quot;numRecords\\&quot;:1,\\&quot;minValues\\&quot;:{\\&quot;col_1\\&quot;:100,\\&quot;col_2\\&quot;:200,\\&quot;col_3\\&quot;:300,\\&quot;col_4\\&quot;:400,\\&quot;col_5\\&quot;:500,\\&quot;col_6\\&quot;:600,\\&quot;col_7\\&quot;:700,\\&quot;col_8\\&quot;:800,\\&quot;col_9\\&quot;:900,\\&quot;col_10\\&quot;:1000,\\&quot;col_35\\&quot;:3500,\\&quot;col_11\\&quot;:1100,\\&quot;col_12\\&quot;:1200,\\&quot;col_13\\&quot;:1300,\\&quot;col_14\\&quot;:1400,\\&quot;col_15\\&quot;:1500,\\&quot;col_16\\&quot;:1600,\\&quot;col_17\\&quot;:1700,\\&quot;col_18\\&quot;:1800,\\&quot;col_19\\&quot;:1900,\\&quot;col_20\\&quot;:2000,\\&quot;col_21\\&quot;:2100,\\&quot;col_22\\&quot;:2200,\\&quot;col_23\\&quot;:2300,\\&quot;col_24\\&quot;:2400,\\&quot;col_25\\&quot;:2500,\\&quot;col_26\\&quot;:2600,\\&quot;col_27\\&quot;:2700,\\&quot;col_28\\&quot;:2800,\\&quot;col_29\\&quot;:2900,\\&quot;col_30\\&quot;:3000,\\&quot;col_31\\&quot;:3100},\\&quot;maxValues\\&quot;:{\\&quot;col_1\\&quot;:100,\\&quot;col_2\\&quot;:200,\\&quot;col_3\\&quot;:300,\\&quot;col_4\\&quot;:400,\\&quot;col_5\\&quot;:500,\\&quot;col_6\\&quot;:600,\\&quot;col_7\\&quot;:700,\\&quot;col_8\\&quot;:800,\\&quot;col_9\\&quot;:900,\\&quot;col_10\\&quot;:1000,\\&quot;col_35\\&quot;:3500,\\&quot;col_11\\&quot;:1100,\\&quot;col_12\\&quot;:1200,\\&quot;col_13\\&quot;:1300,\\&quot;col_14\\&quot;:1400,\\&quot;col_15\\&quot;:1500,\\&quot;col_16\\&quot;:1600,\\&quot;col_17\\&quot;:1700,\\&quot;col_18\\&quot;:1800,\\&quot;col_19\\&quot;:1900,\\&quot;col_20\\&quot;:2000,\\&quot;col_21\\&quot;:2100,\\&quot;col_22\\&quot;:2200,\\&quot;col_23\\&quot;:2300,\\&quot;col_24\\&quot;:2400,\\&quot;col_25\\&quot;:2500,\\&quot;col_26\\&quot;:2600,\\&quot;col_27\\&quot;:2700,\\&quot;col_28\\&quot;:2800,\\&quot;col_29\\&quot;:2900,\\&quot;col_30\\&quot;:3000,\\&quot;col_31\\&quot;:3100},\\&quot;nullCount\\&quot;:{\\&quot;col_1\\&quot;:0,\\&quot;col_2\\&quot;:0,\\&quot;col_3\\&quot;:0,\\&quot;col_4\\&quot;:0,\\&quot;col_5\\&quot;:0,\\&quot;col_6\\&quot;:0,\\&quot;col_7\\&quot;:0,\\&quot;col_8\\&quot;:0,\\&quot;col_9\\&quot;:0,\\&quot;col_10\\&quot;:0,\\&quot;col_35\\&quot;:0,\\&quot;col_11\\&quot;:0,\\&quot;col_12\\&quot;:0,\\&quot;col_13\\&quot;:0,\\&quot;col_14\\&quot;:0,\\&quot;col_15\\&quot;:0,\\&quot;col_16\\&quot;:0,\\&quot;col_17\\&quot;:0,\\&quot;col_18\\&quot;:0,\\&quot;col_19\\&quot;:0,\\&quot;col_20\\&quot;:0,\\&quot;col_21\\&quot;:0,\\&quot;col_22\\&quot;:0,\\&quot;col_23\\&quot;:0,\\&quot;col_24\\&quot;:0,\\&quot;col_25\\&quot;:0,\\&quot;col_26\\&quot;:0,\\&quot;col_27\\&quot;:0,\\&quot;col_28\\&quot;:0,\\&quot;col_29\\&quot;:0,\\&quot;col_30\\&quot;:0,\\&quot;col_31\\&quot;:0}}&quot;,&quot;tags&quot;:{&quot;INSERTION_TIME&quot;:&quot;1718139886000000&quot;,&quot;MIN_INSERTION_TIME&quot;:&quot;1718139886000000&quot;,&quot;MAX_INSERTION_TIME&quot;:&quot;1718139886000000&quot;,&quot;OPTIMIZE_TARGET_SIZE&quot;:&quot;268435456&quot;}}}\n",
       "{&quot;add&quot;:{&quot;path&quot;:&quot;part-00003-29a98480-ec8d-4427-bef8-13459af2cdbf-c000.snappy.parquet&quot;,&quot;partitionValues&quot;:{},&quot;size&quot;:9257,&quot;modificationTime&quot;:1718138354000,&quot;dataChange&quot;:false,&quot;stats&quot;:&quot;{\\&quot;numRecords\\&quot;:1,\\&quot;minValues\\&quot;:{\\&quot;col_1\\&quot;:1,\\&quot;col_2\\&quot;:2,\\&quot;col_3\\&quot;:3,\\&quot;col_4\\&quot;:4,\\&quot;col_5\\&quot;:5,\\&quot;col_6\\&quot;:6,\\&quot;col_7\\&quot;:7,\\&quot;col_8\\&quot;:8,\\&quot;col_9\\&quot;:9,\\&quot;col_10\\&quot;:10,\\&quot;col_35\\&quot;:35,\\&quot;col_11\\&quot;:11,\\&quot;col_12\\&quot;:12,\\&quot;col_13\\&quot;:13,\\&quot;col_14\\&quot;:14,\\&quot;col_15\\&quot;:15,\\&quot;col_16\\&quot;:16,\\&quot;col_17\\&quot;:17,\\&quot;col_18\\&quot;:18,\\&quot;col_19\\&quot;:19,\\&quot;col_20\\&quot;:20,\\&quot;col_21\\&quot;:21,\\&quot;col_22\\&quot;:22,\\&quot;col_23\\&quot;:23,\\&quot;col_24\\&quot;:24,\\&quot;col_25\\&quot;:25,\\&quot;col_26\\&quot;:26,\\&quot;col_27\\&quot;:27,\\&quot;col_28\\&quot;:28,\\&quot;col_29\\&quot;:29,\\&quot;col_30\\&quot;:30,\\&quot;col_31\\&quot;:31},\\&quot;maxValues\\&quot;:{\\&quot;col_1\\&quot;:1,\\&quot;col_2\\&quot;:2,\\&quot;col_3\\&quot;:3,\\&quot;col_4\\&quot;:4,\\&quot;col_5\\&quot;:5,\\&quot;col_6\\&quot;:6,\\&quot;col_7\\&quot;:7,\\&quot;col_8\\&quot;:8,\\&quot;col_9\\&quot;:9,\\&quot;col_10\\&quot;:10,\\&quot;col_35\\&quot;:35,\\&quot;col_11\\&quot;:11,\\&quot;col_12\\&quot;:12,\\&quot;col_13\\&quot;:13,\\&quot;col_14\\&quot;:14,\\&quot;col_15\\&quot;:15,\\&quot;col_16\\&quot;:16,\\&quot;col_17\\&quot;:17,\\&quot;col_18\\&quot;:18,\\&quot;col_19\\&quot;:19,\\&quot;col_20\\&quot;:20,\\&quot;col_21\\&quot;:21,\\&quot;col_22\\&quot;:22,\\&quot;col_23\\&quot;:23,\\&quot;col_24\\&quot;:24,\\&quot;col_25\\&quot;:25,\\&quot;col_26\\&quot;:26,\\&quot;col_27\\&quot;:27,\\&quot;col_28\\&quot;:28,\\&quot;col_29\\&quot;:29,\\&quot;col_30\\&quot;:30,\\&quot;col_31\\&quot;:31},\\&quot;nullCount\\&quot;:{\\&quot;col_1\\&quot;:0,\\&quot;col_2\\&quot;:0,\\&quot;col_3\\&quot;:0,\\&quot;col_4\\&quot;:0,\\&quot;col_5\\&quot;:0,\\&quot;col_6\\&quot;:0,\\&quot;col_7\\&quot;:0,\\&quot;col_8\\&quot;:0,\\&quot;col_9\\&quot;:0,\\&quot;col_10\\&quot;:0,\\&quot;col_35\\&quot;:0,\\&quot;col_11\\&quot;:0,\\&quot;col_12\\&quot;:0,\\&quot;col_13\\&quot;:0,\\&quot;col_14\\&quot;:0,\\&quot;col_15\\&quot;:0,\\&quot;col_16\\&quot;:0,\\&quot;col_17\\&quot;:0,\\&quot;col_18\\&quot;:0,\\&quot;col_19\\&quot;:0,\\&quot;col_20\\&quot;:0,\\&quot;col_21\\&quot;:0,\\&quot;col_22\\&quot;:0,\\&quot;col_23\\&quot;:0,\\&quot;col_24\\&quot;:0,\\&quot;col_25\\&quot;:0,\\&quot;col_26\\&quot;:0,\\&quot;col_27\\&quot;:0,\\&quot;col_28\\&quot;:0,\\&quot;col_29\\&quot;:0,\\&quot;col_30\\&quot;:0,\\&quot;col_31\\&quot;:0}}&quot;,&quot;tags&quot;:{&quot;INSERTION_TIME&quot;:&quot;1718138354000000&quot;,&quot;MIN_INSERTION_TIME&quot;:&quot;1718138354000000&quot;,&quot;MAX_INSERTION_TIME&quot;:&quot;1718138354000000&quot;,&quot;OPTIMIZE_TARGET_SIZE&quot;:&quot;268435456&quot;}}}\n",
       "{&quot;add&quot;:{&quot;path&quot;:&quot;part-00007-6a4c4764-b36f-4842-ac23-d1de1d09d54a-c000.snappy.parquet&quot;,&quot;partitionValues&quot;:{},&quot;size&quot;:9256,&quot;modificationTime&quot;:1718138354000,&quot;dataChange&quot;:false,&quot;stats&quot;:&quot;{\\&quot;numRecords\\&quot;:1,\\&quot;minValues\\&quot;:{\\&quot;col_1\\&quot;:10,\\&quot;col_2\\&quot;:20,\\&quot;col_3\\&quot;:30,\\&quot;col_4\\&quot;:40,\\&quot;col_5\\&quot;:50,\\&quot;col_6\\&quot;:60,\\&quot;col_7\\&quot;:70,\\&quot;col_8\\&quot;:80,\\&quot;col_9\\&quot;:90,\\&quot;col_10\\&quot;:100,\\&quot;col_35\\&quot;:350,\\&quot;col_11\\&quot;:110,\\&quot;col_12\\&quot;:120,\\&quot;col_13\\&quot;:130,\\&quot;col_14\\&quot;:140,\\&quot;col_15\\&quot;:150,\\&quot;col_16\\&quot;:160,\\&quot;col_17\\&quot;:170,\\&quot;col_18\\&quot;:180,\\&quot;col_19\\&quot;:190,\\&quot;col_20\\&quot;:200,\\&quot;col_21\\&quot;:210,\\&quot;col_22\\&quot;:220,\\&quot;col_23\\&quot;:230,\\&quot;col_24\\&quot;:240,\\&quot;col_25\\&quot;:250,\\&quot;col_26\\&quot;:260,\\&quot;col_27\\&quot;:270,\\&quot;col_28\\&quot;:280,\\&quot;col_29\\&quot;:290,\\&quot;col_30\\&quot;:300,\\&quot;col_31\\&quot;:310},\\&quot;maxValues\\&quot;:{\\&quot;col_1\\&quot;:10,\\&quot;col_2\\&quot;:20,\\&quot;col_3\\&quot;:30,\\&quot;col_4\\&quot;:40,\\&quot;col_5\\&quot;:50,\\&quot;col_6\\&quot;:60,\\&quot;col_7\\&quot;:70,\\&quot;col_8\\&quot;:80,\\&quot;col_9\\&quot;:90,\\&quot;col_10\\&quot;:100,\\&quot;col_35\\&quot;:350,\\&quot;col_11\\&quot;:110,\\&quot;col_12\\&quot;:120,\\&quot;col_13\\&quot;:130,\\&quot;col_14\\&quot;:140,\\&quot;col_15\\&quot;:150,\\&quot;col_16\\&quot;:160,\\&quot;col_17\\&quot;:170,\\&quot;col_18\\&quot;:180,\\&quot;col_19\\&quot;:190,\\&quot;col_20\\&quot;:200,\\&quot;col_21\\&quot;:210,\\&quot;col_22\\&quot;:220,\\&quot;col_23\\&quot;:230,\\&quot;col_24\\&quot;:240,\\&quot;col_25\\&quot;:250,\\&quot;col_26\\&quot;:260,\\&quot;col_27\\&quot;:270,\\&quot;col_28\\&quot;:280,\\&quot;col_29\\&quot;:290,\\&quot;col_30\\&quot;:300,\\&quot;col_31\\&quot;:310},\\&quot;nullCount\\&quot;:{\\&quot;col_1\\&quot;:0,\\&quot;col_2\\&quot;:0,\\&quot;col_3\\&quot;:0,\\&quot;col_4\\&quot;:0,\\&quot;col_5\\&quot;:0,\\&quot;col_6\\&quot;:0,\\&quot;col_7\\&quot;:0,\\&quot;col_8\\&quot;:0,\\&quot;col_9\\&quot;:0,\\&quot;col_10\\&quot;:0,\\&quot;col_35\\&quot;:0,\\&quot;col_11\\&quot;:0,\\&quot;col_12\\&quot;:0,\\&quot;col_13\\&quot;:0,\\&quot;col_14\\&quot;:0,\\&quot;col_15\\&quot;:0,\\&quot;col_16\\&quot;:0,\\&quot;col_17\\&quot;:0,\\&quot;col_18\\&quot;:0,\\&quot;col_19\\&quot;:0,\\&quot;col_20\\&quot;:0,\\&quot;col_21\\&quot;:0,\\&quot;col_22\\&quot;:0,\\&quot;col_23\\&quot;:0,\\&quot;col_24\\&quot;:0,\\&quot;col_25\\&quot;:0,\\&quot;col_26\\&quot;:0,\\&quot;col_27\\&quot;:0,\\&quot;col_28\\&quot;:0,\\&quot;col_29\\&quot;:0,\\&quot;col_30\\&quot;:0,\\&quot;col_31\\&quot;:0}}&quot;,&quot;tags&quot;:{&quot;INSERTION_TIME&quot;:&quot;1718138354000001&quot;,&quot;MIN_INSERTION_TIME&quot;:&quot;1718138354000001&quot;,&quot;MAX_INSERTION_TIME&quot;:&quot;1718138354000001&quot;,&quot;OPTIMIZE_TARGET_SIZE&quot;:&quot;268435456&quot;}}}\n",
       "\n",
       "</div>"
      ]
     },
     "metadata": {
      "application/vnd.databricks.v1+output": {
       "addedWidgets": {},
       "arguments": {},
       "data": "<div class=\"ansiout\">{&quot;commitInfo&quot;:{&quot;timestamp&quot;:1718141421155,&quot;userId&quot;:&quot;8432478468657958&quot;,&quot;userName&quot;:&quot;paruchuri7781@gmail.com&quot;,&quot;operation&quot;:&quot;COMPUTE STATS&quot;,&quot;operationParameters&quot;:{&quot;predicate&quot;:&quot;[\\&quot;true\\&quot;]&quot;},&quot;notebook&quot;:{&quot;notebookId&quot;:&quot;1505408737210300&quot;},&quot;clusterId&quot;:&quot;0611-194349-ryz6cr1c&quot;,&quot;readVersion&quot;:4,&quot;isolationLevel&quot;:&quot;SnapshotIsolation&quot;,&quot;isBlindAppend&quot;:false,&quot;operationMetrics&quot;:{},&quot;engineInfo&quot;:&quot;Databricks-Runtime/12.2.x-scala2.12&quot;,&quot;txnId&quot;:&quot;4f8e07e2-2a48-45fa-86f4-3b8b9d75f26b&quot;}}\n{&quot;add&quot;:{&quot;path&quot;:&quot;part-00007-07844419-1344-4995-bacb-610d2b7e2370-c000.snappy.parquet&quot;,&quot;partitionValues&quot;:{},&quot;size&quot;:9258,&quot;modificationTime&quot;:1718139886000,&quot;dataChange&quot;:false,&quot;stats&quot;:&quot;{\\&quot;numRecords\\&quot;:1,\\&quot;minValues\\&quot;:{\\&quot;col_1\\&quot;:1000,\\&quot;col_2\\&quot;:2000,\\&quot;col_3\\&quot;:3000,\\&quot;col_4\\&quot;:4000,\\&quot;col_5\\&quot;:5000,\\&quot;col_6\\&quot;:6000,\\&quot;col_7\\&quot;:7000,\\&quot;col_8\\&quot;:8000,\\&quot;col_9\\&quot;:9000,\\&quot;col_10\\&quot;:10000,\\&quot;col_35\\&quot;:35000,\\&quot;col_11\\&quot;:11000,\\&quot;col_12\\&quot;:12000,\\&quot;col_13\\&quot;:13000,\\&quot;col_14\\&quot;:14000,\\&quot;col_15\\&quot;:15000,\\&quot;col_16\\&quot;:16000,\\&quot;col_17\\&quot;:17000,\\&quot;col_18\\&quot;:18000,\\&quot;col_19\\&quot;:19000,\\&quot;col_20\\&quot;:20000,\\&quot;col_21\\&quot;:21000,\\&quot;col_22\\&quot;:22000,\\&quot;col_23\\&quot;:23000,\\&quot;col_24\\&quot;:24000,\\&quot;col_25\\&quot;:25000,\\&quot;col_26\\&quot;:26000,\\&quot;col_27\\&quot;:27000,\\&quot;col_28\\&quot;:28000,\\&quot;col_29\\&quot;:29000,\\&quot;col_30\\&quot;:30000,\\&quot;col_31\\&quot;:31000},\\&quot;maxValues\\&quot;:{\\&quot;col_1\\&quot;:1000,\\&quot;col_2\\&quot;:2000,\\&quot;col_3\\&quot;:3000,\\&quot;col_4\\&quot;:4000,\\&quot;col_5\\&quot;:5000,\\&quot;col_6\\&quot;:6000,\\&quot;col_7\\&quot;:7000,\\&quot;col_8\\&quot;:8000,\\&quot;col_9\\&quot;:9000,\\&quot;col_10\\&quot;:10000,\\&quot;col_35\\&quot;:35000,\\&quot;col_11\\&quot;:11000,\\&quot;col_12\\&quot;:12000,\\&quot;col_13\\&quot;:13000,\\&quot;col_14\\&quot;:14000,\\&quot;col_15\\&quot;:15000,\\&quot;col_16\\&quot;:16000,\\&quot;col_17\\&quot;:17000,\\&quot;col_18\\&quot;:18000,\\&quot;col_19\\&quot;:19000,\\&quot;col_20\\&quot;:20000,\\&quot;col_21\\&quot;:21000,\\&quot;col_22\\&quot;:22000,\\&quot;col_23\\&quot;:23000,\\&quot;col_24\\&quot;:24000,\\&quot;col_25\\&quot;:25000,\\&quot;col_26\\&quot;:26000,\\&quot;col_27\\&quot;:27000,\\&quot;col_28\\&quot;:28000,\\&quot;col_29\\&quot;:29000,\\&quot;col_30\\&quot;:30000,\\&quot;col_31\\&quot;:31000},\\&quot;nullCount\\&quot;:{\\&quot;col_1\\&quot;:0,\\&quot;col_2\\&quot;:0,\\&quot;col_3\\&quot;:0,\\&quot;col_4\\&quot;:0,\\&quot;col_5\\&quot;:0,\\&quot;col_6\\&quot;:0,\\&quot;col_7\\&quot;:0,\\&quot;col_8\\&quot;:0,\\&quot;col_9\\&quot;:0,\\&quot;col_10\\&quot;:0,\\&quot;col_35\\&quot;:0,\\&quot;col_11\\&quot;:0,\\&quot;col_12\\&quot;:0,\\&quot;col_13\\&quot;:0,\\&quot;col_14\\&quot;:0,\\&quot;col_15\\&quot;:0,\\&quot;col_16\\&quot;:0,\\&quot;col_17\\&quot;:0,\\&quot;col_18\\&quot;:0,\\&quot;col_19\\&quot;:0,\\&quot;col_20\\&quot;:0,\\&quot;col_21\\&quot;:0,\\&quot;col_22\\&quot;:0,\\&quot;col_23\\&quot;:0,\\&quot;col_24\\&quot;:0,\\&quot;col_25\\&quot;:0,\\&quot;col_26\\&quot;:0,\\&quot;col_27\\&quot;:0,\\&quot;col_28\\&quot;:0,\\&quot;col_29\\&quot;:0,\\&quot;col_30\\&quot;:0,\\&quot;col_31\\&quot;:0}}&quot;,&quot;tags&quot;:{&quot;INSERTION_TIME&quot;:&quot;1718139886000001&quot;,&quot;MIN_INSERTION_TIME&quot;:&quot;1718139886000001&quot;,&quot;MAX_INSERTION_TIME&quot;:&quot;1718139886000001&quot;,&quot;OPTIMIZE_TARGET_SIZE&quot;:&quot;268435456&quot;}}}\n{&quot;add&quot;:{&quot;path&quot;:&quot;part-00003-273d6e31-aa98-4567-9a70-0a6603ab5aff-c000.snappy.parquet&quot;,&quot;partitionValues&quot;:{},&quot;size&quot;:9257,&quot;modificationTime&quot;:1718139886000,&quot;dataChange&quot;:false,&quot;stats&quot;:&quot;{\\&quot;numRecords\\&quot;:1,\\&quot;minValues\\&quot;:{\\&quot;col_1\\&quot;:100,\\&quot;col_2\\&quot;:200,\\&quot;col_3\\&quot;:300,\\&quot;col_4\\&quot;:400,\\&quot;col_5\\&quot;:500,\\&quot;col_6\\&quot;:600,\\&quot;col_7\\&quot;:700,\\&quot;col_8\\&quot;:800,\\&quot;col_9\\&quot;:900,\\&quot;col_10\\&quot;:1000,\\&quot;col_35\\&quot;:3500,\\&quot;col_11\\&quot;:1100,\\&quot;col_12\\&quot;:1200,\\&quot;col_13\\&quot;:1300,\\&quot;col_14\\&quot;:1400,\\&quot;col_15\\&quot;:1500,\\&quot;col_16\\&quot;:1600,\\&quot;col_17\\&quot;:1700,\\&quot;col_18\\&quot;:1800,\\&quot;col_19\\&quot;:1900,\\&quot;col_20\\&quot;:2000,\\&quot;col_21\\&quot;:2100,\\&quot;col_22\\&quot;:2200,\\&quot;col_23\\&quot;:2300,\\&quot;col_24\\&quot;:2400,\\&quot;col_25\\&quot;:2500,\\&quot;col_26\\&quot;:2600,\\&quot;col_27\\&quot;:2700,\\&quot;col_28\\&quot;:2800,\\&quot;col_29\\&quot;:2900,\\&quot;col_30\\&quot;:3000,\\&quot;col_31\\&quot;:3100},\\&quot;maxValues\\&quot;:{\\&quot;col_1\\&quot;:100,\\&quot;col_2\\&quot;:200,\\&quot;col_3\\&quot;:300,\\&quot;col_4\\&quot;:400,\\&quot;col_5\\&quot;:500,\\&quot;col_6\\&quot;:600,\\&quot;col_7\\&quot;:700,\\&quot;col_8\\&quot;:800,\\&quot;col_9\\&quot;:900,\\&quot;col_10\\&quot;:1000,\\&quot;col_35\\&quot;:3500,\\&quot;col_11\\&quot;:1100,\\&quot;col_12\\&quot;:1200,\\&quot;col_13\\&quot;:1300,\\&quot;col_14\\&quot;:1400,\\&quot;col_15\\&quot;:1500,\\&quot;col_16\\&quot;:1600,\\&quot;col_17\\&quot;:1700,\\&quot;col_18\\&quot;:1800,\\&quot;col_19\\&quot;:1900,\\&quot;col_20\\&quot;:2000,\\&quot;col_21\\&quot;:2100,\\&quot;col_22\\&quot;:2200,\\&quot;col_23\\&quot;:2300,\\&quot;col_24\\&quot;:2400,\\&quot;col_25\\&quot;:2500,\\&quot;col_26\\&quot;:2600,\\&quot;col_27\\&quot;:2700,\\&quot;col_28\\&quot;:2800,\\&quot;col_29\\&quot;:2900,\\&quot;col_30\\&quot;:3000,\\&quot;col_31\\&quot;:3100},\\&quot;nullCount\\&quot;:{\\&quot;col_1\\&quot;:0,\\&quot;col_2\\&quot;:0,\\&quot;col_3\\&quot;:0,\\&quot;col_4\\&quot;:0,\\&quot;col_5\\&quot;:0,\\&quot;col_6\\&quot;:0,\\&quot;col_7\\&quot;:0,\\&quot;col_8\\&quot;:0,\\&quot;col_9\\&quot;:0,\\&quot;col_10\\&quot;:0,\\&quot;col_35\\&quot;:0,\\&quot;col_11\\&quot;:0,\\&quot;col_12\\&quot;:0,\\&quot;col_13\\&quot;:0,\\&quot;col_14\\&quot;:0,\\&quot;col_15\\&quot;:0,\\&quot;col_16\\&quot;:0,\\&quot;col_17\\&quot;:0,\\&quot;col_18\\&quot;:0,\\&quot;col_19\\&quot;:0,\\&quot;col_20\\&quot;:0,\\&quot;col_21\\&quot;:0,\\&quot;col_22\\&quot;:0,\\&quot;col_23\\&quot;:0,\\&quot;col_24\\&quot;:0,\\&quot;col_25\\&quot;:0,\\&quot;col_26\\&quot;:0,\\&quot;col_27\\&quot;:0,\\&quot;col_28\\&quot;:0,\\&quot;col_29\\&quot;:0,\\&quot;col_30\\&quot;:0,\\&quot;col_31\\&quot;:0}}&quot;,&quot;tags&quot;:{&quot;INSERTION_TIME&quot;:&quot;1718139886000000&quot;,&quot;MIN_INSERTION_TIME&quot;:&quot;1718139886000000&quot;,&quot;MAX_INSERTION_TIME&quot;:&quot;1718139886000000&quot;,&quot;OPTIMIZE_TARGET_SIZE&quot;:&quot;268435456&quot;}}}\n{&quot;add&quot;:{&quot;path&quot;:&quot;part-00003-29a98480-ec8d-4427-bef8-13459af2cdbf-c000.snappy.parquet&quot;,&quot;partitionValues&quot;:{},&quot;size&quot;:9257,&quot;modificationTime&quot;:1718138354000,&quot;dataChange&quot;:false,&quot;stats&quot;:&quot;{\\&quot;numRecords\\&quot;:1,\\&quot;minValues\\&quot;:{\\&quot;col_1\\&quot;:1,\\&quot;col_2\\&quot;:2,\\&quot;col_3\\&quot;:3,\\&quot;col_4\\&quot;:4,\\&quot;col_5\\&quot;:5,\\&quot;col_6\\&quot;:6,\\&quot;col_7\\&quot;:7,\\&quot;col_8\\&quot;:8,\\&quot;col_9\\&quot;:9,\\&quot;col_10\\&quot;:10,\\&quot;col_35\\&quot;:35,\\&quot;col_11\\&quot;:11,\\&quot;col_12\\&quot;:12,\\&quot;col_13\\&quot;:13,\\&quot;col_14\\&quot;:14,\\&quot;col_15\\&quot;:15,\\&quot;col_16\\&quot;:16,\\&quot;col_17\\&quot;:17,\\&quot;col_18\\&quot;:18,\\&quot;col_19\\&quot;:19,\\&quot;col_20\\&quot;:20,\\&quot;col_21\\&quot;:21,\\&quot;col_22\\&quot;:22,\\&quot;col_23\\&quot;:23,\\&quot;col_24\\&quot;:24,\\&quot;col_25\\&quot;:25,\\&quot;col_26\\&quot;:26,\\&quot;col_27\\&quot;:27,\\&quot;col_28\\&quot;:28,\\&quot;col_29\\&quot;:29,\\&quot;col_30\\&quot;:30,\\&quot;col_31\\&quot;:31},\\&quot;maxValues\\&quot;:{\\&quot;col_1\\&quot;:1,\\&quot;col_2\\&quot;:2,\\&quot;col_3\\&quot;:3,\\&quot;col_4\\&quot;:4,\\&quot;col_5\\&quot;:5,\\&quot;col_6\\&quot;:6,\\&quot;col_7\\&quot;:7,\\&quot;col_8\\&quot;:8,\\&quot;col_9\\&quot;:9,\\&quot;col_10\\&quot;:10,\\&quot;col_35\\&quot;:35,\\&quot;col_11\\&quot;:11,\\&quot;col_12\\&quot;:12,\\&quot;col_13\\&quot;:13,\\&quot;col_14\\&quot;:14,\\&quot;col_15\\&quot;:15,\\&quot;col_16\\&quot;:16,\\&quot;col_17\\&quot;:17,\\&quot;col_18\\&quot;:18,\\&quot;col_19\\&quot;:19,\\&quot;col_20\\&quot;:20,\\&quot;col_21\\&quot;:21,\\&quot;col_22\\&quot;:22,\\&quot;col_23\\&quot;:23,\\&quot;col_24\\&quot;:24,\\&quot;col_25\\&quot;:25,\\&quot;col_26\\&quot;:26,\\&quot;col_27\\&quot;:27,\\&quot;col_28\\&quot;:28,\\&quot;col_29\\&quot;:29,\\&quot;col_30\\&quot;:30,\\&quot;col_31\\&quot;:31},\\&quot;nullCount\\&quot;:{\\&quot;col_1\\&quot;:0,\\&quot;col_2\\&quot;:0,\\&quot;col_3\\&quot;:0,\\&quot;col_4\\&quot;:0,\\&quot;col_5\\&quot;:0,\\&quot;col_6\\&quot;:0,\\&quot;col_7\\&quot;:0,\\&quot;col_8\\&quot;:0,\\&quot;col_9\\&quot;:0,\\&quot;col_10\\&quot;:0,\\&quot;col_35\\&quot;:0,\\&quot;col_11\\&quot;:0,\\&quot;col_12\\&quot;:0,\\&quot;col_13\\&quot;:0,\\&quot;col_14\\&quot;:0,\\&quot;col_15\\&quot;:0,\\&quot;col_16\\&quot;:0,\\&quot;col_17\\&quot;:0,\\&quot;col_18\\&quot;:0,\\&quot;col_19\\&quot;:0,\\&quot;col_20\\&quot;:0,\\&quot;col_21\\&quot;:0,\\&quot;col_22\\&quot;:0,\\&quot;col_23\\&quot;:0,\\&quot;col_24\\&quot;:0,\\&quot;col_25\\&quot;:0,\\&quot;col_26\\&quot;:0,\\&quot;col_27\\&quot;:0,\\&quot;col_28\\&quot;:0,\\&quot;col_29\\&quot;:0,\\&quot;col_30\\&quot;:0,\\&quot;col_31\\&quot;:0}}&quot;,&quot;tags&quot;:{&quot;INSERTION_TIME&quot;:&quot;1718138354000000&quot;,&quot;MIN_INSERTION_TIME&quot;:&quot;1718138354000000&quot;,&quot;MAX_INSERTION_TIME&quot;:&quot;1718138354000000&quot;,&quot;OPTIMIZE_TARGET_SIZE&quot;:&quot;268435456&quot;}}}\n{&quot;add&quot;:{&quot;path&quot;:&quot;part-00007-6a4c4764-b36f-4842-ac23-d1de1d09d54a-c000.snappy.parquet&quot;,&quot;partitionValues&quot;:{},&quot;size&quot;:9256,&quot;modificationTime&quot;:1718138354000,&quot;dataChange&quot;:false,&quot;stats&quot;:&quot;{\\&quot;numRecords\\&quot;:1,\\&quot;minValues\\&quot;:{\\&quot;col_1\\&quot;:10,\\&quot;col_2\\&quot;:20,\\&quot;col_3\\&quot;:30,\\&quot;col_4\\&quot;:40,\\&quot;col_5\\&quot;:50,\\&quot;col_6\\&quot;:60,\\&quot;col_7\\&quot;:70,\\&quot;col_8\\&quot;:80,\\&quot;col_9\\&quot;:90,\\&quot;col_10\\&quot;:100,\\&quot;col_35\\&quot;:350,\\&quot;col_11\\&quot;:110,\\&quot;col_12\\&quot;:120,\\&quot;col_13\\&quot;:130,\\&quot;col_14\\&quot;:140,\\&quot;col_15\\&quot;:150,\\&quot;col_16\\&quot;:160,\\&quot;col_17\\&quot;:170,\\&quot;col_18\\&quot;:180,\\&quot;col_19\\&quot;:190,\\&quot;col_20\\&quot;:200,\\&quot;col_21\\&quot;:210,\\&quot;col_22\\&quot;:220,\\&quot;col_23\\&quot;:230,\\&quot;col_24\\&quot;:240,\\&quot;col_25\\&quot;:250,\\&quot;col_26\\&quot;:260,\\&quot;col_27\\&quot;:270,\\&quot;col_28\\&quot;:280,\\&quot;col_29\\&quot;:290,\\&quot;col_30\\&quot;:300,\\&quot;col_31\\&quot;:310},\\&quot;maxValues\\&quot;:{\\&quot;col_1\\&quot;:10,\\&quot;col_2\\&quot;:20,\\&quot;col_3\\&quot;:30,\\&quot;col_4\\&quot;:40,\\&quot;col_5\\&quot;:50,\\&quot;col_6\\&quot;:60,\\&quot;col_7\\&quot;:70,\\&quot;col_8\\&quot;:80,\\&quot;col_9\\&quot;:90,\\&quot;col_10\\&quot;:100,\\&quot;col_35\\&quot;:350,\\&quot;col_11\\&quot;:110,\\&quot;col_12\\&quot;:120,\\&quot;col_13\\&quot;:130,\\&quot;col_14\\&quot;:140,\\&quot;col_15\\&quot;:150,\\&quot;col_16\\&quot;:160,\\&quot;col_17\\&quot;:170,\\&quot;col_18\\&quot;:180,\\&quot;col_19\\&quot;:190,\\&quot;col_20\\&quot;:200,\\&quot;col_21\\&quot;:210,\\&quot;col_22\\&quot;:220,\\&quot;col_23\\&quot;:230,\\&quot;col_24\\&quot;:240,\\&quot;col_25\\&quot;:250,\\&quot;col_26\\&quot;:260,\\&quot;col_27\\&quot;:270,\\&quot;col_28\\&quot;:280,\\&quot;col_29\\&quot;:290,\\&quot;col_30\\&quot;:300,\\&quot;col_31\\&quot;:310},\\&quot;nullCount\\&quot;:{\\&quot;col_1\\&quot;:0,\\&quot;col_2\\&quot;:0,\\&quot;col_3\\&quot;:0,\\&quot;col_4\\&quot;:0,\\&quot;col_5\\&quot;:0,\\&quot;col_6\\&quot;:0,\\&quot;col_7\\&quot;:0,\\&quot;col_8\\&quot;:0,\\&quot;col_9\\&quot;:0,\\&quot;col_10\\&quot;:0,\\&quot;col_35\\&quot;:0,\\&quot;col_11\\&quot;:0,\\&quot;col_12\\&quot;:0,\\&quot;col_13\\&quot;:0,\\&quot;col_14\\&quot;:0,\\&quot;col_15\\&quot;:0,\\&quot;col_16\\&quot;:0,\\&quot;col_17\\&quot;:0,\\&quot;col_18\\&quot;:0,\\&quot;col_19\\&quot;:0,\\&quot;col_20\\&quot;:0,\\&quot;col_21\\&quot;:0,\\&quot;col_22\\&quot;:0,\\&quot;col_23\\&quot;:0,\\&quot;col_24\\&quot;:0,\\&quot;col_25\\&quot;:0,\\&quot;col_26\\&quot;:0,\\&quot;col_27\\&quot;:0,\\&quot;col_28\\&quot;:0,\\&quot;col_29\\&quot;:0,\\&quot;col_30\\&quot;:0,\\&quot;col_31\\&quot;:0}}&quot;,&quot;tags&quot;:{&quot;INSERTION_TIME&quot;:&quot;1718138354000001&quot;,&quot;MIN_INSERTION_TIME&quot;:&quot;1718138354000001&quot;,&quot;MAX_INSERTION_TIME&quot;:&quot;1718138354000001&quot;,&quot;OPTIMIZE_TARGET_SIZE&quot;:&quot;268435456&quot;}}}\n\n</div>",
       "datasetInfos": [],
       "metadata": {},
       "removedWidgets": [],
       "type": "html"
      }
     },
     "output_type": "display_data"
    }
   ],
   "source": [
    "%fs\n",
    "\n",
    "head /FileStore/tables/column_reordering_example/_delta_log/00000000000000000005.json"
   ]
  },
  {
   "cell_type": "code",
   "execution_count": 0,
   "metadata": {
    "application/vnd.databricks.v1+cell": {
     "cellMetadata": {},
     "inputWidgets": {},
     "nuid": "231e0b9d-f906-4a62-a07d-764f7a178c80",
     "showTitle": false,
     "title": ""
    }
   },
   "outputs": [],
   "source": []
  }
 ],
 "metadata": {
  "application/vnd.databricks.v1+notebook": {
   "dashboards": [],
   "environmentMetadata": null,
   "language": "python",
   "notebookMetadata": {
    "mostRecentlyExecutedCommandWithImplicitDF": {
     "commandId": 2214586357452500,
     "dataframes": [
      "_sqldf"
     ]
    },
    "pythonIndentUnit": 4
   },
   "notebookName": "14->Re-Ordering columns",
   "widgets": {}
  }
 },
 "nbformat": 4,
 "nbformat_minor": 0
}
