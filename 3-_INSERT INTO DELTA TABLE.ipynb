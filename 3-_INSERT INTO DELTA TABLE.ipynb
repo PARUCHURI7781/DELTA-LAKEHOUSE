{
 "cells": [
  {
   "cell_type": "code",
   "execution_count": 0,
   "metadata": {
    "application/vnd.databricks.v1+cell": {
     "cellMetadata": {
      "byteLimit": 2048000,
      "rowLimit": 10000
     },
     "inputWidgets": {},
     "nuid": "3bd040a7-6432-4cf0-8fe5-24c6cb9c520f",
     "showTitle": false,
     "title": ""
    }
   },
   "outputs": [],
   "source": [
    "from delta.tables import *\n",
    "\n",
    "from pyspark.sql.types import *"
   ]
  },
  {
   "cell_type": "code",
   "execution_count": 0,
   "metadata": {
    "application/vnd.databricks.v1+cell": {
     "cellMetadata": {
      "byteLimit": 2048000,
      "rowLimit": 10000
     },
     "inputWidgets": {},
     "nuid": "60b85d76-4084-4de4-9647-94861659dec1",
     "showTitle": false,
     "title": ""
    }
   },
   "outputs": [
    {
     "output_type": "stream",
     "name": "stdout",
     "output_type": "stream",
     "text": [
      "Out[2]: <delta.tables.DeltaTable at 0x7f6b5c341a60>"
     ]
    }
   ],
   "source": [
    "DeltaTable.createOrReplace(spark)\\\n",
    "          .tableName('employee_demo')\\\n",
    "          .addColumn('emp_id',IntegerType(),False)\\\n",
    "          .addColumn('emp_name',StringType(),False)\\\n",
    "          .addColumn('gender',StringType(),False)\\\n",
    "          .addColumn('age',IntegerType(),False)\\\n",
    "          .addColumn('sal',IntegerType(),True)\\\n",
    "          .addColumn('dept',StringType(),True)\\\n",
    "          .property(\"description\",\"for practise purpose\")\\\n",
    "          .location(\"/FilseStore/tables/delta/practice_delta\")\\\n",
    "          .execute()"
   ]
  },
  {
   "cell_type": "code",
   "execution_count": 0,
   "metadata": {
    "application/vnd.databricks.v1+cell": {
     "cellMetadata": {
      "byteLimit": 2048000,
      "implicitDf": true,
      "rowLimit": 10000
     },
     "inputWidgets": {},
     "nuid": "0440b1d5-df77-4c49-a6cd-e0cf34a194a7",
     "showTitle": false,
     "title": ""
    }
   },
   "outputs": [
    {
     "output_type": "display_data",
     "data": {
      "text/html": [
       "<style scoped>\n",
       "  .table-result-container {\n",
       "    max-height: 300px;\n",
       "    overflow: auto;\n",
       "  }\n",
       "  table, th, td {\n",
       "    border: 1px solid black;\n",
       "    border-collapse: collapse;\n",
       "  }\n",
       "  th, td {\n",
       "    padding: 5px;\n",
       "  }\n",
       "  th {\n",
       "    text-align: left;\n",
       "  }\n",
       "</style><div class='table-result-container'><table class='table-result'><thead style='background-color: white'><tr><th>emp_id</th><th>emp_name</th><th>gender</th><th>age</th><th>sal</th><th>dept</th></tr></thead><tbody><tr><td>2</td><td>sahithi</td><td>f</td><td>25</td><td>15</td><td>sales</td></tr><tr><td>1</td><td>varun</td><td>M</td><td>24</td><td>13</td><td>IT</td></tr></tbody></table></div>"
      ]
     },
     "metadata": {
      "application/vnd.databricks.v1+output": {
       "addedWidgets": {},
       "aggData": [],
       "aggError": "",
       "aggOverflow": false,
       "aggSchema": [],
       "aggSeriesLimitReached": false,
       "aggType": "",
       "arguments": {},
       "columnCustomDisplayInfos": {},
       "data": [
        [
         2,
         "sahithi",
         "f",
         25,
         15,
         "sales"
        ],
        [
         1,
         "varun",
         "M",
         24,
         13,
         "IT"
        ]
       ],
       "datasetInfos": [],
       "dbfsResultPath": null,
       "isJsonSchema": true,
       "metadata": {},
       "overflow": false,
       "plotOptions": {
        "customPlotOptions": {},
        "displayType": "table",
        "pivotAggregation": null,
        "pivotColumns": null,
        "xColumns": null,
        "yColumns": null
       },
       "removedWidgets": [],
       "schema": [
        {
         "metadata": "{}",
         "name": "emp_id",
         "type": "\"integer\""
        },
        {
         "metadata": "{}",
         "name": "emp_name",
         "type": "\"string\""
        },
        {
         "metadata": "{}",
         "name": "gender",
         "type": "\"string\""
        },
        {
         "metadata": "{}",
         "name": "age",
         "type": "\"integer\""
        },
        {
         "metadata": "{}",
         "name": "sal",
         "type": "\"integer\""
        },
        {
         "metadata": "{}",
         "name": "dept",
         "type": "\"string\""
        }
       ],
       "type": "table"
      }
     },
     "output_type": "display_data"
    }
   ],
   "source": [
    "%sql \n",
    "\n",
    "select * from employee_demo"
   ]
  },
  {
   "cell_type": "markdown",
   "metadata": {
    "application/vnd.databricks.v1+cell": {
     "cellMetadata": {
      "byteLimit": 2048000,
      "rowLimit": 10000
     },
     "inputWidgets": {},
     "nuid": "1c333262-9dc0-49a5-bd87-86c363366a1c",
     "showTitle": false,
     "title": ""
    }
   },
   "source": [
    "#SQL STYLE INSERT"
   ]
  },
  {
   "cell_type": "code",
   "execution_count": 0,
   "metadata": {
    "application/vnd.databricks.v1+cell": {
     "cellMetadata": {
      "byteLimit": 2048000,
      "implicitDf": true,
      "rowLimit": 10000
     },
     "inputWidgets": {},
     "nuid": "e9715210-890a-4a4d-9a45-0b0bbc71cc24",
     "showTitle": false,
     "title": ""
    }
   },
   "outputs": [
    {
     "output_type": "display_data",
     "data": {
      "text/html": [
       "<style scoped>\n",
       "  .table-result-container {\n",
       "    max-height: 300px;\n",
       "    overflow: auto;\n",
       "  }\n",
       "  table, th, td {\n",
       "    border: 1px solid black;\n",
       "    border-collapse: collapse;\n",
       "  }\n",
       "  th, td {\n",
       "    padding: 5px;\n",
       "  }\n",
       "  th {\n",
       "    text-align: left;\n",
       "  }\n",
       "</style><div class='table-result-container'><table class='table-result'><thead style='background-color: white'><tr><th>num_affected_rows</th><th>num_inserted_rows</th></tr></thead><tbody><tr><td>1</td><td>1</td></tr></tbody></table></div>"
      ]
     },
     "metadata": {
      "application/vnd.databricks.v1+output": {
       "addedWidgets": {},
       "aggData": [],
       "aggError": "",
       "aggOverflow": false,
       "aggSchema": [],
       "aggSeriesLimitReached": false,
       "aggType": "",
       "arguments": {},
       "columnCustomDisplayInfos": {},
       "data": [
        [
         1,
         1
        ]
       ],
       "datasetInfos": [],
       "dbfsResultPath": null,
       "isJsonSchema": true,
       "metadata": {},
       "overflow": false,
       "plotOptions": {
        "customPlotOptions": {},
        "displayType": "table",
        "pivotAggregation": null,
        "pivotColumns": null,
        "xColumns": null,
        "yColumns": null
       },
       "removedWidgets": [],
       "schema": [
        {
         "metadata": "{}",
         "name": "num_affected_rows",
         "type": "\"long\""
        },
        {
         "metadata": "{}",
         "name": "num_inserted_rows",
         "type": "\"long\""
        }
       ],
       "type": "table"
      }
     },
     "output_type": "display_data"
    }
   ],
   "source": [
    "%sql\n",
    "insert into employee_demo values(1,'varun','M',24,13,\"IT\")"
   ]
  },
  {
   "cell_type": "code",
   "execution_count": 0,
   "metadata": {
    "application/vnd.databricks.v1+cell": {
     "cellMetadata": {
      "byteLimit": 2048000,
      "rowLimit": 10000
     },
     "inputWidgets": {},
     "nuid": "ab0972d7-9da8-4621-952b-58dcf632c267",
     "showTitle": false,
     "title": ""
    }
   },
   "outputs": [
    {
     "output_type": "display_data",
     "data": {
      "text/html": [
       "<style scoped>\n",
       "  .table-result-container {\n",
       "    max-height: 300px;\n",
       "    overflow: auto;\n",
       "  }\n",
       "  table, th, td {\n",
       "    border: 1px solid black;\n",
       "    border-collapse: collapse;\n",
       "  }\n",
       "  th, td {\n",
       "    padding: 5px;\n",
       "  }\n",
       "  th {\n",
       "    text-align: left;\n",
       "  }\n",
       "</style><div class='table-result-container'><table class='table-result'><thead style='background-color: white'><tr><th>emp_id</th><th>emp_name</th><th>gender</th><th>age</th><th>sal</th><th>dept</th></tr></thead><tbody><tr><td>2</td><td>sahithi</td><td>f</td><td>25</td><td>15</td><td>sales</td></tr><tr><td>1</td><td>varun</td><td>M</td><td>24</td><td>13</td><td>IT</td></tr><tr><td>1</td><td>varun</td><td>M</td><td>24</td><td>13</td><td>IT</td></tr></tbody></table></div>"
      ]
     },
     "metadata": {
      "application/vnd.databricks.v1+output": {
       "addedWidgets": {},
       "aggData": [],
       "aggError": "",
       "aggOverflow": false,
       "aggSchema": [],
       "aggSeriesLimitReached": false,
       "aggType": "",
       "arguments": {},
       "columnCustomDisplayInfos": {},
       "data": [
        [
         2,
         "sahithi",
         "f",
         25,
         15,
         "sales"
        ],
        [
         1,
         "varun",
         "M",
         24,
         13,
         "IT"
        ],
        [
         1,
         "varun",
         "M",
         24,
         13,
         "IT"
        ]
       ],
       "datasetInfos": [],
       "dbfsResultPath": null,
       "isJsonSchema": true,
       "metadata": {},
       "overflow": false,
       "plotOptions": {
        "customPlotOptions": {},
        "displayType": "table",
        "pivotAggregation": null,
        "pivotColumns": null,
        "xColumns": null,
        "yColumns": null
       },
       "removedWidgets": [],
       "schema": [
        {
         "metadata": "{}",
         "name": "emp_id",
         "type": "\"integer\""
        },
        {
         "metadata": "{}",
         "name": "emp_name",
         "type": "\"string\""
        },
        {
         "metadata": "{}",
         "name": "gender",
         "type": "\"string\""
        },
        {
         "metadata": "{}",
         "name": "age",
         "type": "\"integer\""
        },
        {
         "metadata": "{}",
         "name": "sal",
         "type": "\"integer\""
        },
        {
         "metadata": "{}",
         "name": "dept",
         "type": "\"string\""
        }
       ],
       "type": "table"
      }
     },
     "output_type": "display_data"
    }
   ],
   "source": [
    "display(spark.sql(\"select * from employee_demo\"))"
   ]
  },
  {
   "cell_type": "markdown",
   "metadata": {
    "application/vnd.databricks.v1+cell": {
     "cellMetadata": {
      "byteLimit": 2048000,
      "rowLimit": 10000
     },
     "inputWidgets": {},
     "nuid": "c1a1db38-254c-4d15-8b19-8ec8bf5d6fb1",
     "showTitle": false,
     "title": ""
    }
   },
   "source": [
    "#USING DATAFRAME"
   ]
  },
  {
   "cell_type": "code",
   "execution_count": 0,
   "metadata": {
    "application/vnd.databricks.v1+cell": {
     "cellMetadata": {
      "byteLimit": 2048000,
      "rowLimit": 10000
     },
     "inputWidgets": {},
     "nuid": "6c165fa5-8025-4df6-8af4-2dca95310a96",
     "showTitle": false,
     "title": ""
    }
   },
   "outputs": [],
   "source": [
    "employee_data=[(2,'sahithi','f',25,15,\"sales\")] \n",
    "\n",
    "emp_schema=StructType(\n",
    "                         [\n",
    "                            StructField('emp_id',IntegerType(),False),\n",
    "                            StructField('emp_name',StringType(),False),\n",
    "                            StructField('gender',StringType(),False),\n",
    "                            StructField('age',IntegerType(),False),\n",
    "                            StructField('sal',IntegerType(),False),\n",
    "                            StructField('dept',StringType(),True)\n",
    "                         ]\n",
    "                     )\n",
    "\n",
    "emp_df=spark.createDataFrame(employee_data,emp_schema)"
   ]
  },
  {
   "cell_type": "code",
   "execution_count": 0,
   "metadata": {
    "application/vnd.databricks.v1+cell": {
     "cellMetadata": {
      "byteLimit": 2048000,
      "rowLimit": 10000
     },
     "inputWidgets": {},
     "nuid": "48e0abf4-f5a8-48fa-9e38-a53c97fef6d8",
     "showTitle": false,
     "title": ""
    }
   },
   "outputs": [],
   "source": [
    "emp_df.write.format('delta').mode('append').saveAsTable('employee_demo')"
   ]
  },
  {
   "cell_type": "code",
   "execution_count": 0,
   "metadata": {
    "application/vnd.databricks.v1+cell": {
     "cellMetadata": {
      "byteLimit": 2048000,
      "implicitDf": true,
      "rowLimit": 10000
     },
     "inputWidgets": {},
     "nuid": "a185647b-0e5f-4304-b323-d5f58a3e314a",
     "showTitle": false,
     "title": ""
    }
   },
   "outputs": [
    {
     "output_type": "display_data",
     "data": {
      "text/html": [
       "<style scoped>\n",
       "  .table-result-container {\n",
       "    max-height: 300px;\n",
       "    overflow: auto;\n",
       "  }\n",
       "  table, th, td {\n",
       "    border: 1px solid black;\n",
       "    border-collapse: collapse;\n",
       "  }\n",
       "  th, td {\n",
       "    padding: 5px;\n",
       "  }\n",
       "  th {\n",
       "    text-align: left;\n",
       "  }\n",
       "</style><div class='table-result-container'><table class='table-result'><thead style='background-color: white'><tr><th>emp_id</th><th>emp_name</th><th>gender</th><th>age</th><th>sal</th><th>dept</th></tr></thead><tbody><tr><td>2</td><td>sahithi</td><td>f</td><td>25</td><td>15</td><td>sales</td></tr><tr><td>2</td><td>sahithi</td><td>f</td><td>25</td><td>15</td><td>sales</td></tr><tr><td>1</td><td>varun</td><td>M</td><td>24</td><td>13</td><td>IT</td></tr><tr><td>1</td><td>varun</td><td>M</td><td>24</td><td>13</td><td>IT</td></tr></tbody></table></div>"
      ]
     },
     "metadata": {
      "application/vnd.databricks.v1+output": {
       "addedWidgets": {},
       "aggData": [],
       "aggError": "",
       "aggOverflow": false,
       "aggSchema": [],
       "aggSeriesLimitReached": false,
       "aggType": "",
       "arguments": {},
       "columnCustomDisplayInfos": {},
       "data": [
        [
         2,
         "sahithi",
         "f",
         25,
         15,
         "sales"
        ],
        [
         2,
         "sahithi",
         "f",
         25,
         15,
         "sales"
        ],
        [
         1,
         "varun",
         "M",
         24,
         13,
         "IT"
        ],
        [
         1,
         "varun",
         "M",
         24,
         13,
         "IT"
        ]
       ],
       "datasetInfos": [],
       "dbfsResultPath": null,
       "isJsonSchema": true,
       "metadata": {},
       "overflow": false,
       "plotOptions": {
        "customPlotOptions": {},
        "displayType": "table",
        "pivotAggregation": null,
        "pivotColumns": null,
        "xColumns": null,
        "yColumns": null
       },
       "removedWidgets": [],
       "schema": [
        {
         "metadata": "{}",
         "name": "emp_id",
         "type": "\"integer\""
        },
        {
         "metadata": "{}",
         "name": "emp_name",
         "type": "\"string\""
        },
        {
         "metadata": "{}",
         "name": "gender",
         "type": "\"string\""
        },
        {
         "metadata": "{}",
         "name": "age",
         "type": "\"integer\""
        },
        {
         "metadata": "{}",
         "name": "sal",
         "type": "\"integer\""
        },
        {
         "metadata": "{}",
         "name": "dept",
         "type": "\"string\""
        }
       ],
       "type": "table"
      }
     },
     "output_type": "display_data"
    }
   ],
   "source": [
    "%sql\n",
    "\n",
    "select * from employee_demo"
   ]
  },
  {
   "cell_type": "markdown",
   "metadata": {
    "application/vnd.databricks.v1+cell": {
     "cellMetadata": {
      "byteLimit": 2048000,
      "rowLimit": 10000
     },
     "inputWidgets": {},
     "nuid": "fce6996c-31b6-47e4-b0f0-d04e29839204",
     "showTitle": false,
     "title": ""
    }
   },
   "source": [
    "#dataFrame InsertInto"
   ]
  },
  {
   "cell_type": "code",
   "execution_count": 0,
   "metadata": {
    "application/vnd.databricks.v1+cell": {
     "cellMetadata": {
      "byteLimit": 2048000,
      "rowLimit": 10000
     },
     "inputWidgets": {},
     "nuid": "55e12e61-c9f2-466a-9b99-7d661fcf774e",
     "showTitle": false,
     "title": ""
    }
   },
   "outputs": [],
   "source": [
    "employee_data=[(3,'kusuma','f',24,11,\"hr\")] \n",
    "\n",
    "emp_schema=StructType(\n",
    "                         [\n",
    "                            StructField('emp_id',IntegerType(),False),\n",
    "                            StructField('emp_name',StringType(),False),\n",
    "                            StructField('gender',StringType(),False),\n",
    "                            StructField('age',IntegerType(),False),\n",
    "                            StructField('sal',IntegerType(),False),\n",
    "                            StructField('dept',StringType(),True)\n",
    "                         ]\n",
    "                     )\n",
    "\n",
    "emp_df_1=spark.createDataFrame(employee_data,emp_schema)"
   ]
  },
  {
   "cell_type": "code",
   "execution_count": 0,
   "metadata": {
    "application/vnd.databricks.v1+cell": {
     "cellMetadata": {
      "byteLimit": 2048000,
      "rowLimit": 10000
     },
     "inputWidgets": {},
     "nuid": "0fb4f9a8-fb31-43eb-aa8e-5868799771ca",
     "showTitle": false,
     "title": ""
    }
   },
   "outputs": [],
   "source": [
    "emp_df_1.write.insertInto('employee_demo',overwrite=False)"
   ]
  },
  {
   "cell_type": "code",
   "execution_count": 0,
   "metadata": {
    "application/vnd.databricks.v1+cell": {
     "cellMetadata": {
      "byteLimit": 2048000,
      "implicitDf": true,
      "rowLimit": 10000
     },
     "inputWidgets": {},
     "nuid": "55cf86c1-388d-4862-a112-77f042fac679",
     "showTitle": false,
     "title": ""
    }
   },
   "outputs": [
    {
     "output_type": "display_data",
     "data": {
      "text/html": [
       "<style scoped>\n",
       "  .table-result-container {\n",
       "    max-height: 300px;\n",
       "    overflow: auto;\n",
       "  }\n",
       "  table, th, td {\n",
       "    border: 1px solid black;\n",
       "    border-collapse: collapse;\n",
       "  }\n",
       "  th, td {\n",
       "    padding: 5px;\n",
       "  }\n",
       "  th {\n",
       "    text-align: left;\n",
       "  }\n",
       "</style><div class='table-result-container'><table class='table-result'><thead style='background-color: white'><tr><th>emp_id</th><th>emp_name</th><th>gender</th><th>age</th><th>sal</th><th>dept</th></tr></thead><tbody><tr><td>2</td><td>sahithi</td><td>f</td><td>25</td><td>15</td><td>sales</td></tr><tr><td>2</td><td>sahithi</td><td>f</td><td>25</td><td>15</td><td>sales</td></tr><tr><td>3</td><td>kusuma</td><td>f</td><td>24</td><td>11</td><td>hr</td></tr><tr><td>1</td><td>varun</td><td>M</td><td>24</td><td>13</td><td>IT</td></tr><tr><td>1</td><td>varun</td><td>M</td><td>24</td><td>13</td><td>IT</td></tr></tbody></table></div>"
      ]
     },
     "metadata": {
      "application/vnd.databricks.v1+output": {
       "addedWidgets": {},
       "aggData": [],
       "aggError": "",
       "aggOverflow": false,
       "aggSchema": [],
       "aggSeriesLimitReached": false,
       "aggType": "",
       "arguments": {},
       "columnCustomDisplayInfos": {},
       "data": [
        [
         2,
         "sahithi",
         "f",
         25,
         15,
         "sales"
        ],
        [
         2,
         "sahithi",
         "f",
         25,
         15,
         "sales"
        ],
        [
         3,
         "kusuma",
         "f",
         24,
         11,
         "hr"
        ],
        [
         1,
         "varun",
         "M",
         24,
         13,
         "IT"
        ],
        [
         1,
         "varun",
         "M",
         24,
         13,
         "IT"
        ]
       ],
       "datasetInfos": [],
       "dbfsResultPath": null,
       "isJsonSchema": true,
       "metadata": {},
       "overflow": false,
       "plotOptions": {
        "customPlotOptions": {},
        "displayType": "table",
        "pivotAggregation": null,
        "pivotColumns": null,
        "xColumns": null,
        "yColumns": null
       },
       "removedWidgets": [],
       "schema": [
        {
         "metadata": "{}",
         "name": "emp_id",
         "type": "\"integer\""
        },
        {
         "metadata": "{}",
         "name": "emp_name",
         "type": "\"string\""
        },
        {
         "metadata": "{}",
         "name": "gender",
         "type": "\"string\""
        },
        {
         "metadata": "{}",
         "name": "age",
         "type": "\"integer\""
        },
        {
         "metadata": "{}",
         "name": "sal",
         "type": "\"integer\""
        },
        {
         "metadata": "{}",
         "name": "dept",
         "type": "\"string\""
        }
       ],
       "type": "table"
      }
     },
     "output_type": "display_data"
    }
   ],
   "source": [
    "%sql \n",
    "\n",
    "select * from employee_demo"
   ]
  },
  {
   "cell_type": "markdown",
   "metadata": {
    "application/vnd.databricks.v1+cell": {
     "cellMetadata": {},
     "inputWidgets": {},
     "nuid": "22a99d2f-e2e7-4015-ad63-3f6181b43da2",
     "showTitle": false,
     "title": ""
    }
   },
   "source": [
    "#Inserting using TempView\n"
   ]
  },
  {
   "cell_type": "code",
   "execution_count": 0,
   "metadata": {
    "application/vnd.databricks.v1+cell": {
     "cellMetadata": {
      "byteLimit": 2048000,
      "rowLimit": 10000
     },
     "inputWidgets": {},
     "nuid": "b12962f8-2016-40f0-bbf9-4fb9f2a0780a",
     "showTitle": false,
     "title": ""
    }
   },
   "outputs": [],
   "source": [
    "emp_df_1.createOrReplaceTempView('delta_insert_data')"
   ]
  },
  {
   "cell_type": "code",
   "execution_count": 0,
   "metadata": {
    "application/vnd.databricks.v1+cell": {
     "cellMetadata": {
      "byteLimit": 2048000,
      "implicitDf": true,
      "rowLimit": 10000
     },
     "inputWidgets": {},
     "nuid": "1d8ae320-a5c7-4656-b7d2-116dae476958",
     "showTitle": false,
     "title": ""
    }
   },
   "outputs": [
    {
     "output_type": "display_data",
     "data": {
      "text/html": [
       "<style scoped>\n",
       "  .table-result-container {\n",
       "    max-height: 300px;\n",
       "    overflow: auto;\n",
       "  }\n",
       "  table, th, td {\n",
       "    border: 1px solid black;\n",
       "    border-collapse: collapse;\n",
       "  }\n",
       "  th, td {\n",
       "    padding: 5px;\n",
       "  }\n",
       "  th {\n",
       "    text-align: left;\n",
       "  }\n",
       "</style><div class='table-result-container'><table class='table-result'><thead style='background-color: white'><tr><th>num_affected_rows</th><th>num_inserted_rows</th></tr></thead><tbody><tr><td>1</td><td>1</td></tr></tbody></table></div>"
      ]
     },
     "metadata": {
      "application/vnd.databricks.v1+output": {
       "addedWidgets": {},
       "aggData": [],
       "aggError": "",
       "aggOverflow": false,
       "aggSchema": [],
       "aggSeriesLimitReached": false,
       "aggType": "",
       "arguments": {},
       "columnCustomDisplayInfos": {},
       "data": [
        [
         1,
         1
        ]
       ],
       "datasetInfos": [],
       "dbfsResultPath": null,
       "isJsonSchema": true,
       "metadata": {},
       "overflow": false,
       "plotOptions": {
        "customPlotOptions": {},
        "displayType": "table",
        "pivotAggregation": null,
        "pivotColumns": null,
        "xColumns": null,
        "yColumns": null
       },
       "removedWidgets": [],
       "schema": [
        {
         "metadata": "{}",
         "name": "num_affected_rows",
         "type": "\"long\""
        },
        {
         "metadata": "{}",
         "name": "num_inserted_rows",
         "type": "\"long\""
        }
       ],
       "type": "table"
      }
     },
     "output_type": "display_data"
    }
   ],
   "source": [
    "%sql \n",
    "\n",
    "insert into employee_demo \n",
    "select * from delta_insert_data;"
   ]
  },
  {
   "cell_type": "code",
   "execution_count": 0,
   "metadata": {
    "application/vnd.databricks.v1+cell": {
     "cellMetadata": {
      "byteLimit": 2048000,
      "implicitDf": true,
      "rowLimit": 10000
     },
     "inputWidgets": {},
     "nuid": "6bdfaf9a-a52f-47af-9caa-3582d215f903",
     "showTitle": false,
     "title": ""
    }
   },
   "outputs": [
    {
     "output_type": "display_data",
     "data": {
      "text/html": [
       "<style scoped>\n",
       "  .table-result-container {\n",
       "    max-height: 300px;\n",
       "    overflow: auto;\n",
       "  }\n",
       "  table, th, td {\n",
       "    border: 1px solid black;\n",
       "    border-collapse: collapse;\n",
       "  }\n",
       "  th, td {\n",
       "    padding: 5px;\n",
       "  }\n",
       "  th {\n",
       "    text-align: left;\n",
       "  }\n",
       "</style><div class='table-result-container'><table class='table-result'><thead style='background-color: white'><tr><th>emp_id</th><th>emp_name</th><th>gender</th><th>age</th><th>sal</th><th>dept</th></tr></thead><tbody><tr><td>2</td><td>sahithi</td><td>f</td><td>25</td><td>15</td><td>sales</td></tr><tr><td>2</td><td>sahithi</td><td>f</td><td>25</td><td>15</td><td>sales</td></tr><tr><td>3</td><td>kusuma</td><td>f</td><td>24</td><td>11</td><td>hr</td></tr><tr><td>3</td><td>kusuma</td><td>f</td><td>24</td><td>11</td><td>hr</td></tr><tr><td>1</td><td>varun</td><td>M</td><td>24</td><td>13</td><td>IT</td></tr><tr><td>1</td><td>varun</td><td>M</td><td>24</td><td>13</td><td>IT</td></tr></tbody></table></div>"
      ]
     },
     "metadata": {
      "application/vnd.databricks.v1+output": {
       "addedWidgets": {},
       "aggData": [],
       "aggError": "",
       "aggOverflow": false,
       "aggSchema": [],
       "aggSeriesLimitReached": false,
       "aggType": "",
       "arguments": {},
       "columnCustomDisplayInfos": {},
       "data": [
        [
         2,
         "sahithi",
         "f",
         25,
         15,
         "sales"
        ],
        [
         2,
         "sahithi",
         "f",
         25,
         15,
         "sales"
        ],
        [
         3,
         "kusuma",
         "f",
         24,
         11,
         "hr"
        ],
        [
         3,
         "kusuma",
         "f",
         24,
         11,
         "hr"
        ],
        [
         1,
         "varun",
         "M",
         24,
         13,
         "IT"
        ],
        [
         1,
         "varun",
         "M",
         24,
         13,
         "IT"
        ]
       ],
       "datasetInfos": [],
       "dbfsResultPath": null,
       "isJsonSchema": true,
       "metadata": {},
       "overflow": false,
       "plotOptions": {
        "customPlotOptions": {},
        "displayType": "table",
        "pivotAggregation": null,
        "pivotColumns": null,
        "xColumns": null,
        "yColumns": null
       },
       "removedWidgets": [],
       "schema": [
        {
         "metadata": "{}",
         "name": "emp_id",
         "type": "\"integer\""
        },
        {
         "metadata": "{}",
         "name": "emp_name",
         "type": "\"string\""
        },
        {
         "metadata": "{}",
         "name": "gender",
         "type": "\"string\""
        },
        {
         "metadata": "{}",
         "name": "age",
         "type": "\"integer\""
        },
        {
         "metadata": "{}",
         "name": "sal",
         "type": "\"integer\""
        },
        {
         "metadata": "{}",
         "name": "dept",
         "type": "\"string\""
        }
       ],
       "type": "table"
      }
     },
     "output_type": "display_data"
    }
   ],
   "source": [
    "delta_table_instance_1=DeltaTable.forName(spark,'employee_demo')\n",
    "\n",
    "display(delta_table_instance_1.toDF())"
   ]
  },
  {
   "cell_type": "code",
   "execution_count": 0,
   "metadata": {
    "application/vnd.databricks.v1+cell": {
     "cellMetadata": {
      "byteLimit": 2048000,
      "rowLimit": 10000
     },
     "inputWidgets": {},
     "nuid": "3b7a39b3-b2cf-42c4-9cb9-503e6f03bd3b",
     "showTitle": false,
     "title": ""
    }
   },
   "outputs": [
    {
     "output_type": "stream",
     "name": "stdout",
     "output_type": "stream",
     "text": [
      "+-------+-------------------+----------------+--------------------+--------------------+--------------------+----+------------------+--------------------+-----------+-----------------+-------------+--------------------+------------+--------------------+\n|version|          timestamp|          userId|            userName|           operation| operationParameters| job|          notebook|           clusterId|readVersion|   isolationLevel|isBlindAppend|    operationMetrics|userMetadata|          engineInfo|\n+-------+-------------------+----------------+--------------------+--------------------+--------------------+----+------------------+--------------------+-----------+-----------------+-------------+--------------------+------------+--------------------+\n|     12|2024-06-05 20:32:16|8432478468657958|paruchuri7781@gma...|               WRITE|{mode -> Append, ...|null|{4188357405012316}|0605-202106-5nxmim3d|         11|WriteSerializable|         true|{numFiles -> 1, n...|        null|Databricks-Runtim...|\n|     11|2024-06-05 20:29:24|8432478468657958|paruchuri7781@gma...|               WRITE|{mode -> Append, ...|null|{4188357405012316}|0605-202106-5nxmim3d|         10|WriteSerializable|         true|{numFiles -> 1, n...|        null|Databricks-Runtim...|\n|     10|2024-06-05 20:24:21|8432478468657958|paruchuri7781@gma...|               WRITE|{mode -> Append, ...|null|{4188357405012316}|0605-202106-5nxmim3d|          9|WriteSerializable|         true|{numFiles -> 1, n...|        null|Databricks-Runtim...|\n|      9|2024-06-05 20:24:06|8432478468657958|paruchuri7781@gma...|               WRITE|{mode -> Append, ...|null|{4188357405012316}|0605-202106-5nxmim3d|          8|WriteSerializable|         true|{numFiles -> 1, n...|        null|Databricks-Runtim...|\n|      8|2024-06-05 19:16:49|8432478468657958|paruchuri7781@gma...|               WRITE|{mode -> Append, ...|null|{4188357405012316}|0605-155657-39o35iz8|          7|WriteSerializable|         true|{numFiles -> 1, n...|        null|Databricks-Runtim...|\n|      7|2024-06-05 19:06:07|8432478468657958|paruchuri7781@gma...|               WRITE|{mode -> Append, ...|null|{4188357405012316}|0605-155657-39o35iz8|          6|WriteSerializable|         true|{numFiles -> 1, n...|        null|Databricks-Runtim...|\n|      6|2024-06-05 19:03:47|8432478468657958|paruchuri7781@gma...|CREATE OR REPLACE...|{isManaged -> fal...|null|{4188357405012316}|0605-155657-39o35iz8|          5|WriteSerializable|        false|                  {}|        null|Databricks-Runtim...|\n|      5|2024-06-05 16:51:23|8432478468657958|paruchuri7781@gma...|              DELETE|{predicate -> [\"(...|null|{3115176791291459}|0605-155657-39o35iz8|          4|WriteSerializable|        false|{numRemovedFiles ...|        null|Databricks-Runtim...|\n|      4|2024-06-05 16:49:23|8432478468657958|paruchuri7781@gma...|              DELETE|{predicate -> [\"(...|null|{3115176791291459}|0605-155657-39o35iz8|          3|WriteSerializable|        false|{numRemovedFiles ...|        null|Databricks-Runtim...|\n|      3|2024-06-05 16:17:20|8432478468657958|paruchuri7781@gma...|               WRITE|{mode -> Append, ...|null|{3115176791291459}|0605-155657-39o35iz8|          2|WriteSerializable|         true|{numFiles -> 1, n...|        null|Databricks-Runtim...|\n|      2|2024-06-05 16:17:13|8432478468657958|paruchuri7781@gma...|               WRITE|{mode -> Append, ...|null|{3115176791291459}|0605-155657-39o35iz8|          1|WriteSerializable|         true|{numFiles -> 1, n...|        null|Databricks-Runtim...|\n|      1|2024-06-05 16:17:06|8432478468657958|paruchuri7781@gma...|               WRITE|{mode -> Append, ...|null|{3115176791291459}|0605-155657-39o35iz8|          0|WriteSerializable|         true|{numFiles -> 1, n...|        null|Databricks-Runtim...|\n|      0|2024-06-05 16:13:03|8432478468657958|paruchuri7781@gma...|CREATE OR REPLACE...|{isManaged -> fal...|null|{3115176791291459}|0605-155657-39o35iz8|       null|WriteSerializable|         true|                  {}|        null|Databricks-Runtim...|\n+-------+-------------------+----------------+--------------------+--------------------+--------------------+----+------------------+--------------------+-----------+-----------------+-------------+--------------------+------------+--------------------+\n\n"
     ]
    }
   ],
   "source": [
    "delta_table_instance_1.history().show()"
   ]
  },
  {
   "cell_type": "code",
   "execution_count": 0,
   "metadata": {
    "application/vnd.databricks.v1+cell": {
     "cellMetadata": {},
     "inputWidgets": {},
     "nuid": "8d1507e0-edf8-4977-b386-b8e5cef16288",
     "showTitle": false,
     "title": ""
    }
   },
   "outputs": [],
   "source": []
  }
 ],
 "metadata": {
  "application/vnd.databricks.v1+notebook": {
   "dashboards": [],
   "environmentMetadata": null,
   "language": "python",
   "notebookMetadata": {
    "mostRecentlyExecutedCommandWithImplicitDF": {
     "commandId": -1,
     "dataframes": [
      "_sqldf"
     ]
    },
    "pythonIndentUnit": 4
   },
   "notebookName": "3->INSERT INTO DELTA TABLE",
   "widgets": {}
  }
 },
 "nbformat": 4,
 "nbformat_minor": 0
}
