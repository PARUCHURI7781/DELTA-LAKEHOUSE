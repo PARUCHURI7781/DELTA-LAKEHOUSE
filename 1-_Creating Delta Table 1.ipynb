{
 "cells": [
  {
   "cell_type": "code",
   "execution_count": 0,
   "metadata": {
    "application/vnd.databricks.v1+cell": {
     "cellMetadata": {
      "byteLimit": 2048000,
      "rowLimit": 10000
     },
     "inputWidgets": {},
     "nuid": "ed2ea0cd-fad0-4003-a6d8-2c3c9ce6a382",
     "showTitle": false,
     "title": ""
    }
   },
   "outputs": [],
   "source": [
    "from delta.tables import *"
   ]
  },
  {
   "cell_type": "markdown",
   "metadata": {
    "application/vnd.databricks.v1+cell": {
     "cellMetadata": {},
     "inputWidgets": {},
     "nuid": "ef9756f1-9d53-45d9-ad09-2ff955fe001c",
     "showTitle": false,
     "title": ""
    }
   },
   "source": [
    "#Method_1: DeltaTable Builder API"
   ]
  },
  {
   "cell_type": "code",
   "execution_count": 0,
   "metadata": {
    "application/vnd.databricks.v1+cell": {
     "cellMetadata": {
      "byteLimit": 2048000,
      "rowLimit": 10000
     },
     "inputWidgets": {},
     "nuid": "dc484e98-49e1-47c0-a2b0-088b2018ff9e",
     "showTitle": false,
     "title": ""
    }
   },
   "outputs": [
    {
     "output_type": "stream",
     "name": "stdout",
     "output_type": "stream",
     "text": [
      "Out[3]: <delta.tables.DeltaTable at 0x7f64608d3dc0>"
     ]
    }
   ],
   "source": [
    "from pyspark.sql.types import *\n",
    "\n",
    "\n",
    "DeltaTable.create(spark)\\\n",
    "          .tableName(\"employee_demo\")\\\n",
    "          .addColumn(\"emp_id\",IntegerType(),False)\\\n",
    "          .addColumn(\"emp_name\",StringType(),False)\\\n",
    "          .addColumn(\"gender\",StringType(),False)\\\n",
    "          .addColumn(\"sal\",IntegerType(),False)\\\n",
    "          .addColumn(\"dept\",StringType(),False)\\\n",
    "          .property(\"description\",\"table created for demo purpose\")\\\n",
    "          .location(\"/FileStore/tables/delta/create_table\")\\\n",
    "          .execute()"
   ]
  },
  {
   "cell_type": "code",
   "execution_count": 0,
   "metadata": {
    "application/vnd.databricks.v1+cell": {
     "cellMetadata": {
      "byteLimit": 2048000,
      "implicitDf": true,
      "rowLimit": 10000
     },
     "inputWidgets": {},
     "nuid": "45ffb665-af58-4a11-806a-b3cadbfe8bd1",
     "showTitle": false,
     "title": ""
    }
   },
   "outputs": [
    {
     "output_type": "display_data",
     "data": {
      "text/html": [
       "<style scoped>\n",
       "  .table-result-container {\n",
       "    max-height: 300px;\n",
       "    overflow: auto;\n",
       "  }\n",
       "  table, th, td {\n",
       "    border: 1px solid black;\n",
       "    border-collapse: collapse;\n",
       "  }\n",
       "  th, td {\n",
       "    padding: 5px;\n",
       "  }\n",
       "  th {\n",
       "    text-align: left;\n",
       "  }\n",
       "</style><div class='table-result-container'><table class='table-result'><thead style='background-color: white'><tr><th>emp_id</th><th>emp_name</th><th>gender</th><th>sal</th><th>dept</th></tr></thead><tbody></tbody></table></div>"
      ]
     },
     "metadata": {
      "application/vnd.databricks.v1+output": {
       "addedWidgets": {},
       "aggData": [],
       "aggError": "",
       "aggOverflow": false,
       "aggSchema": [],
       "aggSeriesLimitReached": false,
       "aggType": "",
       "arguments": {},
       "columnCustomDisplayInfos": {},
       "data": [],
       "datasetInfos": [],
       "dbfsResultPath": null,
       "isJsonSchema": true,
       "metadata": {},
       "overflow": false,
       "plotOptions": {
        "customPlotOptions": {},
        "displayType": "table",
        "pivotAggregation": null,
        "pivotColumns": null,
        "xColumns": null,
        "yColumns": null
       },
       "removedWidgets": [],
       "schema": [
        {
         "metadata": "{}",
         "name": "emp_id",
         "type": "\"integer\""
        },
        {
         "metadata": "{}",
         "name": "emp_name",
         "type": "\"string\""
        },
        {
         "metadata": "{}",
         "name": "gender",
         "type": "\"string\""
        },
        {
         "metadata": "{}",
         "name": "sal",
         "type": "\"integer\""
        },
        {
         "metadata": "{}",
         "name": "dept",
         "type": "\"string\""
        }
       ],
       "type": "table"
      }
     },
     "output_type": "display_data"
    }
   ],
   "source": [
    "%sql\n",
    "\n",
    "\n",
    "select * from employee_demo"
   ]
  },
  {
   "cell_type": "code",
   "execution_count": 0,
   "metadata": {
    "application/vnd.databricks.v1+cell": {
     "cellMetadata": {
      "byteLimit": 2048000,
      "rowLimit": 10000
     },
     "inputWidgets": {},
     "nuid": "f8a12cd5-35a7-4997-9615-4874e2e048e0",
     "showTitle": false,
     "title": ""
    }
   },
   "outputs": [
    {
     "output_type": "display_data",
     "data": {
      "text/plain": [
       "\u001B[0;31m---------------------------------------------------------------------------\u001B[0m\n",
       "\u001B[0;31mAnalysisException\u001B[0m                         Traceback (most recent call last)\n",
       "File \u001B[0;32m<command-1388222939003278>:4\u001B[0m\n",
       "\u001B[1;32m      1\u001B[0m \u001B[38;5;28;01mfrom\u001B[39;00m \u001B[38;5;21;01mpyspark\u001B[39;00m\u001B[38;5;21;01m.\u001B[39;00m\u001B[38;5;21;01msql\u001B[39;00m\u001B[38;5;21;01m.\u001B[39;00m\u001B[38;5;21;01mtypes\u001B[39;00m \u001B[38;5;28;01mimport\u001B[39;00m \u001B[38;5;241m*\u001B[39m\n",
       "\u001B[0;32m----> 4\u001B[0m DeltaTable\u001B[38;5;241m.\u001B[39mcreate(spark)\\\n",
       "\u001B[1;32m      5\u001B[0m           \u001B[38;5;241m.\u001B[39mtableName(\u001B[38;5;124m\"\u001B[39m\u001B[38;5;124memployee_demo\u001B[39m\u001B[38;5;124m\"\u001B[39m)\\\n",
       "\u001B[1;32m      6\u001B[0m           \u001B[38;5;241m.\u001B[39maddColumn(\u001B[38;5;124m\"\u001B[39m\u001B[38;5;124memp_id\u001B[39m\u001B[38;5;124m\"\u001B[39m,IntegerType(),\u001B[38;5;28;01mFalse\u001B[39;00m)\\\n",
       "\u001B[1;32m      7\u001B[0m           \u001B[38;5;241m.\u001B[39maddColumn(\u001B[38;5;124m\"\u001B[39m\u001B[38;5;124memp_name\u001B[39m\u001B[38;5;124m\"\u001B[39m,StringType(),\u001B[38;5;28;01mFalse\u001B[39;00m)\\\n",
       "\u001B[1;32m      8\u001B[0m           \u001B[38;5;241m.\u001B[39maddColumn(\u001B[38;5;124m\"\u001B[39m\u001B[38;5;124mgender\u001B[39m\u001B[38;5;124m\"\u001B[39m,StringType(),\u001B[38;5;28;01mFalse\u001B[39;00m)\\\n",
       "\u001B[1;32m      9\u001B[0m           \u001B[38;5;241m.\u001B[39maddColumn(\u001B[38;5;124m\"\u001B[39m\u001B[38;5;124msal\u001B[39m\u001B[38;5;124m\"\u001B[39m,IntegerType(),\u001B[38;5;28;01mFalse\u001B[39;00m)\\\n",
       "\u001B[1;32m     10\u001B[0m           \u001B[38;5;241m.\u001B[39maddColumn(\u001B[38;5;124m\"\u001B[39m\u001B[38;5;124mdept\u001B[39m\u001B[38;5;124m\"\u001B[39m,StringType(),\u001B[38;5;28;01mFalse\u001B[39;00m)\\\n",
       "\u001B[1;32m     11\u001B[0m           \u001B[38;5;241m.\u001B[39mproperty(\u001B[38;5;124m\"\u001B[39m\u001B[38;5;124mdescription\u001B[39m\u001B[38;5;124m\"\u001B[39m,\u001B[38;5;124m\"\u001B[39m\u001B[38;5;124mtable created for demo purpose\u001B[39m\u001B[38;5;124m\"\u001B[39m)\\\n",
       "\u001B[1;32m     12\u001B[0m           \u001B[38;5;241m.\u001B[39mlocation(\u001B[38;5;124m\"\u001B[39m\u001B[38;5;124m/FileStore/tables/delta/create_table\u001B[39m\u001B[38;5;124m\"\u001B[39m)\\\n",
       "\u001B[1;32m     13\u001B[0m           \u001B[38;5;241m.\u001B[39mexecute()\n",
       "\n",
       "File \u001B[0;32m/databricks/spark/python/delta/tables.py:1438\u001B[0m, in \u001B[0;36mDeltaTableBuilder.execute\u001B[0;34m(self)\u001B[0m\n",
       "\u001B[1;32m   1429\u001B[0m \u001B[38;5;129m@since\u001B[39m(\u001B[38;5;241m1.0\u001B[39m)  \u001B[38;5;66;03m# type: ignore[arg-type]\u001B[39;00m\n",
       "\u001B[1;32m   1430\u001B[0m \u001B[38;5;28;01mdef\u001B[39;00m \u001B[38;5;21mexecute\u001B[39m(\u001B[38;5;28mself\u001B[39m) \u001B[38;5;241m-\u001B[39m\u001B[38;5;241m>\u001B[39m DeltaTable:\n",
       "\u001B[1;32m   1431\u001B[0m     \u001B[38;5;124;03m\"\"\"\u001B[39;00m\n",
       "\u001B[1;32m   1432\u001B[0m \u001B[38;5;124;03m    Execute Table Creation.\u001B[39;00m\n",
       "\u001B[1;32m   1433\u001B[0m \n",
       "\u001B[0;32m   (...)\u001B[0m\n",
       "\u001B[1;32m   1436\u001B[0m \u001B[38;5;124;03m    .. note:: Evolving\u001B[39;00m\n",
       "\u001B[1;32m   1437\u001B[0m \u001B[38;5;124;03m    \"\"\"\u001B[39;00m\n",
       "\u001B[0;32m-> 1438\u001B[0m     jdt \u001B[38;5;241m=\u001B[39m \u001B[38;5;28;43mself\u001B[39;49m\u001B[38;5;241;43m.\u001B[39;49m\u001B[43m_jbuilder\u001B[49m\u001B[38;5;241;43m.\u001B[39;49m\u001B[43mexecute\u001B[49m\u001B[43m(\u001B[49m\u001B[43m)\u001B[49m\n",
       "\u001B[1;32m   1439\u001B[0m     \u001B[38;5;28;01mreturn\u001B[39;00m DeltaTable(\u001B[38;5;28mself\u001B[39m\u001B[38;5;241m.\u001B[39m_spark, jdt)\n",
       "\n",
       "File \u001B[0;32m/databricks/spark/python/lib/py4j-0.10.9.5-src.zip/py4j/java_gateway.py:1321\u001B[0m, in \u001B[0;36mJavaMember.__call__\u001B[0;34m(self, *args)\u001B[0m\n",
       "\u001B[1;32m   1315\u001B[0m command \u001B[38;5;241m=\u001B[39m proto\u001B[38;5;241m.\u001B[39mCALL_COMMAND_NAME \u001B[38;5;241m+\u001B[39m\\\n",
       "\u001B[1;32m   1316\u001B[0m     \u001B[38;5;28mself\u001B[39m\u001B[38;5;241m.\u001B[39mcommand_header \u001B[38;5;241m+\u001B[39m\\\n",
       "\u001B[1;32m   1317\u001B[0m     args_command \u001B[38;5;241m+\u001B[39m\\\n",
       "\u001B[1;32m   1318\u001B[0m     proto\u001B[38;5;241m.\u001B[39mEND_COMMAND_PART\n",
       "\u001B[1;32m   1320\u001B[0m answer \u001B[38;5;241m=\u001B[39m \u001B[38;5;28mself\u001B[39m\u001B[38;5;241m.\u001B[39mgateway_client\u001B[38;5;241m.\u001B[39msend_command(command)\n",
       "\u001B[0;32m-> 1321\u001B[0m return_value \u001B[38;5;241m=\u001B[39m \u001B[43mget_return_value\u001B[49m\u001B[43m(\u001B[49m\n",
       "\u001B[1;32m   1322\u001B[0m \u001B[43m    \u001B[49m\u001B[43manswer\u001B[49m\u001B[43m,\u001B[49m\u001B[43m \u001B[49m\u001B[38;5;28;43mself\u001B[39;49m\u001B[38;5;241;43m.\u001B[39;49m\u001B[43mgateway_client\u001B[49m\u001B[43m,\u001B[49m\u001B[43m \u001B[49m\u001B[38;5;28;43mself\u001B[39;49m\u001B[38;5;241;43m.\u001B[39;49m\u001B[43mtarget_id\u001B[49m\u001B[43m,\u001B[49m\u001B[43m \u001B[49m\u001B[38;5;28;43mself\u001B[39;49m\u001B[38;5;241;43m.\u001B[39;49m\u001B[43mname\u001B[49m\u001B[43m)\u001B[49m\n",
       "\u001B[1;32m   1324\u001B[0m \u001B[38;5;28;01mfor\u001B[39;00m temp_arg \u001B[38;5;129;01min\u001B[39;00m temp_args:\n",
       "\u001B[1;32m   1325\u001B[0m     temp_arg\u001B[38;5;241m.\u001B[39m_detach()\n",
       "\n",
       "File \u001B[0;32m/databricks/spark/python/pyspark/errors/exceptions.py:234\u001B[0m, in \u001B[0;36mcapture_sql_exception.<locals>.deco\u001B[0;34m(*a, **kw)\u001B[0m\n",
       "\u001B[1;32m    230\u001B[0m converted \u001B[38;5;241m=\u001B[39m convert_exception(e\u001B[38;5;241m.\u001B[39mjava_exception)\n",
       "\u001B[1;32m    231\u001B[0m \u001B[38;5;28;01mif\u001B[39;00m \u001B[38;5;129;01mnot\u001B[39;00m \u001B[38;5;28misinstance\u001B[39m(converted, UnknownException):\n",
       "\u001B[1;32m    232\u001B[0m     \u001B[38;5;66;03m# Hide where the exception came from that shows a non-Pythonic\u001B[39;00m\n",
       "\u001B[1;32m    233\u001B[0m     \u001B[38;5;66;03m# JVM exception message.\u001B[39;00m\n",
       "\u001B[0;32m--> 234\u001B[0m     \u001B[38;5;28;01mraise\u001B[39;00m converted \u001B[38;5;28;01mfrom\u001B[39;00m \u001B[38;5;28mNone\u001B[39m\n",
       "\u001B[1;32m    235\u001B[0m \u001B[38;5;28;01melse\u001B[39;00m:\n",
       "\u001B[1;32m    236\u001B[0m     \u001B[38;5;28;01mraise\u001B[39;00m\n",
       "\n",
       "\u001B[0;31mAnalysisException\u001B[0m: [TABLE_OR_VIEW_ALREADY_EXISTS] Cannot create table or view `default`.`employee_demo` because it already exists.\n",
       "Choose a different name, drop or replace the existing object, add the IF NOT EXISTS clause to tolerate pre-existing objects, or add the OR REFRESH clause to refresh the existing streaming table."
      ]
     },
     "metadata": {
      "application/vnd.databricks.v1+output": {
       "arguments": {},
       "data": "\u001B[0;31m---------------------------------------------------------------------------\u001B[0m\n\u001B[0;31mAnalysisException\u001B[0m                         Traceback (most recent call last)\nFile \u001B[0;32m<command-1388222939003278>:4\u001B[0m\n\u001B[1;32m      1\u001B[0m \u001B[38;5;28;01mfrom\u001B[39;00m \u001B[38;5;21;01mpyspark\u001B[39;00m\u001B[38;5;21;01m.\u001B[39;00m\u001B[38;5;21;01msql\u001B[39;00m\u001B[38;5;21;01m.\u001B[39;00m\u001B[38;5;21;01mtypes\u001B[39;00m \u001B[38;5;28;01mimport\u001B[39;00m \u001B[38;5;241m*\u001B[39m\n\u001B[0;32m----> 4\u001B[0m DeltaTable\u001B[38;5;241m.\u001B[39mcreate(spark)\\\n\u001B[1;32m      5\u001B[0m           \u001B[38;5;241m.\u001B[39mtableName(\u001B[38;5;124m\"\u001B[39m\u001B[38;5;124memployee_demo\u001B[39m\u001B[38;5;124m\"\u001B[39m)\\\n\u001B[1;32m      6\u001B[0m           \u001B[38;5;241m.\u001B[39maddColumn(\u001B[38;5;124m\"\u001B[39m\u001B[38;5;124memp_id\u001B[39m\u001B[38;5;124m\"\u001B[39m,IntegerType(),\u001B[38;5;28;01mFalse\u001B[39;00m)\\\n\u001B[1;32m      7\u001B[0m           \u001B[38;5;241m.\u001B[39maddColumn(\u001B[38;5;124m\"\u001B[39m\u001B[38;5;124memp_name\u001B[39m\u001B[38;5;124m\"\u001B[39m,StringType(),\u001B[38;5;28;01mFalse\u001B[39;00m)\\\n\u001B[1;32m      8\u001B[0m           \u001B[38;5;241m.\u001B[39maddColumn(\u001B[38;5;124m\"\u001B[39m\u001B[38;5;124mgender\u001B[39m\u001B[38;5;124m\"\u001B[39m,StringType(),\u001B[38;5;28;01mFalse\u001B[39;00m)\\\n\u001B[1;32m      9\u001B[0m           \u001B[38;5;241m.\u001B[39maddColumn(\u001B[38;5;124m\"\u001B[39m\u001B[38;5;124msal\u001B[39m\u001B[38;5;124m\"\u001B[39m,IntegerType(),\u001B[38;5;28;01mFalse\u001B[39;00m)\\\n\u001B[1;32m     10\u001B[0m           \u001B[38;5;241m.\u001B[39maddColumn(\u001B[38;5;124m\"\u001B[39m\u001B[38;5;124mdept\u001B[39m\u001B[38;5;124m\"\u001B[39m,StringType(),\u001B[38;5;28;01mFalse\u001B[39;00m)\\\n\u001B[1;32m     11\u001B[0m           \u001B[38;5;241m.\u001B[39mproperty(\u001B[38;5;124m\"\u001B[39m\u001B[38;5;124mdescription\u001B[39m\u001B[38;5;124m\"\u001B[39m,\u001B[38;5;124m\"\u001B[39m\u001B[38;5;124mtable created for demo purpose\u001B[39m\u001B[38;5;124m\"\u001B[39m)\\\n\u001B[1;32m     12\u001B[0m           \u001B[38;5;241m.\u001B[39mlocation(\u001B[38;5;124m\"\u001B[39m\u001B[38;5;124m/FileStore/tables/delta/create_table\u001B[39m\u001B[38;5;124m\"\u001B[39m)\\\n\u001B[1;32m     13\u001B[0m           \u001B[38;5;241m.\u001B[39mexecute()\n\nFile \u001B[0;32m/databricks/spark/python/delta/tables.py:1438\u001B[0m, in \u001B[0;36mDeltaTableBuilder.execute\u001B[0;34m(self)\u001B[0m\n\u001B[1;32m   1429\u001B[0m \u001B[38;5;129m@since\u001B[39m(\u001B[38;5;241m1.0\u001B[39m)  \u001B[38;5;66;03m# type: ignore[arg-type]\u001B[39;00m\n\u001B[1;32m   1430\u001B[0m \u001B[38;5;28;01mdef\u001B[39;00m \u001B[38;5;21mexecute\u001B[39m(\u001B[38;5;28mself\u001B[39m) \u001B[38;5;241m-\u001B[39m\u001B[38;5;241m>\u001B[39m DeltaTable:\n\u001B[1;32m   1431\u001B[0m     \u001B[38;5;124;03m\"\"\"\u001B[39;00m\n\u001B[1;32m   1432\u001B[0m \u001B[38;5;124;03m    Execute Table Creation.\u001B[39;00m\n\u001B[1;32m   1433\u001B[0m \n\u001B[0;32m   (...)\u001B[0m\n\u001B[1;32m   1436\u001B[0m \u001B[38;5;124;03m    .. note:: Evolving\u001B[39;00m\n\u001B[1;32m   1437\u001B[0m \u001B[38;5;124;03m    \"\"\"\u001B[39;00m\n\u001B[0;32m-> 1438\u001B[0m     jdt \u001B[38;5;241m=\u001B[39m \u001B[38;5;28;43mself\u001B[39;49m\u001B[38;5;241;43m.\u001B[39;49m\u001B[43m_jbuilder\u001B[49m\u001B[38;5;241;43m.\u001B[39;49m\u001B[43mexecute\u001B[49m\u001B[43m(\u001B[49m\u001B[43m)\u001B[49m\n\u001B[1;32m   1439\u001B[0m     \u001B[38;5;28;01mreturn\u001B[39;00m DeltaTable(\u001B[38;5;28mself\u001B[39m\u001B[38;5;241m.\u001B[39m_spark, jdt)\n\nFile \u001B[0;32m/databricks/spark/python/lib/py4j-0.10.9.5-src.zip/py4j/java_gateway.py:1321\u001B[0m, in \u001B[0;36mJavaMember.__call__\u001B[0;34m(self, *args)\u001B[0m\n\u001B[1;32m   1315\u001B[0m command \u001B[38;5;241m=\u001B[39m proto\u001B[38;5;241m.\u001B[39mCALL_COMMAND_NAME \u001B[38;5;241m+\u001B[39m\\\n\u001B[1;32m   1316\u001B[0m     \u001B[38;5;28mself\u001B[39m\u001B[38;5;241m.\u001B[39mcommand_header \u001B[38;5;241m+\u001B[39m\\\n\u001B[1;32m   1317\u001B[0m     args_command \u001B[38;5;241m+\u001B[39m\\\n\u001B[1;32m   1318\u001B[0m     proto\u001B[38;5;241m.\u001B[39mEND_COMMAND_PART\n\u001B[1;32m   1320\u001B[0m answer \u001B[38;5;241m=\u001B[39m \u001B[38;5;28mself\u001B[39m\u001B[38;5;241m.\u001B[39mgateway_client\u001B[38;5;241m.\u001B[39msend_command(command)\n\u001B[0;32m-> 1321\u001B[0m return_value \u001B[38;5;241m=\u001B[39m \u001B[43mget_return_value\u001B[49m\u001B[43m(\u001B[49m\n\u001B[1;32m   1322\u001B[0m \u001B[43m    \u001B[49m\u001B[43manswer\u001B[49m\u001B[43m,\u001B[49m\u001B[43m \u001B[49m\u001B[38;5;28;43mself\u001B[39;49m\u001B[38;5;241;43m.\u001B[39;49m\u001B[43mgateway_client\u001B[49m\u001B[43m,\u001B[49m\u001B[43m \u001B[49m\u001B[38;5;28;43mself\u001B[39;49m\u001B[38;5;241;43m.\u001B[39;49m\u001B[43mtarget_id\u001B[49m\u001B[43m,\u001B[49m\u001B[43m \u001B[49m\u001B[38;5;28;43mself\u001B[39;49m\u001B[38;5;241;43m.\u001B[39;49m\u001B[43mname\u001B[49m\u001B[43m)\u001B[49m\n\u001B[1;32m   1324\u001B[0m \u001B[38;5;28;01mfor\u001B[39;00m temp_arg \u001B[38;5;129;01min\u001B[39;00m temp_args:\n\u001B[1;32m   1325\u001B[0m     temp_arg\u001B[38;5;241m.\u001B[39m_detach()\n\nFile \u001B[0;32m/databricks/spark/python/pyspark/errors/exceptions.py:234\u001B[0m, in \u001B[0;36mcapture_sql_exception.<locals>.deco\u001B[0;34m(*a, **kw)\u001B[0m\n\u001B[1;32m    230\u001B[0m converted \u001B[38;5;241m=\u001B[39m convert_exception(e\u001B[38;5;241m.\u001B[39mjava_exception)\n\u001B[1;32m    231\u001B[0m \u001B[38;5;28;01mif\u001B[39;00m \u001B[38;5;129;01mnot\u001B[39;00m \u001B[38;5;28misinstance\u001B[39m(converted, UnknownException):\n\u001B[1;32m    232\u001B[0m     \u001B[38;5;66;03m# Hide where the exception came from that shows a non-Pythonic\u001B[39;00m\n\u001B[1;32m    233\u001B[0m     \u001B[38;5;66;03m# JVM exception message.\u001B[39;00m\n\u001B[0;32m--> 234\u001B[0m     \u001B[38;5;28;01mraise\u001B[39;00m converted \u001B[38;5;28;01mfrom\u001B[39;00m \u001B[38;5;28mNone\u001B[39m\n\u001B[1;32m    235\u001B[0m \u001B[38;5;28;01melse\u001B[39;00m:\n\u001B[1;32m    236\u001B[0m     \u001B[38;5;28;01mraise\u001B[39;00m\n\n\u001B[0;31mAnalysisException\u001B[0m: [TABLE_OR_VIEW_ALREADY_EXISTS] Cannot create table or view `default`.`employee_demo` because it already exists.\nChoose a different name, drop or replace the existing object, add the IF NOT EXISTS clause to tolerate pre-existing objects, or add the OR REFRESH clause to refresh the existing streaming table.",
       "errorSummary": "<span class='ansi-red-fg'>AnalysisException</span>: [TABLE_OR_VIEW_ALREADY_EXISTS] Cannot create table or view `default`.`employee_demo` because it already exists.\nChoose a different name, drop or replace the existing object, add the IF NOT EXISTS clause to tolerate pre-existing objects, or add the OR REFRESH clause to refresh the existing streaming table.",
       "errorTraceType": "ansi",
       "metadata": {},
       "type": "ipynbError"
      }
     },
     "output_type": "display_data"
    }
   ],
   "source": [
    "from pyspark.sql.types import *\n",
    "\n",
    "#throws error as table already exists \n",
    "\n",
    "DeltaTable.create(spark)\\\n",
    "          .tableName(\"employee_demo\")\\\n",
    "          .addColumn(\"emp_id\",IntegerType(),False)\\\n",
    "          .addColumn(\"emp_name\",StringType(),False)\\\n",
    "          .addColumn(\"gender\",StringType(),False)\\\n",
    "          .addColumn(\"sal\",IntegerType(),False)\\\n",
    "          .addColumn(\"dept\",StringType(),False)\\\n",
    "          .property(\"description\",\"table created for demo purpose\")\\\n",
    "          .location(\"/FileStore/tables/delta/create_table\")\\\n",
    "          .execute()"
   ]
  },
  {
   "cell_type": "code",
   "execution_count": 0,
   "metadata": {
    "application/vnd.databricks.v1+cell": {
     "cellMetadata": {
      "byteLimit": 2048000,
      "rowLimit": 10000
     },
     "inputWidgets": {},
     "nuid": "6ed09c48-fe32-4fa3-92b7-1b26c0c7d1fc",
     "showTitle": false,
     "title": ""
    }
   },
   "outputs": [
    {
     "output_type": "stream",
     "name": "stdout",
     "output_type": "stream",
     "text": [
      "Out[7]: <delta.tables.DeltaTable at 0x7f646091e130>"
     ]
    }
   ],
   "source": [
    "    \n",
    "    #doesnt throw any error if table is already existing and the command just get skipped\n",
    "\n",
    "    #if it doesnt exists already then new table is created\n",
    "    \n",
    "    DeltaTable.createIfNotExists(spark)\\\n",
    "          .tableName(\"employee_demo\")\\\n",
    "          .addColumn(\"emp_id\",IntegerType(),False)\\\n",
    "          .addColumn(\"emp_name\",StringType(),False)\\\n",
    "          .addColumn(\"sal\",IntegerType(),False)\\\n",
    "          .addColumn(\"dept\",StringType(),False)\\\n",
    "          .property(\"description\",\"table created for demo purpose\")\\\n",
    "          .location(\"/FileStore/tables/delta/create_table\")\\\n",
    "          .execute()"
   ]
  },
  {
   "cell_type": "code",
   "execution_count": 0,
   "metadata": {
    "application/vnd.databricks.v1+cell": {
     "cellMetadata": {
      "byteLimit": 2048000,
      "rowLimit": 10000
     },
     "inputWidgets": {},
     "nuid": "fa6ab69a-0887-47c5-8c5f-f790566073b8",
     "showTitle": false,
     "title": ""
    }
   },
   "outputs": [
    {
     "output_type": "stream",
     "name": "stdout",
     "output_type": "stream",
     "text": [
      "Out[8]: <delta.tables.DeltaTable at 0x7f645ad2ddf0>"
     ]
    }
   ],
   "source": [
    "\n",
    "#here we have modified the schema so even though the table exisits it got modified \n",
    "\n",
    "#even if table exists with the given name even though it treats as new one and old table gets truncated and deleted\n",
    "\n",
    "DeltaTable.createOrReplace(spark)\\\n",
    "          .tableName(\"employee_demo\")\\\n",
    "          .addColumn(\"emp_id\",IntegerType(),False)\\\n",
    "          .addColumn(\"emp_name\",StringType(),False)\\\n",
    "          .addColumn(\"sal\",IntegerType(),False)\\\n",
    "          .addColumn(\"dept\",StringType(),False)\\\n",
    "          .property(\"description\",\"table created for demo purpose\")\\\n",
    "          .location(\"/FileStore/tables/delta/create_table\")\\\n",
    "          .execute()"
   ]
  },
  {
   "cell_type": "markdown",
   "metadata": {
    "application/vnd.databricks.v1+cell": {
     "cellMetadata": {
      "byteLimit": 2048000,
      "rowLimit": 10000
     },
     "inputWidgets": {},
     "nuid": "580641a0-c30e-49b3-9c94-7f70d22dd220",
     "showTitle": false,
     "title": ""
    }
   },
   "source": [
    "#Method_2 : SQL\n"
   ]
  },
  {
   "cell_type": "markdown",
   "metadata": {
    "application/vnd.databricks.v1+cell": {
     "cellMetadata": {},
     "inputWidgets": {},
     "nuid": "fd4690b5-db35-4b66-9c96-8cadb993476d",
     "showTitle": false,
     "title": ""
    }
   },
   "source": [
    "#"
   ]
  },
  {
   "cell_type": "code",
   "execution_count": 0,
   "metadata": {
    "application/vnd.databricks.v1+cell": {
     "cellMetadata": {
      "byteLimit": 2048000,
      "implicitDf": true,
      "rowLimit": 10000
     },
     "inputWidgets": {},
     "nuid": "93ec8dec-1adc-49c3-8dc5-8e5c9396a47a",
     "showTitle": false,
     "title": ""
    }
   },
   "outputs": [
    {
     "output_type": "display_data",
     "data": {
      "text/plain": [
       "\u001B[0;31m---------------------------------------------------------------------------\u001B[0m\n",
       "\u001B[0;31mAnalysisException\u001B[0m                         Traceback (most recent call last)\n",
       "File \u001B[0;32m<command-1388222939003282>:7\u001B[0m\n",
       "\u001B[1;32m      5\u001B[0m     display(df)\n",
       "\u001B[1;32m      6\u001B[0m     \u001B[38;5;28;01mreturn\u001B[39;00m df\n",
       "\u001B[0;32m----> 7\u001B[0m   _sqldf \u001B[38;5;241m=\u001B[39m \u001B[43m____databricks_percent_sql\u001B[49m\u001B[43m(\u001B[49m\u001B[43m)\u001B[49m\n",
       "\u001B[1;32m      8\u001B[0m \u001B[38;5;28;01mfinally\u001B[39;00m:\n",
       "\u001B[1;32m      9\u001B[0m   \u001B[38;5;28;01mdel\u001B[39;00m ____databricks_percent_sql\n",
       "\n",
       "File \u001B[0;32m<command-1388222939003282>:4\u001B[0m, in \u001B[0;36m____databricks_percent_sql\u001B[0;34m()\u001B[0m\n",
       "\u001B[1;32m      2\u001B[0m \u001B[38;5;28;01mdef\u001B[39;00m \u001B[38;5;21m____databricks_percent_sql\u001B[39m():\n",
       "\u001B[1;32m      3\u001B[0m   \u001B[38;5;28;01mimport\u001B[39;00m \u001B[38;5;21;01mbase64\u001B[39;00m\n",
       "\u001B[0;32m----> 4\u001B[0m   df \u001B[38;5;241m=\u001B[39m \u001B[43mspark\u001B[49m\u001B[38;5;241;43m.\u001B[39;49m\u001B[43msql\u001B[49m\u001B[43m(\u001B[49m\u001B[43mbase64\u001B[49m\u001B[38;5;241;43m.\u001B[39;49m\u001B[43mstandard_b64decode\u001B[49m\u001B[43m(\u001B[49m\u001B[38;5;124;43m\"\u001B[39;49m\u001B[38;5;124;43mQ1JFQVRFIFRBQkxFIGVtcGxveWVlX2RlbW8KKAogIGVtcF9pZCBJTlQsCiAgZW1wX25hbWUgU1RSSU5HLAogIHNhbCBJTlQsCiAgZGVwdCBTVFJJTkcKKVVTSU5HIERFTFRB\u001B[39;49m\u001B[38;5;124;43m\"\u001B[39;49m\u001B[43m)\u001B[49m\u001B[38;5;241;43m.\u001B[39;49m\u001B[43mdecode\u001B[49m\u001B[43m(\u001B[49m\u001B[43m)\u001B[49m\u001B[43m)\u001B[49m\n",
       "\u001B[1;32m      5\u001B[0m   display(df)\n",
       "\u001B[1;32m      6\u001B[0m   \u001B[38;5;28;01mreturn\u001B[39;00m df\n",
       "\n",
       "File \u001B[0;32m/databricks/spark/python/pyspark/instrumentation_utils.py:48\u001B[0m, in \u001B[0;36m_wrap_function.<locals>.wrapper\u001B[0;34m(*args, **kwargs)\u001B[0m\n",
       "\u001B[1;32m     46\u001B[0m start \u001B[38;5;241m=\u001B[39m time\u001B[38;5;241m.\u001B[39mperf_counter()\n",
       "\u001B[1;32m     47\u001B[0m \u001B[38;5;28;01mtry\u001B[39;00m:\n",
       "\u001B[0;32m---> 48\u001B[0m     res \u001B[38;5;241m=\u001B[39m \u001B[43mfunc\u001B[49m\u001B[43m(\u001B[49m\u001B[38;5;241;43m*\u001B[39;49m\u001B[43margs\u001B[49m\u001B[43m,\u001B[49m\u001B[43m \u001B[49m\u001B[38;5;241;43m*\u001B[39;49m\u001B[38;5;241;43m*\u001B[39;49m\u001B[43mkwargs\u001B[49m\u001B[43m)\u001B[49m\n",
       "\u001B[1;32m     49\u001B[0m     logger\u001B[38;5;241m.\u001B[39mlog_success(\n",
       "\u001B[1;32m     50\u001B[0m         module_name, class_name, function_name, time\u001B[38;5;241m.\u001B[39mperf_counter() \u001B[38;5;241m-\u001B[39m start, signature\n",
       "\u001B[1;32m     51\u001B[0m     )\n",
       "\u001B[1;32m     52\u001B[0m     \u001B[38;5;28;01mreturn\u001B[39;00m res\n",
       "\n",
       "File \u001B[0;32m/databricks/spark/python/pyspark/sql/session.py:1387\u001B[0m, in \u001B[0;36mSparkSession.sql\u001B[0;34m(self, sqlQuery, args, **kwargs)\u001B[0m\n",
       "\u001B[1;32m   1385\u001B[0m \u001B[38;5;28;01mtry\u001B[39;00m:\n",
       "\u001B[1;32m   1386\u001B[0m     litArgs \u001B[38;5;241m=\u001B[39m {k: _to_java_column(lit(v)) \u001B[38;5;28;01mfor\u001B[39;00m k, v \u001B[38;5;129;01min\u001B[39;00m (args \u001B[38;5;129;01mor\u001B[39;00m {})\u001B[38;5;241m.\u001B[39mitems()}\n",
       "\u001B[0;32m-> 1387\u001B[0m     \u001B[38;5;28;01mreturn\u001B[39;00m DataFrame(\u001B[38;5;28;43mself\u001B[39;49m\u001B[38;5;241;43m.\u001B[39;49m\u001B[43m_jsparkSession\u001B[49m\u001B[38;5;241;43m.\u001B[39;49m\u001B[43msql\u001B[49m\u001B[43m(\u001B[49m\u001B[43msqlQuery\u001B[49m\u001B[43m,\u001B[49m\u001B[43m \u001B[49m\u001B[43mlitArgs\u001B[49m\u001B[43m)\u001B[49m, \u001B[38;5;28mself\u001B[39m)\n",
       "\u001B[1;32m   1388\u001B[0m \u001B[38;5;28;01mfinally\u001B[39;00m:\n",
       "\u001B[1;32m   1389\u001B[0m     \u001B[38;5;28;01mif\u001B[39;00m \u001B[38;5;28mlen\u001B[39m(kwargs) \u001B[38;5;241m>\u001B[39m \u001B[38;5;241m0\u001B[39m:\n",
       "\n",
       "File \u001B[0;32m/databricks/spark/python/lib/py4j-0.10.9.5-src.zip/py4j/java_gateway.py:1321\u001B[0m, in \u001B[0;36mJavaMember.__call__\u001B[0;34m(self, *args)\u001B[0m\n",
       "\u001B[1;32m   1315\u001B[0m command \u001B[38;5;241m=\u001B[39m proto\u001B[38;5;241m.\u001B[39mCALL_COMMAND_NAME \u001B[38;5;241m+\u001B[39m\\\n",
       "\u001B[1;32m   1316\u001B[0m     \u001B[38;5;28mself\u001B[39m\u001B[38;5;241m.\u001B[39mcommand_header \u001B[38;5;241m+\u001B[39m\\\n",
       "\u001B[1;32m   1317\u001B[0m     args_command \u001B[38;5;241m+\u001B[39m\\\n",
       "\u001B[1;32m   1318\u001B[0m     proto\u001B[38;5;241m.\u001B[39mEND_COMMAND_PART\n",
       "\u001B[1;32m   1320\u001B[0m answer \u001B[38;5;241m=\u001B[39m \u001B[38;5;28mself\u001B[39m\u001B[38;5;241m.\u001B[39mgateway_client\u001B[38;5;241m.\u001B[39msend_command(command)\n",
       "\u001B[0;32m-> 1321\u001B[0m return_value \u001B[38;5;241m=\u001B[39m \u001B[43mget_return_value\u001B[49m\u001B[43m(\u001B[49m\n",
       "\u001B[1;32m   1322\u001B[0m \u001B[43m    \u001B[49m\u001B[43manswer\u001B[49m\u001B[43m,\u001B[49m\u001B[43m \u001B[49m\u001B[38;5;28;43mself\u001B[39;49m\u001B[38;5;241;43m.\u001B[39;49m\u001B[43mgateway_client\u001B[49m\u001B[43m,\u001B[49m\u001B[43m \u001B[49m\u001B[38;5;28;43mself\u001B[39;49m\u001B[38;5;241;43m.\u001B[39;49m\u001B[43mtarget_id\u001B[49m\u001B[43m,\u001B[49m\u001B[43m \u001B[49m\u001B[38;5;28;43mself\u001B[39;49m\u001B[38;5;241;43m.\u001B[39;49m\u001B[43mname\u001B[49m\u001B[43m)\u001B[49m\n",
       "\u001B[1;32m   1324\u001B[0m \u001B[38;5;28;01mfor\u001B[39;00m temp_arg \u001B[38;5;129;01min\u001B[39;00m temp_args:\n",
       "\u001B[1;32m   1325\u001B[0m     temp_arg\u001B[38;5;241m.\u001B[39m_detach()\n",
       "\n",
       "File \u001B[0;32m/databricks/spark/python/pyspark/errors/exceptions.py:234\u001B[0m, in \u001B[0;36mcapture_sql_exception.<locals>.deco\u001B[0;34m(*a, **kw)\u001B[0m\n",
       "\u001B[1;32m    230\u001B[0m converted \u001B[38;5;241m=\u001B[39m convert_exception(e\u001B[38;5;241m.\u001B[39mjava_exception)\n",
       "\u001B[1;32m    231\u001B[0m \u001B[38;5;28;01mif\u001B[39;00m \u001B[38;5;129;01mnot\u001B[39;00m \u001B[38;5;28misinstance\u001B[39m(converted, UnknownException):\n",
       "\u001B[1;32m    232\u001B[0m     \u001B[38;5;66;03m# Hide where the exception came from that shows a non-Pythonic\u001B[39;00m\n",
       "\u001B[1;32m    233\u001B[0m     \u001B[38;5;66;03m# JVM exception message.\u001B[39;00m\n",
       "\u001B[0;32m--> 234\u001B[0m     \u001B[38;5;28;01mraise\u001B[39;00m converted \u001B[38;5;28;01mfrom\u001B[39;00m \u001B[38;5;28mNone\u001B[39m\n",
       "\u001B[1;32m    235\u001B[0m \u001B[38;5;28;01melse\u001B[39;00m:\n",
       "\u001B[1;32m    236\u001B[0m     \u001B[38;5;28;01mraise\u001B[39;00m\n",
       "\n",
       "\u001B[0;31mAnalysisException\u001B[0m: [TABLE_OR_VIEW_ALREADY_EXISTS] Cannot create table or view `default`.`employee_demo` because it already exists.\n",
       "Choose a different name, drop or replace the existing object, add the IF NOT EXISTS clause to tolerate pre-existing objects, or add the OR REFRESH clause to refresh the existing streaming table."
      ]
     },
     "metadata": {
      "application/vnd.databricks.v1+output": {
       "arguments": {},
       "data": "\u001B[0;31m---------------------------------------------------------------------------\u001B[0m\n\u001B[0;31mAnalysisException\u001B[0m                         Traceback (most recent call last)\nFile \u001B[0;32m<command-1388222939003282>:7\u001B[0m\n\u001B[1;32m      5\u001B[0m     display(df)\n\u001B[1;32m      6\u001B[0m     \u001B[38;5;28;01mreturn\u001B[39;00m df\n\u001B[0;32m----> 7\u001B[0m   _sqldf \u001B[38;5;241m=\u001B[39m \u001B[43m____databricks_percent_sql\u001B[49m\u001B[43m(\u001B[49m\u001B[43m)\u001B[49m\n\u001B[1;32m      8\u001B[0m \u001B[38;5;28;01mfinally\u001B[39;00m:\n\u001B[1;32m      9\u001B[0m   \u001B[38;5;28;01mdel\u001B[39;00m ____databricks_percent_sql\n\nFile \u001B[0;32m<command-1388222939003282>:4\u001B[0m, in \u001B[0;36m____databricks_percent_sql\u001B[0;34m()\u001B[0m\n\u001B[1;32m      2\u001B[0m \u001B[38;5;28;01mdef\u001B[39;00m \u001B[38;5;21m____databricks_percent_sql\u001B[39m():\n\u001B[1;32m      3\u001B[0m   \u001B[38;5;28;01mimport\u001B[39;00m \u001B[38;5;21;01mbase64\u001B[39;00m\n\u001B[0;32m----> 4\u001B[0m   df \u001B[38;5;241m=\u001B[39m \u001B[43mspark\u001B[49m\u001B[38;5;241;43m.\u001B[39;49m\u001B[43msql\u001B[49m\u001B[43m(\u001B[49m\u001B[43mbase64\u001B[49m\u001B[38;5;241;43m.\u001B[39;49m\u001B[43mstandard_b64decode\u001B[49m\u001B[43m(\u001B[49m\u001B[38;5;124;43m\"\u001B[39;49m\u001B[38;5;124;43mQ1JFQVRFIFRBQkxFIGVtcGxveWVlX2RlbW8KKAogIGVtcF9pZCBJTlQsCiAgZW1wX25hbWUgU1RSSU5HLAogIHNhbCBJTlQsCiAgZGVwdCBTVFJJTkcKKVVTSU5HIERFTFRB\u001B[39;49m\u001B[38;5;124;43m\"\u001B[39;49m\u001B[43m)\u001B[49m\u001B[38;5;241;43m.\u001B[39;49m\u001B[43mdecode\u001B[49m\u001B[43m(\u001B[49m\u001B[43m)\u001B[49m\u001B[43m)\u001B[49m\n\u001B[1;32m      5\u001B[0m   display(df)\n\u001B[1;32m      6\u001B[0m   \u001B[38;5;28;01mreturn\u001B[39;00m df\n\nFile \u001B[0;32m/databricks/spark/python/pyspark/instrumentation_utils.py:48\u001B[0m, in \u001B[0;36m_wrap_function.<locals>.wrapper\u001B[0;34m(*args, **kwargs)\u001B[0m\n\u001B[1;32m     46\u001B[0m start \u001B[38;5;241m=\u001B[39m time\u001B[38;5;241m.\u001B[39mperf_counter()\n\u001B[1;32m     47\u001B[0m \u001B[38;5;28;01mtry\u001B[39;00m:\n\u001B[0;32m---> 48\u001B[0m     res \u001B[38;5;241m=\u001B[39m \u001B[43mfunc\u001B[49m\u001B[43m(\u001B[49m\u001B[38;5;241;43m*\u001B[39;49m\u001B[43margs\u001B[49m\u001B[43m,\u001B[49m\u001B[43m \u001B[49m\u001B[38;5;241;43m*\u001B[39;49m\u001B[38;5;241;43m*\u001B[39;49m\u001B[43mkwargs\u001B[49m\u001B[43m)\u001B[49m\n\u001B[1;32m     49\u001B[0m     logger\u001B[38;5;241m.\u001B[39mlog_success(\n\u001B[1;32m     50\u001B[0m         module_name, class_name, function_name, time\u001B[38;5;241m.\u001B[39mperf_counter() \u001B[38;5;241m-\u001B[39m start, signature\n\u001B[1;32m     51\u001B[0m     )\n\u001B[1;32m     52\u001B[0m     \u001B[38;5;28;01mreturn\u001B[39;00m res\n\nFile \u001B[0;32m/databricks/spark/python/pyspark/sql/session.py:1387\u001B[0m, in \u001B[0;36mSparkSession.sql\u001B[0;34m(self, sqlQuery, args, **kwargs)\u001B[0m\n\u001B[1;32m   1385\u001B[0m \u001B[38;5;28;01mtry\u001B[39;00m:\n\u001B[1;32m   1386\u001B[0m     litArgs \u001B[38;5;241m=\u001B[39m {k: _to_java_column(lit(v)) \u001B[38;5;28;01mfor\u001B[39;00m k, v \u001B[38;5;129;01min\u001B[39;00m (args \u001B[38;5;129;01mor\u001B[39;00m {})\u001B[38;5;241m.\u001B[39mitems()}\n\u001B[0;32m-> 1387\u001B[0m     \u001B[38;5;28;01mreturn\u001B[39;00m DataFrame(\u001B[38;5;28;43mself\u001B[39;49m\u001B[38;5;241;43m.\u001B[39;49m\u001B[43m_jsparkSession\u001B[49m\u001B[38;5;241;43m.\u001B[39;49m\u001B[43msql\u001B[49m\u001B[43m(\u001B[49m\u001B[43msqlQuery\u001B[49m\u001B[43m,\u001B[49m\u001B[43m \u001B[49m\u001B[43mlitArgs\u001B[49m\u001B[43m)\u001B[49m, \u001B[38;5;28mself\u001B[39m)\n\u001B[1;32m   1388\u001B[0m \u001B[38;5;28;01mfinally\u001B[39;00m:\n\u001B[1;32m   1389\u001B[0m     \u001B[38;5;28;01mif\u001B[39;00m \u001B[38;5;28mlen\u001B[39m(kwargs) \u001B[38;5;241m>\u001B[39m \u001B[38;5;241m0\u001B[39m:\n\nFile \u001B[0;32m/databricks/spark/python/lib/py4j-0.10.9.5-src.zip/py4j/java_gateway.py:1321\u001B[0m, in \u001B[0;36mJavaMember.__call__\u001B[0;34m(self, *args)\u001B[0m\n\u001B[1;32m   1315\u001B[0m command \u001B[38;5;241m=\u001B[39m proto\u001B[38;5;241m.\u001B[39mCALL_COMMAND_NAME \u001B[38;5;241m+\u001B[39m\\\n\u001B[1;32m   1316\u001B[0m     \u001B[38;5;28mself\u001B[39m\u001B[38;5;241m.\u001B[39mcommand_header \u001B[38;5;241m+\u001B[39m\\\n\u001B[1;32m   1317\u001B[0m     args_command \u001B[38;5;241m+\u001B[39m\\\n\u001B[1;32m   1318\u001B[0m     proto\u001B[38;5;241m.\u001B[39mEND_COMMAND_PART\n\u001B[1;32m   1320\u001B[0m answer \u001B[38;5;241m=\u001B[39m \u001B[38;5;28mself\u001B[39m\u001B[38;5;241m.\u001B[39mgateway_client\u001B[38;5;241m.\u001B[39msend_command(command)\n\u001B[0;32m-> 1321\u001B[0m return_value \u001B[38;5;241m=\u001B[39m \u001B[43mget_return_value\u001B[49m\u001B[43m(\u001B[49m\n\u001B[1;32m   1322\u001B[0m \u001B[43m    \u001B[49m\u001B[43manswer\u001B[49m\u001B[43m,\u001B[49m\u001B[43m \u001B[49m\u001B[38;5;28;43mself\u001B[39;49m\u001B[38;5;241;43m.\u001B[39;49m\u001B[43mgateway_client\u001B[49m\u001B[43m,\u001B[49m\u001B[43m \u001B[49m\u001B[38;5;28;43mself\u001B[39;49m\u001B[38;5;241;43m.\u001B[39;49m\u001B[43mtarget_id\u001B[49m\u001B[43m,\u001B[49m\u001B[43m \u001B[49m\u001B[38;5;28;43mself\u001B[39;49m\u001B[38;5;241;43m.\u001B[39;49m\u001B[43mname\u001B[49m\u001B[43m)\u001B[49m\n\u001B[1;32m   1324\u001B[0m \u001B[38;5;28;01mfor\u001B[39;00m temp_arg \u001B[38;5;129;01min\u001B[39;00m temp_args:\n\u001B[1;32m   1325\u001B[0m     temp_arg\u001B[38;5;241m.\u001B[39m_detach()\n\nFile \u001B[0;32m/databricks/spark/python/pyspark/errors/exceptions.py:234\u001B[0m, in \u001B[0;36mcapture_sql_exception.<locals>.deco\u001B[0;34m(*a, **kw)\u001B[0m\n\u001B[1;32m    230\u001B[0m converted \u001B[38;5;241m=\u001B[39m convert_exception(e\u001B[38;5;241m.\u001B[39mjava_exception)\n\u001B[1;32m    231\u001B[0m \u001B[38;5;28;01mif\u001B[39;00m \u001B[38;5;129;01mnot\u001B[39;00m \u001B[38;5;28misinstance\u001B[39m(converted, UnknownException):\n\u001B[1;32m    232\u001B[0m     \u001B[38;5;66;03m# Hide where the exception came from that shows a non-Pythonic\u001B[39;00m\n\u001B[1;32m    233\u001B[0m     \u001B[38;5;66;03m# JVM exception message.\u001B[39;00m\n\u001B[0;32m--> 234\u001B[0m     \u001B[38;5;28;01mraise\u001B[39;00m converted \u001B[38;5;28;01mfrom\u001B[39;00m \u001B[38;5;28mNone\u001B[39m\n\u001B[1;32m    235\u001B[0m \u001B[38;5;28;01melse\u001B[39;00m:\n\u001B[1;32m    236\u001B[0m     \u001B[38;5;28;01mraise\u001B[39;00m\n\n\u001B[0;31mAnalysisException\u001B[0m: [TABLE_OR_VIEW_ALREADY_EXISTS] Cannot create table or view `default`.`employee_demo` because it already exists.\nChoose a different name, drop or replace the existing object, add the IF NOT EXISTS clause to tolerate pre-existing objects, or add the OR REFRESH clause to refresh the existing streaming table.",
       "errorSummary": "<span class='ansi-red-fg'>AnalysisException</span>: [TABLE_OR_VIEW_ALREADY_EXISTS] Cannot create table or view `default`.`employee_demo` because it already exists.\nChoose a different name, drop or replace the existing object, add the IF NOT EXISTS clause to tolerate pre-existing objects, or add the OR REFRESH clause to refresh the existing streaming table.",
       "errorTraceType": "ansi",
       "metadata": {},
       "type": "ipynbError"
      }
     },
     "output_type": "display_data"
    }
   ],
   "source": [
    "%sql\n",
    "\n",
    "/*THROWS ERROR AS TABLE ALREADY EXISTS*/\n",
    "CREATE TABLE employee_demo\n",
    "(\n",
    "  emp_id INT,\n",
    "  emp_name STRING,\n",
    "  sal INT,\n",
    "  dept STRING\n",
    ")USING DELTA\n"
   ]
  },
  {
   "cell_type": "code",
   "execution_count": 0,
   "metadata": {
    "application/vnd.databricks.v1+cell": {
     "cellMetadata": {
      "byteLimit": 2048000,
      "implicitDf": true,
      "rowLimit": 10000
     },
     "inputWidgets": {},
     "nuid": "905bfd04-5e6b-490e-8939-fca42f0e01ed",
     "showTitle": false,
     "title": ""
    }
   },
   "outputs": [
    {
     "output_type": "display_data",
     "data": {
      "text/html": [
       "<style scoped>\n",
       "  .table-result-container {\n",
       "    max-height: 300px;\n",
       "    overflow: auto;\n",
       "  }\n",
       "  table, th, td {\n",
       "    border: 1px solid black;\n",
       "    border-collapse: collapse;\n",
       "  }\n",
       "  th, td {\n",
       "    padding: 5px;\n",
       "  }\n",
       "  th {\n",
       "    text-align: left;\n",
       "  }\n",
       "</style><div class='table-result-container'><table class='table-result'><thead style='background-color: white'><tr></tr></thead><tbody></tbody></table></div>"
      ]
     },
     "metadata": {
      "application/vnd.databricks.v1+output": {
       "addedWidgets": {},
       "aggData": [],
       "aggError": "",
       "aggOverflow": false,
       "aggSchema": [],
       "aggSeriesLimitReached": false,
       "aggType": "",
       "arguments": {},
       "columnCustomDisplayInfos": {},
       "data": [],
       "datasetInfos": [],
       "dbfsResultPath": null,
       "isJsonSchema": true,
       "metadata": {},
       "overflow": false,
       "plotOptions": {
        "customPlotOptions": {},
        "displayType": "table",
        "pivotAggregation": null,
        "pivotColumns": null,
        "xColumns": null,
        "yColumns": null
       },
       "removedWidgets": [],
       "schema": [],
       "type": "table"
      }
     },
     "output_type": "display_data"
    }
   ],
   "source": [
    "%sql\n",
    "/*doesnt throw any error just skipps the command */\n",
    "CREATE TABLE IF NOT EXISTS employee_demo\n",
    "(\n",
    "  emp_id INT,\n",
    "  emp_name STRING,\n",
    "  sal INT,\n",
    "  dept STRING\n",
    ")USING DELTA"
   ]
  },
  {
   "cell_type": "code",
   "execution_count": 0,
   "metadata": {
    "application/vnd.databricks.v1+cell": {
     "cellMetadata": {
      "byteLimit": 2048000,
      "implicitDf": true,
      "rowLimit": 10000
     },
     "inputWidgets": {},
     "nuid": "89cc5bf7-c067-41ff-88aa-97ab0c21e035",
     "showTitle": false,
     "title": ""
    }
   },
   "outputs": [
    {
     "output_type": "display_data",
     "data": {
      "text/html": [
       "<style scoped>\n",
       "  .table-result-container {\n",
       "    max-height: 300px;\n",
       "    overflow: auto;\n",
       "  }\n",
       "  table, th, td {\n",
       "    border: 1px solid black;\n",
       "    border-collapse: collapse;\n",
       "  }\n",
       "  th, td {\n",
       "    padding: 5px;\n",
       "  }\n",
       "  th {\n",
       "    text-align: left;\n",
       "  }\n",
       "</style><div class='table-result-container'><table class='table-result'><thead style='background-color: white'><tr></tr></thead><tbody></tbody></table></div>"
      ]
     },
     "metadata": {
      "application/vnd.databricks.v1+output": {
       "addedWidgets": {},
       "aggData": [],
       "aggError": "",
       "aggOverflow": false,
       "aggSchema": [],
       "aggSeriesLimitReached": false,
       "aggType": "",
       "arguments": {},
       "columnCustomDisplayInfos": {},
       "data": [],
       "datasetInfos": [],
       "dbfsResultPath": null,
       "isJsonSchema": true,
       "metadata": {},
       "overflow": false,
       "plotOptions": {
        "customPlotOptions": {},
        "displayType": "table",
        "pivotAggregation": null,
        "pivotColumns": null,
        "xColumns": null,
        "yColumns": null
       },
       "removedWidgets": [],
       "schema": [],
       "type": "table"
      }
     },
     "output_type": "display_data"
    }
   ],
   "source": [
    "%sql\n",
    "/*creates a new table */\n",
    "CREATE or replace TABLE  employee_demo\n",
    "(\n",
    "  emp_id INT,\n",
    "  emp_name STRING,\n",
    "  sal INT,\n",
    "  dept STRING\n",
    ")USING DELTA \n",
    " LOCATION '/FileStore/tables/delta/create_table'"
   ]
  },
  {
   "cell_type": "markdown",
   "metadata": {
    "application/vnd.databricks.v1+cell": {
     "cellMetadata": {},
     "inputWidgets": {},
     "nuid": "df7953c9-474d-4fe4-957e-7c95c98eafc5",
     "showTitle": false,
     "title": ""
    }
   },
   "source": [
    "#METHOD 3: USING DATAFRAME"
   ]
  },
  {
   "cell_type": "code",
   "execution_count": 0,
   "metadata": {
    "application/vnd.databricks.v1+cell": {
     "cellMetadata": {
      "byteLimit": 2048000,
      "rowLimit": 10000
     },
     "inputWidgets": {},
     "nuid": "c9280593-f992-4c6a-975c-5da858c2eb67",
     "showTitle": false,
     "title": ""
    }
   },
   "outputs": [],
   "source": [
    "employee_data=[(1,\"varun\",\"M\",13,\"sales\"),\n",
    "               (2,\"kusuma\",\"F\",10,\"finance\"),\n",
    "               (3,\"sahithi\",\"F\",12,\"HR\")\n",
    "              ]\n",
    "\n",
    "employee_schema=[\"id\",\"emp_name\",\"gender\",\"hrly_pay\",\"dept\"] \n",
    "\n",
    "emp_df_1=spark.createDataFrame(employee_data,employee_schema)"
   ]
  },
  {
   "cell_type": "code",
   "execution_count": 0,
   "metadata": {
    "application/vnd.databricks.v1+cell": {
     "cellMetadata": {
      "byteLimit": 2048000,
      "rowLimit": 10000
     },
     "inputWidgets": {},
     "nuid": "d7120a86-caae-439a-a14e-522f6bbf04b1",
     "showTitle": false,
     "title": ""
    }
   },
   "outputs": [],
   "source": [
    "emp_df_1.write.format('delta').option(\"path\",\"/FileStore/tables/delta/sample_delta_tables/\").saveAsTable('employee_demo_1')"
   ]
  },
  {
   "cell_type": "code",
   "execution_count": 0,
   "metadata": {
    "application/vnd.databricks.v1+cell": {
     "cellMetadata": {
      "byteLimit": 2048000,
      "implicitDf": true,
      "rowLimit": 10000
     },
     "inputWidgets": {},
     "nuid": "7b3d0657-aa19-497b-bcc1-26bc9f4b96dd",
     "showTitle": false,
     "title": ""
    }
   },
   "outputs": [
    {
     "output_type": "display_data",
     "data": {
      "text/html": [
       "<style scoped>\n",
       "  .table-result-container {\n",
       "    max-height: 300px;\n",
       "    overflow: auto;\n",
       "  }\n",
       "  table, th, td {\n",
       "    border: 1px solid black;\n",
       "    border-collapse: collapse;\n",
       "  }\n",
       "  th, td {\n",
       "    padding: 5px;\n",
       "  }\n",
       "  th {\n",
       "    text-align: left;\n",
       "  }\n",
       "</style><div class='table-result-container'><table class='table-result'><thead style='background-color: white'><tr><th>id</th><th>emp_name</th><th>gender</th><th>hrly_pay</th><th>dept</th></tr></thead><tbody><tr><td>2</td><td>kusuma</td><td>F</td><td>10</td><td>finance</td></tr><tr><td>1</td><td>varun</td><td>M</td><td>13</td><td>sales</td></tr><tr><td>3</td><td>sahithi</td><td>F</td><td>12</td><td>HR</td></tr></tbody></table></div>"
      ]
     },
     "metadata": {
      "application/vnd.databricks.v1+output": {
       "addedWidgets": {},
       "aggData": [],
       "aggError": "",
       "aggOverflow": false,
       "aggSchema": [],
       "aggSeriesLimitReached": false,
       "aggType": "",
       "arguments": {},
       "columnCustomDisplayInfos": {},
       "data": [
        [
         2,
         "kusuma",
         "F",
         10,
         "finance"
        ],
        [
         1,
         "varun",
         "M",
         13,
         "sales"
        ],
        [
         3,
         "sahithi",
         "F",
         12,
         "HR"
        ]
       ],
       "datasetInfos": [],
       "dbfsResultPath": null,
       "isJsonSchema": true,
       "metadata": {},
       "overflow": false,
       "plotOptions": {
        "customPlotOptions": {},
        "displayType": "table",
        "pivotAggregation": null,
        "pivotColumns": null,
        "xColumns": null,
        "yColumns": null
       },
       "removedWidgets": [],
       "schema": [
        {
         "metadata": "{}",
         "name": "id",
         "type": "\"long\""
        },
        {
         "metadata": "{}",
         "name": "emp_name",
         "type": "\"string\""
        },
        {
         "metadata": "{}",
         "name": "gender",
         "type": "\"string\""
        },
        {
         "metadata": "{}",
         "name": "hrly_pay",
         "type": "\"long\""
        },
        {
         "metadata": "{}",
         "name": "dept",
         "type": "\"string\""
        }
       ],
       "type": "table"
      }
     },
     "output_type": "display_data"
    }
   ],
   "source": [
    "%sql\n",
    "\n",
    "select * from employee_demo_1"
   ]
  },
  {
   "cell_type": "code",
   "execution_count": 0,
   "metadata": {
    "application/vnd.databricks.v1+cell": {
     "cellMetadata": {
      "byteLimit": 2048000,
      "rowLimit": 10000
     },
     "inputWidgets": {},
     "nuid": "8bb10fa0-371c-4107-b962-a67a4c7c546e",
     "showTitle": false,
     "title": ""
    }
   },
   "outputs": [
    {
     "output_type": "display_data",
     "data": {
      "text/html": [
       "<style scoped>\n",
       "  .table-result-container {\n",
       "    max-height: 300px;\n",
       "    overflow: auto;\n",
       "  }\n",
       "  table, th, td {\n",
       "    border: 1px solid black;\n",
       "    border-collapse: collapse;\n",
       "  }\n",
       "  th, td {\n",
       "    padding: 5px;\n",
       "  }\n",
       "  th {\n",
       "    text-align: left;\n",
       "  }\n",
       "</style><div class='table-result-container'><table class='table-result'><thead style='background-color: white'><tr><th>path</th><th>name</th><th>size</th><th>modificationTime</th></tr></thead><tbody><tr><td>dbfs:/FileStore/tables/delta/create_table/_delta_log/.s3-optimization-0</td><td>.s3-optimization-0</td><td>0</td><td>1717524454000</td></tr><tr><td>dbfs:/FileStore/tables/delta/create_table/_delta_log/.s3-optimization-1</td><td>.s3-optimization-1</td><td>0</td><td>1717524454000</td></tr><tr><td>dbfs:/FileStore/tables/delta/create_table/_delta_log/.s3-optimization-2</td><td>.s3-optimization-2</td><td>0</td><td>1717524454000</td></tr><tr><td>dbfs:/FileStore/tables/delta/create_table/_delta_log/00000000000000000000.crc</td><td>00000000000000000000.crc</td><td>2235</td><td>1717524476000</td></tr><tr><td>dbfs:/FileStore/tables/delta/create_table/_delta_log/00000000000000000000.json</td><td>00000000000000000000.json</td><td>1255</td><td>1717524454000</td></tr><tr><td>dbfs:/FileStore/tables/delta/create_table/_delta_log/00000000000000000001.crc</td><td>00000000000000000001.crc</td><td>2144</td><td>1717525322000</td></tr><tr><td>dbfs:/FileStore/tables/delta/create_table/_delta_log/00000000000000000001.json</td><td>00000000000000000001.json</td><td>1149</td><td>1717525318000</td></tr><tr><td>dbfs:/FileStore/tables/delta/create_table/_delta_log/00000000000000000002.crc</td><td>00000000000000000002.crc</td><td>2094</td><td>1717527099000</td></tr><tr><td>dbfs:/FileStore/tables/delta/create_table/_delta_log/00000000000000000002.json</td><td>00000000000000000002.json</td><td>1049</td><td>1717527096000</td></tr><tr><td>dbfs:/FileStore/tables/delta/create_table/_delta_log/00000000000000000003.crc</td><td>00000000000000000003.crc</td><td>2108</td><td>1717527627000</td></tr><tr><td>dbfs:/FileStore/tables/delta/create_table/_delta_log/00000000000000000003.json</td><td>00000000000000000003.json</td><td>1049</td><td>1717527622000</td></tr></tbody></table></div>"
      ]
     },
     "metadata": {
      "application/vnd.databricks.v1+output": {
       "addedWidgets": {},
       "aggData": [],
       "aggError": "",
       "aggOverflow": false,
       "aggSchema": [],
       "aggSeriesLimitReached": false,
       "aggType": "",
       "arguments": {},
       "columnCustomDisplayInfos": {},
       "data": [
        [
         "dbfs:/FileStore/tables/delta/create_table/_delta_log/.s3-optimization-0",
         ".s3-optimization-0",
         0,
         1717524454000
        ],
        [
         "dbfs:/FileStore/tables/delta/create_table/_delta_log/.s3-optimization-1",
         ".s3-optimization-1",
         0,
         1717524454000
        ],
        [
         "dbfs:/FileStore/tables/delta/create_table/_delta_log/.s3-optimization-2",
         ".s3-optimization-2",
         0,
         1717524454000
        ],
        [
         "dbfs:/FileStore/tables/delta/create_table/_delta_log/00000000000000000000.crc",
         "00000000000000000000.crc",
         2235,
         1717524476000
        ],
        [
         "dbfs:/FileStore/tables/delta/create_table/_delta_log/00000000000000000000.json",
         "00000000000000000000.json",
         1255,
         1717524454000
        ],
        [
         "dbfs:/FileStore/tables/delta/create_table/_delta_log/00000000000000000001.crc",
         "00000000000000000001.crc",
         2144,
         1717525322000
        ],
        [
         "dbfs:/FileStore/tables/delta/create_table/_delta_log/00000000000000000001.json",
         "00000000000000000001.json",
         1149,
         1717525318000
        ],
        [
         "dbfs:/FileStore/tables/delta/create_table/_delta_log/00000000000000000002.crc",
         "00000000000000000002.crc",
         2094,
         1717527099000
        ],
        [
         "dbfs:/FileStore/tables/delta/create_table/_delta_log/00000000000000000002.json",
         "00000000000000000002.json",
         1049,
         1717527096000
        ],
        [
         "dbfs:/FileStore/tables/delta/create_table/_delta_log/00000000000000000003.crc",
         "00000000000000000003.crc",
         2108,
         1717527627000
        ],
        [
         "dbfs:/FileStore/tables/delta/create_table/_delta_log/00000000000000000003.json",
         "00000000000000000003.json",
         1049,
         1717527622000
        ]
       ],
       "datasetInfos": [],
       "dbfsResultPath": null,
       "isJsonSchema": true,
       "metadata": {
        "isDbfsCommandResult": false
       },
       "overflow": false,
       "plotOptions": {
        "customPlotOptions": {},
        "displayType": "table",
        "pivotAggregation": null,
        "pivotColumns": null,
        "xColumns": null,
        "yColumns": null
       },
       "removedWidgets": [],
       "schema": [
        {
         "metadata": "{}",
         "name": "path",
         "type": "\"string\""
        },
        {
         "metadata": "{}",
         "name": "name",
         "type": "\"string\""
        },
        {
         "metadata": "{}",
         "name": "size",
         "type": "\"long\""
        },
        {
         "metadata": "{}",
         "name": "modificationTime",
         "type": "\"long\""
        }
       ],
       "type": "table"
      }
     },
     "output_type": "display_data"
    }
   ],
   "source": [
    "%fs\n",
    "\n",
    "ls /FileStore/tables/delta/create_table/_delta_log/\n"
   ]
  },
  {
   "cell_type": "code",
   "execution_count": 0,
   "metadata": {
    "application/vnd.databricks.v1+cell": {
     "cellMetadata": {
      "byteLimit": 2048000,
      "rowLimit": 10000
     },
     "inputWidgets": {},
     "nuid": "0bd00e8d-3e7a-4e0c-bec3-47a093f7f6ee",
     "showTitle": false,
     "title": ""
    }
   },
   "outputs": [
    {
     "output_type": "display_data",
     "data": {
      "text/html": [
       "<style scoped>\n",
       "  .ansiout {\n",
       "    display: block;\n",
       "    unicode-bidi: embed;\n",
       "    white-space: pre-wrap;\n",
       "    word-wrap: break-word;\n",
       "    word-break: break-all;\n",
       "    font-family: \"Menlo\", \"Monaco\", \"Consolas\", \"Ubuntu Mono\", \"Source Code Pro\", monospace;\n",
       "    font-size: 13px;\n",
       "    color: #555;\n",
       "    margin-left: 4px;\n",
       "    line-height: 19px;\n",
       "  }\n",
       "</style>\n",
       "<div class=\"ansiout\">{&quot;commitInfo&quot;:{&quot;timestamp&quot;:1717525317222,&quot;userId&quot;:&quot;8432478468657958&quot;,&quot;userName&quot;:&quot;paruchuri7781@gmail.com&quot;,&quot;operation&quot;:&quot;CREATE OR REPLACE TABLE&quot;,&quot;operationParameters&quot;:{&quot;isManaged&quot;:&quot;false&quot;,&quot;description&quot;:null,&quot;partitionBy&quot;:&quot;[]&quot;,&quot;properties&quot;:&quot;{\\&quot;description\\&quot;:\\&quot;table created for demo purpose\\&quot;}&quot;},&quot;notebook&quot;:{&quot;notebookId&quot;:&quot;1388222939003274&quot;},&quot;clusterId&quot;:&quot;0604-175509-m5964sr3&quot;,&quot;readVersion&quot;:0,&quot;isolationLevel&quot;:&quot;WriteSerializable&quot;,&quot;isBlindAppend&quot;:false,&quot;operationMetrics&quot;:{},&quot;engineInfo&quot;:&quot;Databricks-Runtime/12.2.x-scala2.12&quot;,&quot;txnId&quot;:&quot;15afdfaa-38ec-4c9f-8a6e-c6ac89fb8b39&quot;}}\n",
       "{&quot;metaData&quot;:{&quot;id&quot;:&quot;e86fd596-9fbf-495e-b52e-fa5e7d513afa&quot;,&quot;format&quot;:{&quot;provider&quot;:&quot;parquet&quot;,&quot;options&quot;:{}},&quot;schemaString&quot;:&quot;{\\&quot;type\\&quot;:\\&quot;struct\\&quot;,\\&quot;fields\\&quot;:[{\\&quot;name\\&quot;:\\&quot;emp_id\\&quot;,\\&quot;type\\&quot;:\\&quot;integer\\&quot;,\\&quot;nullable\\&quot;:false,\\&quot;metadata\\&quot;:{}},{\\&quot;name\\&quot;:\\&quot;emp_name\\&quot;,\\&quot;type\\&quot;:\\&quot;string\\&quot;,\\&quot;nullable\\&quot;:false,\\&quot;metadata\\&quot;:{}},{\\&quot;name\\&quot;:\\&quot;sal\\&quot;,\\&quot;type\\&quot;:\\&quot;integer\\&quot;,\\&quot;nullable\\&quot;:false,\\&quot;metadata\\&quot;:{}},{\\&quot;name\\&quot;:\\&quot;dept\\&quot;,\\&quot;type\\&quot;:\\&quot;string\\&quot;,\\&quot;nullable\\&quot;:false,\\&quot;metadata\\&quot;:{}}]}&quot;,&quot;partitionColumns&quot;:[],&quot;configuration&quot;:{&quot;description&quot;:&quot;table created for demo purpose&quot;},&quot;createdTime&quot;:1717525317138}}\n",
       "\n",
       "</div>"
      ]
     },
     "metadata": {
      "application/vnd.databricks.v1+output": {
       "addedWidgets": {},
       "arguments": {},
       "data": "<div class=\"ansiout\">{&quot;commitInfo&quot;:{&quot;timestamp&quot;:1717525317222,&quot;userId&quot;:&quot;8432478468657958&quot;,&quot;userName&quot;:&quot;paruchuri7781@gmail.com&quot;,&quot;operation&quot;:&quot;CREATE OR REPLACE TABLE&quot;,&quot;operationParameters&quot;:{&quot;isManaged&quot;:&quot;false&quot;,&quot;description&quot;:null,&quot;partitionBy&quot;:&quot;[]&quot;,&quot;properties&quot;:&quot;{\\&quot;description\\&quot;:\\&quot;table created for demo purpose\\&quot;}&quot;},&quot;notebook&quot;:{&quot;notebookId&quot;:&quot;1388222939003274&quot;},&quot;clusterId&quot;:&quot;0604-175509-m5964sr3&quot;,&quot;readVersion&quot;:0,&quot;isolationLevel&quot;:&quot;WriteSerializable&quot;,&quot;isBlindAppend&quot;:false,&quot;operationMetrics&quot;:{},&quot;engineInfo&quot;:&quot;Databricks-Runtime/12.2.x-scala2.12&quot;,&quot;txnId&quot;:&quot;15afdfaa-38ec-4c9f-8a6e-c6ac89fb8b39&quot;}}\n{&quot;metaData&quot;:{&quot;id&quot;:&quot;e86fd596-9fbf-495e-b52e-fa5e7d513afa&quot;,&quot;format&quot;:{&quot;provider&quot;:&quot;parquet&quot;,&quot;options&quot;:{}},&quot;schemaString&quot;:&quot;{\\&quot;type\\&quot;:\\&quot;struct\\&quot;,\\&quot;fields\\&quot;:[{\\&quot;name\\&quot;:\\&quot;emp_id\\&quot;,\\&quot;type\\&quot;:\\&quot;integer\\&quot;,\\&quot;nullable\\&quot;:false,\\&quot;metadata\\&quot;:{}},{\\&quot;name\\&quot;:\\&quot;emp_name\\&quot;,\\&quot;type\\&quot;:\\&quot;string\\&quot;,\\&quot;nullable\\&quot;:false,\\&quot;metadata\\&quot;:{}},{\\&quot;name\\&quot;:\\&quot;sal\\&quot;,\\&quot;type\\&quot;:\\&quot;integer\\&quot;,\\&quot;nullable\\&quot;:false,\\&quot;metadata\\&quot;:{}},{\\&quot;name\\&quot;:\\&quot;dept\\&quot;,\\&quot;type\\&quot;:\\&quot;string\\&quot;,\\&quot;nullable\\&quot;:false,\\&quot;metadata\\&quot;:{}}]}&quot;,&quot;partitionColumns&quot;:[],&quot;configuration&quot;:{&quot;description&quot;:&quot;table created for demo purpose&quot;},&quot;createdTime&quot;:1717525317138}}\n\n</div>",
       "datasetInfos": [],
       "metadata": {
        "isDbfsCommandResult": false
       },
       "removedWidgets": [],
       "type": "html"
      }
     },
     "output_type": "display_data"
    }
   ],
   "source": [
    "%fs\n",
    "\n",
    "head /FileStore/tables/delta/create_table/_delta_log/00000000000000000001.json"
   ]
  },
  {
   "cell_type": "code",
   "execution_count": 0,
   "metadata": {
    "application/vnd.databricks.v1+cell": {
     "cellMetadata": {
      "byteLimit": 2048000,
      "implicitDf": true,
      "rowLimit": 10000
     },
     "inputWidgets": {},
     "nuid": "d76c8475-ec0e-45e6-b70b-72bff5cf8403",
     "showTitle": false,
     "title": ""
    }
   },
   "outputs": [
    {
     "output_type": "display_data",
     "data": {
      "text/html": [
       "<style scoped>\n",
       "  .table-result-container {\n",
       "    max-height: 300px;\n",
       "    overflow: auto;\n",
       "  }\n",
       "  table, th, td {\n",
       "    border: 1px solid black;\n",
       "    border-collapse: collapse;\n",
       "  }\n",
       "  th, td {\n",
       "    padding: 5px;\n",
       "  }\n",
       "  th {\n",
       "    text-align: left;\n",
       "  }\n",
       "</style><div class='table-result-container'><table class='table-result'><thead style='background-color: white'><tr><th>emp_id</th><th>emp_name</th><th>sal</th><th>dept</th></tr></thead><tbody></tbody></table></div>"
      ]
     },
     "metadata": {
      "application/vnd.databricks.v1+output": {
       "addedWidgets": {},
       "aggData": [],
       "aggError": "",
       "aggOverflow": false,
       "aggSchema": [],
       "aggSeriesLimitReached": false,
       "aggType": "",
       "arguments": {},
       "columnCustomDisplayInfos": {},
       "data": [],
       "datasetInfos": [],
       "dbfsResultPath": null,
       "isJsonSchema": true,
       "metadata": {},
       "overflow": false,
       "plotOptions": {
        "customPlotOptions": {},
        "displayType": "table",
        "pivotAggregation": null,
        "pivotColumns": null,
        "xColumns": null,
        "yColumns": null
       },
       "removedWidgets": [],
       "schema": [
        {
         "metadata": "{}",
         "name": "emp_id",
         "type": "\"integer\""
        },
        {
         "metadata": "{}",
         "name": "emp_name",
         "type": "\"string\""
        },
        {
         "metadata": "{}",
         "name": "sal",
         "type": "\"integer\""
        },
        {
         "metadata": "{}",
         "name": "dept",
         "type": "\"string\""
        }
       ],
       "type": "table"
      }
     },
     "output_type": "display_data"
    }
   ],
   "source": [
    "%sql \n",
    "\n",
    "select * from employee_demo"
   ]
  },
  {
   "cell_type": "markdown",
   "metadata": {
    "application/vnd.databricks.v1+cell": {
     "cellMetadata": {},
     "inputWidgets": {},
     "nuid": "6abb07dd-2e56-4140-b0bc-6f484200b8fb",
     "showTitle": false,
     "title": ""
    }
   },
   "source": [
    "#observe after inserting"
   ]
  },
  {
   "cell_type": "code",
   "execution_count": 0,
   "metadata": {
    "application/vnd.databricks.v1+cell": {
     "cellMetadata": {
      "byteLimit": 2048000,
      "implicitDf": true,
      "rowLimit": 10000
     },
     "inputWidgets": {},
     "nuid": "485347a1-3374-498b-a2a4-aa4583a7866f",
     "showTitle": false,
     "title": ""
    }
   },
   "outputs": [
    {
     "output_type": "display_data",
     "data": {
      "text/html": [
       "<style scoped>\n",
       "  .table-result-container {\n",
       "    max-height: 300px;\n",
       "    overflow: auto;\n",
       "  }\n",
       "  table, th, td {\n",
       "    border: 1px solid black;\n",
       "    border-collapse: collapse;\n",
       "  }\n",
       "  th, td {\n",
       "    padding: 5px;\n",
       "  }\n",
       "  th {\n",
       "    text-align: left;\n",
       "  }\n",
       "</style><div class='table-result-container'><table class='table-result'><thead style='background-color: white'><tr><th>num_affected_rows</th><th>num_inserted_rows</th></tr></thead><tbody><tr><td>1</td><td>1</td></tr></tbody></table></div>"
      ]
     },
     "metadata": {
      "application/vnd.databricks.v1+output": {
       "addedWidgets": {},
       "aggData": [],
       "aggError": "",
       "aggOverflow": false,
       "aggSchema": [],
       "aggSeriesLimitReached": false,
       "aggType": "",
       "arguments": {},
       "columnCustomDisplayInfos": {},
       "data": [
        [
         1,
         1
        ]
       ],
       "datasetInfos": [],
       "dbfsResultPath": null,
       "isJsonSchema": true,
       "metadata": {},
       "overflow": false,
       "plotOptions": {
        "customPlotOptions": {},
        "displayType": "table",
        "pivotAggregation": null,
        "pivotColumns": null,
        "xColumns": null,
        "yColumns": null
       },
       "removedWidgets": [],
       "schema": [
        {
         "metadata": "{}",
         "name": "num_affected_rows",
         "type": "\"long\""
        },
        {
         "metadata": "{}",
         "name": "num_inserted_rows",
         "type": "\"long\""
        }
       ],
       "type": "table"
      }
     },
     "output_type": "display_data"
    }
   ],
   "source": [
    "%sql \n",
    "\n",
    "insert into  employee_demo values(1,\"varun\",13,\"sales\")"
   ]
  },
  {
   "cell_type": "code",
   "execution_count": 0,
   "metadata": {
    "application/vnd.databricks.v1+cell": {
     "cellMetadata": {
      "byteLimit": 2048000,
      "rowLimit": 10000
     },
     "inputWidgets": {},
     "nuid": "8c090755-552f-4a2f-b776-db08adfd9135",
     "showTitle": false,
     "title": ""
    }
   },
   "outputs": [
    {
     "output_type": "display_data",
     "data": {
      "text/html": [
       "<style scoped>\n",
       "  .table-result-container {\n",
       "    max-height: 300px;\n",
       "    overflow: auto;\n",
       "  }\n",
       "  table, th, td {\n",
       "    border: 1px solid black;\n",
       "    border-collapse: collapse;\n",
       "  }\n",
       "  th, td {\n",
       "    padding: 5px;\n",
       "  }\n",
       "  th {\n",
       "    text-align: left;\n",
       "  }\n",
       "</style><div class='table-result-container'><table class='table-result'><thead style='background-color: white'><tr><th>path</th><th>name</th><th>size</th><th>modificationTime</th></tr></thead><tbody><tr><td>dbfs:/FileStore/tables/delta/create_table/_delta_log/.s3-optimization-0</td><td>.s3-optimization-0</td><td>0</td><td>1717524454000</td></tr><tr><td>dbfs:/FileStore/tables/delta/create_table/_delta_log/.s3-optimization-1</td><td>.s3-optimization-1</td><td>0</td><td>1717524454000</td></tr><tr><td>dbfs:/FileStore/tables/delta/create_table/_delta_log/.s3-optimization-2</td><td>.s3-optimization-2</td><td>0</td><td>1717524454000</td></tr><tr><td>dbfs:/FileStore/tables/delta/create_table/_delta_log/00000000000000000000.crc</td><td>00000000000000000000.crc</td><td>2235</td><td>1717524476000</td></tr><tr><td>dbfs:/FileStore/tables/delta/create_table/_delta_log/00000000000000000000.json</td><td>00000000000000000000.json</td><td>1255</td><td>1717524454000</td></tr><tr><td>dbfs:/FileStore/tables/delta/create_table/_delta_log/00000000000000000001.crc</td><td>00000000000000000001.crc</td><td>2144</td><td>1717525322000</td></tr><tr><td>dbfs:/FileStore/tables/delta/create_table/_delta_log/00000000000000000001.json</td><td>00000000000000000001.json</td><td>1149</td><td>1717525318000</td></tr><tr><td>dbfs:/FileStore/tables/delta/create_table/_delta_log/00000000000000000002.crc</td><td>00000000000000000002.crc</td><td>2094</td><td>1717527099000</td></tr><tr><td>dbfs:/FileStore/tables/delta/create_table/_delta_log/00000000000000000002.json</td><td>00000000000000000002.json</td><td>1049</td><td>1717527096000</td></tr><tr><td>dbfs:/FileStore/tables/delta/create_table/_delta_log/00000000000000000003.crc</td><td>00000000000000000003.crc</td><td>2108</td><td>1717527627000</td></tr><tr><td>dbfs:/FileStore/tables/delta/create_table/_delta_log/00000000000000000003.json</td><td>00000000000000000003.json</td><td>1049</td><td>1717527622000</td></tr><tr><td>dbfs:/FileStore/tables/delta/create_table/_delta_log/00000000000000000004.crc</td><td>00000000000000000004.crc</td><td>2695</td><td>1717533347000</td></tr><tr><td>dbfs:/FileStore/tables/delta/create_table/_delta_log/00000000000000000004.json</td><td>00000000000000000004.json</td><td>1108</td><td>1717533344000</td></tr></tbody></table></div>"
      ]
     },
     "metadata": {
      "application/vnd.databricks.v1+output": {
       "addedWidgets": {},
       "aggData": [],
       "aggError": "",
       "aggOverflow": false,
       "aggSchema": [],
       "aggSeriesLimitReached": false,
       "aggType": "",
       "arguments": {},
       "columnCustomDisplayInfos": {},
       "data": [
        [
         "dbfs:/FileStore/tables/delta/create_table/_delta_log/.s3-optimization-0",
         ".s3-optimization-0",
         0,
         1717524454000
        ],
        [
         "dbfs:/FileStore/tables/delta/create_table/_delta_log/.s3-optimization-1",
         ".s3-optimization-1",
         0,
         1717524454000
        ],
        [
         "dbfs:/FileStore/tables/delta/create_table/_delta_log/.s3-optimization-2",
         ".s3-optimization-2",
         0,
         1717524454000
        ],
        [
         "dbfs:/FileStore/tables/delta/create_table/_delta_log/00000000000000000000.crc",
         "00000000000000000000.crc",
         2235,
         1717524476000
        ],
        [
         "dbfs:/FileStore/tables/delta/create_table/_delta_log/00000000000000000000.json",
         "00000000000000000000.json",
         1255,
         1717524454000
        ],
        [
         "dbfs:/FileStore/tables/delta/create_table/_delta_log/00000000000000000001.crc",
         "00000000000000000001.crc",
         2144,
         1717525322000
        ],
        [
         "dbfs:/FileStore/tables/delta/create_table/_delta_log/00000000000000000001.json",
         "00000000000000000001.json",
         1149,
         1717525318000
        ],
        [
         "dbfs:/FileStore/tables/delta/create_table/_delta_log/00000000000000000002.crc",
         "00000000000000000002.crc",
         2094,
         1717527099000
        ],
        [
         "dbfs:/FileStore/tables/delta/create_table/_delta_log/00000000000000000002.json",
         "00000000000000000002.json",
         1049,
         1717527096000
        ],
        [
         "dbfs:/FileStore/tables/delta/create_table/_delta_log/00000000000000000003.crc",
         "00000000000000000003.crc",
         2108,
         1717527627000
        ],
        [
         "dbfs:/FileStore/tables/delta/create_table/_delta_log/00000000000000000003.json",
         "00000000000000000003.json",
         1049,
         1717527622000
        ],
        [
         "dbfs:/FileStore/tables/delta/create_table/_delta_log/00000000000000000004.crc",
         "00000000000000000004.crc",
         2695,
         1717533347000
        ],
        [
         "dbfs:/FileStore/tables/delta/create_table/_delta_log/00000000000000000004.json",
         "00000000000000000004.json",
         1108,
         1717533344000
        ]
       ],
       "datasetInfos": [],
       "dbfsResultPath": null,
       "isJsonSchema": true,
       "metadata": {
        "isDbfsCommandResult": false
       },
       "overflow": false,
       "plotOptions": {
        "customPlotOptions": {},
        "displayType": "table",
        "pivotAggregation": null,
        "pivotColumns": null,
        "xColumns": null,
        "yColumns": null
       },
       "removedWidgets": [],
       "schema": [
        {
         "metadata": "{}",
         "name": "path",
         "type": "\"string\""
        },
        {
         "metadata": "{}",
         "name": "name",
         "type": "\"string\""
        },
        {
         "metadata": "{}",
         "name": "size",
         "type": "\"long\""
        },
        {
         "metadata": "{}",
         "name": "modificationTime",
         "type": "\"long\""
        }
       ],
       "type": "table"
      }
     },
     "output_type": "display_data"
    }
   ],
   "source": [
    "\n",
    "#we can clearly see that 1 more json log file gets stored which holds the latest curd operation\n",
    "%fs\n",
    "\n",
    "ls /FileStore/tables/delta/create_table/_delta_log/\n"
   ]
  },
  {
   "cell_type": "code",
   "execution_count": 0,
   "metadata": {
    "application/vnd.databricks.v1+cell": {
     "cellMetadata": {
      "byteLimit": 2048000,
      "rowLimit": 10000
     },
     "inputWidgets": {},
     "nuid": "d7657b4a-4a2b-4ea5-944b-38aa2e25daca",
     "showTitle": false,
     "title": ""
    }
   },
   "outputs": [
    {
     "output_type": "display_data",
     "data": {
      "text/html": [
       "<style scoped>\n",
       "  .table-result-container {\n",
       "    max-height: 300px;\n",
       "    overflow: auto;\n",
       "  }\n",
       "  table, th, td {\n",
       "    border: 1px solid black;\n",
       "    border-collapse: collapse;\n",
       "  }\n",
       "  th, td {\n",
       "    padding: 5px;\n",
       "  }\n",
       "  th {\n",
       "    text-align: left;\n",
       "  }\n",
       "</style><div class='table-result-container'><table class='table-result'><thead style='background-color: white'><tr><th>path</th><th>name</th><th>size</th><th>modificationTime</th></tr></thead><tbody><tr><td>dbfs:/FileStore/tables/delta/create_table/_delta_log/</td><td>_delta_log/</td><td>0</td><td>0</td></tr><tr><td>dbfs:/FileStore/tables/delta/create_table/part-00000-0652a969-0925-4406-a53c-73a79bf10105-c000.snappy.parquet</td><td>part-00000-0652a969-0925-4406-a53c-73a79bf10105-c000.snappy.parquet</td><td>1301</td><td>1717533344000</td></tr></tbody></table></div>"
      ]
     },
     "metadata": {
      "application/vnd.databricks.v1+output": {
       "addedWidgets": {},
       "aggData": [],
       "aggError": "",
       "aggOverflow": false,
       "aggSchema": [],
       "aggSeriesLimitReached": false,
       "aggType": "",
       "arguments": {},
       "columnCustomDisplayInfos": {},
       "data": [
        [
         "dbfs:/FileStore/tables/delta/create_table/_delta_log/",
         "_delta_log/",
         0,
         0
        ],
        [
         "dbfs:/FileStore/tables/delta/create_table/part-00000-0652a969-0925-4406-a53c-73a79bf10105-c000.snappy.parquet",
         "part-00000-0652a969-0925-4406-a53c-73a79bf10105-c000.snappy.parquet",
         1301,
         1717533344000
        ]
       ],
       "datasetInfos": [],
       "dbfsResultPath": null,
       "isJsonSchema": true,
       "metadata": {
        "isDbfsCommandResult": false
       },
       "overflow": false,
       "plotOptions": {
        "customPlotOptions": {},
        "displayType": "table",
        "pivotAggregation": null,
        "pivotColumns": null,
        "xColumns": null,
        "yColumns": null
       },
       "removedWidgets": [],
       "schema": [
        {
         "metadata": "{}",
         "name": "path",
         "type": "\"string\""
        },
        {
         "metadata": "{}",
         "name": "name",
         "type": "\"string\""
        },
        {
         "metadata": "{}",
         "name": "size",
         "type": "\"long\""
        },
        {
         "metadata": "{}",
         "name": "modificationTime",
         "type": "\"long\""
        }
       ],
       "type": "table"
      }
     },
     "output_type": "display_data"
    }
   ],
   "source": [
    "%fs\n",
    "\n",
    "ls /FileStore/tables/delta/create_table/"
   ]
  },
  {
   "cell_type": "code",
   "execution_count": 0,
   "metadata": {
    "application/vnd.databricks.v1+cell": {
     "cellMetadata": {
      "byteLimit": 2048000,
      "rowLimit": 10000
     },
     "inputWidgets": {},
     "nuid": "fb384509-62ad-4cea-b62d-ca52a922437f",
     "showTitle": false,
     "title": ""
    }
   },
   "outputs": [
    {
     "output_type": "display_data",
     "data": {
      "text/html": [
       "<style scoped>\n",
       "  .ansiout {\n",
       "    display: block;\n",
       "    unicode-bidi: embed;\n",
       "    white-space: pre-wrap;\n",
       "    word-wrap: break-word;\n",
       "    word-break: break-all;\n",
       "    font-family: \"Menlo\", \"Monaco\", \"Consolas\", \"Ubuntu Mono\", \"Source Code Pro\", monospace;\n",
       "    font-size: 13px;\n",
       "    color: #555;\n",
       "    margin-left: 4px;\n",
       "    line-height: 19px;\n",
       "  }\n",
       "</style>\n",
       "<div class=\"ansiout\">PAR1Ň��\n",
       "$&quot;����8varun����\n",
       "$\r&quot;��ܰ\t8salesvarunvarun\r\rsalessalesFNP�F�P\\Hspark_schema%emp_id%emp_name%L%sal%dept%LL&amp;5emp_idBF&amp;&lt;(��.&amp;N5emp_nameLP&amp;N&lt;varunvarun(varunvarun��2&amp;�5salBF&amp;�&lt;\r\r(\r\r��.&amp;�5deptLP&amp;�&lt;salessales(salessales��2�&amp;�\\org.apache.spark.timeZoneEtc/UTCorg.apache.spark.legacyINT96org.apache.spark.version3.3.2)org.apache.spark.sql.parquet.row.metadata�{&quot;type&quot;:&quot;struct&quot;,&quot;fields&quot;:[{&quot;name&quot;:&quot;emp_id&quot;,&quot;type&quot;:&quot;integer&quot;,&quot;nullable&quot;:true,&quot;metadata&quot;:{}},{&quot;name&quot;:&quot;emp_name&quot;,&quot;type&quot;:&quot;string&quot;,&quot;nullable&quot;:true,&quot;metadata&quot;:{}},{&quot;name&quot;:&quot;sal&quot;,&quot;type&quot;:&quot;integer&quot;,&quot;nullable&quot;:true,&quot;metadata&quot;:{}},{&quot;name&quot;:&quot;dept&quot;,&quot;type&quot;:&quot;string&quot;,&quot;nullable&quot;:true,&quot;metadata&quot;:{}}]}org.apache.spark.legacyDateTimeZparquet-mr version 1.12.3-databricks-0009 (build 13debca92ae2826f5c048fb3613d610c77c3bb90)L�PAR1\n",
       "</div>"
      ]
     },
     "metadata": {
      "application/vnd.databricks.v1+output": {
       "addedWidgets": {},
       "arguments": {},
       "data": "<div class=\"ansiout\">PAR1Ň��\n$&quot;����8varun����\n$\r&quot;��ܰ\t8salesvarunvarun\r\rsalessalesFNP�F�P\\Hspark_schema%emp_id%emp_name%L%sal%dept%LL&amp;5emp_idBF&amp;&lt;(��.&amp;N5emp_nameLP&amp;N&lt;varunvarun(varunvarun��2&amp;�5salBF&amp;�&lt;\r\r(\r\r��.&amp;�5deptLP&amp;�&lt;salessales(salessales��2�&amp;�\\org.apache.spark.timeZoneEtc/UTCorg.apache.spark.legacyINT96org.apache.spark.version3.3.2)org.apache.spark.sql.parquet.row.metadata�{&quot;type&quot;:&quot;struct&quot;,&quot;fields&quot;:[{&quot;name&quot;:&quot;emp_id&quot;,&quot;type&quot;:&quot;integer&quot;,&quot;nullable&quot;:true,&quot;metadata&quot;:{}},{&quot;name&quot;:&quot;emp_name&quot;,&quot;type&quot;:&quot;string&quot;,&quot;nullable&quot;:true,&quot;metadata&quot;:{}},{&quot;name&quot;:&quot;sal&quot;,&quot;type&quot;:&quot;integer&quot;,&quot;nullable&quot;:true,&quot;metadata&quot;:{}},{&quot;name&quot;:&quot;dept&quot;,&quot;type&quot;:&quot;string&quot;,&quot;nullable&quot;:true,&quot;metadata&quot;:{}}]}org.apache.spark.legacyDateTimeZparquet-mr version 1.12.3-databricks-0009 (build 13debca92ae2826f5c048fb3613d610c77c3bb90)L�PAR1\n</div>",
       "datasetInfos": [],
       "metadata": {
        "isDbfsCommandResult": false
       },
       "removedWidgets": [],
       "type": "html"
      }
     },
     "output_type": "display_data"
    }
   ],
   "source": [
    "%fs\n",
    "\n",
    "head /FileStore/tables/delta/create_table/part-00000-0652a969-0925-4406-a53c-73a79bf10105-c000.snappy.parquet"
   ]
  },
  {
   "cell_type": "code",
   "execution_count": 0,
   "metadata": {
    "application/vnd.databricks.v1+cell": {
     "cellMetadata": {
      "byteLimit": 2048000,
      "rowLimit": 10000
     },
     "inputWidgets": {},
     "nuid": "7bf589b3-7148-4067-8636-026213f1fe6f",
     "showTitle": false,
     "title": ""
    }
   },
   "outputs": [
    {
     "output_type": "display_data",
     "data": {
      "text/html": [
       "<style scoped>\n",
       "  .ansiout {\n",
       "    display: block;\n",
       "    unicode-bidi: embed;\n",
       "    white-space: pre-wrap;\n",
       "    word-wrap: break-word;\n",
       "    word-break: break-all;\n",
       "    font-family: \"Menlo\", \"Monaco\", \"Consolas\", \"Ubuntu Mono\", \"Source Code Pro\", monospace;\n",
       "    font-size: 13px;\n",
       "    color: #555;\n",
       "    margin-left: 4px;\n",
       "    line-height: 19px;\n",
       "  }\n",
       "</style>\n",
       "<div class=\"ansiout\">{&quot;commitInfo&quot;:{&quot;timestamp&quot;:1717533343287,&quot;userId&quot;:&quot;8432478468657958&quot;,&quot;userName&quot;:&quot;paruchuri7781@gmail.com&quot;,&quot;operation&quot;:&quot;WRITE&quot;,&quot;operationParameters&quot;:{&quot;mode&quot;:&quot;Append&quot;,&quot;partitionBy&quot;:&quot;[]&quot;},&quot;notebook&quot;:{&quot;notebookId&quot;:&quot;1388222939003274&quot;},&quot;clusterId&quot;:&quot;0604-175509-m5964sr3&quot;,&quot;readVersion&quot;:3,&quot;isolationLevel&quot;:&quot;WriteSerializable&quot;,&quot;isBlindAppend&quot;:true,&quot;operationMetrics&quot;:{&quot;numFiles&quot;:&quot;1&quot;,&quot;numOutputRows&quot;:&quot;1&quot;,&quot;numOutputBytes&quot;:&quot;1301&quot;},&quot;engineInfo&quot;:&quot;Databricks-Runtime/12.2.x-scala2.12&quot;,&quot;txnId&quot;:&quot;5824c69e-e418-4545-a507-38cb3556e7ce&quot;}}\n",
       "{&quot;add&quot;:{&quot;path&quot;:&quot;part-00000-0652a969-0925-4406-a53c-73a79bf10105-c000.snappy.parquet&quot;,&quot;partitionValues&quot;:{},&quot;size&quot;:1301,&quot;modificationTime&quot;:1717533344000,&quot;dataChange&quot;:true,&quot;stats&quot;:&quot;{\\&quot;numRecords\\&quot;:1,\\&quot;minValues\\&quot;:{\\&quot;emp_id\\&quot;:1,\\&quot;emp_name\\&quot;:\\&quot;varun\\&quot;,\\&quot;sal\\&quot;:13,\\&quot;dept\\&quot;:\\&quot;sales\\&quot;},\\&quot;maxValues\\&quot;:{\\&quot;emp_id\\&quot;:1,\\&quot;emp_name\\&quot;:\\&quot;varun\\&quot;,\\&quot;sal\\&quot;:13,\\&quot;dept\\&quot;:\\&quot;sales\\&quot;},\\&quot;nullCount\\&quot;:{\\&quot;emp_id\\&quot;:0,\\&quot;emp_name\\&quot;:0,\\&quot;sal\\&quot;:0,\\&quot;dept\\&quot;:0}}&quot;,&quot;tags&quot;:{&quot;INSERTION_TIME&quot;:&quot;1717533344000000&quot;,&quot;MIN_INSERTION_TIME&quot;:&quot;1717533344000000&quot;,&quot;MAX_INSERTION_TIME&quot;:&quot;1717533344000000&quot;,&quot;OPTIMIZE_TARGET_SIZE&quot;:&quot;268435456&quot;}}}\n",
       "\n",
       "</div>"
      ]
     },
     "metadata": {
      "application/vnd.databricks.v1+output": {
       "addedWidgets": {},
       "arguments": {},
       "data": "<div class=\"ansiout\">{&quot;commitInfo&quot;:{&quot;timestamp&quot;:1717533343287,&quot;userId&quot;:&quot;8432478468657958&quot;,&quot;userName&quot;:&quot;paruchuri7781@gmail.com&quot;,&quot;operation&quot;:&quot;WRITE&quot;,&quot;operationParameters&quot;:{&quot;mode&quot;:&quot;Append&quot;,&quot;partitionBy&quot;:&quot;[]&quot;},&quot;notebook&quot;:{&quot;notebookId&quot;:&quot;1388222939003274&quot;},&quot;clusterId&quot;:&quot;0604-175509-m5964sr3&quot;,&quot;readVersion&quot;:3,&quot;isolationLevel&quot;:&quot;WriteSerializable&quot;,&quot;isBlindAppend&quot;:true,&quot;operationMetrics&quot;:{&quot;numFiles&quot;:&quot;1&quot;,&quot;numOutputRows&quot;:&quot;1&quot;,&quot;numOutputBytes&quot;:&quot;1301&quot;},&quot;engineInfo&quot;:&quot;Databricks-Runtime/12.2.x-scala2.12&quot;,&quot;txnId&quot;:&quot;5824c69e-e418-4545-a507-38cb3556e7ce&quot;}}\n{&quot;add&quot;:{&quot;path&quot;:&quot;part-00000-0652a969-0925-4406-a53c-73a79bf10105-c000.snappy.parquet&quot;,&quot;partitionValues&quot;:{},&quot;size&quot;:1301,&quot;modificationTime&quot;:1717533344000,&quot;dataChange&quot;:true,&quot;stats&quot;:&quot;{\\&quot;numRecords\\&quot;:1,\\&quot;minValues\\&quot;:{\\&quot;emp_id\\&quot;:1,\\&quot;emp_name\\&quot;:\\&quot;varun\\&quot;,\\&quot;sal\\&quot;:13,\\&quot;dept\\&quot;:\\&quot;sales\\&quot;},\\&quot;maxValues\\&quot;:{\\&quot;emp_id\\&quot;:1,\\&quot;emp_name\\&quot;:\\&quot;varun\\&quot;,\\&quot;sal\\&quot;:13,\\&quot;dept\\&quot;:\\&quot;sales\\&quot;},\\&quot;nullCount\\&quot;:{\\&quot;emp_id\\&quot;:0,\\&quot;emp_name\\&quot;:0,\\&quot;sal\\&quot;:0,\\&quot;dept\\&quot;:0}}&quot;,&quot;tags&quot;:{&quot;INSERTION_TIME&quot;:&quot;1717533344000000&quot;,&quot;MIN_INSERTION_TIME&quot;:&quot;1717533344000000&quot;,&quot;MAX_INSERTION_TIME&quot;:&quot;1717533344000000&quot;,&quot;OPTIMIZE_TARGET_SIZE&quot;:&quot;268435456&quot;}}}\n\n</div>",
       "datasetInfos": [],
       "metadata": {
        "isDbfsCommandResult": false
       },
       "removedWidgets": [],
       "type": "html"
      }
     },
     "output_type": "display_data"
    }
   ],
   "source": [
    "#we can see that operation:write and mode is append\n",
    "\n",
    "%fs\n",
    "\n",
    "head /FileStore/tables/delta/create_table/_delta_log/00000000000000000004.json"
   ]
  },
  {
   "cell_type": "code",
   "execution_count": 0,
   "metadata": {
    "application/vnd.databricks.v1+cell": {
     "cellMetadata": {
      "byteLimit": 2048000,
      "implicitDf": true,
      "rowLimit": 10000
     },
     "inputWidgets": {},
     "nuid": "d430db5b-3bf2-4406-811f-a14b13e4c9b2",
     "showTitle": false,
     "title": ""
    }
   },
   "outputs": [
    {
     "output_type": "display_data",
     "data": {
      "text/html": [
       "<style scoped>\n",
       "  .table-result-container {\n",
       "    max-height: 300px;\n",
       "    overflow: auto;\n",
       "  }\n",
       "  table, th, td {\n",
       "    border: 1px solid black;\n",
       "    border-collapse: collapse;\n",
       "  }\n",
       "  th, td {\n",
       "    padding: 5px;\n",
       "  }\n",
       "  th {\n",
       "    text-align: left;\n",
       "  }\n",
       "</style><div class='table-result-container'><table class='table-result'><thead style='background-color: white'><tr><th>num_affected_rows</th><th>num_inserted_rows</th></tr></thead><tbody><tr><td>2</td><td>2</td></tr></tbody></table></div>"
      ]
     },
     "metadata": {
      "application/vnd.databricks.v1+output": {
       "addedWidgets": {},
       "aggData": [],
       "aggError": "",
       "aggOverflow": false,
       "aggSchema": [],
       "aggSeriesLimitReached": false,
       "aggType": "",
       "arguments": {},
       "columnCustomDisplayInfos": {},
       "data": [
        [
         2,
         2
        ]
       ],
       "datasetInfos": [],
       "dbfsResultPath": null,
       "isJsonSchema": true,
       "metadata": {},
       "overflow": false,
       "plotOptions": {
        "customPlotOptions": {},
        "displayType": "table",
        "pivotAggregation": null,
        "pivotColumns": null,
        "xColumns": null,
        "yColumns": null
       },
       "removedWidgets": [],
       "schema": [
        {
         "metadata": "{}",
         "name": "num_affected_rows",
         "type": "\"long\""
        },
        {
         "metadata": "{}",
         "name": "num_inserted_rows",
         "type": "\"long\""
        }
       ],
       "type": "table"
      }
     },
     "output_type": "display_data"
    }
   ],
   "source": [
    "%sql\n",
    "\n",
    "insert into employee_demo values\n",
    "(2,\"sahithi\",14,\"hr\"),\n",
    "(3,\"kusuma\",12,\"front_end\")"
   ]
  },
  {
   "cell_type": "code",
   "execution_count": 0,
   "metadata": {
    "application/vnd.databricks.v1+cell": {
     "cellMetadata": {
      "byteLimit": 2048000,
      "rowLimit": 10000
     },
     "inputWidgets": {},
     "nuid": "c8578ef8-e283-451e-9d63-983fecacd623",
     "showTitle": false,
     "title": ""
    }
   },
   "outputs": [
    {
     "output_type": "display_data",
     "data": {
      "text/html": [
       "<style scoped>\n",
       "  .table-result-container {\n",
       "    max-height: 300px;\n",
       "    overflow: auto;\n",
       "  }\n",
       "  table, th, td {\n",
       "    border: 1px solid black;\n",
       "    border-collapse: collapse;\n",
       "  }\n",
       "  th, td {\n",
       "    padding: 5px;\n",
       "  }\n",
       "  th {\n",
       "    text-align: left;\n",
       "  }\n",
       "</style><div class='table-result-container'><table class='table-result'><thead style='background-color: white'><tr><th>path</th><th>name</th><th>size</th><th>modificationTime</th></tr></thead><tbody><tr><td>dbfs:/FileStore/tables/delta/create_table/_delta_log/</td><td>_delta_log/</td><td>0</td><td>0</td></tr><tr><td>dbfs:/FileStore/tables/delta/create_table/part-00000-0652a969-0925-4406-a53c-73a79bf10105-c000.snappy.parquet</td><td>part-00000-0652a969-0925-4406-a53c-73a79bf10105-c000.snappy.parquet</td><td>1301</td><td>1717533344000</td></tr><tr><td>dbfs:/FileStore/tables/delta/create_table/part-00000-3fa73c01-89cb-4a7b-a9c5-f0f5382e9a3e-c000.snappy.parquet</td><td>part-00000-3fa73c01-89cb-4a7b-a9c5-f0f5382e9a3e-c000.snappy.parquet</td><td>1310</td><td>1717534516000</td></tr></tbody></table></div>"
      ]
     },
     "metadata": {
      "application/vnd.databricks.v1+output": {
       "addedWidgets": {},
       "aggData": [],
       "aggError": "",
       "aggOverflow": false,
       "aggSchema": [],
       "aggSeriesLimitReached": false,
       "aggType": "",
       "arguments": {},
       "columnCustomDisplayInfos": {},
       "data": [
        [
         "dbfs:/FileStore/tables/delta/create_table/_delta_log/",
         "_delta_log/",
         0,
         0
        ],
        [
         "dbfs:/FileStore/tables/delta/create_table/part-00000-0652a969-0925-4406-a53c-73a79bf10105-c000.snappy.parquet",
         "part-00000-0652a969-0925-4406-a53c-73a79bf10105-c000.snappy.parquet",
         1301,
         1717533344000
        ],
        [
         "dbfs:/FileStore/tables/delta/create_table/part-00000-3fa73c01-89cb-4a7b-a9c5-f0f5382e9a3e-c000.snappy.parquet",
         "part-00000-3fa73c01-89cb-4a7b-a9c5-f0f5382e9a3e-c000.snappy.parquet",
         1310,
         1717534516000
        ]
       ],
       "datasetInfos": [],
       "dbfsResultPath": null,
       "isJsonSchema": true,
       "metadata": {
        "isDbfsCommandResult": false
       },
       "overflow": false,
       "plotOptions": {
        "customPlotOptions": {},
        "displayType": "table",
        "pivotAggregation": null,
        "pivotColumns": null,
        "xColumns": null,
        "yColumns": null
       },
       "removedWidgets": [],
       "schema": [
        {
         "metadata": "{}",
         "name": "path",
         "type": "\"string\""
        },
        {
         "metadata": "{}",
         "name": "name",
         "type": "\"string\""
        },
        {
         "metadata": "{}",
         "name": "size",
         "type": "\"long\""
        },
        {
         "metadata": "{}",
         "name": "modificationTime",
         "type": "\"long\""
        }
       ],
       "type": "table"
      }
     },
     "output_type": "display_data"
    }
   ],
   "source": [
    "%fs\n",
    "ls /FileStore/tables/delta/create_table/"
   ]
  },
  {
   "cell_type": "code",
   "execution_count": 0,
   "metadata": {
    "application/vnd.databricks.v1+cell": {
     "cellMetadata": {
      "byteLimit": 2048000,
      "rowLimit": 10000
     },
     "inputWidgets": {},
     "nuid": "6c4f49b4-7fe6-4856-bf7a-5216d087c461",
     "showTitle": false,
     "title": ""
    }
   },
   "outputs": [
    {
     "output_type": "display_data",
     "data": {
      "text/html": [
       "<style scoped>\n",
       "  .table-result-container {\n",
       "    max-height: 300px;\n",
       "    overflow: auto;\n",
       "  }\n",
       "  table, th, td {\n",
       "    border: 1px solid black;\n",
       "    border-collapse: collapse;\n",
       "  }\n",
       "  th, td {\n",
       "    padding: 5px;\n",
       "  }\n",
       "  th {\n",
       "    text-align: left;\n",
       "  }\n",
       "</style><div class='table-result-container'><table class='table-result'><thead style='background-color: white'><tr><th>path</th><th>name</th><th>size</th><th>modificationTime</th></tr></thead><tbody><tr><td>dbfs:/FileStore/tables/delta/create_table/_delta_log/.s3-optimization-0</td><td>.s3-optimization-0</td><td>0</td><td>1717524454000</td></tr><tr><td>dbfs:/FileStore/tables/delta/create_table/_delta_log/.s3-optimization-1</td><td>.s3-optimization-1</td><td>0</td><td>1717524454000</td></tr><tr><td>dbfs:/FileStore/tables/delta/create_table/_delta_log/.s3-optimization-2</td><td>.s3-optimization-2</td><td>0</td><td>1717524454000</td></tr><tr><td>dbfs:/FileStore/tables/delta/create_table/_delta_log/00000000000000000000.crc</td><td>00000000000000000000.crc</td><td>2235</td><td>1717524476000</td></tr><tr><td>dbfs:/FileStore/tables/delta/create_table/_delta_log/00000000000000000000.json</td><td>00000000000000000000.json</td><td>1255</td><td>1717524454000</td></tr><tr><td>dbfs:/FileStore/tables/delta/create_table/_delta_log/00000000000000000001.crc</td><td>00000000000000000001.crc</td><td>2144</td><td>1717525322000</td></tr><tr><td>dbfs:/FileStore/tables/delta/create_table/_delta_log/00000000000000000001.json</td><td>00000000000000000001.json</td><td>1149</td><td>1717525318000</td></tr><tr><td>dbfs:/FileStore/tables/delta/create_table/_delta_log/00000000000000000002.crc</td><td>00000000000000000002.crc</td><td>2094</td><td>1717527099000</td></tr><tr><td>dbfs:/FileStore/tables/delta/create_table/_delta_log/00000000000000000002.json</td><td>00000000000000000002.json</td><td>1049</td><td>1717527096000</td></tr><tr><td>dbfs:/FileStore/tables/delta/create_table/_delta_log/00000000000000000003.crc</td><td>00000000000000000003.crc</td><td>2108</td><td>1717527627000</td></tr><tr><td>dbfs:/FileStore/tables/delta/create_table/_delta_log/00000000000000000003.json</td><td>00000000000000000003.json</td><td>1049</td><td>1717527622000</td></tr><tr><td>dbfs:/FileStore/tables/delta/create_table/_delta_log/00000000000000000004.crc</td><td>00000000000000000004.crc</td><td>2695</td><td>1717533347000</td></tr><tr><td>dbfs:/FileStore/tables/delta/create_table/_delta_log/00000000000000000004.json</td><td>00000000000000000004.json</td><td>1108</td><td>1717533344000</td></tr><tr><td>dbfs:/FileStore/tables/delta/create_table/_delta_log/00000000000000000005.crc</td><td>00000000000000000005.crc</td><td>3281</td><td>1717534520000</td></tr><tr><td>dbfs:/FileStore/tables/delta/create_table/_delta_log/00000000000000000005.json</td><td>00000000000000000005.json</td><td>1112</td><td>1717534517000</td></tr></tbody></table></div>"
      ]
     },
     "metadata": {
      "application/vnd.databricks.v1+output": {
       "addedWidgets": {},
       "aggData": [],
       "aggError": "",
       "aggOverflow": false,
       "aggSchema": [],
       "aggSeriesLimitReached": false,
       "aggType": "",
       "arguments": {},
       "columnCustomDisplayInfos": {},
       "data": [
        [
         "dbfs:/FileStore/tables/delta/create_table/_delta_log/.s3-optimization-0",
         ".s3-optimization-0",
         0,
         1717524454000
        ],
        [
         "dbfs:/FileStore/tables/delta/create_table/_delta_log/.s3-optimization-1",
         ".s3-optimization-1",
         0,
         1717524454000
        ],
        [
         "dbfs:/FileStore/tables/delta/create_table/_delta_log/.s3-optimization-2",
         ".s3-optimization-2",
         0,
         1717524454000
        ],
        [
         "dbfs:/FileStore/tables/delta/create_table/_delta_log/00000000000000000000.crc",
         "00000000000000000000.crc",
         2235,
         1717524476000
        ],
        [
         "dbfs:/FileStore/tables/delta/create_table/_delta_log/00000000000000000000.json",
         "00000000000000000000.json",
         1255,
         1717524454000
        ],
        [
         "dbfs:/FileStore/tables/delta/create_table/_delta_log/00000000000000000001.crc",
         "00000000000000000001.crc",
         2144,
         1717525322000
        ],
        [
         "dbfs:/FileStore/tables/delta/create_table/_delta_log/00000000000000000001.json",
         "00000000000000000001.json",
         1149,
         1717525318000
        ],
        [
         "dbfs:/FileStore/tables/delta/create_table/_delta_log/00000000000000000002.crc",
         "00000000000000000002.crc",
         2094,
         1717527099000
        ],
        [
         "dbfs:/FileStore/tables/delta/create_table/_delta_log/00000000000000000002.json",
         "00000000000000000002.json",
         1049,
         1717527096000
        ],
        [
         "dbfs:/FileStore/tables/delta/create_table/_delta_log/00000000000000000003.crc",
         "00000000000000000003.crc",
         2108,
         1717527627000
        ],
        [
         "dbfs:/FileStore/tables/delta/create_table/_delta_log/00000000000000000003.json",
         "00000000000000000003.json",
         1049,
         1717527622000
        ],
        [
         "dbfs:/FileStore/tables/delta/create_table/_delta_log/00000000000000000004.crc",
         "00000000000000000004.crc",
         2695,
         1717533347000
        ],
        [
         "dbfs:/FileStore/tables/delta/create_table/_delta_log/00000000000000000004.json",
         "00000000000000000004.json",
         1108,
         1717533344000
        ],
        [
         "dbfs:/FileStore/tables/delta/create_table/_delta_log/00000000000000000005.crc",
         "00000000000000000005.crc",
         3281,
         1717534520000
        ],
        [
         "dbfs:/FileStore/tables/delta/create_table/_delta_log/00000000000000000005.json",
         "00000000000000000005.json",
         1112,
         1717534517000
        ]
       ],
       "datasetInfos": [],
       "dbfsResultPath": null,
       "isJsonSchema": true,
       "metadata": {
        "isDbfsCommandResult": false
       },
       "overflow": false,
       "plotOptions": {
        "customPlotOptions": {},
        "displayType": "table",
        "pivotAggregation": null,
        "pivotColumns": null,
        "xColumns": null,
        "yColumns": null
       },
       "removedWidgets": [],
       "schema": [
        {
         "metadata": "{}",
         "name": "path",
         "type": "\"string\""
        },
        {
         "metadata": "{}",
         "name": "name",
         "type": "\"string\""
        },
        {
         "metadata": "{}",
         "name": "size",
         "type": "\"long\""
        },
        {
         "metadata": "{}",
         "name": "modificationTime",
         "type": "\"long\""
        }
       ],
       "type": "table"
      }
     },
     "output_type": "display_data"
    }
   ],
   "source": [
    "#we can clearly see 5th json file got added\n",
    "%fs\n",
    "\n",
    "ls dbfs:/FileStore/tables/delta/create_table/_delta_log/"
   ]
  },
  {
   "cell_type": "code",
   "execution_count": 0,
   "metadata": {
    "application/vnd.databricks.v1+cell": {
     "cellMetadata": {
      "byteLimit": 2048000,
      "rowLimit": 10000
     },
     "inputWidgets": {},
     "nuid": "38957229-498f-47e3-9394-8cdcd793ffd0",
     "showTitle": false,
     "title": ""
    }
   },
   "outputs": [
    {
     "output_type": "display_data",
     "data": {
      "text/html": [
       "<style scoped>\n",
       "  .ansiout {\n",
       "    display: block;\n",
       "    unicode-bidi: embed;\n",
       "    white-space: pre-wrap;\n",
       "    word-wrap: break-word;\n",
       "    word-break: break-all;\n",
       "    font-family: \"Menlo\", \"Monaco\", \"Consolas\", \"Ubuntu Mono\", \"Source Code Pro\", monospace;\n",
       "    font-size: 13px;\n",
       "    color: #555;\n",
       "    margin-left: 4px;\n",
       "    line-height: 19px;\n",
       "  }\n",
       "</style>\n",
       "<div class=\"ansiout\">{&quot;commitInfo&quot;:{&quot;timestamp&quot;:1717534515946,&quot;userId&quot;:&quot;8432478468657958&quot;,&quot;userName&quot;:&quot;paruchuri7781@gmail.com&quot;,&quot;operation&quot;:&quot;WRITE&quot;,&quot;operationParameters&quot;:{&quot;mode&quot;:&quot;Append&quot;,&quot;partitionBy&quot;:&quot;[]&quot;},&quot;notebook&quot;:{&quot;notebookId&quot;:&quot;1388222939003274&quot;},&quot;clusterId&quot;:&quot;0604-175509-m5964sr3&quot;,&quot;readVersion&quot;:4,&quot;isolationLevel&quot;:&quot;WriteSerializable&quot;,&quot;isBlindAppend&quot;:true,&quot;operationMetrics&quot;:{&quot;numFiles&quot;:&quot;1&quot;,&quot;numOutputRows&quot;:&quot;2&quot;,&quot;numOutputBytes&quot;:&quot;1310&quot;},&quot;engineInfo&quot;:&quot;Databricks-Runtime/12.2.x-scala2.12&quot;,&quot;txnId&quot;:&quot;3603eeed-f430-4b2b-b8f5-357ce48469bb&quot;}}\n",
       "{&quot;add&quot;:{&quot;path&quot;:&quot;part-00000-3fa73c01-89cb-4a7b-a9c5-f0f5382e9a3e-c000.snappy.parquet&quot;,&quot;partitionValues&quot;:{},&quot;size&quot;:1310,&quot;modificationTime&quot;:1717534516000,&quot;dataChange&quot;:true,&quot;stats&quot;:&quot;{\\&quot;numRecords\\&quot;:2,\\&quot;minValues\\&quot;:{\\&quot;emp_id\\&quot;:2,\\&quot;emp_name\\&quot;:\\&quot;kusuma\\&quot;,\\&quot;sal\\&quot;:12,\\&quot;dept\\&quot;:\\&quot;front_end\\&quot;},\\&quot;maxValues\\&quot;:{\\&quot;emp_id\\&quot;:3,\\&quot;emp_name\\&quot;:\\&quot;sahithi\\&quot;,\\&quot;sal\\&quot;:14,\\&quot;dept\\&quot;:\\&quot;hr\\&quot;},\\&quot;nullCount\\&quot;:{\\&quot;emp_id\\&quot;:0,\\&quot;emp_name\\&quot;:0,\\&quot;sal\\&quot;:0,\\&quot;dept\\&quot;:0}}&quot;,&quot;tags&quot;:{&quot;INSERTION_TIME&quot;:&quot;1717534516000000&quot;,&quot;MIN_INSERTION_TIME&quot;:&quot;1717534516000000&quot;,&quot;MAX_INSERTION_TIME&quot;:&quot;1717534516000000&quot;,&quot;OPTIMIZE_TARGET_SIZE&quot;:&quot;268435456&quot;}}}\n",
       "\n",
       "</div>"
      ]
     },
     "metadata": {
      "application/vnd.databricks.v1+output": {
       "addedWidgets": {},
       "arguments": {},
       "data": "<div class=\"ansiout\">{&quot;commitInfo&quot;:{&quot;timestamp&quot;:1717534515946,&quot;userId&quot;:&quot;8432478468657958&quot;,&quot;userName&quot;:&quot;paruchuri7781@gmail.com&quot;,&quot;operation&quot;:&quot;WRITE&quot;,&quot;operationParameters&quot;:{&quot;mode&quot;:&quot;Append&quot;,&quot;partitionBy&quot;:&quot;[]&quot;},&quot;notebook&quot;:{&quot;notebookId&quot;:&quot;1388222939003274&quot;},&quot;clusterId&quot;:&quot;0604-175509-m5964sr3&quot;,&quot;readVersion&quot;:4,&quot;isolationLevel&quot;:&quot;WriteSerializable&quot;,&quot;isBlindAppend&quot;:true,&quot;operationMetrics&quot;:{&quot;numFiles&quot;:&quot;1&quot;,&quot;numOutputRows&quot;:&quot;2&quot;,&quot;numOutputBytes&quot;:&quot;1310&quot;},&quot;engineInfo&quot;:&quot;Databricks-Runtime/12.2.x-scala2.12&quot;,&quot;txnId&quot;:&quot;3603eeed-f430-4b2b-b8f5-357ce48469bb&quot;}}\n{&quot;add&quot;:{&quot;path&quot;:&quot;part-00000-3fa73c01-89cb-4a7b-a9c5-f0f5382e9a3e-c000.snappy.parquet&quot;,&quot;partitionValues&quot;:{},&quot;size&quot;:1310,&quot;modificationTime&quot;:1717534516000,&quot;dataChange&quot;:true,&quot;stats&quot;:&quot;{\\&quot;numRecords\\&quot;:2,\\&quot;minValues\\&quot;:{\\&quot;emp_id\\&quot;:2,\\&quot;emp_name\\&quot;:\\&quot;kusuma\\&quot;,\\&quot;sal\\&quot;:12,\\&quot;dept\\&quot;:\\&quot;front_end\\&quot;},\\&quot;maxValues\\&quot;:{\\&quot;emp_id\\&quot;:3,\\&quot;emp_name\\&quot;:\\&quot;sahithi\\&quot;,\\&quot;sal\\&quot;:14,\\&quot;dept\\&quot;:\\&quot;hr\\&quot;},\\&quot;nullCount\\&quot;:{\\&quot;emp_id\\&quot;:0,\\&quot;emp_name\\&quot;:0,\\&quot;sal\\&quot;:0,\\&quot;dept\\&quot;:0}}&quot;,&quot;tags&quot;:{&quot;INSERTION_TIME&quot;:&quot;1717534516000000&quot;,&quot;MIN_INSERTION_TIME&quot;:&quot;1717534516000000&quot;,&quot;MAX_INSERTION_TIME&quot;:&quot;1717534516000000&quot;,&quot;OPTIMIZE_TARGET_SIZE&quot;:&quot;268435456&quot;}}}\n\n</div>",
       "datasetInfos": [],
       "metadata": {
        "isDbfsCommandResult": false
       },
       "removedWidgets": [],
       "type": "html"
      }
     },
     "output_type": "display_data"
    }
   ],
   "source": [
    "%fs\n",
    "\n",
    "head dbfs:/FileStore/tables/delta/create_table/_delta_log/00000000000000000005.json"
   ]
  },
  {
   "cell_type": "markdown",
   "metadata": {
    "application/vnd.databricks.v1+cell": {
     "cellMetadata": {},
     "inputWidgets": {},
     "nuid": "3ba4ed61-068f-4f1c-8d56-bc6aaa81e84b",
     "showTitle": false,
     "title": ""
    }
   },
   "source": [
    "#observe after deletion"
   ]
  },
  {
   "cell_type": "code",
   "execution_count": 0,
   "metadata": {
    "application/vnd.databricks.v1+cell": {
     "cellMetadata": {
      "byteLimit": 2048000,
      "implicitDf": true,
      "rowLimit": 10000
     },
     "inputWidgets": {},
     "nuid": "25eeff0e-02d6-4bc2-8921-db2b3b187be8",
     "showTitle": false,
     "title": ""
    }
   },
   "outputs": [
    {
     "output_type": "display_data",
     "data": {
      "text/html": [
       "<style scoped>\n",
       "  .table-result-container {\n",
       "    max-height: 300px;\n",
       "    overflow: auto;\n",
       "  }\n",
       "  table, th, td {\n",
       "    border: 1px solid black;\n",
       "    border-collapse: collapse;\n",
       "  }\n",
       "  th, td {\n",
       "    padding: 5px;\n",
       "  }\n",
       "  th {\n",
       "    text-align: left;\n",
       "  }\n",
       "</style><div class='table-result-container'><table class='table-result'><thead style='background-color: white'><tr><th>emp_id</th><th>emp_name</th><th>sal</th><th>dept</th></tr></thead><tbody><tr><td>2</td><td>sahithi</td><td>14</td><td>hr</td></tr><tr><td>3</td><td>kusuma</td><td>12</td><td>front_end</td></tr><tr><td>1</td><td>varun</td><td>13</td><td>sales</td></tr></tbody></table></div>"
      ]
     },
     "metadata": {
      "application/vnd.databricks.v1+output": {
       "addedWidgets": {},
       "aggData": [],
       "aggError": "",
       "aggOverflow": false,
       "aggSchema": [],
       "aggSeriesLimitReached": false,
       "aggType": "",
       "arguments": {},
       "columnCustomDisplayInfos": {},
       "data": [
        [
         2,
         "sahithi",
         14,
         "hr"
        ],
        [
         3,
         "kusuma",
         12,
         "front_end"
        ],
        [
         1,
         "varun",
         13,
         "sales"
        ]
       ],
       "datasetInfos": [],
       "dbfsResultPath": null,
       "isJsonSchema": true,
       "metadata": {},
       "overflow": false,
       "plotOptions": {
        "customPlotOptions": {},
        "displayType": "table",
        "pivotAggregation": null,
        "pivotColumns": null,
        "xColumns": null,
        "yColumns": null
       },
       "removedWidgets": [],
       "schema": [
        {
         "metadata": "{}",
         "name": "emp_id",
         "type": "\"integer\""
        },
        {
         "metadata": "{}",
         "name": "emp_name",
         "type": "\"string\""
        },
        {
         "metadata": "{}",
         "name": "sal",
         "type": "\"integer\""
        },
        {
         "metadata": "{}",
         "name": "dept",
         "type": "\"string\""
        }
       ],
       "type": "table"
      }
     },
     "output_type": "display_data"
    }
   ],
   "source": [
    "%sql\n",
    "select * from employee_demo"
   ]
  },
  {
   "cell_type": "code",
   "execution_count": 0,
   "metadata": {
    "application/vnd.databricks.v1+cell": {
     "cellMetadata": {
      "byteLimit": 2048000,
      "implicitDf": true,
      "rowLimit": 10000
     },
     "inputWidgets": {},
     "nuid": "d4336136-fa21-4d42-bbc3-db72766358d2",
     "showTitle": false,
     "title": ""
    }
   },
   "outputs": [
    {
     "output_type": "display_data",
     "data": {
      "text/html": [
       "<style scoped>\n",
       "  .table-result-container {\n",
       "    max-height: 300px;\n",
       "    overflow: auto;\n",
       "  }\n",
       "  table, th, td {\n",
       "    border: 1px solid black;\n",
       "    border-collapse: collapse;\n",
       "  }\n",
       "  th, td {\n",
       "    padding: 5px;\n",
       "  }\n",
       "  th {\n",
       "    text-align: left;\n",
       "  }\n",
       "</style><div class='table-result-container'><table class='table-result'><thead style='background-color: white'><tr><th>num_affected_rows</th></tr></thead><tbody><tr><td>1</td></tr></tbody></table></div>"
      ]
     },
     "metadata": {
      "application/vnd.databricks.v1+output": {
       "addedWidgets": {},
       "aggData": [],
       "aggError": "",
       "aggOverflow": false,
       "aggSchema": [],
       "aggSeriesLimitReached": false,
       "aggType": "",
       "arguments": {},
       "columnCustomDisplayInfos": {},
       "data": [
        [
         1
        ]
       ],
       "datasetInfos": [],
       "dbfsResultPath": null,
       "isJsonSchema": true,
       "metadata": {},
       "overflow": false,
       "plotOptions": {
        "customPlotOptions": {},
        "displayType": "table",
        "pivotAggregation": null,
        "pivotColumns": null,
        "xColumns": null,
        "yColumns": null
       },
       "removedWidgets": [],
       "schema": [
        {
         "metadata": "{}",
         "name": "num_affected_rows",
         "type": "\"long\""
        }
       ],
       "type": "table"
      }
     },
     "output_type": "display_data"
    }
   ],
   "source": [
    "%sql\n",
    "delete from employee_demo\n",
    "where emp_id=1"
   ]
  },
  {
   "cell_type": "code",
   "execution_count": 0,
   "metadata": {
    "application/vnd.databricks.v1+cell": {
     "cellMetadata": {
      "byteLimit": 2048000,
      "rowLimit": 10000
     },
     "inputWidgets": {},
     "nuid": "c4e10db8-03bd-4893-ae6d-92b62209a617",
     "showTitle": false,
     "title": ""
    }
   },
   "outputs": [
    {
     "output_type": "display_data",
     "data": {
      "text/html": [
       "<style scoped>\n",
       "  .table-result-container {\n",
       "    max-height: 300px;\n",
       "    overflow: auto;\n",
       "  }\n",
       "  table, th, td {\n",
       "    border: 1px solid black;\n",
       "    border-collapse: collapse;\n",
       "  }\n",
       "  th, td {\n",
       "    padding: 5px;\n",
       "  }\n",
       "  th {\n",
       "    text-align: left;\n",
       "  }\n",
       "</style><div class='table-result-container'><table class='table-result'><thead style='background-color: white'><tr><th>path</th><th>name</th><th>size</th><th>modificationTime</th></tr></thead><tbody><tr><td>dbfs:/FileStore/tables/delta/create_table/_delta_log/</td><td>_delta_log/</td><td>0</td><td>0</td></tr><tr><td>dbfs:/FileStore/tables/delta/create_table/part-00000-0652a969-0925-4406-a53c-73a79bf10105-c000.snappy.parquet</td><td>part-00000-0652a969-0925-4406-a53c-73a79bf10105-c000.snappy.parquet</td><td>1301</td><td>1717533344000</td></tr><tr><td>dbfs:/FileStore/tables/delta/create_table/part-00000-3fa73c01-89cb-4a7b-a9c5-f0f5382e9a3e-c000.snappy.parquet</td><td>part-00000-3fa73c01-89cb-4a7b-a9c5-f0f5382e9a3e-c000.snappy.parquet</td><td>1310</td><td>1717534516000</td></tr></tbody></table></div>"
      ]
     },
     "metadata": {
      "application/vnd.databricks.v1+output": {
       "addedWidgets": {},
       "aggData": [],
       "aggError": "",
       "aggOverflow": false,
       "aggSchema": [],
       "aggSeriesLimitReached": false,
       "aggType": "",
       "arguments": {},
       "columnCustomDisplayInfos": {},
       "data": [
        [
         "dbfs:/FileStore/tables/delta/create_table/_delta_log/",
         "_delta_log/",
         0,
         0
        ],
        [
         "dbfs:/FileStore/tables/delta/create_table/part-00000-0652a969-0925-4406-a53c-73a79bf10105-c000.snappy.parquet",
         "part-00000-0652a969-0925-4406-a53c-73a79bf10105-c000.snappy.parquet",
         1301,
         1717533344000
        ],
        [
         "dbfs:/FileStore/tables/delta/create_table/part-00000-3fa73c01-89cb-4a7b-a9c5-f0f5382e9a3e-c000.snappy.parquet",
         "part-00000-3fa73c01-89cb-4a7b-a9c5-f0f5382e9a3e-c000.snappy.parquet",
         1310,
         1717534516000
        ]
       ],
       "datasetInfos": [],
       "dbfsResultPath": null,
       "isJsonSchema": true,
       "metadata": {
        "isDbfsCommandResult": false
       },
       "overflow": false,
       "plotOptions": {
        "customPlotOptions": {},
        "displayType": "table",
        "pivotAggregation": null,
        "pivotColumns": null,
        "xColumns": null,
        "yColumns": null
       },
       "removedWidgets": [],
       "schema": [
        {
         "metadata": "{}",
         "name": "path",
         "type": "\"string\""
        },
        {
         "metadata": "{}",
         "name": "name",
         "type": "\"string\""
        },
        {
         "metadata": "{}",
         "name": "size",
         "type": "\"long\""
        },
        {
         "metadata": "{}",
         "name": "modificationTime",
         "type": "\"long\""
        }
       ],
       "type": "table"
      }
     },
     "output_type": "display_data"
    }
   ],
   "source": [
    "%fs\n",
    "ls /FileStore/tables/delta/create_table/"
   ]
  },
  {
   "cell_type": "code",
   "execution_count": 0,
   "metadata": {
    "application/vnd.databricks.v1+cell": {
     "cellMetadata": {
      "byteLimit": 2048000,
      "rowLimit": 10000
     },
     "inputWidgets": {},
     "nuid": "d5f2b33f-fea8-45b5-ae82-8178ed1b0550",
     "showTitle": false,
     "title": ""
    }
   },
   "outputs": [
    {
     "output_type": "display_data",
     "data": {
      "text/html": [
       "<style scoped>\n",
       "  .ansiout {\n",
       "    display: block;\n",
       "    unicode-bidi: embed;\n",
       "    white-space: pre-wrap;\n",
       "    word-wrap: break-word;\n",
       "    word-break: break-all;\n",
       "    font-family: \"Menlo\", \"Monaco\", \"Consolas\", \"Ubuntu Mono\", \"Source Code Pro\", monospace;\n",
       "    font-size: 13px;\n",
       "    color: #555;\n",
       "    margin-left: 4px;\n",
       "    line-height: 19px;\n",
       "  }\n",
       "</style>\n",
       "<div class=\"ansiout\">PAR1 ����46:����hsahithikusuma ����424��½8hr\tfront_endkusumasahithi\tfront_endhrNVh�N�b\\Hspark_schema%emp_id%emp_name%L%sal%dept%LL&amp;5emp_idJN&amp;&lt;(��.&amp;V5emp_namedh&amp;V&lt;6(sahithikusuma��8&amp;�5salJN&amp;�&lt;(��.&amp;�5dept`b&amp;�&lt;6(hr\tfront_end��4�&amp;�\\org.apache.spark.timeZoneEtc/UTCorg.apache.spark.legacyINT96org.apache.spark.version3.3.2)org.apache.spark.sql.parquet.row.metadata�{&quot;type&quot;:&quot;struct&quot;,&quot;fields&quot;:[{&quot;name&quot;:&quot;emp_id&quot;,&quot;type&quot;:&quot;integer&quot;,&quot;nullable&quot;:true,&quot;metadata&quot;:{}},{&quot;name&quot;:&quot;emp_name&quot;,&quot;type&quot;:&quot;string&quot;,&quot;nullable&quot;:true,&quot;metadata&quot;:{}},{&quot;name&quot;:&quot;sal&quot;,&quot;type&quot;:&quot;integer&quot;,&quot;nullable&quot;:true,&quot;metadata&quot;:{}},{&quot;name&quot;:&quot;dept&quot;,&quot;type&quot;:&quot;string&quot;,&quot;nullable&quot;:true,&quot;metadata&quot;:{}}]}org.apache.spark.legacyDateTimeZparquet-mr version 1.12.3-databricks-0009 (build 13debca92ae2826f5c048fb3613d610c77c3bb90)L�PAR1\n",
       "</div>"
      ]
     },
     "metadata": {
      "application/vnd.databricks.v1+output": {
       "addedWidgets": {},
       "arguments": {},
       "data": "<div class=\"ansiout\">PAR1 ����46:����hsahithikusuma ����424��½8hr\tfront_endkusumasahithi\tfront_endhrNVh�N�b\\Hspark_schema%emp_id%emp_name%L%sal%dept%LL&amp;5emp_idJN&amp;&lt;(��.&amp;V5emp_namedh&amp;V&lt;6(sahithikusuma��8&amp;�5salJN&amp;�&lt;(��.&amp;�5dept`b&amp;�&lt;6(hr\tfront_end��4�&amp;�\\org.apache.spark.timeZoneEtc/UTCorg.apache.spark.legacyINT96org.apache.spark.version3.3.2)org.apache.spark.sql.parquet.row.metadata�{&quot;type&quot;:&quot;struct&quot;,&quot;fields&quot;:[{&quot;name&quot;:&quot;emp_id&quot;,&quot;type&quot;:&quot;integer&quot;,&quot;nullable&quot;:true,&quot;metadata&quot;:{}},{&quot;name&quot;:&quot;emp_name&quot;,&quot;type&quot;:&quot;string&quot;,&quot;nullable&quot;:true,&quot;metadata&quot;:{}},{&quot;name&quot;:&quot;sal&quot;,&quot;type&quot;:&quot;integer&quot;,&quot;nullable&quot;:true,&quot;metadata&quot;:{}},{&quot;name&quot;:&quot;dept&quot;,&quot;type&quot;:&quot;string&quot;,&quot;nullable&quot;:true,&quot;metadata&quot;:{}}]}org.apache.spark.legacyDateTimeZparquet-mr version 1.12.3-databricks-0009 (build 13debca92ae2826f5c048fb3613d610c77c3bb90)L�PAR1\n</div>",
       "datasetInfos": [],
       "metadata": {
        "isDbfsCommandResult": false
       },
       "removedWidgets": [],
       "type": "html"
      }
     },
     "output_type": "display_data"
    }
   ],
   "source": [
    "%fs\n",
    "head /FileStore/tables/delta/create_table/part-00000-3fa73c01-89cb-4a7b-a9c5-f0f5382e9a3e-c000.snappy.parquet"
   ]
  },
  {
   "cell_type": "code",
   "execution_count": 0,
   "metadata": {
    "application/vnd.databricks.v1+cell": {
     "cellMetadata": {
      "byteLimit": 2048000,
      "rowLimit": 10000
     },
     "inputWidgets": {},
     "nuid": "871ca51d-74a0-4b81-9f6f-a2df5ba75dee",
     "showTitle": false,
     "title": ""
    }
   },
   "outputs": [
    {
     "output_type": "display_data",
     "data": {
      "text/html": [
       "<style scoped>\n",
       "  .table-result-container {\n",
       "    max-height: 300px;\n",
       "    overflow: auto;\n",
       "  }\n",
       "  table, th, td {\n",
       "    border: 1px solid black;\n",
       "    border-collapse: collapse;\n",
       "  }\n",
       "  th, td {\n",
       "    padding: 5px;\n",
       "  }\n",
       "  th {\n",
       "    text-align: left;\n",
       "  }\n",
       "</style><div class='table-result-container'><table class='table-result'><thead style='background-color: white'><tr><th>path</th><th>name</th><th>size</th><th>modificationTime</th></tr></thead><tbody><tr><td>dbfs:/FileStore/tables/delta/create_table/_delta_log/.s3-optimization-0</td><td>.s3-optimization-0</td><td>0</td><td>1717524454000</td></tr><tr><td>dbfs:/FileStore/tables/delta/create_table/_delta_log/.s3-optimization-1</td><td>.s3-optimization-1</td><td>0</td><td>1717524454000</td></tr><tr><td>dbfs:/FileStore/tables/delta/create_table/_delta_log/.s3-optimization-2</td><td>.s3-optimization-2</td><td>0</td><td>1717524454000</td></tr><tr><td>dbfs:/FileStore/tables/delta/create_table/_delta_log/00000000000000000000.crc</td><td>00000000000000000000.crc</td><td>2235</td><td>1717524476000</td></tr><tr><td>dbfs:/FileStore/tables/delta/create_table/_delta_log/00000000000000000000.json</td><td>00000000000000000000.json</td><td>1255</td><td>1717524454000</td></tr><tr><td>dbfs:/FileStore/tables/delta/create_table/_delta_log/00000000000000000001.crc</td><td>00000000000000000001.crc</td><td>2144</td><td>1717525322000</td></tr><tr><td>dbfs:/FileStore/tables/delta/create_table/_delta_log/00000000000000000001.json</td><td>00000000000000000001.json</td><td>1149</td><td>1717525318000</td></tr><tr><td>dbfs:/FileStore/tables/delta/create_table/_delta_log/00000000000000000002.crc</td><td>00000000000000000002.crc</td><td>2094</td><td>1717527099000</td></tr><tr><td>dbfs:/FileStore/tables/delta/create_table/_delta_log/00000000000000000002.json</td><td>00000000000000000002.json</td><td>1049</td><td>1717527096000</td></tr><tr><td>dbfs:/FileStore/tables/delta/create_table/_delta_log/00000000000000000003.crc</td><td>00000000000000000003.crc</td><td>2108</td><td>1717527627000</td></tr><tr><td>dbfs:/FileStore/tables/delta/create_table/_delta_log/00000000000000000003.json</td><td>00000000000000000003.json</td><td>1049</td><td>1717527622000</td></tr><tr><td>dbfs:/FileStore/tables/delta/create_table/_delta_log/00000000000000000004.crc</td><td>00000000000000000004.crc</td><td>2695</td><td>1717533347000</td></tr><tr><td>dbfs:/FileStore/tables/delta/create_table/_delta_log/00000000000000000004.json</td><td>00000000000000000004.json</td><td>1108</td><td>1717533344000</td></tr><tr><td>dbfs:/FileStore/tables/delta/create_table/_delta_log/00000000000000000005.crc</td><td>00000000000000000005.crc</td><td>3281</td><td>1717534520000</td></tr><tr><td>dbfs:/FileStore/tables/delta/create_table/_delta_log/00000000000000000005.json</td><td>00000000000000000005.json</td><td>1112</td><td>1717534517000</td></tr><tr><td>dbfs:/FileStore/tables/delta/create_table/_delta_log/00000000000000000006.crc</td><td>00000000000000000006.crc</td><td>2699</td><td>1717534982000</td></tr><tr><td>dbfs:/FileStore/tables/delta/create_table/_delta_log/00000000000000000006.json</td><td>00000000000000000006.json</td><td>1111</td><td>1717534978000</td></tr></tbody></table></div>"
      ]
     },
     "metadata": {
      "application/vnd.databricks.v1+output": {
       "addedWidgets": {},
       "aggData": [],
       "aggError": "",
       "aggOverflow": false,
       "aggSchema": [],
       "aggSeriesLimitReached": false,
       "aggType": "",
       "arguments": {},
       "columnCustomDisplayInfos": {},
       "data": [
        [
         "dbfs:/FileStore/tables/delta/create_table/_delta_log/.s3-optimization-0",
         ".s3-optimization-0",
         0,
         1717524454000
        ],
        [
         "dbfs:/FileStore/tables/delta/create_table/_delta_log/.s3-optimization-1",
         ".s3-optimization-1",
         0,
         1717524454000
        ],
        [
         "dbfs:/FileStore/tables/delta/create_table/_delta_log/.s3-optimization-2",
         ".s3-optimization-2",
         0,
         1717524454000
        ],
        [
         "dbfs:/FileStore/tables/delta/create_table/_delta_log/00000000000000000000.crc",
         "00000000000000000000.crc",
         2235,
         1717524476000
        ],
        [
         "dbfs:/FileStore/tables/delta/create_table/_delta_log/00000000000000000000.json",
         "00000000000000000000.json",
         1255,
         1717524454000
        ],
        [
         "dbfs:/FileStore/tables/delta/create_table/_delta_log/00000000000000000001.crc",
         "00000000000000000001.crc",
         2144,
         1717525322000
        ],
        [
         "dbfs:/FileStore/tables/delta/create_table/_delta_log/00000000000000000001.json",
         "00000000000000000001.json",
         1149,
         1717525318000
        ],
        [
         "dbfs:/FileStore/tables/delta/create_table/_delta_log/00000000000000000002.crc",
         "00000000000000000002.crc",
         2094,
         1717527099000
        ],
        [
         "dbfs:/FileStore/tables/delta/create_table/_delta_log/00000000000000000002.json",
         "00000000000000000002.json",
         1049,
         1717527096000
        ],
        [
         "dbfs:/FileStore/tables/delta/create_table/_delta_log/00000000000000000003.crc",
         "00000000000000000003.crc",
         2108,
         1717527627000
        ],
        [
         "dbfs:/FileStore/tables/delta/create_table/_delta_log/00000000000000000003.json",
         "00000000000000000003.json",
         1049,
         1717527622000
        ],
        [
         "dbfs:/FileStore/tables/delta/create_table/_delta_log/00000000000000000004.crc",
         "00000000000000000004.crc",
         2695,
         1717533347000
        ],
        [
         "dbfs:/FileStore/tables/delta/create_table/_delta_log/00000000000000000004.json",
         "00000000000000000004.json",
         1108,
         1717533344000
        ],
        [
         "dbfs:/FileStore/tables/delta/create_table/_delta_log/00000000000000000005.crc",
         "00000000000000000005.crc",
         3281,
         1717534520000
        ],
        [
         "dbfs:/FileStore/tables/delta/create_table/_delta_log/00000000000000000005.json",
         "00000000000000000005.json",
         1112,
         1717534517000
        ],
        [
         "dbfs:/FileStore/tables/delta/create_table/_delta_log/00000000000000000006.crc",
         "00000000000000000006.crc",
         2699,
         1717534982000
        ],
        [
         "dbfs:/FileStore/tables/delta/create_table/_delta_log/00000000000000000006.json",
         "00000000000000000006.json",
         1111,
         1717534978000
        ]
       ],
       "datasetInfos": [],
       "dbfsResultPath": null,
       "isJsonSchema": true,
       "metadata": {
        "isDbfsCommandResult": false
       },
       "overflow": false,
       "plotOptions": {
        "customPlotOptions": {},
        "displayType": "table",
        "pivotAggregation": null,
        "pivotColumns": null,
        "xColumns": null,
        "yColumns": null
       },
       "removedWidgets": [],
       "schema": [
        {
         "metadata": "{}",
         "name": "path",
         "type": "\"string\""
        },
        {
         "metadata": "{}",
         "name": "name",
         "type": "\"string\""
        },
        {
         "metadata": "{}",
         "name": "size",
         "type": "\"long\""
        },
        {
         "metadata": "{}",
         "name": "modificationTime",
         "type": "\"long\""
        }
       ],
       "type": "table"
      }
     },
     "output_type": "display_data"
    }
   ],
   "source": [
    "%fs\n",
    "ls /FileStore/tables/delta/create_table/_delta_log"
   ]
  },
  {
   "cell_type": "code",
   "execution_count": 0,
   "metadata": {
    "application/vnd.databricks.v1+cell": {
     "cellMetadata": {
      "byteLimit": 2048000,
      "rowLimit": 10000
     },
     "inputWidgets": {},
     "nuid": "6c7248b8-8f3a-4862-908a-88b56a6933bf",
     "showTitle": false,
     "title": ""
    }
   },
   "outputs": [
    {
     "output_type": "display_data",
     "data": {
      "text/html": [
       "<style scoped>\n",
       "  .ansiout {\n",
       "    display: block;\n",
       "    unicode-bidi: embed;\n",
       "    white-space: pre-wrap;\n",
       "    word-wrap: break-word;\n",
       "    word-break: break-all;\n",
       "    font-family: \"Menlo\", \"Monaco\", \"Consolas\", \"Ubuntu Mono\", \"Source Code Pro\", monospace;\n",
       "    font-size: 13px;\n",
       "    color: #555;\n",
       "    margin-left: 4px;\n",
       "    line-height: 19px;\n",
       "  }\n",
       "</style>\n",
       "<div class=\"ansiout\">{&quot;commitInfo&quot;:{&quot;timestamp&quot;:1717534977316,&quot;userId&quot;:&quot;8432478468657958&quot;,&quot;userName&quot;:&quot;paruchuri7781@gmail.com&quot;,&quot;operation&quot;:&quot;DELETE&quot;,&quot;operationParameters&quot;:{&quot;predicate&quot;:&quot;[\\&quot;(emp_id#6745 = 1)\\&quot;]&quot;},&quot;notebook&quot;:{&quot;notebookId&quot;:&quot;1388222939003274&quot;},&quot;clusterId&quot;:&quot;0604-175509-m5964sr3&quot;,&quot;readVersion&quot;:5,&quot;isolationLevel&quot;:&quot;WriteSerializable&quot;,&quot;isBlindAppend&quot;:false,&quot;operationMetrics&quot;:{&quot;numRemovedFiles&quot;:&quot;1&quot;,&quot;numRemovedBytes&quot;:&quot;1301&quot;,&quot;numCopiedRows&quot;:&quot;0&quot;,&quot;numDeletionVectorsAdded&quot;:&quot;0&quot;,&quot;numDeletionVectorsRemoved&quot;:&quot;0&quot;,&quot;numAddedChangeFiles&quot;:&quot;0&quot;,&quot;executionTimeMs&quot;:&quot;2720&quot;,&quot;numDeletedRows&quot;:&quot;1&quot;,&quot;scanTimeMs&quot;:&quot;1821&quot;,&quot;numAddedFiles&quot;:&quot;0&quot;,&quot;numAddedBytes&quot;:&quot;0&quot;,&quot;rewriteTimeMs&quot;:&quot;886&quot;},&quot;engineInfo&quot;:&quot;Databricks-Runtime/12.2.x-scala2.12&quot;,&quot;txnId&quot;:&quot;90e7fc2c-f3ee-4dfd-b31c-e1a8a063f430&quot;}}\n",
       "{&quot;remove&quot;:{&quot;path&quot;:&quot;part-00000-0652a969-0925-4406-a53c-73a79bf10105-c000.snappy.parquet&quot;,&quot;deletionTimestamp&quot;:1717534977306,&quot;dataChange&quot;:true,&quot;extendedFileMetadata&quot;:true,&quot;partitionValues&quot;:{},&quot;size&quot;:1301,&quot;tags&quot;:{&quot;INSERTION_TIME&quot;:&quot;1717533344000000&quot;,&quot;MIN_INSERTION_TIME&quot;:&quot;1717533344000000&quot;,&quot;MAX_INSERTION_TIME&quot;:&quot;1717533344000000&quot;,&quot;OPTIMIZE_TARGET_SIZE&quot;:&quot;268435456&quot;}}}\n",
       "\n",
       "</div>"
      ]
     },
     "metadata": {
      "application/vnd.databricks.v1+output": {
       "addedWidgets": {},
       "arguments": {},
       "data": "<div class=\"ansiout\">{&quot;commitInfo&quot;:{&quot;timestamp&quot;:1717534977316,&quot;userId&quot;:&quot;8432478468657958&quot;,&quot;userName&quot;:&quot;paruchuri7781@gmail.com&quot;,&quot;operation&quot;:&quot;DELETE&quot;,&quot;operationParameters&quot;:{&quot;predicate&quot;:&quot;[\\&quot;(emp_id#6745 = 1)\\&quot;]&quot;},&quot;notebook&quot;:{&quot;notebookId&quot;:&quot;1388222939003274&quot;},&quot;clusterId&quot;:&quot;0604-175509-m5964sr3&quot;,&quot;readVersion&quot;:5,&quot;isolationLevel&quot;:&quot;WriteSerializable&quot;,&quot;isBlindAppend&quot;:false,&quot;operationMetrics&quot;:{&quot;numRemovedFiles&quot;:&quot;1&quot;,&quot;numRemovedBytes&quot;:&quot;1301&quot;,&quot;numCopiedRows&quot;:&quot;0&quot;,&quot;numDeletionVectorsAdded&quot;:&quot;0&quot;,&quot;numDeletionVectorsRemoved&quot;:&quot;0&quot;,&quot;numAddedChangeFiles&quot;:&quot;0&quot;,&quot;executionTimeMs&quot;:&quot;2720&quot;,&quot;numDeletedRows&quot;:&quot;1&quot;,&quot;scanTimeMs&quot;:&quot;1821&quot;,&quot;numAddedFiles&quot;:&quot;0&quot;,&quot;numAddedBytes&quot;:&quot;0&quot;,&quot;rewriteTimeMs&quot;:&quot;886&quot;},&quot;engineInfo&quot;:&quot;Databricks-Runtime/12.2.x-scala2.12&quot;,&quot;txnId&quot;:&quot;90e7fc2c-f3ee-4dfd-b31c-e1a8a063f430&quot;}}\n{&quot;remove&quot;:{&quot;path&quot;:&quot;part-00000-0652a969-0925-4406-a53c-73a79bf10105-c000.snappy.parquet&quot;,&quot;deletionTimestamp&quot;:1717534977306,&quot;dataChange&quot;:true,&quot;extendedFileMetadata&quot;:true,&quot;partitionValues&quot;:{},&quot;size&quot;:1301,&quot;tags&quot;:{&quot;INSERTION_TIME&quot;:&quot;1717533344000000&quot;,&quot;MIN_INSERTION_TIME&quot;:&quot;1717533344000000&quot;,&quot;MAX_INSERTION_TIME&quot;:&quot;1717533344000000&quot;,&quot;OPTIMIZE_TARGET_SIZE&quot;:&quot;268435456&quot;}}}\n\n</div>",
       "datasetInfos": [],
       "metadata": {
        "isDbfsCommandResult": false
       },
       "removedWidgets": [],
       "type": "html"
      }
     },
     "output_type": "display_data"
    }
   ],
   "source": [
    "#operation: delete\n",
    "\n",
    "%fs\n",
    "head /FileStore/tables/delta/create_table/_delta_log/00000000000000000006.json"
   ]
  },
  {
   "cell_type": "markdown",
   "metadata": {
    "application/vnd.databricks.v1+cell": {
     "cellMetadata": {
      "byteLimit": 2048000,
      "rowLimit": 10000
     },
     "inputWidgets": {},
     "nuid": "131ee836-c917-4a71-bac3-883824d80b51",
     "showTitle": false,
     "title": ""
    }
   },
   "source": [
    "#inserting multiple data"
   ]
  },
  {
   "cell_type": "code",
   "execution_count": 0,
   "metadata": {
    "application/vnd.databricks.v1+cell": {
     "cellMetadata": {
      "byteLimit": 2048000,
      "implicitDf": true,
      "rowLimit": 10000
     },
     "inputWidgets": {},
     "nuid": "e57491aa-c0c9-476f-a4b0-70561224dd4b",
     "showTitle": false,
     "title": ""
    }
   },
   "outputs": [
    {
     "output_type": "display_data",
     "data": {
      "text/html": [
       "<style scoped>\n",
       "  .table-result-container {\n",
       "    max-height: 300px;\n",
       "    overflow: auto;\n",
       "  }\n",
       "  table, th, td {\n",
       "    border: 1px solid black;\n",
       "    border-collapse: collapse;\n",
       "  }\n",
       "  th, td {\n",
       "    padding: 5px;\n",
       "  }\n",
       "  th {\n",
       "    text-align: left;\n",
       "  }\n",
       "</style><div class='table-result-container'><table class='table-result'><thead style='background-color: white'><tr><th>num_affected_rows</th><th>num_inserted_rows</th></tr></thead><tbody><tr><td>1</td><td>1</td></tr></tbody></table></div>"
      ]
     },
     "metadata": {
      "application/vnd.databricks.v1+output": {
       "addedWidgets": {},
       "aggData": [],
       "aggError": "",
       "aggOverflow": false,
       "aggSchema": [],
       "aggSeriesLimitReached": false,
       "aggType": "",
       "arguments": {},
       "columnCustomDisplayInfos": {},
       "data": [
        [
         1,
         1
        ]
       ],
       "datasetInfos": [],
       "dbfsResultPath": null,
       "isJsonSchema": true,
       "metadata": {},
       "overflow": false,
       "plotOptions": {
        "customPlotOptions": {},
        "displayType": "table",
        "pivotAggregation": null,
        "pivotColumns": null,
        "xColumns": null,
        "yColumns": null
       },
       "removedWidgets": [],
       "schema": [
        {
         "metadata": "{}",
         "name": "num_affected_rows",
         "type": "\"long\""
        },
        {
         "metadata": "{}",
         "name": "num_inserted_rows",
         "type": "\"long\""
        }
       ],
       "type": "table"
      }
     },
     "output_type": "display_data"
    }
   ],
   "source": [
    "%sql\n",
    "INSERT INTO employee_demo VALUES (4, 'John', 30, 'manager');\n",
    "INSERT INTO employee_demo VALUES (5, 'Jane', 25, 'developer');\n",
    "INSERT INTO employee_demo VALUES (6, 'Doe', 35, 'analyst');\n",
    "INSERT INTO employee_demo VALUES (7, 'Smith', 28, 'sales');\n",
    "INSERT INTO employee_demo VALUES (8, 'Emily', 32, 'marketing');\n"
   ]
  },
  {
   "cell_type": "code",
   "execution_count": 0,
   "metadata": {
    "application/vnd.databricks.v1+cell": {
     "cellMetadata": {
      "byteLimit": 2048000,
      "implicitDf": true,
      "rowLimit": 10000
     },
     "inputWidgets": {},
     "nuid": "bc833d9b-8660-45e4-a95e-1d589f145474",
     "showTitle": false,
     "title": ""
    }
   },
   "outputs": [
    {
     "output_type": "display_data",
     "data": {
      "text/html": [
       "<style scoped>\n",
       "  .table-result-container {\n",
       "    max-height: 300px;\n",
       "    overflow: auto;\n",
       "  }\n",
       "  table, th, td {\n",
       "    border: 1px solid black;\n",
       "    border-collapse: collapse;\n",
       "  }\n",
       "  th, td {\n",
       "    padding: 5px;\n",
       "  }\n",
       "  th {\n",
       "    text-align: left;\n",
       "  }\n",
       "</style><div class='table-result-container'><table class='table-result'><thead style='background-color: white'><tr><th>num_affected_rows</th></tr></thead><tbody><tr><td>1</td></tr></tbody></table></div>"
      ]
     },
     "metadata": {
      "application/vnd.databricks.v1+output": {
       "addedWidgets": {},
       "aggData": [],
       "aggError": "",
       "aggOverflow": false,
       "aggSchema": [],
       "aggSeriesLimitReached": false,
       "aggType": "",
       "arguments": {},
       "columnCustomDisplayInfos": {},
       "data": [
        [
         1
        ]
       ],
       "datasetInfos": [],
       "dbfsResultPath": null,
       "isJsonSchema": true,
       "metadata": {},
       "overflow": false,
       "plotOptions": {
        "customPlotOptions": {},
        "displayType": "table",
        "pivotAggregation": null,
        "pivotColumns": null,
        "xColumns": null,
        "yColumns": null
       },
       "removedWidgets": [],
       "schema": [
        {
         "metadata": "{}",
         "name": "num_affected_rows",
         "type": "\"long\""
        }
       ],
       "type": "table"
      }
     },
     "output_type": "display_data"
    }
   ],
   "source": [
    "%sql\n",
    "\n",
    "delete from employee_demo where emp_id=6;"
   ]
  },
  {
   "cell_type": "code",
   "execution_count": 0,
   "metadata": {
    "application/vnd.databricks.v1+cell": {
     "cellMetadata": {
      "byteLimit": 2048000,
      "rowLimit": 10000
     },
     "inputWidgets": {},
     "nuid": "edd95372-78e6-4efd-a866-c64509eecc3e",
     "showTitle": false,
     "title": ""
    }
   },
   "outputs": [
    {
     "output_type": "display_data",
     "data": {
      "text/html": [
       "<style scoped>\n",
       "  .table-result-container {\n",
       "    max-height: 300px;\n",
       "    overflow: auto;\n",
       "  }\n",
       "  table, th, td {\n",
       "    border: 1px solid black;\n",
       "    border-collapse: collapse;\n",
       "  }\n",
       "  th, td {\n",
       "    padding: 5px;\n",
       "  }\n",
       "  th {\n",
       "    text-align: left;\n",
       "  }\n",
       "</style><div class='table-result-container'><table class='table-result'><thead style='background-color: white'><tr><th>path</th><th>name</th><th>size</th><th>modificationTime</th></tr></thead><tbody><tr><td>dbfs:/FileStore/tables/delta/create_table/_delta_log/</td><td>_delta_log/</td><td>0</td><td>0</td></tr><tr><td>dbfs:/FileStore/tables/delta/create_table/part-00000-0652a969-0925-4406-a53c-73a79bf10105-c000.snappy.parquet</td><td>part-00000-0652a969-0925-4406-a53c-73a79bf10105-c000.snappy.parquet</td><td>1301</td><td>1717533344000</td></tr><tr><td>dbfs:/FileStore/tables/delta/create_table/part-00000-23bb2086-37b7-47fb-8403-7f075df5d984-c000.snappy.parquet</td><td>part-00000-23bb2086-37b7-47fb-8403-7f075df5d984-c000.snappy.parquet</td><td>1308</td><td>1717536250000</td></tr><tr><td>dbfs:/FileStore/tables/delta/create_table/part-00000-3fa73c01-89cb-4a7b-a9c5-f0f5382e9a3e-c000.snappy.parquet</td><td>part-00000-3fa73c01-89cb-4a7b-a9c5-f0f5382e9a3e-c000.snappy.parquet</td><td>1310</td><td>1717534516000</td></tr><tr><td>dbfs:/FileStore/tables/delta/create_table/part-00000-54e5463a-104d-47a7-921c-60a256bc7502-c000.snappy.parquet</td><td>part-00000-54e5463a-104d-47a7-921c-60a256bc7502-c000.snappy.parquet</td><td>1322</td><td>1717536254000</td></tr><tr><td>dbfs:/FileStore/tables/delta/create_table/part-00000-8eb329b6-3263-4959-ab26-ed7b73287aa2-c000.snappy.parquet</td><td>part-00000-8eb329b6-3263-4959-ab26-ed7b73287aa2-c000.snappy.parquet</td><td>1329</td><td>1717536269000</td></tr><tr><td>dbfs:/FileStore/tables/delta/create_table/part-00000-90160768-fbc9-45d5-b561-a77a94bc322e-c000.snappy.parquet</td><td>part-00000-90160768-fbc9-45d5-b561-a77a94bc322e-c000.snappy.parquet</td><td>1301</td><td>1717536258000</td></tr><tr><td>dbfs:/FileStore/tables/delta/create_table/part-00000-be827dad-656a-41db-983c-4b0464654ba5-c000.snappy.parquet</td><td>part-00000-be827dad-656a-41db-983c-4b0464654ba5-c000.snappy.parquet</td><td>1300</td><td>1717536261000</td></tr></tbody></table></div>"
      ]
     },
     "metadata": {
      "application/vnd.databricks.v1+output": {
       "addedWidgets": {},
       "aggData": [],
       "aggError": "",
       "aggOverflow": false,
       "aggSchema": [],
       "aggSeriesLimitReached": false,
       "aggType": "",
       "arguments": {},
       "columnCustomDisplayInfos": {},
       "data": [
        [
         "dbfs:/FileStore/tables/delta/create_table/_delta_log/",
         "_delta_log/",
         0,
         0
        ],
        [
         "dbfs:/FileStore/tables/delta/create_table/part-00000-0652a969-0925-4406-a53c-73a79bf10105-c000.snappy.parquet",
         "part-00000-0652a969-0925-4406-a53c-73a79bf10105-c000.snappy.parquet",
         1301,
         1717533344000
        ],
        [
         "dbfs:/FileStore/tables/delta/create_table/part-00000-23bb2086-37b7-47fb-8403-7f075df5d984-c000.snappy.parquet",
         "part-00000-23bb2086-37b7-47fb-8403-7f075df5d984-c000.snappy.parquet",
         1308,
         1717536250000
        ],
        [
         "dbfs:/FileStore/tables/delta/create_table/part-00000-3fa73c01-89cb-4a7b-a9c5-f0f5382e9a3e-c000.snappy.parquet",
         "part-00000-3fa73c01-89cb-4a7b-a9c5-f0f5382e9a3e-c000.snappy.parquet",
         1310,
         1717534516000
        ],
        [
         "dbfs:/FileStore/tables/delta/create_table/part-00000-54e5463a-104d-47a7-921c-60a256bc7502-c000.snappy.parquet",
         "part-00000-54e5463a-104d-47a7-921c-60a256bc7502-c000.snappy.parquet",
         1322,
         1717536254000
        ],
        [
         "dbfs:/FileStore/tables/delta/create_table/part-00000-8eb329b6-3263-4959-ab26-ed7b73287aa2-c000.snappy.parquet",
         "part-00000-8eb329b6-3263-4959-ab26-ed7b73287aa2-c000.snappy.parquet",
         1329,
         1717536269000
        ],
        [
         "dbfs:/FileStore/tables/delta/create_table/part-00000-90160768-fbc9-45d5-b561-a77a94bc322e-c000.snappy.parquet",
         "part-00000-90160768-fbc9-45d5-b561-a77a94bc322e-c000.snappy.parquet",
         1301,
         1717536258000
        ],
        [
         "dbfs:/FileStore/tables/delta/create_table/part-00000-be827dad-656a-41db-983c-4b0464654ba5-c000.snappy.parquet",
         "part-00000-be827dad-656a-41db-983c-4b0464654ba5-c000.snappy.parquet",
         1300,
         1717536261000
        ]
       ],
       "datasetInfos": [],
       "dbfsResultPath": null,
       "isJsonSchema": true,
       "metadata": {
        "isDbfsCommandResult": false
       },
       "overflow": false,
       "plotOptions": {
        "customPlotOptions": {},
        "displayType": "table",
        "pivotAggregation": null,
        "pivotColumns": null,
        "xColumns": null,
        "yColumns": null
       },
       "removedWidgets": [],
       "schema": [
        {
         "metadata": "{}",
         "name": "path",
         "type": "\"string\""
        },
        {
         "metadata": "{}",
         "name": "name",
         "type": "\"string\""
        },
        {
         "metadata": "{}",
         "name": "size",
         "type": "\"long\""
        },
        {
         "metadata": "{}",
         "name": "modificationTime",
         "type": "\"long\""
        }
       ],
       "type": "table"
      }
     },
     "output_type": "display_data"
    }
   ],
   "source": [
    "%fs\n",
    "ls /FileStore/tables/delta/create_table/"
   ]
  },
  {
   "cell_type": "code",
   "execution_count": 0,
   "metadata": {
    "application/vnd.databricks.v1+cell": {
     "cellMetadata": {
      "byteLimit": 2048000,
      "rowLimit": 10000
     },
     "inputWidgets": {},
     "nuid": "90f620c7-d7e7-4a88-89a4-30903c9512bd",
     "showTitle": false,
     "title": ""
    }
   },
   "outputs": [
    {
     "output_type": "display_data",
     "data": {
      "text/html": [
       "<style scoped>\n",
       "  .table-result-container {\n",
       "    max-height: 300px;\n",
       "    overflow: auto;\n",
       "  }\n",
       "  table, th, td {\n",
       "    border: 1px solid black;\n",
       "    border-collapse: collapse;\n",
       "  }\n",
       "  th, td {\n",
       "    padding: 5px;\n",
       "  }\n",
       "  th {\n",
       "    text-align: left;\n",
       "  }\n",
       "</style><div class='table-result-container'><table class='table-result'><thead style='background-color: white'><tr><th>path</th><th>name</th><th>size</th><th>modificationTime</th></tr></thead><tbody><tr><td>dbfs:/FileStore/tables/delta/create_table/_delta_log/.s3-optimization-0</td><td>.s3-optimization-0</td><td>0</td><td>1717524454000</td></tr><tr><td>dbfs:/FileStore/tables/delta/create_table/_delta_log/.s3-optimization-1</td><td>.s3-optimization-1</td><td>0</td><td>1717524454000</td></tr><tr><td>dbfs:/FileStore/tables/delta/create_table/_delta_log/.s3-optimization-2</td><td>.s3-optimization-2</td><td>0</td><td>1717524454000</td></tr><tr><td>dbfs:/FileStore/tables/delta/create_table/_delta_log/00000000000000000000.crc</td><td>00000000000000000000.crc</td><td>2235</td><td>1717524476000</td></tr><tr><td>dbfs:/FileStore/tables/delta/create_table/_delta_log/00000000000000000000.json</td><td>00000000000000000000.json</td><td>1255</td><td>1717524454000</td></tr><tr><td>dbfs:/FileStore/tables/delta/create_table/_delta_log/00000000000000000001.crc</td><td>00000000000000000001.crc</td><td>2144</td><td>1717525322000</td></tr><tr><td>dbfs:/FileStore/tables/delta/create_table/_delta_log/00000000000000000001.json</td><td>00000000000000000001.json</td><td>1149</td><td>1717525318000</td></tr><tr><td>dbfs:/FileStore/tables/delta/create_table/_delta_log/00000000000000000002.crc</td><td>00000000000000000002.crc</td><td>2094</td><td>1717527099000</td></tr><tr><td>dbfs:/FileStore/tables/delta/create_table/_delta_log/00000000000000000002.json</td><td>00000000000000000002.json</td><td>1049</td><td>1717527096000</td></tr><tr><td>dbfs:/FileStore/tables/delta/create_table/_delta_log/00000000000000000003.crc</td><td>00000000000000000003.crc</td><td>2108</td><td>1717527627000</td></tr><tr><td>dbfs:/FileStore/tables/delta/create_table/_delta_log/00000000000000000003.json</td><td>00000000000000000003.json</td><td>1049</td><td>1717527622000</td></tr><tr><td>dbfs:/FileStore/tables/delta/create_table/_delta_log/00000000000000000004.crc</td><td>00000000000000000004.crc</td><td>2695</td><td>1717533347000</td></tr><tr><td>dbfs:/FileStore/tables/delta/create_table/_delta_log/00000000000000000004.json</td><td>00000000000000000004.json</td><td>1108</td><td>1717533344000</td></tr><tr><td>dbfs:/FileStore/tables/delta/create_table/_delta_log/00000000000000000005.crc</td><td>00000000000000000005.crc</td><td>3281</td><td>1717534520000</td></tr><tr><td>dbfs:/FileStore/tables/delta/create_table/_delta_log/00000000000000000005.json</td><td>00000000000000000005.json</td><td>1112</td><td>1717534517000</td></tr><tr><td>dbfs:/FileStore/tables/delta/create_table/_delta_log/00000000000000000006.crc</td><td>00000000000000000006.crc</td><td>2699</td><td>1717534982000</td></tr><tr><td>dbfs:/FileStore/tables/delta/create_table/_delta_log/00000000000000000006.json</td><td>00000000000000000006.json</td><td>1111</td><td>1717534978000</td></tr><tr><td>dbfs:/FileStore/tables/delta/create_table/_delta_log/00000000000000000007.crc</td><td>00000000000000000007.crc</td><td>3283</td><td>1717536253000</td></tr><tr><td>dbfs:/FileStore/tables/delta/create_table/_delta_log/00000000000000000007.json</td><td>00000000000000000007.json</td><td>1110</td><td>1717536250000</td></tr><tr><td>dbfs:/FileStore/tables/delta/create_table/_delta_log/00000000000000000008.crc</td><td>00000000000000000008.crc</td><td>3871</td><td>1717536257000</td></tr><tr><td>dbfs:/FileStore/tables/delta/create_table/_delta_log/00000000000000000008.json</td><td>00000000000000000008.json</td><td>1114</td><td>1717536254000</td></tr><tr><td>dbfs:/FileStore/tables/delta/create_table/_delta_log/00000000000000000009.crc</td><td>00000000000000000009.crc</td><td>4453</td><td>1717536260000</td></tr><tr><td>dbfs:/FileStore/tables/delta/create_table/_delta_log/00000000000000000009.json</td><td>00000000000000000009.json</td><td>1108</td><td>1717536258000</td></tr><tr><td>dbfs:/FileStore/tables/delta/create_table/_delta_log/00000000000000000010.checkpoint.parquet</td><td>00000000000000000010.checkpoint.parquet</td><td>21042</td><td>1717536265000</td></tr><tr><td>dbfs:/FileStore/tables/delta/create_table/_delta_log/00000000000000000010.crc</td><td>00000000000000000010.crc</td><td>5035</td><td>1717536264000</td></tr><tr><td>dbfs:/FileStore/tables/delta/create_table/_delta_log/00000000000000000010.json</td><td>00000000000000000010.json</td><td>1108</td><td>1717536261000</td></tr><tr><td>dbfs:/FileStore/tables/delta/create_table/_delta_log/00000000000000000011.crc</td><td>00000000000000000011.crc</td><td>5625</td><td>1717536272000</td></tr><tr><td>dbfs:/FileStore/tables/delta/create_table/_delta_log/00000000000000000011.json</td><td>00000000000000000011.json</td><td>1117</td><td>1717536269000</td></tr><tr><td>dbfs:/FileStore/tables/delta/create_table/_delta_log/00000000000000000012.crc</td><td>00000000000000000012.crc</td><td>5043</td><td>1717536302000</td></tr><tr><td>dbfs:/FileStore/tables/delta/create_table/_delta_log/00000000000000000012.json</td><td>00000000000000000012.json</td><td>1113</td><td>1717536298000</td></tr><tr><td>dbfs:/FileStore/tables/delta/create_table/_delta_log/_last_checkpoint</td><td>_last_checkpoint</td><td>5463</td><td>1717536265000</td></tr></tbody></table></div>"
      ]
     },
     "metadata": {
      "application/vnd.databricks.v1+output": {
       "addedWidgets": {},
       "aggData": [],
       "aggError": "",
       "aggOverflow": false,
       "aggSchema": [],
       "aggSeriesLimitReached": false,
       "aggType": "",
       "arguments": {},
       "columnCustomDisplayInfos": {},
       "data": [
        [
         "dbfs:/FileStore/tables/delta/create_table/_delta_log/.s3-optimization-0",
         ".s3-optimization-0",
         0,
         1717524454000
        ],
        [
         "dbfs:/FileStore/tables/delta/create_table/_delta_log/.s3-optimization-1",
         ".s3-optimization-1",
         0,
         1717524454000
        ],
        [
         "dbfs:/FileStore/tables/delta/create_table/_delta_log/.s3-optimization-2",
         ".s3-optimization-2",
         0,
         1717524454000
        ],
        [
         "dbfs:/FileStore/tables/delta/create_table/_delta_log/00000000000000000000.crc",
         "00000000000000000000.crc",
         2235,
         1717524476000
        ],
        [
         "dbfs:/FileStore/tables/delta/create_table/_delta_log/00000000000000000000.json",
         "00000000000000000000.json",
         1255,
         1717524454000
        ],
        [
         "dbfs:/FileStore/tables/delta/create_table/_delta_log/00000000000000000001.crc",
         "00000000000000000001.crc",
         2144,
         1717525322000
        ],
        [
         "dbfs:/FileStore/tables/delta/create_table/_delta_log/00000000000000000001.json",
         "00000000000000000001.json",
         1149,
         1717525318000
        ],
        [
         "dbfs:/FileStore/tables/delta/create_table/_delta_log/00000000000000000002.crc",
         "00000000000000000002.crc",
         2094,
         1717527099000
        ],
        [
         "dbfs:/FileStore/tables/delta/create_table/_delta_log/00000000000000000002.json",
         "00000000000000000002.json",
         1049,
         1717527096000
        ],
        [
         "dbfs:/FileStore/tables/delta/create_table/_delta_log/00000000000000000003.crc",
         "00000000000000000003.crc",
         2108,
         1717527627000
        ],
        [
         "dbfs:/FileStore/tables/delta/create_table/_delta_log/00000000000000000003.json",
         "00000000000000000003.json",
         1049,
         1717527622000
        ],
        [
         "dbfs:/FileStore/tables/delta/create_table/_delta_log/00000000000000000004.crc",
         "00000000000000000004.crc",
         2695,
         1717533347000
        ],
        [
         "dbfs:/FileStore/tables/delta/create_table/_delta_log/00000000000000000004.json",
         "00000000000000000004.json",
         1108,
         1717533344000
        ],
        [
         "dbfs:/FileStore/tables/delta/create_table/_delta_log/00000000000000000005.crc",
         "00000000000000000005.crc",
         3281,
         1717534520000
        ],
        [
         "dbfs:/FileStore/tables/delta/create_table/_delta_log/00000000000000000005.json",
         "00000000000000000005.json",
         1112,
         1717534517000
        ],
        [
         "dbfs:/FileStore/tables/delta/create_table/_delta_log/00000000000000000006.crc",
         "00000000000000000006.crc",
         2699,
         1717534982000
        ],
        [
         "dbfs:/FileStore/tables/delta/create_table/_delta_log/00000000000000000006.json",
         "00000000000000000006.json",
         1111,
         1717534978000
        ],
        [
         "dbfs:/FileStore/tables/delta/create_table/_delta_log/00000000000000000007.crc",
         "00000000000000000007.crc",
         3283,
         1717536253000
        ],
        [
         "dbfs:/FileStore/tables/delta/create_table/_delta_log/00000000000000000007.json",
         "00000000000000000007.json",
         1110,
         1717536250000
        ],
        [
         "dbfs:/FileStore/tables/delta/create_table/_delta_log/00000000000000000008.crc",
         "00000000000000000008.crc",
         3871,
         1717536257000
        ],
        [
         "dbfs:/FileStore/tables/delta/create_table/_delta_log/00000000000000000008.json",
         "00000000000000000008.json",
         1114,
         1717536254000
        ],
        [
         "dbfs:/FileStore/tables/delta/create_table/_delta_log/00000000000000000009.crc",
         "00000000000000000009.crc",
         4453,
         1717536260000
        ],
        [
         "dbfs:/FileStore/tables/delta/create_table/_delta_log/00000000000000000009.json",
         "00000000000000000009.json",
         1108,
         1717536258000
        ],
        [
         "dbfs:/FileStore/tables/delta/create_table/_delta_log/00000000000000000010.checkpoint.parquet",
         "00000000000000000010.checkpoint.parquet",
         21042,
         1717536265000
        ],
        [
         "dbfs:/FileStore/tables/delta/create_table/_delta_log/00000000000000000010.crc",
         "00000000000000000010.crc",
         5035,
         1717536264000
        ],
        [
         "dbfs:/FileStore/tables/delta/create_table/_delta_log/00000000000000000010.json",
         "00000000000000000010.json",
         1108,
         1717536261000
        ],
        [
         "dbfs:/FileStore/tables/delta/create_table/_delta_log/00000000000000000011.crc",
         "00000000000000000011.crc",
         5625,
         1717536272000
        ],
        [
         "dbfs:/FileStore/tables/delta/create_table/_delta_log/00000000000000000011.json",
         "00000000000000000011.json",
         1117,
         1717536269000
        ],
        [
         "dbfs:/FileStore/tables/delta/create_table/_delta_log/00000000000000000012.crc",
         "00000000000000000012.crc",
         5043,
         1717536302000
        ],
        [
         "dbfs:/FileStore/tables/delta/create_table/_delta_log/00000000000000000012.json",
         "00000000000000000012.json",
         1113,
         1717536298000
        ],
        [
         "dbfs:/FileStore/tables/delta/create_table/_delta_log/_last_checkpoint",
         "_last_checkpoint",
         5463,
         1717536265000
        ]
       ],
       "datasetInfos": [],
       "dbfsResultPath": null,
       "isJsonSchema": true,
       "metadata": {
        "isDbfsCommandResult": false
       },
       "overflow": false,
       "plotOptions": {
        "customPlotOptions": {},
        "displayType": "table",
        "pivotAggregation": null,
        "pivotColumns": null,
        "xColumns": null,
        "yColumns": null
       },
       "removedWidgets": [],
       "schema": [
        {
         "metadata": "{}",
         "name": "path",
         "type": "\"string\""
        },
        {
         "metadata": "{}",
         "name": "name",
         "type": "\"string\""
        },
        {
         "metadata": "{}",
         "name": "size",
         "type": "\"long\""
        },
        {
         "metadata": "{}",
         "name": "modificationTime",
         "type": "\"long\""
        }
       ],
       "type": "table"
      }
     },
     "output_type": "display_data"
    }
   ],
   "source": [
    "%fs\n",
    "ls /FileStore/tables/delta/create_table/_delta_log/"
   ]
  },
  {
   "cell_type": "code",
   "execution_count": 0,
   "metadata": {
    "application/vnd.databricks.v1+cell": {
     "cellMetadata": {
      "byteLimit": 2048000,
      "rowLimit": 10000
     },
     "inputWidgets": {},
     "nuid": "1204d174-d5e4-444b-bc74-41f767b02ab0",
     "showTitle": false,
     "title": ""
    }
   },
   "outputs": [
    {
     "output_type": "display_data",
     "data": {
      "text/html": [
       "<style scoped>\n",
       "  .ansiout {\n",
       "    display: block;\n",
       "    unicode-bidi: embed;\n",
       "    white-space: pre-wrap;\n",
       "    word-wrap: break-word;\n",
       "    word-break: break-all;\n",
       "    font-family: \"Menlo\", \"Monaco\", \"Consolas\", \"Ubuntu Mono\", \"Source Code Pro\", monospace;\n",
       "    font-size: 13px;\n",
       "    color: #555;\n",
       "    margin-left: 4px;\n",
       "    line-height: 19px;\n",
       "  }\n",
       "</style>\n",
       "<div class=\"ansiout\">{&quot;commitInfo&quot;:{&quot;timestamp&quot;:1717536297656,&quot;userId&quot;:&quot;8432478468657958&quot;,&quot;userName&quot;:&quot;paruchuri7781@gmail.com&quot;,&quot;operation&quot;:&quot;DELETE&quot;,&quot;operationParameters&quot;:{&quot;predicate&quot;:&quot;[\\&quot;(emp_id#10305 = 6)\\&quot;]&quot;},&quot;notebook&quot;:{&quot;notebookId&quot;:&quot;1388222939003274&quot;},&quot;clusterId&quot;:&quot;0604-175509-m5964sr3&quot;,&quot;readVersion&quot;:11,&quot;isolationLevel&quot;:&quot;WriteSerializable&quot;,&quot;isBlindAppend&quot;:false,&quot;operationMetrics&quot;:{&quot;numRemovedFiles&quot;:&quot;1&quot;,&quot;numRemovedBytes&quot;:&quot;1301&quot;,&quot;numCopiedRows&quot;:&quot;0&quot;,&quot;numDeletionVectorsAdded&quot;:&quot;0&quot;,&quot;numDeletionVectorsRemoved&quot;:&quot;0&quot;,&quot;numAddedChangeFiles&quot;:&quot;0&quot;,&quot;executionTimeMs&quot;:&quot;2570&quot;,&quot;numDeletedRows&quot;:&quot;1&quot;,&quot;scanTimeMs&quot;:&quot;1840&quot;,&quot;numAddedFiles&quot;:&quot;0&quot;,&quot;numAddedBytes&quot;:&quot;0&quot;,&quot;rewriteTimeMs&quot;:&quot;730&quot;},&quot;engineInfo&quot;:&quot;Databricks-Runtime/12.2.x-scala2.12&quot;,&quot;txnId&quot;:&quot;37b71b6a-352d-48e8-af7b-03b2f0577ae3&quot;}}\n",
       "{&quot;remove&quot;:{&quot;path&quot;:&quot;part-00000-90160768-fbc9-45d5-b561-a77a94bc322e-c000.snappy.parquet&quot;,&quot;deletionTimestamp&quot;:1717536297654,&quot;dataChange&quot;:true,&quot;extendedFileMetadata&quot;:true,&quot;partitionValues&quot;:{},&quot;size&quot;:1301,&quot;tags&quot;:{&quot;INSERTION_TIME&quot;:&quot;1717536258000000&quot;,&quot;MIN_INSERTION_TIME&quot;:&quot;1717536258000000&quot;,&quot;MAX_INSERTION_TIME&quot;:&quot;1717536258000000&quot;,&quot;OPTIMIZE_TARGET_SIZE&quot;:&quot;268435456&quot;}}}\n",
       "\n",
       "</div>"
      ]
     },
     "metadata": {
      "application/vnd.databricks.v1+output": {
       "addedWidgets": {},
       "arguments": {},
       "data": "<div class=\"ansiout\">{&quot;commitInfo&quot;:{&quot;timestamp&quot;:1717536297656,&quot;userId&quot;:&quot;8432478468657958&quot;,&quot;userName&quot;:&quot;paruchuri7781@gmail.com&quot;,&quot;operation&quot;:&quot;DELETE&quot;,&quot;operationParameters&quot;:{&quot;predicate&quot;:&quot;[\\&quot;(emp_id#10305 = 6)\\&quot;]&quot;},&quot;notebook&quot;:{&quot;notebookId&quot;:&quot;1388222939003274&quot;},&quot;clusterId&quot;:&quot;0604-175509-m5964sr3&quot;,&quot;readVersion&quot;:11,&quot;isolationLevel&quot;:&quot;WriteSerializable&quot;,&quot;isBlindAppend&quot;:false,&quot;operationMetrics&quot;:{&quot;numRemovedFiles&quot;:&quot;1&quot;,&quot;numRemovedBytes&quot;:&quot;1301&quot;,&quot;numCopiedRows&quot;:&quot;0&quot;,&quot;numDeletionVectorsAdded&quot;:&quot;0&quot;,&quot;numDeletionVectorsRemoved&quot;:&quot;0&quot;,&quot;numAddedChangeFiles&quot;:&quot;0&quot;,&quot;executionTimeMs&quot;:&quot;2570&quot;,&quot;numDeletedRows&quot;:&quot;1&quot;,&quot;scanTimeMs&quot;:&quot;1840&quot;,&quot;numAddedFiles&quot;:&quot;0&quot;,&quot;numAddedBytes&quot;:&quot;0&quot;,&quot;rewriteTimeMs&quot;:&quot;730&quot;},&quot;engineInfo&quot;:&quot;Databricks-Runtime/12.2.x-scala2.12&quot;,&quot;txnId&quot;:&quot;37b71b6a-352d-48e8-af7b-03b2f0577ae3&quot;}}\n{&quot;remove&quot;:{&quot;path&quot;:&quot;part-00000-90160768-fbc9-45d5-b561-a77a94bc322e-c000.snappy.parquet&quot;,&quot;deletionTimestamp&quot;:1717536297654,&quot;dataChange&quot;:true,&quot;extendedFileMetadata&quot;:true,&quot;partitionValues&quot;:{},&quot;size&quot;:1301,&quot;tags&quot;:{&quot;INSERTION_TIME&quot;:&quot;1717536258000000&quot;,&quot;MIN_INSERTION_TIME&quot;:&quot;1717536258000000&quot;,&quot;MAX_INSERTION_TIME&quot;:&quot;1717536258000000&quot;,&quot;OPTIMIZE_TARGET_SIZE&quot;:&quot;268435456&quot;}}}\n\n</div>",
       "datasetInfos": [],
       "metadata": {
        "isDbfsCommandResult": false
       },
       "removedWidgets": [],
       "type": "html"
      }
     },
     "output_type": "display_data"
    }
   ],
   "source": [
    "%fs\n",
    "head /FileStore/tables/delta/create_table/_delta_log/00000000000000000012.json"
   ]
  },
  {
   "cell_type": "code",
   "execution_count": 0,
   "metadata": {
    "application/vnd.databricks.v1+cell": {
     "cellMetadata": {
      "byteLimit": 2048000,
      "rowLimit": 10000
     },
     "inputWidgets": {},
     "nuid": "d7c0d9b6-0f81-40be-8db4-4bd4015b498c",
     "showTitle": false,
     "title": ""
    }
   },
   "outputs": [
    {
     "output_type": "display_data",
     "data": {
      "text/html": [
       "<style scoped>\n",
       "  .table-result-container {\n",
       "    max-height: 300px;\n",
       "    overflow: auto;\n",
       "  }\n",
       "  table, th, td {\n",
       "    border: 1px solid black;\n",
       "    border-collapse: collapse;\n",
       "  }\n",
       "  th, td {\n",
       "    padding: 5px;\n",
       "  }\n",
       "  th {\n",
       "    text-align: left;\n",
       "  }\n",
       "</style><div class='table-result-container'><table class='table-result'><thead style='background-color: white'><tr><th>txn</th><th>add</th><th>remove</th><th>metaData</th><th>protocol</th><th>rowIdHighWaterMark</th></tr></thead><tbody><tr><td>null</td><td>null</td><td>null</td><td>null</td><td>List(1, 2, null, null)</td><td>null</td></tr><tr><td>null</td><td>null</td><td>null</td><td>List(1c996daf-f6ac-4644-a420-4bc672c31c2c, null, null, List(parquet, Map()), {\"type\":\"struct\",\"fields\":[{\"name\":\"emp_id\",\"type\":\"integer\",\"nullable\":true,\"metadata\":{}},{\"name\":\"emp_name\",\"type\":\"string\",\"nullable\":true,\"metadata\":{}},{\"name\":\"sal\",\"type\":\"integer\",\"nullable\":true,\"metadata\":{}},{\"name\":\"dept\",\"type\":\"string\",\"nullable\":true,\"metadata\":{}}]}, List(), Map(), 1717527620630)</td><td>null</td><td>null</td></tr><tr><td>null</td><td>null</td><td>List(part-00000-0652a969-0925-4406-a53c-73a79bf10105-c000.snappy.parquet, 1717534977306, false, true, Map(), 1301, null, null)</td><td>null</td><td>null</td><td>null</td></tr><tr><td>null</td><td>List(part-00000-23bb2086-37b7-47fb-8403-7f075df5d984-c000.snappy.parquet, Map(), 1308, 1717536250000, false, Map(INSERTION_TIME -> 1717536250000000, MIN_INSERTION_TIME -> 1717536250000000, MAX_INSERTION_TIME -> 1717536250000000, OPTIMIZE_TARGET_SIZE -> 268435456), null, null, {\"numRecords\":1,\"minValues\":{\"emp_id\":4,\"emp_name\":\"John\",\"sal\":30,\"dept\":\"manager\"},\"maxValues\":{\"emp_id\":4,\"emp_name\":\"John\",\"sal\":30,\"dept\":\"manager\"},\"nullCount\":{\"emp_id\":0,\"emp_name\":0,\"sal\":0,\"dept\":0}}, List(1, List(4, John, 30, manager), List(4, John, 30, manager), List(0, 0, 0, 0)))</td><td>null</td><td>null</td><td>null</td><td>null</td></tr><tr><td>null</td><td>List(part-00000-3fa73c01-89cb-4a7b-a9c5-f0f5382e9a3e-c000.snappy.parquet, Map(), 1310, 1717534516000, false, Map(INSERTION_TIME -> 1717534516000000, MIN_INSERTION_TIME -> 1717534516000000, MAX_INSERTION_TIME -> 1717534516000000, OPTIMIZE_TARGET_SIZE -> 268435456), null, null, {\"numRecords\":2,\"minValues\":{\"emp_id\":2,\"emp_name\":\"kusuma\",\"sal\":12,\"dept\":\"front_end\"},\"maxValues\":{\"emp_id\":3,\"emp_name\":\"sahithi\",\"sal\":14,\"dept\":\"hr\"},\"nullCount\":{\"emp_id\":0,\"emp_name\":0,\"sal\":0,\"dept\":0}}, List(2, List(2, kusuma, 12, front_end), List(3, sahithi, 14, hr), List(0, 0, 0, 0)))</td><td>null</td><td>null</td><td>null</td><td>null</td></tr><tr><td>null</td><td>List(part-00000-54e5463a-104d-47a7-921c-60a256bc7502-c000.snappy.parquet, Map(), 1322, 1717536254000, false, Map(INSERTION_TIME -> 1717536254000000, MIN_INSERTION_TIME -> 1717536254000000, MAX_INSERTION_TIME -> 1717536254000000, OPTIMIZE_TARGET_SIZE -> 268435456), null, null, {\"numRecords\":1,\"minValues\":{\"emp_id\":5,\"emp_name\":\"Jane\",\"sal\":25,\"dept\":\"developer\"},\"maxValues\":{\"emp_id\":5,\"emp_name\":\"Jane\",\"sal\":25,\"dept\":\"developer\"},\"nullCount\":{\"emp_id\":0,\"emp_name\":0,\"sal\":0,\"dept\":0}}, List(1, List(5, Jane, 25, developer), List(5, Jane, 25, developer), List(0, 0, 0, 0)))</td><td>null</td><td>null</td><td>null</td><td>null</td></tr><tr><td>null</td><td>List(part-00000-90160768-fbc9-45d5-b561-a77a94bc322e-c000.snappy.parquet, Map(), 1301, 1717536258000, false, Map(INSERTION_TIME -> 1717536258000000, MIN_INSERTION_TIME -> 1717536258000000, MAX_INSERTION_TIME -> 1717536258000000, OPTIMIZE_TARGET_SIZE -> 268435456), null, null, {\"numRecords\":1,\"minValues\":{\"emp_id\":6,\"emp_name\":\"Doe\",\"sal\":35,\"dept\":\"analyst\"},\"maxValues\":{\"emp_id\":6,\"emp_name\":\"Doe\",\"sal\":35,\"dept\":\"analyst\"},\"nullCount\":{\"emp_id\":0,\"emp_name\":0,\"sal\":0,\"dept\":0}}, List(1, List(6, Doe, 35, analyst), List(6, Doe, 35, analyst), List(0, 0, 0, 0)))</td><td>null</td><td>null</td><td>null</td><td>null</td></tr><tr><td>null</td><td>List(part-00000-be827dad-656a-41db-983c-4b0464654ba5-c000.snappy.parquet, Map(), 1300, 1717536261000, false, Map(INSERTION_TIME -> 1717536261000000, MIN_INSERTION_TIME -> 1717536261000000, MAX_INSERTION_TIME -> 1717536261000000, OPTIMIZE_TARGET_SIZE -> 268435456), null, null, {\"numRecords\":1,\"minValues\":{\"emp_id\":7,\"emp_name\":\"Smith\",\"sal\":28,\"dept\":\"sales\"},\"maxValues\":{\"emp_id\":7,\"emp_name\":\"Smith\",\"sal\":28,\"dept\":\"sales\"},\"nullCount\":{\"emp_id\":0,\"emp_name\":0,\"sal\":0,\"dept\":0}}, List(1, List(7, Smith, 28, sales), List(7, Smith, 28, sales), List(0, 0, 0, 0)))</td><td>null</td><td>null</td><td>null</td><td>null</td></tr></tbody></table></div>"
      ]
     },
     "metadata": {
      "application/vnd.databricks.v1+output": {
       "addedWidgets": {},
       "aggData": [],
       "aggError": "",
       "aggOverflow": false,
       "aggSchema": [],
       "aggSeriesLimitReached": false,
       "aggType": "",
       "arguments": {},
       "columnCustomDisplayInfos": {},
       "data": [
        [
         null,
         null,
         null,
         null,
         [
          1,
          2,
          null,
          null
         ],
         null
        ],
        [
         null,
         null,
         null,
         [
          "1c996daf-f6ac-4644-a420-4bc672c31c2c",
          null,
          null,
          [
           "parquet",
           {}
          ],
          "{\"type\":\"struct\",\"fields\":[{\"name\":\"emp_id\",\"type\":\"integer\",\"nullable\":true,\"metadata\":{}},{\"name\":\"emp_name\",\"type\":\"string\",\"nullable\":true,\"metadata\":{}},{\"name\":\"sal\",\"type\":\"integer\",\"nullable\":true,\"metadata\":{}},{\"name\":\"dept\",\"type\":\"string\",\"nullable\":true,\"metadata\":{}}]}",
          [],
          {},
          1717527620630
         ],
         null,
         null
        ],
        [
         null,
         null,
         [
          "part-00000-0652a969-0925-4406-a53c-73a79bf10105-c000.snappy.parquet",
          1717534977306,
          false,
          true,
          {},
          1301,
          null,
          null
         ],
         null,
         null,
         null
        ],
        [
         null,
         [
          "part-00000-23bb2086-37b7-47fb-8403-7f075df5d984-c000.snappy.parquet",
          {},
          1308,
          1717536250000,
          false,
          {
           "INSERTION_TIME": "1717536250000000",
           "MAX_INSERTION_TIME": "1717536250000000",
           "MIN_INSERTION_TIME": "1717536250000000",
           "OPTIMIZE_TARGET_SIZE": "268435456"
          },
          null,
          null,
          "{\"numRecords\":1,\"minValues\":{\"emp_id\":4,\"emp_name\":\"John\",\"sal\":30,\"dept\":\"manager\"},\"maxValues\":{\"emp_id\":4,\"emp_name\":\"John\",\"sal\":30,\"dept\":\"manager\"},\"nullCount\":{\"emp_id\":0,\"emp_name\":0,\"sal\":0,\"dept\":0}}",
          [
           1,
           [
            4,
            "John",
            30,
            "manager"
           ],
           [
            4,
            "John",
            30,
            "manager"
           ],
           [
            0,
            0,
            0,
            0
           ]
          ]
         ],
         null,
         null,
         null,
         null
        ],
        [
         null,
         [
          "part-00000-3fa73c01-89cb-4a7b-a9c5-f0f5382e9a3e-c000.snappy.parquet",
          {},
          1310,
          1717534516000,
          false,
          {
           "INSERTION_TIME": "1717534516000000",
           "MAX_INSERTION_TIME": "1717534516000000",
           "MIN_INSERTION_TIME": "1717534516000000",
           "OPTIMIZE_TARGET_SIZE": "268435456"
          },
          null,
          null,
          "{\"numRecords\":2,\"minValues\":{\"emp_id\":2,\"emp_name\":\"kusuma\",\"sal\":12,\"dept\":\"front_end\"},\"maxValues\":{\"emp_id\":3,\"emp_name\":\"sahithi\",\"sal\":14,\"dept\":\"hr\"},\"nullCount\":{\"emp_id\":0,\"emp_name\":0,\"sal\":0,\"dept\":0}}",
          [
           2,
           [
            2,
            "kusuma",
            12,
            "front_end"
           ],
           [
            3,
            "sahithi",
            14,
            "hr"
           ],
           [
            0,
            0,
            0,
            0
           ]
          ]
         ],
         null,
         null,
         null,
         null
        ],
        [
         null,
         [
          "part-00000-54e5463a-104d-47a7-921c-60a256bc7502-c000.snappy.parquet",
          {},
          1322,
          1717536254000,
          false,
          {
           "INSERTION_TIME": "1717536254000000",
           "MAX_INSERTION_TIME": "1717536254000000",
           "MIN_INSERTION_TIME": "1717536254000000",
           "OPTIMIZE_TARGET_SIZE": "268435456"
          },
          null,
          null,
          "{\"numRecords\":1,\"minValues\":{\"emp_id\":5,\"emp_name\":\"Jane\",\"sal\":25,\"dept\":\"developer\"},\"maxValues\":{\"emp_id\":5,\"emp_name\":\"Jane\",\"sal\":25,\"dept\":\"developer\"},\"nullCount\":{\"emp_id\":0,\"emp_name\":0,\"sal\":0,\"dept\":0}}",
          [
           1,
           [
            5,
            "Jane",
            25,
            "developer"
           ],
           [
            5,
            "Jane",
            25,
            "developer"
           ],
           [
            0,
            0,
            0,
            0
           ]
          ]
         ],
         null,
         null,
         null,
         null
        ],
        [
         null,
         [
          "part-00000-90160768-fbc9-45d5-b561-a77a94bc322e-c000.snappy.parquet",
          {},
          1301,
          1717536258000,
          false,
          {
           "INSERTION_TIME": "1717536258000000",
           "MAX_INSERTION_TIME": "1717536258000000",
           "MIN_INSERTION_TIME": "1717536258000000",
           "OPTIMIZE_TARGET_SIZE": "268435456"
          },
          null,
          null,
          "{\"numRecords\":1,\"minValues\":{\"emp_id\":6,\"emp_name\":\"Doe\",\"sal\":35,\"dept\":\"analyst\"},\"maxValues\":{\"emp_id\":6,\"emp_name\":\"Doe\",\"sal\":35,\"dept\":\"analyst\"},\"nullCount\":{\"emp_id\":0,\"emp_name\":0,\"sal\":0,\"dept\":0}}",
          [
           1,
           [
            6,
            "Doe",
            35,
            "analyst"
           ],
           [
            6,
            "Doe",
            35,
            "analyst"
           ],
           [
            0,
            0,
            0,
            0
           ]
          ]
         ],
         null,
         null,
         null,
         null
        ],
        [
         null,
         [
          "part-00000-be827dad-656a-41db-983c-4b0464654ba5-c000.snappy.parquet",
          {},
          1300,
          1717536261000,
          false,
          {
           "INSERTION_TIME": "1717536261000000",
           "MAX_INSERTION_TIME": "1717536261000000",
           "MIN_INSERTION_TIME": "1717536261000000",
           "OPTIMIZE_TARGET_SIZE": "268435456"
          },
          null,
          null,
          "{\"numRecords\":1,\"minValues\":{\"emp_id\":7,\"emp_name\":\"Smith\",\"sal\":28,\"dept\":\"sales\"},\"maxValues\":{\"emp_id\":7,\"emp_name\":\"Smith\",\"sal\":28,\"dept\":\"sales\"},\"nullCount\":{\"emp_id\":0,\"emp_name\":0,\"sal\":0,\"dept\":0}}",
          [
           1,
           [
            7,
            "Smith",
            28,
            "sales"
           ],
           [
            7,
            "Smith",
            28,
            "sales"
           ],
           [
            0,
            0,
            0,
            0
           ]
          ]
         ],
         null,
         null,
         null,
         null
        ]
       ],
       "datasetInfos": [],
       "dbfsResultPath": null,
       "isJsonSchema": true,
       "metadata": {},
       "overflow": false,
       "plotOptions": {
        "customPlotOptions": {},
        "displayType": "table",
        "pivotAggregation": null,
        "pivotColumns": null,
        "xColumns": null,
        "yColumns": null
       },
       "removedWidgets": [],
       "schema": [
        {
         "metadata": "{}",
         "name": "txn",
         "type": "{\"type\":\"struct\",\"fields\":[{\"name\":\"appId\",\"type\":\"string\",\"nullable\":true,\"metadata\":{}},{\"name\":\"version\",\"type\":\"long\",\"nullable\":true,\"metadata\":{}},{\"name\":\"lastUpdated\",\"type\":\"long\",\"nullable\":true,\"metadata\":{}}]}"
        },
        {
         "metadata": "{}",
         "name": "add",
         "type": "{\"type\":\"struct\",\"fields\":[{\"name\":\"path\",\"type\":\"string\",\"nullable\":true,\"metadata\":{}},{\"name\":\"partitionValues\",\"type\":{\"type\":\"map\",\"keyType\":\"string\",\"valueType\":\"string\",\"valueContainsNull\":true},\"nullable\":true,\"metadata\":{}},{\"name\":\"size\",\"type\":\"long\",\"nullable\":true,\"metadata\":{}},{\"name\":\"modificationTime\",\"type\":\"long\",\"nullable\":true,\"metadata\":{}},{\"name\":\"dataChange\",\"type\":\"boolean\",\"nullable\":true,\"metadata\":{}},{\"name\":\"tags\",\"type\":{\"type\":\"map\",\"keyType\":\"string\",\"valueType\":\"string\",\"valueContainsNull\":true},\"nullable\":true,\"metadata\":{}},{\"name\":\"deletionVector\",\"type\":{\"type\":\"struct\",\"fields\":[{\"name\":\"storageType\",\"type\":\"string\",\"nullable\":true,\"metadata\":{}},{\"name\":\"pathOrInlineDv\",\"type\":\"string\",\"nullable\":true,\"metadata\":{}},{\"name\":\"offset\",\"type\":\"integer\",\"nullable\":true,\"metadata\":{}},{\"name\":\"sizeInBytes\",\"type\":\"integer\",\"nullable\":true,\"metadata\":{}},{\"name\":\"cardinality\",\"type\":\"long\",\"nullable\":true,\"metadata\":{}}]},\"nullable\":true,\"metadata\":{}},{\"name\":\"baseRowId\",\"type\":\"long\",\"nullable\":true,\"metadata\":{}},{\"name\":\"stats\",\"type\":\"string\",\"nullable\":true,\"metadata\":{}},{\"name\":\"stats_parsed\",\"type\":{\"type\":\"struct\",\"fields\":[{\"name\":\"numRecords\",\"type\":\"long\",\"nullable\":true,\"metadata\":{}},{\"name\":\"minValues\",\"type\":{\"type\":\"struct\",\"fields\":[{\"name\":\"emp_id\",\"type\":\"integer\",\"nullable\":true,\"metadata\":{}},{\"name\":\"emp_name\",\"type\":\"string\",\"nullable\":true,\"metadata\":{}},{\"name\":\"sal\",\"type\":\"integer\",\"nullable\":true,\"metadata\":{}},{\"name\":\"dept\",\"type\":\"string\",\"nullable\":true,\"metadata\":{}}]},\"nullable\":true,\"metadata\":{}},{\"name\":\"maxValues\",\"type\":{\"type\":\"struct\",\"fields\":[{\"name\":\"emp_id\",\"type\":\"integer\",\"nullable\":true,\"metadata\":{}},{\"name\":\"emp_name\",\"type\":\"string\",\"nullable\":true,\"metadata\":{}},{\"name\":\"sal\",\"type\":\"integer\",\"nullable\":true,\"metadata\":{}},{\"name\":\"dept\",\"type\":\"string\",\"nullable\":true,\"metadata\":{}}]},\"nullable\":true,\"metadata\":{}},{\"name\":\"nullCount\",\"type\":{\"type\":\"struct\",\"fields\":[{\"name\":\"emp_id\",\"type\":\"long\",\"nullable\":true,\"metadata\":{}},{\"name\":\"emp_name\",\"type\":\"long\",\"nullable\":true,\"metadata\":{}},{\"name\":\"sal\",\"type\":\"long\",\"nullable\":true,\"metadata\":{}},{\"name\":\"dept\",\"type\":\"long\",\"nullable\":true,\"metadata\":{}}]},\"nullable\":true,\"metadata\":{}}]},\"nullable\":true,\"metadata\":{}}]}"
        },
        {
         "metadata": "{}",
         "name": "remove",
         "type": "{\"type\":\"struct\",\"fields\":[{\"name\":\"path\",\"type\":\"string\",\"nullable\":true,\"metadata\":{}},{\"name\":\"deletionTimestamp\",\"type\":\"long\",\"nullable\":true,\"metadata\":{}},{\"name\":\"dataChange\",\"type\":\"boolean\",\"nullable\":true,\"metadata\":{}},{\"name\":\"extendedFileMetadata\",\"type\":\"boolean\",\"nullable\":true,\"metadata\":{}},{\"name\":\"partitionValues\",\"type\":{\"type\":\"map\",\"keyType\":\"string\",\"valueType\":\"string\",\"valueContainsNull\":true},\"nullable\":true,\"metadata\":{}},{\"name\":\"size\",\"type\":\"long\",\"nullable\":true,\"metadata\":{}},{\"name\":\"deletionVector\",\"type\":{\"type\":\"struct\",\"fields\":[{\"name\":\"storageType\",\"type\":\"string\",\"nullable\":true,\"metadata\":{}},{\"name\":\"pathOrInlineDv\",\"type\":\"string\",\"nullable\":true,\"metadata\":{}},{\"name\":\"offset\",\"type\":\"integer\",\"nullable\":true,\"metadata\":{}},{\"name\":\"sizeInBytes\",\"type\":\"integer\",\"nullable\":true,\"metadata\":{}},{\"name\":\"cardinality\",\"type\":\"long\",\"nullable\":true,\"metadata\":{}}]},\"nullable\":true,\"metadata\":{}},{\"name\":\"baseRowId\",\"type\":\"long\",\"nullable\":true,\"metadata\":{}}]}"
        },
        {
         "metadata": "{}",
         "name": "metaData",
         "type": "{\"type\":\"struct\",\"fields\":[{\"name\":\"id\",\"type\":\"string\",\"nullable\":true,\"metadata\":{}},{\"name\":\"name\",\"type\":\"string\",\"nullable\":true,\"metadata\":{}},{\"name\":\"description\",\"type\":\"string\",\"nullable\":true,\"metadata\":{}},{\"name\":\"format\",\"type\":{\"type\":\"struct\",\"fields\":[{\"name\":\"provider\",\"type\":\"string\",\"nullable\":true,\"metadata\":{}},{\"name\":\"options\",\"type\":{\"type\":\"map\",\"keyType\":\"string\",\"valueType\":\"string\",\"valueContainsNull\":true},\"nullable\":true,\"metadata\":{}}]},\"nullable\":true,\"metadata\":{}},{\"name\":\"schemaString\",\"type\":\"string\",\"nullable\":true,\"metadata\":{}},{\"name\":\"partitionColumns\",\"type\":{\"type\":\"array\",\"elementType\":\"string\",\"containsNull\":true},\"nullable\":true,\"metadata\":{}},{\"name\":\"configuration\",\"type\":{\"type\":\"map\",\"keyType\":\"string\",\"valueType\":\"string\",\"valueContainsNull\":true},\"nullable\":true,\"metadata\":{}},{\"name\":\"createdTime\",\"type\":\"long\",\"nullable\":true,\"metadata\":{}}]}"
        },
        {
         "metadata": "{}",
         "name": "protocol",
         "type": "{\"type\":\"struct\",\"fields\":[{\"name\":\"minReaderVersion\",\"type\":\"integer\",\"nullable\":true,\"metadata\":{}},{\"name\":\"minWriterVersion\",\"type\":\"integer\",\"nullable\":true,\"metadata\":{}},{\"name\":\"readerFeatures\",\"type\":{\"type\":\"array\",\"elementType\":\"string\",\"containsNull\":true},\"nullable\":true,\"metadata\":{}},{\"name\":\"writerFeatures\",\"type\":{\"type\":\"array\",\"elementType\":\"string\",\"containsNull\":true},\"nullable\":true,\"metadata\":{}}]}"
        },
        {
         "metadata": "{}",
         "name": "rowIdHighWaterMark",
         "type": "{\"type\":\"struct\",\"fields\":[{\"name\":\"value\",\"type\":\"long\",\"nullable\":true,\"metadata\":{}}]}"
        }
       ],
       "type": "table"
      }
     },
     "output_type": "display_data"
    }
   ],
   "source": [
    "display(spark.read.format(\"parquet\").load('/FileStore/tables/delta/create_table/_delta_log/00000000000000000010.checkpoint.parquet'))"
   ]
  },
  {
   "cell_type": "code",
   "execution_count": 0,
   "metadata": {
    "application/vnd.databricks.v1+cell": {
     "cellMetadata": {
      "byteLimit": 2048000,
      "implicitDf": true,
      "rowLimit": 10000
     },
     "inputWidgets": {},
     "nuid": "f79cdb3d-8250-41a4-a0bb-19565f7775a0",
     "showTitle": false,
     "title": ""
    }
   },
   "outputs": [
    {
     "output_type": "display_data",
     "data": {
      "text/html": [
       "<style scoped>\n",
       "  .table-result-container {\n",
       "    max-height: 300px;\n",
       "    overflow: auto;\n",
       "  }\n",
       "  table, th, td {\n",
       "    border: 1px solid black;\n",
       "    border-collapse: collapse;\n",
       "  }\n",
       "  th, td {\n",
       "    padding: 5px;\n",
       "  }\n",
       "  th {\n",
       "    text-align: left;\n",
       "  }\n",
       "</style><div class='table-result-container'><table class='table-result'><thead style='background-color: white'><tr><th>num_affected_rows</th></tr></thead><tbody><tr><td>1</td></tr></tbody></table></div>"
      ]
     },
     "metadata": {
      "application/vnd.databricks.v1+output": {
       "addedWidgets": {},
       "aggData": [],
       "aggError": "",
       "aggOverflow": false,
       "aggSchema": [],
       "aggSeriesLimitReached": false,
       "aggType": "",
       "arguments": {},
       "columnCustomDisplayInfos": {},
       "data": [
        [
         1
        ]
       ],
       "datasetInfos": [],
       "dbfsResultPath": null,
       "isJsonSchema": true,
       "metadata": {},
       "overflow": false,
       "plotOptions": {
        "customPlotOptions": {},
        "displayType": "table",
        "pivotAggregation": null,
        "pivotColumns": null,
        "xColumns": null,
        "yColumns": null
       },
       "removedWidgets": [],
       "schema": [
        {
         "metadata": "{}",
         "name": "num_affected_rows",
         "type": "\"long\""
        }
       ],
       "type": "table"
      }
     },
     "output_type": "display_data"
    }
   ],
   "source": [
    "%sql\n",
    "update employee_demo\n",
    "set emp_name=\"var_sahi\"\n",
    "where emp_id=4"
   ]
  },
  {
   "cell_type": "code",
   "execution_count": 0,
   "metadata": {
    "application/vnd.databricks.v1+cell": {
     "cellMetadata": {
      "byteLimit": 2048000,
      "implicitDf": true,
      "rowLimit": 10000
     },
     "inputWidgets": {},
     "nuid": "1fd7347f-d148-4bd5-ba54-ec6c5c4b2662",
     "showTitle": false,
     "title": ""
    }
   },
   "outputs": [
    {
     "output_type": "display_data",
     "data": {
      "text/html": [
       "<style scoped>\n",
       "  .table-result-container {\n",
       "    max-height: 300px;\n",
       "    overflow: auto;\n",
       "  }\n",
       "  table, th, td {\n",
       "    border: 1px solid black;\n",
       "    border-collapse: collapse;\n",
       "  }\n",
       "  th, td {\n",
       "    padding: 5px;\n",
       "  }\n",
       "  th {\n",
       "    text-align: left;\n",
       "  }\n",
       "</style><div class='table-result-container'><table class='table-result'><thead style='background-color: white'><tr><th>emp_id</th><th>emp_name</th><th>sal</th><th>dept</th></tr></thead><tbody><tr><td>4</td><td>var_sahi</td><td>30</td><td>manager</td></tr><tr><td>8</td><td>Emily</td><td>32</td><td>marketing</td></tr><tr><td>5</td><td>Jane</td><td>25</td><td>developer</td></tr><tr><td>2</td><td>sahithi</td><td>14</td><td>hr</td></tr><tr><td>3</td><td>kusuma</td><td>12</td><td>front_end</td></tr><tr><td>7</td><td>Smith</td><td>28</td><td>sales</td></tr></tbody></table></div>"
      ]
     },
     "metadata": {
      "application/vnd.databricks.v1+output": {
       "addedWidgets": {},
       "aggData": [],
       "aggError": "",
       "aggOverflow": false,
       "aggSchema": [],
       "aggSeriesLimitReached": false,
       "aggType": "",
       "arguments": {},
       "columnCustomDisplayInfos": {},
       "data": [
        [
         4,
         "var_sahi",
         30,
         "manager"
        ],
        [
         8,
         "Emily",
         32,
         "marketing"
        ],
        [
         5,
         "Jane",
         25,
         "developer"
        ],
        [
         2,
         "sahithi",
         14,
         "hr"
        ],
        [
         3,
         "kusuma",
         12,
         "front_end"
        ],
        [
         7,
         "Smith",
         28,
         "sales"
        ]
       ],
       "datasetInfos": [],
       "dbfsResultPath": null,
       "isJsonSchema": true,
       "metadata": {},
       "overflow": false,
       "plotOptions": {
        "customPlotOptions": {},
        "displayType": "table",
        "pivotAggregation": null,
        "pivotColumns": null,
        "xColumns": null,
        "yColumns": null
       },
       "removedWidgets": [],
       "schema": [
        {
         "metadata": "{}",
         "name": "emp_id",
         "type": "\"integer\""
        },
        {
         "metadata": "{}",
         "name": "emp_name",
         "type": "\"string\""
        },
        {
         "metadata": "{}",
         "name": "sal",
         "type": "\"integer\""
        },
        {
         "metadata": "{}",
         "name": "dept",
         "type": "\"string\""
        }
       ],
       "type": "table"
      }
     },
     "output_type": "display_data"
    }
   ],
   "source": [
    "%sql \n",
    "\n",
    "select * from employee_demo"
   ]
  },
  {
   "cell_type": "code",
   "execution_count": 0,
   "metadata": {
    "application/vnd.databricks.v1+cell": {
     "cellMetadata": {
      "byteLimit": 2048000,
      "rowLimit": 10000
     },
     "inputWidgets": {},
     "nuid": "c123c0c0-07d6-4d21-9192-737649eacc5a",
     "showTitle": false,
     "title": ""
    }
   },
   "outputs": [
    {
     "output_type": "display_data",
     "data": {
      "text/html": [
       "<style scoped>\n",
       "  .table-result-container {\n",
       "    max-height: 300px;\n",
       "    overflow: auto;\n",
       "  }\n",
       "  table, th, td {\n",
       "    border: 1px solid black;\n",
       "    border-collapse: collapse;\n",
       "  }\n",
       "  th, td {\n",
       "    padding: 5px;\n",
       "  }\n",
       "  th {\n",
       "    text-align: left;\n",
       "  }\n",
       "</style><div class='table-result-container'><table class='table-result'><thead style='background-color: white'><tr><th>path</th><th>name</th><th>size</th><th>modificationTime</th></tr></thead><tbody><tr><td>dbfs:/FileStore/tables/delta/create_table/_delta_log/</td><td>_delta_log/</td><td>0</td><td>0</td></tr><tr><td>dbfs:/FileStore/tables/delta/create_table/part-00000-0652a969-0925-4406-a53c-73a79bf10105-c000.snappy.parquet</td><td>part-00000-0652a969-0925-4406-a53c-73a79bf10105-c000.snappy.parquet</td><td>1301</td><td>1717533344000</td></tr><tr><td>dbfs:/FileStore/tables/delta/create_table/part-00000-23bb2086-37b7-47fb-8403-7f075df5d984-c000.snappy.parquet</td><td>part-00000-23bb2086-37b7-47fb-8403-7f075df5d984-c000.snappy.parquet</td><td>1308</td><td>1717536250000</td></tr><tr><td>dbfs:/FileStore/tables/delta/create_table/part-00000-3fa73c01-89cb-4a7b-a9c5-f0f5382e9a3e-c000.snappy.parquet</td><td>part-00000-3fa73c01-89cb-4a7b-a9c5-f0f5382e9a3e-c000.snappy.parquet</td><td>1310</td><td>1717534516000</td></tr><tr><td>dbfs:/FileStore/tables/delta/create_table/part-00000-54e5463a-104d-47a7-921c-60a256bc7502-c000.snappy.parquet</td><td>part-00000-54e5463a-104d-47a7-921c-60a256bc7502-c000.snappy.parquet</td><td>1322</td><td>1717536254000</td></tr><tr><td>dbfs:/FileStore/tables/delta/create_table/part-00000-87ab6de7-d030-4b89-a009-8d2c9c18c8a8-c000.snappy.parquet</td><td>part-00000-87ab6de7-d030-4b89-a009-8d2c9c18c8a8-c000.snappy.parquet</td><td>1336</td><td>1717537039000</td></tr><tr><td>dbfs:/FileStore/tables/delta/create_table/part-00000-8eb329b6-3263-4959-ab26-ed7b73287aa2-c000.snappy.parquet</td><td>part-00000-8eb329b6-3263-4959-ab26-ed7b73287aa2-c000.snappy.parquet</td><td>1329</td><td>1717536269000</td></tr><tr><td>dbfs:/FileStore/tables/delta/create_table/part-00000-90160768-fbc9-45d5-b561-a77a94bc322e-c000.snappy.parquet</td><td>part-00000-90160768-fbc9-45d5-b561-a77a94bc322e-c000.snappy.parquet</td><td>1301</td><td>1717536258000</td></tr><tr><td>dbfs:/FileStore/tables/delta/create_table/part-00000-be827dad-656a-41db-983c-4b0464654ba5-c000.snappy.parquet</td><td>part-00000-be827dad-656a-41db-983c-4b0464654ba5-c000.snappy.parquet</td><td>1300</td><td>1717536261000</td></tr></tbody></table></div>"
      ]
     },
     "metadata": {
      "application/vnd.databricks.v1+output": {
       "addedWidgets": {},
       "aggData": [],
       "aggError": "",
       "aggOverflow": false,
       "aggSchema": [],
       "aggSeriesLimitReached": false,
       "aggType": "",
       "arguments": {},
       "columnCustomDisplayInfos": {},
       "data": [
        [
         "dbfs:/FileStore/tables/delta/create_table/_delta_log/",
         "_delta_log/",
         0,
         0
        ],
        [
         "dbfs:/FileStore/tables/delta/create_table/part-00000-0652a969-0925-4406-a53c-73a79bf10105-c000.snappy.parquet",
         "part-00000-0652a969-0925-4406-a53c-73a79bf10105-c000.snappy.parquet",
         1301,
         1717533344000
        ],
        [
         "dbfs:/FileStore/tables/delta/create_table/part-00000-23bb2086-37b7-47fb-8403-7f075df5d984-c000.snappy.parquet",
         "part-00000-23bb2086-37b7-47fb-8403-7f075df5d984-c000.snappy.parquet",
         1308,
         1717536250000
        ],
        [
         "dbfs:/FileStore/tables/delta/create_table/part-00000-3fa73c01-89cb-4a7b-a9c5-f0f5382e9a3e-c000.snappy.parquet",
         "part-00000-3fa73c01-89cb-4a7b-a9c5-f0f5382e9a3e-c000.snappy.parquet",
         1310,
         1717534516000
        ],
        [
         "dbfs:/FileStore/tables/delta/create_table/part-00000-54e5463a-104d-47a7-921c-60a256bc7502-c000.snappy.parquet",
         "part-00000-54e5463a-104d-47a7-921c-60a256bc7502-c000.snappy.parquet",
         1322,
         1717536254000
        ],
        [
         "dbfs:/FileStore/tables/delta/create_table/part-00000-87ab6de7-d030-4b89-a009-8d2c9c18c8a8-c000.snappy.parquet",
         "part-00000-87ab6de7-d030-4b89-a009-8d2c9c18c8a8-c000.snappy.parquet",
         1336,
         1717537039000
        ],
        [
         "dbfs:/FileStore/tables/delta/create_table/part-00000-8eb329b6-3263-4959-ab26-ed7b73287aa2-c000.snappy.parquet",
         "part-00000-8eb329b6-3263-4959-ab26-ed7b73287aa2-c000.snappy.parquet",
         1329,
         1717536269000
        ],
        [
         "dbfs:/FileStore/tables/delta/create_table/part-00000-90160768-fbc9-45d5-b561-a77a94bc322e-c000.snappy.parquet",
         "part-00000-90160768-fbc9-45d5-b561-a77a94bc322e-c000.snappy.parquet",
         1301,
         1717536258000
        ],
        [
         "dbfs:/FileStore/tables/delta/create_table/part-00000-be827dad-656a-41db-983c-4b0464654ba5-c000.snappy.parquet",
         "part-00000-be827dad-656a-41db-983c-4b0464654ba5-c000.snappy.parquet",
         1300,
         1717536261000
        ]
       ],
       "datasetInfos": [],
       "dbfsResultPath": null,
       "isJsonSchema": true,
       "metadata": {
        "isDbfsCommandResult": false
       },
       "overflow": false,
       "plotOptions": {
        "customPlotOptions": {},
        "displayType": "table",
        "pivotAggregation": null,
        "pivotColumns": null,
        "xColumns": null,
        "yColumns": null
       },
       "removedWidgets": [],
       "schema": [
        {
         "metadata": "{}",
         "name": "path",
         "type": "\"string\""
        },
        {
         "metadata": "{}",
         "name": "name",
         "type": "\"string\""
        },
        {
         "metadata": "{}",
         "name": "size",
         "type": "\"long\""
        },
        {
         "metadata": "{}",
         "name": "modificationTime",
         "type": "\"long\""
        }
       ],
       "type": "table"
      }
     },
     "output_type": "display_data"
    }
   ],
   "source": [
    "%fs\n",
    "ls /FileStore/tables/delta/create_table/"
   ]
  },
  {
   "cell_type": "code",
   "execution_count": 0,
   "metadata": {
    "application/vnd.databricks.v1+cell": {
     "cellMetadata": {
      "byteLimit": 2048000,
      "rowLimit": 10000
     },
     "inputWidgets": {},
     "nuid": "5078f1f1-ec63-40e1-b027-695974acba1a",
     "showTitle": false,
     "title": ""
    }
   },
   "outputs": [
    {
     "output_type": "display_data",
     "data": {
      "text/html": [
       "<style scoped>\n",
       "  .table-result-container {\n",
       "    max-height: 300px;\n",
       "    overflow: auto;\n",
       "  }\n",
       "  table, th, td {\n",
       "    border: 1px solid black;\n",
       "    border-collapse: collapse;\n",
       "  }\n",
       "  th, td {\n",
       "    padding: 5px;\n",
       "  }\n",
       "  th {\n",
       "    text-align: left;\n",
       "  }\n",
       "</style><div class='table-result-container'><table class='table-result'><thead style='background-color: white'><tr><th>path</th><th>name</th><th>size</th><th>modificationTime</th></tr></thead><tbody><tr><td>dbfs:/FileStore/tables/delta/create_table/_delta_log/.s3-optimization-0</td><td>.s3-optimization-0</td><td>0</td><td>1717524454000</td></tr><tr><td>dbfs:/FileStore/tables/delta/create_table/_delta_log/.s3-optimization-1</td><td>.s3-optimization-1</td><td>0</td><td>1717524454000</td></tr><tr><td>dbfs:/FileStore/tables/delta/create_table/_delta_log/.s3-optimization-2</td><td>.s3-optimization-2</td><td>0</td><td>1717524454000</td></tr><tr><td>dbfs:/FileStore/tables/delta/create_table/_delta_log/00000000000000000000.crc</td><td>00000000000000000000.crc</td><td>2235</td><td>1717524476000</td></tr><tr><td>dbfs:/FileStore/tables/delta/create_table/_delta_log/00000000000000000000.json</td><td>00000000000000000000.json</td><td>1255</td><td>1717524454000</td></tr><tr><td>dbfs:/FileStore/tables/delta/create_table/_delta_log/00000000000000000001.crc</td><td>00000000000000000001.crc</td><td>2144</td><td>1717525322000</td></tr><tr><td>dbfs:/FileStore/tables/delta/create_table/_delta_log/00000000000000000001.json</td><td>00000000000000000001.json</td><td>1149</td><td>1717525318000</td></tr><tr><td>dbfs:/FileStore/tables/delta/create_table/_delta_log/00000000000000000002.crc</td><td>00000000000000000002.crc</td><td>2094</td><td>1717527099000</td></tr><tr><td>dbfs:/FileStore/tables/delta/create_table/_delta_log/00000000000000000002.json</td><td>00000000000000000002.json</td><td>1049</td><td>1717527096000</td></tr><tr><td>dbfs:/FileStore/tables/delta/create_table/_delta_log/00000000000000000003.crc</td><td>00000000000000000003.crc</td><td>2108</td><td>1717527627000</td></tr><tr><td>dbfs:/FileStore/tables/delta/create_table/_delta_log/00000000000000000003.json</td><td>00000000000000000003.json</td><td>1049</td><td>1717527622000</td></tr><tr><td>dbfs:/FileStore/tables/delta/create_table/_delta_log/00000000000000000004.crc</td><td>00000000000000000004.crc</td><td>2695</td><td>1717533347000</td></tr><tr><td>dbfs:/FileStore/tables/delta/create_table/_delta_log/00000000000000000004.json</td><td>00000000000000000004.json</td><td>1108</td><td>1717533344000</td></tr><tr><td>dbfs:/FileStore/tables/delta/create_table/_delta_log/00000000000000000005.crc</td><td>00000000000000000005.crc</td><td>3281</td><td>1717534520000</td></tr><tr><td>dbfs:/FileStore/tables/delta/create_table/_delta_log/00000000000000000005.json</td><td>00000000000000000005.json</td><td>1112</td><td>1717534517000</td></tr><tr><td>dbfs:/FileStore/tables/delta/create_table/_delta_log/00000000000000000006.crc</td><td>00000000000000000006.crc</td><td>2699</td><td>1717534982000</td></tr><tr><td>dbfs:/FileStore/tables/delta/create_table/_delta_log/00000000000000000006.json</td><td>00000000000000000006.json</td><td>1111</td><td>1717534978000</td></tr><tr><td>dbfs:/FileStore/tables/delta/create_table/_delta_log/00000000000000000007.crc</td><td>00000000000000000007.crc</td><td>3283</td><td>1717536253000</td></tr><tr><td>dbfs:/FileStore/tables/delta/create_table/_delta_log/00000000000000000007.json</td><td>00000000000000000007.json</td><td>1110</td><td>1717536250000</td></tr><tr><td>dbfs:/FileStore/tables/delta/create_table/_delta_log/00000000000000000008.crc</td><td>00000000000000000008.crc</td><td>3871</td><td>1717536257000</td></tr><tr><td>dbfs:/FileStore/tables/delta/create_table/_delta_log/00000000000000000008.json</td><td>00000000000000000008.json</td><td>1114</td><td>1717536254000</td></tr><tr><td>dbfs:/FileStore/tables/delta/create_table/_delta_log/00000000000000000009.crc</td><td>00000000000000000009.crc</td><td>4453</td><td>1717536260000</td></tr><tr><td>dbfs:/FileStore/tables/delta/create_table/_delta_log/00000000000000000009.json</td><td>00000000000000000009.json</td><td>1108</td><td>1717536258000</td></tr><tr><td>dbfs:/FileStore/tables/delta/create_table/_delta_log/00000000000000000010.checkpoint.parquet</td><td>00000000000000000010.checkpoint.parquet</td><td>21042</td><td>1717536265000</td></tr><tr><td>dbfs:/FileStore/tables/delta/create_table/_delta_log/00000000000000000010.crc</td><td>00000000000000000010.crc</td><td>5035</td><td>1717536264000</td></tr><tr><td>dbfs:/FileStore/tables/delta/create_table/_delta_log/00000000000000000010.json</td><td>00000000000000000010.json</td><td>1108</td><td>1717536261000</td></tr><tr><td>dbfs:/FileStore/tables/delta/create_table/_delta_log/00000000000000000011.crc</td><td>00000000000000000011.crc</td><td>5625</td><td>1717536272000</td></tr><tr><td>dbfs:/FileStore/tables/delta/create_table/_delta_log/00000000000000000011.json</td><td>00000000000000000011.json</td><td>1117</td><td>1717536269000</td></tr><tr><td>dbfs:/FileStore/tables/delta/create_table/_delta_log/00000000000000000012.crc</td><td>00000000000000000012.crc</td><td>5043</td><td>1717536302000</td></tr><tr><td>dbfs:/FileStore/tables/delta/create_table/_delta_log/00000000000000000012.json</td><td>00000000000000000012.json</td><td>1113</td><td>1717536298000</td></tr><tr><td>dbfs:/FileStore/tables/delta/create_table/_delta_log/00000000000000000013.crc</td><td>00000000000000000013.crc</td><td>5051</td><td>1717537043000</td></tr><tr><td>dbfs:/FileStore/tables/delta/create_table/_delta_log/00000000000000000013.json</td><td>00000000000000000013.json</td><td>1716</td><td>1717537039000</td></tr><tr><td>dbfs:/FileStore/tables/delta/create_table/_delta_log/_last_checkpoint</td><td>_last_checkpoint</td><td>5463</td><td>1717536265000</td></tr></tbody></table></div>"
      ]
     },
     "metadata": {
      "application/vnd.databricks.v1+output": {
       "addedWidgets": {},
       "aggData": [],
       "aggError": "",
       "aggOverflow": false,
       "aggSchema": [],
       "aggSeriesLimitReached": false,
       "aggType": "",
       "arguments": {},
       "columnCustomDisplayInfos": {},
       "data": [
        [
         "dbfs:/FileStore/tables/delta/create_table/_delta_log/.s3-optimization-0",
         ".s3-optimization-0",
         0,
         1717524454000
        ],
        [
         "dbfs:/FileStore/tables/delta/create_table/_delta_log/.s3-optimization-1",
         ".s3-optimization-1",
         0,
         1717524454000
        ],
        [
         "dbfs:/FileStore/tables/delta/create_table/_delta_log/.s3-optimization-2",
         ".s3-optimization-2",
         0,
         1717524454000
        ],
        [
         "dbfs:/FileStore/tables/delta/create_table/_delta_log/00000000000000000000.crc",
         "00000000000000000000.crc",
         2235,
         1717524476000
        ],
        [
         "dbfs:/FileStore/tables/delta/create_table/_delta_log/00000000000000000000.json",
         "00000000000000000000.json",
         1255,
         1717524454000
        ],
        [
         "dbfs:/FileStore/tables/delta/create_table/_delta_log/00000000000000000001.crc",
         "00000000000000000001.crc",
         2144,
         1717525322000
        ],
        [
         "dbfs:/FileStore/tables/delta/create_table/_delta_log/00000000000000000001.json",
         "00000000000000000001.json",
         1149,
         1717525318000
        ],
        [
         "dbfs:/FileStore/tables/delta/create_table/_delta_log/00000000000000000002.crc",
         "00000000000000000002.crc",
         2094,
         1717527099000
        ],
        [
         "dbfs:/FileStore/tables/delta/create_table/_delta_log/00000000000000000002.json",
         "00000000000000000002.json",
         1049,
         1717527096000
        ],
        [
         "dbfs:/FileStore/tables/delta/create_table/_delta_log/00000000000000000003.crc",
         "00000000000000000003.crc",
         2108,
         1717527627000
        ],
        [
         "dbfs:/FileStore/tables/delta/create_table/_delta_log/00000000000000000003.json",
         "00000000000000000003.json",
         1049,
         1717527622000
        ],
        [
         "dbfs:/FileStore/tables/delta/create_table/_delta_log/00000000000000000004.crc",
         "00000000000000000004.crc",
         2695,
         1717533347000
        ],
        [
         "dbfs:/FileStore/tables/delta/create_table/_delta_log/00000000000000000004.json",
         "00000000000000000004.json",
         1108,
         1717533344000
        ],
        [
         "dbfs:/FileStore/tables/delta/create_table/_delta_log/00000000000000000005.crc",
         "00000000000000000005.crc",
         3281,
         1717534520000
        ],
        [
         "dbfs:/FileStore/tables/delta/create_table/_delta_log/00000000000000000005.json",
         "00000000000000000005.json",
         1112,
         1717534517000
        ],
        [
         "dbfs:/FileStore/tables/delta/create_table/_delta_log/00000000000000000006.crc",
         "00000000000000000006.crc",
         2699,
         1717534982000
        ],
        [
         "dbfs:/FileStore/tables/delta/create_table/_delta_log/00000000000000000006.json",
         "00000000000000000006.json",
         1111,
         1717534978000
        ],
        [
         "dbfs:/FileStore/tables/delta/create_table/_delta_log/00000000000000000007.crc",
         "00000000000000000007.crc",
         3283,
         1717536253000
        ],
        [
         "dbfs:/FileStore/tables/delta/create_table/_delta_log/00000000000000000007.json",
         "00000000000000000007.json",
         1110,
         1717536250000
        ],
        [
         "dbfs:/FileStore/tables/delta/create_table/_delta_log/00000000000000000008.crc",
         "00000000000000000008.crc",
         3871,
         1717536257000
        ],
        [
         "dbfs:/FileStore/tables/delta/create_table/_delta_log/00000000000000000008.json",
         "00000000000000000008.json",
         1114,
         1717536254000
        ],
        [
         "dbfs:/FileStore/tables/delta/create_table/_delta_log/00000000000000000009.crc",
         "00000000000000000009.crc",
         4453,
         1717536260000
        ],
        [
         "dbfs:/FileStore/tables/delta/create_table/_delta_log/00000000000000000009.json",
         "00000000000000000009.json",
         1108,
         1717536258000
        ],
        [
         "dbfs:/FileStore/tables/delta/create_table/_delta_log/00000000000000000010.checkpoint.parquet",
         "00000000000000000010.checkpoint.parquet",
         21042,
         1717536265000
        ],
        [
         "dbfs:/FileStore/tables/delta/create_table/_delta_log/00000000000000000010.crc",
         "00000000000000000010.crc",
         5035,
         1717536264000
        ],
        [
         "dbfs:/FileStore/tables/delta/create_table/_delta_log/00000000000000000010.json",
         "00000000000000000010.json",
         1108,
         1717536261000
        ],
        [
         "dbfs:/FileStore/tables/delta/create_table/_delta_log/00000000000000000011.crc",
         "00000000000000000011.crc",
         5625,
         1717536272000
        ],
        [
         "dbfs:/FileStore/tables/delta/create_table/_delta_log/00000000000000000011.json",
         "00000000000000000011.json",
         1117,
         1717536269000
        ],
        [
         "dbfs:/FileStore/tables/delta/create_table/_delta_log/00000000000000000012.crc",
         "00000000000000000012.crc",
         5043,
         1717536302000
        ],
        [
         "dbfs:/FileStore/tables/delta/create_table/_delta_log/00000000000000000012.json",
         "00000000000000000012.json",
         1113,
         1717536298000
        ],
        [
         "dbfs:/FileStore/tables/delta/create_table/_delta_log/00000000000000000013.crc",
         "00000000000000000013.crc",
         5051,
         1717537043000
        ],
        [
         "dbfs:/FileStore/tables/delta/create_table/_delta_log/00000000000000000013.json",
         "00000000000000000013.json",
         1716,
         1717537039000
        ],
        [
         "dbfs:/FileStore/tables/delta/create_table/_delta_log/_last_checkpoint",
         "_last_checkpoint",
         5463,
         1717536265000
        ]
       ],
       "datasetInfos": [],
       "dbfsResultPath": null,
       "isJsonSchema": true,
       "metadata": {
        "isDbfsCommandResult": false
       },
       "overflow": false,
       "plotOptions": {
        "customPlotOptions": {},
        "displayType": "table",
        "pivotAggregation": null,
        "pivotColumns": null,
        "xColumns": null,
        "yColumns": null
       },
       "removedWidgets": [],
       "schema": [
        {
         "metadata": "{}",
         "name": "path",
         "type": "\"string\""
        },
        {
         "metadata": "{}",
         "name": "name",
         "type": "\"string\""
        },
        {
         "metadata": "{}",
         "name": "size",
         "type": "\"long\""
        },
        {
         "metadata": "{}",
         "name": "modificationTime",
         "type": "\"long\""
        }
       ],
       "type": "table"
      }
     },
     "output_type": "display_data"
    }
   ],
   "source": [
    "%fs\n",
    "ls /FileStore/tables/delta/create_table/_delta_log/"
   ]
  },
  {
   "cell_type": "code",
   "execution_count": 0,
   "metadata": {
    "application/vnd.databricks.v1+cell": {
     "cellMetadata": {
      "byteLimit": 2048000,
      "rowLimit": 10000
     },
     "inputWidgets": {},
     "nuid": "5fb8124a-e6a3-4320-803b-203c359a46e0",
     "showTitle": false,
     "title": ""
    }
   },
   "outputs": [
    {
     "output_type": "display_data",
     "data": {
      "text/html": [
       "<style scoped>\n",
       "  .ansiout {\n",
       "    display: block;\n",
       "    unicode-bidi: embed;\n",
       "    white-space: pre-wrap;\n",
       "    word-wrap: break-word;\n",
       "    word-break: break-all;\n",
       "    font-family: \"Menlo\", \"Monaco\", \"Consolas\", \"Ubuntu Mono\", \"Source Code Pro\", monospace;\n",
       "    font-size: 13px;\n",
       "    color: #555;\n",
       "    margin-left: 4px;\n",
       "    line-height: 19px;\n",
       "  }\n",
       "</style>\n",
       "<div class=\"ansiout\">{&quot;commitInfo&quot;:{&quot;timestamp&quot;:1717537038777,&quot;userId&quot;:&quot;8432478468657958&quot;,&quot;userName&quot;:&quot;paruchuri7781@gmail.com&quot;,&quot;operation&quot;:&quot;UPDATE&quot;,&quot;operationParameters&quot;:{&quot;predicate&quot;:&quot;[\\&quot;(emp_id#11210 = 4)\\&quot;]&quot;},&quot;notebook&quot;:{&quot;notebookId&quot;:&quot;1388222939003274&quot;},&quot;clusterId&quot;:&quot;0604-175509-m5964sr3&quot;,&quot;readVersion&quot;:12,&quot;isolationLevel&quot;:&quot;WriteSerializable&quot;,&quot;isBlindAppend&quot;:false,&quot;operationMetrics&quot;:{&quot;numRemovedFiles&quot;:&quot;1&quot;,&quot;numRemovedBytes&quot;:&quot;1308&quot;,&quot;numCopiedRows&quot;:&quot;0&quot;,&quot;numDeletionVectorsAdded&quot;:&quot;0&quot;,&quot;numDeletionVectorsRemoved&quot;:&quot;0&quot;,&quot;numAddedChangeFiles&quot;:&quot;0&quot;,&quot;executionTimeMs&quot;:&quot;3083&quot;,&quot;scanTimeMs&quot;:&quot;1979&quot;,&quot;numAddedFiles&quot;:&quot;1&quot;,&quot;numUpdatedRows&quot;:&quot;1&quot;,&quot;numAddedBytes&quot;:&quot;1336&quot;,&quot;rewriteTimeMs&quot;:&quot;1103&quot;},&quot;engineInfo&quot;:&quot;Databricks-Runtime/12.2.x-scala2.12&quot;,&quot;txnId&quot;:&quot;5eb1f5f9-318c-4393-9a24-f7ae6f3f8ca7&quot;}}\n",
       "{&quot;remove&quot;:{&quot;path&quot;:&quot;part-00000-23bb2086-37b7-47fb-8403-7f075df5d984-c000.snappy.parquet&quot;,&quot;deletionTimestamp&quot;:1717537038771,&quot;dataChange&quot;:true,&quot;extendedFileMetadata&quot;:true,&quot;partitionValues&quot;:{},&quot;size&quot;:1308,&quot;tags&quot;:{&quot;INSERTION_TIME&quot;:&quot;1717536250000000&quot;,&quot;MIN_INSERTION_TIME&quot;:&quot;1717536250000000&quot;,&quot;MAX_INSERTION_TIME&quot;:&quot;1717536250000000&quot;,&quot;OPTIMIZE_TARGET_SIZE&quot;:&quot;268435456&quot;}}}\n",
       "{&quot;add&quot;:{&quot;path&quot;:&quot;part-00000-87ab6de7-d030-4b89-a009-8d2c9c18c8a8-c000.snappy.parquet&quot;,&quot;partitionValues&quot;:{},&quot;size&quot;:1336,&quot;modificationTime&quot;:1717537039000,&quot;dataChange&quot;:true,&quot;stats&quot;:&quot;{\\&quot;numRecords\\&quot;:1,\\&quot;minValues\\&quot;:{\\&quot;emp_id\\&quot;:4,\\&quot;emp_name\\&quot;:\\&quot;var_sahi\\&quot;,\\&quot;sal\\&quot;:30,\\&quot;dept\\&quot;:\\&quot;manager\\&quot;},\\&quot;maxValues\\&quot;:{\\&quot;emp_id\\&quot;:4,\\&quot;emp_name\\&quot;:\\&quot;var_sahi\\&quot;,\\&quot;sal\\&quot;:30,\\&quot;dept\\&quot;:\\&quot;manager\\&quot;},\\&quot;nullCount\\&quot;:{\\&quot;emp_id\\&quot;:0,\\&quot;emp_name\\&quot;:0,\\&quot;sal\\&quot;:0,\\&quot;dept\\&quot;:0}}&quot;,&quot;tags&quot;:{&quot;MAX_INSERTION_TIME&quot;:&quot;1717536250000000&quot;,&quot;INSERTION_TIME&quot;:&quot;1717536250000000&quot;,&quot;MIN_INSERTION_TIME&quot;:&quot;1717536250000000&quot;,&quot;OPTIMIZE_TARGET_SIZE&quot;:&quot;268435456&quot;}}}\n",
       "\n",
       "</div>"
      ]
     },
     "metadata": {
      "application/vnd.databricks.v1+output": {
       "addedWidgets": {},
       "arguments": {},
       "data": "<div class=\"ansiout\">{&quot;commitInfo&quot;:{&quot;timestamp&quot;:1717537038777,&quot;userId&quot;:&quot;8432478468657958&quot;,&quot;userName&quot;:&quot;paruchuri7781@gmail.com&quot;,&quot;operation&quot;:&quot;UPDATE&quot;,&quot;operationParameters&quot;:{&quot;predicate&quot;:&quot;[\\&quot;(emp_id#11210 = 4)\\&quot;]&quot;},&quot;notebook&quot;:{&quot;notebookId&quot;:&quot;1388222939003274&quot;},&quot;clusterId&quot;:&quot;0604-175509-m5964sr3&quot;,&quot;readVersion&quot;:12,&quot;isolationLevel&quot;:&quot;WriteSerializable&quot;,&quot;isBlindAppend&quot;:false,&quot;operationMetrics&quot;:{&quot;numRemovedFiles&quot;:&quot;1&quot;,&quot;numRemovedBytes&quot;:&quot;1308&quot;,&quot;numCopiedRows&quot;:&quot;0&quot;,&quot;numDeletionVectorsAdded&quot;:&quot;0&quot;,&quot;numDeletionVectorsRemoved&quot;:&quot;0&quot;,&quot;numAddedChangeFiles&quot;:&quot;0&quot;,&quot;executionTimeMs&quot;:&quot;3083&quot;,&quot;scanTimeMs&quot;:&quot;1979&quot;,&quot;numAddedFiles&quot;:&quot;1&quot;,&quot;numUpdatedRows&quot;:&quot;1&quot;,&quot;numAddedBytes&quot;:&quot;1336&quot;,&quot;rewriteTimeMs&quot;:&quot;1103&quot;},&quot;engineInfo&quot;:&quot;Databricks-Runtime/12.2.x-scala2.12&quot;,&quot;txnId&quot;:&quot;5eb1f5f9-318c-4393-9a24-f7ae6f3f8ca7&quot;}}\n{&quot;remove&quot;:{&quot;path&quot;:&quot;part-00000-23bb2086-37b7-47fb-8403-7f075df5d984-c000.snappy.parquet&quot;,&quot;deletionTimestamp&quot;:1717537038771,&quot;dataChange&quot;:true,&quot;extendedFileMetadata&quot;:true,&quot;partitionValues&quot;:{},&quot;size&quot;:1308,&quot;tags&quot;:{&quot;INSERTION_TIME&quot;:&quot;1717536250000000&quot;,&quot;MIN_INSERTION_TIME&quot;:&quot;1717536250000000&quot;,&quot;MAX_INSERTION_TIME&quot;:&quot;1717536250000000&quot;,&quot;OPTIMIZE_TARGET_SIZE&quot;:&quot;268435456&quot;}}}\n{&quot;add&quot;:{&quot;path&quot;:&quot;part-00000-87ab6de7-d030-4b89-a009-8d2c9c18c8a8-c000.snappy.parquet&quot;,&quot;partitionValues&quot;:{},&quot;size&quot;:1336,&quot;modificationTime&quot;:1717537039000,&quot;dataChange&quot;:true,&quot;stats&quot;:&quot;{\\&quot;numRecords\\&quot;:1,\\&quot;minValues\\&quot;:{\\&quot;emp_id\\&quot;:4,\\&quot;emp_name\\&quot;:\\&quot;var_sahi\\&quot;,\\&quot;sal\\&quot;:30,\\&quot;dept\\&quot;:\\&quot;manager\\&quot;},\\&quot;maxValues\\&quot;:{\\&quot;emp_id\\&quot;:4,\\&quot;emp_name\\&quot;:\\&quot;var_sahi\\&quot;,\\&quot;sal\\&quot;:30,\\&quot;dept\\&quot;:\\&quot;manager\\&quot;},\\&quot;nullCount\\&quot;:{\\&quot;emp_id\\&quot;:0,\\&quot;emp_name\\&quot;:0,\\&quot;sal\\&quot;:0,\\&quot;dept\\&quot;:0}}&quot;,&quot;tags&quot;:{&quot;MAX_INSERTION_TIME&quot;:&quot;1717536250000000&quot;,&quot;INSERTION_TIME&quot;:&quot;1717536250000000&quot;,&quot;MIN_INSERTION_TIME&quot;:&quot;1717536250000000&quot;,&quot;OPTIMIZE_TARGET_SIZE&quot;:&quot;268435456&quot;}}}\n\n</div>",
       "datasetInfos": [],
       "metadata": {
        "isDbfsCommandResult": false
       },
       "removedWidgets": [],
       "type": "html"
      }
     },
     "output_type": "display_data"
    }
   ],
   "source": [
    "%fs\n",
    "head /FileStore/tables/delta/create_table/_delta_log/00000000000000000013.json"
   ]
  },
  {
   "cell_type": "code",
   "execution_count": 0,
   "metadata": {
    "application/vnd.databricks.v1+cell": {
     "cellMetadata": {},
     "inputWidgets": {},
     "nuid": "5ecf3f10-380b-4910-a8e5-575d347da8b1",
     "showTitle": false,
     "title": ""
    }
   },
   "outputs": [],
   "source": []
  }
 ],
 "metadata": {
  "application/vnd.databricks.v1+notebook": {
   "dashboards": [],
   "environmentMetadata": null,
   "language": "python",
   "notebookMetadata": {
    "mostRecentlyExecutedCommandWithImplicitDF": {
     "commandId": 2888907159781133,
     "dataframes": [
      "_sqldf"
     ]
    },
    "pythonIndentUnit": 4
   },
   "notebookName": "1->Creating Delta Table 1",
   "widgets": {}
  }
 },
 "nbformat": 4,
 "nbformat_minor": 0
}
