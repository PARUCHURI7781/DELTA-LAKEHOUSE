{
 "cells": [
  {
   "cell_type": "code",
   "execution_count": 0,
   "metadata": {
    "application/vnd.databricks.v1+cell": {
     "cellMetadata": {
      "byteLimit": 2048000,
      "rowLimit": 10000
     },
     "inputWidgets": {},
     "nuid": "6c95f8ca-b222-44bd-940b-f2ddd7714d1d",
     "showTitle": false,
     "title": ""
    }
   },
   "outputs": [],
   "source": [
    "from pyspark.sql.functions import * \n",
    "\n",
    "from pyspark.sql.types import * \n",
    "\n",
    "from delta.tables import *"
   ]
  },
  {
   "cell_type": "code",
   "execution_count": 0,
   "metadata": {
    "application/vnd.databricks.v1+cell": {
     "cellMetadata": {
      "byteLimit": 2048000,
      "implicitDf": true,
      "rowLimit": 10000
     },
     "inputWidgets": {},
     "nuid": "c85e9547-34db-4474-a91a-aa7f54b8305a",
     "showTitle": false,
     "title": ""
    }
   },
   "outputs": [
    {
     "output_type": "display_data",
     "data": {
      "text/html": [
       "<style scoped>\n",
       "  .table-result-container {\n",
       "    max-height: 300px;\n",
       "    overflow: auto;\n",
       "  }\n",
       "  table, th, td {\n",
       "    border: 1px solid black;\n",
       "    border-collapse: collapse;\n",
       "  }\n",
       "  th, td {\n",
       "    padding: 5px;\n",
       "  }\n",
       "  th {\n",
       "    text-align: left;\n",
       "  }\n",
       "</style><div class='table-result-container'><table class='table-result'><thead style='background-color: white'><tr></tr></thead><tbody></tbody></table></div>"
      ]
     },
     "metadata": {
      "application/vnd.databricks.v1+output": {
       "addedWidgets": {},
       "aggData": [],
       "aggError": "",
       "aggOverflow": false,
       "aggSchema": [],
       "aggSeriesLimitReached": false,
       "aggType": "",
       "arguments": {},
       "columnCustomDisplayInfos": {},
       "data": [],
       "datasetInfos": [],
       "dbfsResultPath": null,
       "isJsonSchema": true,
       "metadata": {},
       "overflow": false,
       "plotOptions": {
        "customPlotOptions": {},
        "displayType": "table",
        "pivotAggregation": null,
        "pivotColumns": null,
        "xColumns": null,
        "yColumns": null
       },
       "removedWidgets": [],
       "schema": [],
       "type": "table"
      }
     },
     "output_type": "display_data"
    }
   ],
   "source": [
    "%sql\n",
    "CREATE or replace TABLE employees_practice (\n",
    "    EmployeeID INT,\n",
    "    FirstName STRING,\n",
    "    LastName STRING,\n",
    "    Department STRING,\n",
    "    Title STRING,\n",
    "    Salary DECIMAL(10,2),\n",
    "    EffectiveDate DATE,\n",
    "    EndDate DATE,\n",
    "    IsCurrent BOOLEAN\n",
    ")using delta \n",
    " location '/Filestore/tables/file_compaction'; "
   ]
  },
  {
   "cell_type": "code",
   "execution_count": 0,
   "metadata": {
    "application/vnd.databricks.v1+cell": {
     "cellMetadata": {
      "byteLimit": 2048000,
      "implicitDf": true,
      "rowLimit": 10000
     },
     "inputWidgets": {},
     "nuid": "9accb3ea-9dbf-453d-86c0-310622e3a3ae",
     "showTitle": false,
     "title": ""
    }
   },
   "outputs": [
    {
     "output_type": "display_data",
     "data": {
      "text/html": [
       "<style scoped>\n",
       "  .table-result-container {\n",
       "    max-height: 300px;\n",
       "    overflow: auto;\n",
       "  }\n",
       "  table, th, td {\n",
       "    border: 1px solid black;\n",
       "    border-collapse: collapse;\n",
       "  }\n",
       "  th, td {\n",
       "    padding: 5px;\n",
       "  }\n",
       "  th {\n",
       "    text-align: left;\n",
       "  }\n",
       "</style><div class='table-result-container'><table class='table-result'><thead style='background-color: white'><tr><th>num_affected_rows</th><th>num_inserted_rows</th></tr></thead><tbody><tr><td>3</td><td>3</td></tr></tbody></table></div>"
      ]
     },
     "metadata": {
      "application/vnd.databricks.v1+output": {
       "addedWidgets": {},
       "aggData": [],
       "aggError": "",
       "aggOverflow": false,
       "aggSchema": [],
       "aggSeriesLimitReached": false,
       "aggType": "",
       "arguments": {},
       "columnCustomDisplayInfos": {},
       "data": [
        [
         3,
         3
        ]
       ],
       "datasetInfos": [],
       "dbfsResultPath": null,
       "isJsonSchema": true,
       "metadata": {},
       "overflow": false,
       "plotOptions": {
        "customPlotOptions": {},
        "displayType": "table",
        "pivotAggregation": null,
        "pivotColumns": null,
        "xColumns": null,
        "yColumns": null
       },
       "removedWidgets": [],
       "schema": [
        {
         "metadata": "{}",
         "name": "num_affected_rows",
         "type": "\"long\""
        },
        {
         "metadata": "{}",
         "name": "num_inserted_rows",
         "type": "\"long\""
        }
       ],
       "type": "table"
      }
     },
     "output_type": "display_data"
    }
   ],
   "source": [
    "%sql\n",
    "\n",
    "INSERT INTO employees_practice (EmployeeID, FirstName, LastName, Department, Title, Salary, EffectiveDate, EndDate, IsCurrent)\n",
    "VALUES\n",
    "(1001, 'John', 'Doe', 'Engineering', 'Senior Engineer', 90000.00, '2023-01-01', NULL, True),\n",
    "(1002, 'Jane', 'Smith', 'Marketing', 'Manager', 75000.00, '2023-01-01', NULL, True),\n",
    "(1003, 'Emily', 'Jones', 'HR', 'Analyst', 65000.00, '2023-01-01', NULL, True);"
   ]
  },
  {
   "cell_type": "code",
   "execution_count": 0,
   "metadata": {
    "application/vnd.databricks.v1+cell": {
     "cellMetadata": {
      "byteLimit": 2048000,
      "rowLimit": 10000
     },
     "inputWidgets": {},
     "nuid": "0d004c8d-5d6b-4942-822f-166780cc65c5",
     "showTitle": false,
     "title": ""
    }
   },
   "outputs": [
    {
     "output_type": "display_data",
     "data": {
      "text/html": [
       "<style scoped>\n",
       "  .table-result-container {\n",
       "    max-height: 300px;\n",
       "    overflow: auto;\n",
       "  }\n",
       "  table, th, td {\n",
       "    border: 1px solid black;\n",
       "    border-collapse: collapse;\n",
       "  }\n",
       "  th, td {\n",
       "    padding: 5px;\n",
       "  }\n",
       "  th {\n",
       "    text-align: left;\n",
       "  }\n",
       "</style><div class='table-result-container'><table class='table-result'><thead style='background-color: white'><tr><th>path</th><th>name</th><th>size</th><th>modificationTime</th></tr></thead><tbody><tr><td>dbfs:/Filestore/tables/file_compaction/_delta_log/</td><td>_delta_log/</td><td>0</td><td>0</td></tr><tr><td>dbfs:/Filestore/tables/file_compaction/part-00000-76540935-60b8-4576-a072-2975f7b9fc69-c000.snappy.parquet</td><td>part-00000-76540935-60b8-4576-a072-2975f7b9fc69-c000.snappy.parquet</td><td>2668</td><td>1718041092000</td></tr></tbody></table></div>"
      ]
     },
     "metadata": {
      "application/vnd.databricks.v1+output": {
       "addedWidgets": {},
       "aggData": [],
       "aggError": "",
       "aggOverflow": false,
       "aggSchema": [],
       "aggSeriesLimitReached": false,
       "aggType": "",
       "arguments": {},
       "columnCustomDisplayInfos": {},
       "data": [
        [
         "dbfs:/Filestore/tables/file_compaction/_delta_log/",
         "_delta_log/",
         0,
         0
        ],
        [
         "dbfs:/Filestore/tables/file_compaction/part-00000-76540935-60b8-4576-a072-2975f7b9fc69-c000.snappy.parquet",
         "part-00000-76540935-60b8-4576-a072-2975f7b9fc69-c000.snappy.parquet",
         2668,
         1718041092000
        ]
       ],
       "datasetInfos": [],
       "dbfsResultPath": null,
       "isJsonSchema": true,
       "metadata": {
        "isDbfsCommandResult": false
       },
       "overflow": false,
       "plotOptions": {
        "customPlotOptions": {},
        "displayType": "table",
        "pivotAggregation": null,
        "pivotColumns": null,
        "xColumns": null,
        "yColumns": null
       },
       "removedWidgets": [],
       "schema": [
        {
         "metadata": "{}",
         "name": "path",
         "type": "\"string\""
        },
        {
         "metadata": "{}",
         "name": "name",
         "type": "\"string\""
        },
        {
         "metadata": "{}",
         "name": "size",
         "type": "\"long\""
        },
        {
         "metadata": "{}",
         "name": "modificationTime",
         "type": "\"long\""
        }
       ],
       "type": "table"
      }
     },
     "output_type": "display_data"
    }
   ],
   "source": [
    "%fs \n",
    "\n",
    "ls /Filestore/tables/file_compaction/"
   ]
  },
  {
   "cell_type": "code",
   "execution_count": 0,
   "metadata": {
    "application/vnd.databricks.v1+cell": {
     "cellMetadata": {
      "byteLimit": 2048000,
      "implicitDf": true,
      "rowLimit": 10000
     },
     "inputWidgets": {},
     "nuid": "99535b8d-7849-4f1b-907e-367e04104c89",
     "showTitle": false,
     "title": ""
    }
   },
   "outputs": [
    {
     "output_type": "display_data",
     "data": {
      "text/html": [
       "<style scoped>\n",
       "  .table-result-container {\n",
       "    max-height: 300px;\n",
       "    overflow: auto;\n",
       "  }\n",
       "  table, th, td {\n",
       "    border: 1px solid black;\n",
       "    border-collapse: collapse;\n",
       "  }\n",
       "  th, td {\n",
       "    padding: 5px;\n",
       "  }\n",
       "  th {\n",
       "    text-align: left;\n",
       "  }\n",
       "</style><div class='table-result-container'><table class='table-result'><thead style='background-color: white'><tr><th>num_affected_rows</th><th>num_inserted_rows</th></tr></thead><tbody><tr><td>1</td><td>1</td></tr></tbody></table></div>"
      ]
     },
     "metadata": {
      "application/vnd.databricks.v1+output": {
       "addedWidgets": {},
       "aggData": [],
       "aggError": "",
       "aggOverflow": false,
       "aggSchema": [],
       "aggSeriesLimitReached": false,
       "aggType": "",
       "arguments": {},
       "columnCustomDisplayInfos": {},
       "data": [
        [
         1,
         1
        ]
       ],
       "datasetInfos": [],
       "dbfsResultPath": null,
       "isJsonSchema": true,
       "metadata": {},
       "overflow": false,
       "plotOptions": {
        "customPlotOptions": {},
        "displayType": "table",
        "pivotAggregation": null,
        "pivotColumns": null,
        "xColumns": null,
        "yColumns": null
       },
       "removedWidgets": [],
       "schema": [
        {
         "metadata": "{}",
         "name": "num_affected_rows",
         "type": "\"long\""
        },
        {
         "metadata": "{}",
         "name": "num_inserted_rows",
         "type": "\"long\""
        }
       ],
       "type": "table"
      }
     },
     "output_type": "display_data"
    }
   ],
   "source": [
    "%sql\n",
    "INSERT INTO employees_practice (EmployeeID, FirstName, LastName, Department, Title, Salary, EffectiveDate, EndDate, IsCurrent)\n",
    "VALUES (1005, 'Rachel', 'Green', 'Finance', 'Accountant', 58000.00, '2023-01-01', NULL, True);\n",
    "INSERT INTO employees_practice (EmployeeID, FirstName, LastName, Department, Title, Salary, EffectiveDate, EndDate, IsCurrent)\n",
    "VALUES (1006, 'Ross', 'Geller', 'Science', 'Researcher', 76000.00, '2023-01-01', NULL, True);\n",
    "INSERT INTO employees_practice (EmployeeID, FirstName, LastName, Department, Title, Salary, EffectiveDate, EndDate, IsCurrent)\n",
    "VALUES(1007, 'Monica', 'Geller', 'Culinary', 'Chef', 62000.00, '2023-01-01', NULL, True);"
   ]
  },
  {
   "cell_type": "code",
   "execution_count": 0,
   "metadata": {
    "application/vnd.databricks.v1+cell": {
     "cellMetadata": {
      "byteLimit": 2048000,
      "rowLimit": 10000
     },
     "inputWidgets": {},
     "nuid": "30a5d163-bdac-4b91-a43b-5527ccc54280",
     "showTitle": false,
     "title": ""
    }
   },
   "outputs": [
    {
     "output_type": "display_data",
     "data": {
      "text/html": [
       "<style scoped>\n",
       "  .table-result-container {\n",
       "    max-height: 300px;\n",
       "    overflow: auto;\n",
       "  }\n",
       "  table, th, td {\n",
       "    border: 1px solid black;\n",
       "    border-collapse: collapse;\n",
       "  }\n",
       "  th, td {\n",
       "    padding: 5px;\n",
       "  }\n",
       "  th {\n",
       "    text-align: left;\n",
       "  }\n",
       "</style><div class='table-result-container'><table class='table-result'><thead style='background-color: white'><tr><th>path</th><th>name</th><th>size</th><th>modificationTime</th></tr></thead><tbody><tr><td>dbfs:/Filestore/tables/file_compaction/_delta_log/</td><td>_delta_log/</td><td>0</td><td>0</td></tr><tr><td>dbfs:/Filestore/tables/file_compaction/part-00000-19875b74-a7c8-47fa-9834-89755a6c3d1d-c000.snappy.parquet</td><td>part-00000-19875b74-a7c8-47fa-9834-89755a6c3d1d-c000.snappy.parquet</td><td>2586</td><td>1718041293000</td></tr><tr><td>dbfs:/Filestore/tables/file_compaction/part-00000-60ba79ab-b9ea-4a4e-bbb3-fb7ea63d0b46-c000.snappy.parquet</td><td>part-00000-60ba79ab-b9ea-4a4e-bbb3-fb7ea63d0b46-c000.snappy.parquet</td><td>2606</td><td>1718041286000</td></tr><tr><td>dbfs:/Filestore/tables/file_compaction/part-00000-76540935-60b8-4576-a072-2975f7b9fc69-c000.snappy.parquet</td><td>part-00000-76540935-60b8-4576-a072-2975f7b9fc69-c000.snappy.parquet</td><td>2668</td><td>1718041092000</td></tr><tr><td>dbfs:/Filestore/tables/file_compaction/part-00000-9f8d950e-65b2-4a2b-a64e-68e97b05f5f2-c000.snappy.parquet</td><td>part-00000-9f8d950e-65b2-4a2b-a64e-68e97b05f5f2-c000.snappy.parquet</td><td>2614</td><td>1718041280000</td></tr></tbody></table></div>"
      ]
     },
     "metadata": {
      "application/vnd.databricks.v1+output": {
       "addedWidgets": {},
       "aggData": [],
       "aggError": "",
       "aggOverflow": false,
       "aggSchema": [],
       "aggSeriesLimitReached": false,
       "aggType": "",
       "arguments": {},
       "columnCustomDisplayInfos": {},
       "data": [
        [
         "dbfs:/Filestore/tables/file_compaction/_delta_log/",
         "_delta_log/",
         0,
         0
        ],
        [
         "dbfs:/Filestore/tables/file_compaction/part-00000-19875b74-a7c8-47fa-9834-89755a6c3d1d-c000.snappy.parquet",
         "part-00000-19875b74-a7c8-47fa-9834-89755a6c3d1d-c000.snappy.parquet",
         2586,
         1718041293000
        ],
        [
         "dbfs:/Filestore/tables/file_compaction/part-00000-60ba79ab-b9ea-4a4e-bbb3-fb7ea63d0b46-c000.snappy.parquet",
         "part-00000-60ba79ab-b9ea-4a4e-bbb3-fb7ea63d0b46-c000.snappy.parquet",
         2606,
         1718041286000
        ],
        [
         "dbfs:/Filestore/tables/file_compaction/part-00000-76540935-60b8-4576-a072-2975f7b9fc69-c000.snappy.parquet",
         "part-00000-76540935-60b8-4576-a072-2975f7b9fc69-c000.snappy.parquet",
         2668,
         1718041092000
        ],
        [
         "dbfs:/Filestore/tables/file_compaction/part-00000-9f8d950e-65b2-4a2b-a64e-68e97b05f5f2-c000.snappy.parquet",
         "part-00000-9f8d950e-65b2-4a2b-a64e-68e97b05f5f2-c000.snappy.parquet",
         2614,
         1718041280000
        ]
       ],
       "datasetInfos": [],
       "dbfsResultPath": null,
       "isJsonSchema": true,
       "metadata": {
        "isDbfsCommandResult": false
       },
       "overflow": false,
       "plotOptions": {
        "customPlotOptions": {},
        "displayType": "table",
        "pivotAggregation": null,
        "pivotColumns": null,
        "xColumns": null,
        "yColumns": null
       },
       "removedWidgets": [],
       "schema": [
        {
         "metadata": "{}",
         "name": "path",
         "type": "\"string\""
        },
        {
         "metadata": "{}",
         "name": "name",
         "type": "\"string\""
        },
        {
         "metadata": "{}",
         "name": "size",
         "type": "\"long\""
        },
        {
         "metadata": "{}",
         "name": "modificationTime",
         "type": "\"long\""
        }
       ],
       "type": "table"
      }
     },
     "output_type": "display_data"
    }
   ],
   "source": [
    "%fs \n",
    "\n",
    "ls /Filestore/tables/file_compaction/"
   ]
  },
  {
   "cell_type": "code",
   "execution_count": 0,
   "metadata": {
    "application/vnd.databricks.v1+cell": {
     "cellMetadata": {
      "byteLimit": 2048000,
      "implicitDf": true,
      "rowLimit": 10000
     },
     "inputWidgets": {},
     "nuid": "ee1c00a3-9c56-4197-9433-3a74c6036f0f",
     "showTitle": false,
     "title": ""
    }
   },
   "outputs": [
    {
     "output_type": "display_data",
     "data": {
      "text/html": [
       "<style scoped>\n",
       "  .table-result-container {\n",
       "    max-height: 300px;\n",
       "    overflow: auto;\n",
       "  }\n",
       "  table, th, td {\n",
       "    border: 1px solid black;\n",
       "    border-collapse: collapse;\n",
       "  }\n",
       "  th, td {\n",
       "    padding: 5px;\n",
       "  }\n",
       "  th {\n",
       "    text-align: left;\n",
       "  }\n",
       "</style><div class='table-result-container'><table class='table-result'><thead style='background-color: white'><tr><th>num_affected_rows</th></tr></thead><tbody><tr><td>1</td></tr></tbody></table></div>"
      ]
     },
     "metadata": {
      "application/vnd.databricks.v1+output": {
       "addedWidgets": {},
       "aggData": [],
       "aggError": "",
       "aggOverflow": false,
       "aggSchema": [],
       "aggSeriesLimitReached": false,
       "aggType": "",
       "arguments": {},
       "columnCustomDisplayInfos": {},
       "data": [
        [
         1
        ]
       ],
       "datasetInfos": [],
       "dbfsResultPath": null,
       "isJsonSchema": true,
       "metadata": {},
       "overflow": false,
       "plotOptions": {
        "customPlotOptions": {},
        "displayType": "table",
        "pivotAggregation": null,
        "pivotColumns": null,
        "xColumns": null,
        "yColumns": null
       },
       "removedWidgets": [],
       "schema": [
        {
         "metadata": "{}",
         "name": "num_affected_rows",
         "type": "\"long\""
        }
       ],
       "type": "table"
      }
     },
     "output_type": "display_data"
    }
   ],
   "source": [
    "%sql\n",
    "delete \n",
    "from  employees_practice \n",
    "where EmployeeID=1007"
   ]
  },
  {
   "cell_type": "code",
   "execution_count": 0,
   "metadata": {
    "application/vnd.databricks.v1+cell": {
     "cellMetadata": {
      "byteLimit": 2048000,
      "rowLimit": 10000
     },
     "inputWidgets": {},
     "nuid": "dd77a5df-84e2-4a4d-a4d7-c1b8e6921187",
     "showTitle": false,
     "title": ""
    }
   },
   "outputs": [
    {
     "output_type": "display_data",
     "data": {
      "text/html": [
       "<style scoped>\n",
       "  .table-result-container {\n",
       "    max-height: 300px;\n",
       "    overflow: auto;\n",
       "  }\n",
       "  table, th, td {\n",
       "    border: 1px solid black;\n",
       "    border-collapse: collapse;\n",
       "  }\n",
       "  th, td {\n",
       "    padding: 5px;\n",
       "  }\n",
       "  th {\n",
       "    text-align: left;\n",
       "  }\n",
       "</style><div class='table-result-container'><table class='table-result'><thead style='background-color: white'><tr><th>path</th><th>name</th><th>size</th><th>modificationTime</th></tr></thead><tbody><tr><td>dbfs:/Filestore/tables/file_compaction/_delta_log/</td><td>_delta_log/</td><td>0</td><td>0</td></tr><tr><td>dbfs:/Filestore/tables/file_compaction/part-00000-19875b74-a7c8-47fa-9834-89755a6c3d1d-c000.snappy.parquet</td><td>part-00000-19875b74-a7c8-47fa-9834-89755a6c3d1d-c000.snappy.parquet</td><td>2586</td><td>1718041293000</td></tr><tr><td>dbfs:/Filestore/tables/file_compaction/part-00000-60ba79ab-b9ea-4a4e-bbb3-fb7ea63d0b46-c000.snappy.parquet</td><td>part-00000-60ba79ab-b9ea-4a4e-bbb3-fb7ea63d0b46-c000.snappy.parquet</td><td>2606</td><td>1718041286000</td></tr><tr><td>dbfs:/Filestore/tables/file_compaction/part-00000-76540935-60b8-4576-a072-2975f7b9fc69-c000.snappy.parquet</td><td>part-00000-76540935-60b8-4576-a072-2975f7b9fc69-c000.snappy.parquet</td><td>2668</td><td>1718041092000</td></tr><tr><td>dbfs:/Filestore/tables/file_compaction/part-00000-9f8d950e-65b2-4a2b-a64e-68e97b05f5f2-c000.snappy.parquet</td><td>part-00000-9f8d950e-65b2-4a2b-a64e-68e97b05f5f2-c000.snappy.parquet</td><td>2614</td><td>1718041280000</td></tr></tbody></table></div>"
      ]
     },
     "metadata": {
      "application/vnd.databricks.v1+output": {
       "addedWidgets": {},
       "aggData": [],
       "aggError": "",
       "aggOverflow": false,
       "aggSchema": [],
       "aggSeriesLimitReached": false,
       "aggType": "",
       "arguments": {},
       "columnCustomDisplayInfos": {},
       "data": [
        [
         "dbfs:/Filestore/tables/file_compaction/_delta_log/",
         "_delta_log/",
         0,
         0
        ],
        [
         "dbfs:/Filestore/tables/file_compaction/part-00000-19875b74-a7c8-47fa-9834-89755a6c3d1d-c000.snappy.parquet",
         "part-00000-19875b74-a7c8-47fa-9834-89755a6c3d1d-c000.snappy.parquet",
         2586,
         1718041293000
        ],
        [
         "dbfs:/Filestore/tables/file_compaction/part-00000-60ba79ab-b9ea-4a4e-bbb3-fb7ea63d0b46-c000.snappy.parquet",
         "part-00000-60ba79ab-b9ea-4a4e-bbb3-fb7ea63d0b46-c000.snappy.parquet",
         2606,
         1718041286000
        ],
        [
         "dbfs:/Filestore/tables/file_compaction/part-00000-76540935-60b8-4576-a072-2975f7b9fc69-c000.snappy.parquet",
         "part-00000-76540935-60b8-4576-a072-2975f7b9fc69-c000.snappy.parquet",
         2668,
         1718041092000
        ],
        [
         "dbfs:/Filestore/tables/file_compaction/part-00000-9f8d950e-65b2-4a2b-a64e-68e97b05f5f2-c000.snappy.parquet",
         "part-00000-9f8d950e-65b2-4a2b-a64e-68e97b05f5f2-c000.snappy.parquet",
         2614,
         1718041280000
        ]
       ],
       "datasetInfos": [],
       "dbfsResultPath": null,
       "isJsonSchema": true,
       "metadata": {
        "isDbfsCommandResult": false
       },
       "overflow": false,
       "plotOptions": {
        "customPlotOptions": {},
        "displayType": "table",
        "pivotAggregation": null,
        "pivotColumns": null,
        "xColumns": null,
        "yColumns": null
       },
       "removedWidgets": [],
       "schema": [
        {
         "metadata": "{}",
         "name": "path",
         "type": "\"string\""
        },
        {
         "metadata": "{}",
         "name": "name",
         "type": "\"string\""
        },
        {
         "metadata": "{}",
         "name": "size",
         "type": "\"long\""
        },
        {
         "metadata": "{}",
         "name": "modificationTime",
         "type": "\"long\""
        }
       ],
       "type": "table"
      }
     },
     "output_type": "display_data"
    }
   ],
   "source": [
    "%fs \n",
    "\n",
    "ls /Filestore/tables/file_compaction/"
   ]
  },
  {
   "cell_type": "code",
   "execution_count": 0,
   "metadata": {
    "application/vnd.databricks.v1+cell": {
     "cellMetadata": {
      "byteLimit": 2048000,
      "implicitDf": true,
      "rowLimit": 10000
     },
     "inputWidgets": {},
     "nuid": "86bbcb51-dd04-4570-ad4b-a8be9c3e56f2",
     "showTitle": false,
     "title": ""
    }
   },
   "outputs": [
    {
     "output_type": "display_data",
     "data": {
      "text/html": [
       "<style scoped>\n",
       "  .table-result-container {\n",
       "    max-height: 300px;\n",
       "    overflow: auto;\n",
       "  }\n",
       "  table, th, td {\n",
       "    border: 1px solid black;\n",
       "    border-collapse: collapse;\n",
       "  }\n",
       "  th, td {\n",
       "    padding: 5px;\n",
       "  }\n",
       "  th {\n",
       "    text-align: left;\n",
       "  }\n",
       "</style><div class='table-result-container'><table class='table-result'><thead style='background-color: white'><tr><th>path</th><th>metrics</th></tr></thead><tbody><tr><td>dbfs:/Filestore/tables/file_compaction</td><td>List(1, 3, List(2787, 2787, 2787.0, 1, 2787), List(2606, 2668, 2629.3333333333335, 3, 7888), 0, null, 1, 3, 0, true, 0, 0, 1718041484070, 1718041495914, 8, 1, null, List(0, 0), 9, 9, 1610)</td></tr></tbody></table></div>"
      ]
     },
     "metadata": {
      "application/vnd.databricks.v1+output": {
       "addedWidgets": {},
       "aggData": [],
       "aggError": "",
       "aggOverflow": false,
       "aggSchema": [],
       "aggSeriesLimitReached": false,
       "aggType": "",
       "arguments": {},
       "columnCustomDisplayInfos": {},
       "data": [
        [
         "dbfs:/Filestore/tables/file_compaction",
         [
          1,
          3,
          [
           2787,
           2787,
           2787.0,
           1,
           2787
          ],
          [
           2606,
           2668,
           2629.3333333333335,
           3,
           7888
          ],
          0,
          null,
          1,
          3,
          0,
          true,
          0,
          0,
          1718041484070,
          1718041495914,
          8,
          1,
          null,
          [
           0,
           0
          ],
          9,
          9,
          1610
         ]
        ]
       ],
       "datasetInfos": [],
       "dbfsResultPath": null,
       "isJsonSchema": true,
       "metadata": {},
       "overflow": false,
       "plotOptions": {
        "customPlotOptions": {},
        "displayType": "table",
        "pivotAggregation": null,
        "pivotColumns": null,
        "xColumns": null,
        "yColumns": null
       },
       "removedWidgets": [],
       "schema": [
        {
         "metadata": "{}",
         "name": "path",
         "type": "\"string\""
        },
        {
         "metadata": "{}",
         "name": "metrics",
         "type": "{\"type\":\"struct\",\"fields\":[{\"name\":\"numFilesAdded\",\"type\":\"long\",\"nullable\":false,\"metadata\":{}},{\"name\":\"numFilesRemoved\",\"type\":\"long\",\"nullable\":false,\"metadata\":{}},{\"name\":\"filesAdded\",\"type\":{\"type\":\"struct\",\"fields\":[{\"name\":\"min\",\"type\":\"long\",\"nullable\":true,\"metadata\":{}},{\"name\":\"max\",\"type\":\"long\",\"nullable\":true,\"metadata\":{}},{\"name\":\"avg\",\"type\":\"double\",\"nullable\":false,\"metadata\":{}},{\"name\":\"totalFiles\",\"type\":\"long\",\"nullable\":false,\"metadata\":{}},{\"name\":\"totalSize\",\"type\":\"long\",\"nullable\":false,\"metadata\":{}}]},\"nullable\":true,\"metadata\":{}},{\"name\":\"filesRemoved\",\"type\":{\"type\":\"struct\",\"fields\":[{\"name\":\"min\",\"type\":\"long\",\"nullable\":true,\"metadata\":{}},{\"name\":\"max\",\"type\":\"long\",\"nullable\":true,\"metadata\":{}},{\"name\":\"avg\",\"type\":\"double\",\"nullable\":false,\"metadata\":{}},{\"name\":\"totalFiles\",\"type\":\"long\",\"nullable\":false,\"metadata\":{}},{\"name\":\"totalSize\",\"type\":\"long\",\"nullable\":false,\"metadata\":{}}]},\"nullable\":true,\"metadata\":{}},{\"name\":\"partitionsOptimized\",\"type\":\"long\",\"nullable\":false,\"metadata\":{}},{\"name\":\"zOrderStats\",\"type\":{\"type\":\"struct\",\"fields\":[{\"name\":\"strategyName\",\"type\":\"string\",\"nullable\":true,\"metadata\":{}},{\"name\":\"inputCubeFiles\",\"type\":{\"type\":\"struct\",\"fields\":[{\"name\":\"num\",\"type\":\"long\",\"nullable\":false,\"metadata\":{}},{\"name\":\"size\",\"type\":\"long\",\"nullable\":false,\"metadata\":{}}]},\"nullable\":true,\"metadata\":{}},{\"name\":\"inputOtherFiles\",\"type\":{\"type\":\"struct\",\"fields\":[{\"name\":\"num\",\"type\":\"long\",\"nullable\":false,\"metadata\":{}},{\"name\":\"size\",\"type\":\"long\",\"nullable\":false,\"metadata\":{}}]},\"nullable\":true,\"metadata\":{}},{\"name\":\"inputNumCubes\",\"type\":\"long\",\"nullable\":false,\"metadata\":{}},{\"name\":\"mergedFiles\",\"type\":{\"type\":\"struct\",\"fields\":[{\"name\":\"num\",\"type\":\"long\",\"nullable\":false,\"metadata\":{}},{\"name\":\"size\",\"type\":\"long\",\"nullable\":false,\"metadata\":{}}]},\"nullable\":true,\"metadata\":{}},{\"name\":\"numOutputCubes\",\"type\":\"long\",\"nullable\":false,\"metadata\":{}},{\"name\":\"mergedNumCubes\",\"type\":\"long\",\"nullable\":true,\"metadata\":{}}]},\"nullable\":true,\"metadata\":{}},{\"name\":\"numBatches\",\"type\":\"long\",\"nullable\":false,\"metadata\":{}},{\"name\":\"totalConsideredFiles\",\"type\":\"long\",\"nullable\":false,\"metadata\":{}},{\"name\":\"totalFilesSkipped\",\"type\":\"long\",\"nullable\":false,\"metadata\":{}},{\"name\":\"preserveInsertionOrder\",\"type\":\"boolean\",\"nullable\":false,\"metadata\":{}},{\"name\":\"numFilesSkippedToReduceWriteAmplification\",\"type\":\"long\",\"nullable\":false,\"metadata\":{}},{\"name\":\"numBytesSkippedToReduceWriteAmplification\",\"type\":\"long\",\"nullable\":false,\"metadata\":{}},{\"name\":\"startTimeMs\",\"type\":\"long\",\"nullable\":false,\"metadata\":{}},{\"name\":\"endTimeMs\",\"type\":\"long\",\"nullable\":false,\"metadata\":{}},{\"name\":\"totalClusterParallelism\",\"type\":\"long\",\"nullable\":false,\"metadata\":{}},{\"name\":\"totalScheduledTasks\",\"type\":\"long\",\"nullable\":false,\"metadata\":{}},{\"name\":\"autoCompactParallelismStats\",\"type\":{\"type\":\"struct\",\"fields\":[{\"name\":\"maxClusterActiveParallelism\",\"type\":\"long\",\"nullable\":true,\"metadata\":{}},{\"name\":\"minClusterActiveParallelism\",\"type\":\"long\",\"nullable\":true,\"metadata\":{}},{\"name\":\"maxSessionActiveParallelism\",\"type\":\"long\",\"nullable\":true,\"metadata\":{}},{\"name\":\"minSessionActiveParallelism\",\"type\":\"long\",\"nullable\":true,\"metadata\":{}}]},\"nullable\":true,\"metadata\":{}},{\"name\":\"deletionVectorStats\",\"type\":{\"type\":\"struct\",\"fields\":[{\"name\":\"numDeletionVectorsRemoved\",\"type\":\"long\",\"nullable\":false,\"metadata\":{}},{\"name\":\"numDeletionVectorRowsRemoved\",\"type\":\"long\",\"nullable\":false,\"metadata\":{}}]},\"nullable\":true,\"metadata\":{}},{\"name\":\"numTableColumns\",\"type\":\"long\",\"nullable\":false,\"metadata\":{}},{\"name\":\"numTableColumnsWithStats\",\"type\":\"long\",\"nullable\":false,\"metadata\":{}},{\"name\":\"totalTaskExecutionTimeMs\",\"type\":\"long\",\"nullable\":false,\"metadata\":{}}]}"
        }
       ],
       "type": "table"
      }
     },
     "output_type": "display_data"
    }
   ],
   "source": [
    "%sql \n",
    "\n",
    "optimize employees_practice;"
   ]
  },
  {
   "cell_type": "code",
   "execution_count": 0,
   "metadata": {
    "application/vnd.databricks.v1+cell": {
     "cellMetadata": {
      "byteLimit": 2048000,
      "rowLimit": 10000
     },
     "inputWidgets": {},
     "nuid": "b210656d-06f5-4829-a0d9-2d64fc9bc527",
     "showTitle": false,
     "title": ""
    }
   },
   "outputs": [
    {
     "output_type": "display_data",
     "data": {
      "text/html": [
       "<style scoped>\n",
       "  .table-result-container {\n",
       "    max-height: 300px;\n",
       "    overflow: auto;\n",
       "  }\n",
       "  table, th, td {\n",
       "    border: 1px solid black;\n",
       "    border-collapse: collapse;\n",
       "  }\n",
       "  th, td {\n",
       "    padding: 5px;\n",
       "  }\n",
       "  th {\n",
       "    text-align: left;\n",
       "  }\n",
       "</style><div class='table-result-container'><table class='table-result'><thead style='background-color: white'><tr><th>path</th><th>name</th><th>size</th><th>modificationTime</th></tr></thead><tbody><tr><td>dbfs:/Filestore/tables/file_compaction/_delta_log/</td><td>_delta_log/</td><td>0</td><td>0</td></tr><tr><td>dbfs:/Filestore/tables/file_compaction/part-00000-19875b74-a7c8-47fa-9834-89755a6c3d1d-c000.snappy.parquet</td><td>part-00000-19875b74-a7c8-47fa-9834-89755a6c3d1d-c000.snappy.parquet</td><td>2586</td><td>1718041293000</td></tr><tr><td>dbfs:/Filestore/tables/file_compaction/part-00000-60ba79ab-b9ea-4a4e-bbb3-fb7ea63d0b46-c000.snappy.parquet</td><td>part-00000-60ba79ab-b9ea-4a4e-bbb3-fb7ea63d0b46-c000.snappy.parquet</td><td>2606</td><td>1718041286000</td></tr><tr><td>dbfs:/Filestore/tables/file_compaction/part-00000-76540935-60b8-4576-a072-2975f7b9fc69-c000.snappy.parquet</td><td>part-00000-76540935-60b8-4576-a072-2975f7b9fc69-c000.snappy.parquet</td><td>2668</td><td>1718041092000</td></tr><tr><td>dbfs:/Filestore/tables/file_compaction/part-00000-9f8d950e-65b2-4a2b-a64e-68e97b05f5f2-c000.snappy.parquet</td><td>part-00000-9f8d950e-65b2-4a2b-a64e-68e97b05f5f2-c000.snappy.parquet</td><td>2614</td><td>1718041280000</td></tr><tr><td>dbfs:/Filestore/tables/file_compaction/part-00000-a54cb58e-75d3-41f1-af00-01ec6e2195cc-c000.snappy.parquet</td><td>part-00000-a54cb58e-75d3-41f1-af00-01ec6e2195cc-c000.snappy.parquet</td><td>2787</td><td>1718041492000</td></tr></tbody></table></div>"
      ]
     },
     "metadata": {
      "application/vnd.databricks.v1+output": {
       "addedWidgets": {},
       "aggData": [],
       "aggError": "",
       "aggOverflow": false,
       "aggSchema": [],
       "aggSeriesLimitReached": false,
       "aggType": "",
       "arguments": {},
       "columnCustomDisplayInfos": {},
       "data": [
        [
         "dbfs:/Filestore/tables/file_compaction/_delta_log/",
         "_delta_log/",
         0,
         0
        ],
        [
         "dbfs:/Filestore/tables/file_compaction/part-00000-19875b74-a7c8-47fa-9834-89755a6c3d1d-c000.snappy.parquet",
         "part-00000-19875b74-a7c8-47fa-9834-89755a6c3d1d-c000.snappy.parquet",
         2586,
         1718041293000
        ],
        [
         "dbfs:/Filestore/tables/file_compaction/part-00000-60ba79ab-b9ea-4a4e-bbb3-fb7ea63d0b46-c000.snappy.parquet",
         "part-00000-60ba79ab-b9ea-4a4e-bbb3-fb7ea63d0b46-c000.snappy.parquet",
         2606,
         1718041286000
        ],
        [
         "dbfs:/Filestore/tables/file_compaction/part-00000-76540935-60b8-4576-a072-2975f7b9fc69-c000.snappy.parquet",
         "part-00000-76540935-60b8-4576-a072-2975f7b9fc69-c000.snappy.parquet",
         2668,
         1718041092000
        ],
        [
         "dbfs:/Filestore/tables/file_compaction/part-00000-9f8d950e-65b2-4a2b-a64e-68e97b05f5f2-c000.snappy.parquet",
         "part-00000-9f8d950e-65b2-4a2b-a64e-68e97b05f5f2-c000.snappy.parquet",
         2614,
         1718041280000
        ],
        [
         "dbfs:/Filestore/tables/file_compaction/part-00000-a54cb58e-75d3-41f1-af00-01ec6e2195cc-c000.snappy.parquet",
         "part-00000-a54cb58e-75d3-41f1-af00-01ec6e2195cc-c000.snappy.parquet",
         2787,
         1718041492000
        ]
       ],
       "datasetInfos": [],
       "dbfsResultPath": null,
       "isJsonSchema": true,
       "metadata": {
        "isDbfsCommandResult": false
       },
       "overflow": false,
       "plotOptions": {
        "customPlotOptions": {},
        "displayType": "table",
        "pivotAggregation": null,
        "pivotColumns": null,
        "xColumns": null,
        "yColumns": null
       },
       "removedWidgets": [],
       "schema": [
        {
         "metadata": "{}",
         "name": "path",
         "type": "\"string\""
        },
        {
         "metadata": "{}",
         "name": "name",
         "type": "\"string\""
        },
        {
         "metadata": "{}",
         "name": "size",
         "type": "\"long\""
        },
        {
         "metadata": "{}",
         "name": "modificationTime",
         "type": "\"long\""
        }
       ],
       "type": "table"
      }
     },
     "output_type": "display_data"
    }
   ],
   "source": [
    "%fs \n",
    "\n",
    "ls /Filestore/tables/file_compaction/"
   ]
  },
  {
   "cell_type": "code",
   "execution_count": 0,
   "metadata": {
    "application/vnd.databricks.v1+cell": {
     "cellMetadata": {},
     "inputWidgets": {},
     "nuid": "f06df938-c0aa-4169-b22e-0f83407b9fff",
     "showTitle": false,
     "title": ""
    }
   },
   "outputs": [],
   "source": []
  }
 ],
 "metadata": {
  "application/vnd.databricks.v1+notebook": {
   "dashboards": [],
   "environmentMetadata": null,
   "language": "python",
   "notebookMetadata": {
    "mostRecentlyExecutedCommandWithImplicitDF": {
     "commandId": 1333531983665812,
     "dataframes": [
      "_sqldf"
     ]
    },
    "pythonIndentUnit": 4
   },
   "notebookName": "9->Optimize",
   "widgets": {}
  }
 },
 "nbformat": 4,
 "nbformat_minor": 0
}
