{
 "cells": [
  {
   "cell_type": "code",
   "execution_count": 0,
   "metadata": {
    "application/vnd.databricks.v1+cell": {
     "cellMetadata": {
      "byteLimit": 2048000,
      "rowLimit": 10000
     },
     "inputWidgets": {},
     "nuid": "301271ff-c119-4c89-a19b-4e881f1ddb67",
     "showTitle": false,
     "title": ""
    }
   },
   "outputs": [],
   "source": [
    "from pyspark.sql.functions import * \n",
    "\n",
    "from pyspark.sql.types import * \n",
    "\n",
    "from delta.tables import * "
   ]
  },
  {
   "cell_type": "code",
   "execution_count": 0,
   "metadata": {
    "application/vnd.databricks.v1+cell": {
     "cellMetadata": {
      "byteLimit": 2048000,
      "implicitDf": true,
      "rowLimit": 10000
     },
     "inputWidgets": {},
     "nuid": "ce289b2a-2879-4699-beca-f8c99a6c9fc5",
     "showTitle": false,
     "title": ""
    }
   },
   "outputs": [
    {
     "output_type": "display_data",
     "data": {
      "text/html": [
       "<style scoped>\n",
       "  .table-result-container {\n",
       "    max-height: 300px;\n",
       "    overflow: auto;\n",
       "  }\n",
       "  table, th, td {\n",
       "    border: 1px solid black;\n",
       "    border-collapse: collapse;\n",
       "  }\n",
       "  th, td {\n",
       "    padding: 5px;\n",
       "  }\n",
       "  th {\n",
       "    text-align: left;\n",
       "  }\n",
       "</style><div class='table-result-container'><table class='table-result'><thead style='background-color: white'><tr></tr></thead><tbody></tbody></table></div>"
      ]
     },
     "metadata": {
      "application/vnd.databricks.v1+output": {
       "addedWidgets": {},
       "aggData": [],
       "aggError": "",
       "aggOverflow": false,
       "aggSchema": [],
       "aggSeriesLimitReached": false,
       "aggType": "",
       "arguments": {},
       "columnCustomDisplayInfos": {},
       "data": [],
       "datasetInfos": [],
       "dbfsResultPath": null,
       "isJsonSchema": true,
       "metadata": {},
       "overflow": false,
       "plotOptions": {
        "customPlotOptions": {},
        "displayType": "table",
        "pivotAggregation": null,
        "pivotColumns": null,
        "xColumns": null,
        "yColumns": null
       },
       "removedWidgets": [],
       "schema": [],
       "type": "table"
      }
     },
     "output_type": "display_data"
    }
   ],
   "source": [
    "%sql\n",
    "\n",
    "CREATE or replace TABLE employees (\n",
    "    EmployeeID INT,\n",
    "    FirstName STRING,\n",
    "    LastName STRING,\n",
    "    Department STRING,\n",
    "    Title STRING,\n",
    "    Salary DECIMAL(10,2),\n",
    "    EffectiveDate DATE,\n",
    "    EndDate DATE,\n",
    "    IsCurrent BOOLEAN\n",
    ")using delta \n",
    " location '/Filestore/tables/scd_2'; \n",
    "\n",
    " truncate table employees;"
   ]
  },
  {
   "cell_type": "code",
   "execution_count": 0,
   "metadata": {
    "application/vnd.databricks.v1+cell": {
     "cellMetadata": {
      "byteLimit": 2048000,
      "implicitDf": true,
      "rowLimit": 10000
     },
     "inputWidgets": {},
     "nuid": "3989314a-5317-45a1-874e-902a0429b2dc",
     "showTitle": false,
     "title": ""
    }
   },
   "outputs": [
    {
     "output_type": "display_data",
     "data": {
      "text/html": [
       "<style scoped>\n",
       "  .table-result-container {\n",
       "    max-height: 300px;\n",
       "    overflow: auto;\n",
       "  }\n",
       "  table, th, td {\n",
       "    border: 1px solid black;\n",
       "    border-collapse: collapse;\n",
       "  }\n",
       "  th, td {\n",
       "    padding: 5px;\n",
       "  }\n",
       "  th {\n",
       "    text-align: left;\n",
       "  }\n",
       "</style><div class='table-result-container'><table class='table-result'><thead style='background-color: white'><tr><th>num_affected_rows</th><th>num_inserted_rows</th></tr></thead><tbody><tr><td>10</td><td>10</td></tr></tbody></table></div>"
      ]
     },
     "metadata": {
      "application/vnd.databricks.v1+output": {
       "addedWidgets": {},
       "aggData": [],
       "aggError": "",
       "aggOverflow": false,
       "aggSchema": [],
       "aggSeriesLimitReached": false,
       "aggType": "",
       "arguments": {},
       "columnCustomDisplayInfos": {},
       "data": [
        [
         10,
         10
        ]
       ],
       "datasetInfos": [],
       "dbfsResultPath": null,
       "isJsonSchema": true,
       "metadata": {},
       "overflow": false,
       "plotOptions": {
        "customPlotOptions": {},
        "displayType": "table",
        "pivotAggregation": null,
        "pivotColumns": null,
        "xColumns": null,
        "yColumns": null
       },
       "removedWidgets": [],
       "schema": [
        {
         "metadata": "{}",
         "name": "num_affected_rows",
         "type": "\"long\""
        },
        {
         "metadata": "{}",
         "name": "num_inserted_rows",
         "type": "\"long\""
        }
       ],
       "type": "table"
      }
     },
     "output_type": "display_data"
    }
   ],
   "source": [
    "%sql\n",
    "INSERT INTO employees (EmployeeID, FirstName, LastName, Department, Title, Salary, EffectiveDate, EndDate, IsCurrent)\n",
    "VALUES\n",
    "(1001, 'John', 'Doe', 'Engineering', 'Senior Engineer', 90000.00, '2023-01-01', NULL, True),\n",
    "(1002, 'Jane', 'Smith', 'Marketing', 'Manager', 75000.00, '2023-01-01', NULL, True),\n",
    "(1003, 'Emily', 'Jones', 'HR', 'Analyst', 65000.00, '2023-01-01', NULL, True),\n",
    "(1004, 'Michael', 'Brown', 'IT', 'Developer', 72000.00, '2023-01-01', NULL, True),\n",
    "(1005, 'Rachel', 'Green', 'Finance', 'Accountant', 58000.00, '2023-01-01', NULL, True),\n",
    "(1006, 'Ross', 'Geller', 'Science', 'Researcher', 76000.00, '2023-01-01', NULL, True),\n",
    "(1007, 'Monica', 'Geller', 'Culinary', 'Chef', 62000.00, '2023-01-01', NULL, True),\n",
    "(1008, 'Joey', 'Tribbiani', 'Acting', 'Actor', 55000.00, '2023-01-01', NULL, True),\n",
    "(1009, 'Chandler', 'Bing', 'Advertising', 'Copywriter', 64000.00, '2023-01-01', NULL, True),\n",
    "(1010, 'Phoebe', 'Buffay', 'Music', 'Singer', 50000.00, '2023-01-01', NULL, True);"
   ]
  },
  {
   "cell_type": "code",
   "execution_count": 0,
   "metadata": {
    "application/vnd.databricks.v1+cell": {
     "cellMetadata": {
      "byteLimit": 2048000,
      "implicitDf": true,
      "rowLimit": 10000
     },
     "inputWidgets": {},
     "nuid": "6e20694d-0a32-436a-a5fe-58428ba955be",
     "showTitle": false,
     "title": ""
    }
   },
   "outputs": [
    {
     "output_type": "display_data",
     "data": {
      "text/html": [
       "<style scoped>\n",
       "  .table-result-container {\n",
       "    max-height: 300px;\n",
       "    overflow: auto;\n",
       "  }\n",
       "  table, th, td {\n",
       "    border: 1px solid black;\n",
       "    border-collapse: collapse;\n",
       "  }\n",
       "  th, td {\n",
       "    padding: 5px;\n",
       "  }\n",
       "  th {\n",
       "    text-align: left;\n",
       "  }\n",
       "</style><div class='table-result-container'><table class='table-result'><thead style='background-color: white'><tr><th>EmployeeID</th><th>FirstName</th><th>LastName</th><th>Department</th><th>Title</th><th>Salary</th><th>EffectiveDate</th><th>EndDate</th><th>IsCurrent</th></tr></thead><tbody><tr><td>1001</td><td>John</td><td>Doe</td><td>Engineering</td><td>Senior Engineer</td><td>90000.00</td><td>2023-01-01</td><td>null</td><td>true</td></tr><tr><td>1002</td><td>Jane</td><td>Smith</td><td>Marketing</td><td>Manager</td><td>75000.00</td><td>2023-01-01</td><td>null</td><td>true</td></tr><tr><td>1003</td><td>Emily</td><td>Jones</td><td>HR</td><td>Analyst</td><td>65000.00</td><td>2023-01-01</td><td>null</td><td>true</td></tr><tr><td>1004</td><td>Michael</td><td>Brown</td><td>IT</td><td>Developer</td><td>72000.00</td><td>2023-01-01</td><td>null</td><td>true</td></tr><tr><td>1005</td><td>Rachel</td><td>Green</td><td>Finance</td><td>Accountant</td><td>58000.00</td><td>2023-01-01</td><td>null</td><td>true</td></tr><tr><td>1006</td><td>Ross</td><td>Geller</td><td>Science</td><td>Researcher</td><td>76000.00</td><td>2023-01-01</td><td>null</td><td>true</td></tr><tr><td>1007</td><td>Monica</td><td>Geller</td><td>Culinary</td><td>Chef</td><td>62000.00</td><td>2023-01-01</td><td>null</td><td>true</td></tr><tr><td>1008</td><td>Joey</td><td>Tribbiani</td><td>Acting</td><td>Actor</td><td>55000.00</td><td>2023-01-01</td><td>null</td><td>true</td></tr><tr><td>1009</td><td>Chandler</td><td>Bing</td><td>Advertising</td><td>Copywriter</td><td>64000.00</td><td>2023-01-01</td><td>null</td><td>true</td></tr><tr><td>1010</td><td>Phoebe</td><td>Buffay</td><td>Music</td><td>Singer</td><td>50000.00</td><td>2023-01-01</td><td>null</td><td>true</td></tr></tbody></table></div>"
      ]
     },
     "metadata": {
      "application/vnd.databricks.v1+output": {
       "addedWidgets": {},
       "aggData": [],
       "aggError": "",
       "aggOverflow": false,
       "aggSchema": [],
       "aggSeriesLimitReached": false,
       "aggType": "",
       "arguments": {},
       "columnCustomDisplayInfos": {},
       "data": [
        [
         1001,
         "John",
         "Doe",
         "Engineering",
         "Senior Engineer",
         "90000.00",
         "2023-01-01",
         null,
         true
        ],
        [
         1002,
         "Jane",
         "Smith",
         "Marketing",
         "Manager",
         "75000.00",
         "2023-01-01",
         null,
         true
        ],
        [
         1003,
         "Emily",
         "Jones",
         "HR",
         "Analyst",
         "65000.00",
         "2023-01-01",
         null,
         true
        ],
        [
         1004,
         "Michael",
         "Brown",
         "IT",
         "Developer",
         "72000.00",
         "2023-01-01",
         null,
         true
        ],
        [
         1005,
         "Rachel",
         "Green",
         "Finance",
         "Accountant",
         "58000.00",
         "2023-01-01",
         null,
         true
        ],
        [
         1006,
         "Ross",
         "Geller",
         "Science",
         "Researcher",
         "76000.00",
         "2023-01-01",
         null,
         true
        ],
        [
         1007,
         "Monica",
         "Geller",
         "Culinary",
         "Chef",
         "62000.00",
         "2023-01-01",
         null,
         true
        ],
        [
         1008,
         "Joey",
         "Tribbiani",
         "Acting",
         "Actor",
         "55000.00",
         "2023-01-01",
         null,
         true
        ],
        [
         1009,
         "Chandler",
         "Bing",
         "Advertising",
         "Copywriter",
         "64000.00",
         "2023-01-01",
         null,
         true
        ],
        [
         1010,
         "Phoebe",
         "Buffay",
         "Music",
         "Singer",
         "50000.00",
         "2023-01-01",
         null,
         true
        ]
       ],
       "datasetInfos": [],
       "dbfsResultPath": null,
       "isJsonSchema": true,
       "metadata": {},
       "overflow": false,
       "plotOptions": {
        "customPlotOptions": {},
        "displayType": "table",
        "pivotAggregation": null,
        "pivotColumns": null,
        "xColumns": null,
        "yColumns": null
       },
       "removedWidgets": [],
       "schema": [
        {
         "metadata": "{}",
         "name": "EmployeeID",
         "type": "\"integer\""
        },
        {
         "metadata": "{}",
         "name": "FirstName",
         "type": "\"string\""
        },
        {
         "metadata": "{}",
         "name": "LastName",
         "type": "\"string\""
        },
        {
         "metadata": "{}",
         "name": "Department",
         "type": "\"string\""
        },
        {
         "metadata": "{}",
         "name": "Title",
         "type": "\"string\""
        },
        {
         "metadata": "{}",
         "name": "Salary",
         "type": "\"decimal(10,2)\""
        },
        {
         "metadata": "{}",
         "name": "EffectiveDate",
         "type": "\"date\""
        },
        {
         "metadata": "{}",
         "name": "EndDate",
         "type": "\"date\""
        },
        {
         "metadata": "{}",
         "name": "IsCurrent",
         "type": "\"boolean\""
        }
       ],
       "type": "table"
      }
     },
     "output_type": "display_data"
    }
   ],
   "source": [
    "%sql\n",
    "select * from employees;"
   ]
  },
  {
   "cell_type": "code",
   "execution_count": 0,
   "metadata": {
    "application/vnd.databricks.v1+cell": {
     "cellMetadata": {
      "byteLimit": 2048000,
      "rowLimit": 10000
     },
     "inputWidgets": {},
     "nuid": "b856a42d-12b5-4bc6-a5bc-1a90aed3d77b",
     "showTitle": false,
     "title": ""
    }
   },
   "outputs": [
    {
     "output_type": "stream",
     "name": "stdout",
     "output_type": "stream",
     "text": [
      "+----------+---------+--------+-----------+-----------------+-------+\n|EmployeeID|FirstName|LastName| Department|            Title| Salary|\n+----------+---------+--------+-----------+-----------------+-------+\n|      1001|     John|     Doe|Engineering|    Lead Engineer|95000.0|\n|      1002|     Jane|   Smith|      Sales|    Sales Manager|78000.0|\n|      1011|     Alex|  Taylor|  Marketing|Marketing Analyst|58000.0|\n+----------+---------+--------+-----------+-----------------+-------+\n\n"
     ]
    }
   ],
   "source": [
    "schema_emp = StructType([\n",
    "    StructField(\"EmployeeID\", IntegerType(), True),\n",
    "    StructField(\"FirstName\", StringType(), True),\n",
    "    StructField(\"LastName\", StringType(), True),\n",
    "    StructField(\"Department\", StringType(), True),\n",
    "    StructField(\"Title\", StringType(), True),\n",
    "    StructField(\"Salary\", DoubleType(), True)\n",
    "])\n",
    "\n",
    "# Data as a list of tuples\n",
    "data = [\n",
    "    (1001, 'John', 'Doe', 'Engineering', 'Lead Engineer', 95000.00),\n",
    "    (1002, 'Jane', 'Smith', 'Sales', 'Sales Manager', 78000.00),\n",
    "    (1011, 'Alex', 'Taylor', 'Marketing', 'Marketing Analyst', 58000.00)\n",
    "]\n",
    "\n",
    "# Create DataFrame\n",
    "emp_df = spark.createDataFrame(data, schema_emp)\n",
    "emp_df.show() \n",
    "\n",
    "emp_df.createOrReplaceTempView('src_data')"
   ]
  },
  {
   "cell_type": "code",
   "execution_count": 0,
   "metadata": {
    "application/vnd.databricks.v1+cell": {
     "cellMetadata": {
      "byteLimit": 2048000,
      "rowLimit": 10000
     },
     "inputWidgets": {},
     "nuid": "d6f64e3a-f577-419c-bd65-9a70169b48b0",
     "showTitle": false,
     "title": ""
    }
   },
   "outputs": [
    {
     "output_type": "stream",
     "name": "stdout",
     "output_type": "stream",
     "text": [
      "+----------+---------+---------+-----------+---------------+--------+-------------+-------+---------+\n|EmployeeID|FirstName| LastName| Department|          Title|  Salary|EffectiveDate|EndDate|IsCurrent|\n+----------+---------+---------+-----------+---------------+--------+-------------+-------+---------+\n|      1001|     John|      Doe|Engineering|Senior Engineer|90000.00|   2023-01-01|   null|     true|\n|      1002|     Jane|    Smith|  Marketing|        Manager|75000.00|   2023-01-01|   null|     true|\n|      1003|    Emily|    Jones|         HR|        Analyst|65000.00|   2023-01-01|   null|     true|\n|      1004|  Michael|    Brown|         IT|      Developer|72000.00|   2023-01-01|   null|     true|\n|      1005|   Rachel|    Green|    Finance|     Accountant|58000.00|   2023-01-01|   null|     true|\n|      1006|     Ross|   Geller|    Science|     Researcher|76000.00|   2023-01-01|   null|     true|\n|      1007|   Monica|   Geller|   Culinary|           Chef|62000.00|   2023-01-01|   null|     true|\n|      1008|     Joey|Tribbiani|     Acting|          Actor|55000.00|   2023-01-01|   null|     true|\n|      1009| Chandler|     Bing|Advertising|     Copywriter|64000.00|   2023-01-01|   null|     true|\n|      1010|   Phoebe|   Buffay|      Music|         Singer|50000.00|   2023-01-01|   null|     true|\n+----------+---------+---------+-----------+---------------+--------+-------------+-------+---------+\n\n"
     ]
    }
   ],
   "source": [
    "#left joining on target side \n",
    "\n",
    "dt_instance=DeltaTable.forName(spark,\"employees\") \n",
    "\n",
    "target_df=dt_instance.toDF()\n",
    "target_df.show()"
   ]
  },
  {
   "cell_type": "code",
   "execution_count": 0,
   "metadata": {
    "application/vnd.databricks.v1+cell": {
     "cellMetadata": {
      "byteLimit": 2048000,
      "rowLimit": 10000
     },
     "inputWidgets": {},
     "nuid": "0d5b60fe-3ed0-4f22-b97a-b1de055d9162",
     "showTitle": false,
     "title": ""
    }
   },
   "outputs": [
    {
     "output_type": "stream",
     "name": "stdout",
     "output_type": "stream",
     "text": [
      "+----------+---------+---------+-----------+---------------+--------+-------------+-------+---------+----------+---------+--------+-----------+-------------+-------+\n|EmployeeID|FirstName| LastName| Department|          Title|  Salary|EffectiveDate|EndDate|IsCurrent|EmployeeID|FirstName|LastName| Department|        Title| Salary|\n+----------+---------+---------+-----------+---------------+--------+-------------+-------+---------+----------+---------+--------+-----------+-------------+-------+\n|      1001|     John|      Doe|Engineering|Senior Engineer|90000.00|   2023-01-01|   null|     true|      1001|     John|     Doe|Engineering|Lead Engineer|95000.0|\n|      1002|     Jane|    Smith|  Marketing|        Manager|75000.00|   2023-01-01|   null|     true|      1002|     Jane|   Smith|      Sales|Sales Manager|78000.0|\n|      1003|    Emily|    Jones|         HR|        Analyst|65000.00|   2023-01-01|   null|     true|      null|     null|    null|       null|         null|   null|\n|      1004|  Michael|    Brown|         IT|      Developer|72000.00|   2023-01-01|   null|     true|      null|     null|    null|       null|         null|   null|\n|      1005|   Rachel|    Green|    Finance|     Accountant|58000.00|   2023-01-01|   null|     true|      null|     null|    null|       null|         null|   null|\n|      1006|     Ross|   Geller|    Science|     Researcher|76000.00|   2023-01-01|   null|     true|      null|     null|    null|       null|         null|   null|\n|      1007|   Monica|   Geller|   Culinary|           Chef|62000.00|   2023-01-01|   null|     true|      null|     null|    null|       null|         null|   null|\n|      1008|     Joey|Tribbiani|     Acting|          Actor|55000.00|   2023-01-01|   null|     true|      null|     null|    null|       null|         null|   null|\n|      1009| Chandler|     Bing|Advertising|     Copywriter|64000.00|   2023-01-01|   null|     true|      null|     null|    null|       null|         null|   null|\n|      1010|   Phoebe|   Buffay|      Music|         Singer|50000.00|   2023-01-01|   null|     true|      null|     null|    null|       null|         null|   null|\n+----------+---------+---------+-----------+---------------+--------+-------------+-------+---------+----------+---------+--------+-----------+-------------+-------+\n\n"
     ]
    }
   ],
   "source": [
    "joined_df = target_df.join(\n",
    "    emp_df.alias('s'),\n",
    "    target_df.EmployeeID == emp_df.EmployeeID,\n",
    "    how=\"left\"\n",
    ")\n",
    "joined_df.show()"
   ]
  },
  {
   "cell_type": "code",
   "execution_count": 0,
   "metadata": {
    "application/vnd.databricks.v1+cell": {
     "cellMetadata": {
      "byteLimit": 2048000,
      "implicitDf": true,
      "rowLimit": 10000
     },
     "inputWidgets": {},
     "nuid": "bd6ce7c1-8362-491f-9b63-68f0dd24abd5",
     "showTitle": false,
     "title": ""
    }
   },
   "outputs": [
    {
     "output_type": "display_data",
     "data": {
      "text/html": [
       "<style scoped>\n",
       "  .table-result-container {\n",
       "    max-height: 300px;\n",
       "    overflow: auto;\n",
       "  }\n",
       "  table, th, td {\n",
       "    border: 1px solid black;\n",
       "    border-collapse: collapse;\n",
       "  }\n",
       "  th, td {\n",
       "    padding: 5px;\n",
       "  }\n",
       "  th {\n",
       "    text-align: left;\n",
       "  }\n",
       "</style><div class='table-result-container'><table class='table-result'><thead style='background-color: white'><tr><th>num_affected_rows</th><th>num_updated_rows</th><th>num_deleted_rows</th><th>num_inserted_rows</th></tr></thead><tbody><tr><td>3</td><td>2</td><td>0</td><td>1</td></tr></tbody></table></div>"
      ]
     },
     "metadata": {
      "application/vnd.databricks.v1+output": {
       "addedWidgets": {},
       "aggData": [],
       "aggError": "",
       "aggOverflow": false,
       "aggSchema": [],
       "aggSeriesLimitReached": false,
       "aggType": "",
       "arguments": {},
       "columnCustomDisplayInfos": {},
       "data": [
        [
         3,
         2,
         0,
         1
        ]
       ],
       "datasetInfos": [],
       "dbfsResultPath": null,
       "isJsonSchema": true,
       "metadata": {},
       "overflow": false,
       "plotOptions": {
        "customPlotOptions": {},
        "displayType": "table",
        "pivotAggregation": null,
        "pivotColumns": null,
        "xColumns": null,
        "yColumns": null
       },
       "removedWidgets": [],
       "schema": [
        {
         "metadata": "{}",
         "name": "num_affected_rows",
         "type": "\"long\""
        },
        {
         "metadata": "{}",
         "name": "num_updated_rows",
         "type": "\"long\""
        },
        {
         "metadata": "{}",
         "name": "num_deleted_rows",
         "type": "\"long\""
        },
        {
         "metadata": "{}",
         "name": "num_inserted_rows",
         "type": "\"long\""
        }
       ],
       "type": "table"
      }
     },
     "output_type": "display_data"
    }
   ],
   "source": [
    "%sql\n",
    "\n",
    "merge into employees as t \n",
    "using src_data as d \n",
    "on t.EmployeeID=d.EmployeeID \n",
    "when matched and (t.Department!=d.Department or t.Title!=d.Title or t.Salary!=d.Salary) and  t.IsCurrent=\"true\"\n",
    "             then \n",
    "                   update set \n",
    "                                t.EndDate=current_date(),\n",
    "                                t.IsCurrent=false\n",
    "when not matched \n",
    "                 then \n",
    "                      insert (EmployeeID,FirstName,LastName,Department,Title,Salary,EffectiveDate,EndDate,IsCurrent)  \n",
    "                      values(d.EmployeeID,d.FirstName,d.LastName,d.Department,d.Title,d.Salary,current_date(),\"\",\"true\");"
   ]
  },
  {
   "cell_type": "code",
   "execution_count": 0,
   "metadata": {
    "application/vnd.databricks.v1+cell": {
     "cellMetadata": {
      "byteLimit": 2048000,
      "implicitDf": true,
      "rowLimit": 10000
     },
     "inputWidgets": {},
     "nuid": "092f606a-574f-480a-9283-1362f3eab07e",
     "showTitle": false,
     "title": ""
    }
   },
   "outputs": [
    {
     "output_type": "display_data",
     "data": {
      "text/html": [
       "<style scoped>\n",
       "  .table-result-container {\n",
       "    max-height: 300px;\n",
       "    overflow: auto;\n",
       "  }\n",
       "  table, th, td {\n",
       "    border: 1px solid black;\n",
       "    border-collapse: collapse;\n",
       "  }\n",
       "  th, td {\n",
       "    padding: 5px;\n",
       "  }\n",
       "  th {\n",
       "    text-align: left;\n",
       "  }\n",
       "</style><div class='table-result-container'><table class='table-result'><thead style='background-color: white'><tr><th>EmployeeID</th><th>FirstName</th><th>LastName</th><th>Department</th><th>Title</th><th>Salary</th><th>EffectiveDate</th><th>EndDate</th><th>IsCurrent</th></tr></thead><tbody><tr><td>1001</td><td>John</td><td>Doe</td><td>Engineering</td><td>Senior Engineer</td><td>90000.00</td><td>2023-01-01</td><td>2024-06-10</td><td>false</td></tr><tr><td>1002</td><td>Jane</td><td>Smith</td><td>Marketing</td><td>Manager</td><td>75000.00</td><td>2023-01-01</td><td>2024-06-10</td><td>false</td></tr><tr><td>1003</td><td>Emily</td><td>Jones</td><td>HR</td><td>Analyst</td><td>65000.00</td><td>2023-01-01</td><td>null</td><td>true</td></tr><tr><td>1004</td><td>Michael</td><td>Brown</td><td>IT</td><td>Developer</td><td>72000.00</td><td>2023-01-01</td><td>null</td><td>true</td></tr><tr><td>1005</td><td>Rachel</td><td>Green</td><td>Finance</td><td>Accountant</td><td>58000.00</td><td>2023-01-01</td><td>null</td><td>true</td></tr><tr><td>1006</td><td>Ross</td><td>Geller</td><td>Science</td><td>Researcher</td><td>76000.00</td><td>2023-01-01</td><td>null</td><td>true</td></tr><tr><td>1007</td><td>Monica</td><td>Geller</td><td>Culinary</td><td>Chef</td><td>62000.00</td><td>2023-01-01</td><td>null</td><td>true</td></tr><tr><td>1008</td><td>Joey</td><td>Tribbiani</td><td>Acting</td><td>Actor</td><td>55000.00</td><td>2023-01-01</td><td>null</td><td>true</td></tr><tr><td>1009</td><td>Chandler</td><td>Bing</td><td>Advertising</td><td>Copywriter</td><td>64000.00</td><td>2023-01-01</td><td>null</td><td>true</td></tr><tr><td>1010</td><td>Phoebe</td><td>Buffay</td><td>Music</td><td>Singer</td><td>50000.00</td><td>2023-01-01</td><td>null</td><td>true</td></tr><tr><td>1011</td><td>Alex</td><td>Taylor</td><td>Marketing</td><td>Marketing Analyst</td><td>58000.00</td><td>2024-06-10</td><td>null</td><td>true</td></tr></tbody></table></div>"
      ]
     },
     "metadata": {
      "application/vnd.databricks.v1+output": {
       "addedWidgets": {},
       "aggData": [],
       "aggError": "",
       "aggOverflow": false,
       "aggSchema": [],
       "aggSeriesLimitReached": false,
       "aggType": "",
       "arguments": {},
       "columnCustomDisplayInfos": {},
       "data": [
        [
         1001,
         "John",
         "Doe",
         "Engineering",
         "Senior Engineer",
         "90000.00",
         "2023-01-01",
         "2024-06-10",
         false
        ],
        [
         1002,
         "Jane",
         "Smith",
         "Marketing",
         "Manager",
         "75000.00",
         "2023-01-01",
         "2024-06-10",
         false
        ],
        [
         1003,
         "Emily",
         "Jones",
         "HR",
         "Analyst",
         "65000.00",
         "2023-01-01",
         null,
         true
        ],
        [
         1004,
         "Michael",
         "Brown",
         "IT",
         "Developer",
         "72000.00",
         "2023-01-01",
         null,
         true
        ],
        [
         1005,
         "Rachel",
         "Green",
         "Finance",
         "Accountant",
         "58000.00",
         "2023-01-01",
         null,
         true
        ],
        [
         1006,
         "Ross",
         "Geller",
         "Science",
         "Researcher",
         "76000.00",
         "2023-01-01",
         null,
         true
        ],
        [
         1007,
         "Monica",
         "Geller",
         "Culinary",
         "Chef",
         "62000.00",
         "2023-01-01",
         null,
         true
        ],
        [
         1008,
         "Joey",
         "Tribbiani",
         "Acting",
         "Actor",
         "55000.00",
         "2023-01-01",
         null,
         true
        ],
        [
         1009,
         "Chandler",
         "Bing",
         "Advertising",
         "Copywriter",
         "64000.00",
         "2023-01-01",
         null,
         true
        ],
        [
         1010,
         "Phoebe",
         "Buffay",
         "Music",
         "Singer",
         "50000.00",
         "2023-01-01",
         null,
         true
        ],
        [
         1011,
         "Alex",
         "Taylor",
         "Marketing",
         "Marketing Analyst",
         "58000.00",
         "2024-06-10",
         null,
         true
        ]
       ],
       "datasetInfos": [],
       "dbfsResultPath": null,
       "isJsonSchema": true,
       "metadata": {},
       "overflow": false,
       "plotOptions": {
        "customPlotOptions": {},
        "displayType": "table",
        "pivotAggregation": null,
        "pivotColumns": null,
        "xColumns": null,
        "yColumns": null
       },
       "removedWidgets": [],
       "schema": [
        {
         "metadata": "{}",
         "name": "EmployeeID",
         "type": "\"integer\""
        },
        {
         "metadata": "{}",
         "name": "FirstName",
         "type": "\"string\""
        },
        {
         "metadata": "{}",
         "name": "LastName",
         "type": "\"string\""
        },
        {
         "metadata": "{}",
         "name": "Department",
         "type": "\"string\""
        },
        {
         "metadata": "{}",
         "name": "Title",
         "type": "\"string\""
        },
        {
         "metadata": "{}",
         "name": "Salary",
         "type": "\"decimal(10,2)\""
        },
        {
         "metadata": "{}",
         "name": "EffectiveDate",
         "type": "\"date\""
        },
        {
         "metadata": "{}",
         "name": "EndDate",
         "type": "\"date\""
        },
        {
         "metadata": "{}",
         "name": "IsCurrent",
         "type": "\"boolean\""
        }
       ],
       "type": "table"
      }
     },
     "output_type": "display_data"
    }
   ],
   "source": [
    "%sql\n",
    "select * from employees \n",
    "order by EmployeeID;"
   ]
  },
  {
   "cell_type": "code",
   "execution_count": 0,
   "metadata": {
    "application/vnd.databricks.v1+cell": {
     "cellMetadata": {
      "byteLimit": 2048000,
      "rowLimit": 10000
     },
     "inputWidgets": {},
     "nuid": "94803e16-e8e7-47af-b8a4-c9e7ebff6625",
     "showTitle": false,
     "title": ""
    }
   },
   "outputs": [
    {
     "output_type": "stream",
     "name": "stdout",
     "output_type": "stream",
     "text": [
      "+----------+---------+---------+-----------+-----------------+--------+-------------+----------+---------+\n|EmployeeID|FirstName| LastName| Department|            Title|  Salary|EffectiveDate|   EndDate|IsCurrent|\n+----------+---------+---------+-----------+-----------------+--------+-------------+----------+---------+\n|      1003|    Emily|    Jones|         HR|          Analyst|65000.00|   2023-01-01|      null|     true|\n|      1004|  Michael|    Brown|         IT|        Developer|72000.00|   2023-01-01|      null|     true|\n|      1005|   Rachel|    Green|    Finance|       Accountant|58000.00|   2023-01-01|      null|     true|\n|      1006|     Ross|   Geller|    Science|       Researcher|76000.00|   2023-01-01|      null|     true|\n|      1007|   Monica|   Geller|   Culinary|             Chef|62000.00|   2023-01-01|      null|     true|\n|      1008|     Joey|Tribbiani|     Acting|            Actor|55000.00|   2023-01-01|      null|     true|\n|      1009| Chandler|     Bing|Advertising|       Copywriter|64000.00|   2023-01-01|      null|     true|\n|      1010|   Phoebe|   Buffay|      Music|           Singer|50000.00|   2023-01-01|      null|     true|\n|      1001|     John|      Doe|Engineering|  Senior Engineer|90000.00|   2023-01-01|2024-06-10|    false|\n|      1011|     Alex|   Taylor|  Marketing|Marketing Analyst|58000.00|   2024-06-10|      null|     true|\n|      1002|     Jane|    Smith|  Marketing|          Manager|75000.00|   2023-01-01|2024-06-10|    false|\n+----------+---------+---------+-----------+-----------------+--------+-------------+----------+---------+\n\n"
     ]
    }
   ],
   "source": [
    "target_df.show()"
   ]
  },
  {
   "cell_type": "code",
   "execution_count": 0,
   "metadata": {
    "application/vnd.databricks.v1+cell": {
     "cellMetadata": {
      "byteLimit": 2048000,
      "rowLimit": 10000
     },
     "inputWidgets": {},
     "nuid": "6eae5be6-d906-4f02-8139-f0bb23dd8d8e",
     "showTitle": false,
     "title": ""
    }
   },
   "outputs": [
    {
     "output_type": "stream",
     "name": "stdout",
     "output_type": "stream",
     "text": [
      "[1001, 1002]\n"
     ]
    }
   ],
   "source": [
    "emp_false_list_=target_df.select('EmployeeID').filter(col('IsCurrent')==\"false\").distinct().collect()\n",
    "emp_false_list_ = [row['EmployeeID'] for row in emp_false_list_] \n",
    "print(employee_ids_list)"
   ]
  },
  {
   "cell_type": "code",
   "execution_count": 0,
   "metadata": {
    "application/vnd.databricks.v1+cell": {
     "cellMetadata": {
      "byteLimit": 2048000,
      "rowLimit": 10000
     },
     "inputWidgets": {},
     "nuid": "0af5a96c-5633-4573-9c4c-580ca189295a",
     "showTitle": false,
     "title": ""
    }
   },
   "outputs": [
    {
     "output_type": "stream",
     "name": "stdout",
     "output_type": "stream",
     "text": [
      "+----------+---------+--------+-----------+-------------+-------+\n|EmployeeID|FirstName|LastName| Department|        Title| Salary|\n+----------+---------+--------+-----------+-------------+-------+\n|      1001|     John|     Doe|Engineering|Lead Engineer|95000.0|\n|      1002|     Jane|   Smith|      Sales|Sales Manager|78000.0|\n+----------+---------+--------+-----------+-------------+-------+\n\n"
     ]
    }
   ],
   "source": [
    "#filtering the src table which doesnt contain the values as of employee_ids_list \n",
    "\n",
    "filtered_src_table=emp_df.filter(col('EmployeeID').isin(employee_ids_list))\n",
    "filtered_src_table.show() \n",
    "\n"
   ]
  },
  {
   "cell_type": "code",
   "execution_count": 0,
   "metadata": {
    "application/vnd.databricks.v1+cell": {
     "cellMetadata": {
      "byteLimit": 2048000,
      "rowLimit": 10000
     },
     "inputWidgets": {},
     "nuid": "4767c258-98f3-41f0-8093-1c62da5e7ca4",
     "showTitle": false,
     "title": ""
    }
   },
   "outputs": [],
   "source": [
    "filtered_src_table.createOrReplaceTempView('filtered_src_table')"
   ]
  },
  {
   "cell_type": "code",
   "execution_count": 0,
   "metadata": {
    "application/vnd.databricks.v1+cell": {
     "cellMetadata": {
      "byteLimit": 2048000,
      "implicitDf": true,
      "rowLimit": 10000
     },
     "inputWidgets": {},
     "nuid": "40e1764d-ec26-4e47-9177-4c88d600bf59",
     "showTitle": false,
     "title": ""
    }
   },
   "outputs": [
    {
     "output_type": "display_data",
     "data": {
      "text/html": [
       "<style scoped>\n",
       "  .table-result-container {\n",
       "    max-height: 300px;\n",
       "    overflow: auto;\n",
       "  }\n",
       "  table, th, td {\n",
       "    border: 1px solid black;\n",
       "    border-collapse: collapse;\n",
       "  }\n",
       "  th, td {\n",
       "    padding: 5px;\n",
       "  }\n",
       "  th {\n",
       "    text-align: left;\n",
       "  }\n",
       "</style><div class='table-result-container'><table class='table-result'><thead style='background-color: white'><tr><th>num_affected_rows</th><th>num_inserted_rows</th></tr></thead><tbody><tr><td>2</td><td>2</td></tr></tbody></table></div>"
      ]
     },
     "metadata": {
      "application/vnd.databricks.v1+output": {
       "addedWidgets": {},
       "aggData": [],
       "aggError": "",
       "aggOverflow": false,
       "aggSchema": [],
       "aggSeriesLimitReached": false,
       "aggType": "",
       "arguments": {},
       "columnCustomDisplayInfos": {},
       "data": [
        [
         2,
         2
        ]
       ],
       "datasetInfos": [],
       "dbfsResultPath": null,
       "isJsonSchema": true,
       "metadata": {},
       "overflow": false,
       "plotOptions": {
        "customPlotOptions": {},
        "displayType": "table",
        "pivotAggregation": null,
        "pivotColumns": null,
        "xColumns": null,
        "yColumns": null
       },
       "removedWidgets": [],
       "schema": [
        {
         "metadata": "{}",
         "name": "num_affected_rows",
         "type": "\"long\""
        },
        {
         "metadata": "{}",
         "name": "num_inserted_rows",
         "type": "\"long\""
        }
       ],
       "type": "table"
      }
     },
     "output_type": "display_data"
    }
   ],
   "source": [
    "\n",
    "%sql\n",
    "\n",
    "insert into employees \n",
    "select f.EmployeeID,f.FirstName,f.LastName,f.Department,f.Title,f.Salary,current_date(),null,\"true\"\n",
    "from filtered_src_table as f"
   ]
  },
  {
   "cell_type": "code",
   "execution_count": 0,
   "metadata": {
    "application/vnd.databricks.v1+cell": {
     "cellMetadata": {
      "byteLimit": 2048000,
      "implicitDf": true,
      "rowLimit": 10000
     },
     "inputWidgets": {},
     "nuid": "9eb9db20-fdf1-460b-b068-dca3eae37087",
     "showTitle": false,
     "title": ""
    }
   },
   "outputs": [
    {
     "output_type": "display_data",
     "data": {
      "text/html": [
       "<style scoped>\n",
       "  .table-result-container {\n",
       "    max-height: 300px;\n",
       "    overflow: auto;\n",
       "  }\n",
       "  table, th, td {\n",
       "    border: 1px solid black;\n",
       "    border-collapse: collapse;\n",
       "  }\n",
       "  th, td {\n",
       "    padding: 5px;\n",
       "  }\n",
       "  th {\n",
       "    text-align: left;\n",
       "  }\n",
       "</style><div class='table-result-container'><table class='table-result'><thead style='background-color: white'><tr><th>EmployeeID</th><th>FirstName</th><th>LastName</th><th>Department</th><th>Title</th><th>Salary</th><th>EffectiveDate</th><th>EndDate</th><th>IsCurrent</th></tr></thead><tbody><tr><td>1001</td><td>John</td><td>Doe</td><td>Engineering</td><td>Senior Engineer</td><td>90000.00</td><td>2023-01-01</td><td>2024-06-10</td><td>false</td></tr><tr><td>1001</td><td>John</td><td>Doe</td><td>Engineering</td><td>Lead Engineer</td><td>95000.00</td><td>2024-06-10</td><td>null</td><td>true</td></tr><tr><td>1002</td><td>Jane</td><td>Smith</td><td>Marketing</td><td>Manager</td><td>75000.00</td><td>2023-01-01</td><td>2024-06-10</td><td>false</td></tr><tr><td>1002</td><td>Jane</td><td>Smith</td><td>Sales</td><td>Sales Manager</td><td>78000.00</td><td>2024-06-10</td><td>null</td><td>true</td></tr><tr><td>1003</td><td>Emily</td><td>Jones</td><td>HR</td><td>Analyst</td><td>65000.00</td><td>2023-01-01</td><td>null</td><td>true</td></tr><tr><td>1004</td><td>Michael</td><td>Brown</td><td>IT</td><td>Developer</td><td>72000.00</td><td>2023-01-01</td><td>null</td><td>true</td></tr><tr><td>1005</td><td>Rachel</td><td>Green</td><td>Finance</td><td>Accountant</td><td>58000.00</td><td>2023-01-01</td><td>null</td><td>true</td></tr><tr><td>1006</td><td>Ross</td><td>Geller</td><td>Science</td><td>Researcher</td><td>76000.00</td><td>2023-01-01</td><td>null</td><td>true</td></tr><tr><td>1007</td><td>Monica</td><td>Geller</td><td>Culinary</td><td>Chef</td><td>62000.00</td><td>2023-01-01</td><td>null</td><td>true</td></tr><tr><td>1008</td><td>Joey</td><td>Tribbiani</td><td>Acting</td><td>Actor</td><td>55000.00</td><td>2023-01-01</td><td>null</td><td>true</td></tr><tr><td>1009</td><td>Chandler</td><td>Bing</td><td>Advertising</td><td>Copywriter</td><td>64000.00</td><td>2023-01-01</td><td>null</td><td>true</td></tr><tr><td>1010</td><td>Phoebe</td><td>Buffay</td><td>Music</td><td>Singer</td><td>50000.00</td><td>2023-01-01</td><td>null</td><td>true</td></tr><tr><td>1011</td><td>Alex</td><td>Taylor</td><td>Marketing</td><td>Marketing Analyst</td><td>58000.00</td><td>2024-06-10</td><td>null</td><td>true</td></tr></tbody></table></div>"
      ]
     },
     "metadata": {
      "application/vnd.databricks.v1+output": {
       "addedWidgets": {},
       "aggData": [],
       "aggError": "",
       "aggOverflow": false,
       "aggSchema": [],
       "aggSeriesLimitReached": false,
       "aggType": "",
       "arguments": {},
       "columnCustomDisplayInfos": {},
       "data": [
        [
         1001,
         "John",
         "Doe",
         "Engineering",
         "Senior Engineer",
         "90000.00",
         "2023-01-01",
         "2024-06-10",
         false
        ],
        [
         1001,
         "John",
         "Doe",
         "Engineering",
         "Lead Engineer",
         "95000.00",
         "2024-06-10",
         null,
         true
        ],
        [
         1002,
         "Jane",
         "Smith",
         "Marketing",
         "Manager",
         "75000.00",
         "2023-01-01",
         "2024-06-10",
         false
        ],
        [
         1002,
         "Jane",
         "Smith",
         "Sales",
         "Sales Manager",
         "78000.00",
         "2024-06-10",
         null,
         true
        ],
        [
         1003,
         "Emily",
         "Jones",
         "HR",
         "Analyst",
         "65000.00",
         "2023-01-01",
         null,
         true
        ],
        [
         1004,
         "Michael",
         "Brown",
         "IT",
         "Developer",
         "72000.00",
         "2023-01-01",
         null,
         true
        ],
        [
         1005,
         "Rachel",
         "Green",
         "Finance",
         "Accountant",
         "58000.00",
         "2023-01-01",
         null,
         true
        ],
        [
         1006,
         "Ross",
         "Geller",
         "Science",
         "Researcher",
         "76000.00",
         "2023-01-01",
         null,
         true
        ],
        [
         1007,
         "Monica",
         "Geller",
         "Culinary",
         "Chef",
         "62000.00",
         "2023-01-01",
         null,
         true
        ],
        [
         1008,
         "Joey",
         "Tribbiani",
         "Acting",
         "Actor",
         "55000.00",
         "2023-01-01",
         null,
         true
        ],
        [
         1009,
         "Chandler",
         "Bing",
         "Advertising",
         "Copywriter",
         "64000.00",
         "2023-01-01",
         null,
         true
        ],
        [
         1010,
         "Phoebe",
         "Buffay",
         "Music",
         "Singer",
         "50000.00",
         "2023-01-01",
         null,
         true
        ],
        [
         1011,
         "Alex",
         "Taylor",
         "Marketing",
         "Marketing Analyst",
         "58000.00",
         "2024-06-10",
         null,
         true
        ]
       ],
       "datasetInfos": [],
       "dbfsResultPath": null,
       "isJsonSchema": true,
       "metadata": {},
       "overflow": false,
       "plotOptions": {
        "customPlotOptions": {},
        "displayType": "table",
        "pivotAggregation": null,
        "pivotColumns": null,
        "xColumns": null,
        "yColumns": null
       },
       "removedWidgets": [],
       "schema": [
        {
         "metadata": "{}",
         "name": "EmployeeID",
         "type": "\"integer\""
        },
        {
         "metadata": "{}",
         "name": "FirstName",
         "type": "\"string\""
        },
        {
         "metadata": "{}",
         "name": "LastName",
         "type": "\"string\""
        },
        {
         "metadata": "{}",
         "name": "Department",
         "type": "\"string\""
        },
        {
         "metadata": "{}",
         "name": "Title",
         "type": "\"string\""
        },
        {
         "metadata": "{}",
         "name": "Salary",
         "type": "\"decimal(10,2)\""
        },
        {
         "metadata": "{}",
         "name": "EffectiveDate",
         "type": "\"date\""
        },
        {
         "metadata": "{}",
         "name": "EndDate",
         "type": "\"date\""
        },
        {
         "metadata": "{}",
         "name": "IsCurrent",
         "type": "\"boolean\""
        }
       ],
       "type": "table"
      }
     },
     "output_type": "display_data"
    }
   ],
   "source": [
    "%sql \n",
    "\n",
    "select * from employees\n",
    "order by EmployeeID asc,EffectiveDate asc"
   ]
  },
  {
   "cell_type": "code",
   "execution_count": 0,
   "metadata": {
    "application/vnd.databricks.v1+cell": {
     "cellMetadata": {},
     "inputWidgets": {},
     "nuid": "da17fb7c-ea2e-4e8c-80b3-3d83cdf32876",
     "showTitle": false,
     "title": ""
    }
   },
   "outputs": [],
   "source": []
  }
 ],
 "metadata": {
  "application/vnd.databricks.v1+notebook": {
   "dashboards": [],
   "environmentMetadata": null,
   "language": "python",
   "notebookMetadata": {
    "mostRecentlyExecutedCommandWithImplicitDF": {
     "commandId": 3128984471938776,
     "dataframes": [
      "_sqldf"
     ]
    },
    "pythonIndentUnit": 4
   },
   "notebookName": "7-SCD Type 2",
   "widgets": {}
  }
 },
 "nbformat": 4,
 "nbformat_minor": 0
}
